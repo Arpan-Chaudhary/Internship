{
 "cells": [
  {
   "cell_type": "code",
   "execution_count": 1,
   "id": "282a1d33",
   "metadata": {},
   "outputs": [],
   "source": [
    "import pandas as pd\n",
    "import selenium\n",
    "from selenium import webdriver\n",
    "from selenium.webdriver.common.by import By\n",
    "\n",
    "import warnings\n",
    "warnings.filterwarnings('ignore')\n",
    "\n",
    "import time"
   ]
  },
  {
   "cell_type": "code",
   "execution_count": 2,
   "id": "39417ca9",
   "metadata": {},
   "outputs": [
    {
     "data": {
      "text/plain": [
       "<selenium.webdriver.chrome.webdriver.WebDriver (session=\"ddd2c30514f4ff1aedd70295c86b459e\")>"
      ]
     },
     "execution_count": 2,
     "metadata": {},
     "output_type": "execute_result"
    }
   ],
   "source": [
    "driver = webdriver.Chrome(r'C:\\Users\\user\\chromedriver.exe')\n",
    "\n",
    "driver"
   ]
  },
  {
   "cell_type": "code",
   "execution_count": 3,
   "id": "46451725",
   "metadata": {},
   "outputs": [],
   "source": [
    "url = 'https://www.olx.com/'\n",
    "\n",
    "driver.get(url)"
   ]
  },
  {
   "cell_type": "code",
   "execution_count": null,
   "id": "3efc0962",
   "metadata": {},
   "outputs": [],
   "source": []
  },
  {
   "cell_type": "code",
   "execution_count": 4,
   "id": "d53f74ac",
   "metadata": {},
   "outputs": [],
   "source": [
    "cars_click = driver.find_element(By.XPATH,'/html/body/div/div/div[1]/div/div/div[1]/div[2]/div[1]/a')"
   ]
  },
  {
   "cell_type": "code",
   "execution_count": 5,
   "id": "c26cb520",
   "metadata": {},
   "outputs": [],
   "source": [
    "cars_click.click()"
   ]
  },
  {
   "cell_type": "code",
   "execution_count": null,
   "id": "4c3ef367",
   "metadata": {},
   "outputs": [],
   "source": []
  },
  {
   "cell_type": "code",
   "execution_count": 6,
   "id": "d5cda8c4",
   "metadata": {},
   "outputs": [],
   "source": [
    "name = []\n",
    "\n",
    "for i in driver.find_elements(By.XPATH,'//div[@class=\"_2Gr10\"]'):\n",
    "    name.append(i.text)"
   ]
  },
  {
   "cell_type": "code",
   "execution_count": 7,
   "id": "3bfcf19e",
   "metadata": {},
   "outputs": [
    {
     "data": {
      "text/plain": [
       "['Tata Tiago',\n",
       " 'Honda Amaze',\n",
       " 'Hyundai Creta',\n",
       " 'Maruti Suzuki Ritz',\n",
       " 'Maruti Suzuki Vitara-Brezza',\n",
       " 'Maruti Suzuki Swift-Dzire',\n",
       " 'Mahindra KUV 100',\n",
       " 'Maruti Suzuki Alto 800',\n",
       " 'Hyundai Santro Xing',\n",
       " 'Maruti Suzuki Swift-Dzire',\n",
       " 'Audi Q3',\n",
       " 'Toyota Innova',\n",
       " 'Maruti Suzuki Swift',\n",
       " 'Kia Sonet',\n",
       " 'Mercedes-Benz GLC Class',\n",
       " 'Maruti Suzuki Ciaz',\n",
       " 'Mercedes-Benz E-Class',\n",
       " 'Mahindra XUV500',\n",
       " 'Mahindra Scorpio',\n",
       " 'Hyundai Grand i10',\n",
       " 'Ford Aspire',\n",
       " 'Maruti Suzuki Ertiga',\n",
       " 'Hyundai Creta',\n",
       " 'Hyundai Verna',\n",
       " 'Honda Mobilio',\n",
       " 'Maruti Suzuki Celerio',\n",
       " 'Hyundai i20',\n",
       " 'Honda City',\n",
       " 'Honda Amaze',\n",
       " 'Maruti Suzuki Wagon R',\n",
       " 'Toyota Corolla Altis',\n",
       " 'Ford Ecosport',\n",
       " 'Mahindra TUV 300',\n",
       " 'Honda Amaze',\n",
       " 'Maruti Suzuki Alto-800',\n",
       " 'Maruti Suzuki Ertiga',\n",
       " 'Toyota Innova',\n",
       " 'Maruti Suzuki Swift',\n",
       " 'Tata Zest',\n",
       " 'Volkswagen VentoTest']"
      ]
     },
     "execution_count": 7,
     "metadata": {},
     "output_type": "execute_result"
    }
   ],
   "source": [
    "name"
   ]
  },
  {
   "cell_type": "code",
   "execution_count": 8,
   "id": "57e323af",
   "metadata": {},
   "outputs": [],
   "source": [
    "place = []\n",
    "\n",
    "for i in driver.find_elements(By.XPATH,'//div[@class=\"_3VRSm\"]'):\n",
    "    place.append(i.text)"
   ]
  },
  {
   "cell_type": "code",
   "execution_count": 9,
   "id": "79c246ad",
   "metadata": {},
   "outputs": [
    {
     "data": {
      "text/plain": [
       "['Rohini Sector 7\\nJan 20',\n",
       " 'Rohini Sector 7\\nMay 28',\n",
       " 'Tilak Nagar\\nJan 14',\n",
       " 'Kamaruddin Nagar\\nToday',\n",
       " 'Pitampura\\nToday',\n",
       " 'Paschim Vihar\\nToday',\n",
       " 'Pitampura\\nToday',\n",
       " 'Pitampura\\nToday',\n",
       " 'Pitampura\\nToday',\n",
       " 'Pitampura\\nToday',\n",
       " 'Rajouri Garden\\nToday',\n",
       " 'Hari Nagar\\nToday',\n",
       " 'Tilak Nagar\\nToday',\n",
       " 'Rajouri Garden\\nToday',\n",
       " 'Rajouri Garden\\nToday',\n",
       " 'Rajouri Garden\\nToday',\n",
       " 'Rajouri Garden\\nToday',\n",
       " 'Rajouri Garden\\nToday',\n",
       " 'Rajouri Garden\\nToday',\n",
       " 'Ramesh Nagar\\nToday',\n",
       " 'Rohini Sector 7\\nJan 22',\n",
       " 'Rajouri Garden\\n6 days ago',\n",
       " 'Jawalaheri\\n5 days ago',\n",
       " 'Punjabi Bagh West\\nToday',\n",
       " 'Pitampura\\nToday',\n",
       " 'Pitampura\\nToday',\n",
       " 'Rajouri Garden\\nToday',\n",
       " 'Rajouri Garden\\nToday',\n",
       " 'Pitampura\\nToday',\n",
       " 'Pitampura\\nToday',\n",
       " 'Paschim Vihar\\nToday',\n",
       " 'Paschim Vihar\\nToday',\n",
       " 'Pitampura\\nToday',\n",
       " 'Paschim Vihar\\nToday',\n",
       " 'Paschim Vihar\\nToday',\n",
       " 'Paschim Vihar\\nToday',\n",
       " 'Paschim Vihar\\nToday',\n",
       " 'Paschim Vihar\\nToday',\n",
       " 'Paschim Vihar\\nToday',\n",
       " 'Paschim Vihar\\nToday']"
      ]
     },
     "execution_count": 9,
     "metadata": {},
     "output_type": "execute_result"
    }
   ],
   "source": [
    "place"
   ]
  },
  {
   "cell_type": "code",
   "execution_count": 10,
   "id": "1acfe44f",
   "metadata": {},
   "outputs": [],
   "source": [
    "kms = []\n",
    "\n",
    "for i in driver.find_elements(By.XPATH,'//div[@class=\"_21gnE\"]'):\n",
    "    kms.append(i.text)"
   ]
  },
  {
   "cell_type": "code",
   "execution_count": 11,
   "id": "0986be0c",
   "metadata": {},
   "outputs": [
    {
     "data": {
      "text/plain": [
       "['2017 - 52,000 km',\n",
       " '2016 - 55000.0 km',\n",
       " '2018 - 43,950 km',\n",
       " '2011 - 110,000 km',\n",
       " '2018 - 32,500 km',\n",
       " '2009 - 55,000 km',\n",
       " '2016 - 65000.0 km',\n",
       " '2013 - 68000.0 km',\n",
       " '2011 - 58,000 km',\n",
       " '2014 - 68,000 km',\n",
       " '2013 - 45,000 km',\n",
       " '2009 - 85,000 km',\n",
       " '2013 - 69000.0 km',\n",
       " '2021 - 20000.0 km',\n",
       " '2016 - 53000.0 km',\n",
       " '2017 - 50000.0 km',\n",
       " '2016 - 32000.0 km',\n",
       " '2017 - 70000.0 km',\n",
       " '2013 - 95000.0 km',\n",
       " '2015 - 51000.0 km',\n",
       " '2016 - 53,000 km',\n",
       " '2016 - 53000.0 km',\n",
       " '2019 - 28,000 km',\n",
       " '2017 - 53000.0 km',\n",
       " '2015 - 65,000 km',\n",
       " '2016 - 56,000 km',\n",
       " '2012 - 75,000 km',\n",
       " '2016 - 63000.0 km',\n",
       " '2013 - 56000.0 km',\n",
       " '2016 - 61000.0 km',\n",
       " '2009 - 63,000 km',\n",
       " '2019 - 38,000 km',\n",
       " '2017 - 70000.0 km',\n",
       " '2016 - 64,000 km',\n",
       " '2013 - 57,000 km',\n",
       " '2013 - 63,000 km',\n",
       " '2013 - 78,000 km',\n",
       " '2015 - 54,000 km',\n",
       " '2015 - 62,000 km',\n",
       " '2015 - 48,000 km']"
      ]
     },
     "execution_count": 11,
     "metadata": {},
     "output_type": "execute_result"
    }
   ],
   "source": [
    "kms"
   ]
  },
  {
   "cell_type": "code",
   "execution_count": 12,
   "id": "a1bc94b1",
   "metadata": {},
   "outputs": [],
   "source": [
    "war = []\n",
    "\n",
    "for i in driver.find_elements(By.XPATH,'//div[@class=\"_2SZA5\"]'):\n",
    "    war.append(i.text)"
   ]
  },
  {
   "cell_type": "code",
   "execution_count": 13,
   "id": "f3965c22",
   "metadata": {},
   "outputs": [
    {
     "data": {
      "text/plain": [
       "['WARRANTY',\n",
       " '',\n",
       " '',\n",
       " '',\n",
       " 'WARRANTY',\n",
       " '',\n",
       " '',\n",
       " '',\n",
       " 'VERIFIED SELLER',\n",
       " 'VERIFIED SELLER',\n",
       " 'VERIFIED SELLER',\n",
       " 'VERIFIED SELLER',\n",
       " 'VERIFIED SELLER',\n",
       " 'VERIFIED SELLER',\n",
       " 'VERIFIED SELLER',\n",
       " 'VERIFIED SELLER',\n",
       " 'VERIFIED SELLER',\n",
       " 'VERIFIED SELLER',\n",
       " 'WARRANTY',\n",
       " '',\n",
       " '',\n",
       " '',\n",
       " 'VERIFIED SELLER',\n",
       " 'VERIFIED SELLER',\n",
       " 'VERIFIED SELLER',\n",
       " 'VERIFIED SELLER',\n",
       " 'VERIFIED SELLER',\n",
       " 'VERIFIED SELLER']"
      ]
     },
     "execution_count": 13,
     "metadata": {},
     "output_type": "execute_result"
    }
   ],
   "source": [
    "war"
   ]
  },
  {
   "cell_type": "code",
   "execution_count": null,
   "id": "83006a43",
   "metadata": {},
   "outputs": [],
   "source": []
  },
  {
   "cell_type": "code",
   "execution_count": 14,
   "id": "10523731",
   "metadata": {},
   "outputs": [],
   "source": [
    "price = []\n",
    "\n",
    "for i in driver.find_elements(By.XPATH,'//span[@class=\"_1zgtX\"]'):\n",
    "    price.append(i.text)"
   ]
  },
  {
   "cell_type": "code",
   "execution_count": 15,
   "id": "de149ac6",
   "metadata": {},
   "outputs": [
    {
     "data": {
      "text/plain": [
       "['₹ 3,35,000',\n",
       " '₹ 4,00,000',\n",
       " '₹ 8,99,000',\n",
       " '₹ 2,00,000',\n",
       " '₹ 7,39,000',\n",
       " '₹ 1,55,000',\n",
       " '₹ 2,95,000',\n",
       " '₹ 2,10,000',\n",
       " '₹ 1,65,000',\n",
       " '₹ 3,25,000',\n",
       " '₹ 10,90,000',\n",
       " '₹ 4,10,000',\n",
       " '₹ 3,55,000',\n",
       " '₹ 10,75,000',\n",
       " '₹ 32,80,000',\n",
       " '₹ 6,50,000',\n",
       " '₹ 27,50,000',\n",
       " '₹ 12,25,001',\n",
       " '₹ 4,75,000',\n",
       " '₹ 4,55,000',\n",
       " '₹ 3,40,000',\n",
       " '₹ 7,25,000',\n",
       " '₹ 10,65,000',\n",
       " '₹ 8,65,000',\n",
       " '₹ 4,30,000',\n",
       " '₹ 4,35,000',\n",
       " '₹ 2,25,000',\n",
       " '₹ 6,45,000',\n",
       " '₹ 3,40,000',\n",
       " '₹ 4,00,000',\n",
       " '₹ 2,35,000',\n",
       " '₹ 7,35,000',\n",
       " '₹ 6,10,000',\n",
       " '₹ 3,85,000',\n",
       " '₹ 1,95,000',\n",
       " '₹ 4,05,000',\n",
       " '₹ 6,10,000',\n",
       " '₹ 3,30,000',\n",
       " '₹ 2,65,000',\n",
       " '₹ 5,30,000']"
      ]
     },
     "execution_count": 15,
     "metadata": {},
     "output_type": "execute_result"
    }
   ],
   "source": [
    "price"
   ]
  },
  {
   "cell_type": "code",
   "execution_count": null,
   "id": "e182f3cb",
   "metadata": {},
   "outputs": [],
   "source": []
  },
  {
   "cell_type": "code",
   "execution_count": null,
   "id": "31d633be",
   "metadata": {},
   "outputs": [],
   "source": []
  },
  {
   "cell_type": "code",
   "execution_count": 16,
   "id": "1c39d461",
   "metadata": {},
   "outputs": [],
   "source": [
    "brand_check = driver.find_element(By.XPATH,'/html/body/div/div/main/div/div/section/div/div[2]/div[5]/div[1]/div/div[3]/div[2]/div[2]/div[3]/div[2]/div/div[1]/div/input')\n",
    "brand_check.click()"
   ]
  },
  {
   "cell_type": "code",
   "execution_count": null,
   "id": "bf3e665e",
   "metadata": {},
   "outputs": [],
   "source": []
  },
  {
   "cell_type": "code",
   "execution_count": 18,
   "id": "12658430",
   "metadata": {},
   "outputs": [],
   "source": [
    "names1 = []\n",
    "\n",
    "for i in driver.find_elements(By.XPATH,'//div[@class=\"_2Gr10\"]'):\n",
    "    names1.append(i.text)"
   ]
  },
  {
   "cell_type": "code",
   "execution_count": 19,
   "id": "83aa8f58",
   "metadata": {},
   "outputs": [
    {
     "data": {
      "text/plain": [
       "['Maruti Suzuki Ertiga',\n",
       " 'Maruti Suzuki Vitara Brezza',\n",
       " 'Maruti Suzuki Ertiga',\n",
       " 'Maruti Suzuki Ritz',\n",
       " 'Maruti Suzuki Vitara-Brezza',\n",
       " 'Maruti Suzuki Swift-Dzire',\n",
       " 'Maruti Suzuki Alto 800',\n",
       " 'Maruti Suzuki Swift-Dzire',\n",
       " 'Maruti Suzuki Swift',\n",
       " 'Maruti Suzuki Ciaz',\n",
       " 'Maruti Suzuki Celerio',\n",
       " 'Maruti Suzuki Wagon R',\n",
       " 'Maruti Suzuki Alto-800',\n",
       " 'Maruti Suzuki Ertiga',\n",
       " 'Maruti Suzuki Swift',\n",
       " 'Maruti Suzuki Wagon-R-1-0',\n",
       " 'Maruti Suzuki Eeco',\n",
       " 'Maruti Suzuki Swift Dzire',\n",
       " 'Maruti Suzuki Swift-Dzire',\n",
       " 'Maruti Suzuki Alto 800',\n",
       " 'Maruti Suzuki Baleno',\n",
       " 'Maruti Suzuki Wagon R',\n",
       " 'Maruti Suzuki Swift Dzire',\n",
       " 'Maruti Suzuki Swift Dzire',\n",
       " 'Maruti Suzuki Swift',\n",
       " 'Maruti Suzuki Swift Dzire',\n",
       " 'Maruti Suzuki Swift',\n",
       " 'Maruti Suzuki Alto K10',\n",
       " 'Maruti Suzuki Wagon R 1.0',\n",
       " 'Maruti Suzuki Swift-Dzire',\n",
       " 'Maruti Suzuki Swift',\n",
       " 'Maruti Suzuki Wagon R 1.0',\n",
       " 'Maruti Suzuki Baleno',\n",
       " 'Maruti Suzuki Baleno',\n",
       " 'Maruti Suzuki Ignis',\n",
       " 'Maruti Suzuki Baleno',\n",
       " 'Maruti Suzuki Alto 800',\n",
       " 'Maruti Suzuki Swift-Dzire',\n",
       " 'Maruti Suzuki Wagon R',\n",
       " 'Maruti Suzuki Wagon-R']"
      ]
     },
     "execution_count": 19,
     "metadata": {},
     "output_type": "execute_result"
    }
   ],
   "source": [
    "names1"
   ]
  },
  {
   "cell_type": "code",
   "execution_count": 20,
   "id": "88f1662f",
   "metadata": {},
   "outputs": [],
   "source": [
    "place1 = []\n",
    "\n",
    "for i in driver.find_elements(By.XPATH,'//div[@class=\"_3VRSm\"]'):\n",
    "    place1.append(i.text)"
   ]
  },
  {
   "cell_type": "code",
   "execution_count": 21,
   "id": "8233efff",
   "metadata": {},
   "outputs": [
    {
     "data": {
      "text/plain": [
       "['Rohini Sector 7\\nDec 22',\n",
       " 'Jawalaheri\\nJan 12',\n",
       " 'Rohini Sector 7\\n5 days ago',\n",
       " 'Kamaruddin Nagar\\nToday',\n",
       " 'Pitampura\\nToday',\n",
       " 'Paschim Vihar\\nToday',\n",
       " 'Pitampura\\nToday',\n",
       " 'Pitampura\\nToday',\n",
       " 'Tilak Nagar\\nToday',\n",
       " 'Rajouri Garden\\nToday',\n",
       " 'Pitampura\\nToday',\n",
       " 'Pitampura\\nToday',\n",
       " 'Paschim Vihar\\nToday',\n",
       " 'Paschim Vihar\\nToday',\n",
       " 'Paschim Vihar\\nToday',\n",
       " 'Paschim Vihar\\nToday',\n",
       " 'Peera Garhi\\nToday',\n",
       " 'Peera Garhi\\nToday',\n",
       " 'Peera Garhi\\nToday',\n",
       " 'Pitampura\\nToday',\n",
       " 'Vikaspuri\\nNov 06',\n",
       " 'Paschim Vihar\\nDec 05',\n",
       " 'Paschimpuri\\nNov 18',\n",
       " 'Peera Garhi\\nToday',\n",
       " 'Peera Garhi\\nToday',\n",
       " 'Rajouri Garden\\nToday',\n",
       " 'Rajouri Garden\\nToday',\n",
       " 'Paschim Vihar\\nToday',\n",
       " 'Punjabi Bagh West\\nToday',\n",
       " 'Tilak Nagar\\nToday',\n",
       " 'Rajouri Garden\\nToday',\n",
       " 'Paschim Vihar\\nToday',\n",
       " 'Paschim Vihar\\nToday',\n",
       " 'Paschim Vihar\\nToday',\n",
       " 'Paschim Vihar\\nToday',\n",
       " 'Tilak Nagar\\nToday',\n",
       " 'Paschim Vihar\\nToday',\n",
       " 'Paschim Vihar\\nToday',\n",
       " 'Rajouri Garden\\nToday',\n",
       " 'Pitampura\\nToday']"
      ]
     },
     "execution_count": 21,
     "metadata": {},
     "output_type": "execute_result"
    }
   ],
   "source": [
    "place1"
   ]
  },
  {
   "cell_type": "code",
   "execution_count": 22,
   "id": "1d23773a",
   "metadata": {},
   "outputs": [],
   "source": [
    "kms1 = []\n",
    "\n",
    "for i in driver.find_elements(By.XPATH,'//div[@class=\"_21gnE\"]'):\n",
    "    kms1.append(i.text)"
   ]
  },
  {
   "cell_type": "code",
   "execution_count": 23,
   "id": "d20aa1c8",
   "metadata": {},
   "outputs": [
    {
     "data": {
      "text/plain": [
       "['2016 - 55000.0 km',\n",
       " '2017 - 70000.0 km',\n",
       " '2014 - 56,000 km',\n",
       " '2011 - 110,000 km',\n",
       " '2018 - 32,500 km',\n",
       " '2009 - 55,000 km',\n",
       " '2013 - 68000.0 km',\n",
       " '2014 - 68,000 km',\n",
       " '2013 - 69000.0 km',\n",
       " '2017 - 50000.0 km',\n",
       " '2016 - 56,000 km',\n",
       " '2016 - 61000.0 km',\n",
       " '2013 - 57,000 km',\n",
       " '2013 - 63,000 km',\n",
       " '2015 - 54,000 km',\n",
       " '2010 - 62,000 km',\n",
       " '2017 - 40000.0 km',\n",
       " '2015 - 52000.0 km',\n",
       " '2013 - 45,000 km',\n",
       " '2018 - 61000.0 km',\n",
       " '2018 - 15000.0 km',\n",
       " '2019 - 21000.0 km',\n",
       " '2018 - 38000.0 km',\n",
       " '2012 - 62000.0 km',\n",
       " '2013 - 59000.0 km',\n",
       " '2014 - 54000.0 km',\n",
       " '2018 - 32,500 km',\n",
       " '2010 - 65,000 km',\n",
       " '2019 - 38,000 km',\n",
       " '2012 - 69,000 km',\n",
       " '2017 - 67,000 km',\n",
       " '2013 - 53,000 km',\n",
       " '2017 - 59000.0 km',\n",
       " '2015 - 62580.0 km',\n",
       " '2018 - 48680.0 km',\n",
       " '2022 - 2,000 km',\n",
       " '2013 - 51000.0 km',\n",
       " '2019 - 50,000 km',\n",
       " '2019 - 49000.0 km',\n",
       " '2017 - 44,000 km']"
      ]
     },
     "execution_count": 23,
     "metadata": {},
     "output_type": "execute_result"
    }
   ],
   "source": [
    "kms1"
   ]
  },
  {
   "cell_type": "code",
   "execution_count": 24,
   "id": "7071e5e5",
   "metadata": {},
   "outputs": [],
   "source": [
    "war1 = []\n",
    "\n",
    "for i in driver.find_elements(By.XPATH,'//div[@class=\"_2SZA5\"]'):\n",
    "    war1.append(i.text)"
   ]
  },
  {
   "cell_type": "code",
   "execution_count": 25,
   "id": "7407ace6",
   "metadata": {},
   "outputs": [
    {
     "data": {
      "text/plain": [
       "['WARRANTY',\n",
       " '',\n",
       " '',\n",
       " '',\n",
       " 'VERIFIED SELLER',\n",
       " 'WARRANTY',\n",
       " '',\n",
       " '',\n",
       " '',\n",
       " 'VERIFIED SELLER',\n",
       " 'VERIFIED SELLER',\n",
       " 'VERIFIED SELLER',\n",
       " 'VERIFIED SELLER',\n",
       " 'VERIFIED SELLER',\n",
       " 'VERIFIED SELLER',\n",
       " 'VERIFIED SELLER',\n",
       " 'VERIFIED SELLER',\n",
       " 'VERIFIED SELLER',\n",
       " 'WARRANTY',\n",
       " '',\n",
       " '',\n",
       " '',\n",
       " 'VERIFIED SELLER',\n",
       " 'VERIFIED SELLER',\n",
       " 'VERIFIED SELLER',\n",
       " 'VERIFIED SELLER',\n",
       " 'VERIFIED SELLER',\n",
       " 'VERIFIED SELLER',\n",
       " 'VERIFIED SELLER',\n",
       " 'VERIFIED SELLER',\n",
       " 'VERIFIED SELLER']"
      ]
     },
     "execution_count": 25,
     "metadata": {},
     "output_type": "execute_result"
    }
   ],
   "source": [
    "war1"
   ]
  },
  {
   "cell_type": "code",
   "execution_count": 26,
   "id": "152cbb4c",
   "metadata": {},
   "outputs": [],
   "source": [
    "price1 = []\n",
    "\n",
    "for i in driver.find_elements(By.XPATH,'//span[@class=\"_1zgtX\"]'):\n",
    "    price1.append(i.text)"
   ]
  },
  {
   "cell_type": "code",
   "execution_count": 27,
   "id": "7bd651e5",
   "metadata": {},
   "outputs": [
    {
     "data": {
      "text/plain": [
       "['₹ 6,50,000',\n",
       " '₹ 6,65,000',\n",
       " '₹ 5,25,000',\n",
       " '₹ 2,00,000',\n",
       " '₹ 7,39,000',\n",
       " '₹ 1,55,000',\n",
       " '₹ 2,10,000',\n",
       " '₹ 3,25,000',\n",
       " '₹ 3,55,000',\n",
       " '₹ 6,50,000',\n",
       " '₹ 4,35,000',\n",
       " '₹ 4,00,000',\n",
       " '₹ 1,95,000',\n",
       " '₹ 4,05,000',\n",
       " '₹ 3,30,000',\n",
       " '₹ 1,70,000',\n",
       " '₹ 3,25,000',\n",
       " '₹ 4,25,000',\n",
       " '₹ 3,25,000',\n",
       " '₹ 3,00,000',\n",
       " '₹ 8,00,000',\n",
       " '₹ 5,85,000',\n",
       " '₹ 6,35,000',\n",
       " '₹ 2,95,000',\n",
       " '₹ 2,75,000',\n",
       " '₹ 3,75,000',\n",
       " '₹ 6,45,000',\n",
       " '₹ 1,55,000',\n",
       " '₹ 5,75,000',\n",
       " '₹ 2,99,900',\n",
       " '₹ 4,59,999',\n",
       " '₹ 2,49,000',\n",
       " '₹ 6,00,000',\n",
       " '₹ 5,75,000',\n",
       " '₹ 5,50,000',\n",
       " '₹ 11,11,111',\n",
       " '₹ 2,25,000',\n",
       " '₹ 6,25,000',\n",
       " '₹ 4,65,000',\n",
       " '₹ 4,00,000']"
      ]
     },
     "execution_count": 27,
     "metadata": {},
     "output_type": "execute_result"
    }
   ],
   "source": [
    "price1"
   ]
  },
  {
   "cell_type": "code",
   "execution_count": null,
   "id": "0ed1d4b0",
   "metadata": {},
   "outputs": [],
   "source": []
  },
  {
   "cell_type": "code",
   "execution_count": 28,
   "id": "a0ed82f9",
   "metadata": {},
   "outputs": [],
   "source": [
    "brand_check = driver.find_element(By.XPATH,'/html/body/div/div/main/div/div/section/div/div[2]/div[5]/div[1]/div/div[3]/div[2]/div[2]/div[3]/div[2]/div/div[2]/div/input')\n",
    "brand_check.click()"
   ]
  },
  {
   "cell_type": "code",
   "execution_count": null,
   "id": "3573bb63",
   "metadata": {},
   "outputs": [],
   "source": []
  },
  {
   "cell_type": "code",
   "execution_count": 29,
   "id": "90d03353",
   "metadata": {},
   "outputs": [],
   "source": [
    "names2 = []\n",
    "\n",
    "for i in driver.find_elements(By.XPATH,'//div[@class=\"_2Gr10\"]'):\n",
    "    names2.append(i.text)"
   ]
  },
  {
   "cell_type": "code",
   "execution_count": 30,
   "id": "ce85bfd4",
   "metadata": {},
   "outputs": [
    {
     "data": {
      "text/plain": [
       "['Hyundai Verna',\n",
       " 'Hyundai Elite i20',\n",
       " 'Hyundai i10',\n",
       " 'Hyundai Creta',\n",
       " 'Maruti Suzuki Ritz',\n",
       " 'Maruti Suzuki Vitara-Brezza',\n",
       " 'Maruti Suzuki Swift-Dzire',\n",
       " 'Maruti Suzuki Alto 800',\n",
       " 'Hyundai Santro Xing',\n",
       " 'Maruti Suzuki Swift-Dzire',\n",
       " 'Maruti Suzuki Swift',\n",
       " 'Maruti Suzuki Ciaz',\n",
       " 'Hyundai Grand i10',\n",
       " 'Hyundai Verna',\n",
       " 'Maruti Suzuki Celerio',\n",
       " 'Hyundai i20',\n",
       " 'Maruti Suzuki Wagon R',\n",
       " 'Maruti Suzuki Alto-800',\n",
       " 'Maruti Suzuki Ertiga',\n",
       " 'Maruti Suzuki Swift',\n",
       " 'Hyundai Elite i20',\n",
       " 'Maruti Suzuki Baleno',\n",
       " 'Hyundai i10',\n",
       " 'Maruti Suzuki Wagon-R-1-0',\n",
       " 'Hyundai Elite i20',\n",
       " 'Hyundai Accent',\n",
       " 'Maruti Suzuki Eeco',\n",
       " 'Maruti Suzuki Swift Dzire',\n",
       " 'Hyundai Santro Xing',\n",
       " 'Hyundai Elite i20',\n",
       " 'Maruti Suzuki Swift-Dzire',\n",
       " 'Hyundai Creta',\n",
       " 'Maruti Suzuki Alto 800',\n",
       " 'Hyundai i10',\n",
       " 'Maruti Suzuki Swift Dzire',\n",
       " 'Maruti Suzuki Swift',\n",
       " 'Maruti Suzuki Swift Dzire',\n",
       " 'Maruti Suzuki Swift',\n",
       " 'Hyundai i20',\n",
       " 'Maruti Suzuki Alto K10']"
      ]
     },
     "execution_count": 30,
     "metadata": {},
     "output_type": "execute_result"
    }
   ],
   "source": [
    "names2"
   ]
  },
  {
   "cell_type": "code",
   "execution_count": 31,
   "id": "f939077f",
   "metadata": {},
   "outputs": [],
   "source": [
    "place2 = []\n",
    "\n",
    "for i in driver.find_elements(By.XPATH,'//div[@class=\"_3VRSm\"]'):\n",
    "    place2.append(i.text)"
   ]
  },
  {
   "cell_type": "code",
   "execution_count": 32,
   "id": "5ca9cce3",
   "metadata": {},
   "outputs": [
    {
     "data": {
      "text/plain": [
       "['Nangloi\\nJan 18',\n",
       " 'Punjabi Bagh West\\nJan 04',\n",
       " 'Hari Nagar\\nJan 19',\n",
       " 'Ramesh Nagar\\nToday',\n",
       " 'Kamaruddin Nagar\\nToday',\n",
       " 'Pitampura\\nToday',\n",
       " 'Paschim Vihar\\nToday',\n",
       " 'Pitampura\\nToday',\n",
       " 'Pitampura\\nToday',\n",
       " 'Pitampura\\nToday',\n",
       " 'Tilak Nagar\\nToday',\n",
       " 'Rajouri Garden\\nToday',\n",
       " 'Ramesh Nagar\\nToday',\n",
       " 'Punjabi Bagh West\\nToday',\n",
       " 'Pitampura\\nToday',\n",
       " 'Rajouri Garden\\nToday',\n",
       " 'Pitampura\\nToday',\n",
       " 'Paschim Vihar\\nToday',\n",
       " 'Paschim Vihar\\nToday',\n",
       " 'Paschim Vihar\\nToday',\n",
       " 'Rajouri Garden\\nJan 20',\n",
       " 'Vikaspuri\\nNov 06',\n",
       " 'Paschim Vihar\\nDec 03',\n",
       " 'Paschim Vihar\\nToday',\n",
       " 'Paschim Vihar\\nToday',\n",
       " 'Paschim Vihar\\nToday',\n",
       " 'Peera Garhi\\nToday',\n",
       " 'Peera Garhi\\nToday',\n",
       " 'Peera Garhi\\nToday',\n",
       " 'Peera Garhi\\nToday',\n",
       " 'Peera Garhi\\nToday',\n",
       " 'Pitampura\\nToday',\n",
       " 'Pitampura\\nToday',\n",
       " 'Peera Garhi\\nToday',\n",
       " 'Peera Garhi\\nToday',\n",
       " 'Peera Garhi\\nToday',\n",
       " 'Rajouri Garden\\nToday',\n",
       " 'Rajouri Garden\\nToday',\n",
       " 'Paschim Vihar\\nToday',\n",
       " 'Paschim Vihar\\nToday']"
      ]
     },
     "execution_count": 32,
     "metadata": {},
     "output_type": "execute_result"
    }
   ],
   "source": [
    "place2"
   ]
  },
  {
   "cell_type": "code",
   "execution_count": 33,
   "id": "e19e9e7a",
   "metadata": {},
   "outputs": [],
   "source": [
    "kms2 = []\n",
    "\n",
    "for i in driver.find_elements(By.XPATH,'//div[@class=\"_21gnE\"]'):\n",
    "    kms2.append(i.text)"
   ]
  },
  {
   "cell_type": "code",
   "execution_count": 34,
   "id": "4549089a",
   "metadata": {},
   "outputs": [
    {
     "data": {
      "text/plain": [
       "['2017 - 38,959 km',\n",
       " '2017 - 59000.0 km',\n",
       " '2011 - 60,000 km',\n",
       " '2017 - 42000.0 km',\n",
       " '2011 - 110,000 km',\n",
       " '2018 - 32,500 km',\n",
       " '2009 - 55,000 km',\n",
       " '2013 - 68000.0 km',\n",
       " '2011 - 58,000 km',\n",
       " '2014 - 68,000 km',\n",
       " '2013 - 69000.0 km',\n",
       " '2017 - 50000.0 km',\n",
       " '2015 - 51000.0 km',\n",
       " '2017 - 53000.0 km',\n",
       " '2016 - 56,000 km',\n",
       " '2012 - 75,000 km',\n",
       " '2016 - 61000.0 km',\n",
       " '2013 - 57,000 km',\n",
       " '2013 - 63,000 km',\n",
       " '2015 - 54,000 km',\n",
       " '2017 - 47000.0 km',\n",
       " '2018 - 15000.0 km',\n",
       " '2012 - 63586.0 km',\n",
       " '2010 - 62,000 km',\n",
       " '2015 - 62,000 km',\n",
       " '2010 - 61,000 km',\n",
       " '2017 - 40000.0 km',\n",
       " '2015 - 52000.0 km',\n",
       " '2008 - 46000.0 km',\n",
       " '2018 - 12000.0 km',\n",
       " '2013 - 45,000 km',\n",
       " '2016 - 47000.0 km',\n",
       " '2018 - 61000.0 km',\n",
       " '2013 - 48000.0 km',\n",
       " '2012 - 62000.0 km',\n",
       " '2013 - 59000.0 km',\n",
       " '2014 - 54000.0 km',\n",
       " '2018 - 32,500 km',\n",
       " '2010 - 72,000 km',\n",
       " '2010 - 65,000 km']"
      ]
     },
     "execution_count": 34,
     "metadata": {},
     "output_type": "execute_result"
    }
   ],
   "source": [
    "kms2"
   ]
  },
  {
   "cell_type": "code",
   "execution_count": 35,
   "id": "97a93539",
   "metadata": {},
   "outputs": [],
   "source": [
    "war2 = []\n",
    "\n",
    "for i in driver.find_elements(By.XPATH,'//div[@class=\"_2SZA5\"]'):\n",
    "    war2.append(i.text)"
   ]
  },
  {
   "cell_type": "code",
   "execution_count": 36,
   "id": "82d10016",
   "metadata": {},
   "outputs": [
    {
     "data": {
      "text/plain": [
       "['WARRANTY',\n",
       " '',\n",
       " '',\n",
       " '',\n",
       " '',\n",
       " 'VERIFIED SELLER',\n",
       " 'VERIFIED SELLER',\n",
       " 'VERIFIED SELLER',\n",
       " 'VERIFIED SELLER',\n",
       " 'VERIFIED SELLER',\n",
       " 'VERIFIED SELLER',\n",
       " 'VERIFIED SELLER',\n",
       " 'VERIFIED SELLER',\n",
       " 'VERIFIED SELLER',\n",
       " 'VERIFIED SELLER',\n",
       " 'WARRANTY',\n",
       " '',\n",
       " '',\n",
       " '',\n",
       " 'VERIFIED SELLER',\n",
       " 'VERIFIED SELLER',\n",
       " 'VERIFIED SELLER',\n",
       " 'VERIFIED SELLER',\n",
       " 'VERIFIED SELLER',\n",
       " 'VERIFIED SELLER',\n",
       " 'VERIFIED SELLER',\n",
       " 'VERIFIED SELLER',\n",
       " 'VERIFIED SELLER',\n",
       " 'VERIFIED SELLER',\n",
       " 'VERIFIED SELLER',\n",
       " 'VERIFIED SELLER']"
      ]
     },
     "execution_count": 36,
     "metadata": {},
     "output_type": "execute_result"
    }
   ],
   "source": [
    "war2"
   ]
  },
  {
   "cell_type": "code",
   "execution_count": 37,
   "id": "834a0f01",
   "metadata": {},
   "outputs": [],
   "source": [
    "price2 = []\n",
    "\n",
    "for i in driver.find_elements(By.XPATH,'//span[@class=\"_1zgtX\"]'):\n",
    "    price2.append(i.text)"
   ]
  },
  {
   "cell_type": "code",
   "execution_count": 38,
   "id": "7e039a06",
   "metadata": {},
   "outputs": [
    {
     "data": {
      "text/plain": [
       "['₹ 8,34,242',\n",
       " '₹ 5,25,000',\n",
       " '₹ 1,85,000',\n",
       " '₹ 8,50,000',\n",
       " '₹ 2,00,000',\n",
       " '₹ 7,39,000',\n",
       " '₹ 1,55,000',\n",
       " '₹ 2,10,000',\n",
       " '₹ 1,65,000',\n",
       " '₹ 3,25,000',\n",
       " '₹ 3,55,000',\n",
       " '₹ 6,50,000',\n",
       " '₹ 4,55,000',\n",
       " '₹ 8,65,000',\n",
       " '₹ 4,35,000',\n",
       " '₹ 2,25,000',\n",
       " '₹ 4,00,000',\n",
       " '₹ 1,95,000',\n",
       " '₹ 4,05,000',\n",
       " '₹ 3,30,000',\n",
       " '₹ 5,40,000',\n",
       " '₹ 8,00,000',\n",
       " '₹ 2,75,000',\n",
       " '₹ 1,70,000',\n",
       " '₹ 4,20,000',\n",
       " '₹ 1,25,000',\n",
       " '₹ 3,25,000',\n",
       " '₹ 4,25,000',\n",
       " '₹ 95,000',\n",
       " '₹ 6,25,000',\n",
       " '₹ 3,25,000',\n",
       " '₹ 9,50,000',\n",
       " '₹ 3,00,000',\n",
       " '₹ 2,50,000',\n",
       " '₹ 2,95,000',\n",
       " '₹ 2,75,000',\n",
       " '₹ 3,75,000',\n",
       " '₹ 6,45,000',\n",
       " '₹ 2,05,000',\n",
       " '₹ 1,55,000']"
      ]
     },
     "execution_count": 38,
     "metadata": {},
     "output_type": "execute_result"
    }
   ],
   "source": [
    "price2"
   ]
  },
  {
   "cell_type": "code",
   "execution_count": null,
   "id": "60b92b82",
   "metadata": {},
   "outputs": [],
   "source": []
  },
  {
   "cell_type": "code",
   "execution_count": 39,
   "id": "c8133f87",
   "metadata": {},
   "outputs": [],
   "source": [
    "brand_check = driver.find_element(By.XPATH,'/html/body/div/div/main/div/div/section/div/div[2]/div[5]/div[1]/div/div[3]/div[2]/div[2]/div[3]/div[2]/div/div[3]/div/input')\n",
    "brand_check.click()"
   ]
  },
  {
   "cell_type": "code",
   "execution_count": null,
   "id": "5b1c15ec",
   "metadata": {},
   "outputs": [],
   "source": []
  },
  {
   "cell_type": "code",
   "execution_count": 40,
   "id": "c1c08cbb",
   "metadata": {},
   "outputs": [],
   "source": [
    "names3 = []\n",
    "\n",
    "for i in driver.find_elements(By.XPATH,'//div[@class=\"_2Gr10\"]'):\n",
    "    names3.append(i.text)"
   ]
  },
  {
   "cell_type": "code",
   "execution_count": 41,
   "id": "7c388a88",
   "metadata": {},
   "outputs": [
    {
     "data": {
      "text/plain": [
       "['Hyundai Creta',\n",
       " 'Maruti Suzuki Wagon R',\n",
       " 'Hyundai Verna',\n",
       " 'Hyundai Creta',\n",
       " 'Maruti Suzuki Ertiga',\n",
       " 'Maruti Suzuki Wagon-R',\n",
       " 'Hyundai Tucson',\n",
       " 'Honda City',\n",
       " 'Hyundai Creta',\n",
       " 'Maruti Suzuki Ritz',\n",
       " 'Maruti Suzuki Vitara-Brezza',\n",
       " 'Maruti Suzuki Swift-Dzire',\n",
       " 'Maruti Suzuki Alto 800',\n",
       " 'Hyundai Santro Xing',\n",
       " 'Maruti Suzuki Swift-Dzire',\n",
       " 'Maruti Suzuki Swift',\n",
       " 'Maruti Suzuki Ciaz',\n",
       " 'Hyundai Grand i10',\n",
       " 'Hyundai Verna',\n",
       " 'Honda Mobilio',\n",
       " 'Maruti Suzuki Wagon R',\n",
       " 'Maruti Suzuki Vitara Brezza',\n",
       " 'Maruti Suzuki Ertiga',\n",
       " 'Maruti Suzuki Celerio',\n",
       " 'Hyundai i20',\n",
       " 'Honda City',\n",
       " 'Honda Amaze',\n",
       " 'Maruti Suzuki Wagon R',\n",
       " 'Honda Amaze',\n",
       " 'Maruti Suzuki Alto-800',\n",
       " 'Maruti Suzuki Ertiga',\n",
       " 'Maruti Suzuki Swift',\n",
       " 'Maruti Suzuki Wagon-R-1-0',\n",
       " 'Hyundai Elite i20',\n",
       " 'Honda Mobilio',\n",
       " 'Hyundai Accent',\n",
       " 'Maruti Suzuki Eeco',\n",
       " 'Maruti Suzuki Swift Dzire',\n",
       " 'Hyundai Santro Xing',\n",
       " 'Hyundai Elite i20']"
      ]
     },
     "execution_count": 41,
     "metadata": {},
     "output_type": "execute_result"
    }
   ],
   "source": [
    "names3"
   ]
  },
  {
   "cell_type": "code",
   "execution_count": 42,
   "id": "f2283bde",
   "metadata": {},
   "outputs": [],
   "source": [
    "place3 = []\n",
    "\n",
    "for i in driver.find_elements(By.XPATH,'//div[@class=\"_3VRSm\"]'):\n",
    "    place3.append(i.text)"
   ]
  },
  {
   "cell_type": "code",
   "execution_count": 43,
   "id": "505b0fb2",
   "metadata": {},
   "outputs": [
    {
     "data": {
      "text/plain": [
       "['Ramesh Nagar\\n7 days ago',\n",
       " 'Paschim Vihar\\nNov 01',\n",
       " 'Pitampura\\nDec 12',\n",
       " 'Pitampura\\nToday',\n",
       " 'Sunder Vihar\\nToday',\n",
       " 'Paschim Vihar\\nToday',\n",
       " 'Rajouri Garden\\nToday',\n",
       " 'Tagore Garden\\nToday',\n",
       " 'Ramesh Nagar\\nToday',\n",
       " 'Kamaruddin Nagar\\nToday',\n",
       " 'Pitampura\\nToday',\n",
       " 'Paschim Vihar\\nToday',\n",
       " 'Pitampura\\nToday',\n",
       " 'Pitampura\\nToday',\n",
       " 'Pitampura\\nToday',\n",
       " 'Tilak Nagar\\nToday',\n",
       " 'Rajouri Garden\\nToday',\n",
       " 'Ramesh Nagar\\nToday',\n",
       " 'Punjabi Bagh West\\nToday',\n",
       " 'Pitampura\\nToday',\n",
       " 'Paschim Vihar\\nNov 06',\n",
       " 'Pitampura\\nJan 13',\n",
       " 'Jawalaheri\\nDec 01',\n",
       " 'Pitampura\\nToday',\n",
       " 'Rajouri Garden\\nToday',\n",
       " 'Rajouri Garden\\nToday',\n",
       " 'Pitampura\\nToday',\n",
       " 'Pitampura\\nToday',\n",
       " 'Paschim Vihar\\nToday',\n",
       " 'Paschim Vihar\\nToday',\n",
       " 'Paschim Vihar\\nToday',\n",
       " 'Paschim Vihar\\nToday',\n",
       " 'Paschim Vihar\\nToday',\n",
       " 'Paschim Vihar\\nToday',\n",
       " 'Paschim Vihar\\nToday',\n",
       " 'Paschim Vihar\\nToday',\n",
       " 'Peera Garhi\\nToday',\n",
       " 'Peera Garhi\\nToday',\n",
       " 'Peera Garhi\\nToday',\n",
       " 'Peera Garhi\\nToday']"
      ]
     },
     "execution_count": 43,
     "metadata": {},
     "output_type": "execute_result"
    }
   ],
   "source": [
    "place3"
   ]
  },
  {
   "cell_type": "code",
   "execution_count": 44,
   "id": "d5d09a1b",
   "metadata": {},
   "outputs": [],
   "source": [
    "kms3 = []\n",
    "\n",
    "for i in driver.find_elements(By.XPATH,'//div[@class=\"_21gnE\"]'):\n",
    "    kms3.append(i.text)"
   ]
  },
  {
   "cell_type": "code",
   "execution_count": 45,
   "id": "1319771a",
   "metadata": {},
   "outputs": [
    {
     "data": {
      "text/plain": [
       "['2017 - 68000.0 km',\n",
       " '2011 - 69865.0 km',\n",
       " '2019 - 34000.0 km',\n",
       " '2016 - 61,500 km',\n",
       " '2019 - 39000.0 km',\n",
       " '2010 - 48,000 km',\n",
       " '2018 - 46000.0 km',\n",
       " '2014 - 113,000 km',\n",
       " '2017 - 42000.0 km',\n",
       " '2011 - 110,000 km',\n",
       " '2018 - 32,500 km',\n",
       " '2009 - 55,000 km',\n",
       " '2013 - 68000.0 km',\n",
       " '2011 - 58,000 km',\n",
       " '2014 - 68,000 km',\n",
       " '2013 - 69000.0 km',\n",
       " '2017 - 50000.0 km',\n",
       " '2015 - 51000.0 km',\n",
       " '2017 - 53000.0 km',\n",
       " '2015 - 65,000 km',\n",
       " '2021 - 30000.0 km',\n",
       " '2017 - 6000.0 km',\n",
       " '2020 - 56,000 km',\n",
       " '2016 - 56,000 km',\n",
       " '2012 - 75,000 km',\n",
       " '2016 - 63000.0 km',\n",
       " '2013 - 56000.0 km',\n",
       " '2016 - 61000.0 km',\n",
       " '2016 - 64,000 km',\n",
       " '2013 - 57,000 km',\n",
       " '2013 - 63,000 km',\n",
       " '2015 - 54,000 km',\n",
       " '2010 - 62,000 km',\n",
       " '2015 - 62,000 km',\n",
       " '2014 - 64,000 km',\n",
       " '2010 - 61,000 km',\n",
       " '2017 - 40000.0 km',\n",
       " '2015 - 52000.0 km',\n",
       " '2008 - 46000.0 km',\n",
       " '2018 - 12000.0 km']"
      ]
     },
     "execution_count": 45,
     "metadata": {},
     "output_type": "execute_result"
    }
   ],
   "source": [
    "kms3"
   ]
  },
  {
   "cell_type": "code",
   "execution_count": 46,
   "id": "bdf44f98",
   "metadata": {},
   "outputs": [],
   "source": [
    "war3 = []\n",
    "\n",
    "for i in driver.find_elements(By.XPATH,'//div[@class=\"_2SZA5\"]'):\n",
    "    war3.append(i.text)"
   ]
  },
  {
   "cell_type": "code",
   "execution_count": 47,
   "id": "7733dfae",
   "metadata": {},
   "outputs": [
    {
     "data": {
      "text/plain": [
       "['VERIFIED SELLER',\n",
       " 'WARRANTY',\n",
       " '',\n",
       " '',\n",
       " '',\n",
       " 'VERIFIED SELLER',\n",
       " 'VERIFIED SELLER',\n",
       " 'VERIFIED SELLER',\n",
       " 'VERIFIED SELLER',\n",
       " 'VERIFIED SELLER',\n",
       " 'VERIFIED SELLER',\n",
       " 'VERIFIED SELLER',\n",
       " 'VERIFIED SELLER',\n",
       " 'WARRANTY',\n",
       " '',\n",
       " '',\n",
       " '',\n",
       " 'VERIFIED SELLER',\n",
       " 'VERIFIED SELLER',\n",
       " 'VERIFIED SELLER',\n",
       " 'VERIFIED SELLER',\n",
       " 'VERIFIED SELLER',\n",
       " 'VERIFIED SELLER',\n",
       " 'VERIFIED SELLER',\n",
       " 'VERIFIED SELLER',\n",
       " 'VERIFIED SELLER']"
      ]
     },
     "execution_count": 47,
     "metadata": {},
     "output_type": "execute_result"
    }
   ],
   "source": [
    "war3"
   ]
  },
  {
   "cell_type": "code",
   "execution_count": 48,
   "id": "41ab3632",
   "metadata": {},
   "outputs": [],
   "source": [
    "price3 = []\n",
    "\n",
    "for i in driver.find_elements(By.XPATH,'//span[@class=\"_1zgtX\"]'):\n",
    "    price3.append(i.text)"
   ]
  },
  {
   "cell_type": "code",
   "execution_count": 49,
   "id": "0588ea55",
   "metadata": {},
   "outputs": [
    {
     "data": {
      "text/plain": [
       "['₹ 7,75,000',\n",
       " '₹ 2,45,000',\n",
       " '₹ 11,75,000',\n",
       " '₹ 8,35,000',\n",
       " '₹ 10,50,000',\n",
       " '₹ 1,85,000',\n",
       " '₹ 17,90,000',\n",
       " '₹ 3,65,000',\n",
       " '₹ 8,50,000',\n",
       " '₹ 2,00,000',\n",
       " '₹ 7,39,000',\n",
       " '₹ 1,55,000',\n",
       " '₹ 2,10,000',\n",
       " '₹ 1,65,000',\n",
       " '₹ 3,25,000',\n",
       " '₹ 3,55,000',\n",
       " '₹ 6,50,000',\n",
       " '₹ 4,55,000',\n",
       " '₹ 8,65,000',\n",
       " '₹ 4,30,000',\n",
       " '₹ 6,30,000',\n",
       " '₹ 8,25,000',\n",
       " '₹ 9,70,000',\n",
       " '₹ 4,35,000',\n",
       " '₹ 2,25,000',\n",
       " '₹ 6,45,000',\n",
       " '₹ 3,40,000',\n",
       " '₹ 4,00,000',\n",
       " '₹ 3,85,000',\n",
       " '₹ 1,95,000',\n",
       " '₹ 4,05,000',\n",
       " '₹ 3,30,000',\n",
       " '₹ 1,70,000',\n",
       " '₹ 4,20,000',\n",
       " '₹ 3,55,000',\n",
       " '₹ 1,25,000',\n",
       " '₹ 3,25,000',\n",
       " '₹ 4,25,000',\n",
       " '₹ 95,000',\n",
       " '₹ 6,25,000']"
      ]
     },
     "execution_count": 49,
     "metadata": {},
     "output_type": "execute_result"
    }
   ],
   "source": [
    "price3"
   ]
  },
  {
   "cell_type": "code",
   "execution_count": null,
   "id": "a0bdfadc",
   "metadata": {},
   "outputs": [],
   "source": []
  },
  {
   "cell_type": "code",
   "execution_count": 50,
   "id": "f5f23da4",
   "metadata": {},
   "outputs": [],
   "source": [
    "brand_check = driver.find_element(By.XPATH,'/html/body/div/div/main/div/div/section/div/div[2]/div[5]/div[1]/div/div[3]/div[2]/div[2]/div[3]/div[2]/div/div[4]/div/input')\n",
    "brand_check.click()"
   ]
  },
  {
   "cell_type": "code",
   "execution_count": null,
   "id": "f287bb59",
   "metadata": {},
   "outputs": [],
   "source": []
  },
  {
   "cell_type": "code",
   "execution_count": 51,
   "id": "fdbd95e1",
   "metadata": {},
   "outputs": [],
   "source": [
    "names4 = []\n",
    "\n",
    "for i in driver.find_elements(By.XPATH,'//div[@class=\"_2Gr10\"]'):\n",
    "    names4.append(i.text)"
   ]
  },
  {
   "cell_type": "code",
   "execution_count": 52,
   "id": "15352265",
   "metadata": {},
   "outputs": [
    {
     "data": {
      "text/plain": [
       "['Hyundai Venue',\n",
       " 'Mahindra Thar',\n",
       " 'Maruti Suzuki Ciaz',\n",
       " 'Mahindra XUV500',\n",
       " 'Mahindra XUV500',\n",
       " 'Hyundai Creta',\n",
       " 'Mahindra TUV',\n",
       " 'Maruti Suzuki Ertiga',\n",
       " 'Maruti Suzuki Wagon-R',\n",
       " 'Hyundai Tucson',\n",
       " 'Honda City',\n",
       " 'Mahindra Scorpio',\n",
       " 'Hyundai Creta',\n",
       " 'Maruti Suzuki Ritz',\n",
       " 'Maruti Suzuki Vitara-Brezza',\n",
       " 'Maruti Suzuki Swift-Dzire',\n",
       " 'Mahindra KUV 100',\n",
       " 'Maruti Suzuki Alto 800',\n",
       " 'Hyundai Santro Xing',\n",
       " 'Maruti Suzuki Swift-Dzire',\n",
       " 'Mahindra TUV 300',\n",
       " 'Hyundai Verna',\n",
       " 'Maruti Suzuki Ertiga',\n",
       " 'Maruti Suzuki Swift',\n",
       " 'Maruti Suzuki Ciaz',\n",
       " 'Mahindra XUV500',\n",
       " 'Mahindra Scorpio',\n",
       " 'Hyundai Grand i10',\n",
       " 'Hyundai Verna',\n",
       " 'Honda Mobilio',\n",
       " 'Maruti Suzuki Celerio',\n",
       " 'Hyundai i20',\n",
       " 'Honda City',\n",
       " 'Honda Amaze',\n",
       " 'Maruti Suzuki Wagon R',\n",
       " 'Mahindra TUV 300',\n",
       " 'Honda Amaze',\n",
       " 'Maruti Suzuki Alto-800',\n",
       " 'Maruti Suzuki Ertiga',\n",
       " 'Maruti Suzuki Swift']"
      ]
     },
     "execution_count": 52,
     "metadata": {},
     "output_type": "execute_result"
    }
   ],
   "source": [
    "names4"
   ]
  },
  {
   "cell_type": "code",
   "execution_count": 53,
   "id": "a399e0b9",
   "metadata": {},
   "outputs": [],
   "source": [
    "place4 = []\n",
    "\n",
    "for i in driver.find_elements(By.XPATH,'//div[@class=\"_3VRSm\"]'):\n",
    "    place4.append(i.text)"
   ]
  },
  {
   "cell_type": "code",
   "execution_count": 54,
   "id": "d7811272",
   "metadata": {},
   "outputs": [
    {
     "data": {
      "text/plain": [
       "['Paschim Vihar\\nDec 26',\n",
       " 'Rohini Sector 7\\nDec 09',\n",
       " 'Punjabi Bagh West\\nJan 14',\n",
       " 'Rajouri Garden\\nToday',\n",
       " 'Pitampura\\nToday',\n",
       " 'Pitampura\\nToday',\n",
       " 'Peera Garhi\\nToday',\n",
       " 'Sunder Vihar\\nToday',\n",
       " 'Paschim Vihar\\nToday',\n",
       " 'Rajouri Garden\\nToday',\n",
       " 'Tagore Garden\\nToday',\n",
       " 'Rajouri Garden\\nToday',\n",
       " 'Ramesh Nagar\\nToday',\n",
       " 'Kamaruddin Nagar\\nToday',\n",
       " 'Pitampura\\nToday',\n",
       " 'Paschim Vihar\\nToday',\n",
       " 'Pitampura\\nToday',\n",
       " 'Pitampura\\nToday',\n",
       " 'Pitampura\\nToday',\n",
       " 'Pitampura\\nToday',\n",
       " 'Rohini Sector 3\\nDec 31',\n",
       " 'Pitampura\\nJan 18',\n",
       " 'Pitampura\\nNov 01',\n",
       " 'Tilak Nagar\\nToday',\n",
       " 'Rajouri Garden\\nToday',\n",
       " 'Rajouri Garden\\nToday',\n",
       " 'Rajouri Garden\\nToday',\n",
       " 'Ramesh Nagar\\nToday',\n",
       " 'Punjabi Bagh West\\nToday',\n",
       " 'Pitampura\\nToday',\n",
       " 'Pitampura\\nToday',\n",
       " 'Rajouri Garden\\nToday',\n",
       " 'Rajouri Garden\\nToday',\n",
       " 'Pitampura\\nToday',\n",
       " 'Pitampura\\nToday',\n",
       " 'Pitampura\\nToday',\n",
       " 'Paschim Vihar\\nToday',\n",
       " 'Paschim Vihar\\nToday',\n",
       " 'Paschim Vihar\\nToday',\n",
       " 'Paschim Vihar\\nToday']"
      ]
     },
     "execution_count": 54,
     "metadata": {},
     "output_type": "execute_result"
    }
   ],
   "source": [
    "place4"
   ]
  },
  {
   "cell_type": "code",
   "execution_count": 55,
   "id": "e7ba8cff",
   "metadata": {},
   "outputs": [],
   "source": [
    "kms4 = []\n",
    "\n",
    "for i in driver.find_elements(By.XPATH,'//div[@class=\"_21gnE\"]'):\n",
    "    kms4.append(i.text)"
   ]
  },
  {
   "cell_type": "code",
   "execution_count": 56,
   "id": "5561c929",
   "metadata": {},
   "outputs": [
    {
     "data": {
      "text/plain": [
       "['2019 - 6,000 km',\n",
       " '2021 - 21000.0 km',\n",
       " '2017 - 62,000 km',\n",
       " '2016 - 67000.0 km',\n",
       " '2018 - 73000.0 km',\n",
       " '2016 - 61,500 km',\n",
       " '2016 - 47,000 km',\n",
       " '2019 - 39000.0 km',\n",
       " '2010 - 48,000 km',\n",
       " '2018 - 46000.0 km',\n",
       " '2014 - 113,000 km',\n",
       " '2019 - 54,000 km',\n",
       " '2017 - 42000.0 km',\n",
       " '2011 - 110,000 km',\n",
       " '2018 - 32,500 km',\n",
       " '2009 - 55,000 km',\n",
       " '2016 - 65000.0 km',\n",
       " '2013 - 68000.0 km',\n",
       " '2011 - 58,000 km',\n",
       " '2014 - 68,000 km',\n",
       " '2018 - 66000.0 km',\n",
       " '2017 - 38,959 km',\n",
       " '2013 - 65000.0 km',\n",
       " '2013 - 69000.0 km',\n",
       " '2017 - 50000.0 km',\n",
       " '2017 - 70000.0 km',\n",
       " '2013 - 95000.0 km',\n",
       " '2015 - 51000.0 km',\n",
       " '2017 - 53000.0 km',\n",
       " '2015 - 65,000 km',\n",
       " '2016 - 56,000 km',\n",
       " '2012 - 75,000 km',\n",
       " '2016 - 63000.0 km',\n",
       " '2013 - 56000.0 km',\n",
       " '2016 - 61000.0 km',\n",
       " '2017 - 70000.0 km',\n",
       " '2016 - 64,000 km',\n",
       " '2013 - 57,000 km',\n",
       " '2013 - 63,000 km',\n",
       " '2015 - 54,000 km']"
      ]
     },
     "execution_count": 56,
     "metadata": {},
     "output_type": "execute_result"
    }
   ],
   "source": [
    "kms4"
   ]
  },
  {
   "cell_type": "code",
   "execution_count": 57,
   "id": "d62a2392",
   "metadata": {},
   "outputs": [],
   "source": [
    "war4 = []\n",
    "\n",
    "for i in driver.find_elements(By.XPATH,'//div[@class=\"_2SZA5\"]'):\n",
    "    war4.append(i.text)"
   ]
  },
  {
   "cell_type": "code",
   "execution_count": 58,
   "id": "fb5dabf5",
   "metadata": {},
   "outputs": [
    {
     "data": {
      "text/plain": [
       "['WARRANTY',\n",
       " '',\n",
       " '',\n",
       " '',\n",
       " 'WARRANTY',\n",
       " '',\n",
       " '',\n",
       " '',\n",
       " 'VERIFIED SELLER',\n",
       " 'VERIFIED SELLER',\n",
       " 'VERIFIED SELLER',\n",
       " 'VERIFIED SELLER',\n",
       " 'VERIFIED SELLER',\n",
       " 'VERIFIED SELLER',\n",
       " 'WARRANTY',\n",
       " '',\n",
       " '',\n",
       " '',\n",
       " '',\n",
       " 'VERIFIED SELLER',\n",
       " 'VERIFIED SELLER',\n",
       " 'VERIFIED SELLER',\n",
       " 'VERIFIED SELLER',\n",
       " 'VERIFIED SELLER',\n",
       " 'VERIFIED SELLER',\n",
       " 'VERIFIED SELLER',\n",
       " 'VERIFIED SELLER',\n",
       " 'VERIFIED SELLER',\n",
       " 'VERIFIED SELLER']"
      ]
     },
     "execution_count": 58,
     "metadata": {},
     "output_type": "execute_result"
    }
   ],
   "source": [
    "war4"
   ]
  },
  {
   "cell_type": "code",
   "execution_count": 59,
   "id": "6fea008f",
   "metadata": {},
   "outputs": [],
   "source": [
    "price4 = []\n",
    "\n",
    "for i in driver.find_elements(By.XPATH,'//span[@class=\"_1zgtX\"]'):\n",
    "    price4.append(i.text)"
   ]
  },
  {
   "cell_type": "code",
   "execution_count": 60,
   "id": "26f88edd",
   "metadata": {},
   "outputs": [
    {
     "data": {
      "text/plain": [
       "['₹ 8,65,000',\n",
       " '₹ 17,50,000',\n",
       " '₹ 6,31,000',\n",
       " '₹ 10,75,000',\n",
       " '₹ 12,49,000',\n",
       " '₹ 8,35,000',\n",
       " '₹ 5,65,000',\n",
       " '₹ 10,50,000',\n",
       " '₹ 1,85,000',\n",
       " '₹ 17,90,000',\n",
       " '₹ 3,65,000',\n",
       " '₹ 12,25,000',\n",
       " '₹ 8,50,000',\n",
       " '₹ 2,00,000',\n",
       " '₹ 7,39,000',\n",
       " '₹ 1,55,000',\n",
       " '₹ 2,95,000',\n",
       " '₹ 2,10,000',\n",
       " '₹ 1,65,000',\n",
       " '₹ 3,25,000',\n",
       " '₹ 6,99,000',\n",
       " '₹ 8,34,242',\n",
       " '₹ 4,85,000',\n",
       " '₹ 3,55,000',\n",
       " '₹ 6,50,000',\n",
       " '₹ 12,25,001',\n",
       " '₹ 4,75,000',\n",
       " '₹ 4,55,000',\n",
       " '₹ 8,65,000',\n",
       " '₹ 4,30,000',\n",
       " '₹ 4,35,000',\n",
       " '₹ 2,25,000',\n",
       " '₹ 6,45,000',\n",
       " '₹ 3,40,000',\n",
       " '₹ 4,00,000',\n",
       " '₹ 6,10,000',\n",
       " '₹ 3,85,000',\n",
       " '₹ 1,95,000',\n",
       " '₹ 4,05,000',\n",
       " '₹ 3,30,000']"
      ]
     },
     "execution_count": 60,
     "metadata": {},
     "output_type": "execute_result"
    }
   ],
   "source": [
    "price4"
   ]
  },
  {
   "cell_type": "code",
   "execution_count": null,
   "id": "8b51aa02",
   "metadata": {},
   "outputs": [],
   "source": []
  },
  {
   "cell_type": "code",
   "execution_count": 61,
   "id": "4fd17099",
   "metadata": {},
   "outputs": [],
   "source": [
    "brand_check = driver.find_element(By.XPATH,'/html/body/div/div/main/div/div/section/div/div[2]/div[5]/div[1]/div/div[3]/div[2]/div[2]/div[3]/div[2]/div/div[5]/div/input')\n",
    "brand_check.click()"
   ]
  },
  {
   "cell_type": "code",
   "execution_count": null,
   "id": "41ac0821",
   "metadata": {},
   "outputs": [],
   "source": []
  },
  {
   "cell_type": "code",
   "execution_count": 62,
   "id": "b8dbdbe6",
   "metadata": {},
   "outputs": [],
   "source": [
    "names5 = []\n",
    "\n",
    "for i in driver.find_elements(By.XPATH,'//div[@class=\"_2Gr10\"]'):\n",
    "    names5.append(i.text)"
   ]
  },
  {
   "cell_type": "code",
   "execution_count": 63,
   "id": "6dcb1e59",
   "metadata": {},
   "outputs": [
    {
     "data": {
      "text/plain": [
       "['Toyota Etios Liva',\n",
       " 'Toyota Innova Crysta',\n",
       " 'Toyota Fortuner',\n",
       " 'Toyota Innova Crysta',\n",
       " 'Toyota Innova',\n",
       " 'Toyota Corolla Altis',\n",
       " 'Toyota Innova',\n",
       " 'Toyota Fortuner',\n",
       " 'Toyota Corolla Altis',\n",
       " 'Toyota Etios',\n",
       " 'Toyota Innova',\n",
       " 'Toyota Corolla Altis',\n",
       " 'Toyota Glanza',\n",
       " 'Toyota Etios Liva',\n",
       " 'Toyota Etios Cross',\n",
       " 'Toyota Innova',\n",
       " 'Toyota Innova Crysta',\n",
       " 'Toyota Innova Crysta',\n",
       " 'Toyota Innova Crysta',\n",
       " 'Toyota Innova Crysta',\n",
       " 'Toyota Fortuner',\n",
       " 'Toyota Fortuner',\n",
       " 'Toyota Etios',\n",
       " 'Toyota Etios',\n",
       " 'Toyota Innova Crysta',\n",
       " 'Toyota Etios',\n",
       " 'Toyota Innova',\n",
       " 'Toyota Etios',\n",
       " 'Toyota Innova Crysta',\n",
       " 'Toyota Etios Liva',\n",
       " 'Toyota Fortuner',\n",
       " 'Toyota Etios Liva',\n",
       " 'Toyota Corolla Altis',\n",
       " 'Toyota Innova Crysta',\n",
       " 'Toyota Innova Crysta',\n",
       " 'Toyota Fortuner',\n",
       " 'Toyota Innova',\n",
       " 'Toyota Fortuner',\n",
       " 'Toyota Fortuner',\n",
       " 'Toyota Innova Crysta']"
      ]
     },
     "execution_count": 63,
     "metadata": {},
     "output_type": "execute_result"
    }
   ],
   "source": [
    "names5"
   ]
  },
  {
   "cell_type": "code",
   "execution_count": 64,
   "id": "4f6d182f",
   "metadata": {},
   "outputs": [],
   "source": [
    "place5 = []\n",
    "\n",
    "for i in driver.find_elements(By.XPATH,'//div[@class=\"_3VRSm\"]'):\n",
    "    place5.append(i.text)"
   ]
  },
  {
   "cell_type": "code",
   "execution_count": 65,
   "id": "454b754f",
   "metadata": {},
   "outputs": [
    {
     "data": {
      "text/plain": [
       "['Pitampura\\nJan 11',\n",
       " 'Pitampura\\nJan 02',\n",
       " 'Rajouri Garden\\nJan 13',\n",
       " 'Vikaspuri\\nToday',\n",
       " 'Hari Nagar\\nToday',\n",
       " 'Paschim Vihar\\nToday',\n",
       " 'Paschim Vihar\\nToday',\n",
       " 'Pitampura\\nToday',\n",
       " 'Paschim Vihar\\nToday',\n",
       " 'Peera Garhi\\nToday',\n",
       " 'Peera Garhi\\nToday',\n",
       " 'Pitampura\\nToday',\n",
       " 'Paschim Vihar\\nToday',\n",
       " 'Peera Garhi\\nToday',\n",
       " 'Pitampura\\nToday',\n",
       " 'Subhash Nagar\\nToday',\n",
       " 'Pitampura\\nToday',\n",
       " 'Pitampura\\nToday',\n",
       " 'Rajouri Garden\\nToday',\n",
       " 'Rajouri Garden\\nToday',\n",
       " 'Tagore Garden\\nJan 06',\n",
       " 'Pitampura\\nOct 07',\n",
       " 'Tilak Nagar\\nJan 21',\n",
       " 'Ramesh Nagar\\nToday',\n",
       " 'Pitampura\\nToday',\n",
       " 'Tilak Nagar\\nToday',\n",
       " 'Tilak Nagar\\nToday',\n",
       " 'Tilak Nagar\\nToday',\n",
       " 'Rajouri Garden\\nToday',\n",
       " 'Vikaspuri\\nToday',\n",
       " 'Bali Nagar\\nToday',\n",
       " 'Punjabi Bagh West\\nToday',\n",
       " 'Raja Garden\\nToday',\n",
       " 'Subhash Nagar\\nToday',\n",
       " 'Rajouri Garden\\nToday',\n",
       " 'Rajouri Garden\\nToday',\n",
       " 'Punjabi Bagh West\\nToday',\n",
       " 'Tagore Garden\\nToday',\n",
       " 'Vikaspuri\\nToday',\n",
       " 'Pitampura\\nToday']"
      ]
     },
     "execution_count": 65,
     "metadata": {},
     "output_type": "execute_result"
    }
   ],
   "source": [
    "place5"
   ]
  },
  {
   "cell_type": "code",
   "execution_count": 66,
   "id": "da5dc3d0",
   "metadata": {},
   "outputs": [],
   "source": [
    "kms5 = []\n",
    "\n",
    "for i in driver.find_elements(By.XPATH,'//div[@class=\"_21gnE\"]'):\n",
    "    kms5.append(i.text)"
   ]
  },
  {
   "cell_type": "code",
   "execution_count": 67,
   "id": "969fa2db",
   "metadata": {},
   "outputs": [
    {
     "data": {
      "text/plain": [
       "['2011 - 42000.0 km',\n",
       " '2018 - 35,000 km',\n",
       " '2017 - 90000.0 km',\n",
       " '2018 - 85,000 km',\n",
       " '2009 - 85,000 km',\n",
       " '2009 - 63,000 km',\n",
       " '2013 - 78,000 km',\n",
       " '2017 - 135,000 km',\n",
       " '2015 - 54,000 km',\n",
       " '2014.0 - 67000.0 km',\n",
       " '2013 - 89,000 km',\n",
       " '2015 - 108,000 km',\n",
       " '2021 - 22000.0 km',\n",
       " '2013 - 76000.0 km',\n",
       " '2015 - 72,000 km',\n",
       " '2014 - 117,000 km',\n",
       " '2018 - 75,000 km',\n",
       " '2016 - 92,000 km',\n",
       " '2016 - 36500.0 km',\n",
       " '2018 - 50000.0 km',\n",
       " '2018 - 87,000 km',\n",
       " '2015 - 72800.0 km',\n",
       " '2015 - 54,000 km',\n",
       " '2011 - 57000.0 km',\n",
       " '2016 - 92,000 km',\n",
       " '2014 - 75000.0 km',\n",
       " '2015 - 74,253 km',\n",
       " '2014 - 67,500 km',\n",
       " '2016 - 12500.0 km',\n",
       " '2015 - 76000.0 km',\n",
       " '2019 - 31,000 km',\n",
       " '2011 - 67227.0 km',\n",
       " '2010 - 120,000 km',\n",
       " '2017 - 88,000 km',\n",
       " '2021 - 31000.0 km',\n",
       " '2014 - 76254.0 km',\n",
       " '2013 - 175,000 km',\n",
       " '2015 - 94,000 km',\n",
       " '2014 - 160000.0 km',\n",
       " '2020 - 77000.0 km']"
      ]
     },
     "execution_count": 67,
     "metadata": {},
     "output_type": "execute_result"
    }
   ],
   "source": [
    "kms5"
   ]
  },
  {
   "cell_type": "code",
   "execution_count": 68,
   "id": "16b69588",
   "metadata": {},
   "outputs": [],
   "source": [
    "war5 = []\n",
    "\n",
    "for i in driver.find_elements(By.XPATH,'//div[@class=\"_3Ni1S\"]'):\n",
    "    war5.append(i.text)"
   ]
  },
  {
   "cell_type": "code",
   "execution_count": 69,
   "id": "159cc486",
   "metadata": {},
   "outputs": [
    {
     "data": {
      "text/plain": [
       "['VERIFIED SELLER',\n",
       " 'VERIFIED SELLER',\n",
       " 'VERIFIED SELLER',\n",
       " 'VERIFIED SELLER',\n",
       " 'VERIFIED SELLER',\n",
       " 'VERIFIED SELLER',\n",
       " 'VERIFIED SELLER',\n",
       " 'VERIFIED SELLER',\n",
       " 'VERIFIED SELLER',\n",
       " 'VERIFIED SELLER',\n",
       " 'VERIFIED SELLER',\n",
       " 'VERIFIED SELLER',\n",
       " 'VERIFIED SELLER',\n",
       " 'VERIFIED SELLER',\n",
       " 'VERIFIED SELLER',\n",
       " 'VERIFIED SELLER',\n",
       " 'VERIFIED SELLER',\n",
       " 'VERIFIED SELLER',\n",
       " 'VERIFIED SELLER',\n",
       " 'VERIFIED SELLER',\n",
       " 'VERIFIED SELLER',\n",
       " 'VERIFIED SELLER',\n",
       " 'VERIFIED SELLER',\n",
       " 'VERIFIED SELLER',\n",
       " 'VERIFIED SELLER',\n",
       " 'VERIFIED SELLER']"
      ]
     },
     "execution_count": 69,
     "metadata": {},
     "output_type": "execute_result"
    }
   ],
   "source": [
    "war5"
   ]
  },
  {
   "cell_type": "code",
   "execution_count": 70,
   "id": "401e8f9a",
   "metadata": {},
   "outputs": [],
   "source": [
    "price5 = []\n",
    "\n",
    "for i in driver.find_elements(By.XPATH,'//span[@class=\"_1zgtX\"]'):\n",
    "    price5.append(i.text)"
   ]
  },
  {
   "cell_type": "code",
   "execution_count": 71,
   "id": "1451cdf8",
   "metadata": {},
   "outputs": [
    {
     "data": {
      "text/plain": [
       "['₹ 2,20,000',\n",
       " '₹ 16,50,000',\n",
       " '₹ 27,75,000',\n",
       " '₹ 16,95,000',\n",
       " '₹ 4,10,000',\n",
       " '₹ 2,35,000',\n",
       " '₹ 6,10,000',\n",
       " '₹ 27,00,000',\n",
       " '₹ 6,30,000',\n",
       " '₹ 3,75,000',\n",
       " '₹ 5,95,000',\n",
       " '₹ 5,99,000',\n",
       " '₹ 7,95,000',\n",
       " '₹ 2,95,000',\n",
       " '₹ 3,90,000',\n",
       " '₹ 7,95,000',\n",
       " '₹ 17,49,000',\n",
       " '₹ 15,00,000',\n",
       " '₹ 17,75,000',\n",
       " '₹ 18,25,000',\n",
       " '₹ 29,75,000',\n",
       " '₹ 14,95,000',\n",
       " '₹ 3,90,000',\n",
       " '₹ 2,40,000',\n",
       " '₹ 14,95,000',\n",
       " '₹ 4,15,000',\n",
       " '₹ 9,25,000',\n",
       " '₹ 4,05,000',\n",
       " '₹ 18,00,000',\n",
       " '₹ 3,35,000',\n",
       " '₹ 35,50,000',\n",
       " '₹ 2,55,000',\n",
       " '₹ 3,00,000',\n",
       " '₹ 15,95,000',\n",
       " '₹ 26,75,000',\n",
       " '₹ 12,90,000',\n",
       " '₹ 6,60,000',\n",
       " '₹ 15,00,000',\n",
       " '₹ 12,49,000',\n",
       " '₹ 18,00,000']"
      ]
     },
     "execution_count": 71,
     "metadata": {},
     "output_type": "execute_result"
    }
   ],
   "source": [
    "price5"
   ]
  },
  {
   "cell_type": "code",
   "execution_count": null,
   "id": "507cf6ff",
   "metadata": {},
   "outputs": [],
   "source": []
  },
  {
   "cell_type": "code",
   "execution_count": 72,
   "id": "675616ea",
   "metadata": {},
   "outputs": [],
   "source": [
    "brand_check = driver.find_element(By.XPATH,'/html/body/div/div/main/div/div/section/div/div[2]/div[5]/div[1]/div/div[3]/div[2]/div[2]/div[3]/div[2]/div/div[6]/div/input')\n",
    "brand_check.click()"
   ]
  },
  {
   "cell_type": "code",
   "execution_count": null,
   "id": "661f73ef",
   "metadata": {},
   "outputs": [],
   "source": []
  },
  {
   "cell_type": "code",
   "execution_count": 73,
   "id": "fd65b21b",
   "metadata": {},
   "outputs": [],
   "source": [
    "names6 = []\n",
    "\n",
    "for i in driver.find_elements(By.XPATH,'//div[@class=\"_2Gr10\"]'):\n",
    "    names6.append(i.text)"
   ]
  },
  {
   "cell_type": "code",
   "execution_count": 74,
   "id": "a125d260",
   "metadata": {},
   "outputs": [
    {
     "data": {
      "text/plain": [
       "['Tata Zest',\n",
       " 'Tata Safari Storme',\n",
       " 'Tata Nexon',\n",
       " 'Tata Hexa',\n",
       " 'Tata Zest',\n",
       " 'Tata Indigo Ecs',\n",
       " 'Tata Nexon',\n",
       " 'Tata Tiago',\n",
       " 'Tata Nexon',\n",
       " 'Tata Zest',\n",
       " 'Tata Nano',\n",
       " 'Tata Safari',\n",
       " 'Tata Harrier',\n",
       " 'Tata Indigo Cs',\n",
       " 'Tata Harrier',\n",
       " 'Tata Nexon',\n",
       " 'Tata Nexon',\n",
       " 'Tata Indigo Cs',\n",
       " 'Tata Tiago',\n",
       " 'Tata Harrier',\n",
       " 'Tata Hexa',\n",
       " 'Tata Tiago',\n",
       " 'Tata Safari',\n",
       " 'Tata Zest',\n",
       " 'Tata Harrier',\n",
       " 'Tata Nexon',\n",
       " 'Tata Harrier',\n",
       " 'Tata Zest',\n",
       " 'Tata Nexon',\n",
       " 'Tata Nano',\n",
       " 'Tata Harrier',\n",
       " 'Tata Zest',\n",
       " 'Tata Tiago',\n",
       " 'Tata Harrier',\n",
       " 'Tata Nano Genx',\n",
       " 'Tata Manza',\n",
       " 'Tata Nexon',\n",
       " 'Tata Zest',\n",
       " 'Tata Tiago',\n",
       " 'Tata Tiago']"
      ]
     },
     "execution_count": 74,
     "metadata": {},
     "output_type": "execute_result"
    }
   ],
   "source": [
    "names6"
   ]
  },
  {
   "cell_type": "code",
   "execution_count": 75,
   "id": "d719db89",
   "metadata": {},
   "outputs": [],
   "source": [
    "place6 = []\n",
    "\n",
    "for i in driver.find_elements(By.XPATH,'//div[@class=\"_3VRSm\"]'):\n",
    "    place6.append(i.text)"
   ]
  },
  {
   "cell_type": "code",
   "execution_count": 76,
   "id": "861dd812",
   "metadata": {},
   "outputs": [
    {
     "data": {
      "text/plain": [
       "['Vikaspuri\\nDec 15',\n",
       " 'Rohini Sector 7\\nJan 18',\n",
       " 'Vikaspuri\\nJan 07',\n",
       " 'Paschimpuri\\nToday',\n",
       " 'Paschim Vihar\\nToday',\n",
       " 'Paschim Vihar\\nToday',\n",
       " 'Paschim Vihar\\nToday',\n",
       " 'Paschim Vihar\\nToday',\n",
       " 'Pitampura\\nToday',\n",
       " 'Rohini Sector 3\\nToday',\n",
       " 'Rohini Sector 3\\nToday',\n",
       " 'Punjabi Bagh West\\nToday',\n",
       " 'Vikaspuri\\nToday',\n",
       " 'Nangloi\\nToday',\n",
       " 'Pitampura\\nToday',\n",
       " 'Pitampura\\nToday',\n",
       " 'Pitampura\\nToday',\n",
       " 'Budhela Village\\nToday',\n",
       " 'Vikaspuri\\nToday',\n",
       " 'Pitampura\\nToday',\n",
       " 'Paschimpuri\\nNov 16',\n",
       " 'Rohini Sector 7\\nJan 20',\n",
       " 'Jawalaheri\\n6 days ago',\n",
       " 'Punjabi Bagh West\\nToday',\n",
       " 'Rajouri Garden\\nToday',\n",
       " 'Rohini Sector 2\\nToday',\n",
       " 'Pitampura\\nToday',\n",
       " 'Pitampura\\nToday',\n",
       " 'Rajouri Garden\\nYesterday',\n",
       " 'Rohini Sector 2\\nYesterday',\n",
       " 'Rajouri Garden\\nYesterday',\n",
       " 'Pitampura\\nYesterday',\n",
       " 'Rajouri Garden\\nYesterday',\n",
       " 'Pitampura\\nYesterday',\n",
       " 'Rajouri Garden\\nYesterday',\n",
       " 'Nangloi\\nYesterday',\n",
       " 'Paschim Vihar\\nYesterday',\n",
       " 'Tilak Nagar\\nYesterday',\n",
       " 'Mangolpuri\\nYesterday',\n",
       " 'Mangolpuri\\nYesterday']"
      ]
     },
     "execution_count": 76,
     "metadata": {},
     "output_type": "execute_result"
    }
   ],
   "source": [
    "place6"
   ]
  },
  {
   "cell_type": "code",
   "execution_count": 78,
   "id": "313973e5",
   "metadata": {},
   "outputs": [],
   "source": [
    "kms6 = []\n",
    "\n",
    "for i in driver.find_elements(By.XPATH,'//div[@class=\"_21gnE\"]'):\n",
    "    kms6.append(i.text)"
   ]
  },
  {
   "cell_type": "code",
   "execution_count": 79,
   "id": "5af93269",
   "metadata": {},
   "outputs": [
    {
     "data": {
      "text/plain": [
       "['2015 - 61,000 km',\n",
       " '2013 - 85000.0 km',\n",
       " '2021 - 17000.0 km',\n",
       " '2018 - 40,000 km',\n",
       " '2015 - 62,000 km',\n",
       " '2016 - 49,500 km',\n",
       " '2018 - 57800.0 km',\n",
       " '2019 - 48380.0 km',\n",
       " '2021 - 52000.0 km',\n",
       " '2015 - 68,000 km',\n",
       " '2013 - 5,000 km',\n",
       " '2013 - 49,000 km',\n",
       " '2021 - 2500.0 km',\n",
       " '2017 - 90,000 km',\n",
       " '2021 - 29000.0 km',\n",
       " '2021 - 32000.0 km',\n",
       " '2018 - 24650.0 km',\n",
       " '2018 - 154,000 km',\n",
       " '2019 - 40000.0 km',\n",
       " '2019 - 65,000 km',\n",
       " '2017 - 73000.0 km',\n",
       " '2017 - 52,000 km',\n",
       " '2021 - 24,500 km',\n",
       " '2016 - 57,000 km',\n",
       " '2019 - 65000.0 km',\n",
       " '2018 - 53000.0 km',\n",
       " '2019 - 45,000 km',\n",
       " '2015 - 86000.0 km',\n",
       " '2021 - 6000.0 km',\n",
       " '2014 - 37,000 km',\n",
       " '2019 - 49000.0 km',\n",
       " '2016 - 42,000 km',\n",
       " '2017 - 57,821 km',\n",
       " '2021 - 14000.0 km',\n",
       " '2016 - 13,522 km',\n",
       " '2010 - 60,000 km',\n",
       " '2019 - 37,000 km',\n",
       " '2015 - 52,000 km',\n",
       " '2020 - 26,000 km',\n",
       " '2017 - 68,000 km']"
      ]
     },
     "execution_count": 79,
     "metadata": {},
     "output_type": "execute_result"
    }
   ],
   "source": [
    "kms6"
   ]
  },
  {
   "cell_type": "code",
   "execution_count": 80,
   "id": "52ecad2b",
   "metadata": {},
   "outputs": [],
   "source": [
    "war6 = []\n",
    "\n",
    "for i in driver.find_elements(By.XPATH,'//div[@class=\"_2SZA5\"]'):\n",
    "    war6.append(i.text)"
   ]
  },
  {
   "cell_type": "code",
   "execution_count": 81,
   "id": "3f770724",
   "metadata": {},
   "outputs": [
    {
     "data": {
      "text/plain": [
       "['WARRANTY',\n",
       " '',\n",
       " '',\n",
       " '',\n",
       " 'VERIFIED SELLER',\n",
       " 'VERIFIED SELLER',\n",
       " 'VERIFIED SELLER',\n",
       " 'VERIFIED SELLER',\n",
       " 'VERIFIED SELLER',\n",
       " 'VERIFIED SELLER',\n",
       " 'VERIFIED SELLER',\n",
       " 'VERIFIED SELLER',\n",
       " 'VERIFIED SELLER',\n",
       " 'VERIFIED SELLER',\n",
       " 'VERIFIED SELLER',\n",
       " 'VERIFIED SELLER',\n",
       " 'VERIFIED SELLER',\n",
       " 'WARRANTY',\n",
       " '',\n",
       " '',\n",
       " '',\n",
       " 'VERIFIED SELLER',\n",
       " 'VERIFIED SELLER',\n",
       " 'VERIFIED SELLER',\n",
       " 'VERIFIED SELLER',\n",
       " 'VERIFIED SELLER',\n",
       " 'VERIFIED SELLER',\n",
       " 'VERIFIED SELLER',\n",
       " 'VERIFIED SELLER',\n",
       " 'VERIFIED SELLER',\n",
       " 'VERIFIED SELLER',\n",
       " 'VERIFIED SELLER',\n",
       " 'VERIFIED SELLER',\n",
       " 'VERIFIED SELLER',\n",
       " 'VERIFIED SELLER']"
      ]
     },
     "execution_count": 81,
     "metadata": {},
     "output_type": "execute_result"
    }
   ],
   "source": [
    "war6"
   ]
  },
  {
   "cell_type": "code",
   "execution_count": 82,
   "id": "97b23c35",
   "metadata": {},
   "outputs": [],
   "source": [
    "price6 = []\n",
    "\n",
    "for i in driver.find_elements(By.XPATH,'//span[@class=\"_1zgtX\"]'):\n",
    "    price6.append(i.text)"
   ]
  },
  {
   "cell_type": "code",
   "execution_count": 83,
   "id": "745102aa",
   "metadata": {},
   "outputs": [
    {
     "data": {
      "text/plain": [
       "['₹ 3,80,000',\n",
       " '₹ 3,95,000',\n",
       " '₹ 7,25,000',\n",
       " '₹ 11,00,000',\n",
       " '₹ 2,65,000',\n",
       " '₹ 2,15,000',\n",
       " '₹ 7,50,000',\n",
       " '₹ 5,50,000',\n",
       " '₹ 8,49,000',\n",
       " '₹ 2,65,000',\n",
       " '₹ 85,000',\n",
       " '₹ 3,95,000',\n",
       " '₹ 21,50,000',\n",
       " '₹ 1,20,000',\n",
       " '₹ 21,50,000',\n",
       " '₹ 12,25,000',\n",
       " '₹ 8,65,000',\n",
       " '₹ 1,20,000',\n",
       " '₹ 5,23,000',\n",
       " '₹ 12,90,000',\n",
       " '₹ 9,85,000',\n",
       " '₹ 3,35,000',\n",
       " '₹ 18,35,000',\n",
       " '₹ 3,75,000',\n",
       " '₹ 12,90,000',\n",
       " '₹ 7,75,000',\n",
       " '₹ 13,90,000',\n",
       " '₹ 3,30,000',\n",
       " '₹ 12,40,000',\n",
       " '₹ 1,25,000',\n",
       " '₹ 12,50,000',\n",
       " '₹ 3,45,000',\n",
       " '₹ 3,75,000',\n",
       " '₹ 21,75,000',\n",
       " '₹ 1,65,000',\n",
       " '₹ 99,000',\n",
       " '₹ 7,65,000',\n",
       " '₹ 3,45,000',\n",
       " '₹ 4,95,000',\n",
       " '₹ 4,25,000']"
      ]
     },
     "execution_count": 83,
     "metadata": {},
     "output_type": "execute_result"
    }
   ],
   "source": [
    "price6"
   ]
  },
  {
   "cell_type": "code",
   "execution_count": null,
   "id": "0c324eec",
   "metadata": {},
   "outputs": [],
   "source": []
  },
  {
   "cell_type": "code",
   "execution_count": 84,
   "id": "6e50652f",
   "metadata": {},
   "outputs": [],
   "source": [
    "brand_check = driver.find_element(By.XPATH,'/html/body/div/div/main/div/div/section/div/div[2]/div[5]/div[1]/div/div[3]/div[2]/div[2]/div[3]/div[2]/div/div[5]/div/input')\n",
    "brand_check.click()"
   ]
  },
  {
   "cell_type": "code",
   "execution_count": null,
   "id": "d3790809",
   "metadata": {},
   "outputs": [],
   "source": []
  },
  {
   "cell_type": "code",
   "execution_count": 86,
   "id": "929d0e19",
   "metadata": {},
   "outputs": [],
   "source": [
    "names7 = []\n",
    "\n",
    "for i in driver.find_elements(By.XPATH,'//div[@class=\"_2Gr10\"]'):\n",
    "    names7.append(i.text)"
   ]
  },
  {
   "cell_type": "code",
   "execution_count": 87,
   "id": "bc2b68ce",
   "metadata": {},
   "outputs": [
    {
     "data": {
      "text/plain": [
       "['Ford Ecosport',\n",
       " 'Ford Aspire',\n",
       " 'Ford Ecosport',\n",
       " 'Ford Ecosport',\n",
       " 'Ford Endeavour',\n",
       " 'Ford Ecosport',\n",
       " 'Ford Ecosport',\n",
       " 'Ford Figo',\n",
       " 'Ford Ecosport',\n",
       " 'Ford Ecosport',\n",
       " 'Ford Ecosport',\n",
       " 'Ford Endeavour',\n",
       " 'Ford Ecosport',\n",
       " 'Ford Ecosport',\n",
       " 'Ford Figo',\n",
       " 'Ford Ecosport',\n",
       " 'Ford Ecosport',\n",
       " 'Ford Ecosport',\n",
       " 'Ford Ecosport',\n",
       " 'Ford Ecosport',\n",
       " 'Ford Ecosport',\n",
       " 'Ford Ecosport',\n",
       " 'Ford Endeavour',\n",
       " 'Ford Ecosport',\n",
       " 'Ford Figo Aspire',\n",
       " 'Ford Ecosport',\n",
       " 'Ford Figo Aspire',\n",
       " 'Ford Endeavour',\n",
       " 'Ford Ecosport',\n",
       " 'Ford Ecosport',\n",
       " 'Ford Ecosport',\n",
       " 'Ford Ecosport',\n",
       " 'Ford Fiesta',\n",
       " 'Ford Ecosport',\n",
       " 'Ford Ecosport',\n",
       " 'Ford Endeavour',\n",
       " 'Ford Ecosport',\n",
       " 'Ford Ecosport',\n",
       " 'Ford Ecosport',\n",
       " 'Ford Ecosport']"
      ]
     },
     "execution_count": 87,
     "metadata": {},
     "output_type": "execute_result"
    }
   ],
   "source": [
    "names7"
   ]
  },
  {
   "cell_type": "code",
   "execution_count": 88,
   "id": "d7ca58c7",
   "metadata": {},
   "outputs": [],
   "source": [
    "place7 = []\n",
    "\n",
    "for i in driver.find_elements(By.XPATH,'//div[@class=\"_3VRSm\"]'):\n",
    "    place7.append(i.text)"
   ]
  },
  {
   "cell_type": "code",
   "execution_count": 89,
   "id": "4133dda1",
   "metadata": {},
   "outputs": [
    {
     "data": {
      "text/plain": [
       "['Ashok Nagar\\nDec 31',\n",
       " 'Rohini Sector 7\\nJan 22',\n",
       " 'Vikaspuri\\nDec 24',\n",
       " 'Rohini Sector 3\\nToday',\n",
       " 'Rajouri Garden\\nToday',\n",
       " 'Paschim Vihar\\nToday',\n",
       " 'Paschim Vihar\\nToday',\n",
       " 'Peera Garhi\\nToday',\n",
       " 'Pitampura\\nToday',\n",
       " 'Rajouri Garden\\nToday',\n",
       " 'Paschim Vihar\\nToday',\n",
       " 'Subhash Nagar\\nToday',\n",
       " 'Pitampura\\nToday',\n",
       " 'Pitampura\\nToday',\n",
       " 'Pitampura\\nToday',\n",
       " 'Pitampura\\nToday',\n",
       " 'Pitampura\\nToday',\n",
       " 'Rajouri Garden\\nToday',\n",
       " 'Vikaspuri\\nToday',\n",
       " 'Punjabi Bagh West\\nToday',\n",
       " 'Paschim Vihar\\nJan 09',\n",
       " 'Rohini Sector 7\\nSep 11',\n",
       " 'Pitampura\\nJan 09',\n",
       " 'Rohini Sector 7\\nToday',\n",
       " 'Rohini Sector 7\\nToday',\n",
       " 'Ramesh Nagar\\nToday',\n",
       " 'Pitampura\\nToday',\n",
       " 'Rajouri Garden\\nToday',\n",
       " 'Vikaspuri\\nToday',\n",
       " 'Pitampura\\nToday',\n",
       " 'Bali Nagar\\nToday',\n",
       " 'Punjabi Bagh West\\nToday',\n",
       " 'Rajouri Garden\\nToday',\n",
       " 'Pitampura\\nToday',\n",
       " 'Pitampura\\nToday',\n",
       " 'Bali Nagar\\nToday',\n",
       " 'Rohini Sector 2\\nToday',\n",
       " 'Vikaspuri\\nToday',\n",
       " 'Pitampura\\nToday',\n",
       " 'Paschim Vihar\\nToday']"
      ]
     },
     "execution_count": 89,
     "metadata": {},
     "output_type": "execute_result"
    }
   ],
   "source": [
    "place7"
   ]
  },
  {
   "cell_type": "code",
   "execution_count": 90,
   "id": "9273c153",
   "metadata": {},
   "outputs": [],
   "source": [
    "kms7 = []\n",
    "\n",
    "for i in driver.find_elements(By.XPATH,'//div[@class=\"_21gnE\"]'):\n",
    "    kms7.append(i.text)"
   ]
  },
  {
   "cell_type": "code",
   "execution_count": 91,
   "id": "28c2a908",
   "metadata": {},
   "outputs": [
    {
     "data": {
      "text/plain": [
       "['2015 - 70,000 km',\n",
       " '2016 - 53,000 km',\n",
       " '2014 - 68959.0 km',\n",
       " '2018 - 55,000 km',\n",
       " '2018 - 85000.0 km',\n",
       " '2019 - 38,000 km',\n",
       " '2014 - 58,200 km',\n",
       " '2013 - 55,000 km',\n",
       " '2015 - 53000.0 km',\n",
       " '2017 - 63000.0 km',\n",
       " '2018 - 40,000 km',\n",
       " '2017 - 41,869 km',\n",
       " '2015 - 56000.0 km',\n",
       " '2015 - 47,000 km',\n",
       " '2016 - 62,000 km',\n",
       " '2014 - 95,000 km',\n",
       " '2014 - 53000.0 km',\n",
       " '2017 - 45000.0 km',\n",
       " '2015 - 67,000 km',\n",
       " '2017 - 61,000 km',\n",
       " '2016 - 26000.0 km',\n",
       " '2015 - 62000.0 km',\n",
       " '2017 - 70000.0 km',\n",
       " '2016 - 63482.0 km',\n",
       " '2016 - 58741.0 km',\n",
       " '2018 - 55002.0 km',\n",
       " '2018 - 38000.0 km',\n",
       " '2018 - 75000.0 km',\n",
       " '2014 - 87000.0 km',\n",
       " '2016 - 33,000 km',\n",
       " '2015 - 63,000 km',\n",
       " '2014 - 80000.0 km',\n",
       " '2012 - 79,761 km',\n",
       " '2015 - 68000.0 km',\n",
       " '2016 - 33000.0 km',\n",
       " '2018 - 19000.0 km',\n",
       " '2014 - 87,000 km',\n",
       " '2018 - 75,000 km',\n",
       " '2014 - 72000.0 km',\n",
       " '2016 - 79000.0 km']"
      ]
     },
     "execution_count": 91,
     "metadata": {},
     "output_type": "execute_result"
    }
   ],
   "source": [
    "kms7"
   ]
  },
  {
   "cell_type": "code",
   "execution_count": 92,
   "id": "2bf6961c",
   "metadata": {},
   "outputs": [],
   "source": [
    "war7 = []\n",
    "\n",
    "for i in driver.find_elements(By.XPATH,'//div[@class=\"_2SZA5\"]'):\n",
    "    war7.append(i.text)"
   ]
  },
  {
   "cell_type": "code",
   "execution_count": 93,
   "id": "ddc1e4f1",
   "metadata": {},
   "outputs": [
    {
     "data": {
      "text/plain": [
       "['VERIFIED SELLER',\n",
       " 'WARRANTY',\n",
       " '',\n",
       " '',\n",
       " '',\n",
       " 'WARRANTY',\n",
       " '',\n",
       " '',\n",
       " '',\n",
       " 'VERIFIED SELLER',\n",
       " 'VERIFIED SELLER',\n",
       " 'VERIFIED SELLER',\n",
       " 'VERIFIED SELLER',\n",
       " 'VERIFIED SELLER',\n",
       " 'VERIFIED SELLER',\n",
       " 'VERIFIED SELLER',\n",
       " 'VERIFIED SELLER',\n",
       " 'VERIFIED SELLER',\n",
       " 'VERIFIED SELLER',\n",
       " 'WARRANTY',\n",
       " '',\n",
       " '',\n",
       " '',\n",
       " 'WARRANTY',\n",
       " '',\n",
       " '',\n",
       " '',\n",
       " 'VERIFIED SELLER',\n",
       " 'VERIFIED SELLER',\n",
       " 'VERIFIED SELLER',\n",
       " 'VERIFIED SELLER',\n",
       " 'VERIFIED SELLER',\n",
       " 'VERIFIED SELLER',\n",
       " 'VERIFIED SELLER',\n",
       " 'VERIFIED SELLER',\n",
       " 'VERIFIED SELLER',\n",
       " 'VERIFIED SELLER',\n",
       " 'VERIFIED SELLER',\n",
       " 'VERIFIED SELLER',\n",
       " 'VERIFIED SELLER',\n",
       " 'VERIFIED SELLER',\n",
       " 'VERIFIED SELLER',\n",
       " 'VERIFIED SELLER']"
      ]
     },
     "execution_count": 93,
     "metadata": {},
     "output_type": "execute_result"
    }
   ],
   "source": [
    "war7"
   ]
  },
  {
   "cell_type": "code",
   "execution_count": 95,
   "id": "ec7422f2",
   "metadata": {},
   "outputs": [],
   "source": [
    "price7 = []\n",
    "\n",
    "for i in driver.find_elements(By.XPATH,'//span[@class=\"_1zgtX\"]'):\n",
    "    price7.append(i.text)"
   ]
  },
  {
   "cell_type": "code",
   "execution_count": 96,
   "id": "401f9a1a",
   "metadata": {},
   "outputs": [
    {
     "data": {
      "text/plain": [
       "['₹ 3,95,000',\n",
       " '₹ 3,40,000',\n",
       " '₹ 3,85,000',\n",
       " '₹ 7,25,000',\n",
       " '₹ 28,00,000',\n",
       " '₹ 7,35,000',\n",
       " '₹ 4,35,000',\n",
       " '₹ 1,80,000',\n",
       " '₹ 4,50,000',\n",
       " '₹ 6,35,000',\n",
       " '₹ 7,25,000',\n",
       " '₹ 22,25,000',\n",
       " '₹ 4,95,000',\n",
       " '₹ 4,49,000',\n",
       " '₹ 3,25,000',\n",
       " '₹ 3,50,000',\n",
       " '₹ 4,60,000',\n",
       " '₹ 6,90,000',\n",
       " '₹ 4,39,999',\n",
       " '₹ 6,31,000',\n",
       " '₹ 5,99,000',\n",
       " '₹ 4,20,000',\n",
       " '₹ 23,25,000',\n",
       " '₹ 5,50,000',\n",
       " '₹ 4,25,000',\n",
       " '₹ 6,90,000',\n",
       " '₹ 4,45,000',\n",
       " '₹ 26,00,000',\n",
       " '₹ 3,50,000',\n",
       " '₹ 6,40,000',\n",
       " '₹ 4,15,000',\n",
       " '₹ 3,75,000',\n",
       " '₹ 2,90,000',\n",
       " '₹ 4,50,000',\n",
       " '₹ 6,70,000',\n",
       " '₹ 33,25,000',\n",
       " '₹ 4,25,000',\n",
       " '₹ 7,25,000',\n",
       " '₹ 3,65,000',\n",
       " '₹ 5,50,000']"
      ]
     },
     "execution_count": 96,
     "metadata": {},
     "output_type": "execute_result"
    }
   ],
   "source": [
    "price7"
   ]
  },
  {
   "cell_type": "code",
   "execution_count": null,
   "id": "3fa26418",
   "metadata": {},
   "outputs": [],
   "source": []
  },
  {
   "cell_type": "code",
   "execution_count": 97,
   "id": "86f9b191",
   "metadata": {},
   "outputs": [],
   "source": [
    "brand_check = driver.find_element(By.XPATH,'/html/body/div/div/main/div/div/section/div/div[2]/div[5]/div[1]/div/div[3]/div[2]/div[2]/div[3]/div[2]/div/div[5]/div/input')\n",
    "brand_check.click()"
   ]
  },
  {
   "cell_type": "code",
   "execution_count": null,
   "id": "ab40f7b4",
   "metadata": {},
   "outputs": [],
   "source": []
  },
  {
   "cell_type": "code",
   "execution_count": 98,
   "id": "65dba0fe",
   "metadata": {},
   "outputs": [],
   "source": [
    "names8 = []\n",
    "\n",
    "for i in driver.find_elements(By.XPATH,'//div[@class=\"_2Gr10\"]'):\n",
    "    names8.append(i.text)"
   ]
  },
  {
   "cell_type": "code",
   "execution_count": 99,
   "id": "a08098ba",
   "metadata": {},
   "outputs": [
    {
     "data": {
      "text/plain": [
       "['Mercedes-Benz GLS',\n",
       " 'Mercedes-Benz GLE Class',\n",
       " 'Mercedes-Benz GLC Class',\n",
       " 'Mercedes-Benz E-Class',\n",
       " 'Mercedes-Benz GLC Class',\n",
       " 'Mercedes-Benz E-Class',\n",
       " 'Mercedes-Benz C-Class',\n",
       " 'Mercedes-Benz GLA Class',\n",
       " 'Mercedes-Benz GLS',\n",
       " 'Mercedes-Benz E-Class',\n",
       " 'Mercedes-Benz E-Class',\n",
       " 'Mercedes-Benz S-Class',\n",
       " 'Mercedes-Benz E-Class',\n",
       " 'Mercedes-Benz GL-Class',\n",
       " 'Mercedes-Benz GL-Class',\n",
       " 'Mercedes-Benz GLE Class',\n",
       " 'Mercedes-Benz E-Class',\n",
       " 'Mercedes-Benz M-Class',\n",
       " 'Mercedes-Benz E-Class',\n",
       " 'Mercedes-Benz GL-Class',\n",
       " 'Mercedes-Benz C-Class',\n",
       " 'Mercedes-Benz E-Class',\n",
       " 'Mercedes-Benz E-Class',\n",
       " 'Mercedes-Benz C-Class',\n",
       " 'Mercedes-Benz S-Class',\n",
       " 'Mercedes-Benz E-Class',\n",
       " 'Mercedes-Benz E-Class',\n",
       " 'Mercedes-Benz GLS',\n",
       " 'Mercedes-Benz C-Class',\n",
       " 'Mercedes-Benz GLS',\n",
       " 'Mercedes-Benz E-Class',\n",
       " 'Mercedes-Benz GLC Class',\n",
       " 'Mercedes-Benz C-Class',\n",
       " 'Mercedes-Benz E-Class',\n",
       " 'Mercedes-Benz GLS',\n",
       " 'Mercedes-Benz CLA',\n",
       " 'Mercedes-Benz M-Class',\n",
       " 'Mercedes-Benz V-Class',\n",
       " 'Mercedes-Benz GL-Class',\n",
       " 'Mercedes-Benz C-Class']"
      ]
     },
     "execution_count": 99,
     "metadata": {},
     "output_type": "execute_result"
    }
   ],
   "source": [
    "names8"
   ]
  },
  {
   "cell_type": "code",
   "execution_count": 100,
   "id": "1317782c",
   "metadata": {},
   "outputs": [],
   "source": [
    "place8 = []\n",
    "\n",
    "for i in driver.find_elements(By.XPATH,'//div[@class=\"_3VRSm\"]'):\n",
    "    place8.append(i.text)"
   ]
  },
  {
   "cell_type": "code",
   "execution_count": 101,
   "id": "42bdba31",
   "metadata": {},
   "outputs": [
    {
     "data": {
      "text/plain": [
       "['Vikaspuri\\nJan 18',\n",
       " 'Vikaspuri\\nJan 10',\n",
       " 'Vikaspuri\\n7 days ago',\n",
       " 'Rajouri Garden\\nToday',\n",
       " 'Rajouri Garden\\nToday',\n",
       " 'Rajouri Garden\\nToday',\n",
       " 'Pitampura\\nToday',\n",
       " 'Rajouri Garden\\nToday',\n",
       " 'Pitampura\\nToday',\n",
       " 'Rajouri Garden\\nToday',\n",
       " 'Rajouri Garden\\nToday',\n",
       " 'Pitampura\\nToday',\n",
       " 'Pitampura\\nToday',\n",
       " 'Rajouri Garden\\nToday',\n",
       " 'Rajouri Garden\\nToday',\n",
       " 'Rajouri Garden\\nToday',\n",
       " 'Rajouri Garden\\nToday',\n",
       " 'Rajouri Garden\\nToday',\n",
       " 'Rajouri Garden\\nToday',\n",
       " 'Rajouri Garden\\nToday',\n",
       " 'MBS Nagar\\nDec 25',\n",
       " 'Vikaspuri\\n5 days ago',\n",
       " 'Rajouri Garden\\nJan 10',\n",
       " 'Punjabi Bagh West\\nToday',\n",
       " 'Paschim Vihar\\nToday',\n",
       " 'Pitampura\\nToday',\n",
       " 'Punjabi Bagh West\\nToday',\n",
       " 'Vikaspuri\\nToday',\n",
       " 'Rajouri Garden\\nToday',\n",
       " 'Rajouri Garden\\nToday',\n",
       " 'Pitampura\\nToday',\n",
       " 'Rajouri Garden\\nToday',\n",
       " 'Vikaspuri\\nToday',\n",
       " 'Vikaspuri\\nToday',\n",
       " 'Vikaspuri\\nToday',\n",
       " 'Rajouri Garden\\nToday',\n",
       " 'Pitampura\\nToday',\n",
       " 'Pitampura\\nToday',\n",
       " 'Rajouri Garden\\nToday',\n",
       " 'Rajouri Garden\\nToday']"
      ]
     },
     "execution_count": 101,
     "metadata": {},
     "output_type": "execute_result"
    }
   ],
   "source": [
    "place8"
   ]
  },
  {
   "cell_type": "code",
   "execution_count": 102,
   "id": "154a8b71",
   "metadata": {},
   "outputs": [],
   "source": [
    "kms8 = []\n",
    "\n",
    "for i in driver.find_elements(By.XPATH,'//div[@class=\"_21gnE\"]'):\n",
    "    kms8.append(i.text)"
   ]
  },
  {
   "cell_type": "code",
   "execution_count": 103,
   "id": "79c4eec3",
   "metadata": {},
   "outputs": [
    {
     "data": {
      "text/plain": [
       "['2021 - 21000.0 km',\n",
       " '2021 - 12,000 km',\n",
       " '2020 - 30,000 km',\n",
       " '2018 - 7000.0 km',\n",
       " '2016 - 53000.0 km',\n",
       " '2016 - 32000.0 km',\n",
       " '2014 - 60000.0 km',\n",
       " '2017 - 43000.0 km',\n",
       " '2017 - 76000.0 km',\n",
       " '2015 - 60,000 km',\n",
       " '2021 - 20000.0 km',\n",
       " '2015 - 40000.0 km',\n",
       " '2022 - 2000.0 km',\n",
       " '2014 - 87403.0 km',\n",
       " '2014 - 93772.0 km',\n",
       " '2018 - 95786.0 km',\n",
       " '2018 - 59447.0 km',\n",
       " '2015 - 83357.0 km',\n",
       " '2017 - 24883.0 km',\n",
       " '2013 - 107021.0 km',\n",
       " '2018 - 32000.0 km',\n",
       " '2021 - 25,000 km',\n",
       " '2014 - 76000.0 km',\n",
       " '2009 - 40000.0 km',\n",
       " '2010 - 40,000 km',\n",
       " '2014 - 76000.0 km',\n",
       " '2018 - 15000.0 km',\n",
       " '2017 - 75000.0 km',\n",
       " '2021 - 9000.0 km',\n",
       " '2018 - 65,000 km',\n",
       " '2018 - 15000.0 km',\n",
       " '2017 - 12000.0 km',\n",
       " '2020 - 50,000 km',\n",
       " '2014 - 89000.0 km',\n",
       " '2018 - 69000.0 km',\n",
       " '2015 - 50000.0 km',\n",
       " '2015 - 94000.0 km',\n",
       " '2008 - 20000.0 km',\n",
       " '2015 - 91093.0 km',\n",
       " '2008 - 80,000 km']"
      ]
     },
     "execution_count": 103,
     "metadata": {},
     "output_type": "execute_result"
    }
   ],
   "source": [
    "kms8"
   ]
  },
  {
   "cell_type": "code",
   "execution_count": 104,
   "id": "9b276a19",
   "metadata": {},
   "outputs": [],
   "source": [
    "war8 = []\n",
    "\n",
    "for i in driver.find_elements(By.XPATH,'//div[@class=\"_2SZA5\"]'):\n",
    "    war8.append(i.text)"
   ]
  },
  {
   "cell_type": "code",
   "execution_count": 105,
   "id": "17507e37",
   "metadata": {},
   "outputs": [
    {
     "data": {
      "text/plain": [
       "['VERIFIED SELLER',\n",
       " 'VERIFIED SELLER',\n",
       " 'VERIFIED SELLER',\n",
       " 'VERIFIED SELLER',\n",
       " 'VERIFIED SELLER',\n",
       " 'VERIFIED SELLER',\n",
       " 'VERIFIED SELLER',\n",
       " 'VERIFIED SELLER',\n",
       " 'VERIFIED SELLER',\n",
       " 'VERIFIED SELLER',\n",
       " 'VERIFIED SELLER',\n",
       " 'VERIFIED SELLER',\n",
       " 'VERIFIED SELLER',\n",
       " 'VERIFIED SELLER',\n",
       " 'VERIFIED SELLER',\n",
       " 'VERIFIED SELLER',\n",
       " 'VERIFIED SELLER',\n",
       " 'VERIFIED SELLER',\n",
       " 'VERIFIED SELLER',\n",
       " 'VERIFIED SELLER',\n",
       " 'VERIFIED SELLER',\n",
       " 'VERIFIED SELLER',\n",
       " 'VERIFIED SELLER',\n",
       " 'VERIFIED SELLER',\n",
       " 'VERIFIED SELLER',\n",
       " 'VERIFIED SELLER',\n",
       " 'VERIFIED SELLER',\n",
       " 'VERIFIED SELLER']"
      ]
     },
     "execution_count": 105,
     "metadata": {},
     "output_type": "execute_result"
    }
   ],
   "source": [
    "war8"
   ]
  },
  {
   "cell_type": "code",
   "execution_count": 106,
   "id": "3b5f77df",
   "metadata": {},
   "outputs": [],
   "source": [
    "price8 = []\n",
    "\n",
    "for i in driver.find_elements(By.XPATH,'//span[@class=\"_1zgtX\"]'):\n",
    "    price8.append(i.text)"
   ]
  },
  {
   "cell_type": "code",
   "execution_count": 107,
   "id": "da5c47c5",
   "metadata": {},
   "outputs": [
    {
     "data": {
      "text/plain": [
       "['₹ 1,33,75,000',\n",
       " '₹ 89,00,000',\n",
       " '₹ 53,75,000',\n",
       " '₹ 49,90,000',\n",
       " '₹ 32,80,000',\n",
       " '₹ 27,50,000',\n",
       " '₹ 12,49,000',\n",
       " '₹ 22,50,000',\n",
       " '₹ 59,50,000',\n",
       " '₹ 16,50,000',\n",
       " '₹ 64,44,000',\n",
       " '₹ 51,00,000',\n",
       " '₹ 76,25,000',\n",
       " '₹ 28,90,000',\n",
       " '₹ 28,90,000',\n",
       " '₹ 45,90,000',\n",
       " '₹ 43,90,000',\n",
       " '₹ 24,90,000',\n",
       " '₹ 43,90,000',\n",
       " '₹ 23,90,000',\n",
       " '₹ 60,75,000',\n",
       " '₹ 69,75,000',\n",
       " '₹ 13,80,000',\n",
       " '₹ 4,99,000',\n",
       " '₹ 13,00,000',\n",
       " '₹ 13,80,000',\n",
       " '₹ 47,75,000',\n",
       " '₹ 57,75,000',\n",
       " '₹ 45,75,000',\n",
       " '₹ 63,00,000',\n",
       " '₹ 47,75,000',\n",
       " '₹ 39,50,000',\n",
       " '₹ 39,00,000',\n",
       " '₹ 14,25,000',\n",
       " '₹ 68,00,000',\n",
       " '₹ 16,50,000',\n",
       " '₹ 23,00,000',\n",
       " '₹ 32,00,000',\n",
       " '₹ 33,90,000',\n",
       " '₹ 2,00,000']"
      ]
     },
     "execution_count": 107,
     "metadata": {},
     "output_type": "execute_result"
    }
   ],
   "source": [
    "price8"
   ]
  },
  {
   "cell_type": "code",
   "execution_count": null,
   "id": "e37f0ee2",
   "metadata": {},
   "outputs": [],
   "source": []
  },
  {
   "cell_type": "code",
   "execution_count": 108,
   "id": "a6e9d0e1",
   "metadata": {},
   "outputs": [],
   "source": [
    "brand_check = driver.find_element(By.XPATH,'/html/body/div/div/main/div/div/section/div/div[2]/div[5]/div[1]/div/div[3]/div[2]/div[2]/div[3]/div[2]/div/div[6]/div/input')\n",
    "brand_check.click()"
   ]
  },
  {
   "cell_type": "code",
   "execution_count": null,
   "id": "d6a8ddf2",
   "metadata": {},
   "outputs": [],
   "source": []
  },
  {
   "cell_type": "code",
   "execution_count": 109,
   "id": "5f93dbba",
   "metadata": {},
   "outputs": [],
   "source": [
    "names9 = []\n",
    "\n",
    "for i in driver.find_elements(By.XPATH,'//div[@class=\"_2Gr10\"]'):\n",
    "    names9.append(i.text)"
   ]
  },
  {
   "cell_type": "code",
   "execution_count": 110,
   "id": "6c0b095c",
   "metadata": {},
   "outputs": [
    {
     "data": {
      "text/plain": [
       "['BMW 5 Series',\n",
       " 'BMW X1',\n",
       " 'BMW X1',\n",
       " 'BMW X5',\n",
       " 'BMW 5 Series',\n",
       " 'BMW 3 Series',\n",
       " 'BMW X5',\n",
       " 'BMW 5 Series',\n",
       " 'BMW X5',\n",
       " 'BMW 5 Series',\n",
       " 'BMW X1',\n",
       " 'BMW X5',\n",
       " 'BMW 7 Series',\n",
       " 'BMW X1',\n",
       " 'BMW X7',\n",
       " 'BMW X1',\n",
       " 'BMW 5 Series',\n",
       " 'BMW 3 Series GT',\n",
       " 'BMW 5 Series',\n",
       " 'BMW 5 Series',\n",
       " 'BMW X7',\n",
       " 'BMW X3',\n",
       " 'BMW X3',\n",
       " 'BMW 3 Series GT',\n",
       " 'BMW X1',\n",
       " 'BMW X1',\n",
       " 'BMW 5 Series',\n",
       " 'BMW X5',\n",
       " 'BMW 7 Series',\n",
       " 'BMW 5 Series',\n",
       " 'BMW 5 Series',\n",
       " 'BMW X1',\n",
       " 'BMW 3 Series GT',\n",
       " 'BMW 3 Series GT',\n",
       " 'BMW X1',\n",
       " 'BMW 3 Series GT',\n",
       " 'BMW X1',\n",
       " 'BMW X5',\n",
       " 'BMW 7 Series',\n",
       " 'BMW 5 Series']"
      ]
     },
     "execution_count": 110,
     "metadata": {},
     "output_type": "execute_result"
    }
   ],
   "source": [
    "names9"
   ]
  },
  {
   "cell_type": "code",
   "execution_count": 111,
   "id": "4cd07051",
   "metadata": {},
   "outputs": [],
   "source": [
    "place9 = []\n",
    "\n",
    "for i in driver.find_elements(By.XPATH,'//div[@class=\"_3VRSm\"]'):\n",
    "    place9.append(i.text)"
   ]
  },
  {
   "cell_type": "code",
   "execution_count": 112,
   "id": "473bef7a",
   "metadata": {},
   "outputs": [
    {
     "data": {
      "text/plain": [
       "['Jawalaheri\\nJan 21',\n",
       " 'Pitampura\\nDec 10',\n",
       " 'Bali Nagar\\nJan 13',\n",
       " 'Vikaspuri\\nToday',\n",
       " 'Rajouri Garden\\nToday',\n",
       " 'Rajouri Garden\\nToday',\n",
       " 'Rajouri Garden\\nToday',\n",
       " 'Rajouri Garden\\nToday',\n",
       " 'Rajouri Garden\\nToday',\n",
       " 'Rajouri Garden\\nToday',\n",
       " 'Rajouri Garden\\nToday',\n",
       " 'Rajouri Garden\\nToday',\n",
       " 'Bali Nagar\\nToday',\n",
       " 'Vikaspuri\\nToday',\n",
       " 'Rajouri Garden\\nToday',\n",
       " 'Rajouri Garden\\nToday',\n",
       " 'Paschim Vihar\\nToday',\n",
       " 'Rajouri Garden\\nToday',\n",
       " 'Rajouri Garden\\nToday',\n",
       " 'Rajouri Garden\\nToday',\n",
       " 'Vikaspuri\\nJan 04',\n",
       " 'Vikaspuri\\nJan 14',\n",
       " 'Ramesh Nagar\\nJan 22',\n",
       " 'Rajouri Garden\\nToday',\n",
       " 'Rajouri Garden\\nYesterday',\n",
       " 'Rajouri Garden\\nYesterday',\n",
       " 'Rajouri Garden\\nYesterday',\n",
       " 'Bali Nagar\\nYesterday',\n",
       " 'Pitampura\\nYesterday',\n",
       " 'Pitampura\\nYesterday',\n",
       " 'Vikaspuri\\nYesterday',\n",
       " 'Punjabi Bagh West\\nYesterday',\n",
       " 'Pitampura\\nYesterday',\n",
       " 'Pitampura\\nYesterday',\n",
       " 'Pitampura\\nYesterday',\n",
       " 'Rajouri Garden\\nYesterday',\n",
       " 'Vikaspuri\\nYesterday',\n",
       " 'Rajouri Garden\\nYesterday',\n",
       " 'Rajouri Garden\\nYesterday',\n",
       " 'Subhash Nagar\\nYesterday']"
      ]
     },
     "execution_count": 112,
     "metadata": {},
     "output_type": "execute_result"
    }
   ],
   "source": [
    "place9"
   ]
  },
  {
   "cell_type": "code",
   "execution_count": 113,
   "id": "d8ca2b13",
   "metadata": {},
   "outputs": [],
   "source": [
    "kms9 = []\n",
    "\n",
    "for i in driver.find_elements(By.XPATH,'//div[@class=\"_21gnE\"]'):\n",
    "    kms9.append(i.text)"
   ]
  },
  {
   "cell_type": "code",
   "execution_count": 114,
   "id": "4e71f16a",
   "metadata": {},
   "outputs": [
    {
     "data": {
      "text/plain": [
       "['2020 - 21,000 km',\n",
       " '2007 - 37900.0 km',\n",
       " '2019 - 19000.0 km',\n",
       " '2022 - 20000.0 km',\n",
       " '2018 - 46660.0 km',\n",
       " '2014 - 69188.0 km',\n",
       " '2015 - 128238.0 km',\n",
       " '2013 - 61478.0 km',\n",
       " '2013 - 89995.0 km',\n",
       " '2016 - 22313.0 km',\n",
       " '2019 - 37,226 km',\n",
       " '2020 - 44775.0 km',\n",
       " '2010 - 30,000 km',\n",
       " '2018 - 41000.0 km',\n",
       " '2020 - 34,000 km',\n",
       " '2017 - 36,000 km',\n",
       " '2020 - 12000.0 km',\n",
       " '2016 - 42000.0 km',\n",
       " '2017 - 50000.0 km',\n",
       " '2016 - 70,019 km',\n",
       " '2019 - 38000.0 km',\n",
       " '2019 - 40000.0 km',\n",
       " '2012 - 91000.0 km',\n",
       " '2017 - 21216.0 km',\n",
       " '2017 - 34000.0 km',\n",
       " '2016 - 46000.0 km',\n",
       " '2019 - 15,000 km',\n",
       " '2017 - 51,000 km',\n",
       " '2017 - 62000.0 km',\n",
       " '2014 - 98000.0 km',\n",
       " '2017 - 40000.0 km',\n",
       " '2017 - 60,000 km',\n",
       " '2016 - 42000.0 km',\n",
       " '2015 - 75000.0 km',\n",
       " '2017 - 36,000 km',\n",
       " '2015 - 75000.0 km',\n",
       " '2018 - 38000.0 km',\n",
       " '2017 - 66,474 km',\n",
       " '2010 - 56,015 km',\n",
       " '2014 - 67,000 km']"
      ]
     },
     "execution_count": 114,
     "metadata": {},
     "output_type": "execute_result"
    }
   ],
   "source": [
    "kms9"
   ]
  },
  {
   "cell_type": "code",
   "execution_count": 115,
   "id": "6cdc2903",
   "metadata": {},
   "outputs": [],
   "source": [
    "war9 = []\n",
    "\n",
    "for i in driver.find_elements(By.XPATH,'//div[@class=\"_2SZA5\"]'):\n",
    "    war9.append(i.text)"
   ]
  },
  {
   "cell_type": "code",
   "execution_count": 116,
   "id": "2e4da500",
   "metadata": {},
   "outputs": [
    {
     "data": {
      "text/plain": [
       "['VERIFIED SELLER',\n",
       " 'VERIFIED SELLER',\n",
       " 'VERIFIED SELLER',\n",
       " 'VERIFIED SELLER',\n",
       " 'VERIFIED SELLER',\n",
       " 'VERIFIED SELLER',\n",
       " 'VERIFIED SELLER',\n",
       " 'VERIFIED SELLER',\n",
       " 'VERIFIED SELLER',\n",
       " 'VERIFIED SELLER',\n",
       " 'VERIFIED SELLER',\n",
       " 'VERIFIED SELLER',\n",
       " 'VERIFIED SELLER',\n",
       " 'VERIFIED SELLER',\n",
       " 'VERIFIED SELLER',\n",
       " 'VERIFIED SELLER',\n",
       " 'VERIFIED SELLER',\n",
       " 'VERIFIED SELLER',\n",
       " 'VERIFIED SELLER',\n",
       " 'VERIFIED SELLER',\n",
       " 'VERIFIED SELLER',\n",
       " 'VERIFIED SELLER',\n",
       " 'VERIFIED SELLER',\n",
       " 'VERIFIED SELLER',\n",
       " 'VERIFIED SELLER',\n",
       " 'VERIFIED SELLER',\n",
       " 'VERIFIED SELLER',\n",
       " 'VERIFIED SELLER',\n",
       " 'VERIFIED SELLER',\n",
       " 'VERIFIED SELLER',\n",
       " 'VERIFIED SELLER',\n",
       " 'VERIFIED SELLER',\n",
       " 'VERIFIED SELLER',\n",
       " 'VERIFIED SELLER',\n",
       " 'VERIFIED SELLER',\n",
       " 'VERIFIED SELLER']"
      ]
     },
     "execution_count": 116,
     "metadata": {},
     "output_type": "execute_result"
    }
   ],
   "source": [
    "war9"
   ]
  },
  {
   "cell_type": "code",
   "execution_count": 117,
   "id": "6bdea618",
   "metadata": {},
   "outputs": [],
   "source": [
    "price9 = []\n",
    "\n",
    "for i in driver.find_elements(By.XPATH,'//span[@class=\"_1zgtX\"]'):\n",
    "    price9.append(i.text)"
   ]
  },
  {
   "cell_type": "code",
   "execution_count": 118,
   "id": "77b2fdcf",
   "metadata": {},
   "outputs": [
    {
     "data": {
      "text/plain": [
       "['₹ 31,00,000',\n",
       " '₹ 24,75,000',\n",
       " '₹ 31,99,000',\n",
       " '₹ 1,00,00,000',\n",
       " '₹ 37,90,000',\n",
       " '₹ 11,90,000',\n",
       " '₹ 27,90,000',\n",
       " '₹ 12,90,000',\n",
       " '₹ 13,90,000',\n",
       " '₹ 26,90,000',\n",
       " '₹ 28,90,000',\n",
       " '₹ 80,90,000',\n",
       " '₹ 26,50,000',\n",
       " '₹ 27,00,000',\n",
       " '₹ 1,15,00,000',\n",
       " '₹ 24,75,000',\n",
       " '₹ 54,50,000',\n",
       " '₹ 25,25,000',\n",
       " '₹ 26,50,000',\n",
       " '₹ 18,90,000',\n",
       " '₹ 1,15,00,000',\n",
       " '₹ 46,65,000',\n",
       " '₹ 9,70,000',\n",
       " '₹ 27,90,000',\n",
       " '₹ 21,50,000',\n",
       " '₹ 21,70,000',\n",
       " '₹ 47,50,000',\n",
       " '₹ 44,00,000',\n",
       " '₹ 51,65,000',\n",
       " '₹ 14,95,000',\n",
       " '₹ 29,00,000',\n",
       " '₹ 23,00,000',\n",
       " '₹ 25,25,000',\n",
       " '₹ 20,25,000',\n",
       " '₹ 24,75,000',\n",
       " '₹ 20,25,000',\n",
       " '₹ 28,50,000',\n",
       " '₹ 42,90,000',\n",
       " '₹ 12,90,000',\n",
       " '₹ 15,25,000']"
      ]
     },
     "execution_count": 118,
     "metadata": {},
     "output_type": "execute_result"
    }
   ],
   "source": [
    "price9"
   ]
  },
  {
   "cell_type": "code",
   "execution_count": null,
   "id": "571bc02d",
   "metadata": {},
   "outputs": [],
   "source": []
  },
  {
   "cell_type": "code",
   "execution_count": 119,
   "id": "fcfaa149",
   "metadata": {},
   "outputs": [],
   "source": [
    "brand_check = driver.find_element(By.XPATH,'/html/body/div/div/main/div/div/section/div/div[2]/div[5]/div[1]/div/div[3]/div[2]/div[2]/div[3]/div[2]/div/div[5]/div/input')\n",
    "brand_check.click()"
   ]
  },
  {
   "cell_type": "code",
   "execution_count": null,
   "id": "64be2148",
   "metadata": {},
   "outputs": [],
   "source": []
  },
  {
   "cell_type": "code",
   "execution_count": 120,
   "id": "f9c8f3f1",
   "metadata": {},
   "outputs": [],
   "source": [
    "names11 = []\n",
    "\n",
    "for i in driver.find_elements(By.XPATH,'//div[@class=\"_2Gr10\"]'):\n",
    "    names11.append(i.text)"
   ]
  },
  {
   "cell_type": "code",
   "execution_count": 121,
   "id": "088f43ca",
   "metadata": {},
   "outputs": [
    {
     "data": {
      "text/plain": [
       "['Renault Duster',\n",
       " 'Renault KWID',\n",
       " 'Renault Triber',\n",
       " 'Renault KWID',\n",
       " 'Renault Lodgy',\n",
       " 'Renault Pulse',\n",
       " 'Renault Duster',\n",
       " 'Renault Lodgy',\n",
       " 'Renault Duster',\n",
       " 'Renault Duster',\n",
       " 'Renault Duster',\n",
       " 'Renault KWID',\n",
       " 'Renault KWID',\n",
       " 'Renault KWID',\n",
       " 'Renault KWID',\n",
       " 'Renault Duster',\n",
       " 'Renault KWID',\n",
       " 'Renault Duster',\n",
       " 'Renault Duster',\n",
       " 'Renault Duster',\n",
       " 'Renault Duster',\n",
       " 'Renault Duster',\n",
       " 'Renault Duster',\n",
       " 'Renault Duster',\n",
       " 'Renault Duster',\n",
       " 'Renault Duster',\n",
       " 'Renault Duster',\n",
       " 'Renault Lodgy',\n",
       " 'Renault Duster',\n",
       " 'Renault Duster',\n",
       " 'Renault Duster',\n",
       " 'Renault Duster',\n",
       " 'Renault Duster',\n",
       " 'Renault Duster',\n",
       " 'Renault Duster',\n",
       " 'Renault KWID',\n",
       " 'Renault Duster',\n",
       " 'Renault Duster',\n",
       " 'Renault KWID',\n",
       " 'Renault KWID']"
      ]
     },
     "execution_count": 121,
     "metadata": {},
     "output_type": "execute_result"
    }
   ],
   "source": [
    "names11"
   ]
  },
  {
   "cell_type": "code",
   "execution_count": 122,
   "id": "9dbc64c9",
   "metadata": {},
   "outputs": [],
   "source": [
    "place11 = []\n",
    "\n",
    "for i in driver.find_elements(By.XPATH,'//div[@class=\"_3VRSm\"]'):\n",
    "    place11.append(i.text)"
   ]
  },
  {
   "cell_type": "code",
   "execution_count": 123,
   "id": "0abdfe4c",
   "metadata": {},
   "outputs": [
    {
     "data": {
      "text/plain": [
       "['Rohini Sector 7\\nSep 17',\n",
       " 'Punjabi Bagh West\\nNov 23',\n",
       " 'Jawalaheri\\nJan 21',\n",
       " 'Paschim Vihar\\nToday',\n",
       " 'Pitampura\\nToday',\n",
       " 'Rajouri Garden\\nToday',\n",
       " 'Ramesh Nagar\\nToday',\n",
       " 'Punjabi Bagh West\\nToday',\n",
       " 'Pitampura\\nToday',\n",
       " 'Paschim Vihar\\nToday',\n",
       " 'Peera Garhi\\nToday',\n",
       " 'Vikaspuri\\nToday',\n",
       " 'Pitampura\\nToday',\n",
       " 'Rohini Sector 2\\nToday',\n",
       " 'Rajouri Garden\\nToday',\n",
       " 'Vikaspuri\\nYesterday',\n",
       " 'Peera Garhi\\nYesterday',\n",
       " 'Pitampura\\nYesterday',\n",
       " 'Paschim Vihar\\nYesterday',\n",
       " 'Pitampura\\nYesterday',\n",
       " 'Paschim Vihar\\nDec 10',\n",
       " 'Paschim Vihar\\n6 days ago',\n",
       " 'Rohini Sector 7\\nDec 13',\n",
       " 'Ramesh Nagar\\nYesterday',\n",
       " 'Rohini Sector 3\\nYesterday',\n",
       " 'Ramesh Nagar\\nYesterday',\n",
       " 'Rohini Sector 3\\nYesterday',\n",
       " 'Pitampura\\nYesterday',\n",
       " 'Pitampura\\nYesterday',\n",
       " 'Pitampura\\nYesterday',\n",
       " 'Pitampura\\nYesterday',\n",
       " 'Tagore Garden\\n2 days ago',\n",
       " 'Subhash Nagar\\n2 days ago',\n",
       " 'Pitampura\\n3 days ago',\n",
       " 'Rajouri Garden\\n3 days ago',\n",
       " 'Tilak Nagar\\n3 days ago',\n",
       " 'Pitampura\\n3 days ago',\n",
       " 'Subhash Nagar\\n3 days ago',\n",
       " 'Rajouri Garden\\n4 days ago',\n",
       " 'Pitampura\\n5 days ago']"
      ]
     },
     "execution_count": 123,
     "metadata": {},
     "output_type": "execute_result"
    }
   ],
   "source": [
    "place11"
   ]
  },
  {
   "cell_type": "code",
   "execution_count": 124,
   "id": "35e7bace",
   "metadata": {},
   "outputs": [],
   "source": [
    "kms11 = []\n",
    "\n",
    "for i in driver.find_elements(By.XPATH,'//div[@class=\"_21gnE\"]'):\n",
    "    kms11.append(i.text)"
   ]
  },
  {
   "cell_type": "code",
   "execution_count": 125,
   "id": "d3546d93",
   "metadata": {},
   "outputs": [
    {
     "data": {
      "text/plain": [
       "['2014 - 62000.0 km',\n",
       " '2020 - 20000.0 km',\n",
       " '2022 - 5,000 km',\n",
       " '2017 - 28,300 km',\n",
       " '2015 - 72000.0 km',\n",
       " '2014 - 69000.0 km',\n",
       " '2015 - 78000.0 km',\n",
       " '2015 - 24000.0 km',\n",
       " '2014 - 55000.0 km',\n",
       " '2017 - 60,850 km',\n",
       " '2013 - 73000.0 km',\n",
       " '2018 - 24,000 km',\n",
       " '2018 - 35000.0 km',\n",
       " '2019 - 21,000 km',\n",
       " '2018 - 14,000 km',\n",
       " '2015 - 68522.0 km',\n",
       " '2017 - 8970.0 km',\n",
       " '2014 - 75,000 km',\n",
       " '2013 - 60000.0 km',\n",
       " '2014 - 87000.0 km',\n",
       " '2014 - 68,980 km',\n",
       " '2014 - 68,680 km',\n",
       " '2015 - 62000.0 km',\n",
       " '2015 - 72000.0 km',\n",
       " '2014 - 70000.0 km',\n",
       " '2013 - 62034.0 km',\n",
       " '2014 - 55000.0 km',\n",
       " '2016 - 31,000 km',\n",
       " '2016 - 42,000 km',\n",
       " '2017 - 71,000 km',\n",
       " '2013 - 74000.0 km',\n",
       " '2015 - 89000.0 km',\n",
       " '2015 - 76000.0 km',\n",
       " '2016 - 70000.0 km',\n",
       " '2015 - 75000.0 km',\n",
       " '2019 - 38,000 km',\n",
       " '2013 - 83500.0 km',\n",
       " '2013 - 69,865 km',\n",
       " '2015 - 53,000 km',\n",
       " '2017 - 56,328 km']"
      ]
     },
     "execution_count": 125,
     "metadata": {},
     "output_type": "execute_result"
    }
   ],
   "source": [
    "kms11"
   ]
  },
  {
   "cell_type": "code",
   "execution_count": 126,
   "id": "b129acd8",
   "metadata": {},
   "outputs": [],
   "source": [
    "war11 = []\n",
    "\n",
    "for i in driver.find_elements(By.XPATH,'//div[@class=\"_2SZA5\"]'):\n",
    "    war11.append(i.text)"
   ]
  },
  {
   "cell_type": "code",
   "execution_count": 127,
   "id": "b08920b8",
   "metadata": {},
   "outputs": [
    {
     "data": {
      "text/plain": [
       "['WARRANTY',\n",
       " '',\n",
       " '',\n",
       " '',\n",
       " 'VERIFIED SELLER',\n",
       " 'VERIFIED SELLER',\n",
       " 'VERIFIED SELLER',\n",
       " 'VERIFIED SELLER',\n",
       " 'VERIFIED SELLER',\n",
       " 'VERIFIED SELLER',\n",
       " 'VERIFIED SELLER',\n",
       " 'VERIFIED SELLER',\n",
       " 'VERIFIED SELLER',\n",
       " 'VERIFIED SELLER',\n",
       " 'VERIFIED SELLER',\n",
       " 'VERIFIED SELLER',\n",
       " 'VERIFIED SELLER',\n",
       " 'VERIFIED SELLER',\n",
       " 'WARRANTY',\n",
       " '',\n",
       " '',\n",
       " '',\n",
       " 'WARRANTY',\n",
       " '',\n",
       " '',\n",
       " '',\n",
       " 'WARRANTY',\n",
       " '',\n",
       " '',\n",
       " '',\n",
       " 'VERIFIED SELLER',\n",
       " 'VERIFIED SELLER',\n",
       " 'VERIFIED SELLER',\n",
       " 'VERIFIED SELLER',\n",
       " 'VERIFIED SELLER',\n",
       " 'VERIFIED SELLER',\n",
       " 'VERIFIED SELLER',\n",
       " 'VERIFIED SELLER',\n",
       " 'VERIFIED SELLER',\n",
       " 'VERIFIED SELLER',\n",
       " 'VERIFIED SELLER',\n",
       " 'VERIFIED SELLER']"
      ]
     },
     "execution_count": 127,
     "metadata": {},
     "output_type": "execute_result"
    }
   ],
   "source": [
    "war11"
   ]
  },
  {
   "cell_type": "code",
   "execution_count": 128,
   "id": "a5305c45",
   "metadata": {},
   "outputs": [],
   "source": [
    "price11 = []\n",
    "\n",
    "for i in driver.find_elements(By.XPATH,'//span[@class=\"_1zgtX\"]'):\n",
    "    price11.append(i.text)"
   ]
  },
  {
   "cell_type": "code",
   "execution_count": 129,
   "id": "4149a2cb",
   "metadata": {},
   "outputs": [
    {
     "data": {
      "text/plain": [
       "['₹ 4,25,000',\n",
       " '₹ 3,85,000',\n",
       " '₹ 6,35,000',\n",
       " '₹ 3,20,000',\n",
       " '₹ 4,45,000',\n",
       " '₹ 2,50,000',\n",
       " '₹ 3,99,000',\n",
       " '₹ 4,90,000',\n",
       " '₹ 3,20,000',\n",
       " '₹ 6,90,000',\n",
       " '₹ 3,10,000',\n",
       " '₹ 2,99,000',\n",
       " '₹ 3,65,000',\n",
       " '₹ 4,25,000',\n",
       " '₹ 2,99,000',\n",
       " '₹ 4,50,000',\n",
       " '₹ 2,75,000',\n",
       " '₹ 3,80,000',\n",
       " '₹ 3,35,000',\n",
       " '₹ 3,40,000',\n",
       " '₹ 3,95,000',\n",
       " '₹ 3,49,000',\n",
       " '₹ 4,45,000',\n",
       " '₹ 4,30,000',\n",
       " '₹ 3,75,000',\n",
       " '₹ 3,25,000',\n",
       " '₹ 3,85,000',\n",
       " '₹ 5,45,000',\n",
       " '₹ 6,75,000',\n",
       " '₹ 5,75,000',\n",
       " '₹ 3,40,000',\n",
       " '₹ 4,15,000',\n",
       " '₹ 4,45,000',\n",
       " '₹ 6,65,000',\n",
       " '₹ 4,25,000',\n",
       " '₹ 3,28,000',\n",
       " '₹ 3,55,000',\n",
       " '₹ 2,80,000',\n",
       " '₹ 2,40,000',\n",
       " '₹ 2,85,000']"
      ]
     },
     "execution_count": 129,
     "metadata": {},
     "output_type": "execute_result"
    }
   ],
   "source": [
    "price11"
   ]
  },
  {
   "cell_type": "code",
   "execution_count": null,
   "id": "907fd64a",
   "metadata": {},
   "outputs": [],
   "source": []
  },
  {
   "cell_type": "code",
   "execution_count": 130,
   "id": "82dbdd01",
   "metadata": {},
   "outputs": [],
   "source": [
    "brand_check = driver.find_element(By.XPATH,'/html/body/div/div/main/div/div/section/div/div[2]/div[5]/div[1]/div/div[3]/div[2]/div[2]/div[3]/div[2]/div/div[7]/div/input')\n",
    "brand_check.click()"
   ]
  },
  {
   "cell_type": "code",
   "execution_count": null,
   "id": "835d0fa6",
   "metadata": {},
   "outputs": [],
   "source": []
  },
  {
   "cell_type": "code",
   "execution_count": 131,
   "id": "0b60a157",
   "metadata": {},
   "outputs": [],
   "source": [
    "names12 = []\n",
    "\n",
    "for i in driver.find_elements(By.XPATH,'//div[@class=\"_2Gr10\"]'):\n",
    "    names12.append(i.text)"
   ]
  },
  {
   "cell_type": "code",
   "execution_count": 132,
   "id": "91a07a47",
   "metadata": {},
   "outputs": [
    {
     "data": {
      "text/plain": [
       "['Volkswagen Polo GTI',\n",
       " 'Volkswagen Tiguan',\n",
       " 'Volkswagen Vento',\n",
       " 'Volkswagen VentoTest',\n",
       " 'Volkswagen VentoTest',\n",
       " 'Volkswagen Vento',\n",
       " 'Volkswagen Ameo',\n",
       " 'Volkswagen Vento',\n",
       " 'Volkswagen Polo',\n",
       " 'Volkswagen Polo',\n",
       " 'Volkswagen VentoTest',\n",
       " 'Volkswagen Polo',\n",
       " 'Volkswagen Taigun',\n",
       " 'Volkswagen Polo',\n",
       " 'Volkswagen Polo GTI',\n",
       " 'Volkswagen VentoTest',\n",
       " 'Volkswagen Ameo',\n",
       " 'Volkswagen Vento',\n",
       " 'Volkswagen Ameo',\n",
       " 'Volkswagen VentoTest',\n",
       " 'Volkswagen Polo',\n",
       " 'Volkswagen Polo',\n",
       " 'Volkswagen Polo',\n",
       " 'Volkswagen Tiguan',\n",
       " 'Volkswagen Ameo',\n",
       " 'Volkswagen Tiguan',\n",
       " 'Volkswagen Ameo',\n",
       " 'Volkswagen VentoTest',\n",
       " 'Volkswagen Ameo',\n",
       " 'Volkswagen Vento',\n",
       " 'Volkswagen VentoTest',\n",
       " 'Volkswagen Polo',\n",
       " 'Volkswagen Polo',\n",
       " 'Volkswagen Polo',\n",
       " 'Volkswagen VentoTest',\n",
       " 'Volkswagen Polo',\n",
       " 'Volkswagen Jetta',\n",
       " 'Volkswagen VentoTest',\n",
       " 'Volkswagen VentoTest',\n",
       " 'Volkswagen Polo']"
      ]
     },
     "execution_count": 132,
     "metadata": {},
     "output_type": "execute_result"
    }
   ],
   "source": [
    "names12"
   ]
  },
  {
   "cell_type": "code",
   "execution_count": 133,
   "id": "ddb27a6b",
   "metadata": {},
   "outputs": [],
   "source": [
    "place12 = []\n",
    "\n",
    "for i in driver.find_elements(By.XPATH,'//div[@class=\"_3VRSm\"]'):\n",
    "    place12.append(i.text)"
   ]
  },
  {
   "cell_type": "code",
   "execution_count": 134,
   "id": "0e61f52c",
   "metadata": {},
   "outputs": [
    {
     "data": {
      "text/plain": [
       "['Rohini Sector 2\\n6 days ago',\n",
       " 'Paschim Vihar\\nJan 16',\n",
       " 'Paschim Vihar\\nDec 10',\n",
       " 'Paschim Vihar\\nToday',\n",
       " 'Paschim Vihar\\nToday',\n",
       " 'Peera Garhi\\nToday',\n",
       " 'Paschim Vihar\\nToday',\n",
       " 'Punjabi Bagh West\\nToday',\n",
       " 'Vikaspuri\\nToday',\n",
       " 'Vikaspuri\\nToday',\n",
       " 'Rajouri Garden\\nToday',\n",
       " 'Paschim Vihar\\nYesterday',\n",
       " 'Vikaspuri\\nYesterday',\n",
       " 'Rajouri Garden\\nYesterday',\n",
       " 'Punjabi Bagh West\\nYesterday',\n",
       " 'Pitampura\\nYesterday',\n",
       " 'Pitampura\\nYesterday',\n",
       " 'Vikaspuri\\nYesterday',\n",
       " 'Jawalaheri\\n3 days ago',\n",
       " 'Rajouri Garden\\n3 days ago',\n",
       " 'Miyanwali Nagar\\nJan 10',\n",
       " 'Pitampura\\n3 days ago',\n",
       " 'Subhash Nagar\\n4 days ago',\n",
       " 'Rajouri Garden\\n4 days ago',\n",
       " 'Rajouri Garden\\n5 days ago',\n",
       " 'Pitampura\\n5 days ago',\n",
       " 'Punjabi Bagh West\\n6 days ago',\n",
       " 'Pitampura\\n6 days ago',\n",
       " 'Rajouri Garden\\n6 days ago',\n",
       " 'Rajouri Garden\\n7 days ago',\n",
       " 'Milap Nagar\\n7 days ago',\n",
       " 'Rajouri Garden\\nJan 22',\n",
       " 'Pitampura\\nJan 21',\n",
       " 'Punjabi Bagh West\\nJan 21',\n",
       " 'Pitampura\\nJan 21',\n",
       " 'Rajouri Garden\\nJan 21',\n",
       " 'Delhi\\nJan 21',\n",
       " 'Pitampura\\nJan 21',\n",
       " 'Tilak Nagar\\nJan 20',\n",
       " 'Vikaspuri\\nJan 18']"
      ]
     },
     "execution_count": 134,
     "metadata": {},
     "output_type": "execute_result"
    }
   ],
   "source": [
    "place12"
   ]
  },
  {
   "cell_type": "code",
   "execution_count": 135,
   "id": "b53d4755",
   "metadata": {},
   "outputs": [],
   "source": [
    "kms12 = []\n",
    "\n",
    "for i in driver.find_elements(By.XPATH,'//div[@class=\"_21gnE\"]'):\n",
    "    kms12.append(i.text)"
   ]
  },
  {
   "cell_type": "code",
   "execution_count": 136,
   "id": "2edd431b",
   "metadata": {},
   "outputs": [
    {
     "data": {
      "text/plain": [
       "['2017 - 81,000 km',\n",
       " '2017 - 68000.0 km',\n",
       " '2010 - 68680.0 km',\n",
       " '2015 - 48,000 km',\n",
       " '2011 - 63,000 km',\n",
       " '2014.0 - 70000.0 km',\n",
       " '2016 - 58,900 km',\n",
       " '2015 - 49000.0 km',\n",
       " '2015 - 80000.0 km',\n",
       " '2016 - 65000.0 km',\n",
       " '2018 - 39,900 km',\n",
       " '2015 - 62000.0 km',\n",
       " '2022 - 9000.0 km',\n",
       " '2013 - 67000.0 km',\n",
       " '2014 - 70000.0 km',\n",
       " '2017 - 78,000 km',\n",
       " '2016 - 66,324 km',\n",
       " '2015 - 78000.0 km',\n",
       " '2019 - 95,000 km',\n",
       " '2013 - 59,000 km',\n",
       " '2013 - 70,000 km',\n",
       " '2011 - 62,500 km',\n",
       " '2014 - 74000.0 km',\n",
       " '2017 - 45000.0 km',\n",
       " '2016 - 105,874 km',\n",
       " '2017 - 45000.0 km',\n",
       " '2019 - 91,000 km',\n",
       " '2014 - 68,000 km',\n",
       " '2016 - 105869.0 km',\n",
       " '2018 - 40000.0 km',\n",
       " '2011 - 90,000 km',\n",
       " '2019 - 44,000 km',\n",
       " '2019 - 49,000 km',\n",
       " '2014 - 68000.0 km',\n",
       " '2015 - 115,000 km',\n",
       " '2015 - 65,000 km',\n",
       " '2015 - 78,000 km',\n",
       " '2013 - 75,000 km',\n",
       " '2012 - 68,000 km',\n",
       " '2011 - 49000.0 km']"
      ]
     },
     "execution_count": 136,
     "metadata": {},
     "output_type": "execute_result"
    }
   ],
   "source": [
    "kms12"
   ]
  },
  {
   "cell_type": "code",
   "execution_count": 137,
   "id": "f90cfe53",
   "metadata": {},
   "outputs": [],
   "source": [
    "war12 = []\n",
    "\n",
    "for i in driver.find_elements(By.XPATH,'//div[@class=\"_2SZA5\"]'):\n",
    "    war12.append(i.text)"
   ]
  },
  {
   "cell_type": "code",
   "execution_count": 138,
   "id": "878fe2aa",
   "metadata": {},
   "outputs": [
    {
     "data": {
      "text/plain": [
       "['VERIFIED SELLER',\n",
       " 'VERIFIED SELLER',\n",
       " 'WARRANTY',\n",
       " '',\n",
       " '',\n",
       " '',\n",
       " 'VERIFIED SELLER',\n",
       " 'VERIFIED SELLER',\n",
       " 'VERIFIED SELLER',\n",
       " 'VERIFIED SELLER',\n",
       " 'VERIFIED SELLER',\n",
       " 'VERIFIED SELLER',\n",
       " 'VERIFIED SELLER',\n",
       " 'VERIFIED SELLER',\n",
       " 'VERIFIED SELLER',\n",
       " 'VERIFIED SELLER',\n",
       " 'VERIFIED SELLER',\n",
       " 'VERIFIED SELLER',\n",
       " 'VERIFIED SELLER',\n",
       " 'VERIFIED SELLER',\n",
       " 'VERIFIED SELLER',\n",
       " 'VERIFIED SELLER',\n",
       " 'VERIFIED SELLER',\n",
       " 'VERIFIED SELLER',\n",
       " 'VERIFIED SELLER',\n",
       " 'VERIFIED SELLER',\n",
       " 'VERIFIED SELLER']"
      ]
     },
     "execution_count": 138,
     "metadata": {},
     "output_type": "execute_result"
    }
   ],
   "source": [
    "war12"
   ]
  },
  {
   "cell_type": "code",
   "execution_count": 139,
   "id": "c734b6e4",
   "metadata": {},
   "outputs": [],
   "source": [
    "price12 = []\n",
    "\n",
    "for i in driver.find_elements(By.XPATH,'//span[@class=\"_1zgtX\"]'):\n",
    "    price12.append(i.text)"
   ]
  },
  {
   "cell_type": "code",
   "execution_count": 140,
   "id": "0c3960ec",
   "metadata": {},
   "outputs": [
    {
     "data": {
      "text/plain": [
       "['₹ 7,40,000',\n",
       " '₹ 17,90,000',\n",
       " '₹ 2,45,000',\n",
       " '₹ 5,30,000',\n",
       " '₹ 2,35,000',\n",
       " '₹ 3,50,000',\n",
       " '₹ 4,25,000',\n",
       " '₹ 4,40,000',\n",
       " '₹ 4,75,000',\n",
       " '₹ 4,25,000',\n",
       " '₹ 7,95,000',\n",
       " '₹ 4,50,000',\n",
       " '₹ 15,00,000',\n",
       " '₹ 4,90,000',\n",
       " '₹ 4,65,000',\n",
       " '₹ 5,95,000',\n",
       " '₹ 4,25,000',\n",
       " '₹ 5,00,000',\n",
       " '₹ 4,99,000',\n",
       " '₹ 2,95,000',\n",
       " '₹ 2,79,000',\n",
       " '₹ 2,28,000',\n",
       " '₹ 3,35,000',\n",
       " '₹ 22,75,000',\n",
       " '₹ 4,10,000',\n",
       " '₹ 22,75,000',\n",
       " '₹ 4,99,999',\n",
       " '₹ 2,75,000',\n",
       " '₹ 4,10,000',\n",
       " '₹ 7,95,000',\n",
       " '₹ 2,80,000',\n",
       " '₹ 5,15,000',\n",
       " '₹ 8,50,000',\n",
       " '₹ 2,99,000',\n",
       " '₹ 4,21,500',\n",
       " '₹ 3,75,000',\n",
       " '₹ 8,80,000',\n",
       " '₹ 2,04,000',\n",
       " '₹ 2,45,000',\n",
       " '₹ 2,10,000']"
      ]
     },
     "execution_count": 140,
     "metadata": {},
     "output_type": "execute_result"
    }
   ],
   "source": [
    "price12"
   ]
  },
  {
   "cell_type": "code",
   "execution_count": null,
   "id": "f8443bac",
   "metadata": {},
   "outputs": [],
   "source": []
  },
  {
   "cell_type": "code",
   "execution_count": 141,
   "id": "d335bbba",
   "metadata": {},
   "outputs": [],
   "source": [
    "brand_check = driver.find_element(By.XPATH,'/html/body/div/div/main/div/div/section/div/div[2]/div[5]/div[1]/div/div[3]/div[2]/div[2]/div[3]/div[2]/div/div[6]/div/input')\n",
    "brand_check.click()"
   ]
  },
  {
   "cell_type": "code",
   "execution_count": null,
   "id": "0a464e6a",
   "metadata": {},
   "outputs": [],
   "source": []
  },
  {
   "cell_type": "code",
   "execution_count": 142,
   "id": "a57d80b4",
   "metadata": {},
   "outputs": [],
   "source": [
    "names13 = []\n",
    "\n",
    "for i in driver.find_elements(By.XPATH,'//div[@class=\"_2Gr10\"]'):\n",
    "    names13.append(i.text)"
   ]
  },
  {
   "cell_type": "code",
   "execution_count": 143,
   "id": "0a45f4c5",
   "metadata": {},
   "outputs": [
    {
     "data": {
      "text/plain": [
       "['Audi A3',\n",
       " 'Audi Q5',\n",
       " 'Audi A6',\n",
       " 'Audi A6',\n",
       " 'Audi Q5',\n",
       " 'Audi A6',\n",
       " 'Audi Q3',\n",
       " 'Audi Q5',\n",
       " 'Audi A3',\n",
       " 'Audi A6',\n",
       " 'Audi Q3',\n",
       " 'Audi Q5',\n",
       " 'Audi A6',\n",
       " 'Audi Q3',\n",
       " 'Audi Q3',\n",
       " 'Audi Q3',\n",
       " 'Audi A6',\n",
       " 'Audi A6',\n",
       " 'Audi A4',\n",
       " 'Audi Q7',\n",
       " 'Audi Q5',\n",
       " 'Audi A4',\n",
       " 'Audi Q3',\n",
       " 'Audi A4',\n",
       " 'Audi Q5',\n",
       " 'Audi Q3',\n",
       " 'Audi A6',\n",
       " 'Audi A6',\n",
       " 'Audi A4',\n",
       " 'Audi Q5',\n",
       " 'Audi A4',\n",
       " 'Audi A4',\n",
       " 'Audi A4',\n",
       " 'Audi Q3',\n",
       " 'Audi A6',\n",
       " 'Audi A3',\n",
       " 'Audi Q3',\n",
       " 'Audi Q3',\n",
       " 'Audi Q5',\n",
       " 'Audi Q5']"
      ]
     },
     "execution_count": 143,
     "metadata": {},
     "output_type": "execute_result"
    }
   ],
   "source": [
    "names13"
   ]
  },
  {
   "cell_type": "code",
   "execution_count": 144,
   "id": "b2a4d0fd",
   "metadata": {},
   "outputs": [],
   "source": [
    "place13 = []\n",
    "\n",
    "for i in driver.find_elements(By.XPATH,'//div[@class=\"_3VRSm\"]'):\n",
    "    place13.append(i.text)"
   ]
  },
  {
   "cell_type": "code",
   "execution_count": 145,
   "id": "f1f92cdf",
   "metadata": {},
   "outputs": [
    {
     "data": {
      "text/plain": [
       "['Vikaspuri\\nJan 18',\n",
       " 'Vikaspuri\\n6 days ago',\n",
       " 'MBS Nagar\\nJan 02',\n",
       " 'Tagore Garden\\nToday',\n",
       " 'Rajouri Garden\\nToday',\n",
       " 'Rajouri Garden\\nToday',\n",
       " 'Rajouri Garden\\nToday',\n",
       " 'Rajouri Garden\\nToday',\n",
       " 'Rajouri Garden\\nToday',\n",
       " 'Punjabi Bagh West\\nToday',\n",
       " 'Rajouri Garden\\nToday',\n",
       " 'Rajouri Garden\\nToday',\n",
       " 'Rajouri Garden\\nToday',\n",
       " 'Rajouri Garden\\nToday',\n",
       " 'Rajouri Garden\\nToday',\n",
       " 'Vikaspuri\\nToday',\n",
       " 'Vikaspuri\\nToday',\n",
       " 'Vikaspuri\\nToday',\n",
       " 'Vikaspuri\\nToday',\n",
       " 'Subhash Nagar\\nToday',\n",
       " 'Rajouri Garden\\nDec 08',\n",
       " 'Vikaspuri\\nJan 02',\n",
       " 'Rajouri Garden\\nOct 24',\n",
       " 'Rohini Sector 2\\nToday',\n",
       " 'Rajouri Garden\\nToday',\n",
       " 'Pitampura\\nYesterday',\n",
       " 'Bali Nagar\\nYesterday',\n",
       " 'Rajouri Garden\\nYesterday',\n",
       " 'Pitampura\\nYesterday',\n",
       " 'Rajouri Garden\\nYesterday',\n",
       " 'Paschim Vihar\\nYesterday',\n",
       " 'Rajouri Garden\\nYesterday',\n",
       " 'Mangolpuri\\nYesterday',\n",
       " 'Pitampura\\nYesterday',\n",
       " 'Vikaspuri\\nYesterday',\n",
       " 'Vikaspuri\\nYesterday',\n",
       " 'Rajouri Garden\\nYesterday',\n",
       " 'Vikaspuri\\nYesterday',\n",
       " 'Pitampura\\nYesterday',\n",
       " 'Subhash Nagar\\nYesterday']"
      ]
     },
     "execution_count": 145,
     "metadata": {},
     "output_type": "execute_result"
    }
   ],
   "source": [
    "place13"
   ]
  },
  {
   "cell_type": "code",
   "execution_count": 146,
   "id": "724387d0",
   "metadata": {},
   "outputs": [],
   "source": [
    "kms13 = []\n",
    "\n",
    "for i in driver.find_elements(By.XPATH,'//div[@class=\"_21gnE\"]'):\n",
    "    kms13.append(i.text)"
   ]
  },
  {
   "cell_type": "code",
   "execution_count": 147,
   "id": "8e5c6294",
   "metadata": {},
   "outputs": [
    {
     "data": {
      "text/plain": [
       "['2020 - 22000.0 km',\n",
       " '2020 - 18,000 km',\n",
       " '2016 - 90000.0 km',\n",
       " '2014 - 25,000 km',\n",
       " '2017 - 75000.0 km',\n",
       " '2019 - 38000.0 km',\n",
       " '2013 - 45,000 km',\n",
       " '2015 - 64000.0 km',\n",
       " '2016 - 58704.0 km',\n",
       " '2014 - 37000.0 km',\n",
       " '2013 - 71473.0 km',\n",
       " '2013 - 64430.0 km',\n",
       " '2013 - 65287.0 km',\n",
       " '2014 - 46008.0 km',\n",
       " '2014 - 113026.0 km',\n",
       " '2016 - 70000.0 km',\n",
       " '2013 - 75000.0 km',\n",
       " '2013 - 90000.0 km',\n",
       " '2014 - 75,000 km',\n",
       " '2012 - 98,000 km',\n",
       " '2015 - 80000.0 km',\n",
       " '2017 - 99000.0 km',\n",
       " '2017 - 24000.0 km',\n",
       " '2011 - 88000.0 km',\n",
       " '2015 - 35000.0 km',\n",
       " '2015 - 60000.0 km',\n",
       " '2015 - 67,000 km',\n",
       " '2016 - 23000.0 km',\n",
       " '2015 - 55,000 km',\n",
       " '2015 - 60,000 km',\n",
       " '2018 - 68180.0 km',\n",
       " '2016 - 68000.0 km',\n",
       " '2014 - 91,000 km',\n",
       " '2013 - 89000.0 km',\n",
       " '2015 - 60000.0 km',\n",
       " '2014 - 20000.0 km',\n",
       " '2014 - 55310.0 km',\n",
       " '2014 - 56000.0 km',\n",
       " '2015 - 35000.0 km',\n",
       " '2013 - 92,000 km']"
      ]
     },
     "execution_count": 147,
     "metadata": {},
     "output_type": "execute_result"
    }
   ],
   "source": [
    "kms13"
   ]
  },
  {
   "cell_type": "code",
   "execution_count": 148,
   "id": "a6eefee7",
   "metadata": {},
   "outputs": [],
   "source": [
    "war13 = []\n",
    "\n",
    "for i in driver.find_elements(By.XPATH,'//div[@class=\"_2SZA5\"]'):\n",
    "    war13.append(i.text)"
   ]
  },
  {
   "cell_type": "code",
   "execution_count": 149,
   "id": "eef9eaf7",
   "metadata": {},
   "outputs": [
    {
     "data": {
      "text/plain": [
       "['VERIFIED SELLER',\n",
       " 'VERIFIED SELLER',\n",
       " 'VERIFIED SELLER',\n",
       " 'VERIFIED SELLER',\n",
       " 'VERIFIED SELLER',\n",
       " 'VERIFIED SELLER',\n",
       " 'VERIFIED SELLER',\n",
       " 'VERIFIED SELLER',\n",
       " 'VERIFIED SELLER',\n",
       " 'VERIFIED SELLER',\n",
       " 'VERIFIED SELLER',\n",
       " 'VERIFIED SELLER',\n",
       " 'VERIFIED SELLER',\n",
       " 'VERIFIED SELLER',\n",
       " 'VERIFIED SELLER',\n",
       " 'VERIFIED SELLER',\n",
       " 'VERIFIED SELLER',\n",
       " 'VERIFIED SELLER',\n",
       " 'VERIFIED SELLER',\n",
       " 'VERIFIED SELLER',\n",
       " 'VERIFIED SELLER',\n",
       " 'VERIFIED SELLER',\n",
       " 'VERIFIED SELLER',\n",
       " 'VERIFIED SELLER',\n",
       " 'VERIFIED SELLER',\n",
       " 'VERIFIED SELLER',\n",
       " 'VERIFIED SELLER',\n",
       " 'VERIFIED SELLER',\n",
       " 'VERIFIED SELLER']"
      ]
     },
     "execution_count": 149,
     "metadata": {},
     "output_type": "execute_result"
    }
   ],
   "source": [
    "war13"
   ]
  },
  {
   "cell_type": "code",
   "execution_count": 150,
   "id": "e2a6b75d",
   "metadata": {},
   "outputs": [],
   "source": [
    "price13 = []\n",
    "\n",
    "for i in driver.find_elements(By.XPATH,'//span[@class=\"_1zgtX\"]'):\n",
    "    price13.append(i.text)"
   ]
  },
  {
   "cell_type": "code",
   "execution_count": 151,
   "id": "1c21c78c",
   "metadata": {},
   "outputs": [
    {
     "data": {
      "text/plain": [
       "['₹ 26,90,000',\n",
       " '₹ 44,75,000',\n",
       " '₹ 21,75,000',\n",
       " '₹ 13,40,000',\n",
       " '₹ 19,90,000',\n",
       " '₹ 34,90,000',\n",
       " '₹ 10,90,000',\n",
       " '₹ 17,40,000',\n",
       " '₹ 14,90,000',\n",
       " '₹ 13,45,000',\n",
       " '₹ 10,90,000',\n",
       " '₹ 13,90,000',\n",
       " '₹ 12,90,000',\n",
       " '₹ 14,90,000',\n",
       " '₹ 9,90,000',\n",
       " '₹ 16,50,000',\n",
       " '₹ 7,99,000',\n",
       " '₹ 9,75,000',\n",
       " '₹ 9,76,000',\n",
       " '₹ 11,50,000',\n",
       " '₹ 14,60,000',\n",
       " '₹ 21,75,000',\n",
       " '₹ 23,75,000',\n",
       " '₹ 7,25,000',\n",
       " '₹ 21,00,000',\n",
       " '₹ 16,25,000',\n",
       " '₹ 15,50,000',\n",
       " '₹ 26,75,000',\n",
       " '₹ 13,20,000',\n",
       " '₹ 16,90,000',\n",
       " '₹ 26,00,000',\n",
       " '₹ 14,50,000',\n",
       " '₹ 11,45,000',\n",
       " '₹ 9,45,000',\n",
       " '₹ 22,00,000',\n",
       " '₹ 15,50,000',\n",
       " '₹ 14,90,000',\n",
       " '₹ 13,00,000',\n",
       " '₹ 21,00,000',\n",
       " '₹ 12,50,000']"
      ]
     },
     "execution_count": 151,
     "metadata": {},
     "output_type": "execute_result"
    }
   ],
   "source": [
    "price13"
   ]
  },
  {
   "cell_type": "code",
   "execution_count": null,
   "id": "bdcd4581",
   "metadata": {},
   "outputs": [],
   "source": []
  },
  {
   "cell_type": "code",
   "execution_count": 152,
   "id": "44e86359",
   "metadata": {},
   "outputs": [],
   "source": [
    "brand_check = driver.find_element(By.XPATH,'/html/body/div/div/main/div/div/section/div/div[2]/div[5]/div[1]/div/div[3]/div[2]/div[2]/div[3]/div[2]/div/div[5]/div/input')\n",
    "brand_check.click()"
   ]
  },
  {
   "cell_type": "code",
   "execution_count": null,
   "id": "7ff2b0ac",
   "metadata": {},
   "outputs": [],
   "source": []
  },
  {
   "cell_type": "code",
   "execution_count": 153,
   "id": "15935369",
   "metadata": {},
   "outputs": [],
   "source": [
    "names14 = []\n",
    "\n",
    "for i in driver.find_elements(By.XPATH,'//div[@class=\"_2Gr10\"]'):\n",
    "    names14.append(i.text)"
   ]
  },
  {
   "cell_type": "code",
   "execution_count": 154,
   "id": "72e2ccd0",
   "metadata": {},
   "outputs": [
    {
     "data": {
      "text/plain": [
       "['Chevrolet Spark',\n",
       " 'Chevrolet Spark',\n",
       " 'Chevrolet Cruze',\n",
       " 'Chevrolet Cruze',\n",
       " 'Chevrolet Cruze',\n",
       " 'Chevrolet Beat',\n",
       " 'Chevrolet Optra Magnum',\n",
       " 'Chevrolet Cruze',\n",
       " 'Chevrolet Beat',\n",
       " 'Chevrolet Cruze',\n",
       " 'Chevrolet Beat',\n",
       " 'Chevrolet Beat',\n",
       " 'Chevrolet Spark',\n",
       " 'Chevrolet Spark',\n",
       " 'Chevrolet Beat',\n",
       " 'Chevrolet Beat',\n",
       " 'Chevrolet Cruze',\n",
       " 'Chevrolet Beat',\n",
       " 'Chevrolet Cruze',\n",
       " 'Chevrolet Beat',\n",
       " 'Chevrolet Cruze',\n",
       " 'Chevrolet Cruze',\n",
       " 'Chevrolet Beat',\n",
       " 'Chevrolet Spark',\n",
       " 'Chevrolet Spark',\n",
       " 'Chevrolet Enjoy',\n",
       " 'Chevrolet Beat',\n",
       " 'Chevrolet Cruze',\n",
       " 'Chevrolet Cruze',\n",
       " 'Chevrolet Sail',\n",
       " 'Chevrolet Sail',\n",
       " 'Chevrolet Beat',\n",
       " 'Chevrolet Cruze',\n",
       " 'Chevrolet Spark',\n",
       " 'Chevrolet Captiva',\n",
       " 'Chevrolet Cruze',\n",
       " 'Chevrolet Sail',\n",
       " 'Chevrolet Cruze',\n",
       " 'Chevrolet Spark',\n",
       " 'Chevrolet Enjoy']"
      ]
     },
     "execution_count": 154,
     "metadata": {},
     "output_type": "execute_result"
    }
   ],
   "source": [
    "names14"
   ]
  },
  {
   "cell_type": "code",
   "execution_count": 155,
   "id": "a21c6d03",
   "metadata": {},
   "outputs": [],
   "source": [
    "place14 = []\n",
    "\n",
    "for i in driver.find_elements(By.XPATH,'//div[@class=\"_3VRSm\"]'):\n",
    "    place14.append(i.text)"
   ]
  },
  {
   "cell_type": "code",
   "execution_count": 156,
   "id": "fae15da0",
   "metadata": {},
   "outputs": [
    {
     "data": {
      "text/plain": [
       "['Rohini Institutional Area\\nToday',\n",
       " 'Punjabi Bagh West\\nToday',\n",
       " 'Rajouri Garden\\nToday',\n",
       " 'Peera Garhi\\nToday',\n",
       " 'Peera Garhi\\nToday',\n",
       " 'Rajouri Garden\\nToday',\n",
       " 'Pitampura\\nYesterday',\n",
       " 'Rajouri Garden\\nYesterday',\n",
       " 'Mangolpuri\\nYesterday',\n",
       " 'Pitampura\\nYesterday',\n",
       " 'Vishnu Garden\\n2 days ago',\n",
       " 'Peera Garhi\\n3 days ago',\n",
       " 'Vikaspuri\\n3 days ago',\n",
       " 'Ramesh Nagar\\n3 days ago',\n",
       " 'Tilak Nagar\\n4 days ago',\n",
       " 'Jawalaheri\\n4 days ago',\n",
       " 'Peera Garhi\\n4 days ago',\n",
       " 'Tilak Nagar\\n4 days ago',\n",
       " 'Vikaspuri\\n5 days ago',\n",
       " 'Rajouri Garden\\n5 days ago',\n",
       " 'Ramesh Nagar\\n5 days ago',\n",
       " 'Vikaspuri\\nJan 21',\n",
       " 'Aman Vihar\\nJan 19',\n",
       " 'Rohini Sector 21\\nJan 18',\n",
       " 'Rohini Sector 4\\nJan 15',\n",
       " 'Rajouri Garden\\nJan 13',\n",
       " 'Tilak Nagar\\nJan 10',\n",
       " 'Jawalaheri\\nJan 06',\n",
       " 'Vikaspuri\\nDec 31',\n",
       " 'Paschim Vihar\\nSep 27',\n",
       " 'Paschim Vihar\\nSep 22',\n",
       " 'Peera Garhi\\nSep 18',\n",
       " 'Ramesh Nagar\\nMay 11',\n",
       " 'Ramesh Nagar\\nDec 04',\n",
       " 'Punjabi Bagh West\\nNov 03',\n",
       " 'Peera Garhi\\nMar 23',\n",
       " 'Dwarka\\nJan 06',\n",
       " 'Rohini\\nToday',\n",
       " 'Nangli Vihar\\nToday',\n",
       " 'Haidarpur\\nToday']"
      ]
     },
     "execution_count": 156,
     "metadata": {},
     "output_type": "execute_result"
    }
   ],
   "source": [
    "place14"
   ]
  },
  {
   "cell_type": "code",
   "execution_count": 157,
   "id": "ca7613ef",
   "metadata": {},
   "outputs": [],
   "source": [
    "kms14 = []\n",
    "\n",
    "for i in driver.find_elements(By.XPATH,'//div[@class=\"_21gnE\"]'):\n",
    "    kms14.append(i.text)"
   ]
  },
  {
   "cell_type": "code",
   "execution_count": 158,
   "id": "96bcf2c2",
   "metadata": {},
   "outputs": [
    {
     "data": {
      "text/plain": [
       "['2011 - 65,234 km',\n",
       " '2013 - 65000.0 km',\n",
       " '2012 - 38149.0 km',\n",
       " '2012 - 64000.0 km',\n",
       " '2012 - 63000.0 km',\n",
       " '2011 - 54000.0 km',\n",
       " '2009 - 16000.0 km',\n",
       " '2016 - 54000.0 km',\n",
       " '2013 - 80000.0 km',\n",
       " '2014 - 73,000 km',\n",
       " '2010 - 54,000 km',\n",
       " '2010 - 57000.0 km',\n",
       " '2009 - 37,000 km',\n",
       " '2011 - 38000.0 km',\n",
       " '2015 - 80,000 km',\n",
       " '2013 - 83,000 km',\n",
       " '2012 - 68000.0 km',\n",
       " '2010 - 75000.0 km',\n",
       " '2014 - 90000.0 km',\n",
       " '2016 - 75,000 km',\n",
       " '2017 - 68,000 km',\n",
       " '2015 - 59686.0 km',\n",
       " '2011 - 70,000 km',\n",
       " '2010 - 58,000 km',\n",
       " '2009 - 120,000 km',\n",
       " '2013 - 80000.0 km',\n",
       " '2011 - 70,000 km',\n",
       " '2015 - 73000.0 km',\n",
       " '2013 - 128000.0 km',\n",
       " '2014 - 26000.0 km',\n",
       " '2014 - 25000.0 km',\n",
       " '2013 - 43000.0 km',\n",
       " '2014 - 69000.0 km',\n",
       " '2011 - 69000.0 km',\n",
       " '2011 - 67000.0 km',\n",
       " '2010 - 62000.0 km',\n",
       " '2008 - 85000.0 km',\n",
       " '2014 - 73000.0 km',\n",
       " '2009 - 44,000 km',\n",
       " '2013 - 68,000 km']"
      ]
     },
     "execution_count": 158,
     "metadata": {},
     "output_type": "execute_result"
    }
   ],
   "source": [
    "kms14"
   ]
  },
  {
   "cell_type": "code",
   "execution_count": 159,
   "id": "9c651c1b",
   "metadata": {},
   "outputs": [],
   "source": [
    "war14 = []\n",
    "\n",
    "for i in driver.find_elements(By.XPATH,'//div[@class=\"_2SZA5\"]'):\n",
    "    war14.append(i.text)"
   ]
  },
  {
   "cell_type": "code",
   "execution_count": 160,
   "id": "57cff32f",
   "metadata": {},
   "outputs": [
    {
     "data": {
      "text/plain": [
       "['VERIFIED SELLER',\n",
       " 'VERIFIED SELLER',\n",
       " 'VERIFIED SELLER',\n",
       " 'VERIFIED SELLER',\n",
       " 'VERIFIED SELLER',\n",
       " 'VERIFIED SELLER',\n",
       " 'VERIFIED SELLER',\n",
       " 'VERIFIED SELLER',\n",
       " 'VERIFIED SELLER',\n",
       " 'VERIFIED SELLER',\n",
       " 'VERIFIED SELLER',\n",
       " 'VERIFIED SELLER',\n",
       " 'VERIFIED SELLER',\n",
       " 'VERIFIED SELLER',\n",
       " 'VERIFIED SELLER',\n",
       " 'VERIFIED SELLER',\n",
       " 'VERIFIED SELLER',\n",
       " 'VERIFIED SELLER',\n",
       " 'VERIFIED SELLER',\n",
       " 'VERIFIED SELLER',\n",
       " 'VERIFIED SELLER',\n",
       " 'VERIFIED SELLER',\n",
       " 'VERIFIED SELLER']"
      ]
     },
     "execution_count": 160,
     "metadata": {},
     "output_type": "execute_result"
    }
   ],
   "source": [
    "war14"
   ]
  },
  {
   "cell_type": "code",
   "execution_count": 161,
   "id": "dccb3409",
   "metadata": {},
   "outputs": [],
   "source": [
    "price14 = []\n",
    "\n",
    "for i in driver.find_elements(By.XPATH,'//span[@class=\"_1zgtX\"]'):\n",
    "    price14.append(i.text)"
   ]
  },
  {
   "cell_type": "code",
   "execution_count": 162,
   "id": "bb7dd29d",
   "metadata": {},
   "outputs": [
    {
     "data": {
      "text/plain": [
       "['₹ 1,25,000',\n",
       " '₹ 1,75,000',\n",
       " '₹ 3,50,000',\n",
       " '₹ 2,95,000',\n",
       " '₹ 3,25,000',\n",
       " '₹ 1,75,000',\n",
       " '₹ 2,25,000',\n",
       " '₹ 7,99,000',\n",
       " '₹ 1,35,000',\n",
       " '₹ 4,95,000',\n",
       " '₹ 1,10,000',\n",
       " '₹ 1,40,000',\n",
       " '₹ 75,000',\n",
       " '₹ 1,40,000',\n",
       " '₹ 2,25,000',\n",
       " '₹ 1,29,000',\n",
       " '₹ 3,25,000',\n",
       " '₹ 1,95,000',\n",
       " '₹ 5,25,000',\n",
       " '₹ 1,99,000',\n",
       " '₹ 6,95,000',\n",
       " '₹ 5,95,000',\n",
       " '₹ 1,30,000',\n",
       " '₹ 1,05,000',\n",
       " '₹ 75,000',\n",
       " '₹ 2,25,000',\n",
       " '₹ 1,21,000',\n",
       " '₹ 4,35,000',\n",
       " '₹ 3,45,000',\n",
       " '₹ 3,05,000',\n",
       " '₹ 3,50,000',\n",
       " '₹ 1,85,000',\n",
       " '₹ 4,75,000',\n",
       " '₹ 1,35,000',\n",
       " '₹ 3,95,000',\n",
       " '₹ 2,50,000',\n",
       " '₹ 85,000',\n",
       " '₹ 4,95,000',\n",
       " '₹ 1,00,000',\n",
       " '₹ 1,99,000']"
      ]
     },
     "execution_count": 162,
     "metadata": {},
     "output_type": "execute_result"
    }
   ],
   "source": [
    "price14"
   ]
  },
  {
   "cell_type": "code",
   "execution_count": null,
   "id": "053d6e6c",
   "metadata": {},
   "outputs": [],
   "source": []
  },
  {
   "cell_type": "code",
   "execution_count": 163,
   "id": "1d8a9897",
   "metadata": {},
   "outputs": [],
   "source": [
    "brand_check = driver.find_element(By.XPATH,'/html/body/div/div/main/div/div/section/div/div[2]/div[5]/div[1]/div/div[3]/div[2]/div[2]/div[3]/div[2]/div/div[6]/div/input')\n",
    "brand_check.click()"
   ]
  },
  {
   "cell_type": "code",
   "execution_count": null,
   "id": "b5006e15",
   "metadata": {},
   "outputs": [],
   "source": []
  },
  {
   "cell_type": "code",
   "execution_count": 164,
   "id": "d0b82ab7",
   "metadata": {},
   "outputs": [],
   "source": [
    "names15 = []\n",
    "\n",
    "for i in driver.find_elements(By.XPATH,'//div[@class=\"_2Gr10\"]'):\n",
    "    names15.append(i.text)"
   ]
  },
  {
   "cell_type": "code",
   "execution_count": 165,
   "id": "62dd931b",
   "metadata": {},
   "outputs": [
    {
     "data": {
      "text/plain": [
       "['Skoda Slavia',\n",
       " 'Skoda Rapid',\n",
       " 'Skoda Octavia',\n",
       " 'Skoda Rapid',\n",
       " 'Skoda Rapid',\n",
       " 'Skoda Rapid',\n",
       " 'Skoda Yeti',\n",
       " 'Skoda Yeti',\n",
       " 'Skoda Rapid',\n",
       " 'Skoda Superb',\n",
       " 'Skoda Laura',\n",
       " 'Skoda Fabia',\n",
       " 'Skoda Rapid',\n",
       " 'Skoda Rapid',\n",
       " 'Skoda Superb',\n",
       " 'Skoda Rapid',\n",
       " 'Skoda Rapid',\n",
       " 'Skoda Superb',\n",
       " 'Skoda Rapid',\n",
       " 'Skoda Octavia',\n",
       " 'Skoda Octavia',\n",
       " 'Skoda Kushaq',\n",
       " 'Skoda Slavia',\n",
       " 'Skoda Superb',\n",
       " 'Skoda Rapid',\n",
       " 'Skoda Superb',\n",
       " 'Skoda Fabia',\n",
       " 'Skoda Superb',\n",
       " 'Skoda Superb',\n",
       " 'Skoda Rapid',\n",
       " 'Skoda Superb',\n",
       " 'Skoda Superb',\n",
       " 'Skoda Rapid',\n",
       " 'Skoda Superb',\n",
       " 'Skoda Octavia',\n",
       " 'Skoda Octavia',\n",
       " 'Skoda Rapid',\n",
       " 'Skoda Rapid',\n",
       " 'Skoda Superb',\n",
       " 'Skoda Rapid']"
      ]
     },
     "execution_count": 165,
     "metadata": {},
     "output_type": "execute_result"
    }
   ],
   "source": [
    "names15"
   ]
  },
  {
   "cell_type": "code",
   "execution_count": 166,
   "id": "13477dde",
   "metadata": {},
   "outputs": [],
   "source": [
    "place15 = []\n",
    "\n",
    "for i in driver.find_elements(By.XPATH,'//div[@class=\"_3VRSm\"]'):\n",
    "    place15.append(i.text)"
   ]
  },
  {
   "cell_type": "code",
   "execution_count": 167,
   "id": "b208edd0",
   "metadata": {},
   "outputs": [
    {
     "data": {
      "text/plain": [
       "['Pitampura\\nJan 09',\n",
       " 'Punjabi Bagh West\\nNov 09',\n",
       " 'Rohini Sector 7\\nNov 13',\n",
       " 'Paschim Vihar\\nToday',\n",
       " 'Paschim Vihar\\nToday',\n",
       " 'Punjabi Bagh West\\nToday',\n",
       " 'Ramesh Nagar\\nToday',\n",
       " 'Ramesh Nagar\\nToday',\n",
       " 'Rajouri Garden\\nToday',\n",
       " 'Pitampura\\nYesterday',\n",
       " 'Vikaspuri\\nYesterday',\n",
       " 'Rohini Sector 2\\nYesterday',\n",
       " 'Pitampura\\nYesterday',\n",
       " 'Rajouri Garden\\nYesterday',\n",
       " 'Pitampura\\nYesterday',\n",
       " 'Vikaspuri\\nYesterday',\n",
       " 'Ramesh Nagar\\nYesterday',\n",
       " 'Bali Nagar\\nYesterday',\n",
       " 'Ramesh Nagar\\nYesterday',\n",
       " 'Rajouri Garden\\nYesterday',\n",
       " 'Pitampura\\nJan 16',\n",
       " 'Rajouri Garden\\nYesterday',\n",
       " 'Vikaspuri\\nYesterday',\n",
       " 'Vikaspuri\\nYesterday',\n",
       " 'Pitampura\\nYesterday',\n",
       " 'Pitampura\\nYesterday',\n",
       " 'Pitampura\\nYesterday',\n",
       " 'Tilak Nagar\\nYesterday',\n",
       " 'Vikaspuri\\nYesterday',\n",
       " 'Ramesh Nagar\\nYesterday',\n",
       " 'Vishal Enclave\\nYesterday',\n",
       " 'Rajouri Garden\\nYesterday',\n",
       " 'Rajouri Garden\\n3 days ago',\n",
       " 'Meera Bagh\\n3 days ago',\n",
       " 'Meera Bagh\\n3 days ago',\n",
       " 'Meera Bagh\\n3 days ago',\n",
       " 'Pitampura\\n3 days ago',\n",
       " 'Rajouri Garden\\n4 days ago',\n",
       " 'Rajouri Garden\\n5 days ago',\n",
       " 'Pushpanjali Enclave\\n5 days ago']"
      ]
     },
     "execution_count": 167,
     "metadata": {},
     "output_type": "execute_result"
    }
   ],
   "source": [
    "place15"
   ]
  },
  {
   "cell_type": "code",
   "execution_count": 168,
   "id": "19ae90fa",
   "metadata": {},
   "outputs": [],
   "source": [
    "kms15 = []\n",
    "\n",
    "for i in driver.find_elements(By.XPATH,'//div[@class=\"_21gnE\"]'):\n",
    "    kms15.append(i.text)"
   ]
  },
  {
   "cell_type": "code",
   "execution_count": 169,
   "id": "e7624b53",
   "metadata": {},
   "outputs": [
    {
     "data": {
      "text/plain": [
       "['2022 - 7500.0 km',\n",
       " '2015 - 42000.0 km',\n",
       " '2014 - 38000.0 km',\n",
       " '2018 - 58000.0 km',\n",
       " '2018 - 58000.0 km',\n",
       " '2015 - 56000.0 km',\n",
       " '2013 - 89,000 km',\n",
       " '2015 - 58,000 km',\n",
       " '2017 - 50,000 km',\n",
       " '2010 - 50000.0 km',\n",
       " '2013 - 64,000 km',\n",
       " '2011 - 68,000 km',\n",
       " '2014 - 73,535 km',\n",
       " '2015 - 58000.0 km',\n",
       " '2010 - 78000.0 km',\n",
       " '2015 - 82000.0 km',\n",
       " '2013 - 81000.0 km',\n",
       " '2019 - 6,900 km',\n",
       " '2013 - 79000.0 km',\n",
       " '2015 - 11000.0 km',\n",
       " '2014 - 68680.0 km',\n",
       " '2022 - 4000.0 km',\n",
       " '2022 - 11000.0 km',\n",
       " '2012 - 75,000 km',\n",
       " '2015 - 65,000 km',\n",
       " '2016 - 90,000 km',\n",
       " '2009 - 48,000 km',\n",
       " '2011 - 90000.0 km',\n",
       " '2017 - 54000.0 km',\n",
       " '2014 - 86000.0 km',\n",
       " '2010 - 76,000 km',\n",
       " '2016 - 84,000 km',\n",
       " '2015 - 75000.0 km',\n",
       " '2013 - 82,000 km',\n",
       " '2014 - 78,000 km',\n",
       " '2015 - 75,000 km',\n",
       " '2014 - 71,000 km',\n",
       " '2015 - 60453.0 km',\n",
       " '2011 - 91000.0 km',\n",
       " '2013 - 90000.0 km']"
      ]
     },
     "execution_count": 169,
     "metadata": {},
     "output_type": "execute_result"
    }
   ],
   "source": [
    "kms15"
   ]
  },
  {
   "cell_type": "code",
   "execution_count": 170,
   "id": "535a9185",
   "metadata": {},
   "outputs": [],
   "source": [
    "war15 = []\n",
    "\n",
    "for i in driver.find_elements(By.XPATH,'//div[@class=\"_2SZA5\"]'):\n",
    "    war15.append(i.text)"
   ]
  },
  {
   "cell_type": "code",
   "execution_count": 171,
   "id": "d110c229",
   "metadata": {},
   "outputs": [
    {
     "data": {
      "text/plain": [
       "['VERIFIED SELLER',\n",
       " 'VERIFIED SELLER',\n",
       " 'WARRANTY',\n",
       " '',\n",
       " '',\n",
       " '',\n",
       " 'VERIFIED SELLER',\n",
       " 'VERIFIED SELLER',\n",
       " 'VERIFIED SELLER',\n",
       " 'VERIFIED SELLER',\n",
       " 'VERIFIED SELLER',\n",
       " 'VERIFIED SELLER',\n",
       " 'VERIFIED SELLER',\n",
       " 'VERIFIED SELLER',\n",
       " 'VERIFIED SELLER',\n",
       " 'VERIFIED SELLER',\n",
       " 'VERIFIED SELLER',\n",
       " 'VERIFIED SELLER',\n",
       " 'VERIFIED SELLER',\n",
       " 'VERIFIED SELLER',\n",
       " 'WARRANTY',\n",
       " '',\n",
       " '',\n",
       " '',\n",
       " 'VERIFIED SELLER',\n",
       " 'VERIFIED SELLER',\n",
       " 'VERIFIED SELLER',\n",
       " 'VERIFIED SELLER',\n",
       " 'VERIFIED SELLER',\n",
       " 'VERIFIED SELLER',\n",
       " 'VERIFIED SELLER',\n",
       " 'VERIFIED SELLER',\n",
       " 'VERIFIED SELLER',\n",
       " 'VERIFIED SELLER',\n",
       " 'VERIFIED SELLER']"
      ]
     },
     "execution_count": 171,
     "metadata": {},
     "output_type": "execute_result"
    }
   ],
   "source": [
    "war15"
   ]
  },
  {
   "cell_type": "code",
   "execution_count": 172,
   "id": "5ffcbe63",
   "metadata": {},
   "outputs": [],
   "source": [
    "price15 = []\n",
    "\n",
    "for i in driver.find_elements(By.XPATH,'//span[@class=\"_1zgtX\"]'):\n",
    "    price15.append(i.text)"
   ]
  },
  {
   "cell_type": "code",
   "execution_count": 173,
   "id": "137c5ef2",
   "metadata": {},
   "outputs": [
    {
     "data": {
      "text/plain": [
       "['₹ 10,95,000',\n",
       " '₹ 5,11,000',\n",
       " '₹ 7,50,000',\n",
       " '₹ 7,25,000',\n",
       " '₹ 7,75,000',\n",
       " '₹ 4,40,000',\n",
       " '₹ 3,70,000',\n",
       " '₹ 7,75,000',\n",
       " '₹ 6,65,000',\n",
       " '₹ 4,85,000',\n",
       " '₹ 3,25,000',\n",
       " '₹ 2,25,000',\n",
       " '₹ 2,94,000',\n",
       " '₹ 4,90,000',\n",
       " '₹ 4,65,000',\n",
       " '₹ 5,25,000',\n",
       " '₹ 2,65,000',\n",
       " '₹ 31,99,000',\n",
       " '₹ 2,65,000',\n",
       " '₹ 12,90,000',\n",
       " '₹ 6,49,000',\n",
       " '₹ 16,99,000',\n",
       " '₹ 18,50,000',\n",
       " '₹ 3,50,000',\n",
       " '₹ 3,95,000',\n",
       " '₹ 14,95,000',\n",
       " '₹ 1,65,000',\n",
       " '₹ 3,99,000',\n",
       " '₹ 20,75,000',\n",
       " '₹ 3,35,000',\n",
       " '₹ 3,50,000',\n",
       " '₹ 10,90,000',\n",
       " '₹ 3,90,000',\n",
       " '₹ 3,87,000',\n",
       " '₹ 5,27,000',\n",
       " '₹ 7,27,000',\n",
       " '₹ 2,95,000',\n",
       " '₹ 3,45,000',\n",
       " '₹ 3,50,000',\n",
       " '₹ 2,55,000']"
      ]
     },
     "execution_count": 173,
     "metadata": {},
     "output_type": "execute_result"
    }
   ],
   "source": [
    "price15"
   ]
  },
  {
   "cell_type": "code",
   "execution_count": null,
   "id": "b16af98e",
   "metadata": {},
   "outputs": [],
   "source": []
  },
  {
   "cell_type": "code",
   "execution_count": 174,
   "id": "fdf2e252",
   "metadata": {},
   "outputs": [],
   "source": [
    "brand_check = driver.find_element(By.XPATH,'/html/body/div/div/main/div/div/section/div/div[2]/div[5]/div[1]/div/div[3]/div[2]/div[2]/div[3]/div[2]/div/div[6]/div/input')\n",
    "brand_check.click()"
   ]
  },
  {
   "cell_type": "code",
   "execution_count": null,
   "id": "4b44cb4d",
   "metadata": {},
   "outputs": [],
   "source": []
  },
  {
   "cell_type": "code",
   "execution_count": 175,
   "id": "418c0121",
   "metadata": {},
   "outputs": [],
   "source": [
    "names16 = []\n",
    "\n",
    "for i in driver.find_elements(By.XPATH,'//div[@class=\"_2Gr10\"]'):\n",
    "    names16.append(i.text)"
   ]
  },
  {
   "cell_type": "code",
   "execution_count": 176,
   "id": "547fb8eb",
   "metadata": {},
   "outputs": [
    {
     "data": {
      "text/plain": [
       "['Kia Seltos',\n",
       " 'Kia Carens',\n",
       " 'Kia Seltos',\n",
       " 'Kia Sonet',\n",
       " 'Kia Seltos',\n",
       " 'Kia Seltos',\n",
       " 'Kia Seltos',\n",
       " 'Kia Seltos',\n",
       " 'Kia Seltos',\n",
       " 'Kia Sonet',\n",
       " 'Kia Seltos',\n",
       " 'Kia Seltos',\n",
       " 'Kia Seltos',\n",
       " 'Kia Seltos',\n",
       " 'Kia Seltos',\n",
       " 'Kia Seltos',\n",
       " 'Kia Seltos',\n",
       " 'Kia Seltos',\n",
       " 'Kia Seltos',\n",
       " 'Kia Seltos',\n",
       " 'Kia Seltos',\n",
       " 'Kia Seltos',\n",
       " 'Kia Sonet',\n",
       " 'Kia Seltos',\n",
       " 'Kia Sonet',\n",
       " 'Kia Seltos',\n",
       " 'Kia Seltos',\n",
       " 'Kia Seltos',\n",
       " 'Kia Sonet',\n",
       " 'Kia Seltos',\n",
       " 'Kia Sonet',\n",
       " 'Kia Carens',\n",
       " 'Kia Seltos',\n",
       " 'Kia Seltos',\n",
       " 'Kia Seltos',\n",
       " 'Kia Seltos',\n",
       " 'Kia Carnival',\n",
       " 'Kia Carnival',\n",
       " 'Kia Seltos',\n",
       " 'Kia Seltos']"
      ]
     },
     "execution_count": 176,
     "metadata": {},
     "output_type": "execute_result"
    }
   ],
   "source": [
    "names16"
   ]
  },
  {
   "cell_type": "code",
   "execution_count": 177,
   "id": "d19079fe",
   "metadata": {},
   "outputs": [],
   "source": [
    "place16 = []\n",
    "\n",
    "for i in driver.find_elements(By.XPATH,'//div[@class=\"_3VRSm\"]'):\n",
    "    place16.append(i.text)"
   ]
  },
  {
   "cell_type": "code",
   "execution_count": 178,
   "id": "8b0af558",
   "metadata": {},
   "outputs": [
    {
     "data": {
      "text/plain": [
       "['Ramesh Nagar\\nJan 08',\n",
       " 'Pitampura\\nJan 09',\n",
       " 'Vikaspuri\\nJan 02',\n",
       " 'Rajouri Garden\\nToday',\n",
       " 'Pitampura\\nToday',\n",
       " 'Rajouri Garden\\nToday',\n",
       " 'Pitampura\\nToday',\n",
       " 'Rajouri Garden\\nToday',\n",
       " 'Vikaspuri\\nToday',\n",
       " 'Pitampura\\nToday',\n",
       " 'Pitampura\\nToday',\n",
       " 'Rajouri Garden\\nToday',\n",
       " 'Rajouri Garden\\nToday',\n",
       " 'Vikaspuri\\nToday',\n",
       " 'Ashok Nagar\\nToday',\n",
       " 'Pitampura\\nYesterday',\n",
       " 'Paschim Vihar\\nYesterday',\n",
       " 'Tilak Nagar\\nYesterday',\n",
       " 'Rajouri Garden\\nYesterday',\n",
       " 'Rajouri Garden\\nYesterday',\n",
       " 'Rajouri Garden\\nJan 20',\n",
       " 'Jawalaheri\\nDec 18',\n",
       " 'Paschim Vihar\\nDec 26',\n",
       " 'Rajouri Garden\\nYesterday',\n",
       " 'Pitampura\\nYesterday',\n",
       " 'Rajouri Garden\\nYesterday',\n",
       " 'Paschim Vihar\\n2 days ago',\n",
       " 'Rajouri Garden\\n3 days ago',\n",
       " 'Rajouri Garden\\n3 days ago',\n",
       " 'Pitampura\\n3 days ago',\n",
       " 'Vikaspuri\\n3 days ago',\n",
       " 'Rajouri Garden\\n3 days ago',\n",
       " 'Rajouri Garden\\n4 days ago',\n",
       " 'Rajouri Garden\\n4 days ago',\n",
       " 'Rajouri Garden\\n4 days ago',\n",
       " 'Vikaspuri\\n4 days ago',\n",
       " 'MBS Nagar\\n5 days ago',\n",
       " 'Pitampura\\n5 days ago',\n",
       " 'Pitampura\\n5 days ago',\n",
       " 'Vikaspuri\\n5 days ago']"
      ]
     },
     "execution_count": 178,
     "metadata": {},
     "output_type": "execute_result"
    }
   ],
   "source": [
    "place16"
   ]
  },
  {
   "cell_type": "code",
   "execution_count": 179,
   "id": "86084cfa",
   "metadata": {},
   "outputs": [],
   "source": [
    "kms16 = []\n",
    "\n",
    "for i in driver.find_elements(By.XPATH,'//div[@class=\"_21gnE\"]'):\n",
    "    kms16.append(i.text)"
   ]
  },
  {
   "cell_type": "code",
   "execution_count": 180,
   "id": "10a60726",
   "metadata": {},
   "outputs": [
    {
     "data": {
      "text/plain": [
       "['2020 - 55000.0 km',\n",
       " '2022 - 5000.0 km',\n",
       " '2020 - 52,000 km',\n",
       " '2021 - 20000.0 km',\n",
       " '2020 - 33000.0 km',\n",
       " '2020 - 11,000 km',\n",
       " '2019 - 40000.0 km',\n",
       " '2021 - 30,000 km',\n",
       " '2020 - 26,000 km',\n",
       " '2020 - 20000.0 km',\n",
       " '2019 - 28000.0 km',\n",
       " '2021 - 11000.0 km',\n",
       " '2021 - 49,000 km',\n",
       " '2019 - 60,000 km',\n",
       " '2022 - 4,900 km',\n",
       " '2021 - 18000.0 km',\n",
       " '2020 - 30000.0 km',\n",
       " '2022 - 5,216 km',\n",
       " '2020 - 20,000 km',\n",
       " '2019 - 23000.0 km',\n",
       " '2021 - 12000.0 km',\n",
       " '2021 - 20,000 km',\n",
       " '2020 - 18000.0 km',\n",
       " '2019 - 25000.0 km',\n",
       " '2021 - 12,388 km',\n",
       " '2020 - 38000.0 km',\n",
       " '2020 - 40000.0 km',\n",
       " '2020 - 35,000 km',\n",
       " '2021 - 18,000 km',\n",
       " '2021 - 33,000 km',\n",
       " '2021 - 14300.0 km',\n",
       " '2022 - 20700.0 km',\n",
       " '2021 - 24,000 km',\n",
       " '2019 - 59,000 km',\n",
       " '2020 - 25000.0 km',\n",
       " '2019 - 21000.0 km',\n",
       " '2020 - 15000.0 km',\n",
       " '2021 - 16,000 km',\n",
       " '2020 - 25000.0 km',\n",
       " '2020 - 15,000 km']"
      ]
     },
     "execution_count": 180,
     "metadata": {},
     "output_type": "execute_result"
    }
   ],
   "source": [
    "kms16"
   ]
  },
  {
   "cell_type": "code",
   "execution_count": 181,
   "id": "dc0e4536",
   "metadata": {},
   "outputs": [],
   "source": [
    "war16 = []\n",
    "\n",
    "for i in driver.find_elements(By.XPATH,'//div[@class=\"_3Ni1S\"]'):\n",
    "    war16.append(i.text)"
   ]
  },
  {
   "cell_type": "code",
   "execution_count": 182,
   "id": "c742e353",
   "metadata": {},
   "outputs": [
    {
     "data": {
      "text/plain": [
       "['VERIFIED SELLER',\n",
       " 'VERIFIED SELLER',\n",
       " 'VERIFIED SELLER',\n",
       " 'VERIFIED SELLER',\n",
       " 'VERIFIED SELLER',\n",
       " 'VERIFIED SELLER',\n",
       " 'VERIFIED SELLER',\n",
       " 'VERIFIED SELLER',\n",
       " 'VERIFIED SELLER',\n",
       " 'VERIFIED SELLER',\n",
       " 'VERIFIED SELLER',\n",
       " 'VERIFIED SELLER',\n",
       " 'VERIFIED SELLER',\n",
       " 'VERIFIED SELLER',\n",
       " 'VERIFIED SELLER',\n",
       " 'VERIFIED SELLER',\n",
       " 'WARRANTY',\n",
       " '',\n",
       " '',\n",
       " '',\n",
       " 'VERIFIED SELLER',\n",
       " 'VERIFIED SELLER',\n",
       " 'VERIFIED SELLER',\n",
       " 'VERIFIED SELLER',\n",
       " 'VERIFIED SELLER',\n",
       " 'VERIFIED SELLER',\n",
       " 'VERIFIED SELLER',\n",
       " 'VERIFIED SELLER',\n",
       " 'VERIFIED SELLER',\n",
       " 'VERIFIED SELLER',\n",
       " 'VERIFIED SELLER',\n",
       " 'VERIFIED SELLER']"
      ]
     },
     "execution_count": 182,
     "metadata": {},
     "output_type": "execute_result"
    }
   ],
   "source": [
    "war16"
   ]
  },
  {
   "cell_type": "code",
   "execution_count": 183,
   "id": "04fb4934",
   "metadata": {},
   "outputs": [],
   "source": [
    "price16 = []\n",
    "\n",
    "for i in driver.find_elements(By.XPATH,'//span[@class=\"_1zgtX\"]'):\n",
    "    price16.append(i.text)"
   ]
  },
  {
   "cell_type": "code",
   "execution_count": 184,
   "id": "bbc71a30",
   "metadata": {},
   "outputs": [
    {
     "data": {
      "text/plain": [
       "['₹ 12,90,000',\n",
       " '₹ 16,25,000',\n",
       " '₹ 11,25,000',\n",
       " '₹ 10,75,000',\n",
       " '₹ 11,50,000',\n",
       " '₹ 15,00,000',\n",
       " '₹ 15,25,000',\n",
       " '₹ 12,95,000',\n",
       " '₹ 15,00,000',\n",
       " '₹ 11,25,000',\n",
       " '₹ 15,50,000',\n",
       " '₹ 16,50,000',\n",
       " '₹ 15,75,000',\n",
       " '₹ 15,99,000',\n",
       " '₹ 12,75,000',\n",
       " '₹ 15,75,000',\n",
       " '₹ 15,25,000',\n",
       " '₹ 12,75,000',\n",
       " '₹ 17,50,000',\n",
       " '₹ 13,25,000',\n",
       " '₹ 13,25,000',\n",
       " '₹ 14,05,000',\n",
       " '₹ 12,50,000',\n",
       " '₹ 16,80,000',\n",
       " '₹ 10,95,000',\n",
       " '₹ 14,90,000',\n",
       " '₹ 15,90,000',\n",
       " '₹ 12,99,999',\n",
       " '₹ 10,75,000',\n",
       " '₹ 14,75,000',\n",
       " '₹ 10,85,000',\n",
       " '₹ 18,50,000',\n",
       " '₹ 16,75,000',\n",
       " '₹ 11,75,000',\n",
       " '₹ 17,40,000',\n",
       " '₹ 12,15,000',\n",
       " '₹ 33,00,000',\n",
       " '₹ 27,75,000',\n",
       " '₹ 17,40,000',\n",
       " '₹ 11,50,000']"
      ]
     },
     "execution_count": 184,
     "metadata": {},
     "output_type": "execute_result"
    }
   ],
   "source": [
    "price16"
   ]
  },
  {
   "cell_type": "code",
   "execution_count": null,
   "id": "f3a47f9f",
   "metadata": {},
   "outputs": [],
   "source": []
  },
  {
   "cell_type": "code",
   "execution_count": 185,
   "id": "b36051ed",
   "metadata": {},
   "outputs": [],
   "source": [
    "brand_check = driver.find_element(By.XPATH,'/html/body/div/div/main/div/div/section/div/div[2]/div[5]/div[1]/div/div[3]/div[2]/div[2]/div[3]/div[2]/div/div[5]/div/input')\n",
    "brand_check.click()"
   ]
  },
  {
   "cell_type": "code",
   "execution_count": null,
   "id": "1aa6ddc8",
   "metadata": {},
   "outputs": [],
   "source": []
  },
  {
   "cell_type": "code",
   "execution_count": 186,
   "id": "d0ed4a62",
   "metadata": {},
   "outputs": [],
   "source": [
    "names17 = []\n",
    "\n",
    "for i in driver.find_elements(By.XPATH,'//div[@class=\"_2Gr10\"]'):\n",
    "    names17.append(i.text)"
   ]
  },
  {
   "cell_type": "code",
   "execution_count": 187,
   "id": "184ccdbc",
   "metadata": {},
   "outputs": [
    {
     "data": {
      "text/plain": [
       "['Nissan Sunny',\n",
       " 'Nissan Teana',\n",
       " 'Nissan Terrano',\n",
       " 'Nissan Terrano',\n",
       " 'Nissan Micra',\n",
       " 'Nissan Sunny',\n",
       " 'Nissan Sunny',\n",
       " 'Nissan Sunny',\n",
       " 'Nissan Terrano',\n",
       " 'Nissan Sunny',\n",
       " 'Nissan Sunny',\n",
       " 'Nissan Terrano',\n",
       " 'Nissan Evalia',\n",
       " 'Nissan Terrano',\n",
       " 'Nissan Evalia',\n",
       " 'Nissan Micra',\n",
       " 'Nissan Teana',\n",
       " 'Nissan Terrano',\n",
       " 'Nissan Terrano',\n",
       " 'Nissan Sunny',\n",
       " 'Nissan Sunny',\n",
       " 'Nissan Micra',\n",
       " 'Nissan Terrano',\n",
       " 'Nissan Terrano',\n",
       " 'Nissan Evalia',\n",
       " 'Nissan Evalia',\n",
       " 'Nissan Sunny',\n",
       " 'Nissan Terrano',\n",
       " 'Nissan Micra Active',\n",
       " 'Nissan Terrano',\n",
       " 'Nissan Micra',\n",
       " 'Nissan Terrano',\n",
       " 'Nissan Terrano',\n",
       " 'Nissan Sunny',\n",
       " 'Nissan Terrano',\n",
       " 'Nissan Sunny',\n",
       " 'Nissan Kicks',\n",
       " 'Nissan Terrano',\n",
       " 'Nissan Sunny',\n",
       " 'Nissan Terrano']"
      ]
     },
     "execution_count": 187,
     "metadata": {},
     "output_type": "execute_result"
    }
   ],
   "source": [
    "names17"
   ]
  },
  {
   "cell_type": "code",
   "execution_count": 188,
   "id": "61608633",
   "metadata": {},
   "outputs": [],
   "source": [
    "place17 = []\n",
    "\n",
    "for i in driver.find_elements(By.XPATH,'//div[@class=\"_3VRSm\"]'):\n",
    "    place17.append(i.text)"
   ]
  },
  {
   "cell_type": "code",
   "execution_count": 189,
   "id": "c1b91f78",
   "metadata": {},
   "outputs": [
    {
     "data": {
      "text/plain": [
       "['Rohini Sector 2\\nDec 30',\n",
       " 'Tilak Nagar\\nJan 16',\n",
       " 'Rohini Sector 7\\nJan 20',\n",
       " 'Punjabi Bagh West\\nToday',\n",
       " 'Pitampura\\nToday',\n",
       " 'Punjabi Bagh West\\nToday',\n",
       " 'Rajouri Garden\\nYesterday',\n",
       " 'Paschim Vihar\\nYesterday',\n",
       " 'Ashok Nagar\\nYesterday',\n",
       " 'Paschim Vihar\\nYesterday',\n",
       " 'Rajouri Garden\\nYesterday',\n",
       " 'Vikaspuri\\nYesterday',\n",
       " 'Rajouri Garden\\n2 days ago',\n",
       " 'Ashok Nagar\\n3 days ago',\n",
       " 'Rajouri Garden\\n4 days ago',\n",
       " 'Tilak Nagar\\n5 days ago',\n",
       " 'Tilak Nagar\\n5 days ago',\n",
       " 'Rohini Sector 7\\n5 days ago',\n",
       " 'Paschim Vihar\\nJan 22',\n",
       " 'State Bank Nagar\\nJan 20',\n",
       " 'Rohini Sector 7\\nNov 10',\n",
       " 'Tilak Nagar\\nJan 20',\n",
       " 'Tilak Nagar\\nJan 17',\n",
       " 'Tilak Nagar\\nJan 15',\n",
       " 'Punjabi Bagh West\\nJan 11',\n",
       " 'Rajouri Garden\\nJan 06',\n",
       " 'Pitampura\\nDec 16',\n",
       " 'Pitampura\\nNov 26',\n",
       " 'Pitampura\\nNov 03',\n",
       " 'New Moti Nagar\\nJan 22',\n",
       " 'Netaji Subhash Place\\n6 days ago',\n",
       " 'Mansarovar Garden\\nToday',\n",
       " 'Moti Nagar\\nToday',\n",
       " 'Patel Nagar\\nToday',\n",
       " 'Prashant Vihar\\nToday',\n",
       " 'Rajendra Place\\nToday',\n",
       " 'Uttam Nagar\\nYesterday',\n",
       " 'Mansarovar Garden\\nYesterday',\n",
       " 'Patel Nagar\\nYesterday',\n",
       " 'Moti Nagar\\nYesterday']"
      ]
     },
     "execution_count": 189,
     "metadata": {},
     "output_type": "execute_result"
    }
   ],
   "source": [
    "place17"
   ]
  },
  {
   "cell_type": "code",
   "execution_count": 190,
   "id": "ffabdf07",
   "metadata": {},
   "outputs": [],
   "source": [
    "kms17 = []\n",
    "\n",
    "for i in driver.find_elements(By.XPATH,'//div[@class=\"_21gnE\"]'):\n",
    "    kms17.append(i.text)"
   ]
  },
  {
   "cell_type": "code",
   "execution_count": 191,
   "id": "f98982c0",
   "metadata": {},
   "outputs": [
    {
     "data": {
      "text/plain": [
       "['2013 - 68,000 km',\n",
       " '2011 - 72000.0 km',\n",
       " '2014 - 62,000 km',\n",
       " '2014 - 70000.0 km',\n",
       " '2018 - 35000.0 km',\n",
       " '2014 - 59000.0 km',\n",
       " '2015 - 58000.0 km',\n",
       " '2013 - 68000.0 km',\n",
       " '2014 - 87,000 km',\n",
       " '2015 - 64000.0 km',\n",
       " '2013 - 64,000 km',\n",
       " '2018 - 30000.0 km',\n",
       " '2015 - 104,586 km',\n",
       " '2014 - 84960.0 km',\n",
       " '2015 - 104586.0 km',\n",
       " '2016 - 55000.0 km',\n",
       " '2011 - 72000.0 km',\n",
       " '2014 - 62,854 km',\n",
       " '2014 - 70,000 km',\n",
       " '2012 - 90,000 km',\n",
       " '2012 - 62000.0 km',\n",
       " '2014 - 60,000 km',\n",
       " '2014 - 85000.0 km',\n",
       " '2014 - 70000.0 km',\n",
       " '2012 - 75000.0 km',\n",
       " '2014 - 20000.0 km',\n",
       " '2013 - 74000.0 km',\n",
       " '2014 - 50000.0 km',\n",
       " '2018 - 56000.0 km',\n",
       " '2014 - 89,000 km',\n",
       " '2018 - 25,000 km',\n",
       " '2014 - 76,660 km',\n",
       " '2016 - 82,000 km',\n",
       " '2015 - 62,000 km',\n",
       " '2014 - 57,000 km',\n",
       " '2014 - 59500.0 km',\n",
       " '2022 - 10,000 km',\n",
       " '2014 - 76000.0 km',\n",
       " '2013 - 58,000 km',\n",
       " '2014 - 85,000 km']"
      ]
     },
     "execution_count": 191,
     "metadata": {},
     "output_type": "execute_result"
    }
   ],
   "source": [
    "kms17"
   ]
  },
  {
   "cell_type": "code",
   "execution_count": 192,
   "id": "cdddccb9",
   "metadata": {},
   "outputs": [],
   "source": [
    "war17 = []\n",
    "\n",
    "for i in driver.find_elements(By.XPATH,'//div[@class=\"_3Ni1S\"]'):\n",
    "    war17.append(i.text)"
   ]
  },
  {
   "cell_type": "code",
   "execution_count": 193,
   "id": "54ac4fc1",
   "metadata": {},
   "outputs": [
    {
     "data": {
      "text/plain": [
       "['VERIFIED SELLER',\n",
       " 'VERIFIED SELLER',\n",
       " 'WARRANTY',\n",
       " '',\n",
       " '',\n",
       " '',\n",
       " 'VERIFIED SELLER',\n",
       " 'VERIFIED SELLER',\n",
       " 'VERIFIED SELLER',\n",
       " 'VERIFIED SELLER',\n",
       " 'VERIFIED SELLER',\n",
       " 'VERIFIED SELLER',\n",
       " 'VERIFIED SELLER',\n",
       " 'VERIFIED SELLER',\n",
       " 'VERIFIED SELLER',\n",
       " 'VERIFIED SELLER',\n",
       " 'VERIFIED SELLER',\n",
       " 'VERIFIED SELLER',\n",
       " 'VERIFIED SELLER',\n",
       " 'VERIFIED SELLER',\n",
       " 'WARRANTY',\n",
       " '',\n",
       " '',\n",
       " '',\n",
       " 'VERIFIED SELLER',\n",
       " 'VERIFIED SELLER',\n",
       " 'VERIFIED SELLER',\n",
       " 'VERIFIED SELLER',\n",
       " 'VERIFIED SELLER',\n",
       " 'VERIFIED SELLER',\n",
       " 'WARRANTY',\n",
       " '',\n",
       " '',\n",
       " '',\n",
       " 'VERIFIED SELLER',\n",
       " 'VERIFIED SELLER',\n",
       " 'VERIFIED SELLER',\n",
       " 'VERIFIED SELLER']"
      ]
     },
     "execution_count": 193,
     "metadata": {},
     "output_type": "execute_result"
    }
   ],
   "source": [
    "war17"
   ]
  },
  {
   "cell_type": "code",
   "execution_count": 194,
   "id": "da1f1247",
   "metadata": {},
   "outputs": [],
   "source": [
    "price17 = []\n",
    "\n",
    "for i in driver.find_elements(By.XPATH,'//span[@class=\"_1zgtX\"]'):\n",
    "    price17.append(i.text)"
   ]
  },
  {
   "cell_type": "code",
   "execution_count": 195,
   "id": "c2f4ceff",
   "metadata": {},
   "outputs": [
    {
     "data": {
      "text/plain": [
       "['₹ 2,40,000',\n",
       " '₹ 5,96,000',\n",
       " '₹ 4,25,000',\n",
       " '₹ 4,75,000',\n",
       " '₹ 3,90,000',\n",
       " '₹ 4,05,000',\n",
       " '₹ 3,99,000',\n",
       " '₹ 2,48,000',\n",
       " '₹ 3,25,000',\n",
       " '₹ 3,72,000',\n",
       " '₹ 2,55,000',\n",
       " '₹ 7,24,999',\n",
       " '₹ 4,11,000',\n",
       " '₹ 3,21,000',\n",
       " '₹ 4,20,000',\n",
       " '₹ 3,49,000',\n",
       " '₹ 5,95,000',\n",
       " '₹ 4,25,000',\n",
       " '₹ 3,15,000',\n",
       " '₹ 2,50,000',\n",
       " '₹ 2,65,000',\n",
       " '₹ 1,90,000',\n",
       " '₹ 3,60,000',\n",
       " '₹ 2,95,000',\n",
       " '₹ 3,75,000',\n",
       " '₹ 4,50,000',\n",
       " '₹ 2,50,000',\n",
       " '₹ 5,15,000',\n",
       " '₹ 3,75,000',\n",
       " '₹ 3,95,000',\n",
       " '₹ 3,99,000',\n",
       " '₹ 4,13,000',\n",
       " '₹ 5,40,000',\n",
       " '₹ 3,68,000',\n",
       " '₹ 3,75,000',\n",
       " '₹ 4,10,000',\n",
       " '₹ 11,50,000',\n",
       " '₹ 4,11,000',\n",
       " '₹ 2,48,000',\n",
       " '₹ 3,95,000']"
      ]
     },
     "execution_count": 195,
     "metadata": {},
     "output_type": "execute_result"
    }
   ],
   "source": [
    "price17"
   ]
  },
  {
   "cell_type": "code",
   "execution_count": null,
   "id": "c83aca36",
   "metadata": {},
   "outputs": [],
   "source": []
  },
  {
   "cell_type": "code",
   "execution_count": 196,
   "id": "3f384f4f",
   "metadata": {},
   "outputs": [],
   "source": [
    "brand_check = driver.find_element(By.XPATH,'/html/body/div/div/main/div/div/section/div/div[2]/div[5]/div[1]/div/div[3]/div[2]/div[2]/div[3]/div[2]/div/div[5]/div/input')\n",
    "brand_check.click()"
   ]
  },
  {
   "cell_type": "code",
   "execution_count": null,
   "id": "d0d44832",
   "metadata": {},
   "outputs": [],
   "source": []
  },
  {
   "cell_type": "code",
   "execution_count": 197,
   "id": "db61bf5b",
   "metadata": {},
   "outputs": [],
   "source": [
    "names18 = []\n",
    "\n",
    "for i in driver.find_elements(By.XPATH,'//div[@class=\"_2Gr10\"]'):\n",
    "    names18.append(i.text)"
   ]
  },
  {
   "cell_type": "code",
   "execution_count": 198,
   "id": "31d9f986",
   "metadata": {},
   "outputs": [
    {
     "data": {
      "text/plain": [
       "['MG Hector Plus',\n",
       " 'MG Hector',\n",
       " 'MG Hector',\n",
       " 'MG Hector',\n",
       " 'MG Hector',\n",
       " 'MG Hector',\n",
       " 'MG Hector',\n",
       " 'MG Hector',\n",
       " 'MG Hector Plus',\n",
       " 'MG Hector',\n",
       " 'MG Hector',\n",
       " 'MG Hector',\n",
       " 'MG Hector Plus',\n",
       " 'MG Hector',\n",
       " 'MG Hector Plus',\n",
       " 'MG ZS EV',\n",
       " 'MG Hector',\n",
       " 'MG ZS EV',\n",
       " 'MG Hector',\n",
       " 'MG Hector Plus',\n",
       " 'MG Gloster',\n",
       " 'MG Hector',\n",
       " 'MG ASTOR',\n",
       " 'MG Hector Plus',\n",
       " 'MG Hector',\n",
       " 'MG Gloster',\n",
       " 'MG Hector',\n",
       " 'MG Hector',\n",
       " 'MG Hector',\n",
       " 'MG Hector Plus',\n",
       " 'MG Hector Plus',\n",
       " 'MG ASTOR',\n",
       " 'MG Hector',\n",
       " 'MG Hector',\n",
       " 'MG Hector',\n",
       " 'MG Hector',\n",
       " 'MG Hector',\n",
       " 'MG Hector',\n",
       " 'MG Hector Plus',\n",
       " 'MG Hector Plus']"
      ]
     },
     "execution_count": 198,
     "metadata": {},
     "output_type": "execute_result"
    }
   ],
   "source": [
    "names18"
   ]
  },
  {
   "cell_type": "code",
   "execution_count": 199,
   "id": "3b3c1874",
   "metadata": {},
   "outputs": [],
   "source": [
    "place18 = []\n",
    "\n",
    "for i in driver.find_elements(By.XPATH,'//div[@class=\"_3VRSm\"]'):\n",
    "    place18.append(i.text)"
   ]
  },
  {
   "cell_type": "code",
   "execution_count": 200,
   "id": "af0d4c4f",
   "metadata": {},
   "outputs": [
    {
     "data": {
      "text/plain": [
       "['Paschim Vihar\\nDec 26',\n",
       " 'Pitampura\\nToday',\n",
       " 'Rohini Sector 2\\nToday',\n",
       " 'Pitampura\\nToday',\n",
       " 'Vikaspuri\\nToday',\n",
       " 'Rohini Sector 2\\nToday',\n",
       " 'Rajouri Garden\\nYesterday',\n",
       " 'Paschim Vihar\\nYesterday',\n",
       " 'Paschim Vihar\\nYesterday',\n",
       " 'Punjabi Bagh West\\nYesterday',\n",
       " 'Vikaspuri\\nYesterday',\n",
       " 'Ashok Nagar\\n2 days ago',\n",
       " 'Pitampura\\n3 days ago',\n",
       " 'Hari Nagar\\n3 days ago',\n",
       " 'Rajouri Garden\\n3 days ago',\n",
       " 'Rajouri Garden\\n3 days ago',\n",
       " 'Rajouri Garden\\n4 days ago',\n",
       " 'Tilak Nagar\\n5 days ago',\n",
       " 'Pitampura\\n6 days ago',\n",
       " 'Punjabi Bagh West\\nJan 22',\n",
       " 'Vikaspuri\\nJan 22',\n",
       " 'Rajouri Garden\\nJan 21',\n",
       " 'Vikaspuri\\nJan 20',\n",
       " 'Pitampura\\nJan 19',\n",
       " 'Rohini Sector 3\\nJan 12',\n",
       " 'Vikaspuri\\nDec 25',\n",
       " 'Rohini Sector 3\\nSep 22',\n",
       " 'Netaji Subhash Place\\nDec 30',\n",
       " 'Netaji Subhash Place\\nJan 18',\n",
       " 'Netaji Subhash Place\\n5 days ago',\n",
       " 'Netaji Subhash Place\\nToday',\n",
       " 'Kirti Nagar\\nToday',\n",
       " 'Rohini Sector 10\\nToday',\n",
       " 'Moti Nagar\\nToday',\n",
       " 'Prashant Vihar\\nYesterday',\n",
       " 'Rajendra Place\\n2 days ago',\n",
       " 'Karampura\\n2 days ago',\n",
       " 'Maharani Enclave\\n3 days ago',\n",
       " 'Karampura\\n3 days ago',\n",
       " 'Rohini Sector 10\\n5 days ago']"
      ]
     },
     "execution_count": 200,
     "metadata": {},
     "output_type": "execute_result"
    }
   ],
   "source": [
    "place18"
   ]
  },
  {
   "cell_type": "code",
   "execution_count": 201,
   "id": "0fca985d",
   "metadata": {},
   "outputs": [],
   "source": [
    "kms18 = []\n",
    "\n",
    "for i in driver.find_elements(By.XPATH,'//div[@class=\"_21gnE\"]'):\n",
    "    kms18.append(i.text)"
   ]
  },
  {
   "cell_type": "code",
   "execution_count": 202,
   "id": "cecd0dfb",
   "metadata": {},
   "outputs": [
    {
     "data": {
      "text/plain": [
       "['2021 - 18000.0 km',\n",
       " '2020 - 14200.0 km',\n",
       " '2020 - 45000.0 km',\n",
       " '2020 - 35000.0 km',\n",
       " '2019 - 19,000 km',\n",
       " '2020 - 45000.0 km',\n",
       " '2021 - 42,000 km',\n",
       " '2021 - 6000.0 km',\n",
       " '2020 - 17580.0 km',\n",
       " '2019 - 30300.0 km',\n",
       " '2019 - 31000.0 km',\n",
       " '2021 - 36,000 km',\n",
       " '2022 - 1800.0 km',\n",
       " '2021 - 36,000 km',\n",
       " '2020 - 52,000 km',\n",
       " '2021 - 18000.0 km',\n",
       " '2020 - 38,000 km',\n",
       " '2020 - 11,000 km',\n",
       " '2021 - 17,000 km',\n",
       " '2021 - 11,345 km',\n",
       " '2021 - 49,000 km',\n",
       " '2021 - 17,000 km',\n",
       " '2021 - 20,000 km',\n",
       " '2021 - 78000.0 km',\n",
       " '2020 - 72000.0 km',\n",
       " '2021 - 49000.0 km',\n",
       " '2021 - 27778.0 km',\n",
       " '2020 - 22402.0 km',\n",
       " '2021 - 13000.0 km',\n",
       " '2021 - 10,000 km',\n",
       " '2021 - 22,000 km',\n",
       " '2021 - 3,500 km',\n",
       " '2021 - 78,000 km',\n",
       " '2021 - 18,000 km',\n",
       " '2021 - 27,000 km',\n",
       " '2020 - 20000.0 km',\n",
       " '2019 - 25000.0 km',\n",
       " '2019 - 45000.0 km',\n",
       " '2022 - 6000.0 km',\n",
       " '2021 - 78,000 km']"
      ]
     },
     "execution_count": 202,
     "metadata": {},
     "output_type": "execute_result"
    }
   ],
   "source": [
    "kms18"
   ]
  },
  {
   "cell_type": "code",
   "execution_count": 203,
   "id": "327c1a2c",
   "metadata": {},
   "outputs": [],
   "source": [
    "war18 = []\n",
    "\n",
    "for i in driver.find_elements(By.XPATH,'//div[@class=\"_2SZA5\"]'):\n",
    "    war18.append(i.text)"
   ]
  },
  {
   "cell_type": "code",
   "execution_count": 204,
   "id": "5231b2c5",
   "metadata": {},
   "outputs": [
    {
     "data": {
      "text/plain": [
       "['WARRANTY',\n",
       " '',\n",
       " '',\n",
       " '',\n",
       " 'VERIFIED SELLER',\n",
       " 'VERIFIED SELLER',\n",
       " 'VERIFIED SELLER',\n",
       " 'VERIFIED SELLER',\n",
       " 'VERIFIED SELLER',\n",
       " 'VERIFIED SELLER',\n",
       " 'VERIFIED SELLER',\n",
       " 'VERIFIED SELLER',\n",
       " 'VERIFIED SELLER',\n",
       " 'VERIFIED SELLER',\n",
       " 'VERIFIED SELLER',\n",
       " 'VERIFIED SELLER',\n",
       " 'VERIFIED SELLER',\n",
       " 'VERIFIED SELLER',\n",
       " 'VERIFIED SELLER',\n",
       " 'VERIFIED SELLER',\n",
       " 'VERIFIED SELLER',\n",
       " 'WARRANTY',\n",
       " '',\n",
       " '',\n",
       " '',\n",
       " 'VERIFIED SELLER',\n",
       " 'VERIFIED SELLER',\n",
       " 'VERIFIED SELLER',\n",
       " 'VERIFIED SELLER',\n",
       " 'VERIFIED SELLER',\n",
       " 'VERIFIED SELLER']"
      ]
     },
     "execution_count": 204,
     "metadata": {},
     "output_type": "execute_result"
    }
   ],
   "source": [
    "war18"
   ]
  },
  {
   "cell_type": "code",
   "execution_count": 205,
   "id": "e82c62f6",
   "metadata": {},
   "outputs": [],
   "source": [
    "price18 = []\n",
    "\n",
    "for i in driver.find_elements(By.XPATH,'//span[@class=\"_1zgtX\"]'):\n",
    "    price18.append(i.text)"
   ]
  },
  {
   "cell_type": "code",
   "execution_count": 206,
   "id": "a8b06863",
   "metadata": {},
   "outputs": [
    {
     "data": {
      "text/plain": [
       "['₹ 19,25,000',\n",
       " '₹ 17,25,000',\n",
       " '₹ 15,25,000',\n",
       " '₹ 14,75,000',\n",
       " '₹ 14,49,000',\n",
       " '₹ 15,25,000',\n",
       " '₹ 16,90,000',\n",
       " '₹ 16,75,000',\n",
       " '₹ 18,25,000',\n",
       " '₹ 15,25,000',\n",
       " '₹ 16,00,000',\n",
       " '₹ 16,65,000',\n",
       " '₹ 23,50,000',\n",
       " '₹ 16,65,000',\n",
       " '₹ 16,50,000',\n",
       " '₹ 22,90,000',\n",
       " '₹ 14,50,000',\n",
       " '₹ 22,25,000',\n",
       " '₹ 17,50,000',\n",
       " '₹ 18,99,991',\n",
       " '₹ 35,90,000',\n",
       " '₹ 18,99,000',\n",
       " '₹ 17,35,000',\n",
       " '₹ 16,75,000',\n",
       " '₹ 14,99,000',\n",
       " '₹ 36,00,000',\n",
       " '₹ 17,90,000',\n",
       " '₹ 15,95,000',\n",
       " '₹ 17,35,000',\n",
       " '₹ 19,25,000',\n",
       " '₹ 18,90,000',\n",
       " '₹ 15,75,000',\n",
       " '₹ 16,75,000',\n",
       " '₹ 19,50,000',\n",
       " '₹ 18,25,000',\n",
       " '₹ 17,00,000',\n",
       " '₹ 15,75,000',\n",
       " '₹ 16,95,000',\n",
       " '₹ 22,50,000',\n",
       " '₹ 16,75,000']"
      ]
     },
     "execution_count": 206,
     "metadata": {},
     "output_type": "execute_result"
    }
   ],
   "source": [
    "price18"
   ]
  },
  {
   "cell_type": "code",
   "execution_count": null,
   "id": "36d47405",
   "metadata": {},
   "outputs": [],
   "source": []
  },
  {
   "cell_type": "code",
   "execution_count": 207,
   "id": "387db32d",
   "metadata": {},
   "outputs": [],
   "source": [
    "brand_check = driver.find_element(By.XPATH,'/html/body/div/div/main/div/div/section/div/div[2]/div[5]/div[1]/div/div[3]/div[2]/div[2]/div[3]/div[2]/div/div[5]/div/input')\n",
    "brand_check.click()"
   ]
  },
  {
   "cell_type": "code",
   "execution_count": null,
   "id": "267d7334",
   "metadata": {},
   "outputs": [],
   "source": []
  },
  {
   "cell_type": "code",
   "execution_count": 208,
   "id": "42842c99",
   "metadata": {},
   "outputs": [],
   "source": [
    "names19 = []\n",
    "\n",
    "for i in driver.find_elements(By.XPATH,'//div[@class=\"_2Gr10\"]'):\n",
    "    names19.append(i.text)"
   ]
  },
  {
   "cell_type": "code",
   "execution_count": 209,
   "id": "9350f1f9",
   "metadata": {},
   "outputs": [
    {
     "data": {
      "text/plain": [
       "['Land Rover Range Rover Velar',\n",
       " 'Land Rover Discovery Sport',\n",
       " 'Land Rover Range Rover',\n",
       " 'Land Rover Range Rover Sport',\n",
       " 'Land Rover Range Rover Evoque',\n",
       " 'Land Rover Range Rover',\n",
       " 'Land Rover Range Rover Evoque',\n",
       " 'Land Rover Range Rover Evoque',\n",
       " 'Land Rover Range Rover Evoque',\n",
       " 'Land Rover Freelander 2',\n",
       " 'Land Rover Discovery Sport',\n",
       " 'Land Rover Discovery Sport',\n",
       " 'Land Rover Discovery Sport',\n",
       " 'Land Rover Freelander 2',\n",
       " 'Land Rover Range Rover Evoque',\n",
       " 'Land Rover Freelander 2',\n",
       " 'Land Rover Range Rover Evoque',\n",
       " 'Land Rover Discovery Sport',\n",
       " 'Land Rover Range Rover Evoque',\n",
       " 'Land Rover Discovery Sport',\n",
       " 'Land Rover Range Rover',\n",
       " 'Land Rover Range Rover Sport',\n",
       " 'Land Rover Range Rover Sport',\n",
       " 'Land Rover Range Rover Evoque',\n",
       " 'Land Rover Range Rover Evoque',\n",
       " 'Land Rover Range Rover Sport',\n",
       " 'Land Rover Range Rover Evoque',\n",
       " 'Land Rover Range Rover Velar',\n",
       " 'Land Rover Discovery Sport',\n",
       " 'Land Rover Range Rover',\n",
       " 'Land Rover Freelander 2',\n",
       " 'Land Rover Freelander 2',\n",
       " 'Land Rover Freelander 2',\n",
       " 'Land Rover Discovery Sport',\n",
       " 'Land Rover Freelander 2',\n",
       " 'Land Rover Freelander 2',\n",
       " 'Land Rover Range Rover Evoque',\n",
       " 'Land Rover Range Rover Evoque',\n",
       " 'Land Rover Discovery',\n",
       " 'Land Rover Freelander 2']"
      ]
     },
     "execution_count": 209,
     "metadata": {},
     "output_type": "execute_result"
    }
   ],
   "source": [
    "names19"
   ]
  },
  {
   "cell_type": "code",
   "execution_count": 210,
   "id": "f7f08894",
   "metadata": {},
   "outputs": [],
   "source": [
    "place19 = []\n",
    "\n",
    "for i in driver.find_elements(By.XPATH,'//div[@class=\"_3VRSm\"]'):\n",
    "    place19.append(i.text)"
   ]
  },
  {
   "cell_type": "code",
   "execution_count": 211,
   "id": "d95f1324",
   "metadata": {},
   "outputs": [
    {
     "data": {
      "text/plain": [
       "['MBS Nagar\\nDec 25',\n",
       " 'Vikaspuri\\nJan 23',\n",
       " 'Vikaspuri\\nJan 02',\n",
       " 'Rajouri Garden\\nToday',\n",
       " 'Rajouri Garden\\nToday',\n",
       " 'Bali Nagar\\nToday',\n",
       " 'Pitampura\\nToday',\n",
       " 'Rajouri Garden\\nToday',\n",
       " 'Rajouri Garden\\nYesterday',\n",
       " 'Rajouri Garden\\nYesterday',\n",
       " 'Rajouri Garden\\n3 days ago',\n",
       " 'Pitampura\\n4 days ago',\n",
       " 'Pitampura\\nJan 22',\n",
       " 'Vikaspuri\\nJan 22',\n",
       " 'Pitampura\\nJan 21',\n",
       " 'Pitampura\\nJan 18',\n",
       " 'Vikaspuri\\nJan 12',\n",
       " 'Punjabi Bagh West\\nJan 12',\n",
       " 'Vikaspuri\\nJan 06',\n",
       " 'Punjabi Bagh West\\nDec 07',\n",
       " 'Vikaspuri\\nDec 07',\n",
       " 'Rajouri Garden\\nNov 26',\n",
       " 'Rohtak Road\\nNov 20',\n",
       " 'Janakpuri\\nJan 03',\n",
       " 'Naraina\\nJan 06',\n",
       " 'Punjabi Bagh East\\nDec 10',\n",
       " 'Rohini\\nToday',\n",
       " 'Janakpuri\\nYesterday',\n",
       " 'Janakpuri\\nYesterday',\n",
       " 'Kirti Nagar\\nYesterday',\n",
       " 'Rohini Sector 10\\n4 days ago',\n",
       " 'Rohini Sector 10\\n7 days ago',\n",
       " 'Rohini Sector 16\\n7 days ago',\n",
       " 'Moti Nagar\\nJan 20',\n",
       " 'Rohini Sector 10\\nJan 18',\n",
       " 'Rohini Sector 10\\nJan 18',\n",
       " 'Naraina\\nJan 09',\n",
       " 'Janakpuri\\nJan 08',\n",
       " 'Naraina\\nDec 29',\n",
       " 'New Moti Nagar\\nDec 21']"
      ]
     },
     "execution_count": 211,
     "metadata": {},
     "output_type": "execute_result"
    }
   ],
   "source": [
    "place19"
   ]
  },
  {
   "cell_type": "code",
   "execution_count": 212,
   "id": "b8f646e7",
   "metadata": {},
   "outputs": [],
   "source": [
    "kms19 = []\n",
    "\n",
    "for i in driver.find_elements(By.XPATH,'//div[@class=\"_21gnE\"]'):\n",
    "    kms19.append(i.text)"
   ]
  },
  {
   "cell_type": "code",
   "execution_count": 213,
   "id": "611757e3",
   "metadata": {},
   "outputs": [
    {
     "data": {
      "text/plain": [
       "['2019 - 31,000 km',\n",
       " '2015 - 56,000 km',\n",
       " '2019 - 67000.0 km',\n",
       " '2023 - 30,000 km',\n",
       " '2018 - 26000.0 km',\n",
       " '2013 - 85,000 km',\n",
       " '2018 - 26000.0 km',\n",
       " '2019 - 45986.0 km',\n",
       " '2014 - 45712.0 km',\n",
       " '2013 - 105,499 km',\n",
       " '2016 - 75000.0 km',\n",
       " '2016 - 75000.0 km',\n",
       " '2017 - 77000.0 km',\n",
       " '2014 - 72,000 km',\n",
       " '2013 - 75,000 km',\n",
       " '2013 - 85000.0 km',\n",
       " '2018 - 90,400 km',\n",
       " '2018 - 40000.0 km',\n",
       " '2014 - 72000.0 km',\n",
       " '2016 - 75000.0 km',\n",
       " '2019 - 68000.0 km',\n",
       " '2009 - 82000.0 km',\n",
       " '2016 - 65000.0 km',\n",
       " '2014 - 70000.0 km',\n",
       " '2016 - 84000.0 km',\n",
       " '2022 - 22500.0 km',\n",
       " '2013 - 90000.0 km',\n",
       " '2021 - 17,500 km',\n",
       " '2016 - 21000.0 km',\n",
       " '2013 - 95000.0 km',\n",
       " '2013 - 85,000 km',\n",
       " '2013 - 85000.0 km',\n",
       " '2013 - 85000.0 km',\n",
       " '2020 - 51,500 km',\n",
       " '2013 - 85000.0 km',\n",
       " '2013 - 85000.0 km',\n",
       " '2018 - 45000.0 km',\n",
       " '2014 - 67,000 km',\n",
       " '2017 - 79000.0 km',\n",
       " '2013 - 74000.0 km']"
      ]
     },
     "execution_count": 213,
     "metadata": {},
     "output_type": "execute_result"
    }
   ],
   "source": [
    "kms19"
   ]
  },
  {
   "cell_type": "code",
   "execution_count": 215,
   "id": "298381b6",
   "metadata": {},
   "outputs": [],
   "source": [
    "war19 = []\n",
    "\n",
    "for i in driver.find_elements(By.XPATH,'//div[@class=\"_2SZA5\"]'):\n",
    "    war19.append(i.text)"
   ]
  },
  {
   "cell_type": "code",
   "execution_count": 216,
   "id": "7f61c918",
   "metadata": {},
   "outputs": [
    {
     "data": {
      "text/plain": [
       "['VERIFIED SELLER',\n",
       " 'VERIFIED SELLER',\n",
       " 'VERIFIED SELLER',\n",
       " 'VERIFIED SELLER',\n",
       " 'VERIFIED SELLER',\n",
       " 'VERIFIED SELLER',\n",
       " 'VERIFIED SELLER',\n",
       " 'VERIFIED SELLER',\n",
       " 'VERIFIED SELLER',\n",
       " 'VERIFIED SELLER',\n",
       " 'VERIFIED SELLER',\n",
       " 'VERIFIED SELLER',\n",
       " 'VERIFIED SELLER',\n",
       " 'VERIFIED SELLER',\n",
       " 'VERIFIED SELLER',\n",
       " 'VERIFIED SELLER',\n",
       " 'VERIFIED SELLER',\n",
       " 'VERIFIED SELLER',\n",
       " 'VERIFIED SELLER',\n",
       " 'VERIFIED SELLER',\n",
       " 'VERIFIED SELLER',\n",
       " 'VERIFIED SELLER',\n",
       " 'VERIFIED SELLER',\n",
       " 'VERIFIED SELLER',\n",
       " 'VERIFIED SELLER',\n",
       " 'VERIFIED SELLER',\n",
       " 'VERIFIED SELLER']"
      ]
     },
     "execution_count": 216,
     "metadata": {},
     "output_type": "execute_result"
    }
   ],
   "source": [
    "war19"
   ]
  },
  {
   "cell_type": "code",
   "execution_count": 217,
   "id": "96c9f1f8",
   "metadata": {},
   "outputs": [],
   "source": [
    "price19 = []\n",
    "\n",
    "for i in driver.find_elements(By.XPATH,'//span[@class=\"_1zgtX\"]'):\n",
    "    price19.append(i.text)"
   ]
  },
  {
   "cell_type": "code",
   "execution_count": 218,
   "id": "b2ed636f",
   "metadata": {},
   "outputs": [
    {
     "data": {
      "text/plain": [
       "['₹ 79,75,000',\n",
       " '₹ 27,75,000',\n",
       " '₹ 1,90,00,000',\n",
       " '₹ 1,15,00,000',\n",
       " '₹ 37,50,000',\n",
       " '₹ 39,50,000',\n",
       " '₹ 37,50,000',\n",
       " '₹ 39,90,000',\n",
       " '₹ 25,90,000',\n",
       " '₹ 12,90,000',\n",
       " '₹ 27,85,000',\n",
       " '₹ 27,85,000',\n",
       " '₹ 35,99,000',\n",
       " '₹ 13,75,000',\n",
       " '₹ 15,95,000',\n",
       " '₹ 10,40,000',\n",
       " '₹ 33,70,000',\n",
       " '₹ 40,90,000',\n",
       " '₹ 20,50,000',\n",
       " '₹ 27,85,000',\n",
       " '₹ 1,90,00,000',\n",
       " '₹ 17,00,000',\n",
       " '₹ 65,00,000',\n",
       " '₹ 20,50,000',\n",
       " '₹ 27,00,000',\n",
       " '₹ 1,25,00,000',\n",
       " '₹ 14,00,000',\n",
       " '₹ 85,00,000',\n",
       " '₹ 35,90,000',\n",
       " '₹ 36,50,000',\n",
       " '₹ 10,40,000',\n",
       " '₹ 10,40,000',\n",
       " '₹ 10,40,000',\n",
       " '₹ 52,99,999',\n",
       " '₹ 10,40,000',\n",
       " '₹ 10,40,000',\n",
       " '₹ 36,00,000',\n",
       " '₹ 21,00,000',\n",
       " '₹ 29,90,000',\n",
       " '₹ 10,75,000']"
      ]
     },
     "execution_count": 218,
     "metadata": {},
     "output_type": "execute_result"
    }
   ],
   "source": [
    "price19"
   ]
  },
  {
   "cell_type": "code",
   "execution_count": null,
   "id": "8aa2cd91",
   "metadata": {},
   "outputs": [],
   "source": []
  },
  {
   "cell_type": "code",
   "execution_count": 219,
   "id": "4fbd89ab",
   "metadata": {},
   "outputs": [],
   "source": [
    "brand_check = driver.find_element(By.XPATH,'/html/body/div/div/main/div/div/section/div/div[2]/div[5]/div[1]/div/div[3]/div[2]/div[2]/div[3]/div[2]/div/div[6]/div/input')\n",
    "brand_check.click()"
   ]
  },
  {
   "cell_type": "code",
   "execution_count": null,
   "id": "62027d72",
   "metadata": {},
   "outputs": [],
   "source": []
  },
  {
   "cell_type": "code",
   "execution_count": 220,
   "id": "26444a4c",
   "metadata": {},
   "outputs": [],
   "source": [
    "names20 = []\n",
    "\n",
    "for i in driver.find_elements(By.XPATH,'//div[@class=\"_2Gr10\"]'):\n",
    "    names20.append(i.text)"
   ]
  },
  {
   "cell_type": "code",
   "execution_count": 221,
   "id": "3df68aec",
   "metadata": {},
   "outputs": [
    {
     "data": {
      "text/plain": [
       "['Jaguar XF',\n",
       " 'Jaguar XF',\n",
       " 'Jaguar XF',\n",
       " 'Jaguar F-Pace',\n",
       " 'Jaguar XF',\n",
       " 'Jaguar XF',\n",
       " 'Jaguar F-Pace',\n",
       " 'Jaguar XF',\n",
       " 'Jaguar XF',\n",
       " 'Jaguar F-Pace',\n",
       " 'Jaguar XF',\n",
       " 'Jaguar XF',\n",
       " 'Jaguar F-Pace',\n",
       " 'Jaguar XE',\n",
       " 'Jaguar XF',\n",
       " 'Jaguar XJ',\n",
       " 'Jaguar XF',\n",
       " 'Jaguar XJ',\n",
       " 'Jaguar XF',\n",
       " 'Jaguar XF',\n",
       " 'Jaguar XJ',\n",
       " 'Jaguar XJ',\n",
       " 'Jaguar XF',\n",
       " 'Jaguar XF',\n",
       " 'Jaguar XJ',\n",
       " 'Jaguar XF',\n",
       " 'Jaguar XF',\n",
       " 'Jaguar XF',\n",
       " 'Jaguar XF',\n",
       " 'Jaguar XF',\n",
       " 'Jaguar XF',\n",
       " 'Jaguar XF',\n",
       " 'Jaguar XF',\n",
       " 'Jaguar XF',\n",
       " 'Jaguar F-Pace',\n",
       " 'Jaguar XE',\n",
       " 'Jaguar XF',\n",
       " 'Jaguar XF',\n",
       " 'Jaguar XJ',\n",
       " 'Jaguar XF']"
      ]
     },
     "execution_count": 221,
     "metadata": {},
     "output_type": "execute_result"
    }
   ],
   "source": [
    "names20"
   ]
  },
  {
   "cell_type": "code",
   "execution_count": 222,
   "id": "4ef92181",
   "metadata": {},
   "outputs": [],
   "source": [
    "place20 = []\n",
    "\n",
    "for i in driver.find_elements(By.XPATH,'//div[@class=\"_3VRSm\"]'):\n",
    "    place20.append(i.text)"
   ]
  },
  {
   "cell_type": "code",
   "execution_count": 223,
   "id": "6aa50ea4",
   "metadata": {},
   "outputs": [
    {
     "data": {
      "text/plain": [
       "['Punjabi Bagh West\\nNov 25',\n",
       " 'Rajouri Garden\\nJan 08',\n",
       " 'Pitampura\\nJan 10',\n",
       " 'Rajouri Garden\\nToday',\n",
       " 'Rajouri Garden\\nToday',\n",
       " 'Rajouri Garden\\nToday',\n",
       " 'Pitampura\\nToday',\n",
       " 'Pitampura\\nToday',\n",
       " 'Vikaspuri\\nToday',\n",
       " 'Pitampura\\nToday',\n",
       " 'Rajouri Garden\\nYesterday',\n",
       " 'Rajouri Garden\\nYesterday',\n",
       " 'Rajouri Garden\\nYesterday',\n",
       " 'Rajouri Garden\\nYesterday',\n",
       " 'Rajouri Garden\\nYesterday',\n",
       " 'Rajouri Garden\\n3 days ago',\n",
       " 'Bali Nagar\\n3 days ago',\n",
       " 'Pitampura\\n4 days ago',\n",
       " 'Rajouri Garden\\n4 days ago',\n",
       " 'Pitampura\\n4 days ago',\n",
       " 'Vikaspuri\\nJan 23',\n",
       " 'Vikaspuri\\nJan 03',\n",
       " 'Vikaspuri\\n7 days ago',\n",
       " 'Paschim Vihar\\nJan 22',\n",
       " 'Rajouri Garden\\nJan 20',\n",
       " 'Rajouri Garden\\nJan 19',\n",
       " 'Punjabi Bagh West\\nJan 16',\n",
       " 'Bhera Enclave\\nJan 14',\n",
       " 'Punjabi Bagh West\\nDec 15',\n",
       " 'Rohini Sector 3\\nNov 24',\n",
       " 'Punjabi Bagh West\\nNov 19',\n",
       " 'Pitampura\\nSep 29',\n",
       " 'Paschim Vihar\\nSep 27',\n",
       " 'Ramesh Nagar\\nSep 05',\n",
       " 'Rohtak Road\\nSep 04',\n",
       " 'Janakpuri\\nOct 28',\n",
       " 'Rohini Sector 10\\nJan 03',\n",
       " 'Janakpuri\\nJan 15',\n",
       " 'Netaji Subhash Place\\nToday',\n",
       " 'Kirti Nagar\\nToday']"
      ]
     },
     "execution_count": 223,
     "metadata": {},
     "output_type": "execute_result"
    }
   ],
   "source": [
    "place20"
   ]
  },
  {
   "cell_type": "code",
   "execution_count": 224,
   "id": "ecea04a7",
   "metadata": {},
   "outputs": [],
   "source": [
    "kms20 = []\n",
    "\n",
    "for i in driver.find_elements(By.XPATH,'//div[@class=\"_21gnE\"]'):\n",
    "    kms20.append(i.text)"
   ]
  },
  {
   "cell_type": "code",
   "execution_count": 225,
   "id": "216e2525",
   "metadata": {},
   "outputs": [
    {
     "data": {
      "text/plain": [
       "['2017 - 23,000 km',\n",
       " '2013 - 90000.0 km',\n",
       " '2013 - 90000.0 km',\n",
       " '2019 - 25000.0 km',\n",
       " '2013 - 20,755 km',\n",
       " '2014 - 96791.0 km',\n",
       " '2019 - 25000.0 km',\n",
       " '2014 - 17000.0 km',\n",
       " '2015 - 37000.0 km',\n",
       " '2019 - 25000.0 km',\n",
       " '2019 - 42827.0 km',\n",
       " '2013 - 74816.0 km',\n",
       " '2020 - 18950.0 km',\n",
       " '2019 - 40,370 km',\n",
       " '2013 - 46000.0 km',\n",
       " '2014 - 32000.0 km',\n",
       " '2015 - 15000.0 km',\n",
       " '2014 - 32000.0 km',\n",
       " '2014 - 17000.0 km',\n",
       " '2013 - 46000.0 km',\n",
       " '2014 - 30,000 km',\n",
       " '2014 - 30000.0 km',\n",
       " '2015 - 73,700 km',\n",
       " '2013 - 70,000 km',\n",
       " '2013 - 14856.0 km',\n",
       " '2013 - 46000.0 km',\n",
       " '2014 - 79,000 km',\n",
       " '2013 - 51,000 km',\n",
       " '2013 - 70000.0 km',\n",
       " '2014 - 28000.0 km',\n",
       " '2013 - 90000.0 km',\n",
       " '2014 - 17000.0 km',\n",
       " '2013 - 49500.0 km',\n",
       " '2013 - 57000.0 km',\n",
       " '2018 - 76500.0 km',\n",
       " '2018 - 34,000 km',\n",
       " '2014 - 78000.0 km',\n",
       " '2014 - 50,000 km',\n",
       " '2016 - 65000.0 km',\n",
       " '2015 - 18000.0 km']"
      ]
     },
     "execution_count": 225,
     "metadata": {},
     "output_type": "execute_result"
    }
   ],
   "source": [
    "kms20"
   ]
  },
  {
   "cell_type": "code",
   "execution_count": 226,
   "id": "697f5228",
   "metadata": {},
   "outputs": [],
   "source": [
    "war20 = []\n",
    "\n",
    "for i in driver.find_elements(By.XPATH,'//div[@class=\"_2SZA5\"]'):\n",
    "    war20.append(i.text)"
   ]
  },
  {
   "cell_type": "code",
   "execution_count": 227,
   "id": "d358e43e",
   "metadata": {},
   "outputs": [
    {
     "data": {
      "text/plain": [
       "['VERIFIED SELLER',\n",
       " 'VERIFIED SELLER',\n",
       " 'VERIFIED SELLER',\n",
       " 'VERIFIED SELLER',\n",
       " 'VERIFIED SELLER',\n",
       " 'VERIFIED SELLER',\n",
       " 'VERIFIED SELLER',\n",
       " 'VERIFIED SELLER',\n",
       " 'VERIFIED SELLER',\n",
       " 'VERIFIED SELLER',\n",
       " 'VERIFIED SELLER',\n",
       " 'VERIFIED SELLER',\n",
       " 'VERIFIED SELLER',\n",
       " 'VERIFIED SELLER',\n",
       " 'VERIFIED SELLER',\n",
       " 'VERIFIED SELLER',\n",
       " 'VERIFIED SELLER',\n",
       " 'VERIFIED SELLER',\n",
       " 'VERIFIED SELLER',\n",
       " 'VERIFIED SELLER',\n",
       " 'VERIFIED SELLER',\n",
       " 'VERIFIED SELLER',\n",
       " 'VERIFIED SELLER',\n",
       " 'VERIFIED SELLER',\n",
       " 'VERIFIED SELLER',\n",
       " 'VERIFIED SELLER',\n",
       " 'VERIFIED SELLER',\n",
       " 'VERIFIED SELLER',\n",
       " 'VERIFIED SELLER',\n",
       " 'VERIFIED SELLER']"
      ]
     },
     "execution_count": 227,
     "metadata": {},
     "output_type": "execute_result"
    }
   ],
   "source": [
    "war20"
   ]
  },
  {
   "cell_type": "code",
   "execution_count": 228,
   "id": "bd13035d",
   "metadata": {},
   "outputs": [],
   "source": [
    "price20 = []\n",
    "\n",
    "for i in driver.find_elements(By.XPATH,'//span[@class=\"_1zgtX\"]'):\n",
    "    price20.append(i.text)"
   ]
  },
  {
   "cell_type": "code",
   "execution_count": 229,
   "id": "f8354d3d",
   "metadata": {},
   "outputs": [
    {
     "data": {
      "text/plain": [
       "['₹ 31,50,000',\n",
       " '₹ 12,90,000',\n",
       " '₹ 12,90,000',\n",
       " '₹ 55,50,000',\n",
       " '₹ 14,90,000',\n",
       " '₹ 14,90,000',\n",
       " '₹ 55,50,000',\n",
       " '₹ 19,90,000',\n",
       " '₹ 19,25,000',\n",
       " '₹ 55,50,000',\n",
       " '₹ 32,90,000',\n",
       " '₹ 14,90,000',\n",
       " '₹ 51,00,000',\n",
       " '₹ 32,90,000',\n",
       " '₹ 13,95,000',\n",
       " '₹ 31,50,000',\n",
       " '₹ 19,49,999',\n",
       " '₹ 31,50,000',\n",
       " '₹ 19,90,000',\n",
       " '₹ 13,95,000',\n",
       " '₹ 29,65,000',\n",
       " '₹ 29,65,000',\n",
       " '₹ 16,99,999',\n",
       " '₹ 10,75,000',\n",
       " '₹ 24,90,000',\n",
       " '₹ 13,95,000',\n",
       " '₹ 8,99,000',\n",
       " '₹ 15,00,000',\n",
       " '₹ 13,00,000',\n",
       " '₹ 16,25,000',\n",
       " '₹ 12,90,000',\n",
       " '₹ 19,90,000',\n",
       " '₹ 15,00,000',\n",
       " '₹ 13,51,000',\n",
       " '₹ 43,50,000',\n",
       " '₹ 26,75,000',\n",
       " '₹ 12,50,000',\n",
       " '₹ 15,75,000',\n",
       " '₹ 23,90,000',\n",
       " '₹ 18,99,999']"
      ]
     },
     "execution_count": 229,
     "metadata": {},
     "output_type": "execute_result"
    }
   ],
   "source": [
    "price20"
   ]
  },
  {
   "cell_type": "code",
   "execution_count": null,
   "id": "23f2db06",
   "metadata": {},
   "outputs": [],
   "source": []
  },
  {
   "cell_type": "code",
   "execution_count": 259,
   "id": "3bf683c6",
   "metadata": {},
   "outputs": [],
   "source": [
    "df1 = pd.DataFrame({'Car':name,'Place':place,'Kms':kms,'Price':price})\n",
    "df2 = pd.DataFrame({'Car':names1,'Place':place1,'Kms':kms1,'Price':price1})\n",
    "df3 = pd.DataFrame({'Car':names2,'Place':place2,'Kms':kms2,'Price':price2})\n",
    "df4 = pd.DataFrame({'Car':names3,'Place':place3,'Kms':kms3,'Price':price3})\n",
    "df5 = pd.DataFrame({'Car':names4,'Place':place4,'Kms':kms4,'Price':price4})\n",
    "df6 = pd.DataFrame({'Car':names5,'Place':place5,'Kms':kms5,'Price':price5})\n",
    "df7 = pd.DataFrame({'Car':names6,'Place':place6,'Kms':kms6,'Price':price6})\n",
    "df8 = pd.DataFrame({'Car':names7,'Place':place7,'Kms':kms7,'Price':price7})\n",
    "df9 = pd.DataFrame({'Car':names8,'Place':place8,'Kms':kms8,'Price':price8})\n",
    "df10 = pd.DataFrame({'Car':names9,'Place':place9,'Kms':kms9,'Price':price9})\n",
    "df11 = pd.DataFrame({'Car':names11,'Place':place11,'Kms':kms11,'Price':price11})\n",
    "df12 = pd.DataFrame({'Car':names12,'Place':place12,'Kms':kms12,'Price':price12})\n",
    "df13 = pd.DataFrame({'Car':names13,'Place':place13,'Kms':kms13,'Price':price13})\n",
    "df14 = pd.DataFrame({'Car':names14,'Place':place14,'Kms':kms14,'Price':price14})\n",
    "df15 = pd.DataFrame({'Car':names15,'Place':place15,'Kms':kms15,'Price':price15})\n",
    "df16 = pd.DataFrame({'Car':names16,'Place':place16,'Kms':kms16,'Price':price16})\n",
    "df17 = pd.DataFrame({'Car':names17,'Place':place17,'Kms':kms17,'Price':price17})\n",
    "df18 = pd.DataFrame({'Car':names18,'Place':place18,'Kms':kms18,'Price':price18})\n",
    "df19 = pd.DataFrame({'Car':names19,'Place':place19,'Kms':kms19,'Price':price19})\n",
    "df20 = pd.DataFrame({'Car':names20,'Place':place20,'Kms':kms20,'Price':price20})"
   ]
  },
  {
   "cell_type": "code",
   "execution_count": 260,
   "id": "5c5c827e",
   "metadata": {},
   "outputs": [],
   "source": [
    "df = pd.concat([df1,df2,df3,df4,df5,df6,df7,df8,df9,df10,df11,df12,df13,df14,df15,df16,df17,df18,df19,df20])"
   ]
  },
  {
   "cell_type": "code",
   "execution_count": 285,
   "id": "ddeb6ad5",
   "metadata": {},
   "outputs": [],
   "source": [
    "df.to_csv('C:/Users/user/cardata.csv')"
   ]
  },
  {
   "cell_type": "code",
   "execution_count": null,
   "id": "41998531",
   "metadata": {},
   "outputs": [],
   "source": []
  },
  {
   "cell_type": "code",
   "execution_count": null,
   "id": "97f9a946",
   "metadata": {},
   "outputs": [],
   "source": []
  },
  {
   "cell_type": "code",
   "execution_count": null,
   "id": "da9eeb32",
   "metadata": {},
   "outputs": [],
   "source": []
  },
  {
   "cell_type": "code",
   "execution_count": 2,
   "id": "491f4510",
   "metadata": {},
   "outputs": [
    {
     "data": {
      "text/plain": [
       "<selenium.webdriver.chrome.webdriver.WebDriver (session=\"90aa8c8f3c6ed95397e36bc7b684c133\")>"
      ]
     },
     "execution_count": 2,
     "metadata": {},
     "output_type": "execute_result"
    }
   ],
   "source": [
    "driver = webdriver.Chrome(r'C:\\Users\\user\\chromedriver.exe')\n",
    "\n",
    "driver"
   ]
  },
  {
   "cell_type": "code",
   "execution_count": 3,
   "id": "82d5cad8",
   "metadata": {},
   "outputs": [],
   "source": [
    "url = 'https://www.olx.com/'\n",
    "\n",
    "driver.get(url)"
   ]
  },
  {
   "cell_type": "code",
   "execution_count": 4,
   "id": "1b9073bf",
   "metadata": {},
   "outputs": [],
   "source": [
    "cars_click = driver.find_element(By.XPATH,'/html/body/div/div/div[1]/div/div/div[1]/div[2]/div[1]/a')\n",
    "cars_click.click()"
   ]
  },
  {
   "cell_type": "code",
   "execution_count": null,
   "id": "64e4e9e5",
   "metadata": {},
   "outputs": [],
   "source": []
  },
  {
   "cell_type": "code",
   "execution_count": null,
   "id": "d486d0b2",
   "metadata": {},
   "outputs": [],
   "source": []
  },
  {
   "cell_type": "code",
   "execution_count": 5,
   "id": "eec36f25",
   "metadata": {},
   "outputs": [],
   "source": [
    "name1 = []\n",
    "\n",
    "for i in driver.find_elements(By.XPATH,'//div[@class=\"_2Gr10\"]'):\n",
    "    name1.append(i.text)"
   ]
  },
  {
   "cell_type": "code",
   "execution_count": 6,
   "id": "6e455d05",
   "metadata": {},
   "outputs": [],
   "source": [
    "place1 = []\n",
    "\n",
    "for i in driver.find_elements(By.XPATH,'//div[@class=\"_3VRSm\"]'):\n",
    "    place1.append(i.text)"
   ]
  },
  {
   "cell_type": "code",
   "execution_count": 7,
   "id": "f1619f07",
   "metadata": {},
   "outputs": [],
   "source": [
    "kms1 = []\n",
    "\n",
    "for i in driver.find_elements(By.XPATH,'//div[@class=\"_21gnE\"]'):\n",
    "    kms1.append(i.text)"
   ]
  },
  {
   "cell_type": "code",
   "execution_count": 8,
   "id": "9ae2f3d9",
   "metadata": {},
   "outputs": [],
   "source": [
    "price1 = []\n",
    "\n",
    "for i in driver.find_elements(By.XPATH,'//span[@class=\"_1zgtX\"]'):\n",
    "    price1.append(i.text)"
   ]
  },
  {
   "cell_type": "code",
   "execution_count": null,
   "id": "f7c62088",
   "metadata": {},
   "outputs": [],
   "source": []
  },
  {
   "cell_type": "code",
   "execution_count": null,
   "id": "c13565eb",
   "metadata": {},
   "outputs": [],
   "source": []
  },
  {
   "cell_type": "code",
   "execution_count": 9,
   "id": "f7fb3114",
   "metadata": {},
   "outputs": [],
   "source": [
    "brand_check = driver.find_element(By.XPATH,'/html/body/div/div/main/div/div/section/div/div[2]/div[5]/div[1]/div/div[3]/div[2]/div[2]/div[3]/div[2]/div/div[1]/div/input')\n",
    "brand_check.click()"
   ]
  },
  {
   "cell_type": "code",
   "execution_count": null,
   "id": "22666048",
   "metadata": {},
   "outputs": [],
   "source": []
  },
  {
   "cell_type": "code",
   "execution_count": 10,
   "id": "2e5657e3",
   "metadata": {},
   "outputs": [],
   "source": [
    "name2 = []\n",
    "\n",
    "for i in driver.find_elements(By.XPATH,'//div[@class=\"_2Gr10\"]'):\n",
    "    name2.append(i.text)"
   ]
  },
  {
   "cell_type": "code",
   "execution_count": 11,
   "id": "6fa450b1",
   "metadata": {},
   "outputs": [],
   "source": [
    "place2 = []\n",
    "\n",
    "for i in driver.find_elements(By.XPATH,'//div[@class=\"_3VRSm\"]'):\n",
    "    place2.append(i.text)"
   ]
  },
  {
   "cell_type": "code",
   "execution_count": 12,
   "id": "fafe96f8",
   "metadata": {},
   "outputs": [],
   "source": [
    "kms2 = []\n",
    "\n",
    "for i in driver.find_elements(By.XPATH,'//div[@class=\"_21gnE\"]'):\n",
    "    kms2.append(i.text)"
   ]
  },
  {
   "cell_type": "code",
   "execution_count": 13,
   "id": "239ef760",
   "metadata": {},
   "outputs": [],
   "source": [
    "price2 = []\n",
    "\n",
    "for i in driver.find_elements(By.XPATH,'//span[@class=\"_1zgtX\"]'):\n",
    "    price2.append(i.text)"
   ]
  },
  {
   "cell_type": "code",
   "execution_count": null,
   "id": "af7753ce",
   "metadata": {},
   "outputs": [],
   "source": []
  },
  {
   "cell_type": "code",
   "execution_count": 14,
   "id": "13271c8a",
   "metadata": {},
   "outputs": [],
   "source": [
    "brand_check = driver.find_element(By.XPATH,'/html/body/div/div/main/div/div/section/div/div[2]/div[5]/div[1]/div/div[3]/div[2]/div[2]/div[3]/div[2]/div/div[2]/div/input')\n",
    "brand_check.click()"
   ]
  },
  {
   "cell_type": "code",
   "execution_count": null,
   "id": "ea048c7c",
   "metadata": {},
   "outputs": [],
   "source": []
  },
  {
   "cell_type": "code",
   "execution_count": 15,
   "id": "fea7dfe4",
   "metadata": {},
   "outputs": [],
   "source": [
    "name3 = []\n",
    "\n",
    "for i in driver.find_elements(By.XPATH,'//div[@class=\"_2Gr10\"]'):\n",
    "    name3.append(i.text)"
   ]
  },
  {
   "cell_type": "code",
   "execution_count": 16,
   "id": "6a1581fd",
   "metadata": {},
   "outputs": [],
   "source": [
    "place3 = []\n",
    "\n",
    "for i in driver.find_elements(By.XPATH,'//div[@class=\"_3VRSm\"]'):\n",
    "    place3.append(i.text)"
   ]
  },
  {
   "cell_type": "code",
   "execution_count": 17,
   "id": "c1023445",
   "metadata": {},
   "outputs": [],
   "source": [
    "kms3 = []\n",
    "\n",
    "for i in driver.find_elements(By.XPATH,'//div[@class=\"_21gnE\"]'):\n",
    "    kms3.append(i.text)"
   ]
  },
  {
   "cell_type": "code",
   "execution_count": 18,
   "id": "652da703",
   "metadata": {},
   "outputs": [],
   "source": [
    "price3 = []\n",
    "\n",
    "for i in driver.find_elements(By.XPATH,'//span[@class=\"_1zgtX\"]'):\n",
    "    price3.append(i.text)"
   ]
  },
  {
   "cell_type": "code",
   "execution_count": null,
   "id": "a650d691",
   "metadata": {},
   "outputs": [],
   "source": []
  },
  {
   "cell_type": "code",
   "execution_count": null,
   "id": "54f63524",
   "metadata": {},
   "outputs": [],
   "source": []
  },
  {
   "cell_type": "code",
   "execution_count": 19,
   "id": "645a06e2",
   "metadata": {},
   "outputs": [],
   "source": [
    "brand_check = driver.find_element(By.XPATH,'/html/body/div/div/main/div/div/section/div/div[2]/div[5]/div[1]/div/div[3]/div[2]/div[2]/div[3]/div[2]/div/div[3]/div/input')\n",
    "brand_check.click()"
   ]
  },
  {
   "cell_type": "code",
   "execution_count": null,
   "id": "e4abdec5",
   "metadata": {},
   "outputs": [],
   "source": []
  },
  {
   "cell_type": "code",
   "execution_count": 20,
   "id": "03ffe6f9",
   "metadata": {},
   "outputs": [],
   "source": [
    "name4 = []\n",
    "\n",
    "for i in driver.find_elements(By.XPATH,'//div[@class=\"_2Gr10\"]'):\n",
    "    name4.append(i.text)"
   ]
  },
  {
   "cell_type": "code",
   "execution_count": 21,
   "id": "b1a7b340",
   "metadata": {},
   "outputs": [],
   "source": [
    "place4 = []\n",
    "\n",
    "for i in driver.find_elements(By.XPATH,'//div[@class=\"_3VRSm\"]'):\n",
    "    place4.append(i.text)"
   ]
  },
  {
   "cell_type": "code",
   "execution_count": 22,
   "id": "1986d84b",
   "metadata": {},
   "outputs": [],
   "source": [
    "kms4 = []\n",
    "\n",
    "for i in driver.find_elements(By.XPATH,'//div[@class=\"_21gnE\"]'):\n",
    "    kms4.append(i.text)"
   ]
  },
  {
   "cell_type": "code",
   "execution_count": 23,
   "id": "bd363652",
   "metadata": {},
   "outputs": [],
   "source": [
    "price4 = []\n",
    "\n",
    "for i in driver.find_elements(By.XPATH,'//span[@class=\"_1zgtX\"]'):\n",
    "    price4.append(i.text)"
   ]
  },
  {
   "cell_type": "code",
   "execution_count": null,
   "id": "0c1003b6",
   "metadata": {},
   "outputs": [],
   "source": []
  },
  {
   "cell_type": "code",
   "execution_count": null,
   "id": "374d4701",
   "metadata": {},
   "outputs": [],
   "source": []
  },
  {
   "cell_type": "code",
   "execution_count": 24,
   "id": "dacae02b",
   "metadata": {},
   "outputs": [],
   "source": [
    "brand_check = driver.find_element(By.XPATH,'/html/body/div/div/main/div/div/section/div/div[2]/div[5]/div[1]/div/div[3]/div[2]/div[2]/div[3]/div[2]/div/div[4]/div/input')\n",
    "brand_check.click()"
   ]
  },
  {
   "cell_type": "code",
   "execution_count": null,
   "id": "3ef1b03c",
   "metadata": {},
   "outputs": [],
   "source": []
  },
  {
   "cell_type": "code",
   "execution_count": 25,
   "id": "57799c05",
   "metadata": {},
   "outputs": [],
   "source": [
    "name5 = []\n",
    "\n",
    "for i in driver.find_elements(By.XPATH,'//div[@class=\"_2Gr10\"]'):\n",
    "    name5.append(i.text)"
   ]
  },
  {
   "cell_type": "code",
   "execution_count": 26,
   "id": "2a618f80",
   "metadata": {},
   "outputs": [],
   "source": [
    "place5 = []\n",
    "\n",
    "for i in driver.find_elements(By.XPATH,'//div[@class=\"_3VRSm\"]'):\n",
    "    place5.append(i.text)"
   ]
  },
  {
   "cell_type": "code",
   "execution_count": 27,
   "id": "e9c9a12b",
   "metadata": {},
   "outputs": [],
   "source": [
    "kms5 = []\n",
    "\n",
    "for i in driver.find_elements(By.XPATH,'//div[@class=\"_21gnE\"]'):\n",
    "    kms5.append(i.text)"
   ]
  },
  {
   "cell_type": "code",
   "execution_count": 28,
   "id": "e1ee13c6",
   "metadata": {},
   "outputs": [],
   "source": [
    "price5 = []\n",
    "\n",
    "for i in driver.find_elements(By.XPATH,'//span[@class=\"_1zgtX\"]'):\n",
    "    price5.append(i.text)"
   ]
  },
  {
   "cell_type": "code",
   "execution_count": null,
   "id": "83c3d636",
   "metadata": {},
   "outputs": [],
   "source": []
  },
  {
   "cell_type": "code",
   "execution_count": null,
   "id": "cbce938a",
   "metadata": {},
   "outputs": [],
   "source": []
  },
  {
   "cell_type": "code",
   "execution_count": 29,
   "id": "0eaf1642",
   "metadata": {},
   "outputs": [],
   "source": [
    "brand_check = driver.find_element(By.XPATH,'/html/body/div/div/main/div/div/section/div/div[2]/div[5]/div[1]/div/div[3]/div[2]/div[2]/div[3]/div[2]/div/div[5]/div/input')\n",
    "brand_check.click()"
   ]
  },
  {
   "cell_type": "code",
   "execution_count": null,
   "id": "b4dfc19e",
   "metadata": {},
   "outputs": [],
   "source": []
  },
  {
   "cell_type": "code",
   "execution_count": 30,
   "id": "9b7fd0d5",
   "metadata": {},
   "outputs": [],
   "source": [
    "name6 = []\n",
    "\n",
    "for i in driver.find_elements(By.XPATH,'//div[@class=\"_2Gr10\"]'):\n",
    "    name6.append(i.text)"
   ]
  },
  {
   "cell_type": "code",
   "execution_count": 31,
   "id": "05df9e7e",
   "metadata": {},
   "outputs": [],
   "source": [
    "place6 = []\n",
    "\n",
    "for i in driver.find_elements(By.XPATH,'//div[@class=\"_3VRSm\"]'):\n",
    "    place6.append(i.text)"
   ]
  },
  {
   "cell_type": "code",
   "execution_count": 32,
   "id": "3c8c1643",
   "metadata": {},
   "outputs": [],
   "source": [
    "kms6 = []\n",
    "\n",
    "for i in driver.find_elements(By.XPATH,'//div[@class=\"_21gnE\"]'):\n",
    "    kms6.append(i.text)"
   ]
  },
  {
   "cell_type": "code",
   "execution_count": 33,
   "id": "e2e7e82e",
   "metadata": {},
   "outputs": [],
   "source": [
    "price6 = []\n",
    "\n",
    "for i in driver.find_elements(By.XPATH,'//span[@class=\"_1zgtX\"]'):\n",
    "    price6.append(i.text)"
   ]
  },
  {
   "cell_type": "code",
   "execution_count": null,
   "id": "3495f354",
   "metadata": {},
   "outputs": [],
   "source": []
  },
  {
   "cell_type": "code",
   "execution_count": null,
   "id": "85d50c88",
   "metadata": {},
   "outputs": [],
   "source": []
  },
  {
   "cell_type": "code",
   "execution_count": 34,
   "id": "6f77afa3",
   "metadata": {},
   "outputs": [],
   "source": [
    "brand_check = driver.find_element(By.XPATH,'/html/body/div/div/main/div/div/section/div/div[2]/div[5]/div[1]/div/div[3]/div[2]/div[2]/div[3]/div[2]/div/div[4]/div/input')\n",
    "brand_check.click()"
   ]
  },
  {
   "cell_type": "code",
   "execution_count": null,
   "id": "75839f8d",
   "metadata": {},
   "outputs": [],
   "source": []
  },
  {
   "cell_type": "code",
   "execution_count": 35,
   "id": "c0d94900",
   "metadata": {},
   "outputs": [],
   "source": [
    "name7 = []\n",
    "\n",
    "for i in driver.find_elements(By.XPATH,'//div[@class=\"_2Gr10\"]'):\n",
    "    name7.append(i.text)"
   ]
  },
  {
   "cell_type": "code",
   "execution_count": 36,
   "id": "273f4b84",
   "metadata": {},
   "outputs": [],
   "source": [
    "place7 = []\n",
    "\n",
    "for i in driver.find_elements(By.XPATH,'//div[@class=\"_3VRSm\"]'):\n",
    "    place7.append(i.text)"
   ]
  },
  {
   "cell_type": "code",
   "execution_count": 37,
   "id": "8bbe7242",
   "metadata": {},
   "outputs": [],
   "source": [
    "kms7 = []\n",
    "\n",
    "for i in driver.find_elements(By.XPATH,'//div[@class=\"_21gnE\"]'):\n",
    "    kms7.append(i.text)"
   ]
  },
  {
   "cell_type": "code",
   "execution_count": 38,
   "id": "856908ca",
   "metadata": {},
   "outputs": [],
   "source": [
    "price7 = []\n",
    "\n",
    "for i in driver.find_elements(By.XPATH,'//span[@class=\"_1zgtX\"]'):\n",
    "    price7.append(i.text)"
   ]
  },
  {
   "cell_type": "code",
   "execution_count": null,
   "id": "b9ab9742",
   "metadata": {},
   "outputs": [],
   "source": []
  },
  {
   "cell_type": "code",
   "execution_count": null,
   "id": "b8b043b5",
   "metadata": {},
   "outputs": [],
   "source": []
  },
  {
   "cell_type": "code",
   "execution_count": 39,
   "id": "fb7f0f56",
   "metadata": {},
   "outputs": [],
   "source": [
    "brand_check = driver.find_element(By.XPATH,'/html/body/div/div/main/div/div/section/div/div[2]/div[5]/div[1]/div/div[3]/div[2]/div[2]/div[3]/div[2]/div/div[5]/div/input')\n",
    "brand_check.click()"
   ]
  },
  {
   "cell_type": "code",
   "execution_count": null,
   "id": "526a86fd",
   "metadata": {},
   "outputs": [],
   "source": []
  },
  {
   "cell_type": "code",
   "execution_count": 40,
   "id": "f08ffaf6",
   "metadata": {},
   "outputs": [],
   "source": [
    "name8 = []\n",
    "\n",
    "for i in driver.find_elements(By.XPATH,'//div[@class=\"_2Gr10\"]'):\n",
    "    name8.append(i.text)"
   ]
  },
  {
   "cell_type": "code",
   "execution_count": 41,
   "id": "882bbff9",
   "metadata": {},
   "outputs": [],
   "source": [
    "place8 = []\n",
    "\n",
    "for i in driver.find_elements(By.XPATH,'//div[@class=\"_3VRSm\"]'):\n",
    "    place8.append(i.text)"
   ]
  },
  {
   "cell_type": "code",
   "execution_count": 42,
   "id": "c118ea28",
   "metadata": {},
   "outputs": [],
   "source": [
    "kms8 = []\n",
    "\n",
    "for i in driver.find_elements(By.XPATH,'//div[@class=\"_21gnE\"]'):\n",
    "    kms8.append(i.text)"
   ]
  },
  {
   "cell_type": "code",
   "execution_count": 43,
   "id": "8bbe9fb1",
   "metadata": {},
   "outputs": [],
   "source": [
    "price8 = []\n",
    "\n",
    "for i in driver.find_elements(By.XPATH,'//span[@class=\"_1zgtX\"]'):\n",
    "    price8.append(i.text)"
   ]
  },
  {
   "cell_type": "code",
   "execution_count": null,
   "id": "22e90bed",
   "metadata": {},
   "outputs": [],
   "source": []
  },
  {
   "cell_type": "code",
   "execution_count": null,
   "id": "f950d4c9",
   "metadata": {},
   "outputs": [],
   "source": []
  },
  {
   "cell_type": "code",
   "execution_count": 44,
   "id": "b5b9b8e8",
   "metadata": {},
   "outputs": [],
   "source": [
    "brand_check = driver.find_element(By.XPATH,'/html/body/div/div/main/div/div/section/div/div[2]/div[5]/div[1]/div/div[3]/div[2]/div[2]/div[3]/div[2]/div/div[5]/div/input')\n",
    "brand_check.click()"
   ]
  },
  {
   "cell_type": "code",
   "execution_count": null,
   "id": "059239ee",
   "metadata": {},
   "outputs": [],
   "source": []
  },
  {
   "cell_type": "code",
   "execution_count": 45,
   "id": "dd10b344",
   "metadata": {},
   "outputs": [],
   "source": [
    "name9 = []\n",
    "\n",
    "for i in driver.find_elements(By.XPATH,'//div[@class=\"_2Gr10\"]'):\n",
    "    name9.append(i.text)"
   ]
  },
  {
   "cell_type": "code",
   "execution_count": 46,
   "id": "ca3bb4d6",
   "metadata": {},
   "outputs": [],
   "source": [
    "place9 = []\n",
    "\n",
    "for i in driver.find_elements(By.XPATH,'//div[@class=\"_3VRSm\"]'):\n",
    "    place9.append(i.text)"
   ]
  },
  {
   "cell_type": "code",
   "execution_count": 47,
   "id": "0a4e7d5a",
   "metadata": {},
   "outputs": [],
   "source": [
    "kms9 = []\n",
    "\n",
    "for i in driver.find_elements(By.XPATH,'//div[@class=\"_21gnE\"]'):\n",
    "    kms9.append(i.text)"
   ]
  },
  {
   "cell_type": "code",
   "execution_count": 48,
   "id": "0ac4e33d",
   "metadata": {},
   "outputs": [],
   "source": [
    "price9 = []\n",
    "\n",
    "for i in driver.find_elements(By.XPATH,'//span[@class=\"_1zgtX\"]'):\n",
    "    price9.append(i.text)"
   ]
  },
  {
   "cell_type": "code",
   "execution_count": null,
   "id": "45890e4f",
   "metadata": {},
   "outputs": [],
   "source": []
  },
  {
   "cell_type": "code",
   "execution_count": null,
   "id": "3b39f1e0",
   "metadata": {},
   "outputs": [],
   "source": []
  },
  {
   "cell_type": "code",
   "execution_count": null,
   "id": "f100ef10",
   "metadata": {},
   "outputs": [],
   "source": []
  },
  {
   "cell_type": "code",
   "execution_count": null,
   "id": "feb4128a",
   "metadata": {},
   "outputs": [],
   "source": []
  },
  {
   "cell_type": "code",
   "execution_count": 50,
   "id": "f8e96697",
   "metadata": {},
   "outputs": [],
   "source": [
    "brand_check = driver.find_element(By.XPATH,'/html/body/div/div/main/div/div/section/div/div[2]/div[5]/div[1]/div/div[3]/div[2]/div[2]/div[3]/div[2]/div/div[6]/div/input')\n",
    "brand_check.click()"
   ]
  },
  {
   "cell_type": "code",
   "execution_count": null,
   "id": "6c953824",
   "metadata": {},
   "outputs": [],
   "source": []
  },
  {
   "cell_type": "code",
   "execution_count": 51,
   "id": "55fb0585",
   "metadata": {},
   "outputs": [],
   "source": [
    "name10 = []\n",
    "\n",
    "for i in driver.find_elements(By.XPATH,'//div[@class=\"_2Gr10\"]'):\n",
    "    name10.append(i.text)"
   ]
  },
  {
   "cell_type": "code",
   "execution_count": 52,
   "id": "6d8fff12",
   "metadata": {},
   "outputs": [],
   "source": [
    "place10 = []\n",
    "\n",
    "for i in driver.find_elements(By.XPATH,'//div[@class=\"_3VRSm\"]'):\n",
    "    place10.append(i.text)"
   ]
  },
  {
   "cell_type": "code",
   "execution_count": 53,
   "id": "a013d17d",
   "metadata": {},
   "outputs": [],
   "source": [
    "kms10 = []\n",
    "\n",
    "for i in driver.find_elements(By.XPATH,'//div[@class=\"_21gnE\"]'):\n",
    "    kms10.append(i.text)"
   ]
  },
  {
   "cell_type": "code",
   "execution_count": 54,
   "id": "b23e56d1",
   "metadata": {},
   "outputs": [],
   "source": [
    "price10 = []\n",
    "\n",
    "for i in driver.find_elements(By.XPATH,'//span[@class=\"_1zgtX\"]'):\n",
    "    price10.append(i.text)"
   ]
  },
  {
   "cell_type": "code",
   "execution_count": null,
   "id": "8f2a13a5",
   "metadata": {},
   "outputs": [],
   "source": []
  },
  {
   "cell_type": "code",
   "execution_count": null,
   "id": "a4c39e27",
   "metadata": {},
   "outputs": [],
   "source": []
  },
  {
   "cell_type": "code",
   "execution_count": 55,
   "id": "81eef4e9",
   "metadata": {},
   "outputs": [],
   "source": [
    "brand_check = driver.find_element(By.XPATH,'/html/body/div/div/main/div/div/section/div/div[2]/div[5]/div[1]/div/div[3]/div[2]/div[2]/div[3]/div[2]/div/div[5]/div/input')\n",
    "brand_check.click()"
   ]
  },
  {
   "cell_type": "code",
   "execution_count": null,
   "id": "e726c522",
   "metadata": {},
   "outputs": [],
   "source": []
  },
  {
   "cell_type": "code",
   "execution_count": 56,
   "id": "01d8230d",
   "metadata": {},
   "outputs": [],
   "source": [
    "name11 = []\n",
    "\n",
    "for i in driver.find_elements(By.XPATH,'//div[@class=\"_2Gr10\"]'):\n",
    "    name11.append(i.text)"
   ]
  },
  {
   "cell_type": "code",
   "execution_count": 57,
   "id": "06155788",
   "metadata": {},
   "outputs": [],
   "source": [
    "place11 = []\n",
    "\n",
    "for i in driver.find_elements(By.XPATH,'//div[@class=\"_3VRSm\"]'):\n",
    "    place11.append(i.text)"
   ]
  },
  {
   "cell_type": "code",
   "execution_count": 58,
   "id": "ea4e87e3",
   "metadata": {},
   "outputs": [],
   "source": [
    "kms11 = []\n",
    "\n",
    "for i in driver.find_elements(By.XPATH,'//div[@class=\"_21gnE\"]'):\n",
    "    kms11.append(i.text)"
   ]
  },
  {
   "cell_type": "code",
   "execution_count": 59,
   "id": "531391df",
   "metadata": {},
   "outputs": [],
   "source": [
    "price11 = []\n",
    "\n",
    "for i in driver.find_elements(By.XPATH,'//span[@class=\"_1zgtX\"]'):\n",
    "    price11.append(i.text)"
   ]
  },
  {
   "cell_type": "code",
   "execution_count": null,
   "id": "6a4e7103",
   "metadata": {},
   "outputs": [],
   "source": []
  },
  {
   "cell_type": "code",
   "execution_count": null,
   "id": "8feea264",
   "metadata": {},
   "outputs": [],
   "source": []
  },
  {
   "cell_type": "code",
   "execution_count": 60,
   "id": "4845b529",
   "metadata": {},
   "outputs": [],
   "source": [
    "brand_check = driver.find_element(By.XPATH,'/html/body/div/div/main/div/div/section/div/div[2]/div[5]/div[1]/div/div[3]/div[2]/div[2]/div[3]/div[2]/div/div[6]/div/input')\n",
    "brand_check.click()"
   ]
  },
  {
   "cell_type": "code",
   "execution_count": null,
   "id": "c9ef4ce0",
   "metadata": {},
   "outputs": [],
   "source": []
  },
  {
   "cell_type": "code",
   "execution_count": null,
   "id": "a61dbc36",
   "metadata": {},
   "outputs": [],
   "source": []
  },
  {
   "cell_type": "code",
   "execution_count": 61,
   "id": "93fd1576",
   "metadata": {},
   "outputs": [],
   "source": [
    "name12 = []\n",
    "\n",
    "for i in driver.find_elements(By.XPATH,'//div[@class=\"_2Gr10\"]'):\n",
    "    name12.append(i.text)"
   ]
  },
  {
   "cell_type": "code",
   "execution_count": 62,
   "id": "0e83ead5",
   "metadata": {},
   "outputs": [],
   "source": [
    "place12 = []\n",
    "\n",
    "for i in driver.find_elements(By.XPATH,'//div[@class=\"_3VRSm\"]'):\n",
    "    place12.append(i.text)"
   ]
  },
  {
   "cell_type": "code",
   "execution_count": 63,
   "id": "2874f734",
   "metadata": {},
   "outputs": [],
   "source": [
    "kms12 = []\n",
    "\n",
    "for i in driver.find_elements(By.XPATH,'//div[@class=\"_21gnE\"]'):\n",
    "    kms12.append(i.text)"
   ]
  },
  {
   "cell_type": "code",
   "execution_count": 64,
   "id": "3b00316f",
   "metadata": {},
   "outputs": [],
   "source": [
    "price12 = []\n",
    "\n",
    "for i in driver.find_elements(By.XPATH,'//span[@class=\"_1zgtX\"]'):\n",
    "    price12.append(i.text)"
   ]
  },
  {
   "cell_type": "code",
   "execution_count": null,
   "id": "f2b99311",
   "metadata": {},
   "outputs": [],
   "source": []
  },
  {
   "cell_type": "code",
   "execution_count": null,
   "id": "4220791c",
   "metadata": {},
   "outputs": [],
   "source": []
  },
  {
   "cell_type": "code",
   "execution_count": 65,
   "id": "8deac949",
   "metadata": {},
   "outputs": [],
   "source": [
    "brand_check = driver.find_element(By.XPATH,'/html/body/div/div/main/div/div/section/div/div[2]/div[5]/div[1]/div/div[3]/div[2]/div[2]/div[3]/div[2]/div/div[8]/div/input')\n",
    "brand_check.click()"
   ]
  },
  {
   "cell_type": "code",
   "execution_count": null,
   "id": "03b26950",
   "metadata": {},
   "outputs": [],
   "source": []
  },
  {
   "cell_type": "code",
   "execution_count": null,
   "id": "b94f803b",
   "metadata": {},
   "outputs": [],
   "source": []
  },
  {
   "cell_type": "code",
   "execution_count": 66,
   "id": "6b47569c",
   "metadata": {},
   "outputs": [],
   "source": [
    "name13 = []\n",
    "\n",
    "for i in driver.find_elements(By.XPATH,'//div[@class=\"_2Gr10\"]'):\n",
    "    name13.append(i.text)"
   ]
  },
  {
   "cell_type": "code",
   "execution_count": 67,
   "id": "43a7418c",
   "metadata": {},
   "outputs": [],
   "source": [
    "place13 = []\n",
    "\n",
    "for i in driver.find_elements(By.XPATH,'//div[@class=\"_3VRSm\"]'):\n",
    "    place13.append(i.text)"
   ]
  },
  {
   "cell_type": "code",
   "execution_count": 68,
   "id": "f8f5fe83",
   "metadata": {},
   "outputs": [],
   "source": [
    "kms13 = []\n",
    "\n",
    "for i in driver.find_elements(By.XPATH,'//div[@class=\"_21gnE\"]'):\n",
    "    kms13.append(i.text)"
   ]
  },
  {
   "cell_type": "code",
   "execution_count": 69,
   "id": "984493f1",
   "metadata": {},
   "outputs": [],
   "source": [
    "price13 = []\n",
    "\n",
    "for i in driver.find_elements(By.XPATH,'//span[@class=\"_1zgtX\"]'):\n",
    "    price13.append(i.text)"
   ]
  },
  {
   "cell_type": "code",
   "execution_count": null,
   "id": "e9f2c99b",
   "metadata": {},
   "outputs": [],
   "source": []
  },
  {
   "cell_type": "code",
   "execution_count": null,
   "id": "df3a6b77",
   "metadata": {},
   "outputs": [],
   "source": []
  },
  {
   "cell_type": "code",
   "execution_count": 70,
   "id": "ae864e45",
   "metadata": {},
   "outputs": [],
   "source": [
    "brand_check = driver.find_element(By.XPATH,'/html/body/div/div/main/div/div/section/div/div[2]/div[5]/div[1]/div/div[3]/div[2]/div[2]/div[3]/div[2]/div/div[5]/div/input')\n",
    "brand_check.click()"
   ]
  },
  {
   "cell_type": "code",
   "execution_count": null,
   "id": "282ec685",
   "metadata": {},
   "outputs": [],
   "source": []
  },
  {
   "cell_type": "code",
   "execution_count": 71,
   "id": "8387eff5",
   "metadata": {},
   "outputs": [],
   "source": [
    "name14 = []\n",
    "\n",
    "for i in driver.find_elements(By.XPATH,'//div[@class=\"_2Gr10\"]'):\n",
    "    name14.append(i.text)"
   ]
  },
  {
   "cell_type": "code",
   "execution_count": 72,
   "id": "d5294a7c",
   "metadata": {},
   "outputs": [],
   "source": [
    "place14 = []\n",
    "\n",
    "for i in driver.find_elements(By.XPATH,'//div[@class=\"_3VRSm\"]'):\n",
    "    place14.append(i.text)"
   ]
  },
  {
   "cell_type": "code",
   "execution_count": 73,
   "id": "ffb79574",
   "metadata": {},
   "outputs": [],
   "source": [
    "kms14 = []\n",
    "\n",
    "for i in driver.find_elements(By.XPATH,'//div[@class=\"_21gnE\"]'):\n",
    "    kms14.append(i.text)"
   ]
  },
  {
   "cell_type": "code",
   "execution_count": 74,
   "id": "9479caea",
   "metadata": {},
   "outputs": [],
   "source": [
    "price14 = []\n",
    "\n",
    "for i in driver.find_elements(By.XPATH,'//span[@class=\"_1zgtX\"]'):\n",
    "    price14.append(i.text)"
   ]
  },
  {
   "cell_type": "code",
   "execution_count": null,
   "id": "93889d7d",
   "metadata": {},
   "outputs": [],
   "source": []
  },
  {
   "cell_type": "code",
   "execution_count": null,
   "id": "8836fdcd",
   "metadata": {},
   "outputs": [],
   "source": []
  },
  {
   "cell_type": "code",
   "execution_count": 75,
   "id": "7d33b8a2",
   "metadata": {},
   "outputs": [],
   "source": [
    "brand_check = driver.find_element(By.XPATH,'/html/body/div/div/main/div/div/section/div/div[2]/div[5]/div[1]/div/div[3]/div[2]/div[2]/div[3]/div[2]/div/div[5]/div/input')\n",
    "brand_check.click()"
   ]
  },
  {
   "cell_type": "code",
   "execution_count": null,
   "id": "ee0bbc84",
   "metadata": {},
   "outputs": [],
   "source": []
  },
  {
   "cell_type": "code",
   "execution_count": 76,
   "id": "cd9869f0",
   "metadata": {},
   "outputs": [],
   "source": [
    "name15 = []\n",
    "\n",
    "for i in driver.find_elements(By.XPATH,'//div[@class=\"_2Gr10\"]'):\n",
    "    name15.append(i.text)"
   ]
  },
  {
   "cell_type": "code",
   "execution_count": 77,
   "id": "d82b8888",
   "metadata": {},
   "outputs": [],
   "source": [
    "place15 = []\n",
    "\n",
    "for i in driver.find_elements(By.XPATH,'//div[@class=\"_3VRSm\"]'):\n",
    "    place15.append(i.text)"
   ]
  },
  {
   "cell_type": "code",
   "execution_count": 78,
   "id": "7dd9c61a",
   "metadata": {},
   "outputs": [],
   "source": [
    "kms15 = []\n",
    "\n",
    "for i in driver.find_elements(By.XPATH,'//div[@class=\"_21gnE\"]'):\n",
    "    kms15.append(i.text)"
   ]
  },
  {
   "cell_type": "code",
   "execution_count": 79,
   "id": "5b881a76",
   "metadata": {},
   "outputs": [],
   "source": [
    "price15 = []\n",
    "\n",
    "for i in driver.find_elements(By.XPATH,'//span[@class=\"_1zgtX\"]'):\n",
    "    price15.append(i.text)"
   ]
  },
  {
   "cell_type": "code",
   "execution_count": null,
   "id": "78df2522",
   "metadata": {},
   "outputs": [],
   "source": []
  },
  {
   "cell_type": "code",
   "execution_count": null,
   "id": "62ae3c37",
   "metadata": {},
   "outputs": [],
   "source": []
  },
  {
   "cell_type": "code",
   "execution_count": 80,
   "id": "626671a8",
   "metadata": {},
   "outputs": [],
   "source": [
    "brand_check = driver.find_element(By.XPATH,'/html/body/div/div/main/div/div/section/div/div[2]/div[5]/div[1]/div/div[3]/div[2]/div[2]/div[3]/div[2]/div/div[5]/div/input')\n",
    "brand_check.click()"
   ]
  },
  {
   "cell_type": "code",
   "execution_count": null,
   "id": "d319d8da",
   "metadata": {},
   "outputs": [],
   "source": []
  },
  {
   "cell_type": "code",
   "execution_count": null,
   "id": "76642046",
   "metadata": {},
   "outputs": [],
   "source": []
  },
  {
   "cell_type": "code",
   "execution_count": 81,
   "id": "0191071a",
   "metadata": {},
   "outputs": [],
   "source": [
    "name16 = []\n",
    "\n",
    "for i in driver.find_elements(By.XPATH,'//div[@class=\"_2Gr10\"]'):\n",
    "        name16.append(i.text)"
   ]
  },
  {
   "cell_type": "code",
   "execution_count": 82,
   "id": "b2bdf825",
   "metadata": {},
   "outputs": [],
   "source": [
    "place16 = []\n",
    "\n",
    "for i in driver.find_elements(By.XPATH,'//div[@class=\"_3VRSm\"]'):\n",
    "    place16.append(i.text)"
   ]
  },
  {
   "cell_type": "code",
   "execution_count": 83,
   "id": "3f0b10af",
   "metadata": {},
   "outputs": [],
   "source": [
    "kms16 = []\n",
    "\n",
    "for i in driver.find_elements(By.XPATH,'//div[@class=\"_21gnE\"]'):\n",
    "    kms16.append(i.text)"
   ]
  },
  {
   "cell_type": "code",
   "execution_count": 84,
   "id": "2c539a52",
   "metadata": {},
   "outputs": [],
   "source": [
    "price16 = []\n",
    "\n",
    "for i in driver.find_elements(By.XPATH,'//span[@class=\"_1zgtX\"]'):\n",
    "    price16.append(i.text)"
   ]
  },
  {
   "cell_type": "code",
   "execution_count": null,
   "id": "2142d1b4",
   "metadata": {},
   "outputs": [],
   "source": []
  },
  {
   "cell_type": "code",
   "execution_count": null,
   "id": "5fc981eb",
   "metadata": {},
   "outputs": [],
   "source": []
  },
  {
   "cell_type": "code",
   "execution_count": 85,
   "id": "f78df900",
   "metadata": {},
   "outputs": [],
   "source": [
    "brand_check = driver.find_element(By.XPATH,'/html/body/div/div/main/div/div/section/div/div[2]/div[5]/div[1]/div/div[3]/div[2]/div[2]/div[3]/div[2]/div/div[6]/div/input')\n",
    "brand_check.click()"
   ]
  },
  {
   "cell_type": "code",
   "execution_count": null,
   "id": "1c0a5531",
   "metadata": {},
   "outputs": [],
   "source": []
  },
  {
   "cell_type": "code",
   "execution_count": 87,
   "id": "3c9949dc",
   "metadata": {},
   "outputs": [],
   "source": [
    "name17 = []\n",
    "\n",
    "for i in driver.find_elements(By.XPATH,'//div[@class=\"_2Gr10\"]'):\n",
    "    name17.append(i.text)"
   ]
  },
  {
   "cell_type": "code",
   "execution_count": 88,
   "id": "23fa30be",
   "metadata": {},
   "outputs": [],
   "source": [
    "place17 = []\n",
    "\n",
    "for i in driver.find_elements(By.XPATH,'//div[@class=\"_3VRSm\"]'):\n",
    "    place17.append(i.text)"
   ]
  },
  {
   "cell_type": "code",
   "execution_count": 89,
   "id": "a711fd4e",
   "metadata": {},
   "outputs": [],
   "source": [
    "kms17 = []\n",
    "\n",
    "for i in driver.find_elements(By.XPATH,'//div[@class=\"_21gnE\"]'):\n",
    "    kms17.append(i.text)"
   ]
  },
  {
   "cell_type": "code",
   "execution_count": 90,
   "id": "29a4f85f",
   "metadata": {},
   "outputs": [],
   "source": [
    "price17 = []\n",
    "\n",
    "for i in driver.find_elements(By.XPATH,'//span[@class=\"_1zgtX\"]'):\n",
    "    price17.append(i.text)"
   ]
  },
  {
   "cell_type": "code",
   "execution_count": null,
   "id": "0f749797",
   "metadata": {},
   "outputs": [],
   "source": []
  },
  {
   "cell_type": "code",
   "execution_count": null,
   "id": "63e00267",
   "metadata": {},
   "outputs": [],
   "source": []
  },
  {
   "cell_type": "code",
   "execution_count": 91,
   "id": "940ad7e6",
   "metadata": {},
   "outputs": [],
   "source": [
    "brand_check = driver.find_element(By.XPATH,'/html/body/div/div/main/div/div/section/div/div[2]/div[5]/div[1]/div/div[3]/div[2]/div[2]/div[3]/div[2]/div/div[5]/div/input')\n",
    "brand_check.click()"
   ]
  },
  {
   "cell_type": "code",
   "execution_count": null,
   "id": "207ad787",
   "metadata": {},
   "outputs": [],
   "source": []
  },
  {
   "cell_type": "code",
   "execution_count": 92,
   "id": "35c5c030",
   "metadata": {},
   "outputs": [],
   "source": [
    "name18 = []\n",
    "\n",
    "for i in driver.find_elements(By.XPATH,'//div[@class=\"_2Gr10\"]'):\n",
    "    name18.append(i.text)"
   ]
  },
  {
   "cell_type": "code",
   "execution_count": 93,
   "id": "069bf83b",
   "metadata": {},
   "outputs": [],
   "source": [
    "place18 = []\n",
    "\n",
    "for i in driver.find_elements(By.XPATH,'//div[@class=\"_3VRSm\"]'):\n",
    "    place18.append(i.text)"
   ]
  },
  {
   "cell_type": "code",
   "execution_count": 94,
   "id": "7ed8bc58",
   "metadata": {},
   "outputs": [],
   "source": [
    "kms18 = []\n",
    "\n",
    "for i in driver.find_elements(By.XPATH,'//div[@class=\"_21gnE\"]'):\n",
    "    kms18.append(i.text)"
   ]
  },
  {
   "cell_type": "code",
   "execution_count": 95,
   "id": "52beed94",
   "metadata": {},
   "outputs": [],
   "source": [
    "price18 = []\n",
    "\n",
    "for i in driver.find_elements(By.XPATH,'//span[@class=\"_1zgtX\"]'):\n",
    "    price18.append(i.text)"
   ]
  },
  {
   "cell_type": "code",
   "execution_count": null,
   "id": "834dfbc5",
   "metadata": {},
   "outputs": [],
   "source": []
  },
  {
   "cell_type": "code",
   "execution_count": null,
   "id": "6ae31c95",
   "metadata": {},
   "outputs": [],
   "source": []
  },
  {
   "cell_type": "code",
   "execution_count": 96,
   "id": "a58ef030",
   "metadata": {},
   "outputs": [],
   "source": [
    "brand_check = driver.find_element(By.XPATH,'/html/body/div/div/main/div/div/section/div/div[2]/div[5]/div[1]/div/div[3]/div[2]/div[2]/div[3]/div[2]/div/div[4]/div/input')\n",
    "brand_check.click()"
   ]
  },
  {
   "cell_type": "code",
   "execution_count": null,
   "id": "5b64da97",
   "metadata": {},
   "outputs": [],
   "source": []
  },
  {
   "cell_type": "code",
   "execution_count": 97,
   "id": "ec01609e",
   "metadata": {},
   "outputs": [],
   "source": [
    "name19 = []\n",
    "\n",
    "for i in driver.find_elements(By.XPATH,'//div[@class=\"_2Gr10\"]'):\n",
    "    name19.append(i.text)"
   ]
  },
  {
   "cell_type": "code",
   "execution_count": 98,
   "id": "949166c3",
   "metadata": {},
   "outputs": [],
   "source": [
    "place19 = []\n",
    "\n",
    "for i in driver.find_elements(By.XPATH,'//div[@class=\"_3VRSm\"]'):\n",
    "    place19.append(i.text)"
   ]
  },
  {
   "cell_type": "code",
   "execution_count": 99,
   "id": "dc297adf",
   "metadata": {},
   "outputs": [],
   "source": [
    "kms19 = []\n",
    "\n",
    "for i in driver.find_elements(By.XPATH,'//div[@class=\"_21gnE\"]'):\n",
    "    kms19.append(i.text)"
   ]
  },
  {
   "cell_type": "code",
   "execution_count": 100,
   "id": "229e24f3",
   "metadata": {},
   "outputs": [],
   "source": [
    "price19 = []\n",
    "\n",
    "for i in driver.find_elements(By.XPATH,'//span[@class=\"_1zgtX\"]'):\n",
    "    price19.append(i.text)"
   ]
  },
  {
   "cell_type": "code",
   "execution_count": null,
   "id": "6f8a1904",
   "metadata": {},
   "outputs": [],
   "source": []
  },
  {
   "cell_type": "code",
   "execution_count": null,
   "id": "67d8482b",
   "metadata": {},
   "outputs": [],
   "source": []
  },
  {
   "cell_type": "code",
   "execution_count": 101,
   "id": "afbd2495",
   "metadata": {},
   "outputs": [],
   "source": [
    "brand_check = driver.find_element(By.XPATH,'/html/body/div/div/main/div/div/section/div/div[2]/div[5]/div[1]/div/div[3]/div[2]/div[2]/div[3]/div[2]/div/div[5]/div/input')\n",
    "brand_check.click()"
   ]
  },
  {
   "cell_type": "code",
   "execution_count": null,
   "id": "e2bf62a7",
   "metadata": {},
   "outputs": [],
   "source": []
  },
  {
   "cell_type": "code",
   "execution_count": null,
   "id": "e4c051b3",
   "metadata": {},
   "outputs": [],
   "source": []
  },
  {
   "cell_type": "code",
   "execution_count": 102,
   "id": "cd52e007",
   "metadata": {},
   "outputs": [],
   "source": [
    "name20 = []\n",
    "\n",
    "for i in driver.find_elements(By.XPATH,'//div[@class=\"_2Gr10\"]'):\n",
    "    name20.append(i.text)"
   ]
  },
  {
   "cell_type": "code",
   "execution_count": 103,
   "id": "7d0070ad",
   "metadata": {},
   "outputs": [],
   "source": [
    "place20 = []\n",
    "\n",
    "for i in driver.find_elements(By.XPATH,'//div[@class=\"_3VRSm\"]'):\n",
    "    place20.append(i.text)"
   ]
  },
  {
   "cell_type": "code",
   "execution_count": 104,
   "id": "c38400dc",
   "metadata": {},
   "outputs": [],
   "source": [
    "kms20 = []\n",
    "\n",
    "for i in driver.find_elements(By.XPATH,'//div[@class=\"_21gnE\"]'):\n",
    "    kms20.append(i.text)"
   ]
  },
  {
   "cell_type": "code",
   "execution_count": 105,
   "id": "b2d42ad6",
   "metadata": {},
   "outputs": [],
   "source": [
    "price20 = []\n",
    "\n",
    "for i in driver.find_elements(By.XPATH,'//span[@class=\"_1zgtX\"]'):\n",
    "    price20.append(i.text)"
   ]
  },
  {
   "cell_type": "code",
   "execution_count": null,
   "id": "88519e33",
   "metadata": {},
   "outputs": [],
   "source": []
  },
  {
   "cell_type": "code",
   "execution_count": 107,
   "id": "b45af9b2",
   "metadata": {},
   "outputs": [],
   "source": [
    "df1 = pd.DataFrame({'Car':name1,'Place':place1,'Kms':kms1,'Price':price1})\n",
    "df2 = pd.DataFrame({'Car':name2,'Place':place2,'Kms':kms2,'Price':price2})\n",
    "df3 = pd.DataFrame({'Car':name3,'Place':place3,'Kms':kms3,'Price':price3})\n",
    "df4 = pd.DataFrame({'Car':name4,'Place':place4,'Kms':kms4,'Price':price4})\n",
    "df5 = pd.DataFrame({'Car':name5,'Place':place5,'Kms':kms5,'Price':price5})\n",
    "df6 = pd.DataFrame({'Car':name6,'Place':place6,'Kms':kms6,'Price':price6})\n",
    "df7 = pd.DataFrame({'Car':name7,'Place':place7,'Kms':kms7,'Price':price7})\n",
    "df8 = pd.DataFrame({'Car':name8,'Place':place8,'Kms':kms8,'Price':price8})\n",
    "df9 = pd.DataFrame({'Car':name9,'Place':place9,'Kms':kms9,'Price':price9})\n",
    "df10 = pd.DataFrame({'Car':name10,'Place':place10,'Kms':kms10,'Price':price10})\n",
    "df11 = pd.DataFrame({'Car':name11,'Place':place11,'Kms':kms11,'Price':price11})\n",
    "df12 = pd.DataFrame({'Car':name12,'Place':place12,'Kms':kms12,'Price':price12})\n",
    "df13 = pd.DataFrame({'Car':name13,'Place':place13,'Kms':kms13,'Price':price13})\n",
    "df14 = pd.DataFrame({'Car':name14,'Place':place14,'Kms':kms14,'Price':price14})\n",
    "df15 = pd.DataFrame({'Car':name15,'Place':place15,'Kms':kms15,'Price':price15})\n",
    "df16 = pd.DataFrame({'Car':name16,'Place':place16,'Kms':kms16,'Price':price16})\n",
    "df17 = pd.DataFrame({'Car':name17,'Place':place17,'Kms':kms17,'Price':price17})\n",
    "df18 = pd.DataFrame({'Car':name18,'Place':place18,'Kms':kms18,'Price':price18})\n",
    "df19 = pd.DataFrame({'Car':name19,'Place':place19,'Kms':kms19,'Price':price19})\n",
    "df20 = pd.DataFrame({'Car':name20,'Place':place20,'Kms':kms20,'Price':price20})"
   ]
  },
  {
   "cell_type": "code",
   "execution_count": 108,
   "id": "7d923a75",
   "metadata": {},
   "outputs": [],
   "source": [
    "df = pd.concat([df1,df2,df3,df4,df5,df6,df7,df8,df9,df10,df11,df12,df13,df14,df15,df16,df17,df18,df19,df20])"
   ]
  },
  {
   "cell_type": "code",
   "execution_count": 109,
   "id": "13c925be",
   "metadata": {},
   "outputs": [],
   "source": [
    "df.to_csv('C:/Users/user/cardata1.csv')"
   ]
  },
  {
   "cell_type": "code",
   "execution_count": null,
   "id": "f72e5f50",
   "metadata": {},
   "outputs": [],
   "source": []
  },
  {
   "cell_type": "code",
   "execution_count": null,
   "id": "35b2f87d",
   "metadata": {},
   "outputs": [],
   "source": []
  },
  {
   "cell_type": "code",
   "execution_count": null,
   "id": "68ab6af2",
   "metadata": {},
   "outputs": [],
   "source": []
  },
  {
   "cell_type": "code",
   "execution_count": null,
   "id": "595f8339",
   "metadata": {},
   "outputs": [],
   "source": []
  },
  {
   "cell_type": "code",
   "execution_count": null,
   "id": "8a6cef4a",
   "metadata": {},
   "outputs": [],
   "source": []
  },
  {
   "cell_type": "code",
   "execution_count": 2,
   "id": "110065fe",
   "metadata": {},
   "outputs": [
    {
     "data": {
      "text/plain": [
       "<selenium.webdriver.chrome.webdriver.WebDriver (session=\"cf9dae4db63b72905da8ccec0e3112e4\")>"
      ]
     },
     "execution_count": 2,
     "metadata": {},
     "output_type": "execute_result"
    }
   ],
   "source": [
    "driver = webdriver.Chrome(r'C:\\Users\\user\\chromedriver.exe')\n",
    "\n",
    "driver"
   ]
  },
  {
   "cell_type": "code",
   "execution_count": 3,
   "id": "28c8237e",
   "metadata": {},
   "outputs": [],
   "source": [
    "url = 'https://www.olx.com/'\n",
    "\n",
    "driver.get(url)"
   ]
  },
  {
   "cell_type": "code",
   "execution_count": null,
   "id": "b32e177f",
   "metadata": {},
   "outputs": [],
   "source": []
  },
  {
   "cell_type": "code",
   "execution_count": 4,
   "id": "d3479535",
   "metadata": {},
   "outputs": [],
   "source": [
    "cars_click = driver.find_element(By.XPATH,'/html/body/div/div/div[1]/div/div/div[1]/div[2]/div[1]/a')\n",
    "cars_click.click()"
   ]
  },
  {
   "cell_type": "code",
   "execution_count": null,
   "id": "5098ce99",
   "metadata": {},
   "outputs": [],
   "source": []
  },
  {
   "cell_type": "code",
   "execution_count": 5,
   "id": "bfb278c5",
   "metadata": {},
   "outputs": [],
   "source": [
    "search_place = driver.find_element(By.XPATH,'/html/body/div/div/header/div/div/div[2]/div/div/div[1]/div/div[1]/input')\n",
    "search_place.send_keys('Mumbai')"
   ]
  },
  {
   "cell_type": "code",
   "execution_count": 6,
   "id": "1818b5fb",
   "metadata": {},
   "outputs": [],
   "source": [
    "search_place.click()"
   ]
  },
  {
   "cell_type": "code",
   "execution_count": null,
   "id": "6c5a5a53",
   "metadata": {},
   "outputs": [],
   "source": []
  },
  {
   "cell_type": "code",
   "execution_count": null,
   "id": "92d5039e",
   "metadata": {},
   "outputs": [],
   "source": []
  },
  {
   "cell_type": "code",
   "execution_count": null,
   "id": "0e61fdeb",
   "metadata": {},
   "outputs": [],
   "source": []
  },
  {
   "cell_type": "code",
   "execution_count": 7,
   "id": "4a4d7fcc",
   "metadata": {},
   "outputs": [],
   "source": [
    "name1 = []\n",
    "\n",
    "for i in driver.find_elements(By.XPATH,'//div[@class=\"_2Gr10\"]'):\n",
    "    name1.append(i.text)"
   ]
  },
  {
   "cell_type": "code",
   "execution_count": 8,
   "id": "77b68913",
   "metadata": {},
   "outputs": [],
   "source": [
    "place1 = []\n",
    "\n",
    "for i in driver.find_elements(By.XPATH,'//div[@class=\"_3VRSm\"]'):\n",
    "    place1.append(i.text)"
   ]
  },
  {
   "cell_type": "code",
   "execution_count": 9,
   "id": "336d10f2",
   "metadata": {},
   "outputs": [],
   "source": [
    "kms1 = []\n",
    "\n",
    "for i in driver.find_elements(By.XPATH,'//div[@class=\"_21gnE\"]'):\n",
    "    kms1.append(i.text)"
   ]
  },
  {
   "cell_type": "code",
   "execution_count": 10,
   "id": "3feec1a7",
   "metadata": {},
   "outputs": [],
   "source": [
    "price1 = []\n",
    "\n",
    "for i in driver.find_elements(By.XPATH,'//span[@class=\"_1zgtX\"]'):\n",
    "    price1.append(i.text)"
   ]
  },
  {
   "cell_type": "code",
   "execution_count": null,
   "id": "d66b3736",
   "metadata": {},
   "outputs": [],
   "source": []
  },
  {
   "cell_type": "code",
   "execution_count": null,
   "id": "f1716922",
   "metadata": {},
   "outputs": [],
   "source": []
  },
  {
   "cell_type": "code",
   "execution_count": 11,
   "id": "45d6a1d4",
   "metadata": {},
   "outputs": [],
   "source": [
    "brand_check = driver.find_element(By.XPATH,'/html/body/div/div/main/div/div/section/div/div[2]/div[5]/div[1]/div/div[3]/div[2]/div[2]/div[3]/div[2]/div/div[1]/div/input')\n",
    "brand_check.click()"
   ]
  },
  {
   "cell_type": "code",
   "execution_count": null,
   "id": "527c8deb",
   "metadata": {},
   "outputs": [],
   "source": []
  },
  {
   "cell_type": "code",
   "execution_count": null,
   "id": "c666ccfd",
   "metadata": {},
   "outputs": [],
   "source": []
  },
  {
   "cell_type": "code",
   "execution_count": 12,
   "id": "0dd8c447",
   "metadata": {},
   "outputs": [],
   "source": [
    "name2 = []\n",
    "\n",
    "for i in driver.find_elements(By.XPATH,'//div[@class=\"_2Gr10\"]'):\n",
    "    name2.append(i.text)"
   ]
  },
  {
   "cell_type": "code",
   "execution_count": 13,
   "id": "61d283b7",
   "metadata": {},
   "outputs": [],
   "source": [
    "place2 = []\n",
    "\n",
    "for i in driver.find_elements(By.XPATH,'//div[@class=\"_3VRSm\"]'):\n",
    "    place2.append(i.text)"
   ]
  },
  {
   "cell_type": "code",
   "execution_count": 14,
   "id": "64dabc5a",
   "metadata": {},
   "outputs": [],
   "source": [
    "kms2 = []\n",
    "\n",
    "for i in driver.find_elements(By.XPATH,'//div[@class=\"_21gnE\"]'):\n",
    "    kms2.append(i.text)"
   ]
  },
  {
   "cell_type": "code",
   "execution_count": 15,
   "id": "5b1168cf",
   "metadata": {},
   "outputs": [],
   "source": [
    "price2 = []\n",
    "\n",
    "for i in driver.find_elements(By.XPATH,'//span[@class=\"_1zgtX\"]'):\n",
    "    price2.append(i.text)"
   ]
  },
  {
   "cell_type": "code",
   "execution_count": null,
   "id": "d137c7d0",
   "metadata": {},
   "outputs": [],
   "source": []
  },
  {
   "cell_type": "code",
   "execution_count": null,
   "id": "6c190187",
   "metadata": {},
   "outputs": [],
   "source": []
  },
  {
   "cell_type": "code",
   "execution_count": 17,
   "id": "2b67f599",
   "metadata": {},
   "outputs": [],
   "source": [
    "brand_check = driver.find_element(By.XPATH,'/html/body/div/div/main/div/div/section/div/div[2]/div[5]/div[1]/div/div[3]/div[2]/div[2]/div[3]/div[2]/div/div[2]/div/input')\n",
    "brand_check.click()"
   ]
  },
  {
   "cell_type": "code",
   "execution_count": null,
   "id": "99a830b9",
   "metadata": {},
   "outputs": [],
   "source": []
  },
  {
   "cell_type": "code",
   "execution_count": null,
   "id": "273a3458",
   "metadata": {},
   "outputs": [],
   "source": []
  },
  {
   "cell_type": "code",
   "execution_count": 18,
   "id": "2161c73e",
   "metadata": {},
   "outputs": [],
   "source": [
    "name3 = []\n",
    "\n",
    "for i in driver.find_elements(By.XPATH,'//div[@class=\"_2Gr10\"]'):\n",
    "    name3.append(i.text)"
   ]
  },
  {
   "cell_type": "code",
   "execution_count": 19,
   "id": "d08d6361",
   "metadata": {},
   "outputs": [],
   "source": [
    "place3 = []\n",
    "\n",
    "for i in driver.find_elements(By.XPATH,'//div[@class=\"_3VRSm\"]'):\n",
    "    place3.append(i.text)"
   ]
  },
  {
   "cell_type": "code",
   "execution_count": 20,
   "id": "286e080b",
   "metadata": {},
   "outputs": [],
   "source": [
    "kms3 = []\n",
    "\n",
    "for i in driver.find_elements(By.XPATH,'//div[@class=\"_21gnE\"]'):\n",
    "    kms3.append(i.text)"
   ]
  },
  {
   "cell_type": "code",
   "execution_count": 21,
   "id": "a84005c2",
   "metadata": {},
   "outputs": [],
   "source": [
    "price3 = []\n",
    "\n",
    "for i in driver.find_elements(By.XPATH,'//span[@class=\"_1zgtX\"]'):\n",
    "    price3.append(i.text)"
   ]
  },
  {
   "cell_type": "code",
   "execution_count": null,
   "id": "81894f85",
   "metadata": {},
   "outputs": [],
   "source": []
  },
  {
   "cell_type": "code",
   "execution_count": null,
   "id": "0ea8e1b1",
   "metadata": {},
   "outputs": [],
   "source": []
  },
  {
   "cell_type": "code",
   "execution_count": 22,
   "id": "c464b012",
   "metadata": {},
   "outputs": [],
   "source": [
    "brand_check = driver.find_element(By.XPATH,'/html/body/div/div/main/div/div/section/div/div[2]/div[5]/div[1]/div/div[3]/div[2]/div[2]/div[3]/div[2]/div/div[3]/div/input')\n",
    "brand_check.click()"
   ]
  },
  {
   "cell_type": "code",
   "execution_count": null,
   "id": "c0aafb99",
   "metadata": {},
   "outputs": [],
   "source": []
  },
  {
   "cell_type": "code",
   "execution_count": null,
   "id": "a331e0cd",
   "metadata": {},
   "outputs": [],
   "source": []
  },
  {
   "cell_type": "code",
   "execution_count": 23,
   "id": "4fd737df",
   "metadata": {},
   "outputs": [],
   "source": [
    "name4 = []\n",
    "\n",
    "for i in driver.find_elements(By.XPATH,'//div[@class=\"_2Gr10\"]'):\n",
    "    name4.append(i.text)"
   ]
  },
  {
   "cell_type": "code",
   "execution_count": 24,
   "id": "5a4e1cd1",
   "metadata": {},
   "outputs": [],
   "source": [
    "place4 = []\n",
    "\n",
    "for i in driver.find_elements(By.XPATH,'//div[@class=\"_3VRSm\"]'):\n",
    "    place4.append(i.text)"
   ]
  },
  {
   "cell_type": "code",
   "execution_count": 25,
   "id": "12ee18dc",
   "metadata": {},
   "outputs": [],
   "source": [
    "kms4 = []\n",
    "\n",
    "for i in driver.find_elements(By.XPATH,'//div[@class=\"_21gnE\"]'):\n",
    "    kms4.append(i.text)"
   ]
  },
  {
   "cell_type": "code",
   "execution_count": 26,
   "id": "06475ef2",
   "metadata": {},
   "outputs": [],
   "source": [
    "price4 = []\n",
    "\n",
    "for i in driver.find_elements(By.XPATH,'//span[@class=\"_1zgtX\"]'):\n",
    "    price4.append(i.text)"
   ]
  },
  {
   "cell_type": "code",
   "execution_count": null,
   "id": "312aae75",
   "metadata": {},
   "outputs": [],
   "source": []
  },
  {
   "cell_type": "code",
   "execution_count": null,
   "id": "d6805583",
   "metadata": {},
   "outputs": [],
   "source": []
  },
  {
   "cell_type": "code",
   "execution_count": 27,
   "id": "cd953e51",
   "metadata": {},
   "outputs": [],
   "source": [
    "brand_check = driver.find_element(By.XPATH,'/html/body/div/div/main/div/div/section/div/div[2]/div[5]/div[1]/div/div[3]/div[2]/div[2]/div[3]/div[2]/div/div[4]/div/input')\n",
    "brand_check.click()"
   ]
  },
  {
   "cell_type": "code",
   "execution_count": null,
   "id": "32a62575",
   "metadata": {},
   "outputs": [],
   "source": []
  },
  {
   "cell_type": "code",
   "execution_count": null,
   "id": "be174e51",
   "metadata": {},
   "outputs": [],
   "source": []
  },
  {
   "cell_type": "code",
   "execution_count": 28,
   "id": "057e4cf2",
   "metadata": {},
   "outputs": [],
   "source": [
    "name5 = []\n",
    "\n",
    "for i in driver.find_elements(By.XPATH,'//div[@class=\"_2Gr10\"]'):\n",
    "    name5.append(i.text)"
   ]
  },
  {
   "cell_type": "code",
   "execution_count": 29,
   "id": "9fab0dbd",
   "metadata": {},
   "outputs": [],
   "source": [
    "place5 = []\n",
    "\n",
    "for i in driver.find_elements(By.XPATH,'//div[@class=\"_3VRSm\"]'):\n",
    "    place5.append(i.text)"
   ]
  },
  {
   "cell_type": "code",
   "execution_count": 30,
   "id": "7d4313b1",
   "metadata": {},
   "outputs": [],
   "source": [
    "kms5 = []\n",
    "\n",
    "for i in driver.find_elements(By.XPATH,'//div[@class=\"_21gnE\"]'):\n",
    "    kms5.append(i.text)"
   ]
  },
  {
   "cell_type": "code",
   "execution_count": 31,
   "id": "dce9baf0",
   "metadata": {},
   "outputs": [],
   "source": [
    "price5 = []\n",
    "\n",
    "for i in driver.find_elements(By.XPATH,'//span[@class=\"_1zgtX\"]'):\n",
    "    price5.append(i.text)"
   ]
  },
  {
   "cell_type": "code",
   "execution_count": null,
   "id": "87c21681",
   "metadata": {},
   "outputs": [],
   "source": []
  },
  {
   "cell_type": "code",
   "execution_count": null,
   "id": "b10ee192",
   "metadata": {},
   "outputs": [],
   "source": []
  },
  {
   "cell_type": "code",
   "execution_count": 32,
   "id": "cffdc276",
   "metadata": {},
   "outputs": [],
   "source": [
    "brand_check = driver.find_element(By.XPATH,'/html/body/div/div/main/div/div/section/div/div[2]/div[5]/div[1]/div/div[3]/div[2]/div[2]/div[3]/div[2]/div/div[5]/div/input')\n",
    "brand_check.click()"
   ]
  },
  {
   "cell_type": "code",
   "execution_count": null,
   "id": "a9f1b834",
   "metadata": {},
   "outputs": [],
   "source": []
  },
  {
   "cell_type": "code",
   "execution_count": 33,
   "id": "32f51183",
   "metadata": {},
   "outputs": [],
   "source": [
    "name6 = []\n",
    "\n",
    "for i in driver.find_elements(By.XPATH,'//div[@class=\"_2Gr10\"]'):\n",
    "    name6.append(i.text)"
   ]
  },
  {
   "cell_type": "code",
   "execution_count": 34,
   "id": "78ae5655",
   "metadata": {},
   "outputs": [],
   "source": [
    "place6 = []\n",
    "\n",
    "for i in driver.find_elements(By.XPATH,'//div[@class=\"_3VRSm\"]'):\n",
    "    place6.append(i.text)"
   ]
  },
  {
   "cell_type": "code",
   "execution_count": 35,
   "id": "42d4aa87",
   "metadata": {},
   "outputs": [],
   "source": [
    "kms6 = []\n",
    "\n",
    "for i in driver.find_elements(By.XPATH,'//div[@class=\"_21gnE\"]'):\n",
    "    kms6.append(i.text)"
   ]
  },
  {
   "cell_type": "code",
   "execution_count": 36,
   "id": "5da98075",
   "metadata": {},
   "outputs": [],
   "source": [
    "price6 = []\n",
    "\n",
    "for i in driver.find_elements(By.XPATH,'//span[@class=\"_1zgtX\"]'):\n",
    "    price6.append(i.text)"
   ]
  },
  {
   "cell_type": "code",
   "execution_count": null,
   "id": "23d247ce",
   "metadata": {},
   "outputs": [],
   "source": []
  },
  {
   "cell_type": "code",
   "execution_count": null,
   "id": "8685873d",
   "metadata": {},
   "outputs": [],
   "source": []
  },
  {
   "cell_type": "code",
   "execution_count": 37,
   "id": "37da4f7e",
   "metadata": {},
   "outputs": [],
   "source": [
    "brand_check = driver.find_element(By.XPATH,'/html/body/div/div/main/div/div/section/div/div[2]/div[5]/div[1]/div/div[3]/div[2]/div[2]/div[3]/div[2]/div/div[5]/div/input')\n",
    "brand_check.click()"
   ]
  },
  {
   "cell_type": "code",
   "execution_count": null,
   "id": "162244ba",
   "metadata": {},
   "outputs": [],
   "source": []
  },
  {
   "cell_type": "code",
   "execution_count": 38,
   "id": "4f7707ea",
   "metadata": {},
   "outputs": [],
   "source": [
    "name7 = []\n",
    "\n",
    "for i in driver.find_elements(By.XPATH,'//div[@class=\"_2Gr10\"]'):\n",
    "    name7.append(i.text)"
   ]
  },
  {
   "cell_type": "code",
   "execution_count": 39,
   "id": "d934e6dc",
   "metadata": {},
   "outputs": [],
   "source": [
    "place7 = []\n",
    "\n",
    "for i in driver.find_elements(By.XPATH,'//div[@class=\"_3VRSm\"]'):\n",
    "    place7.append(i.text)"
   ]
  },
  {
   "cell_type": "code",
   "execution_count": 40,
   "id": "65215eaa",
   "metadata": {},
   "outputs": [],
   "source": [
    "kms7 = []\n",
    "\n",
    "for i in driver.find_elements(By.XPATH,'//div[@class=\"_21gnE\"]'):\n",
    "    kms7.append(i.text)"
   ]
  },
  {
   "cell_type": "code",
   "execution_count": 41,
   "id": "87134f3d",
   "metadata": {},
   "outputs": [],
   "source": [
    "price7 = []\n",
    "\n",
    "for i in driver.find_elements(By.XPATH,'//span[@class=\"_1zgtX\"]'):\n",
    "    price7.append(i.text)"
   ]
  },
  {
   "cell_type": "code",
   "execution_count": null,
   "id": "e8f85a58",
   "metadata": {},
   "outputs": [],
   "source": []
  },
  {
   "cell_type": "code",
   "execution_count": null,
   "id": "2f3761d9",
   "metadata": {},
   "outputs": [],
   "source": []
  },
  {
   "cell_type": "code",
   "execution_count": 42,
   "id": "a891839f",
   "metadata": {},
   "outputs": [],
   "source": [
    "brand_check = driver.find_element(By.XPATH,'/html/body/div/div/main/div/div/section/div/div[2]/div[5]/div[1]/div/div[3]/div[2]/div[2]/div[3]/div[2]/div/div[6]/div/input')\n",
    "brand_check.click()"
   ]
  },
  {
   "cell_type": "code",
   "execution_count": null,
   "id": "c6f386a5",
   "metadata": {},
   "outputs": [],
   "source": []
  },
  {
   "cell_type": "code",
   "execution_count": 43,
   "id": "6f369a2c",
   "metadata": {},
   "outputs": [],
   "source": [
    "name8 = []\n",
    "\n",
    "for i in driver.find_elements(By.XPATH,'//div[@class=\"_2Gr10\"]'):\n",
    "    name8.append(i.text)"
   ]
  },
  {
   "cell_type": "code",
   "execution_count": 44,
   "id": "ba6f4ef1",
   "metadata": {},
   "outputs": [],
   "source": [
    "place8 = []\n",
    "\n",
    "for i in driver.find_elements(By.XPATH,'//div[@class=\"_3VRSm\"]'):\n",
    "    place8.append(i.text)"
   ]
  },
  {
   "cell_type": "code",
   "execution_count": 45,
   "id": "acb19eff",
   "metadata": {},
   "outputs": [],
   "source": [
    "kms8 = []\n",
    "\n",
    "for i in driver.find_elements(By.XPATH,'//div[@class=\"_21gnE\"]'):\n",
    "    kms8.append(i.text)"
   ]
  },
  {
   "cell_type": "code",
   "execution_count": 46,
   "id": "bf5cc3ac",
   "metadata": {},
   "outputs": [],
   "source": [
    "price8 = []\n",
    "\n",
    "for i in driver.find_elements(By.XPATH,'//span[@class=\"_1zgtX\"]'):\n",
    "    price8.append(i.text)"
   ]
  },
  {
   "cell_type": "code",
   "execution_count": null,
   "id": "3fecd46d",
   "metadata": {},
   "outputs": [],
   "source": []
  },
  {
   "cell_type": "code",
   "execution_count": null,
   "id": "f67d49c9",
   "metadata": {},
   "outputs": [],
   "source": []
  },
  {
   "cell_type": "code",
   "execution_count": 47,
   "id": "a05db932",
   "metadata": {},
   "outputs": [],
   "source": [
    "brand_check = driver.find_element(By.XPATH,'/html/body/div/div/main/div/div/section/div/div[2]/div[5]/div[1]/div/div[3]/div[2]/div[2]/div[3]/div[2]/div/div[7]/div/input')\n",
    "brand_check.click()"
   ]
  },
  {
   "cell_type": "code",
   "execution_count": null,
   "id": "9808ee42",
   "metadata": {},
   "outputs": [],
   "source": []
  },
  {
   "cell_type": "code",
   "execution_count": 48,
   "id": "726c3f49",
   "metadata": {},
   "outputs": [],
   "source": [
    "name9 = []\n",
    "\n",
    "for i in driver.find_elements(By.XPATH,'//div[@class=\"_2Gr10\"]'):\n",
    "    name9.append(i.text)"
   ]
  },
  {
   "cell_type": "code",
   "execution_count": 49,
   "id": "a94398ab",
   "metadata": {},
   "outputs": [],
   "source": [
    "place9 = []\n",
    "\n",
    "for i in driver.find_elements(By.XPATH,'//div[@class=\"_3VRSm\"]'):\n",
    "    place9.append(i.text)"
   ]
  },
  {
   "cell_type": "code",
   "execution_count": 50,
   "id": "771409e2",
   "metadata": {},
   "outputs": [],
   "source": [
    "kms9 = []\n",
    "\n",
    "for i in driver.find_elements(By.XPATH,'//div[@class=\"_21gnE\"]'):\n",
    "    kms9.append(i.text)"
   ]
  },
  {
   "cell_type": "code",
   "execution_count": 51,
   "id": "038c9d6d",
   "metadata": {},
   "outputs": [],
   "source": [
    "price9 = []\n",
    "\n",
    "for i in driver.find_elements(By.XPATH,'//span[@class=\"_1zgtX\"]'):\n",
    "    price9.append(i.text)"
   ]
  },
  {
   "cell_type": "code",
   "execution_count": null,
   "id": "631f5fd1",
   "metadata": {},
   "outputs": [],
   "source": []
  },
  {
   "cell_type": "code",
   "execution_count": null,
   "id": "34f60ecc",
   "metadata": {},
   "outputs": [],
   "source": []
  },
  {
   "cell_type": "code",
   "execution_count": 52,
   "id": "00da9c3f",
   "metadata": {},
   "outputs": [],
   "source": [
    "brand_check = driver.find_element(By.XPATH,'/html/body/div/div/main/div/div/section/div/div[2]/div[5]/div[1]/div/div[3]/div[2]/div[2]/div[3]/div[2]/div/div[6]/div/input')\n",
    "brand_check.click()"
   ]
  },
  {
   "cell_type": "code",
   "execution_count": null,
   "id": "72e0f485",
   "metadata": {},
   "outputs": [],
   "source": []
  },
  {
   "cell_type": "code",
   "execution_count": 53,
   "id": "f6490b56",
   "metadata": {},
   "outputs": [],
   "source": [
    "name10 = []\n",
    "\n",
    "for i in driver.find_elements(By.XPATH,'//div[@class=\"_2Gr10\"]'):\n",
    "    name10.append(i.text)"
   ]
  },
  {
   "cell_type": "code",
   "execution_count": 54,
   "id": "4b2a568f",
   "metadata": {},
   "outputs": [],
   "source": [
    "place10 = []\n",
    "\n",
    "for i in driver.find_elements(By.XPATH,'//div[@class=\"_3VRSm\"]'):\n",
    "    place10.append(i.text)"
   ]
  },
  {
   "cell_type": "code",
   "execution_count": 55,
   "id": "3d95fe6d",
   "metadata": {},
   "outputs": [],
   "source": [
    "kms10 = []\n",
    "\n",
    "for i in driver.find_elements(By.XPATH,'//div[@class=\"_21gnE\"]'):\n",
    "    kms10.append(i.text)"
   ]
  },
  {
   "cell_type": "code",
   "execution_count": 56,
   "id": "f95af136",
   "metadata": {},
   "outputs": [],
   "source": [
    "price10 = []\n",
    "\n",
    "for i in driver.find_elements(By.XPATH,'//span[@class=\"_1zgtX\"]'):\n",
    "    price10.append(i.text)"
   ]
  },
  {
   "cell_type": "code",
   "execution_count": null,
   "id": "57e63dac",
   "metadata": {},
   "outputs": [],
   "source": []
  },
  {
   "cell_type": "code",
   "execution_count": null,
   "id": "c7f42022",
   "metadata": {},
   "outputs": [],
   "source": []
  },
  {
   "cell_type": "code",
   "execution_count": 57,
   "id": "a67e3003",
   "metadata": {},
   "outputs": [],
   "source": [
    "brand_check = driver.find_element(By.XPATH,'/html/body/div/div/main/div/div/section/div/div[2]/div[5]/div[1]/div/div[3]/div[2]/div[2]/div[3]/div[2]/div/div[5]/div/input')\n",
    "brand_check.click()"
   ]
  },
  {
   "cell_type": "code",
   "execution_count": null,
   "id": "2097c704",
   "metadata": {},
   "outputs": [],
   "source": []
  },
  {
   "cell_type": "code",
   "execution_count": 58,
   "id": "3110c346",
   "metadata": {},
   "outputs": [],
   "source": [
    "name11 = []\n",
    "\n",
    "for i in driver.find_elements(By.XPATH,'//div[@class=\"_2Gr10\"]'):\n",
    "    name11.append(i.text)"
   ]
  },
  {
   "cell_type": "code",
   "execution_count": 59,
   "id": "a4076d5b",
   "metadata": {},
   "outputs": [],
   "source": [
    "place11 = []\n",
    "\n",
    "for i in driver.find_elements(By.XPATH,'//div[@class=\"_3VRSm\"]'):\n",
    "    place11.append(i.text)"
   ]
  },
  {
   "cell_type": "code",
   "execution_count": 60,
   "id": "b03c486a",
   "metadata": {},
   "outputs": [],
   "source": [
    "kms11 = []\n",
    "\n",
    "for i in driver.find_elements(By.XPATH,'//div[@class=\"_21gnE\"]'):\n",
    "    kms11.append(i.text)"
   ]
  },
  {
   "cell_type": "code",
   "execution_count": 61,
   "id": "52ed68f1",
   "metadata": {},
   "outputs": [],
   "source": [
    "price11 = []\n",
    "\n",
    "for i in driver.find_elements(By.XPATH,'//span[@class=\"_1zgtX\"]'):\n",
    "    price11.append(i.text)"
   ]
  },
  {
   "cell_type": "code",
   "execution_count": null,
   "id": "5cae3714",
   "metadata": {},
   "outputs": [],
   "source": []
  },
  {
   "cell_type": "code",
   "execution_count": null,
   "id": "d24374de",
   "metadata": {},
   "outputs": [],
   "source": []
  },
  {
   "cell_type": "code",
   "execution_count": 62,
   "id": "16369cdb",
   "metadata": {},
   "outputs": [],
   "source": [
    "brand_check = driver.find_element(By.XPATH,'/html/body/div/div/main/div/div/section/div/div[2]/div[5]/div[1]/div/div[3]/div[2]/div[2]/div[3]/div[2]/div/div[5]/div/input')\n",
    "brand_check.click()"
   ]
  },
  {
   "cell_type": "code",
   "execution_count": null,
   "id": "6b3288e3",
   "metadata": {},
   "outputs": [],
   "source": []
  },
  {
   "cell_type": "code",
   "execution_count": 63,
   "id": "345a9d80",
   "metadata": {},
   "outputs": [],
   "source": [
    "name12 = []\n",
    "\n",
    "for i in driver.find_elements(By.XPATH,'//div[@class=\"_2Gr10\"]'):\n",
    "    name12.append(i.text)"
   ]
  },
  {
   "cell_type": "code",
   "execution_count": 64,
   "id": "7b24e9f0",
   "metadata": {},
   "outputs": [],
   "source": [
    "place12 = []\n",
    "\n",
    "for i in driver.find_elements(By.XPATH,'//div[@class=\"_3VRSm\"]'):\n",
    "    place12.append(i.text)"
   ]
  },
  {
   "cell_type": "code",
   "execution_count": 65,
   "id": "293268ad",
   "metadata": {},
   "outputs": [],
   "source": [
    "kms12 = []\n",
    "\n",
    "for i in driver.find_elements(By.XPATH,'//div[@class=\"_21gnE\"]'):\n",
    "    kms12.append(i.text)"
   ]
  },
  {
   "cell_type": "code",
   "execution_count": 66,
   "id": "d0688f8c",
   "metadata": {},
   "outputs": [],
   "source": [
    "price12 = []\n",
    "\n",
    "for i in driver.find_elements(By.XPATH,'//span[@class=\"_1zgtX\"]'):\n",
    "    price12.append(i.text)"
   ]
  },
  {
   "cell_type": "code",
   "execution_count": null,
   "id": "7e206110",
   "metadata": {},
   "outputs": [],
   "source": []
  },
  {
   "cell_type": "code",
   "execution_count": null,
   "id": "f7716dc4",
   "metadata": {},
   "outputs": [],
   "source": []
  },
  {
   "cell_type": "code",
   "execution_count": 67,
   "id": "89e3041d",
   "metadata": {},
   "outputs": [],
   "source": [
    "brand_check = driver.find_element(By.XPATH,'/html/body/div/div/main/div/div/section/div/div[2]/div[5]/div[1]/div/div[3]/div[2]/div[2]/div[3]/div[2]/div/div[6]/div/input')\n",
    "brand_check.click()"
   ]
  },
  {
   "cell_type": "code",
   "execution_count": null,
   "id": "25e7fc1c",
   "metadata": {},
   "outputs": [],
   "source": []
  },
  {
   "cell_type": "code",
   "execution_count": 68,
   "id": "56b2ada8",
   "metadata": {},
   "outputs": [],
   "source": [
    "name13 = []\n",
    "\n",
    "for i in driver.find_elements(By.XPATH,'//div[@class=\"_2Gr10\"]'):\n",
    "    name13.append(i.text)"
   ]
  },
  {
   "cell_type": "code",
   "execution_count": 69,
   "id": "718b14bd",
   "metadata": {},
   "outputs": [],
   "source": [
    "place13 = []\n",
    "\n",
    "for i in driver.find_elements(By.XPATH,'//div[@class=\"_3VRSm\"]'):\n",
    "    place13.append(i.text)"
   ]
  },
  {
   "cell_type": "code",
   "execution_count": 70,
   "id": "2962c0fa",
   "metadata": {},
   "outputs": [],
   "source": [
    "kms13 = []\n",
    "\n",
    "for i in driver.find_elements(By.XPATH,'//div[@class=\"_21gnE\"]'):\n",
    "    kms13.append(i.text)"
   ]
  },
  {
   "cell_type": "code",
   "execution_count": 71,
   "id": "3211b43a",
   "metadata": {},
   "outputs": [],
   "source": [
    "price13 = []\n",
    "\n",
    "for i in driver.find_elements(By.XPATH,'//span[@class=\"_1zgtX\"]'):\n",
    "    price13.append(i.text)"
   ]
  },
  {
   "cell_type": "code",
   "execution_count": null,
   "id": "8a35874b",
   "metadata": {},
   "outputs": [],
   "source": []
  },
  {
   "cell_type": "code",
   "execution_count": null,
   "id": "d1ef533b",
   "metadata": {},
   "outputs": [],
   "source": []
  },
  {
   "cell_type": "code",
   "execution_count": 72,
   "id": "bf511c52",
   "metadata": {},
   "outputs": [],
   "source": [
    "brand_check = driver.find_element(By.XPATH,'/html/body/div/div/main/div/div/section/div/div[2]/div[5]/div[1]/div/div[3]/div[2]/div[2]/div[3]/div[2]/div/div[5]/div/input')\n",
    "brand_check.click()"
   ]
  },
  {
   "cell_type": "code",
   "execution_count": null,
   "id": "b6f26623",
   "metadata": {},
   "outputs": [],
   "source": []
  },
  {
   "cell_type": "code",
   "execution_count": 73,
   "id": "3f8dfc25",
   "metadata": {},
   "outputs": [],
   "source": [
    "name13 = []\n",
    "\n",
    "for i in driver.find_elements(By.XPATH,'//div[@class=\"_2Gr10\"]'):\n",
    "    name13.append(i.text)"
   ]
  },
  {
   "cell_type": "code",
   "execution_count": 74,
   "id": "74df4789",
   "metadata": {},
   "outputs": [],
   "source": [
    "place13 = []\n",
    "\n",
    "for i in driver.find_elements(By.XPATH,'//div[@class=\"_3VRSm\"]'):\n",
    "    place13.append(i.text)"
   ]
  },
  {
   "cell_type": "code",
   "execution_count": 75,
   "id": "8f01c6f2",
   "metadata": {},
   "outputs": [],
   "source": [
    "kms13 = []\n",
    "\n",
    "for i in driver.find_elements(By.XPATH,'//div[@class=\"_21gnE\"]'):\n",
    "    kms13.append(i.text)"
   ]
  },
  {
   "cell_type": "code",
   "execution_count": 76,
   "id": "f5e263a2",
   "metadata": {},
   "outputs": [],
   "source": [
    "price13 = []\n",
    "\n",
    "for i in driver.find_elements(By.XPATH,'//span[@class=\"_1zgtX\"]'):\n",
    "    price13.append(i.text)"
   ]
  },
  {
   "cell_type": "code",
   "execution_count": null,
   "id": "e48f3834",
   "metadata": {},
   "outputs": [],
   "source": []
  },
  {
   "cell_type": "code",
   "execution_count": null,
   "id": "821889c4",
   "metadata": {},
   "outputs": [],
   "source": []
  },
  {
   "cell_type": "code",
   "execution_count": 77,
   "id": "3af97c49",
   "metadata": {},
   "outputs": [],
   "source": [
    "brand_check = driver.find_element(By.XPATH,'/html/body/div/div/main/div/div/section/div/div[2]/div[5]/div[1]/div/div[3]/div[2]/div[2]/div[3]/div[2]/div/div[6]/div/input')\n",
    "brand_check.click()"
   ]
  },
  {
   "cell_type": "code",
   "execution_count": null,
   "id": "6b0dfee5",
   "metadata": {},
   "outputs": [],
   "source": []
  },
  {
   "cell_type": "code",
   "execution_count": 78,
   "id": "eeb6d752",
   "metadata": {},
   "outputs": [],
   "source": [
    "name14 = []\n",
    "\n",
    "for i in driver.find_elements(By.XPATH,'//div[@class=\"_2Gr10\"]'):\n",
    "    name14.append(i.text)"
   ]
  },
  {
   "cell_type": "code",
   "execution_count": 79,
   "id": "68ba53eb",
   "metadata": {},
   "outputs": [],
   "source": [
    "place14 = []\n",
    "\n",
    "for i in driver.find_elements(By.XPATH,'//div[@class=\"_3VRSm\"]'):\n",
    "    place14.append(i.text)"
   ]
  },
  {
   "cell_type": "code",
   "execution_count": 80,
   "id": "ab9f1038",
   "metadata": {},
   "outputs": [],
   "source": [
    "kms14 = []\n",
    "\n",
    "for i in driver.find_elements(By.XPATH,'//div[@class=\"_21gnE\"]'):\n",
    "    kms14.append(i.text)"
   ]
  },
  {
   "cell_type": "code",
   "execution_count": 81,
   "id": "8ec6156c",
   "metadata": {},
   "outputs": [],
   "source": [
    "price14 = []\n",
    "\n",
    "for i in driver.find_elements(By.XPATH,'//span[@class=\"_1zgtX\"]'):\n",
    "    price14.append(i.text)"
   ]
  },
  {
   "cell_type": "code",
   "execution_count": null,
   "id": "3bdb7263",
   "metadata": {},
   "outputs": [],
   "source": []
  },
  {
   "cell_type": "code",
   "execution_count": null,
   "id": "22006a79",
   "metadata": {},
   "outputs": [],
   "source": []
  },
  {
   "cell_type": "code",
   "execution_count": 82,
   "id": "7dc3424a",
   "metadata": {},
   "outputs": [],
   "source": [
    "brand_check = driver.find_element(By.XPATH,'/html/body/div/div/main/div/div/section/div/div[2]/div[5]/div[1]/div/div[3]/div[2]/div[2]/div[3]/div[2]/div/div[5]/div/input')\n",
    "brand_check.click()"
   ]
  },
  {
   "cell_type": "code",
   "execution_count": null,
   "id": "4d2dc2cb",
   "metadata": {},
   "outputs": [],
   "source": []
  },
  {
   "cell_type": "code",
   "execution_count": 84,
   "id": "3acddd11",
   "metadata": {},
   "outputs": [],
   "source": [
    "name15 = []\n",
    "\n",
    "for i in driver.find_elements(By.XPATH,'//div[@class=\"_2Gr10\"]'):\n",
    "    name15.append(i.text)"
   ]
  },
  {
   "cell_type": "code",
   "execution_count": 85,
   "id": "869b4d07",
   "metadata": {},
   "outputs": [],
   "source": [
    "place15 = []\n",
    "\n",
    "for i in driver.find_elements(By.XPATH,'//div[@class=\"_3VRSm\"]'):\n",
    "    place15.append(i.text)"
   ]
  },
  {
   "cell_type": "code",
   "execution_count": 86,
   "id": "1a7e850f",
   "metadata": {},
   "outputs": [],
   "source": [
    "kms15 = []\n",
    "\n",
    "for i in driver.find_elements(By.XPATH,'//div[@class=\"_21gnE\"]'):\n",
    "    kms15.append(i.text)"
   ]
  },
  {
   "cell_type": "code",
   "execution_count": 87,
   "id": "bbe0bd72",
   "metadata": {},
   "outputs": [],
   "source": [
    "price15 = []\n",
    "\n",
    "for i in driver.find_elements(By.XPATH,'//span[@class=\"_1zgtX\"]'):\n",
    "    price15.append(i.text)"
   ]
  },
  {
   "cell_type": "code",
   "execution_count": null,
   "id": "d921fba7",
   "metadata": {},
   "outputs": [],
   "source": []
  },
  {
   "cell_type": "code",
   "execution_count": null,
   "id": "dd7ef748",
   "metadata": {},
   "outputs": [],
   "source": []
  },
  {
   "cell_type": "code",
   "execution_count": 88,
   "id": "9fffcda8",
   "metadata": {},
   "outputs": [],
   "source": [
    "brand_check = driver.find_element(By.XPATH,'/html/body/div/div/main/div/div/section/div/div[2]/div[5]/div[1]/div/div[3]/div[2]/div[2]/div[3]/div[2]/div/div[7]/div/input')\n",
    "brand_check.click()"
   ]
  },
  {
   "cell_type": "code",
   "execution_count": null,
   "id": "fe1ee2d3",
   "metadata": {},
   "outputs": [],
   "source": []
  },
  {
   "cell_type": "code",
   "execution_count": 89,
   "id": "1232b53c",
   "metadata": {},
   "outputs": [],
   "source": [
    "name16 = []\n",
    "\n",
    "for i in driver.find_elements(By.XPATH,'//div[@class=\"_2Gr10\"]'):\n",
    "    name16.append(i.text)"
   ]
  },
  {
   "cell_type": "code",
   "execution_count": 90,
   "id": "04b05828",
   "metadata": {},
   "outputs": [],
   "source": [
    "place16 = []\n",
    "\n",
    "for i in driver.find_elements(By.XPATH,'//div[@class=\"_3VRSm\"]'):\n",
    "    place16.append(i.text)"
   ]
  },
  {
   "cell_type": "code",
   "execution_count": 91,
   "id": "cf9f88bf",
   "metadata": {},
   "outputs": [],
   "source": [
    "kms16 = []\n",
    "\n",
    "for i in driver.find_elements(By.XPATH,'//div[@class=\"_21gnE\"]'):\n",
    "    kms16.append(i.text)"
   ]
  },
  {
   "cell_type": "code",
   "execution_count": 92,
   "id": "02217760",
   "metadata": {},
   "outputs": [],
   "source": [
    "price16 = []\n",
    "\n",
    "for i in driver.find_elements(By.XPATH,'//span[@class=\"_1zgtX\"]'):\n",
    "    price16.append(i.text)"
   ]
  },
  {
   "cell_type": "code",
   "execution_count": null,
   "id": "a45d3d9f",
   "metadata": {},
   "outputs": [],
   "source": []
  },
  {
   "cell_type": "code",
   "execution_count": null,
   "id": "fad9a28d",
   "metadata": {},
   "outputs": [],
   "source": []
  },
  {
   "cell_type": "code",
   "execution_count": 93,
   "id": "8e0add69",
   "metadata": {},
   "outputs": [],
   "source": [
    "brand_check = driver.find_element(By.XPATH,'/html/body/div/div/main/div/div/section/div/div[2]/div[5]/div[1]/div/div[3]/div[2]/div[2]/div[3]/div[2]/div/div[6]/div/input')\n",
    "brand_check.click()"
   ]
  },
  {
   "cell_type": "code",
   "execution_count": null,
   "id": "3549118a",
   "metadata": {},
   "outputs": [],
   "source": []
  },
  {
   "cell_type": "code",
   "execution_count": 94,
   "id": "1468f29c",
   "metadata": {},
   "outputs": [],
   "source": [
    "name17 = []\n",
    "\n",
    "for i in driver.find_elements(By.XPATH,'//div[@class=\"_2Gr10\"]'):\n",
    "    name17.append(i.text)"
   ]
  },
  {
   "cell_type": "code",
   "execution_count": 95,
   "id": "24f5ee91",
   "metadata": {},
   "outputs": [],
   "source": [
    "place17 = []\n",
    "\n",
    "for i in driver.find_elements(By.XPATH,'//div[@class=\"_3VRSm\"]'):\n",
    "    place17.append(i.text)"
   ]
  },
  {
   "cell_type": "code",
   "execution_count": 96,
   "id": "67cc5ddf",
   "metadata": {},
   "outputs": [],
   "source": [
    "kms17 = []\n",
    "\n",
    "for i in driver.find_elements(By.XPATH,'//div[@class=\"_21gnE\"]'):\n",
    "    kms17.append(i.text)"
   ]
  },
  {
   "cell_type": "code",
   "execution_count": 97,
   "id": "86cb6700",
   "metadata": {},
   "outputs": [],
   "source": [
    "price17 = []\n",
    "\n",
    "for i in driver.find_elements(By.XPATH,'//span[@class=\"_1zgtX\"]'):\n",
    "    price17.append(i.text)"
   ]
  },
  {
   "cell_type": "code",
   "execution_count": null,
   "id": "7b3f56c4",
   "metadata": {},
   "outputs": [],
   "source": []
  },
  {
   "cell_type": "code",
   "execution_count": null,
   "id": "8b89a33d",
   "metadata": {},
   "outputs": [],
   "source": []
  },
  {
   "cell_type": "code",
   "execution_count": 98,
   "id": "ba82445b",
   "metadata": {},
   "outputs": [],
   "source": [
    "brand_check = driver.find_element(By.XPATH,'/html/body/div/div/main/div/div/section/div/div[2]/div[5]/div[1]/div/div[3]/div[2]/div[2]/div[3]/div[2]/div/div[5]/div/input')\n",
    "brand_check.click()"
   ]
  },
  {
   "cell_type": "code",
   "execution_count": null,
   "id": "428c9f7f",
   "metadata": {},
   "outputs": [],
   "source": []
  },
  {
   "cell_type": "code",
   "execution_count": 99,
   "id": "f1b89439",
   "metadata": {},
   "outputs": [],
   "source": [
    "name18 = []\n",
    "\n",
    "for i in driver.find_elements(By.XPATH,'//div[@class=\"_2Gr10\"]'):\n",
    "    name18.append(i.text)"
   ]
  },
  {
   "cell_type": "code",
   "execution_count": 100,
   "id": "baf5f99c",
   "metadata": {},
   "outputs": [],
   "source": [
    "place18 = []\n",
    "\n",
    "for i in driver.find_elements(By.XPATH,'//div[@class=\"_3VRSm\"]'):\n",
    "    place18.append(i.text)"
   ]
  },
  {
   "cell_type": "code",
   "execution_count": 102,
   "id": "121de8f3",
   "metadata": {},
   "outputs": [],
   "source": [
    "kms18 = []\n",
    "\n",
    "for i in driver.find_elements(By.XPATH,'//div[@class=\"_21gnE\"]'):\n",
    "    kms18.append(i.text)"
   ]
  },
  {
   "cell_type": "code",
   "execution_count": 103,
   "id": "f1071764",
   "metadata": {},
   "outputs": [],
   "source": [
    "price18 = []\n",
    "\n",
    "for i in driver.find_elements(By.XPATH,'//span[@class=\"_1zgtX\"]'):\n",
    "    price18.append(i.text)"
   ]
  },
  {
   "cell_type": "code",
   "execution_count": null,
   "id": "21763a59",
   "metadata": {},
   "outputs": [],
   "source": []
  },
  {
   "cell_type": "code",
   "execution_count": null,
   "id": "75f4b3be",
   "metadata": {},
   "outputs": [],
   "source": []
  },
  {
   "cell_type": "code",
   "execution_count": 104,
   "id": "5ac435b3",
   "metadata": {},
   "outputs": [],
   "source": [
    "brand_check = driver.find_element(By.XPATH,'/html/body/div/div/main/div/div/section/div/div[2]/div[5]/div[1]/div/div[3]/div[2]/div[2]/div[3]/div[2]/div/div[5]/div/input')\n",
    "brand_check.click()"
   ]
  },
  {
   "cell_type": "code",
   "execution_count": null,
   "id": "dd9551cd",
   "metadata": {},
   "outputs": [],
   "source": []
  },
  {
   "cell_type": "code",
   "execution_count": 105,
   "id": "1a359639",
   "metadata": {},
   "outputs": [],
   "source": [
    "name19 = []\n",
    "\n",
    "for i in driver.find_elements(By.XPATH,'//div[@class=\"_2Gr10\"]'):\n",
    "    name19.append(i.text)"
   ]
  },
  {
   "cell_type": "code",
   "execution_count": 106,
   "id": "acb83cf1",
   "metadata": {},
   "outputs": [],
   "source": [
    "place19 = []\n",
    "\n",
    "for i in driver.find_elements(By.XPATH,'//div[@class=\"_3VRSm\"]'):\n",
    "    place19.append(i.text)"
   ]
  },
  {
   "cell_type": "code",
   "execution_count": 107,
   "id": "ffaf59ec",
   "metadata": {},
   "outputs": [],
   "source": [
    "kms19 = []\n",
    "\n",
    "for i in driver.find_elements(By.XPATH,'//div[@class=\"_21gnE\"]'):\n",
    "    kms19.append(i.text)"
   ]
  },
  {
   "cell_type": "code",
   "execution_count": 108,
   "id": "aaf401a3",
   "metadata": {},
   "outputs": [],
   "source": [
    "price19 = []\n",
    "\n",
    "for i in driver.find_elements(By.XPATH,'//span[@class=\"_1zgtX\"]'):\n",
    "    price19.append(i.text)"
   ]
  },
  {
   "cell_type": "code",
   "execution_count": null,
   "id": "8747698f",
   "metadata": {},
   "outputs": [],
   "source": []
  },
  {
   "cell_type": "code",
   "execution_count": null,
   "id": "78f2ca69",
   "metadata": {},
   "outputs": [],
   "source": []
  },
  {
   "cell_type": "code",
   "execution_count": 109,
   "id": "6efed37d",
   "metadata": {},
   "outputs": [],
   "source": [
    "brand_check = driver.find_element(By.XPATH,'/html/body/div/div/main/div/div/section/div/div[2]/div[5]/div[1]/div/div[3]/div[2]/div[2]/div[3]/div[2]/div/div[7]/div/input')\n",
    "brand_check.click()"
   ]
  },
  {
   "cell_type": "code",
   "execution_count": null,
   "id": "d88cde7b",
   "metadata": {},
   "outputs": [],
   "source": []
  },
  {
   "cell_type": "code",
   "execution_count": 110,
   "id": "de219c1f",
   "metadata": {},
   "outputs": [],
   "source": [
    "name20 = []\n",
    "\n",
    "for i in driver.find_elements(By.XPATH,'//div[@class=\"_2Gr10\"]'):\n",
    "    name20.append(i.text)"
   ]
  },
  {
   "cell_type": "code",
   "execution_count": 111,
   "id": "deb11ba2",
   "metadata": {},
   "outputs": [],
   "source": [
    "place20 = []\n",
    "\n",
    "for i in driver.find_elements(By.XPATH,'//div[@class=\"_3VRSm\"]'):\n",
    "    place20.append(i.text)"
   ]
  },
  {
   "cell_type": "code",
   "execution_count": 112,
   "id": "ad340fff",
   "metadata": {},
   "outputs": [],
   "source": [
    "kms20 = []\n",
    "\n",
    "for i in driver.find_elements(By.XPATH,'//div[@class=\"_21gnE\"]'):\n",
    "    kms20.append(i.text)"
   ]
  },
  {
   "cell_type": "code",
   "execution_count": 113,
   "id": "1caa158e",
   "metadata": {},
   "outputs": [],
   "source": [
    "price20 = []\n",
    "\n",
    "for i in driver.find_elements(By.XPATH,'//span[@class=\"_1zgtX\"]'):\n",
    "    price20.append(i.text)"
   ]
  },
  {
   "cell_type": "code",
   "execution_count": null,
   "id": "7a19f9d7",
   "metadata": {},
   "outputs": [],
   "source": []
  },
  {
   "cell_type": "code",
   "execution_count": 114,
   "id": "fa00f3b1",
   "metadata": {},
   "outputs": [],
   "source": [
    "df1 = pd.DataFrame({'Car':name1,'Place':place1,'Kms':kms1,'Price':price1})\n",
    "df2 = pd.DataFrame({'Car':name2,'Place':place2,'Kms':kms2,'Price':price2})\n",
    "df3 = pd.DataFrame({'Car':name3,'Place':place3,'Kms':kms3,'Price':price3})\n",
    "df4 = pd.DataFrame({'Car':name4,'Place':place4,'Kms':kms4,'Price':price4})\n",
    "df5 = pd.DataFrame({'Car':name5,'Place':place5,'Kms':kms5,'Price':price5})\n",
    "df6 = pd.DataFrame({'Car':name6,'Place':place6,'Kms':kms6,'Price':price6})\n",
    "df7 = pd.DataFrame({'Car':name7,'Place':place7,'Kms':kms7,'Price':price7})\n",
    "df8 = pd.DataFrame({'Car':name8,'Place':place8,'Kms':kms8,'Price':price8})\n",
    "df9 = pd.DataFrame({'Car':name9,'Place':place9,'Kms':kms9,'Price':price9})\n",
    "df10 = pd.DataFrame({'Car':name10,'Place':place10,'Kms':kms10,'Price':price10})\n",
    "df11 = pd.DataFrame({'Car':name11,'Place':place11,'Kms':kms11,'Price':price11})\n",
    "df12 = pd.DataFrame({'Car':name12,'Place':place12,'Kms':kms12,'Price':price12})\n",
    "df13 = pd.DataFrame({'Car':name13,'Place':place13,'Kms':kms13,'Price':price13})\n",
    "df14 = pd.DataFrame({'Car':name14,'Place':place14,'Kms':kms14,'Price':price14})\n",
    "df15 = pd.DataFrame({'Car':name15,'Place':place15,'Kms':kms15,'Price':price15})\n",
    "df16 = pd.DataFrame({'Car':name16,'Place':place16,'Kms':kms16,'Price':price16})\n",
    "df17 = pd.DataFrame({'Car':name17,'Place':place17,'Kms':kms17,'Price':price17})\n",
    "df18 = pd.DataFrame({'Car':name18,'Place':place18,'Kms':kms18,'Price':price18})\n",
    "df19 = pd.DataFrame({'Car':name19,'Place':place19,'Kms':kms19,'Price':price19})\n",
    "df20 = pd.DataFrame({'Car':name20,'Place':place20,'Kms':kms20,'Price':price20})"
   ]
  },
  {
   "cell_type": "code",
   "execution_count": 115,
   "id": "574aec50",
   "metadata": {},
   "outputs": [],
   "source": [
    "df = pd.concat([df1,df2,df3,df4,df5,df6,df7,df8,df9,df10,df11,df12,df13,df14,df15,df16,df17,df18,df19,df20])"
   ]
  },
  {
   "cell_type": "code",
   "execution_count": 116,
   "id": "81ec6a8b",
   "metadata": {},
   "outputs": [],
   "source": [
    "df.to_csv('C:/Users/user/cardata2.csv')"
   ]
  },
  {
   "cell_type": "code",
   "execution_count": null,
   "id": "1017f439",
   "metadata": {},
   "outputs": [],
   "source": []
  },
  {
   "cell_type": "code",
   "execution_count": null,
   "id": "b52bba1f",
   "metadata": {},
   "outputs": [],
   "source": []
  },
  {
   "cell_type": "code",
   "execution_count": null,
   "id": "33f0d196",
   "metadata": {},
   "outputs": [],
   "source": []
  },
  {
   "cell_type": "code",
   "execution_count": 2,
   "id": "24f219ac",
   "metadata": {},
   "outputs": [
    {
     "data": {
      "text/plain": [
       "<selenium.webdriver.chrome.webdriver.WebDriver (session=\"2a0085b0a2b23eda2d7a4c4d9f1187c0\")>"
      ]
     },
     "execution_count": 2,
     "metadata": {},
     "output_type": "execute_result"
    }
   ],
   "source": [
    "driver = webdriver.Chrome(r'C:\\Users\\user\\chromedriver.exe')\n",
    "\n",
    "driver"
   ]
  },
  {
   "cell_type": "code",
   "execution_count": 3,
   "id": "3675d90d",
   "metadata": {},
   "outputs": [],
   "source": [
    "url = 'https://www.olx.com/'\n",
    "\n",
    "driver.get(url)"
   ]
  },
  {
   "cell_type": "code",
   "execution_count": null,
   "id": "11783a5d",
   "metadata": {},
   "outputs": [],
   "source": []
  },
  {
   "cell_type": "code",
   "execution_count": 4,
   "id": "6e5eeeae",
   "metadata": {},
   "outputs": [],
   "source": [
    "cars_click = driver.find_element(By.XPATH,'/html/body/div/div/div[1]/div/div/div[1]/div[2]/div[1]/a')\n",
    "cars_click.click()"
   ]
  },
  {
   "cell_type": "code",
   "execution_count": null,
   "id": "6af2cf30",
   "metadata": {},
   "outputs": [],
   "source": []
  },
  {
   "cell_type": "code",
   "execution_count": 8,
   "id": "f4d42f80",
   "metadata": {},
   "outputs": [],
   "source": [
    "search_place = driver.find_element(By.XPATH,'/html/body/div/div/header/div/div/div[2]/div/div/div[1]/div/div[1]/input')\n",
    "search_place.send_keys('Hyderabad')\n",
    "search_place.click()"
   ]
  },
  {
   "cell_type": "code",
   "execution_count": null,
   "id": "75e461f3",
   "metadata": {},
   "outputs": [],
   "source": []
  },
  {
   "cell_type": "code",
   "execution_count": null,
   "id": "44107640",
   "metadata": {},
   "outputs": [],
   "source": []
  },
  {
   "cell_type": "code",
   "execution_count": null,
   "id": "6841b30e",
   "metadata": {},
   "outputs": [],
   "source": []
  },
  {
   "cell_type": "code",
   "execution_count": 9,
   "id": "599f7dff",
   "metadata": {},
   "outputs": [],
   "source": [
    "name1 = []\n",
    "\n",
    "for i in driver.find_elements(By.XPATH,'//div[@class=\"_2Gr10\"]'):\n",
    "    name1.append(i.text)"
   ]
  },
  {
   "cell_type": "code",
   "execution_count": 10,
   "id": "53c202a9",
   "metadata": {},
   "outputs": [],
   "source": [
    "place1 = []\n",
    "\n",
    "for i in driver.find_elements(By.XPATH,'//div[@class=\"_3VRSm\"]'):\n",
    "    place1.append(i.text)"
   ]
  },
  {
   "cell_type": "code",
   "execution_count": 11,
   "id": "74a730b8",
   "metadata": {},
   "outputs": [],
   "source": [
    "kms1 = []\n",
    "\n",
    "for i in driver.find_elements(By.XPATH,'//div[@class=\"_21gnE\"]'):\n",
    "    kms1.append(i.text)"
   ]
  },
  {
   "cell_type": "code",
   "execution_count": 12,
   "id": "ae4a95db",
   "metadata": {},
   "outputs": [],
   "source": [
    "price1 = []\n",
    "\n",
    "for i in driver.find_elements(By.XPATH,'//span[@class=\"_1zgtX\"]'):\n",
    "    price1.append(i.text)"
   ]
  },
  {
   "cell_type": "code",
   "execution_count": null,
   "id": "564baca5",
   "metadata": {},
   "outputs": [],
   "source": []
  },
  {
   "cell_type": "code",
   "execution_count": null,
   "id": "76035873",
   "metadata": {},
   "outputs": [],
   "source": []
  },
  {
   "cell_type": "code",
   "execution_count": 13,
   "id": "fed6b22c",
   "metadata": {},
   "outputs": [],
   "source": [
    "brand_check = driver.find_element(By.XPATH,'/html/body/div/div/main/div/div/section/div/div[2]/div[5]/div[1]/div/div[3]/div[2]/div[2]/div[3]/div[2]/div/div[1]/div/input')\n",
    "brand_check.click()"
   ]
  },
  {
   "cell_type": "code",
   "execution_count": null,
   "id": "8e81773a",
   "metadata": {},
   "outputs": [],
   "source": []
  },
  {
   "cell_type": "code",
   "execution_count": null,
   "id": "b3c40f81",
   "metadata": {},
   "outputs": [],
   "source": []
  },
  {
   "cell_type": "code",
   "execution_count": 14,
   "id": "72a5584c",
   "metadata": {},
   "outputs": [],
   "source": [
    "name2 = []\n",
    "\n",
    "for i in driver.find_elements(By.XPATH,'//div[@class=\"_2Gr10\"]'):\n",
    "    name2.append(i.text)"
   ]
  },
  {
   "cell_type": "code",
   "execution_count": 15,
   "id": "d0e4ed0d",
   "metadata": {},
   "outputs": [],
   "source": [
    "place2 = []\n",
    "\n",
    "for i in driver.find_elements(By.XPATH,'//div[@class=\"_3VRSm\"]'):\n",
    "    place2.append(i.text)"
   ]
  },
  {
   "cell_type": "code",
   "execution_count": 16,
   "id": "efefb531",
   "metadata": {},
   "outputs": [],
   "source": [
    "kms2 = []\n",
    "\n",
    "for i in driver.find_elements(By.XPATH,'//div[@class=\"_21gnE\"]'):\n",
    "    kms2.append(i.text)"
   ]
  },
  {
   "cell_type": "code",
   "execution_count": 17,
   "id": "01ff6c40",
   "metadata": {},
   "outputs": [],
   "source": [
    "price2 = []\n",
    "\n",
    "for i in driver.find_elements(By.XPATH,'//span[@class=\"_1zgtX\"]'):\n",
    "    price2.append(i.text)"
   ]
  },
  {
   "cell_type": "code",
   "execution_count": null,
   "id": "315adc78",
   "metadata": {},
   "outputs": [],
   "source": []
  },
  {
   "cell_type": "code",
   "execution_count": null,
   "id": "f3fa8113",
   "metadata": {},
   "outputs": [],
   "source": []
  },
  {
   "cell_type": "code",
   "execution_count": null,
   "id": "344c9e07",
   "metadata": {},
   "outputs": [],
   "source": []
  },
  {
   "cell_type": "code",
   "execution_count": 18,
   "id": "c7f502b9",
   "metadata": {},
   "outputs": [],
   "source": [
    "brand_check = driver.find_element(By.XPATH,'/html/body/div/div/main/div/div/section/div/div[2]/div[5]/div[1]/div/div[3]/div[2]/div[2]/div[3]/div[2]/div/div[2]/div/input')\n",
    "brand_check.click()"
   ]
  },
  {
   "cell_type": "code",
   "execution_count": null,
   "id": "c961de26",
   "metadata": {},
   "outputs": [],
   "source": []
  },
  {
   "cell_type": "code",
   "execution_count": 19,
   "id": "096615cc",
   "metadata": {},
   "outputs": [],
   "source": [
    "name3 = []\n",
    "\n",
    "for i in driver.find_elements(By.XPATH,'//div[@class=\"_2Gr10\"]'):\n",
    "    name3.append(i.text)"
   ]
  },
  {
   "cell_type": "code",
   "execution_count": 20,
   "id": "3b00be7d",
   "metadata": {},
   "outputs": [],
   "source": [
    "place3 = []\n",
    "\n",
    "for i in driver.find_elements(By.XPATH,'//div[@class=\"_3VRSm\"]'):\n",
    "    place3.append(i.text)"
   ]
  },
  {
   "cell_type": "code",
   "execution_count": 21,
   "id": "8730fb1f",
   "metadata": {},
   "outputs": [],
   "source": [
    "kms3 = []\n",
    "\n",
    "for i in driver.find_elements(By.XPATH,'//div[@class=\"_21gnE\"]'):\n",
    "    kms3.append(i.text)"
   ]
  },
  {
   "cell_type": "code",
   "execution_count": 22,
   "id": "f134564c",
   "metadata": {},
   "outputs": [],
   "source": [
    "price3 = []\n",
    "\n",
    "for i in driver.find_elements(By.XPATH,'//span[@class=\"_1zgtX\"]'):\n",
    "    price3.append(i.text)"
   ]
  },
  {
   "cell_type": "code",
   "execution_count": null,
   "id": "894f3d47",
   "metadata": {},
   "outputs": [],
   "source": []
  },
  {
   "cell_type": "code",
   "execution_count": null,
   "id": "307b7c8c",
   "metadata": {},
   "outputs": [],
   "source": []
  },
  {
   "cell_type": "code",
   "execution_count": 23,
   "id": "9bdb30ad",
   "metadata": {},
   "outputs": [],
   "source": [
    "brand_check = driver.find_element(By.XPATH,'/html/body/div/div/main/div/div/section/div/div[2]/div[5]/div[1]/div/div[3]/div[2]/div[2]/div[3]/div[2]/div/div[3]/div/input')\n",
    "brand_check.click()"
   ]
  },
  {
   "cell_type": "code",
   "execution_count": null,
   "id": "105ac37e",
   "metadata": {},
   "outputs": [],
   "source": []
  },
  {
   "cell_type": "code",
   "execution_count": 24,
   "id": "51141c7c",
   "metadata": {},
   "outputs": [],
   "source": [
    "name4 = []\n",
    "\n",
    "for i in driver.find_elements(By.XPATH,'//div[@class=\"_2Gr10\"]'):\n",
    "    name4.append(i.text)"
   ]
  },
  {
   "cell_type": "code",
   "execution_count": 25,
   "id": "0e873ad2",
   "metadata": {},
   "outputs": [],
   "source": [
    "place4 = []\n",
    "\n",
    "for i in driver.find_elements(By.XPATH,'//div[@class=\"_3VRSm\"]'):\n",
    "    place4.append(i.text)"
   ]
  },
  {
   "cell_type": "code",
   "execution_count": 26,
   "id": "f4a09e9d",
   "metadata": {},
   "outputs": [],
   "source": [
    "kms4 = []\n",
    "\n",
    "for i in driver.find_elements(By.XPATH,'//div[@class=\"_21gnE\"]'):\n",
    "    kms4.append(i.text)"
   ]
  },
  {
   "cell_type": "code",
   "execution_count": 27,
   "id": "df9419de",
   "metadata": {},
   "outputs": [],
   "source": [
    "price4 = []\n",
    "\n",
    "for i in driver.find_elements(By.XPATH,'//span[@class=\"_1zgtX\"]'):\n",
    "    price4.append(i.text)"
   ]
  },
  {
   "cell_type": "code",
   "execution_count": null,
   "id": "46ee4125",
   "metadata": {},
   "outputs": [],
   "source": []
  },
  {
   "cell_type": "code",
   "execution_count": null,
   "id": "77a80f57",
   "metadata": {},
   "outputs": [],
   "source": []
  },
  {
   "cell_type": "code",
   "execution_count": 28,
   "id": "9a187c53",
   "metadata": {},
   "outputs": [],
   "source": [
    "brand_check = driver.find_element(By.XPATH,'/html/body/div/div/main/div/div/section/div/div[2]/div[5]/div[1]/div/div[3]/div[2]/div[2]/div[3]/div[2]/div/div[4]/div/input')\n",
    "brand_check.click()"
   ]
  },
  {
   "cell_type": "code",
   "execution_count": null,
   "id": "651109c0",
   "metadata": {},
   "outputs": [],
   "source": []
  },
  {
   "cell_type": "code",
   "execution_count": 29,
   "id": "6d25c1d8",
   "metadata": {},
   "outputs": [],
   "source": [
    "name5 = []\n",
    "\n",
    "for i in driver.find_elements(By.XPATH,'//div[@class=\"_2Gr10\"]'):\n",
    "    name5.append(i.text)"
   ]
  },
  {
   "cell_type": "code",
   "execution_count": 30,
   "id": "54d4e58e",
   "metadata": {},
   "outputs": [],
   "source": [
    "place5 = []\n",
    "\n",
    "for i in driver.find_elements(By.XPATH,'//div[@class=\"_3VRSm\"]'):\n",
    "    place5.append(i.text)"
   ]
  },
  {
   "cell_type": "code",
   "execution_count": 31,
   "id": "d706b5d6",
   "metadata": {},
   "outputs": [],
   "source": [
    "kms5 = []\n",
    "\n",
    "for i in driver.find_elements(By.XPATH,'//div[@class=\"_21gnE\"]'):\n",
    "    kms5.append(i.text)"
   ]
  },
  {
   "cell_type": "code",
   "execution_count": 32,
   "id": "63609e13",
   "metadata": {},
   "outputs": [],
   "source": [
    "price5 = []\n",
    "\n",
    "for i in driver.find_elements(By.XPATH,'//span[@class=\"_1zgtX\"]'):\n",
    "    price5.append(i.text)"
   ]
  },
  {
   "cell_type": "code",
   "execution_count": null,
   "id": "ace907dc",
   "metadata": {},
   "outputs": [],
   "source": []
  },
  {
   "cell_type": "code",
   "execution_count": null,
   "id": "d029aa63",
   "metadata": {},
   "outputs": [],
   "source": []
  },
  {
   "cell_type": "code",
   "execution_count": 33,
   "id": "6f373183",
   "metadata": {},
   "outputs": [],
   "source": [
    "brand_check = driver.find_element(By.XPATH,'/html/body/div/div/main/div/div/section/div/div[2]/div[5]/div[1]/div/div[3]/div[2]/div[2]/div[3]/div[2]/div/div[5]/div/input')\n",
    "brand_check.click()"
   ]
  },
  {
   "cell_type": "code",
   "execution_count": null,
   "id": "a47fda96",
   "metadata": {},
   "outputs": [],
   "source": []
  },
  {
   "cell_type": "code",
   "execution_count": 34,
   "id": "9f29dfa9",
   "metadata": {},
   "outputs": [],
   "source": [
    "name6 = []\n",
    "\n",
    "for i in driver.find_elements(By.XPATH,'//div[@class=\"_2Gr10\"]'):\n",
    "    name6.append(i.text)"
   ]
  },
  {
   "cell_type": "code",
   "execution_count": 35,
   "id": "4deaa6ae",
   "metadata": {},
   "outputs": [],
   "source": [
    "place6 = []\n",
    "\n",
    "for i in driver.find_elements(By.XPATH,'//div[@class=\"_3VRSm\"]'):\n",
    "    place6.append(i.text)"
   ]
  },
  {
   "cell_type": "code",
   "execution_count": 36,
   "id": "5adb16ff",
   "metadata": {},
   "outputs": [],
   "source": [
    "kms6 = []\n",
    "\n",
    "for i in driver.find_elements(By.XPATH,'//div[@class=\"_21gnE\"]'):\n",
    "    kms6.append(i.text)"
   ]
  },
  {
   "cell_type": "code",
   "execution_count": 37,
   "id": "a0ae715b",
   "metadata": {},
   "outputs": [],
   "source": [
    "price6 = []\n",
    "\n",
    "for i in driver.find_elements(By.XPATH,'//span[@class=\"_1zgtX\"]'):\n",
    "    price6.append(i.text)"
   ]
  },
  {
   "cell_type": "code",
   "execution_count": null,
   "id": "0eacfcb8",
   "metadata": {},
   "outputs": [],
   "source": []
  },
  {
   "cell_type": "code",
   "execution_count": null,
   "id": "2d2c7a4c",
   "metadata": {},
   "outputs": [],
   "source": []
  },
  {
   "cell_type": "code",
   "execution_count": 38,
   "id": "f219571e",
   "metadata": {},
   "outputs": [],
   "source": [
    "brand_check = driver.find_element(By.XPATH,'/html/body/div/div/main/div/div/section/div/div[2]/div[5]/div[1]/div/div[3]/div[2]/div[2]/div[3]/div[2]/div/div[5]/div/input')\n",
    "brand_check.click()"
   ]
  },
  {
   "cell_type": "code",
   "execution_count": null,
   "id": "00d3aa15",
   "metadata": {},
   "outputs": [],
   "source": []
  },
  {
   "cell_type": "code",
   "execution_count": 39,
   "id": "fc0841c9",
   "metadata": {},
   "outputs": [],
   "source": [
    "name7 = []\n",
    "\n",
    "for i in driver.find_elements(By.XPATH,'//div[@class=\"_2Gr10\"]'):\n",
    "    name7.append(i.text)"
   ]
  },
  {
   "cell_type": "code",
   "execution_count": 40,
   "id": "fe2ea84f",
   "metadata": {},
   "outputs": [],
   "source": [
    "place7 = []\n",
    "\n",
    "for i in driver.find_elements(By.XPATH,'//div[@class=\"_3VRSm\"]'):\n",
    "    place7.append(i.text)"
   ]
  },
  {
   "cell_type": "code",
   "execution_count": 41,
   "id": "73e8692d",
   "metadata": {},
   "outputs": [],
   "source": [
    "kms7 = []\n",
    "\n",
    "for i in driver.find_elements(By.XPATH,'//div[@class=\"_21gnE\"]'):\n",
    "    kms7.append(i.text)"
   ]
  },
  {
   "cell_type": "code",
   "execution_count": 42,
   "id": "de37128a",
   "metadata": {},
   "outputs": [],
   "source": [
    "price7 = []\n",
    "\n",
    "for i in driver.find_elements(By.XPATH,'//span[@class=\"_1zgtX\"]'):\n",
    "    price7.append(i.text)"
   ]
  },
  {
   "cell_type": "code",
   "execution_count": null,
   "id": "8a34b585",
   "metadata": {},
   "outputs": [],
   "source": []
  },
  {
   "cell_type": "code",
   "execution_count": null,
   "id": "311aa9db",
   "metadata": {},
   "outputs": [],
   "source": []
  },
  {
   "cell_type": "code",
   "execution_count": 43,
   "id": "78b15405",
   "metadata": {},
   "outputs": [],
   "source": [
    "brand_check = driver.find_element(By.XPATH,'/html/body/div/div/main/div/div/section/div/div[2]/div[5]/div[1]/div/div[3]/div[2]/div[2]/div[3]/div[2]/div/div[5]/div/input')\n",
    "brand_check.click()"
   ]
  },
  {
   "cell_type": "code",
   "execution_count": null,
   "id": "52890cf3",
   "metadata": {},
   "outputs": [],
   "source": []
  },
  {
   "cell_type": "code",
   "execution_count": 44,
   "id": "d252e49f",
   "metadata": {},
   "outputs": [],
   "source": [
    "name8 = []\n",
    "\n",
    "for i in driver.find_elements(By.XPATH,'//div[@class=\"_2Gr10\"]'):\n",
    "    name8.append(i.text)"
   ]
  },
  {
   "cell_type": "code",
   "execution_count": 45,
   "id": "4fb22dbb",
   "metadata": {},
   "outputs": [],
   "source": [
    "place8 = []\n",
    "\n",
    "for i in driver.find_elements(By.XPATH,'//div[@class=\"_3VRSm\"]'):\n",
    "    place8.append(i.text)"
   ]
  },
  {
   "cell_type": "code",
   "execution_count": 46,
   "id": "1515d266",
   "metadata": {},
   "outputs": [],
   "source": [
    "kms8 = []\n",
    "\n",
    "for i in driver.find_elements(By.XPATH,'//div[@class=\"_21gnE\"]'):\n",
    "    kms8.append(i.text)"
   ]
  },
  {
   "cell_type": "code",
   "execution_count": 47,
   "id": "48b561c5",
   "metadata": {},
   "outputs": [],
   "source": [
    "price8 = []\n",
    "\n",
    "for i in driver.find_elements(By.XPATH,'//span[@class=\"_1zgtX\"]'):\n",
    "    price8.append(i.text)"
   ]
  },
  {
   "cell_type": "code",
   "execution_count": null,
   "id": "ab0d68b3",
   "metadata": {},
   "outputs": [],
   "source": []
  },
  {
   "cell_type": "code",
   "execution_count": null,
   "id": "9ee01c0f",
   "metadata": {},
   "outputs": [],
   "source": []
  },
  {
   "cell_type": "code",
   "execution_count": null,
   "id": "7548d85e",
   "metadata": {},
   "outputs": [],
   "source": []
  },
  {
   "cell_type": "code",
   "execution_count": 48,
   "id": "50cf2f28",
   "metadata": {},
   "outputs": [],
   "source": [
    "brand_check = driver.find_element(By.XPATH,'/html/body/div/div/main/div/div/section/div/div[2]/div[5]/div[1]/div/div[3]/div[2]/div[2]/div[3]/div[2]/div/div[5]/div/input')\n",
    "brand_check.click()"
   ]
  },
  {
   "cell_type": "code",
   "execution_count": null,
   "id": "ec34949f",
   "metadata": {},
   "outputs": [],
   "source": []
  },
  {
   "cell_type": "code",
   "execution_count": 49,
   "id": "320e08da",
   "metadata": {},
   "outputs": [],
   "source": [
    "name9 = []\n",
    "\n",
    "for i in driver.find_elements(By.XPATH,'//div[@class=\"_2Gr10\"]'):\n",
    "    name9.append(i.text)"
   ]
  },
  {
   "cell_type": "code",
   "execution_count": 50,
   "id": "4a86e4f0",
   "metadata": {},
   "outputs": [],
   "source": [
    "place9 = []\n",
    "\n",
    "for i in driver.find_elements(By.XPATH,'//div[@class=\"_3VRSm\"]'):\n",
    "    place9.append(i.text)"
   ]
  },
  {
   "cell_type": "code",
   "execution_count": 51,
   "id": "350ea571",
   "metadata": {},
   "outputs": [],
   "source": [
    "kms9 = []\n",
    "\n",
    "for i in driver.find_elements(By.XPATH,'//div[@class=\"_21gnE\"]'):\n",
    "    kms9.append(i.text)"
   ]
  },
  {
   "cell_type": "code",
   "execution_count": 52,
   "id": "f01686c2",
   "metadata": {},
   "outputs": [],
   "source": [
    "price9 = []\n",
    "\n",
    "for i in driver.find_elements(By.XPATH,'//span[@class=\"_1zgtX\"]'):\n",
    "    price9.append(i.text)"
   ]
  },
  {
   "cell_type": "code",
   "execution_count": null,
   "id": "28394494",
   "metadata": {},
   "outputs": [],
   "source": []
  },
  {
   "cell_type": "code",
   "execution_count": null,
   "id": "063c63dc",
   "metadata": {},
   "outputs": [],
   "source": []
  },
  {
   "cell_type": "code",
   "execution_count": 53,
   "id": "7b64623d",
   "metadata": {},
   "outputs": [],
   "source": [
    "brand_check = driver.find_element(By.XPATH,'/html/body/div/div/main/div/div/section/div/div[2]/div[5]/div[1]/div/div[3]/div[2]/div[2]/div[3]/div[2]/div/div[5]/div/input')\n",
    "brand_check.click()"
   ]
  },
  {
   "cell_type": "code",
   "execution_count": null,
   "id": "5d3e85d9",
   "metadata": {},
   "outputs": [],
   "source": []
  },
  {
   "cell_type": "code",
   "execution_count": 54,
   "id": "d41aa530",
   "metadata": {},
   "outputs": [],
   "source": [
    "name10 = []\n",
    "\n",
    "for i in driver.find_elements(By.XPATH,'//div[@class=\"_2Gr10\"]'):\n",
    "    name10.append(i.text)"
   ]
  },
  {
   "cell_type": "code",
   "execution_count": 55,
   "id": "813f2932",
   "metadata": {},
   "outputs": [],
   "source": [
    "place10 = []\n",
    "\n",
    "for i in driver.find_elements(By.XPATH,'//div[@class=\"_3VRSm\"]'):\n",
    "    place10.append(i.text)"
   ]
  },
  {
   "cell_type": "code",
   "execution_count": 56,
   "id": "e959d16a",
   "metadata": {},
   "outputs": [],
   "source": [
    "kms10 = []\n",
    "\n",
    "for i in driver.find_elements(By.XPATH,'//div[@class=\"_21gnE\"]'):\n",
    "    kms10.append(i.text)"
   ]
  },
  {
   "cell_type": "code",
   "execution_count": 57,
   "id": "d81b9187",
   "metadata": {},
   "outputs": [],
   "source": [
    "price10 = []\n",
    "\n",
    "for i in driver.find_elements(By.XPATH,'//span[@class=\"_1zgtX\"]'):\n",
    "    price10.append(i.text)"
   ]
  },
  {
   "cell_type": "code",
   "execution_count": null,
   "id": "7ea05c83",
   "metadata": {},
   "outputs": [],
   "source": []
  },
  {
   "cell_type": "code",
   "execution_count": null,
   "id": "b86c588d",
   "metadata": {},
   "outputs": [],
   "source": []
  },
  {
   "cell_type": "code",
   "execution_count": null,
   "id": "f5a6365e",
   "metadata": {},
   "outputs": [],
   "source": []
  },
  {
   "cell_type": "code",
   "execution_count": 58,
   "id": "37812f8a",
   "metadata": {},
   "outputs": [],
   "source": [
    "brand_check = driver.find_element(By.XPATH,'/html/body/div/div/main/div/div/section/div/div[2]/div[5]/div[1]/div/div[3]/div[2]/div[2]/div[3]/div[2]/div/div[5]/div/input')\n",
    "brand_check.click()"
   ]
  },
  {
   "cell_type": "code",
   "execution_count": null,
   "id": "2e5a12f8",
   "metadata": {},
   "outputs": [],
   "source": []
  },
  {
   "cell_type": "code",
   "execution_count": 59,
   "id": "55cf45cc",
   "metadata": {},
   "outputs": [],
   "source": [
    "name11 = []\n",
    "\n",
    "for i in driver.find_elements(By.XPATH,'//div[@class=\"_2Gr10\"]'):\n",
    "    name11.append(i.text)"
   ]
  },
  {
   "cell_type": "code",
   "execution_count": 60,
   "id": "a23e6096",
   "metadata": {},
   "outputs": [],
   "source": [
    "place11 = []\n",
    "\n",
    "for i in driver.find_elements(By.XPATH,'//div[@class=\"_3VRSm\"]'):\n",
    "    place11.append(i.text)"
   ]
  },
  {
   "cell_type": "code",
   "execution_count": 61,
   "id": "f0a75cd5",
   "metadata": {},
   "outputs": [],
   "source": [
    "kms11 = []\n",
    "\n",
    "for i in driver.find_elements(By.XPATH,'//div[@class=\"_21gnE\"]'):\n",
    "    kms11.append(i.text)"
   ]
  },
  {
   "cell_type": "code",
   "execution_count": 62,
   "id": "4a6b2594",
   "metadata": {},
   "outputs": [],
   "source": [
    "price11 = []\n",
    "\n",
    "for i in driver.find_elements(By.XPATH,'//span[@class=\"_1zgtX\"]'):\n",
    "    price11.append(i.text)"
   ]
  },
  {
   "cell_type": "code",
   "execution_count": null,
   "id": "9fb6db21",
   "metadata": {},
   "outputs": [],
   "source": []
  },
  {
   "cell_type": "code",
   "execution_count": null,
   "id": "4cdf6cf3",
   "metadata": {},
   "outputs": [],
   "source": []
  },
  {
   "cell_type": "code",
   "execution_count": null,
   "id": "49807cb5",
   "metadata": {},
   "outputs": [],
   "source": []
  },
  {
   "cell_type": "code",
   "execution_count": 63,
   "id": "eabb9eae",
   "metadata": {},
   "outputs": [],
   "source": [
    "brand_check = driver.find_element(By.XPATH,'/html/body/div/div/main/div/div/section/div/div[2]/div[5]/div[1]/div/div[3]/div[2]/div[2]/div[3]/div[2]/div/div[6]/div/input')\n",
    "brand_check.click()"
   ]
  },
  {
   "cell_type": "code",
   "execution_count": null,
   "id": "1b7b262b",
   "metadata": {},
   "outputs": [],
   "source": []
  },
  {
   "cell_type": "code",
   "execution_count": 64,
   "id": "9b603abc",
   "metadata": {},
   "outputs": [],
   "source": [
    "name12 = []\n",
    "\n",
    "for i in driver.find_elements(By.XPATH,'//div[@class=\"_2Gr10\"]'):\n",
    "    name12.append(i.text)"
   ]
  },
  {
   "cell_type": "code",
   "execution_count": 65,
   "id": "bfafb1e0",
   "metadata": {},
   "outputs": [],
   "source": [
    "place12 = []\n",
    "\n",
    "for i in driver.find_elements(By.XPATH,'//div[@class=\"_3VRSm\"]'):\n",
    "    place12.append(i.text)"
   ]
  },
  {
   "cell_type": "code",
   "execution_count": 66,
   "id": "642c6a86",
   "metadata": {},
   "outputs": [],
   "source": [
    "kms12 = []\n",
    "\n",
    "for i in driver.find_elements(By.XPATH,'//div[@class=\"_21gnE\"]'):\n",
    "    kms12.append(i.text)"
   ]
  },
  {
   "cell_type": "code",
   "execution_count": 67,
   "id": "d45f69a8",
   "metadata": {},
   "outputs": [],
   "source": [
    "price12 = []\n",
    "\n",
    "for i in driver.find_elements(By.XPATH,'//span[@class=\"_1zgtX\"]'):\n",
    "    price12.append(i.text)"
   ]
  },
  {
   "cell_type": "code",
   "execution_count": null,
   "id": "cc8b23c0",
   "metadata": {},
   "outputs": [],
   "source": []
  },
  {
   "cell_type": "code",
   "execution_count": null,
   "id": "215e651c",
   "metadata": {},
   "outputs": [],
   "source": []
  },
  {
   "cell_type": "code",
   "execution_count": null,
   "id": "386bcf18",
   "metadata": {},
   "outputs": [],
   "source": []
  },
  {
   "cell_type": "code",
   "execution_count": 68,
   "id": "27e57db6",
   "metadata": {},
   "outputs": [],
   "source": [
    "brand_check = driver.find_element(By.XPATH,'/html/body/div/div/main/div/div/section/div/div[2]/div[5]/div[1]/div/div[3]/div[2]/div[2]/div[3]/div[2]/div/div[6]/div/input')\n",
    "brand_check.click()"
   ]
  },
  {
   "cell_type": "code",
   "execution_count": null,
   "id": "ae404d80",
   "metadata": {},
   "outputs": [],
   "source": []
  },
  {
   "cell_type": "code",
   "execution_count": 69,
   "id": "347acce8",
   "metadata": {},
   "outputs": [],
   "source": [
    "name13 = []\n",
    "\n",
    "for i in driver.find_elements(By.XPATH,'//div[@class=\"_2Gr10\"]'):\n",
    "    name13.append(i.text)"
   ]
  },
  {
   "cell_type": "code",
   "execution_count": 70,
   "id": "2546f709",
   "metadata": {},
   "outputs": [],
   "source": [
    "place13 = []\n",
    "\n",
    "for i in driver.find_elements(By.XPATH,'//div[@class=\"_3VRSm\"]'):\n",
    "    place13.append(i.text)"
   ]
  },
  {
   "cell_type": "code",
   "execution_count": 71,
   "id": "6a901f5c",
   "metadata": {},
   "outputs": [],
   "source": [
    "kms13 = []\n",
    "\n",
    "for i in driver.find_elements(By.XPATH,'//div[@class=\"_21gnE\"]'):\n",
    "    kms13.append(i.text)"
   ]
  },
  {
   "cell_type": "code",
   "execution_count": 72,
   "id": "ab6044ba",
   "metadata": {},
   "outputs": [],
   "source": [
    "price13 = []\n",
    "\n",
    "for i in driver.find_elements(By.XPATH,'//span[@class=\"_1zgtX\"]'):\n",
    "    price13.append(i.text)"
   ]
  },
  {
   "cell_type": "code",
   "execution_count": null,
   "id": "73ff6760",
   "metadata": {},
   "outputs": [],
   "source": []
  },
  {
   "cell_type": "code",
   "execution_count": null,
   "id": "f838c2ea",
   "metadata": {},
   "outputs": [],
   "source": []
  },
  {
   "cell_type": "code",
   "execution_count": null,
   "id": "f2dc78b8",
   "metadata": {},
   "outputs": [],
   "source": []
  },
  {
   "cell_type": "code",
   "execution_count": 73,
   "id": "18a02117",
   "metadata": {},
   "outputs": [],
   "source": [
    "brand_check = driver.find_element(By.XPATH,'/html/body/div/div/main/div/div/section/div/div[2]/div[5]/div[1]/div/div[3]/div[2]/div[2]/div[3]/div[2]/div/div[4]/div/input')\n",
    "brand_check.click()"
   ]
  },
  {
   "cell_type": "code",
   "execution_count": null,
   "id": "fdf653d0",
   "metadata": {},
   "outputs": [],
   "source": []
  },
  {
   "cell_type": "code",
   "execution_count": 74,
   "id": "334adad5",
   "metadata": {},
   "outputs": [],
   "source": [
    "name14 = []\n",
    "\n",
    "for i in driver.find_elements(By.XPATH,'//div[@class=\"_2Gr10\"]'):\n",
    "    name14.append(i.text)"
   ]
  },
  {
   "cell_type": "code",
   "execution_count": 75,
   "id": "3c444222",
   "metadata": {},
   "outputs": [],
   "source": [
    "place14 = []\n",
    "\n",
    "for i in driver.find_elements(By.XPATH,'//div[@class=\"_3VRSm\"]'):\n",
    "    place14.append(i.text)"
   ]
  },
  {
   "cell_type": "code",
   "execution_count": 76,
   "id": "d2e144c6",
   "metadata": {},
   "outputs": [],
   "source": [
    "kms14 = []\n",
    "\n",
    "for i in driver.find_elements(By.XPATH,'//div[@class=\"_21gnE\"]'):\n",
    "    kms14.append(i.text)"
   ]
  },
  {
   "cell_type": "code",
   "execution_count": 77,
   "id": "9432dcb1",
   "metadata": {},
   "outputs": [],
   "source": [
    "price14 = []\n",
    "\n",
    "for i in driver.find_elements(By.XPATH,'//span[@class=\"_1zgtX\"]'):\n",
    "    price14.append(i.text)"
   ]
  },
  {
   "cell_type": "code",
   "execution_count": null,
   "id": "26fc8b8c",
   "metadata": {},
   "outputs": [],
   "source": []
  },
  {
   "cell_type": "code",
   "execution_count": null,
   "id": "dcb289a7",
   "metadata": {},
   "outputs": [],
   "source": []
  },
  {
   "cell_type": "code",
   "execution_count": 78,
   "id": "83924495",
   "metadata": {},
   "outputs": [],
   "source": [
    "brand_check = driver.find_element(By.XPATH,'/html/body/div/div/main/div/div/section/div/div[2]/div[5]/div[1]/div/div[3]/div[2]/div[2]/div[3]/div[2]/div/div[6]/div/input')\n",
    "brand_check.click()"
   ]
  },
  {
   "cell_type": "code",
   "execution_count": null,
   "id": "5f2c94c1",
   "metadata": {},
   "outputs": [],
   "source": []
  },
  {
   "cell_type": "code",
   "execution_count": 79,
   "id": "512bcd22",
   "metadata": {},
   "outputs": [],
   "source": [
    "name15 = []\n",
    "\n",
    "for i in driver.find_elements(By.XPATH,'//div[@class=\"_2Gr10\"]'):\n",
    "    name15.append(i.text)"
   ]
  },
  {
   "cell_type": "code",
   "execution_count": 80,
   "id": "4b41c9cb",
   "metadata": {},
   "outputs": [],
   "source": [
    "place15 = []\n",
    "\n",
    "for i in driver.find_elements(By.XPATH,'//div[@class=\"_3VRSm\"]'):\n",
    "    place15.append(i.text)"
   ]
  },
  {
   "cell_type": "code",
   "execution_count": 81,
   "id": "bf4ac086",
   "metadata": {},
   "outputs": [],
   "source": [
    "kms15 = []\n",
    "\n",
    "for i in driver.find_elements(By.XPATH,'//div[@class=\"_21gnE\"]'):\n",
    "    kms15.append(i.text)"
   ]
  },
  {
   "cell_type": "code",
   "execution_count": 82,
   "id": "edbf7d9d",
   "metadata": {},
   "outputs": [],
   "source": [
    "price15 = []\n",
    "\n",
    "for i in driver.find_elements(By.XPATH,'//span[@class=\"_1zgtX\"]'):\n",
    "    price15.append(i.text)"
   ]
  },
  {
   "cell_type": "code",
   "execution_count": null,
   "id": "c3dc1e51",
   "metadata": {},
   "outputs": [],
   "source": []
  },
  {
   "cell_type": "code",
   "execution_count": null,
   "id": "dd8162fd",
   "metadata": {},
   "outputs": [],
   "source": []
  },
  {
   "cell_type": "code",
   "execution_count": 83,
   "id": "52f8f73e",
   "metadata": {},
   "outputs": [],
   "source": [
    "brand_check = driver.find_element(By.XPATH,'/html/body/div/div/main/div/div/section/div/div[2]/div[5]/div[1]/div/div[3]/div[2]/div[2]/div[3]/div[2]/div/div[5]/div/input')\n",
    "brand_check.click()"
   ]
  },
  {
   "cell_type": "code",
   "execution_count": null,
   "id": "4b38081b",
   "metadata": {},
   "outputs": [],
   "source": []
  },
  {
   "cell_type": "code",
   "execution_count": 84,
   "id": "d7fff0ab",
   "metadata": {},
   "outputs": [],
   "source": [
    "name16 = []\n",
    "\n",
    "for i in driver.find_elements(By.XPATH,'//div[@class=\"_2Gr10\"]'):\n",
    "    name16.append(i.text)"
   ]
  },
  {
   "cell_type": "code",
   "execution_count": 85,
   "id": "c966c908",
   "metadata": {},
   "outputs": [],
   "source": [
    "place16 = []\n",
    "\n",
    "for i in driver.find_elements(By.XPATH,'//div[@class=\"_3VRSm\"]'):\n",
    "    place16.append(i.text)"
   ]
  },
  {
   "cell_type": "code",
   "execution_count": 86,
   "id": "5c3f1920",
   "metadata": {},
   "outputs": [],
   "source": [
    "kms16 = []\n",
    "\n",
    "for i in driver.find_elements(By.XPATH,'//div[@class=\"_21gnE\"]'):\n",
    "    kms16.append(i.text)"
   ]
  },
  {
   "cell_type": "code",
   "execution_count": 87,
   "id": "2299bb3c",
   "metadata": {},
   "outputs": [],
   "source": [
    "price16 = []\n",
    "\n",
    "for i in driver.find_elements(By.XPATH,'//span[@class=\"_1zgtX\"]'):\n",
    "    price16.append(i.text)"
   ]
  },
  {
   "cell_type": "code",
   "execution_count": null,
   "id": "466ea431",
   "metadata": {},
   "outputs": [],
   "source": []
  },
  {
   "cell_type": "code",
   "execution_count": null,
   "id": "31cdd34e",
   "metadata": {},
   "outputs": [],
   "source": []
  },
  {
   "cell_type": "code",
   "execution_count": 88,
   "id": "74ff895c",
   "metadata": {},
   "outputs": [],
   "source": [
    "brand_check = driver.find_element(By.XPATH,'/html/body/div/div/main/div/div/section/div/div[2]/div[5]/div[1]/div/div[3]/div[2]/div[2]/div[3]/div[2]/div/div[5]/div/input')\n",
    "brand_check.click()"
   ]
  },
  {
   "cell_type": "code",
   "execution_count": null,
   "id": "f109baf4",
   "metadata": {},
   "outputs": [],
   "source": []
  },
  {
   "cell_type": "code",
   "execution_count": 89,
   "id": "e9e02fa4",
   "metadata": {},
   "outputs": [],
   "source": [
    "name17 = []\n",
    "\n",
    "for i in driver.find_elements(By.XPATH,'//div[@class=\"_2Gr10\"]'):\n",
    "    name17.append(i.text)"
   ]
  },
  {
   "cell_type": "code",
   "execution_count": 90,
   "id": "1ef4e641",
   "metadata": {},
   "outputs": [],
   "source": [
    "place17 = []\n",
    "\n",
    "for i in driver.find_elements(By.XPATH,'//div[@class=\"_3VRSm\"]'):\n",
    "    place17.append(i.text)"
   ]
  },
  {
   "cell_type": "code",
   "execution_count": 91,
   "id": "fdc249af",
   "metadata": {},
   "outputs": [],
   "source": [
    "kms17 = []\n",
    "\n",
    "for i in driver.find_elements(By.XPATH,'//div[@class=\"_21gnE\"]'):\n",
    "    kms17.append(i.text)"
   ]
  },
  {
   "cell_type": "code",
   "execution_count": 92,
   "id": "cfe2d85f",
   "metadata": {},
   "outputs": [],
   "source": [
    "price17 = []\n",
    "\n",
    "for i in driver.find_elements(By.XPATH,'//span[@class=\"_1zgtX\"]'):\n",
    "    price17.append(i.text)"
   ]
  },
  {
   "cell_type": "code",
   "execution_count": null,
   "id": "3a7313ed",
   "metadata": {},
   "outputs": [],
   "source": []
  },
  {
   "cell_type": "code",
   "execution_count": null,
   "id": "4b489283",
   "metadata": {},
   "outputs": [],
   "source": []
  },
  {
   "cell_type": "code",
   "execution_count": 93,
   "id": "8d7171a3",
   "metadata": {},
   "outputs": [],
   "source": [
    "brand_check = driver.find_element(By.XPATH,'/html/body/div/div/main/div/div/section/div/div[2]/div[5]/div[1]/div/div[3]/div[2]/div[2]/div[3]/div[2]/div/div[6]/div/input')\n",
    "brand_check.click()"
   ]
  },
  {
   "cell_type": "code",
   "execution_count": null,
   "id": "688dd2c8",
   "metadata": {},
   "outputs": [],
   "source": []
  },
  {
   "cell_type": "code",
   "execution_count": 94,
   "id": "a8d68591",
   "metadata": {},
   "outputs": [],
   "source": [
    "name18 = []\n",
    "\n",
    "for i in driver.find_elements(By.XPATH,'//div[@class=\"_2Gr10\"]'):\n",
    "    name18.append(i.text)"
   ]
  },
  {
   "cell_type": "code",
   "execution_count": 95,
   "id": "95cdb3d1",
   "metadata": {},
   "outputs": [],
   "source": [
    "place18 = []\n",
    "\n",
    "for i in driver.find_elements(By.XPATH,'//div[@class=\"_3VRSm\"]'):\n",
    "    place18.append(i.text)"
   ]
  },
  {
   "cell_type": "code",
   "execution_count": 96,
   "id": "5ab3773d",
   "metadata": {},
   "outputs": [],
   "source": [
    "kms18 = []\n",
    "\n",
    "for i in driver.find_elements(By.XPATH,'//div[@class=\"_21gnE\"]'):\n",
    "    kms18.append(i.text)"
   ]
  },
  {
   "cell_type": "code",
   "execution_count": 97,
   "id": "ff73c090",
   "metadata": {},
   "outputs": [],
   "source": [
    "price18 = []\n",
    "\n",
    "for i in driver.find_elements(By.XPATH,'//span[@class=\"_1zgtX\"]'):\n",
    "    price18.append(i.text)"
   ]
  },
  {
   "cell_type": "code",
   "execution_count": null,
   "id": "25445036",
   "metadata": {},
   "outputs": [],
   "source": []
  },
  {
   "cell_type": "code",
   "execution_count": null,
   "id": "95db206c",
   "metadata": {},
   "outputs": [],
   "source": []
  },
  {
   "cell_type": "code",
   "execution_count": 98,
   "id": "4c6b41d2",
   "metadata": {},
   "outputs": [],
   "source": [
    "brand_check = driver.find_element(By.XPATH,'/html/body/div[1]/div/main/div/div/section/div/div[2]/div[5]/div[1]/div/div[3]/div[2]/div[2]/div[3]/div[2]/div/div[5]/div/input')\n",
    "brand_check.click()"
   ]
  },
  {
   "cell_type": "code",
   "execution_count": null,
   "id": "585f0c05",
   "metadata": {},
   "outputs": [],
   "source": []
  },
  {
   "cell_type": "code",
   "execution_count": 99,
   "id": "564c2d7c",
   "metadata": {},
   "outputs": [],
   "source": [
    "name19 = []\n",
    "\n",
    "for i in driver.find_elements(By.XPATH,'//div[@class=\"_2Gr10\"]'):\n",
    "    name19.append(i.text)"
   ]
  },
  {
   "cell_type": "code",
   "execution_count": 100,
   "id": "2f87d53d",
   "metadata": {},
   "outputs": [],
   "source": [
    "place19 = []\n",
    "\n",
    "for i in driver.find_elements(By.XPATH,'//div[@class=\"_3VRSm\"]'):\n",
    "    place19.append(i.text)"
   ]
  },
  {
   "cell_type": "code",
   "execution_count": 101,
   "id": "d7dca089",
   "metadata": {},
   "outputs": [],
   "source": [
    "kms19 = []\n",
    "\n",
    "for i in driver.find_elements(By.XPATH,'//div[@class=\"_21gnE\"]'):\n",
    "    kms19.append(i.text)"
   ]
  },
  {
   "cell_type": "code",
   "execution_count": 102,
   "id": "5c110864",
   "metadata": {},
   "outputs": [],
   "source": [
    "price19 = []\n",
    "\n",
    "for i in driver.find_elements(By.XPATH,'//span[@class=\"_1zgtX\"]'):\n",
    "    price19.append(i.text)"
   ]
  },
  {
   "cell_type": "code",
   "execution_count": null,
   "id": "0f1b12ad",
   "metadata": {},
   "outputs": [],
   "source": []
  },
  {
   "cell_type": "code",
   "execution_count": null,
   "id": "e6259271",
   "metadata": {},
   "outputs": [],
   "source": []
  },
  {
   "cell_type": "code",
   "execution_count": 103,
   "id": "821a15b9",
   "metadata": {},
   "outputs": [],
   "source": [
    "brand_check = driver.find_element(By.XPATH,'/html/body/div[1]/div/main/div/div/section/div/div[2]/div[5]/div[1]/div/div[3]/div[2]/div[2]/div[3]/div[2]/div/div[8]/div/input')\n",
    "brand_check.click()"
   ]
  },
  {
   "cell_type": "code",
   "execution_count": null,
   "id": "28883ce8",
   "metadata": {},
   "outputs": [],
   "source": []
  },
  {
   "cell_type": "code",
   "execution_count": 104,
   "id": "bfc009df",
   "metadata": {},
   "outputs": [],
   "source": [
    "name20 = []\n",
    "\n",
    "for i in driver.find_elements(By.XPATH,'//div[@class=\"_2Gr10\"]'):\n",
    "    name20.append(i.text)"
   ]
  },
  {
   "cell_type": "code",
   "execution_count": 105,
   "id": "1300420c",
   "metadata": {},
   "outputs": [],
   "source": [
    "place20 = []\n",
    "\n",
    "for i in driver.find_elements(By.XPATH,'//div[@class=\"_3VRSm\"]'):\n",
    "    place20.append(i.text)"
   ]
  },
  {
   "cell_type": "code",
   "execution_count": 106,
   "id": "9bbf3c7b",
   "metadata": {},
   "outputs": [],
   "source": [
    "kms20 = []\n",
    "\n",
    "for i in driver.find_elements(By.XPATH,'//div[@class=\"_21gnE\"]'):\n",
    "    kms20.append(i.text)"
   ]
  },
  {
   "cell_type": "code",
   "execution_count": 107,
   "id": "ca549b0d",
   "metadata": {},
   "outputs": [],
   "source": [
    "price20 = []\n",
    "\n",
    "for i in driver.find_elements(By.XPATH,'//span[@class=\"_1zgtX\"]'):\n",
    "    price20.append(i.text)"
   ]
  },
  {
   "cell_type": "code",
   "execution_count": null,
   "id": "eea87d12",
   "metadata": {},
   "outputs": [],
   "source": []
  },
  {
   "cell_type": "code",
   "execution_count": 108,
   "id": "b21f75fb",
   "metadata": {},
   "outputs": [],
   "source": [
    "df1 = pd.DataFrame({'Car':name1,'Place':place1,'Kms':kms1,'Price':price1})\n",
    "df2 = pd.DataFrame({'Car':name2,'Place':place2,'Kms':kms2,'Price':price2})\n",
    "df3 = pd.DataFrame({'Car':name3,'Place':place3,'Kms':kms3,'Price':price3})\n",
    "df4 = pd.DataFrame({'Car':name4,'Place':place4,'Kms':kms4,'Price':price4})\n",
    "df5 = pd.DataFrame({'Car':name5,'Place':place5,'Kms':kms5,'Price':price5})\n",
    "df6 = pd.DataFrame({'Car':name6,'Place':place6,'Kms':kms6,'Price':price6})\n",
    "df7 = pd.DataFrame({'Car':name7,'Place':place7,'Kms':kms7,'Price':price7})\n",
    "df8 = pd.DataFrame({'Car':name8,'Place':place8,'Kms':kms8,'Price':price8})\n",
    "df9 = pd.DataFrame({'Car':name9,'Place':place9,'Kms':kms9,'Price':price9})\n",
    "df10 = pd.DataFrame({'Car':name10,'Place':place10,'Kms':kms10,'Price':price10})\n",
    "df11 = pd.DataFrame({'Car':name11,'Place':place11,'Kms':kms11,'Price':price11})\n",
    "df12 = pd.DataFrame({'Car':name12,'Place':place12,'Kms':kms12,'Price':price12})\n",
    "df13 = pd.DataFrame({'Car':name13,'Place':place13,'Kms':kms13,'Price':price13})\n",
    "df14 = pd.DataFrame({'Car':name14,'Place':place14,'Kms':kms14,'Price':price14})\n",
    "df15 = pd.DataFrame({'Car':name15,'Place':place15,'Kms':kms15,'Price':price15})\n",
    "df16 = pd.DataFrame({'Car':name16,'Place':place16,'Kms':kms16,'Price':price16})\n",
    "df17 = pd.DataFrame({'Car':name17,'Place':place17,'Kms':kms17,'Price':price17})\n",
    "df18 = pd.DataFrame({'Car':name18,'Place':place18,'Kms':kms18,'Price':price18})\n",
    "df19 = pd.DataFrame({'Car':name19,'Place':place19,'Kms':kms19,'Price':price19})\n",
    "df20 = pd.DataFrame({'Car':name20,'Place':place20,'Kms':kms20,'Price':price20})"
   ]
  },
  {
   "cell_type": "code",
   "execution_count": 109,
   "id": "c73f0bef",
   "metadata": {},
   "outputs": [],
   "source": [
    "df = pd.concat([df1,df2,df3,df4,df5,df6,df7,df8,df9,df10,df11,df12,df13,df14,df15,df16,df17,df18,df19,df20])"
   ]
  },
  {
   "cell_type": "code",
   "execution_count": 113,
   "id": "c861965a",
   "metadata": {},
   "outputs": [],
   "source": [
    "df.to_csv('C:/Users/user/cardata3.csv')"
   ]
  },
  {
   "cell_type": "code",
   "execution_count": null,
   "id": "2223c459",
   "metadata": {},
   "outputs": [],
   "source": []
  },
  {
   "cell_type": "code",
   "execution_count": null,
   "id": "30336f68",
   "metadata": {},
   "outputs": [],
   "source": []
  },
  {
   "cell_type": "code",
   "execution_count": null,
   "id": "8fc3eb4e",
   "metadata": {},
   "outputs": [],
   "source": []
  },
  {
   "cell_type": "code",
   "execution_count": 2,
   "id": "41452b44",
   "metadata": {},
   "outputs": [
    {
     "data": {
      "text/plain": [
       "<selenium.webdriver.chrome.webdriver.WebDriver (session=\"57a986d278f26ae9400d952de6fdc2f8\")>"
      ]
     },
     "execution_count": 2,
     "metadata": {},
     "output_type": "execute_result"
    }
   ],
   "source": [
    "driver = webdriver.Chrome(r'C:\\Users\\user\\chromedriver.exe')\n",
    "\n",
    "driver"
   ]
  },
  {
   "cell_type": "code",
   "execution_count": 3,
   "id": "5067cc65",
   "metadata": {},
   "outputs": [],
   "source": [
    "url = 'https://www.olx.com/'\n",
    "\n",
    "driver.get(url)"
   ]
  },
  {
   "cell_type": "code",
   "execution_count": 4,
   "id": "d11c986d",
   "metadata": {},
   "outputs": [],
   "source": [
    "cars_click = driver.find_element(By.XPATH,'/html/body/div/div/div[1]/div/div/div[1]/div[2]/div[1]/a')\n",
    "cars_click.click()"
   ]
  },
  {
   "cell_type": "code",
   "execution_count": null,
   "id": "7bfbee3f",
   "metadata": {},
   "outputs": [],
   "source": []
  },
  {
   "cell_type": "code",
   "execution_count": null,
   "id": "79c5df33",
   "metadata": {},
   "outputs": [],
   "source": []
  },
  {
   "cell_type": "code",
   "execution_count": 5,
   "id": "b5b99c01",
   "metadata": {},
   "outputs": [],
   "source": [
    "search_place = driver.find_element(By.XPATH,'/html/body/div/div/header/div/div/div[2]/div/div/div[1]/div/div[1]/input')\n",
    "search_place.send_keys('Noida')\n",
    "search_place.click()"
   ]
  },
  {
   "cell_type": "code",
   "execution_count": null,
   "id": "5e5553ea",
   "metadata": {},
   "outputs": [],
   "source": []
  },
  {
   "cell_type": "code",
   "execution_count": null,
   "id": "b5826db4",
   "metadata": {},
   "outputs": [],
   "source": []
  },
  {
   "cell_type": "code",
   "execution_count": null,
   "id": "c2720ff7",
   "metadata": {},
   "outputs": [],
   "source": []
  },
  {
   "cell_type": "code",
   "execution_count": 6,
   "id": "33e5fc22",
   "metadata": {},
   "outputs": [],
   "source": [
    "name1 = []\n",
    "\n",
    "for i in driver.find_elements(By.XPATH,'//div[@class=\"_2Gr10\"]'):\n",
    "    name1.append(i.text)"
   ]
  },
  {
   "cell_type": "code",
   "execution_count": 7,
   "id": "1d66cc1d",
   "metadata": {},
   "outputs": [],
   "source": [
    "place1 = []\n",
    "\n",
    "for i in driver.find_elements(By.XPATH,'//div[@class=\"_3VRSm\"]'):\n",
    "    place1.append(i.text)"
   ]
  },
  {
   "cell_type": "code",
   "execution_count": 8,
   "id": "a027d0bc",
   "metadata": {},
   "outputs": [],
   "source": [
    "kms1 = []\n",
    "\n",
    "for i in driver.find_elements(By.XPATH,'//div[@class=\"_21gnE\"]'):\n",
    "    kms1.append(i.text)"
   ]
  },
  {
   "cell_type": "code",
   "execution_count": 9,
   "id": "4655aefa",
   "metadata": {},
   "outputs": [],
   "source": [
    "price1 = []\n",
    "\n",
    "for i in driver.find_elements(By.XPATH,'//span[@class=\"_1zgtX\"]'):\n",
    "    price1.append(i.text)"
   ]
  },
  {
   "cell_type": "code",
   "execution_count": null,
   "id": "09d9dbbc",
   "metadata": {},
   "outputs": [],
   "source": []
  },
  {
   "cell_type": "code",
   "execution_count": null,
   "id": "37f3fea5",
   "metadata": {},
   "outputs": [],
   "source": []
  },
  {
   "cell_type": "code",
   "execution_count": 10,
   "id": "67149256",
   "metadata": {},
   "outputs": [],
   "source": [
    "brand_check = driver.find_element(By.XPATH,'/html/body/div/div/main/div/div/section/div/div[2]/div[5]/div[1]/div/div[3]/div[2]/div[2]/div[3]/div[2]/div/div[1]/div/input')\n",
    "brand_check.click()"
   ]
  },
  {
   "cell_type": "code",
   "execution_count": null,
   "id": "c5241b43",
   "metadata": {},
   "outputs": [],
   "source": []
  },
  {
   "cell_type": "code",
   "execution_count": 11,
   "id": "bc2a29c0",
   "metadata": {},
   "outputs": [],
   "source": [
    "name2 = []\n",
    "\n",
    "for i in driver.find_elements(By.XPATH,'//div[@class=\"_2Gr10\"]'):\n",
    "    name2.append(i.text)"
   ]
  },
  {
   "cell_type": "code",
   "execution_count": 12,
   "id": "2b5e35a4",
   "metadata": {},
   "outputs": [],
   "source": [
    "place2 = []\n",
    "\n",
    "for i in driver.find_elements(By.XPATH,'//div[@class=\"_3VRSm\"]'):\n",
    "    place2.append(i.text)"
   ]
  },
  {
   "cell_type": "code",
   "execution_count": 13,
   "id": "259b178c",
   "metadata": {},
   "outputs": [],
   "source": [
    "kms2 = []\n",
    "\n",
    "for i in driver.find_elements(By.XPATH,'//div[@class=\"_21gnE\"]'):\n",
    "    kms2.append(i.text)"
   ]
  },
  {
   "cell_type": "code",
   "execution_count": 14,
   "id": "e8fd8e13",
   "metadata": {},
   "outputs": [],
   "source": [
    "price2 = []\n",
    "\n",
    "for i in driver.find_elements(By.XPATH,'//span[@class=\"_1zgtX\"]'):\n",
    "    price2.append(i.text)"
   ]
  },
  {
   "cell_type": "code",
   "execution_count": null,
   "id": "f26471cc",
   "metadata": {},
   "outputs": [],
   "source": []
  },
  {
   "cell_type": "code",
   "execution_count": null,
   "id": "73084c4c",
   "metadata": {},
   "outputs": [],
   "source": []
  },
  {
   "cell_type": "code",
   "execution_count": null,
   "id": "d660d673",
   "metadata": {},
   "outputs": [],
   "source": []
  },
  {
   "cell_type": "code",
   "execution_count": 15,
   "id": "f1f1e437",
   "metadata": {},
   "outputs": [],
   "source": [
    "brand_check = driver.find_element(By.XPATH,'/html/body/div/div/main/div/div/section/div/div[2]/div[5]/div[1]/div/div[3]/div[2]/div[2]/div[3]/div[2]/div/div[2]/div/input')\n",
    "brand_check.click()"
   ]
  },
  {
   "cell_type": "code",
   "execution_count": null,
   "id": "05feb03a",
   "metadata": {},
   "outputs": [],
   "source": []
  },
  {
   "cell_type": "code",
   "execution_count": 16,
   "id": "08ee7f00",
   "metadata": {},
   "outputs": [],
   "source": [
    "name3 = []\n",
    "\n",
    "for i in driver.find_elements(By.XPATH,'//div[@class=\"_2Gr10\"]'):\n",
    "    name3.append(i.text)"
   ]
  },
  {
   "cell_type": "code",
   "execution_count": 17,
   "id": "7589075f",
   "metadata": {},
   "outputs": [],
   "source": [
    "place3 = []\n",
    "\n",
    "for i in driver.find_elements(By.XPATH,'//div[@class=\"_3VRSm\"]'):\n",
    "    place3.append(i.text)"
   ]
  },
  {
   "cell_type": "code",
   "execution_count": 18,
   "id": "09b57ecb",
   "metadata": {},
   "outputs": [],
   "source": [
    "kms3 = []\n",
    "\n",
    "for i in driver.find_elements(By.XPATH,'//div[@class=\"_21gnE\"]'):\n",
    "    kms3.append(i.text)"
   ]
  },
  {
   "cell_type": "code",
   "execution_count": 19,
   "id": "ff1cc3f7",
   "metadata": {},
   "outputs": [],
   "source": [
    "price3 = []\n",
    "\n",
    "for i in driver.find_elements(By.XPATH,'//span[@class=\"_1zgtX\"]'):\n",
    "    price3.append(i.text)"
   ]
  },
  {
   "cell_type": "code",
   "execution_count": null,
   "id": "b58a3704",
   "metadata": {},
   "outputs": [],
   "source": []
  },
  {
   "cell_type": "code",
   "execution_count": null,
   "id": "7f5239fa",
   "metadata": {},
   "outputs": [],
   "source": []
  },
  {
   "cell_type": "code",
   "execution_count": null,
   "id": "0dbd1b4b",
   "metadata": {},
   "outputs": [],
   "source": []
  },
  {
   "cell_type": "code",
   "execution_count": 20,
   "id": "777f8b35",
   "metadata": {},
   "outputs": [],
   "source": [
    "brand_check = driver.find_element(By.XPATH,'/html/body/div/div/main/div/div/section/div/div[2]/div[5]/div[1]/div/div[3]/div[2]/div[2]/div[3]/div[2]/div/div[3]/div/input')\n",
    "brand_check.click()"
   ]
  },
  {
   "cell_type": "code",
   "execution_count": null,
   "id": "73c69e2a",
   "metadata": {},
   "outputs": [],
   "source": []
  },
  {
   "cell_type": "code",
   "execution_count": 21,
   "id": "ae80a7c3",
   "metadata": {},
   "outputs": [],
   "source": [
    "name4 = []\n",
    "\n",
    "for i in driver.find_elements(By.XPATH,'//div[@class=\"_2Gr10\"]'):\n",
    "    name4.append(i.text)"
   ]
  },
  {
   "cell_type": "code",
   "execution_count": 22,
   "id": "851b02ea",
   "metadata": {},
   "outputs": [],
   "source": [
    "place4 = []\n",
    "\n",
    "for i in driver.find_elements(By.XPATH,'//div[@class=\"_3VRSm\"]'):\n",
    "    place4.append(i.text)"
   ]
  },
  {
   "cell_type": "code",
   "execution_count": 23,
   "id": "e1cf6717",
   "metadata": {},
   "outputs": [],
   "source": [
    "kms4 = []\n",
    "\n",
    "for i in driver.find_elements(By.XPATH,'//div[@class=\"_21gnE\"]'):\n",
    "    kms4.append(i.text)"
   ]
  },
  {
   "cell_type": "code",
   "execution_count": 24,
   "id": "db7aff9d",
   "metadata": {},
   "outputs": [],
   "source": [
    "price4 = []\n",
    "\n",
    "for i in driver.find_elements(By.XPATH,'//span[@class=\"_1zgtX\"]'):\n",
    "    price4.append(i.text)"
   ]
  },
  {
   "cell_type": "code",
   "execution_count": null,
   "id": "0f569d49",
   "metadata": {},
   "outputs": [],
   "source": []
  },
  {
   "cell_type": "code",
   "execution_count": null,
   "id": "03200f90",
   "metadata": {},
   "outputs": [],
   "source": []
  },
  {
   "cell_type": "code",
   "execution_count": null,
   "id": "2b80870c",
   "metadata": {},
   "outputs": [],
   "source": []
  },
  {
   "cell_type": "code",
   "execution_count": 25,
   "id": "7a33c5a2",
   "metadata": {},
   "outputs": [],
   "source": [
    "brand_check = driver.find_element(By.XPATH,'/html/body/div/div/main/div/div/section/div/div[2]/div[5]/div[1]/div/div[3]/div[2]/div[2]/div[3]/div[2]/div/div[4]/div/input')\n",
    "brand_check.click()"
   ]
  },
  {
   "cell_type": "code",
   "execution_count": null,
   "id": "499a7055",
   "metadata": {},
   "outputs": [],
   "source": []
  },
  {
   "cell_type": "code",
   "execution_count": 26,
   "id": "c1df50d6",
   "metadata": {},
   "outputs": [],
   "source": [
    "name5 = []\n",
    "\n",
    "for i in driver.find_elements(By.XPATH,'//div[@class=\"_2Gr10\"]'):\n",
    "    name5.append(i.text)"
   ]
  },
  {
   "cell_type": "code",
   "execution_count": 27,
   "id": "9340a430",
   "metadata": {},
   "outputs": [],
   "source": [
    "place5 = []\n",
    "\n",
    "for i in driver.find_elements(By.XPATH,'//div[@class=\"_3VRSm\"]'):\n",
    "    place5.append(i.text)"
   ]
  },
  {
   "cell_type": "code",
   "execution_count": 28,
   "id": "70ebb234",
   "metadata": {},
   "outputs": [],
   "source": [
    "kms5 = []\n",
    "\n",
    "for i in driver.find_elements(By.XPATH,'//div[@class=\"_21gnE\"]'):\n",
    "    kms5.append(i.text)"
   ]
  },
  {
   "cell_type": "code",
   "execution_count": 29,
   "id": "d75f60fa",
   "metadata": {},
   "outputs": [],
   "source": [
    "price5 = []\n",
    "\n",
    "for i in driver.find_elements(By.XPATH,'//span[@class=\"_1zgtX\"]'):\n",
    "    price5.append(i.text)"
   ]
  },
  {
   "cell_type": "code",
   "execution_count": null,
   "id": "bf0d00fc",
   "metadata": {},
   "outputs": [],
   "source": []
  },
  {
   "cell_type": "code",
   "execution_count": null,
   "id": "d2a47b46",
   "metadata": {},
   "outputs": [],
   "source": []
  },
  {
   "cell_type": "code",
   "execution_count": null,
   "id": "1c781637",
   "metadata": {},
   "outputs": [],
   "source": []
  },
  {
   "cell_type": "code",
   "execution_count": 31,
   "id": "acf03a51",
   "metadata": {},
   "outputs": [],
   "source": [
    "brand_check = driver.find_element(By.XPATH,'/html/body/div/div/main/div/div/section/div/div[2]/div[5]/div[1]/div/div[3]/div[2]/div[2]/div[3]/div[2]/div/div[5]/div/input')\n",
    "brand_check.click()"
   ]
  },
  {
   "cell_type": "code",
   "execution_count": null,
   "id": "fd02e590",
   "metadata": {},
   "outputs": [],
   "source": []
  },
  {
   "cell_type": "code",
   "execution_count": 32,
   "id": "edcd8471",
   "metadata": {},
   "outputs": [],
   "source": [
    "name6 = []\n",
    "\n",
    "for i in driver.find_elements(By.XPATH,'//div[@class=\"_2Gr10\"]'):\n",
    "    name6.append(i.text)"
   ]
  },
  {
   "cell_type": "code",
   "execution_count": 33,
   "id": "5fef77ca",
   "metadata": {},
   "outputs": [],
   "source": [
    "place6 = []\n",
    "\n",
    "for i in driver.find_elements(By.XPATH,'//div[@class=\"_3VRSm\"]'):\n",
    "    place6.append(i.text)"
   ]
  },
  {
   "cell_type": "code",
   "execution_count": 34,
   "id": "c1605388",
   "metadata": {},
   "outputs": [],
   "source": [
    "kms6 = []\n",
    "\n",
    "for i in driver.find_elements(By.XPATH,'//div[@class=\"_21gnE\"]'):\n",
    "    kms6.append(i.text)"
   ]
  },
  {
   "cell_type": "code",
   "execution_count": 35,
   "id": "e8ccde3a",
   "metadata": {},
   "outputs": [],
   "source": [
    "price6 = []\n",
    "\n",
    "for i in driver.find_elements(By.XPATH,'//span[@class=\"_1zgtX\"]'):\n",
    "    price6.append(i.text)"
   ]
  },
  {
   "cell_type": "code",
   "execution_count": null,
   "id": "a2b3b3d2",
   "metadata": {},
   "outputs": [],
   "source": []
  },
  {
   "cell_type": "code",
   "execution_count": null,
   "id": "a910232c",
   "metadata": {},
   "outputs": [],
   "source": []
  },
  {
   "cell_type": "code",
   "execution_count": null,
   "id": "b0ac47a1",
   "metadata": {},
   "outputs": [],
   "source": []
  },
  {
   "cell_type": "code",
   "execution_count": 37,
   "id": "f3319b66",
   "metadata": {},
   "outputs": [],
   "source": [
    "brand_check = driver.find_element(By.XPATH,'/html/body/div/div/main/div/div/section/div/div[2]/div[5]/div[1]/div/div[3]/div[2]/div[2]/div[3]/div[2]/div/div[6]/div/input')\n",
    "brand_check.click()"
   ]
  },
  {
   "cell_type": "code",
   "execution_count": null,
   "id": "8fc95c24",
   "metadata": {},
   "outputs": [],
   "source": []
  },
  {
   "cell_type": "code",
   "execution_count": 38,
   "id": "4c3f4d0a",
   "metadata": {},
   "outputs": [],
   "source": [
    "name7 = []\n",
    "\n",
    "for i in driver.find_elements(By.XPATH,'//div[@class=\"_2Gr10\"]'):\n",
    "    name7.append(i.text)"
   ]
  },
  {
   "cell_type": "code",
   "execution_count": 39,
   "id": "b31c9043",
   "metadata": {},
   "outputs": [],
   "source": [
    "place7 = []\n",
    "\n",
    "for i in driver.find_elements(By.XPATH,'//div[@class=\"_3VRSm\"]'):\n",
    "    place7.append(i.text)"
   ]
  },
  {
   "cell_type": "code",
   "execution_count": 40,
   "id": "fa8f1827",
   "metadata": {},
   "outputs": [],
   "source": [
    "kms7 = []\n",
    "\n",
    "for i in driver.find_elements(By.XPATH,'//div[@class=\"_21gnE\"]'):\n",
    "    kms7.append(i.text)"
   ]
  },
  {
   "cell_type": "code",
   "execution_count": 41,
   "id": "338cb70d",
   "metadata": {},
   "outputs": [],
   "source": [
    "price7 = []\n",
    "\n",
    "for i in driver.find_elements(By.XPATH,'//span[@class=\"_1zgtX\"]'):\n",
    "    price7.append(i.text)"
   ]
  },
  {
   "cell_type": "code",
   "execution_count": null,
   "id": "8f49b879",
   "metadata": {},
   "outputs": [],
   "source": []
  },
  {
   "cell_type": "code",
   "execution_count": null,
   "id": "1e18b14b",
   "metadata": {},
   "outputs": [],
   "source": []
  },
  {
   "cell_type": "code",
   "execution_count": null,
   "id": "8170b6e2",
   "metadata": {},
   "outputs": [],
   "source": []
  },
  {
   "cell_type": "code",
   "execution_count": 42,
   "id": "f458944f",
   "metadata": {},
   "outputs": [],
   "source": [
    "brand_check = driver.find_element(By.XPATH,'/html/body/div/div/main/div/div/section/div/div[2]/div[5]/div[1]/div/div[3]/div[2]/div[2]/div[3]/div[2]/div/div[5]/div/input')\n",
    "brand_check.click()"
   ]
  },
  {
   "cell_type": "code",
   "execution_count": null,
   "id": "4b989768",
   "metadata": {},
   "outputs": [],
   "source": []
  },
  {
   "cell_type": "code",
   "execution_count": 43,
   "id": "c80ccf88",
   "metadata": {},
   "outputs": [],
   "source": [
    "name8 = []\n",
    "\n",
    "for i in driver.find_elements(By.XPATH,'//div[@class=\"_2Gr10\"]'):\n",
    "    name8.append(i.text)"
   ]
  },
  {
   "cell_type": "code",
   "execution_count": 44,
   "id": "6a48dd2a",
   "metadata": {},
   "outputs": [],
   "source": [
    "place8 = []\n",
    "\n",
    "for i in driver.find_elements(By.XPATH,'//div[@class=\"_3VRSm\"]'):\n",
    "    place8.append(i.text)"
   ]
  },
  {
   "cell_type": "code",
   "execution_count": 45,
   "id": "2e598ffd",
   "metadata": {},
   "outputs": [],
   "source": [
    "kms8 = []\n",
    "\n",
    "for i in driver.find_elements(By.XPATH,'//div[@class=\"_21gnE\"]'):\n",
    "    kms8.append(i.text)"
   ]
  },
  {
   "cell_type": "code",
   "execution_count": 46,
   "id": "72128863",
   "metadata": {},
   "outputs": [],
   "source": [
    "price8 = []\n",
    "\n",
    "for i in driver.find_elements(By.XPATH,'//span[@class=\"_1zgtX\"]'):\n",
    "    price8.append(i.text)"
   ]
  },
  {
   "cell_type": "code",
   "execution_count": null,
   "id": "5a1897fb",
   "metadata": {},
   "outputs": [],
   "source": []
  },
  {
   "cell_type": "code",
   "execution_count": null,
   "id": "9e575c28",
   "metadata": {},
   "outputs": [],
   "source": []
  },
  {
   "cell_type": "code",
   "execution_count": null,
   "id": "85b918d9",
   "metadata": {},
   "outputs": [],
   "source": []
  },
  {
   "cell_type": "code",
   "execution_count": 47,
   "id": "4c388293",
   "metadata": {},
   "outputs": [],
   "source": [
    "brand_check = driver.find_element(By.XPATH,'/html/body/div/div/main/div/div/section/div/div[2]/div[5]/div[1]/div/div[3]/div[2]/div[2]/div[3]/div[2]/div/div[5]/div/input')\n",
    "brand_check.click()"
   ]
  },
  {
   "cell_type": "code",
   "execution_count": null,
   "id": "98b3097f",
   "metadata": {},
   "outputs": [],
   "source": []
  },
  {
   "cell_type": "code",
   "execution_count": 48,
   "id": "53bb8421",
   "metadata": {},
   "outputs": [],
   "source": [
    "name9 = []\n",
    "\n",
    "for i in driver.find_elements(By.XPATH,'//div[@class=\"_2Gr10\"]'):\n",
    "    name9.append(i.text)"
   ]
  },
  {
   "cell_type": "code",
   "execution_count": 49,
   "id": "848314e1",
   "metadata": {},
   "outputs": [],
   "source": [
    "place9 = []\n",
    "\n",
    "for i in driver.find_elements(By.XPATH,'//div[@class=\"_3VRSm\"]'):\n",
    "    place9.append(i.text)"
   ]
  },
  {
   "cell_type": "code",
   "execution_count": 50,
   "id": "8d674aed",
   "metadata": {},
   "outputs": [],
   "source": [
    "kms9 = []\n",
    "\n",
    "for i in driver.find_elements(By.XPATH,'//div[@class=\"_21gnE\"]'):\n",
    "    kms9.append(i.text)"
   ]
  },
  {
   "cell_type": "code",
   "execution_count": 51,
   "id": "92af5479",
   "metadata": {},
   "outputs": [],
   "source": [
    "price9 = []\n",
    "\n",
    "for i in driver.find_elements(By.XPATH,'//span[@class=\"_1zgtX\"]'):\n",
    "    price9.append(i.text)"
   ]
  },
  {
   "cell_type": "code",
   "execution_count": null,
   "id": "b93ebeb0",
   "metadata": {},
   "outputs": [],
   "source": []
  },
  {
   "cell_type": "code",
   "execution_count": null,
   "id": "a913dbfe",
   "metadata": {},
   "outputs": [],
   "source": []
  },
  {
   "cell_type": "code",
   "execution_count": null,
   "id": "e28c4563",
   "metadata": {},
   "outputs": [],
   "source": []
  },
  {
   "cell_type": "code",
   "execution_count": 52,
   "id": "9068bdd4",
   "metadata": {},
   "outputs": [],
   "source": [
    "brand_check = driver.find_element(By.XPATH,'/html/body/div/div/main/div/div/section/div/div[2]/div[5]/div[1]/div/div[3]/div[2]/div[2]/div[3]/div[2]/div/div[6]/div/input')\n",
    "brand_check.click()"
   ]
  },
  {
   "cell_type": "code",
   "execution_count": null,
   "id": "ed07c515",
   "metadata": {},
   "outputs": [],
   "source": []
  },
  {
   "cell_type": "code",
   "execution_count": 53,
   "id": "e2d7950c",
   "metadata": {},
   "outputs": [],
   "source": [
    "name10 = []\n",
    "\n",
    "for i in driver.find_elements(By.XPATH,'//div[@class=\"_2Gr10\"]'):\n",
    "    name10.append(i.text)"
   ]
  },
  {
   "cell_type": "code",
   "execution_count": 54,
   "id": "e794678e",
   "metadata": {},
   "outputs": [],
   "source": [
    "place10 = []\n",
    "\n",
    "for i in driver.find_elements(By.XPATH,'//div[@class=\"_3VRSm\"]'):\n",
    "    place10.append(i.text)"
   ]
  },
  {
   "cell_type": "code",
   "execution_count": 55,
   "id": "5e001515",
   "metadata": {},
   "outputs": [],
   "source": [
    "kms10 = []\n",
    "\n",
    "for i in driver.find_elements(By.XPATH,'//div[@class=\"_21gnE\"]'):\n",
    "    kms10.append(i.text)"
   ]
  },
  {
   "cell_type": "code",
   "execution_count": 56,
   "id": "9f5222c8",
   "metadata": {},
   "outputs": [],
   "source": [
    "price10 = []\n",
    "\n",
    "for i in driver.find_elements(By.XPATH,'//span[@class=\"_1zgtX\"]'):\n",
    "    price10.append(i.text)"
   ]
  },
  {
   "cell_type": "code",
   "execution_count": null,
   "id": "5b89ec71",
   "metadata": {},
   "outputs": [],
   "source": []
  },
  {
   "cell_type": "code",
   "execution_count": null,
   "id": "483f4501",
   "metadata": {},
   "outputs": [],
   "source": []
  },
  {
   "cell_type": "code",
   "execution_count": null,
   "id": "f5870107",
   "metadata": {},
   "outputs": [],
   "source": []
  },
  {
   "cell_type": "code",
   "execution_count": 57,
   "id": "f59db838",
   "metadata": {},
   "outputs": [],
   "source": [
    "brand_check = driver.find_element(By.XPATH,'/html/body/div/div/main/div/div/section/div/div[2]/div[5]/div[1]/div/div[3]/div[2]/div[2]/div[3]/div[2]/div/div[6]/div/input')\n",
    "brand_check.click()"
   ]
  },
  {
   "cell_type": "code",
   "execution_count": null,
   "id": "a869807a",
   "metadata": {},
   "outputs": [],
   "source": []
  },
  {
   "cell_type": "code",
   "execution_count": 58,
   "id": "9439313e",
   "metadata": {},
   "outputs": [],
   "source": [
    "name11 = []\n",
    "\n",
    "for i in driver.find_elements(By.XPATH,'//div[@class=\"_2Gr10\"]'):\n",
    "    name11.append(i.text)"
   ]
  },
  {
   "cell_type": "code",
   "execution_count": 59,
   "id": "1dd5e1f8",
   "metadata": {},
   "outputs": [],
   "source": [
    "place11 = []\n",
    "\n",
    "for i in driver.find_elements(By.XPATH,'//div[@class=\"_3VRSm\"]'):\n",
    "    place11.append(i.text)"
   ]
  },
  {
   "cell_type": "code",
   "execution_count": 60,
   "id": "88c1a5f9",
   "metadata": {},
   "outputs": [],
   "source": [
    "kms11 = []\n",
    "\n",
    "for i in driver.find_elements(By.XPATH,'//div[@class=\"_21gnE\"]'):\n",
    "    kms11.append(i.text)"
   ]
  },
  {
   "cell_type": "code",
   "execution_count": 61,
   "id": "c82d07bf",
   "metadata": {},
   "outputs": [],
   "source": [
    "price11 = []\n",
    "\n",
    "for i in driver.find_elements(By.XPATH,'//span[@class=\"_1zgtX\"]'):\n",
    "    price11.append(i.text)"
   ]
  },
  {
   "cell_type": "code",
   "execution_count": null,
   "id": "5b22f775",
   "metadata": {},
   "outputs": [],
   "source": []
  },
  {
   "cell_type": "code",
   "execution_count": null,
   "id": "7309dc93",
   "metadata": {},
   "outputs": [],
   "source": []
  },
  {
   "cell_type": "code",
   "execution_count": null,
   "id": "5d5f696a",
   "metadata": {},
   "outputs": [],
   "source": []
  },
  {
   "cell_type": "code",
   "execution_count": 62,
   "id": "4511ed91",
   "metadata": {},
   "outputs": [],
   "source": [
    "brand_check = driver.find_element(By.XPATH,'/html/body/div/div/main/div/div/section/div/div[2]/div[5]/div[1]/div/div[3]/div[2]/div[2]/div[3]/div[2]/div/div[5]/div/input')\n",
    "brand_check.click()"
   ]
  },
  {
   "cell_type": "code",
   "execution_count": null,
   "id": "1502921c",
   "metadata": {},
   "outputs": [],
   "source": []
  },
  {
   "cell_type": "code",
   "execution_count": 65,
   "id": "051a6295",
   "metadata": {},
   "outputs": [],
   "source": [
    "name12 = []\n",
    "\n",
    "for i in driver.find_elements(By.XPATH,'//div[@class=\"_2Gr10\"]'):\n",
    "    name12.append(i.text)"
   ]
  },
  {
   "cell_type": "code",
   "execution_count": 66,
   "id": "1caad150",
   "metadata": {},
   "outputs": [],
   "source": [
    "place12 = []\n",
    "\n",
    "for i in driver.find_elements(By.XPATH,'//div[@class=\"_3VRSm\"]'):\n",
    "    place12.append(i.text)"
   ]
  },
  {
   "cell_type": "code",
   "execution_count": 67,
   "id": "7e710cdb",
   "metadata": {},
   "outputs": [],
   "source": [
    "kms12 = []\n",
    "\n",
    "for i in driver.find_elements(By.XPATH,'//div[@class=\"_21gnE\"]'):\n",
    "    kms12.append(i.text)"
   ]
  },
  {
   "cell_type": "code",
   "execution_count": 68,
   "id": "acd845e5",
   "metadata": {},
   "outputs": [],
   "source": [
    "price12 = []\n",
    "\n",
    "for i in driver.find_elements(By.XPATH,'//span[@class=\"_1zgtX\"]'):\n",
    "    price12.append(i.text)"
   ]
  },
  {
   "cell_type": "code",
   "execution_count": null,
   "id": "c10600f8",
   "metadata": {},
   "outputs": [],
   "source": []
  },
  {
   "cell_type": "code",
   "execution_count": null,
   "id": "66b0964f",
   "metadata": {},
   "outputs": [],
   "source": []
  },
  {
   "cell_type": "code",
   "execution_count": null,
   "id": "96b798cb",
   "metadata": {},
   "outputs": [],
   "source": []
  },
  {
   "cell_type": "code",
   "execution_count": 69,
   "id": "a35f25e1",
   "metadata": {},
   "outputs": [],
   "source": [
    "brand_check = driver.find_element(By.XPATH,'/html/body/div/div/main/div/div/section/div/div[2]/div[5]/div[1]/div/div[3]/div[2]/div[2]/div[3]/div[2]/div/div[5]/div/input')\n",
    "brand_check.click()"
   ]
  },
  {
   "cell_type": "code",
   "execution_count": null,
   "id": "b1acdf69",
   "metadata": {},
   "outputs": [],
   "source": []
  },
  {
   "cell_type": "code",
   "execution_count": 70,
   "id": "00107e26",
   "metadata": {},
   "outputs": [],
   "source": [
    "name13 = []\n",
    "\n",
    "for i in driver.find_elements(By.XPATH,'//div[@class=\"_2Gr10\"]'):\n",
    "    name13.append(i.text)"
   ]
  },
  {
   "cell_type": "code",
   "execution_count": 71,
   "id": "c008eb56",
   "metadata": {},
   "outputs": [],
   "source": [
    "place13 = []\n",
    "\n",
    "for i in driver.find_elements(By.XPATH,'//div[@class=\"_3VRSm\"]'):\n",
    "    place13.append(i.text)"
   ]
  },
  {
   "cell_type": "code",
   "execution_count": 72,
   "id": "83c0ecae",
   "metadata": {},
   "outputs": [],
   "source": [
    "kms13 = []\n",
    "\n",
    "for i in driver.find_elements(By.XPATH,'//div[@class=\"_21gnE\"]'):\n",
    "    kms13.append(i.text)"
   ]
  },
  {
   "cell_type": "code",
   "execution_count": 73,
   "id": "23ebabe5",
   "metadata": {},
   "outputs": [],
   "source": [
    "price13 = []\n",
    "\n",
    "for i in driver.find_elements(By.XPATH,'//span[@class=\"_1zgtX\"]'):\n",
    "    price13.append(i.text)"
   ]
  },
  {
   "cell_type": "code",
   "execution_count": null,
   "id": "a7abc856",
   "metadata": {},
   "outputs": [],
   "source": []
  },
  {
   "cell_type": "code",
   "execution_count": null,
   "id": "5564e7a9",
   "metadata": {},
   "outputs": [],
   "source": []
  },
  {
   "cell_type": "code",
   "execution_count": null,
   "id": "53cae01d",
   "metadata": {},
   "outputs": [],
   "source": []
  },
  {
   "cell_type": "code",
   "execution_count": 74,
   "id": "85faf86b",
   "metadata": {},
   "outputs": [],
   "source": [
    "brand_check = driver.find_element(By.XPATH,'/html/body/div/div/main/div/div/section/div/div[2]/div[5]/div[1]/div/div[3]/div[2]/div[2]/div[3]/div[2]/div/div[6]/div/input')\n",
    "brand_check.click()"
   ]
  },
  {
   "cell_type": "code",
   "execution_count": null,
   "id": "ea8bde0b",
   "metadata": {},
   "outputs": [],
   "source": []
  },
  {
   "cell_type": "code",
   "execution_count": 75,
   "id": "e83ce9ef",
   "metadata": {},
   "outputs": [],
   "source": [
    "name14 = []\n",
    "\n",
    "for i in driver.find_elements(By.XPATH,'//div[@class=\"_2Gr10\"]'):\n",
    "    name14.append(i.text)"
   ]
  },
  {
   "cell_type": "code",
   "execution_count": 76,
   "id": "d07344c3",
   "metadata": {},
   "outputs": [],
   "source": [
    "place14 = []\n",
    "\n",
    "for i in driver.find_elements(By.XPATH,'//div[@class=\"_3VRSm\"]'):\n",
    "    place14.append(i.text)"
   ]
  },
  {
   "cell_type": "code",
   "execution_count": 77,
   "id": "d9b07363",
   "metadata": {},
   "outputs": [],
   "source": [
    "kms14 = []\n",
    "\n",
    "for i in driver.find_elements(By.XPATH,'//div[@class=\"_21gnE\"]'):\n",
    "    kms14.append(i.text)"
   ]
  },
  {
   "cell_type": "code",
   "execution_count": 78,
   "id": "e5a495f3",
   "metadata": {},
   "outputs": [],
   "source": [
    "price14 = []\n",
    "\n",
    "for i in driver.find_elements(By.XPATH,'//span[@class=\"_1zgtX\"]'):\n",
    "    price14.append(i.text)"
   ]
  },
  {
   "cell_type": "code",
   "execution_count": null,
   "id": "6556b60e",
   "metadata": {},
   "outputs": [],
   "source": []
  },
  {
   "cell_type": "code",
   "execution_count": null,
   "id": "dd9811cf",
   "metadata": {},
   "outputs": [],
   "source": []
  },
  {
   "cell_type": "code",
   "execution_count": null,
   "id": "3b2877e1",
   "metadata": {},
   "outputs": [],
   "source": []
  },
  {
   "cell_type": "code",
   "execution_count": 80,
   "id": "dde2ab69",
   "metadata": {},
   "outputs": [],
   "source": [
    "brand_check = driver.find_element(By.XPATH,'/html/body/div/div/main/div/div/section/div/div[2]/div[5]/div[1]/div/div[3]/div[2]/div[2]/div[3]/div[2]/div/div[7]/div/input')\n",
    "brand_check.click()"
   ]
  },
  {
   "cell_type": "code",
   "execution_count": null,
   "id": "364afc98",
   "metadata": {},
   "outputs": [],
   "source": []
  },
  {
   "cell_type": "code",
   "execution_count": 81,
   "id": "bb5bff3b",
   "metadata": {},
   "outputs": [],
   "source": [
    "name15 = []\n",
    "\n",
    "for i in driver.find_elements(By.XPATH,'//div[@class=\"_2Gr10\"]'):\n",
    "    name15.append(i.text)"
   ]
  },
  {
   "cell_type": "code",
   "execution_count": 82,
   "id": "4a819711",
   "metadata": {},
   "outputs": [],
   "source": [
    "place15 = []\n",
    "\n",
    "for i in driver.find_elements(By.XPATH,'//div[@class=\"_3VRSm\"]'):\n",
    "    place15.append(i.text)"
   ]
  },
  {
   "cell_type": "code",
   "execution_count": 83,
   "id": "a7453adc",
   "metadata": {},
   "outputs": [],
   "source": [
    "kms15 = []\n",
    "\n",
    "for i in driver.find_elements(By.XPATH,'//div[@class=\"_21gnE\"]'):\n",
    "    kms15.append(i.text)"
   ]
  },
  {
   "cell_type": "code",
   "execution_count": 84,
   "id": "59d02683",
   "metadata": {},
   "outputs": [],
   "source": [
    "price15 = []\n",
    "\n",
    "for i in driver.find_elements(By.XPATH,'//span[@class=\"_1zgtX\"]'):\n",
    "    price15.append(i.text)"
   ]
  },
  {
   "cell_type": "code",
   "execution_count": null,
   "id": "83a483f4",
   "metadata": {},
   "outputs": [],
   "source": []
  },
  {
   "cell_type": "code",
   "execution_count": null,
   "id": "af56db4c",
   "metadata": {},
   "outputs": [],
   "source": []
  },
  {
   "cell_type": "code",
   "execution_count": null,
   "id": "0264e119",
   "metadata": {},
   "outputs": [],
   "source": []
  },
  {
   "cell_type": "code",
   "execution_count": 85,
   "id": "81ddbb0a",
   "metadata": {},
   "outputs": [],
   "source": [
    "brand_check = driver.find_element(By.XPATH,'/html/body/div/div/main/div/div/section/div/div[2]/div[5]/div[1]/div/div[3]/div[2]/div[2]/div[3]/div[2]/div/div[5]/div/input')\n",
    "brand_check.click()"
   ]
  },
  {
   "cell_type": "code",
   "execution_count": null,
   "id": "4b71bfcf",
   "metadata": {},
   "outputs": [],
   "source": []
  },
  {
   "cell_type": "code",
   "execution_count": 86,
   "id": "090d634f",
   "metadata": {},
   "outputs": [],
   "source": [
    "name16 = []\n",
    "\n",
    "for i in driver.find_elements(By.XPATH,'//div[@class=\"_2Gr10\"]'):\n",
    "    name16.append(i.text)"
   ]
  },
  {
   "cell_type": "code",
   "execution_count": 87,
   "id": "332786aa",
   "metadata": {},
   "outputs": [],
   "source": [
    "place16 = []\n",
    "\n",
    "for i in driver.find_elements(By.XPATH,'//div[@class=\"_3VRSm\"]'):\n",
    "    place16.append(i.text)"
   ]
  },
  {
   "cell_type": "code",
   "execution_count": 88,
   "id": "44461b04",
   "metadata": {},
   "outputs": [],
   "source": [
    "kms16 = []\n",
    "\n",
    "for i in driver.find_elements(By.XPATH,'//div[@class=\"_21gnE\"]'):\n",
    "    kms16.append(i.text)"
   ]
  },
  {
   "cell_type": "code",
   "execution_count": 89,
   "id": "aacabbe0",
   "metadata": {},
   "outputs": [],
   "source": [
    "price16 = []\n",
    "\n",
    "for i in driver.find_elements(By.XPATH,'//span[@class=\"_1zgtX\"]'):\n",
    "    price16.append(i.text)"
   ]
  },
  {
   "cell_type": "code",
   "execution_count": null,
   "id": "2a0593cc",
   "metadata": {},
   "outputs": [],
   "source": []
  },
  {
   "cell_type": "code",
   "execution_count": null,
   "id": "6eb554ed",
   "metadata": {},
   "outputs": [],
   "source": []
  },
  {
   "cell_type": "code",
   "execution_count": null,
   "id": "05c2fe16",
   "metadata": {},
   "outputs": [],
   "source": []
  },
  {
   "cell_type": "code",
   "execution_count": 90,
   "id": "1a547abe",
   "metadata": {},
   "outputs": [],
   "source": [
    "brand_check = driver.find_element(By.XPATH,'/html/body/div/div/main/div/div/section/div/div[2]/div[5]/div[1]/div/div[3]/div[2]/div[2]/div[3]/div[2]/div/div[6]/div/input')\n",
    "brand_check.click()"
   ]
  },
  {
   "cell_type": "code",
   "execution_count": null,
   "id": "328bd916",
   "metadata": {},
   "outputs": [],
   "source": []
  },
  {
   "cell_type": "code",
   "execution_count": 91,
   "id": "5da2e88c",
   "metadata": {},
   "outputs": [],
   "source": [
    "name17 = []\n",
    "\n",
    "for i in driver.find_elements(By.XPATH,'//div[@class=\"_2Gr10\"]'):\n",
    "    name17.append(i.text)"
   ]
  },
  {
   "cell_type": "code",
   "execution_count": 92,
   "id": "6c62e7d9",
   "metadata": {},
   "outputs": [],
   "source": [
    "place17 = []\n",
    "\n",
    "for i in driver.find_elements(By.XPATH,'//div[@class=\"_3VRSm\"]'):\n",
    "    place17.append(i.text)"
   ]
  },
  {
   "cell_type": "code",
   "execution_count": 93,
   "id": "3c9a170c",
   "metadata": {},
   "outputs": [],
   "source": [
    "kms17 = []\n",
    "\n",
    "for i in driver.find_elements(By.XPATH,'//div[@class=\"_21gnE\"]'):\n",
    "    kms17.append(i.text)"
   ]
  },
  {
   "cell_type": "code",
   "execution_count": 94,
   "id": "eb1e1602",
   "metadata": {},
   "outputs": [],
   "source": [
    "price17 = []\n",
    "\n",
    "for i in driver.find_elements(By.XPATH,'//span[@class=\"_1zgtX\"]'):\n",
    "    price17.append(i.text)"
   ]
  },
  {
   "cell_type": "code",
   "execution_count": null,
   "id": "9c864a2d",
   "metadata": {},
   "outputs": [],
   "source": []
  },
  {
   "cell_type": "code",
   "execution_count": null,
   "id": "df6bbf98",
   "metadata": {},
   "outputs": [],
   "source": []
  },
  {
   "cell_type": "code",
   "execution_count": 95,
   "id": "49629d3d",
   "metadata": {},
   "outputs": [],
   "source": [
    "brand_check = driver.find_element(By.XPATH,'/html/body/div/div/main/div/div/section/div/div[2]/div[5]/div[1]/div/div[3]/div[2]/div[2]/div[3]/div[2]/div/div[6]/div/input')\n",
    "brand_check.click()"
   ]
  },
  {
   "cell_type": "code",
   "execution_count": null,
   "id": "ad18b404",
   "metadata": {},
   "outputs": [],
   "source": []
  },
  {
   "cell_type": "code",
   "execution_count": 96,
   "id": "d8ef6220",
   "metadata": {},
   "outputs": [],
   "source": [
    "name18 = []\n",
    "\n",
    "for i in driver.find_elements(By.XPATH,'//div[@class=\"_2Gr10\"]'):\n",
    "    name18.append(i.text)"
   ]
  },
  {
   "cell_type": "code",
   "execution_count": 97,
   "id": "f22aaacc",
   "metadata": {},
   "outputs": [],
   "source": [
    "place18 = []\n",
    "\n",
    "for i in driver.find_elements(By.XPATH,'//div[@class=\"_3VRSm\"]'):\n",
    "    place18.append(i.text)"
   ]
  },
  {
   "cell_type": "code",
   "execution_count": 98,
   "id": "451339d1",
   "metadata": {},
   "outputs": [],
   "source": [
    "kms18 = []\n",
    "\n",
    "for i in driver.find_elements(By.XPATH,'//div[@class=\"_21gnE\"]'):\n",
    "    kms18.append(i.text)"
   ]
  },
  {
   "cell_type": "code",
   "execution_count": 99,
   "id": "857c5ac1",
   "metadata": {},
   "outputs": [],
   "source": [
    "price18 = []\n",
    "\n",
    "for i in driver.find_elements(By.XPATH,'//span[@class=\"_1zgtX\"]'):\n",
    "    price18.append(i.text)"
   ]
  },
  {
   "cell_type": "code",
   "execution_count": null,
   "id": "1556a098",
   "metadata": {},
   "outputs": [],
   "source": []
  },
  {
   "cell_type": "code",
   "execution_count": null,
   "id": "0300242a",
   "metadata": {},
   "outputs": [],
   "source": []
  },
  {
   "cell_type": "code",
   "execution_count": null,
   "id": "a37bdadf",
   "metadata": {},
   "outputs": [],
   "source": []
  },
  {
   "cell_type": "code",
   "execution_count": 100,
   "id": "c71fe26d",
   "metadata": {},
   "outputs": [],
   "source": [
    "brand_check = driver.find_element(By.XPATH,'/html/body/div/div/main/div/div/section/div/div[2]/div[5]/div[1]/div/div[3]/div[2]/div[2]/div[3]/div[2]/div/div[5]/div/input')\n",
    "brand_check.click()"
   ]
  },
  {
   "cell_type": "code",
   "execution_count": null,
   "id": "eb826b0e",
   "metadata": {},
   "outputs": [],
   "source": []
  },
  {
   "cell_type": "code",
   "execution_count": 101,
   "id": "f2845dc6",
   "metadata": {},
   "outputs": [],
   "source": [
    "name19 = []\n",
    "\n",
    "for i in driver.find_elements(By.XPATH,'//div[@class=\"_2Gr10\"]'):\n",
    "    name19.append(i.text)"
   ]
  },
  {
   "cell_type": "code",
   "execution_count": 102,
   "id": "03bd1779",
   "metadata": {},
   "outputs": [],
   "source": [
    "place19 = []\n",
    "\n",
    "for i in driver.find_elements(By.XPATH,'//div[@class=\"_3VRSm\"]'):\n",
    "    place19.append(i.text)"
   ]
  },
  {
   "cell_type": "code",
   "execution_count": 103,
   "id": "a3be0711",
   "metadata": {},
   "outputs": [],
   "source": [
    "kms19 = []\n",
    "\n",
    "for i in driver.find_elements(By.XPATH,'//div[@class=\"_21gnE\"]'):\n",
    "    kms19.append(i.text)"
   ]
  },
  {
   "cell_type": "code",
   "execution_count": 104,
   "id": "b5cc1997",
   "metadata": {},
   "outputs": [],
   "source": [
    "price19 = []\n",
    "\n",
    "for i in driver.find_elements(By.XPATH,'//span[@class=\"_1zgtX\"]'):\n",
    "    price19.append(i.text)"
   ]
  },
  {
   "cell_type": "code",
   "execution_count": null,
   "id": "3b2f0489",
   "metadata": {},
   "outputs": [],
   "source": []
  },
  {
   "cell_type": "code",
   "execution_count": null,
   "id": "55040dca",
   "metadata": {},
   "outputs": [],
   "source": []
  },
  {
   "cell_type": "code",
   "execution_count": null,
   "id": "bc14865f",
   "metadata": {},
   "outputs": [],
   "source": []
  },
  {
   "cell_type": "code",
   "execution_count": 111,
   "id": "f6c6238d",
   "metadata": {},
   "outputs": [],
   "source": [
    "brand_check = driver.find_element(By.XPATH,'/html/body/div/div/main/div/div/section/div/div[2]/div[5]/div[1]/div/div[3]/div[2]/div[2]/div[3]/div[2]/div/div[5]/div/input')\n",
    "brand_check.click()"
   ]
  },
  {
   "cell_type": "code",
   "execution_count": null,
   "id": "77ff0677",
   "metadata": {},
   "outputs": [],
   "source": []
  },
  {
   "cell_type": "code",
   "execution_count": 112,
   "id": "be34a21e",
   "metadata": {},
   "outputs": [],
   "source": [
    "name20 = []\n",
    "\n",
    "for i in driver.find_elements(By.XPATH,'//div[@class=\"_2Gr10\"]'):\n",
    "    name20.append(i.text)"
   ]
  },
  {
   "cell_type": "code",
   "execution_count": 113,
   "id": "a508b6f1",
   "metadata": {},
   "outputs": [],
   "source": [
    "place20 = []\n",
    "\n",
    "for i in driver.find_elements(By.XPATH,'//div[@class=\"_3VRSm\"]'):\n",
    "    place20.append(i.text)"
   ]
  },
  {
   "cell_type": "code",
   "execution_count": 114,
   "id": "5a2cc41a",
   "metadata": {},
   "outputs": [],
   "source": [
    "kms20 = []\n",
    "\n",
    "for i in driver.find_elements(By.XPATH,'//div[@class=\"_21gnE\"]'):\n",
    "    kms20.append(i.text)"
   ]
  },
  {
   "cell_type": "code",
   "execution_count": 115,
   "id": "62794251",
   "metadata": {},
   "outputs": [],
   "source": [
    "price20 = []\n",
    "\n",
    "for i in driver.find_elements(By.XPATH,'//span[@class=\"_1zgtX\"]'):\n",
    "    price20.append(i.text)"
   ]
  },
  {
   "cell_type": "code",
   "execution_count": null,
   "id": "e645ff3b",
   "metadata": {},
   "outputs": [],
   "source": []
  },
  {
   "cell_type": "code",
   "execution_count": null,
   "id": "1f3ce69e",
   "metadata": {},
   "outputs": [],
   "source": []
  },
  {
   "cell_type": "code",
   "execution_count": 116,
   "id": "b23edec1",
   "metadata": {},
   "outputs": [],
   "source": [
    "df1 = pd.DataFrame({'Car':name1,'Place':place1,'Kms':kms1,'Price':price1})\n",
    "df2 = pd.DataFrame({'Car':name2,'Place':place2,'Kms':kms2,'Price':price2})\n",
    "df3 = pd.DataFrame({'Car':name3,'Place':place3,'Kms':kms3,'Price':price3})\n",
    "df4 = pd.DataFrame({'Car':name4,'Place':place4,'Kms':kms4,'Price':price4})\n",
    "df5 = pd.DataFrame({'Car':name5,'Place':place5,'Kms':kms5,'Price':price5})\n",
    "df6 = pd.DataFrame({'Car':name6,'Place':place6,'Kms':kms6,'Price':price6})\n",
    "df7 = pd.DataFrame({'Car':name7,'Place':place7,'Kms':kms7,'Price':price7})\n",
    "df8 = pd.DataFrame({'Car':name8,'Place':place8,'Kms':kms8,'Price':price8})\n",
    "df9 = pd.DataFrame({'Car':name9,'Place':place9,'Kms':kms9,'Price':price9})\n",
    "df10 = pd.DataFrame({'Car':name10,'Place':place10,'Kms':kms10,'Price':price10})\n",
    "df11 = pd.DataFrame({'Car':name11,'Place':place11,'Kms':kms11,'Price':price11})\n",
    "df12 = pd.DataFrame({'Car':name12,'Place':place12,'Kms':kms12,'Price':price12})\n",
    "df13 = pd.DataFrame({'Car':name13,'Place':place13,'Kms':kms13,'Price':price13})\n",
    "df14 = pd.DataFrame({'Car':name14,'Place':place14,'Kms':kms14,'Price':price14})\n",
    "df15 = pd.DataFrame({'Car':name15,'Place':place15,'Kms':kms15,'Price':price15})\n",
    "df16 = pd.DataFrame({'Car':name16,'Place':place16,'Kms':kms16,'Price':price16})\n",
    "df17 = pd.DataFrame({'Car':name17,'Place':place17,'Kms':kms17,'Price':price17})\n",
    "df18 = pd.DataFrame({'Car':name18,'Place':place18,'Kms':kms18,'Price':price18})\n",
    "df19 = pd.DataFrame({'Car':name19,'Place':place19,'Kms':kms19,'Price':price19})\n",
    "df20 = pd.DataFrame({'Car':name20,'Place':place20,'Kms':kms20,'Price':price20})"
   ]
  },
  {
   "cell_type": "code",
   "execution_count": 117,
   "id": "78d3248c",
   "metadata": {},
   "outputs": [],
   "source": [
    "df = pd.concat([df1,df2,df3,df4,df5,df6,df7,df8,df9,df10,df11,df12,df13,df14,df15,df16,df17,df18,df19,df20])"
   ]
  },
  {
   "cell_type": "code",
   "execution_count": 118,
   "id": "96d1a96e",
   "metadata": {},
   "outputs": [],
   "source": [
    "df.to_csv('C:/Users/user/cardata4.csv')"
   ]
  },
  {
   "cell_type": "code",
   "execution_count": null,
   "id": "fbb398ef",
   "metadata": {},
   "outputs": [],
   "source": []
  },
  {
   "cell_type": "code",
   "execution_count": null,
   "id": "8131bda1",
   "metadata": {},
   "outputs": [],
   "source": []
  },
  {
   "cell_type": "code",
   "execution_count": null,
   "id": "175ce56a",
   "metadata": {},
   "outputs": [],
   "source": []
  },
  {
   "cell_type": "code",
   "execution_count": null,
   "id": "da07a0e7",
   "metadata": {},
   "outputs": [],
   "source": []
  },
  {
   "cell_type": "code",
   "execution_count": 2,
   "id": "69d5e405",
   "metadata": {},
   "outputs": [
    {
     "data": {
      "text/plain": [
       "<selenium.webdriver.chrome.webdriver.WebDriver (session=\"aeb1d22ad05b0abe3031a7f2058fa7b3\")>"
      ]
     },
     "execution_count": 2,
     "metadata": {},
     "output_type": "execute_result"
    }
   ],
   "source": [
    "driver = webdriver.Chrome(r'C:\\Users\\user\\chromedriver.exe')\n",
    "\n",
    "driver"
   ]
  },
  {
   "cell_type": "code",
   "execution_count": 3,
   "id": "c32f9fe7",
   "metadata": {},
   "outputs": [],
   "source": [
    "url = 'https://www.olx.com/'\n",
    "\n",
    "driver.get(url)"
   ]
  },
  {
   "cell_type": "code",
   "execution_count": 4,
   "id": "6c503759",
   "metadata": {},
   "outputs": [],
   "source": [
    "cars_click = driver.find_element(By.XPATH,'/html/body/div/div/div[1]/div/div/div[1]/div[2]/div[1]/a')\n",
    "cars_click.click()"
   ]
  },
  {
   "cell_type": "code",
   "execution_count": 5,
   "id": "00f53d39",
   "metadata": {},
   "outputs": [],
   "source": [
    "search_place = driver.find_element(By.XPATH,'/html/body/div/div/header/div/div/div[2]/div/div/div[1]/div/div[1]/input')\n",
    "search_place.send_keys('Meerut')\n",
    "search_place.click()"
   ]
  },
  {
   "cell_type": "code",
   "execution_count": null,
   "id": "ac88621c",
   "metadata": {},
   "outputs": [],
   "source": []
  },
  {
   "cell_type": "code",
   "execution_count": null,
   "id": "c84ecc82",
   "metadata": {},
   "outputs": [],
   "source": []
  },
  {
   "cell_type": "code",
   "execution_count": 6,
   "id": "0f4f0498",
   "metadata": {},
   "outputs": [],
   "source": [
    "name1 = []\n",
    "\n",
    "for i in driver.find_elements(By.XPATH,'//div[@class=\"_2Gr10\"]'):\n",
    "    name1.append(i.text)"
   ]
  },
  {
   "cell_type": "code",
   "execution_count": 7,
   "id": "02bdc2cb",
   "metadata": {},
   "outputs": [],
   "source": [
    "place1 = []\n",
    "\n",
    "for i in driver.find_elements(By.XPATH,'//div[@class=\"_3VRSm\"]'):\n",
    "    place1.append(i.text)"
   ]
  },
  {
   "cell_type": "code",
   "execution_count": 8,
   "id": "7fff7d42",
   "metadata": {},
   "outputs": [],
   "source": [
    "kms1 = []\n",
    "\n",
    "for i in driver.find_elements(By.XPATH,'//div[@class=\"_21gnE\"]'):\n",
    "    kms1.append(i.text)"
   ]
  },
  {
   "cell_type": "code",
   "execution_count": 9,
   "id": "2d11f46e",
   "metadata": {},
   "outputs": [],
   "source": [
    "price1 = []\n",
    "\n",
    "for i in driver.find_elements(By.XPATH,'//span[@class=\"_1zgtX\"]'):\n",
    "    price1.append(i.text)"
   ]
  },
  {
   "cell_type": "code",
   "execution_count": null,
   "id": "df2c4deb",
   "metadata": {},
   "outputs": [],
   "source": []
  },
  {
   "cell_type": "code",
   "execution_count": null,
   "id": "2081cc41",
   "metadata": {},
   "outputs": [],
   "source": []
  },
  {
   "cell_type": "code",
   "execution_count": 10,
   "id": "dc00d386",
   "metadata": {},
   "outputs": [],
   "source": [
    "brand_check = driver.find_element(By.XPATH,'/html/body/div/div/main/div/div/section/div/div[2]/div[5]/div[1]/div/div[3]/div[2]/div[2]/div[3]/div[2]/div/div[1]/div/input')\n",
    "brand_check.click()"
   ]
  },
  {
   "cell_type": "code",
   "execution_count": null,
   "id": "29488dae",
   "metadata": {},
   "outputs": [],
   "source": []
  },
  {
   "cell_type": "code",
   "execution_count": 11,
   "id": "45cae871",
   "metadata": {},
   "outputs": [],
   "source": [
    "name2 = []\n",
    "\n",
    "for i in driver.find_elements(By.XPATH,'//div[@class=\"_2Gr10\"]'):\n",
    "    name2.append(i.text)"
   ]
  },
  {
   "cell_type": "code",
   "execution_count": 12,
   "id": "523ed83c",
   "metadata": {},
   "outputs": [],
   "source": [
    "place2 = []\n",
    "\n",
    "for i in driver.find_elements(By.XPATH,'//div[@class=\"_3VRSm\"]'):\n",
    "    place2.append(i.text)"
   ]
  },
  {
   "cell_type": "code",
   "execution_count": 13,
   "id": "e2aeb6b1",
   "metadata": {},
   "outputs": [],
   "source": [
    "kms2 = []\n",
    "\n",
    "for i in driver.find_elements(By.XPATH,'//div[@class=\"_21gnE\"]'):\n",
    "    kms2.append(i.text)"
   ]
  },
  {
   "cell_type": "code",
   "execution_count": 14,
   "id": "92da0a67",
   "metadata": {},
   "outputs": [],
   "source": [
    "price2 = []\n",
    "\n",
    "for i in driver.find_elements(By.XPATH,'//span[@class=\"_1zgtX\"]'):\n",
    "    price2.append(i.text)"
   ]
  },
  {
   "cell_type": "code",
   "execution_count": null,
   "id": "a277db3d",
   "metadata": {},
   "outputs": [],
   "source": []
  },
  {
   "cell_type": "code",
   "execution_count": null,
   "id": "a404fd76",
   "metadata": {},
   "outputs": [],
   "source": []
  },
  {
   "cell_type": "code",
   "execution_count": 15,
   "id": "e4a218be",
   "metadata": {},
   "outputs": [],
   "source": [
    "brand_check = driver.find_element(By.XPATH,'/html/body/div/div/main/div/div/section/div/div[2]/div[5]/div[1]/div/div[3]/div[2]/div[2]/div[3]/div[2]/div/div[2]/div/input')\n",
    "brand_check.click()"
   ]
  },
  {
   "cell_type": "code",
   "execution_count": null,
   "id": "48f70a55",
   "metadata": {},
   "outputs": [],
   "source": []
  },
  {
   "cell_type": "code",
   "execution_count": 16,
   "id": "34cee8f0",
   "metadata": {},
   "outputs": [],
   "source": [
    "name3 = []\n",
    "\n",
    "for i in driver.find_elements(By.XPATH,'//div[@class=\"_2Gr10\"]'):\n",
    "    name3.append(i.text)"
   ]
  },
  {
   "cell_type": "code",
   "execution_count": 17,
   "id": "ba2ec331",
   "metadata": {},
   "outputs": [],
   "source": [
    "place3 = []\n",
    "\n",
    "for i in driver.find_elements(By.XPATH,'//div[@class=\"_3VRSm\"]'):\n",
    "    place3.append(i.text)"
   ]
  },
  {
   "cell_type": "code",
   "execution_count": 18,
   "id": "29f3745d",
   "metadata": {},
   "outputs": [],
   "source": [
    "kms3 = []\n",
    "\n",
    "for i in driver.find_elements(By.XPATH,'//div[@class=\"_21gnE\"]'):\n",
    "    kms3.append(i.text)"
   ]
  },
  {
   "cell_type": "code",
   "execution_count": 19,
   "id": "8cf5df75",
   "metadata": {},
   "outputs": [],
   "source": [
    "price3 = []\n",
    "\n",
    "for i in driver.find_elements(By.XPATH,'//span[@class=\"_1zgtX\"]'):\n",
    "    price3.append(i.text)"
   ]
  },
  {
   "cell_type": "code",
   "execution_count": null,
   "id": "b0244f21",
   "metadata": {},
   "outputs": [],
   "source": []
  },
  {
   "cell_type": "code",
   "execution_count": null,
   "id": "c914feed",
   "metadata": {},
   "outputs": [],
   "source": []
  },
  {
   "cell_type": "code",
   "execution_count": null,
   "id": "d11710eb",
   "metadata": {},
   "outputs": [],
   "source": []
  },
  {
   "cell_type": "code",
   "execution_count": 159,
   "id": "c05d3f0c",
   "metadata": {},
   "outputs": [],
   "source": [
    "brand_check = driver.find_element(By.XPATH,'/html/body/div/div/main/div/div/section/div/div[2]/div[5]/div[1]/div/div[3]/div[2]/div[2]/div[3]/div[2]/div/div[3]/div/input')\n",
    "brand_check.click()"
   ]
  },
  {
   "cell_type": "code",
   "execution_count": null,
   "id": "0cff3a69",
   "metadata": {},
   "outputs": [],
   "source": []
  },
  {
   "cell_type": "code",
   "execution_count": 160,
   "id": "e3438b71",
   "metadata": {},
   "outputs": [],
   "source": [
    "name4 = []\n",
    "\n",
    "for i in driver.find_elements(By.XPATH,'//div[@class=\"_2Gr10\"]'):\n",
    "    name4.append(i.text)"
   ]
  },
  {
   "cell_type": "code",
   "execution_count": 161,
   "id": "88ade26f",
   "metadata": {},
   "outputs": [],
   "source": [
    "place4 = []\n",
    "\n",
    "for i in driver.find_elements(By.XPATH,'//div[@class=\"_3VRSm\"]'):\n",
    "    place4.append(i.text)"
   ]
  },
  {
   "cell_type": "code",
   "execution_count": 162,
   "id": "82c3d974",
   "metadata": {},
   "outputs": [],
   "source": [
    "kms4 = []\n",
    "\n",
    "for i in driver.find_elements(By.XPATH,'//div[@class=\"_21gnE\"]'):\n",
    "    kms4.append(i.text)"
   ]
  },
  {
   "cell_type": "code",
   "execution_count": 163,
   "id": "0558d326",
   "metadata": {},
   "outputs": [],
   "source": [
    "price4 = []\n",
    "\n",
    "for i in driver.find_elements(By.XPATH,'//span[@class=\"_1zgtX\"]'):\n",
    "    price4.append(i.text)"
   ]
  },
  {
   "cell_type": "code",
   "execution_count": null,
   "id": "9d2b5a5a",
   "metadata": {},
   "outputs": [],
   "source": []
  },
  {
   "cell_type": "code",
   "execution_count": null,
   "id": "b9fd9d07",
   "metadata": {},
   "outputs": [],
   "source": []
  },
  {
   "cell_type": "code",
   "execution_count": 164,
   "id": "515fdcc9",
   "metadata": {},
   "outputs": [],
   "source": [
    "brand_check = driver.find_element(By.XPATH,'/html/body/div/div/main/div/div/section/div/div[2]/div[5]/div[1]/div/div[3]/div[2]/div[2]/div[3]/div[2]/div/div[6]/div/input')\n",
    "brand_check.click()"
   ]
  },
  {
   "cell_type": "code",
   "execution_count": 165,
   "id": "5732fa77",
   "metadata": {},
   "outputs": [],
   "source": [
    "name5 = []\n",
    "\n",
    "for i in driver.find_elements(By.XPATH,'//div[@class=\"_2Gr10\"]'):\n",
    "    name5.append(i.text)"
   ]
  },
  {
   "cell_type": "code",
   "execution_count": 166,
   "id": "442e9d5e",
   "metadata": {},
   "outputs": [],
   "source": [
    "place5 = []\n",
    "\n",
    "for i in driver.find_elements(By.XPATH,'//div[@class=\"_3VRSm\"]'):\n",
    "    place5.append(i.text)"
   ]
  },
  {
   "cell_type": "code",
   "execution_count": 167,
   "id": "fb4068a1",
   "metadata": {},
   "outputs": [],
   "source": [
    "kms5 = []\n",
    "\n",
    "for i in driver.find_elements(By.XPATH,'//div[@class=\"_21gnE\"]'):\n",
    "    kms5.append(i.text)"
   ]
  },
  {
   "cell_type": "code",
   "execution_count": 168,
   "id": "e21ccddc",
   "metadata": {},
   "outputs": [],
   "source": [
    "price5 = []\n",
    "\n",
    "for i in driver.find_elements(By.XPATH,'//span[@class=\"_1zgtX\"]'):\n",
    "    price5.append(i.text)"
   ]
  },
  {
   "cell_type": "code",
   "execution_count": null,
   "id": "8115110a",
   "metadata": {},
   "outputs": [],
   "source": []
  },
  {
   "cell_type": "code",
   "execution_count": null,
   "id": "7098ca30",
   "metadata": {},
   "outputs": [],
   "source": []
  },
  {
   "cell_type": "code",
   "execution_count": null,
   "id": "ef740421",
   "metadata": {},
   "outputs": [],
   "source": []
  },
  {
   "cell_type": "code",
   "execution_count": 25,
   "id": "0d77febd",
   "metadata": {},
   "outputs": [],
   "source": [
    "brand_check = driver.find_element(By.XPATH,'/html/body/div/div/main/div/div/section/div/div[2]/div[5]/div[1]/div/div[3]/div[2]/div[2]/div[3]/div[2]/div/div[4]/div/input')\n",
    "brand_check.click()"
   ]
  },
  {
   "cell_type": "code",
   "execution_count": 26,
   "id": "05577beb",
   "metadata": {},
   "outputs": [],
   "source": [
    "name6 = []\n",
    "\n",
    "for i in driver.find_elements(By.XPATH,'//div[@class=\"_2Gr10\"]'):\n",
    "    name6.append(i.text)"
   ]
  },
  {
   "cell_type": "code",
   "execution_count": 27,
   "id": "1102eeb9",
   "metadata": {},
   "outputs": [],
   "source": [
    "place6 = []\n",
    "\n",
    "for i in driver.find_elements(By.XPATH,'//div[@class=\"_3VRSm\"]'):\n",
    "    place6.append(i.text)"
   ]
  },
  {
   "cell_type": "code",
   "execution_count": 28,
   "id": "83b8eb4c",
   "metadata": {},
   "outputs": [],
   "source": [
    "kms6 = []\n",
    "\n",
    "for i in driver.find_elements(By.XPATH,'//div[@class=\"_21gnE\"]'):\n",
    "    kms6.append(i.text)"
   ]
  },
  {
   "cell_type": "code",
   "execution_count": 29,
   "id": "4dc43b88",
   "metadata": {},
   "outputs": [],
   "source": [
    "price6 = []\n",
    "\n",
    "for i in driver.find_elements(By.XPATH,'//span[@class=\"_1zgtX\"]'):\n",
    "    price6.append(i.text)"
   ]
  },
  {
   "cell_type": "code",
   "execution_count": null,
   "id": "3281a280",
   "metadata": {},
   "outputs": [],
   "source": []
  },
  {
   "cell_type": "code",
   "execution_count": null,
   "id": "eb51cc58",
   "metadata": {},
   "outputs": [],
   "source": []
  },
  {
   "cell_type": "code",
   "execution_count": 30,
   "id": "d7b4b85e",
   "metadata": {},
   "outputs": [],
   "source": [
    "brand_check = driver.find_element(By.XPATH,'/html/body/div/div/main/div/div/section/div/div[2]/div[5]/div[1]/div/div[3]/div[2]/div[2]/div[3]/div[2]/div/div[5]/div/input')\n",
    "brand_check.click()"
   ]
  },
  {
   "cell_type": "code",
   "execution_count": 31,
   "id": "90f8a03d",
   "metadata": {},
   "outputs": [],
   "source": [
    "name7 = []\n",
    "\n",
    "for i in driver.find_elements(By.XPATH,'//div[@class=\"_2Gr10\"]'):\n",
    "    name7.append(i.text)"
   ]
  },
  {
   "cell_type": "code",
   "execution_count": 32,
   "id": "03c43956",
   "metadata": {},
   "outputs": [],
   "source": [
    "place7 = []\n",
    "\n",
    "for i in driver.find_elements(By.XPATH,'//div[@class=\"_3VRSm\"]'):\n",
    "    place7.append(i.text)"
   ]
  },
  {
   "cell_type": "code",
   "execution_count": 33,
   "id": "9412bee2",
   "metadata": {},
   "outputs": [],
   "source": [
    "kms7 = []\n",
    "\n",
    "for i in driver.find_elements(By.XPATH,'//div[@class=\"_21gnE\"]'):\n",
    "    kms7.append(i.text)"
   ]
  },
  {
   "cell_type": "code",
   "execution_count": 34,
   "id": "92ffd649",
   "metadata": {},
   "outputs": [],
   "source": [
    "price7 = []\n",
    "\n",
    "for i in driver.find_elements(By.XPATH,'//span[@class=\"_1zgtX\"]'):\n",
    "    price7.append(i.text)"
   ]
  },
  {
   "cell_type": "code",
   "execution_count": null,
   "id": "c01aa698",
   "metadata": {},
   "outputs": [],
   "source": []
  },
  {
   "cell_type": "code",
   "execution_count": null,
   "id": "baec1562",
   "metadata": {},
   "outputs": [],
   "source": []
  },
  {
   "cell_type": "code",
   "execution_count": 35,
   "id": "d10d5367",
   "metadata": {},
   "outputs": [],
   "source": [
    "brand_check = driver.find_element(By.XPATH,'/html/body/div/div/main/div/div/section/div/div[2]/div[5]/div[1]/div/div[3]/div[2]/div[2]/div[3]/div[2]/div/div[5]/div/input')\n",
    "brand_check.click()"
   ]
  },
  {
   "cell_type": "code",
   "execution_count": 36,
   "id": "ea5d4fa2",
   "metadata": {},
   "outputs": [],
   "source": [
    "name8 = []\n",
    "\n",
    "for i in driver.find_elements(By.XPATH,'//div[@class=\"_2Gr10\"]'):\n",
    "    name8.append(i.text)"
   ]
  },
  {
   "cell_type": "code",
   "execution_count": 37,
   "id": "deae4b97",
   "metadata": {},
   "outputs": [],
   "source": [
    "place8 = []\n",
    "\n",
    "for i in driver.find_elements(By.XPATH,'//div[@class=\"_3VRSm\"]'):\n",
    "    place8.append(i.text)"
   ]
  },
  {
   "cell_type": "code",
   "execution_count": 38,
   "id": "d64c3c7c",
   "metadata": {},
   "outputs": [],
   "source": [
    "kms8 = []\n",
    "\n",
    "for i in driver.find_elements(By.XPATH,'//div[@class=\"_21gnE\"]'):\n",
    "    kms8.append(i.text)"
   ]
  },
  {
   "cell_type": "code",
   "execution_count": 39,
   "id": "87456275",
   "metadata": {},
   "outputs": [],
   "source": [
    "price8 = []\n",
    "\n",
    "for i in driver.find_elements(By.XPATH,'//span[@class=\"_1zgtX\"]'):\n",
    "    price8.append(i.text)"
   ]
  },
  {
   "cell_type": "code",
   "execution_count": null,
   "id": "7c3e492a",
   "metadata": {},
   "outputs": [],
   "source": []
  },
  {
   "cell_type": "code",
   "execution_count": null,
   "id": "b050b8c5",
   "metadata": {},
   "outputs": [],
   "source": []
  },
  {
   "cell_type": "code",
   "execution_count": 40,
   "id": "7f4acde1",
   "metadata": {},
   "outputs": [],
   "source": [
    "brand_check = driver.find_element(By.XPATH,'/html/body/div/div/main/div/div/section/div/div[2]/div[5]/div[1]/div/div[3]/div[2]/div[2]/div[3]/div[2]/div/div[4]/div/input')\n",
    "brand_check.click()"
   ]
  },
  {
   "cell_type": "code",
   "execution_count": null,
   "id": "43b8f087",
   "metadata": {},
   "outputs": [],
   "source": []
  },
  {
   "cell_type": "code",
   "execution_count": 41,
   "id": "8a06fda2",
   "metadata": {},
   "outputs": [],
   "source": [
    "name9 = []\n",
    "\n",
    "for i in driver.find_elements(By.XPATH,'//div[@class=\"_2Gr10\"]'):\n",
    "    name9.append(i.text)"
   ]
  },
  {
   "cell_type": "code",
   "execution_count": 42,
   "id": "d299464a",
   "metadata": {},
   "outputs": [],
   "source": [
    "place9 = []\n",
    "\n",
    "for i in driver.find_elements(By.XPATH,'//div[@class=\"_3VRSm\"]'):\n",
    "    place9.append(i.text)"
   ]
  },
  {
   "cell_type": "code",
   "execution_count": 43,
   "id": "3b3fac7e",
   "metadata": {},
   "outputs": [],
   "source": [
    "kms9 = []\n",
    "\n",
    "for i in driver.find_elements(By.XPATH,'//div[@class=\"_21gnE\"]'):\n",
    "    kms9.append(i.text)"
   ]
  },
  {
   "cell_type": "code",
   "execution_count": 44,
   "id": "bddcd4f4",
   "metadata": {},
   "outputs": [],
   "source": [
    "price9 = []\n",
    "\n",
    "for i in driver.find_elements(By.XPATH,'//span[@class=\"_1zgtX\"]'):\n",
    "    price9.append(i.text)"
   ]
  },
  {
   "cell_type": "code",
   "execution_count": null,
   "id": "7337907e",
   "metadata": {},
   "outputs": [],
   "source": []
  },
  {
   "cell_type": "code",
   "execution_count": null,
   "id": "b114f796",
   "metadata": {},
   "outputs": [],
   "source": []
  },
  {
   "cell_type": "code",
   "execution_count": 45,
   "id": "5ebd6aba",
   "metadata": {},
   "outputs": [],
   "source": [
    "brand_check = driver.find_element(By.XPATH,'/html/body/div/div/main/div/div/section/div/div[2]/div[5]/div[1]/div/div[3]/div[2]/div[2]/div[3]/div[2]/div/div[5]/div/input')\n",
    "brand_check.click()"
   ]
  },
  {
   "cell_type": "code",
   "execution_count": 46,
   "id": "ef2f8385",
   "metadata": {},
   "outputs": [],
   "source": [
    "name10 = []\n",
    "\n",
    "for i in driver.find_elements(By.XPATH,'//div[@class=\"_2Gr10\"]'):\n",
    "    name10.append(i.text)"
   ]
  },
  {
   "cell_type": "code",
   "execution_count": 47,
   "id": "0c15923a",
   "metadata": {},
   "outputs": [],
   "source": [
    "place10 = []\n",
    "\n",
    "for i in driver.find_elements(By.XPATH,'//div[@class=\"_3VRSm\"]'):\n",
    "    place10.append(i.text)"
   ]
  },
  {
   "cell_type": "code",
   "execution_count": 48,
   "id": "677e8884",
   "metadata": {},
   "outputs": [],
   "source": [
    "kms10 = []\n",
    "\n",
    "for i in driver.find_elements(By.XPATH,'//div[@class=\"_21gnE\"]'):\n",
    "    kms10.append(i.text)"
   ]
  },
  {
   "cell_type": "code",
   "execution_count": 49,
   "id": "935080c7",
   "metadata": {},
   "outputs": [],
   "source": [
    "price10 = []\n",
    "\n",
    "for i in driver.find_elements(By.XPATH,'//span[@class=\"_1zgtX\"]'):\n",
    "    price10.append(i.text)"
   ]
  },
  {
   "cell_type": "code",
   "execution_count": null,
   "id": "84f3f303",
   "metadata": {},
   "outputs": [],
   "source": []
  },
  {
   "cell_type": "code",
   "execution_count": null,
   "id": "98bbe11f",
   "metadata": {},
   "outputs": [],
   "source": []
  },
  {
   "cell_type": "code",
   "execution_count": 50,
   "id": "5271f0a0",
   "metadata": {},
   "outputs": [],
   "source": [
    "brand_check = driver.find_element(By.XPATH,'/html/body/div/div/main/div/div/section/div/div[2]/div[5]/div[1]/div/div[3]/div[2]/div[2]/div[3]/div[2]/div/div[5]/div/input')\n",
    "brand_check.click()"
   ]
  },
  {
   "cell_type": "code",
   "execution_count": 51,
   "id": "ff4b7a0a",
   "metadata": {},
   "outputs": [],
   "source": [
    "name11 = []\n",
    "\n",
    "for i in driver.find_elements(By.XPATH,'//div[@class=\"_2Gr10\"]'):\n",
    "    name11.append(i.text)"
   ]
  },
  {
   "cell_type": "code",
   "execution_count": 52,
   "id": "3d0dd421",
   "metadata": {},
   "outputs": [],
   "source": [
    "place11 = []\n",
    "\n",
    "for i in driver.find_elements(By.XPATH,'//div[@class=\"_3VRSm\"]'):\n",
    "    place11.append(i.text)"
   ]
  },
  {
   "cell_type": "code",
   "execution_count": 53,
   "id": "b28a6021",
   "metadata": {},
   "outputs": [],
   "source": [
    "kms11 = []\n",
    "\n",
    "for i in driver.find_elements(By.XPATH,'//div[@class=\"_21gnE\"]'):\n",
    "    kms11.append(i.text)"
   ]
  },
  {
   "cell_type": "code",
   "execution_count": 54,
   "id": "7106d882",
   "metadata": {},
   "outputs": [],
   "source": [
    "price11 = []\n",
    "\n",
    "for i in driver.find_elements(By.XPATH,'//span[@class=\"_1zgtX\"]'):\n",
    "    price11.append(i.text)"
   ]
  },
  {
   "cell_type": "code",
   "execution_count": null,
   "id": "e7de4060",
   "metadata": {},
   "outputs": [],
   "source": []
  },
  {
   "cell_type": "code",
   "execution_count": null,
   "id": "a2e0d5b1",
   "metadata": {},
   "outputs": [],
   "source": []
  },
  {
   "cell_type": "code",
   "execution_count": 55,
   "id": "1e0feca8",
   "metadata": {},
   "outputs": [],
   "source": [
    "brand_check = driver.find_element(By.XPATH,'/html/body/div/div/main/div/div/section/div/div[2]/div[5]/div[1]/div/div[3]/div[2]/div[2]/div[3]/div[2]/div/div[6]/div/input')\n",
    "brand_check.click()"
   ]
  },
  {
   "cell_type": "code",
   "execution_count": 56,
   "id": "f5215439",
   "metadata": {},
   "outputs": [],
   "source": [
    "name12 = []\n",
    "\n",
    "for i in driver.find_elements(By.XPATH,'//div[@class=\"_2Gr10\"]'):\n",
    "    name12.append(i.text)"
   ]
  },
  {
   "cell_type": "code",
   "execution_count": 57,
   "id": "d9be7b28",
   "metadata": {},
   "outputs": [],
   "source": [
    "place12 = []\n",
    "\n",
    "for i in driver.find_elements(By.XPATH,'//div[@class=\"_3VRSm\"]'):\n",
    "    place12.append(i.text)"
   ]
  },
  {
   "cell_type": "code",
   "execution_count": 58,
   "id": "52400399",
   "metadata": {},
   "outputs": [],
   "source": [
    "kms12 = []\n",
    "\n",
    "for i in driver.find_elements(By.XPATH,'//div[@class=\"_21gnE\"]'):\n",
    "    kms12.append(i.text)"
   ]
  },
  {
   "cell_type": "code",
   "execution_count": 59,
   "id": "1a01f2e8",
   "metadata": {},
   "outputs": [],
   "source": [
    "price12 = []\n",
    "\n",
    "for i in driver.find_elements(By.XPATH,'//span[@class=\"_1zgtX\"]'):\n",
    "    price12.append(i.text)"
   ]
  },
  {
   "cell_type": "code",
   "execution_count": null,
   "id": "56145fa5",
   "metadata": {},
   "outputs": [],
   "source": []
  },
  {
   "cell_type": "code",
   "execution_count": null,
   "id": "0c612b41",
   "metadata": {},
   "outputs": [],
   "source": []
  },
  {
   "cell_type": "code",
   "execution_count": 174,
   "id": "05b65b67",
   "metadata": {},
   "outputs": [],
   "source": [
    "brand_check = driver.find_element(By.XPATH,'/html/body/div/div/main/div/div/section/div/div[2]/div[5]/div[1]/div/div[3]/div[2]/div[2]/div[3]/div[2]/div/div[5]/div/input')\n",
    "brand_check.click()"
   ]
  },
  {
   "cell_type": "code",
   "execution_count": 175,
   "id": "4422d22f",
   "metadata": {},
   "outputs": [],
   "source": [
    "name13 = []\n",
    "\n",
    "for i in driver.find_elements(By.XPATH,'//div[@class=\"_2Gr10\"]'):\n",
    "    name13.append(i.text)"
   ]
  },
  {
   "cell_type": "code",
   "execution_count": 176,
   "id": "7d85a6b2",
   "metadata": {},
   "outputs": [],
   "source": [
    "place13 = []\n",
    "\n",
    "for i in driver.find_elements(By.XPATH,'//div[@class=\"_3VRSm\"]'):\n",
    "    place13.append(i.text)"
   ]
  },
  {
   "cell_type": "code",
   "execution_count": 177,
   "id": "78d9b44b",
   "metadata": {},
   "outputs": [],
   "source": [
    "kms13 = []\n",
    "\n",
    "for i in driver.find_elements(By.XPATH,'//div[@class=\"_21gnE\"]'):\n",
    "    kms13.append(i.text)"
   ]
  },
  {
   "cell_type": "code",
   "execution_count": 179,
   "id": "36754375",
   "metadata": {},
   "outputs": [],
   "source": [
    "price13 = []\n",
    "\n",
    "for i in driver.find_elements(By.XPATH,'//span[@class=\"_1zgtX\"]'):\n",
    "    price13.append(i.text)"
   ]
  },
  {
   "cell_type": "code",
   "execution_count": null,
   "id": "e3546d60",
   "metadata": {},
   "outputs": [],
   "source": []
  },
  {
   "cell_type": "code",
   "execution_count": null,
   "id": "73e4e38b",
   "metadata": {},
   "outputs": [],
   "source": []
  },
  {
   "cell_type": "code",
   "execution_count": null,
   "id": "9b3b7ae6",
   "metadata": {},
   "outputs": [],
   "source": []
  },
  {
   "cell_type": "code",
   "execution_count": null,
   "id": "1c5f0166",
   "metadata": {},
   "outputs": [],
   "source": []
  },
  {
   "cell_type": "code",
   "execution_count": null,
   "id": "db09ebbe",
   "metadata": {},
   "outputs": [],
   "source": []
  },
  {
   "cell_type": "code",
   "execution_count": null,
   "id": "5f74e139",
   "metadata": {},
   "outputs": [],
   "source": []
  },
  {
   "cell_type": "code",
   "execution_count": null,
   "id": "f7aca930",
   "metadata": {},
   "outputs": [],
   "source": []
  },
  {
   "cell_type": "code",
   "execution_count": 65,
   "id": "35289402",
   "metadata": {},
   "outputs": [],
   "source": [
    "brand_check = driver.find_element(By.XPATH,'/html/body/div/div/main/div/div/section/div/div[2]/div[5]/div[1]/div/div[3]/div[2]/div[2]/div[3]/div[2]/div/div[5]/div/input')\n",
    "brand_check.click()"
   ]
  },
  {
   "cell_type": "code",
   "execution_count": 66,
   "id": "47bd4410",
   "metadata": {},
   "outputs": [],
   "source": [
    "name14 = []\n",
    "\n",
    "for i in driver.find_elements(By.XPATH,'//div[@class=\"_2Gr10\"]'):\n",
    "    name14.append(i.text)"
   ]
  },
  {
   "cell_type": "code",
   "execution_count": 67,
   "id": "7256f3c4",
   "metadata": {},
   "outputs": [],
   "source": [
    "place14 = []\n",
    "\n",
    "for i in driver.find_elements(By.XPATH,'//div[@class=\"_3VRSm\"]'):\n",
    "    place14.append(i.text)"
   ]
  },
  {
   "cell_type": "code",
   "execution_count": 68,
   "id": "055a54f4",
   "metadata": {},
   "outputs": [],
   "source": [
    "kms14 = []\n",
    "\n",
    "for i in driver.find_elements(By.XPATH,'//div[@class=\"_21gnE\"]'):\n",
    "    kms14.append(i.text)"
   ]
  },
  {
   "cell_type": "code",
   "execution_count": 69,
   "id": "ece4e714",
   "metadata": {},
   "outputs": [],
   "source": [
    "price14 = []\n",
    "\n",
    "for i in driver.find_elements(By.XPATH,'//span[@class=\"_1zgtX\"]'):\n",
    "    price14.append(i.text)"
   ]
  },
  {
   "cell_type": "code",
   "execution_count": null,
   "id": "10389697",
   "metadata": {},
   "outputs": [],
   "source": []
  },
  {
   "cell_type": "code",
   "execution_count": null,
   "id": "e1b8142f",
   "metadata": {},
   "outputs": [],
   "source": []
  },
  {
   "cell_type": "code",
   "execution_count": null,
   "id": "07198ddd",
   "metadata": {},
   "outputs": [],
   "source": []
  },
  {
   "cell_type": "code",
   "execution_count": 71,
   "id": "277f57aa",
   "metadata": {},
   "outputs": [],
   "source": [
    "brand_check = driver.find_element(By.XPATH,'/html/body/div/div/main/div/div/section/div/div[2]/div[5]/div[1]/div/div[3]/div[2]/div[2]/div[3]/div[2]/div/div[6]/div/input')\n",
    "brand_check.click()"
   ]
  },
  {
   "cell_type": "code",
   "execution_count": 72,
   "id": "f3d9f28e",
   "metadata": {},
   "outputs": [],
   "source": [
    "name15 = []\n",
    "\n",
    "for i in driver.find_elements(By.XPATH,'//div[@class=\"_2Gr10\"]'):\n",
    "    name15.append(i.text)"
   ]
  },
  {
   "cell_type": "code",
   "execution_count": 73,
   "id": "2310b2ce",
   "metadata": {},
   "outputs": [],
   "source": [
    "place15 = []\n",
    "\n",
    "for i in driver.find_elements(By.XPATH,'//div[@class=\"_3VRSm\"]'):\n",
    "    place15.append(i.text)"
   ]
  },
  {
   "cell_type": "code",
   "execution_count": 74,
   "id": "37ade239",
   "metadata": {},
   "outputs": [],
   "source": [
    "kms15 = []\n",
    "\n",
    "for i in driver.find_elements(By.XPATH,'//div[@class=\"_21gnE\"]'):\n",
    "    kms15.append(i.text)"
   ]
  },
  {
   "cell_type": "code",
   "execution_count": 75,
   "id": "4088d7cf",
   "metadata": {},
   "outputs": [],
   "source": [
    "price15 = []\n",
    "\n",
    "for i in driver.find_elements(By.XPATH,'//span[@class=\"_1zgtX\"]'):\n",
    "    price15.append(i.text)"
   ]
  },
  {
   "cell_type": "code",
   "execution_count": null,
   "id": "27067b97",
   "metadata": {},
   "outputs": [],
   "source": []
  },
  {
   "cell_type": "code",
   "execution_count": null,
   "id": "64ba63a9",
   "metadata": {},
   "outputs": [],
   "source": []
  },
  {
   "cell_type": "code",
   "execution_count": 76,
   "id": "873c9875",
   "metadata": {},
   "outputs": [],
   "source": [
    "brand_check = driver.find_element(By.XPATH,'/html/body/div/div/main/div/div/section/div/div[2]/div[5]/div[1]/div/div[3]/div[2]/div[2]/div[3]/div[2]/div/div[6]/div/input')\n",
    "brand_check.click()"
   ]
  },
  {
   "cell_type": "code",
   "execution_count": 77,
   "id": "d327ddd6",
   "metadata": {},
   "outputs": [],
   "source": [
    "name16 = []\n",
    "\n",
    "for i in driver.find_elements(By.XPATH,'//div[@class=\"_2Gr10\"]'):\n",
    "    name16.append(i.text)"
   ]
  },
  {
   "cell_type": "code",
   "execution_count": 78,
   "id": "1567c4b1",
   "metadata": {},
   "outputs": [],
   "source": [
    "place16 = []\n",
    "\n",
    "for i in driver.find_elements(By.XPATH,'//div[@class=\"_3VRSm\"]'):\n",
    "    place16.append(i.text)"
   ]
  },
  {
   "cell_type": "code",
   "execution_count": 79,
   "id": "664a2351",
   "metadata": {},
   "outputs": [],
   "source": [
    "kms16 = []\n",
    "\n",
    "for i in driver.find_elements(By.XPATH,'//div[@class=\"_21gnE\"]'):\n",
    "    kms16.append(i.text)"
   ]
  },
  {
   "cell_type": "code",
   "execution_count": 80,
   "id": "d4b55d00",
   "metadata": {},
   "outputs": [],
   "source": [
    "price16 = []\n",
    "\n",
    "for i in driver.find_elements(By.XPATH,'//span[@class=\"_1zgtX\"]'):\n",
    "    price16.append(i.text)"
   ]
  },
  {
   "cell_type": "code",
   "execution_count": null,
   "id": "b15c77d1",
   "metadata": {},
   "outputs": [],
   "source": []
  },
  {
   "cell_type": "code",
   "execution_count": null,
   "id": "01cc3a09",
   "metadata": {},
   "outputs": [],
   "source": []
  },
  {
   "cell_type": "code",
   "execution_count": null,
   "id": "ffb853d0",
   "metadata": {},
   "outputs": [],
   "source": []
  },
  {
   "cell_type": "code",
   "execution_count": 186,
   "id": "2d494a67",
   "metadata": {},
   "outputs": [],
   "source": [
    "brand_check = driver.find_element(By.XPATH,'/html/body/div/div/main/div/div/section/div/div[2]/div[5]/div[1]/div/div[3]/div[2]/div[2]/div[3]/div[2]/div/div[6]/div/input')\n",
    "brand_check.click()"
   ]
  },
  {
   "cell_type": "code",
   "execution_count": 187,
   "id": "2eb171ba",
   "metadata": {},
   "outputs": [],
   "source": [
    "name17 = []\n",
    "\n",
    "for i in driver.find_elements(By.XPATH,'//div[@class=\"_2Gr10\"]'):\n",
    "    name17.append(i.text)"
   ]
  },
  {
   "cell_type": "code",
   "execution_count": 83,
   "id": "3f52098b",
   "metadata": {},
   "outputs": [],
   "source": [
    "place17 = []\n",
    "\n",
    "for i in driver.find_elements(By.XPATH,'//div[@class=\"_3VRSm\"]'):\n",
    "    place17.append(i.text)"
   ]
  },
  {
   "cell_type": "code",
   "execution_count": 84,
   "id": "9481929e",
   "metadata": {},
   "outputs": [],
   "source": [
    "kms17 = []\n",
    "\n",
    "for i in driver.find_elements(By.XPATH,'//div[@class=\"_21gnE\"]'):\n",
    "    kms17.append(i.text)"
   ]
  },
  {
   "cell_type": "code",
   "execution_count": 85,
   "id": "b12c9002",
   "metadata": {},
   "outputs": [],
   "source": [
    "price17 = []\n",
    "\n",
    "for i in driver.find_elements(By.XPATH,'//span[@class=\"_1zgtX\"]'):\n",
    "    price17.append(i.text)"
   ]
  },
  {
   "cell_type": "code",
   "execution_count": 185,
   "id": "8a7b4f36",
   "metadata": {},
   "outputs": [
    {
     "data": {
      "text/plain": [
       "['Skoda Laura',\n",
       " 'Skoda Laura',\n",
       " 'Skoda Laura',\n",
       " 'Skoda Fabia',\n",
       " 'Skoda Rapid',\n",
       " 'Skoda Yeti',\n",
       " 'Skoda Slavia',\n",
       " 'Skoda Octavia',\n",
       " 'Skoda Octavia',\n",
       " 'Skoda Rapid',\n",
       " 'Skoda Rapid',\n",
       " 'Skoda Rapid',\n",
       " 'Skoda Rapid',\n",
       " 'Skoda Rapid',\n",
       " 'Skoda Rapid',\n",
       " 'Skoda Rapid',\n",
       " 'Skoda Rapid',\n",
       " 'Skoda Yeti',\n",
       " 'Skoda Superb',\n",
       " 'Skoda Rapid',\n",
       " 'Skoda Rapid',\n",
       " 'Skoda Laura',\n",
       " 'Skoda Superb',\n",
       " 'Skoda Kushaq',\n",
       " 'Skoda Kodiaq',\n",
       " 'Skoda Superb',\n",
       " 'Skoda Superb',\n",
       " 'Skoda Superb',\n",
       " 'Skoda Rapid',\n",
       " 'Skoda Rapid',\n",
       " 'Skoda Octavia',\n",
       " 'Skoda Superb',\n",
       " 'Skoda Rapid',\n",
       " 'Skoda Rapid',\n",
       " 'Skoda Superb',\n",
       " 'Skoda Laura',\n",
       " 'Skoda Superb',\n",
       " 'Skoda Laura',\n",
       " 'Skoda Octavia',\n",
       " 'Skoda Rapid']"
      ]
     },
     "execution_count": 185,
     "metadata": {},
     "output_type": "execute_result"
    }
   ],
   "source": [
    "name16"
   ]
  },
  {
   "cell_type": "code",
   "execution_count": null,
   "id": "ee762de7",
   "metadata": {},
   "outputs": [],
   "source": []
  },
  {
   "cell_type": "code",
   "execution_count": null,
   "id": "03072b4b",
   "metadata": {},
   "outputs": [],
   "source": []
  },
  {
   "cell_type": "code",
   "execution_count": null,
   "id": "ad4d934b",
   "metadata": {},
   "outputs": [],
   "source": []
  },
  {
   "cell_type": "code",
   "execution_count": null,
   "id": "c88763b8",
   "metadata": {},
   "outputs": [],
   "source": []
  },
  {
   "cell_type": "code",
   "execution_count": null,
   "id": "3b3614eb",
   "metadata": {},
   "outputs": [],
   "source": []
  },
  {
   "cell_type": "code",
   "execution_count": null,
   "id": "eba001f2",
   "metadata": {},
   "outputs": [],
   "source": []
  },
  {
   "cell_type": "code",
   "execution_count": 86,
   "id": "39f19130",
   "metadata": {},
   "outputs": [],
   "source": [
    "brand_check = driver.find_element(By.XPATH,'/html/body/div/div/main/div/div/section/div/div[2]/div[5]/div[1]/div/div[3]/div[2]/div[2]/div[3]/div[2]/div/div[6]/div/input')\n",
    "brand_check.click()"
   ]
  },
  {
   "cell_type": "code",
   "execution_count": 87,
   "id": "21be06ee",
   "metadata": {},
   "outputs": [],
   "source": [
    "name18 = []\n",
    "\n",
    "for i in driver.find_elements(By.XPATH,'//div[@class=\"_2Gr10\"]'):\n",
    "    name18.append(i.text)"
   ]
  },
  {
   "cell_type": "code",
   "execution_count": 88,
   "id": "450dc2ed",
   "metadata": {},
   "outputs": [],
   "source": [
    "place18 = []\n",
    "\n",
    "for i in driver.find_elements(By.XPATH,'//div[@class=\"_3VRSm\"]'):\n",
    "    place18.append(i.text)"
   ]
  },
  {
   "cell_type": "code",
   "execution_count": 89,
   "id": "8f887569",
   "metadata": {},
   "outputs": [],
   "source": [
    "kms18 = []\n",
    "\n",
    "for i in driver.find_elements(By.XPATH,'//div[@class=\"_21gnE\"]'):\n",
    "    kms18.append(i.text)"
   ]
  },
  {
   "cell_type": "code",
   "execution_count": 90,
   "id": "5be9e75e",
   "metadata": {},
   "outputs": [],
   "source": [
    "price18 = []\n",
    "\n",
    "for i in driver.find_elements(By.XPATH,'//span[@class=\"_1zgtX\"]'):\n",
    "    price18.append(i.text)"
   ]
  },
  {
   "cell_type": "code",
   "execution_count": null,
   "id": "b7b2a5e5",
   "metadata": {},
   "outputs": [],
   "source": []
  },
  {
   "cell_type": "code",
   "execution_count": null,
   "id": "2d03d610",
   "metadata": {},
   "outputs": [],
   "source": []
  },
  {
   "cell_type": "code",
   "execution_count": 91,
   "id": "8381d52a",
   "metadata": {},
   "outputs": [],
   "source": [
    "brand_check = driver.find_element(By.XPATH,'/html/body/div/div/main/div/div/section/div/div[2]/div[5]/div[1]/div/div[3]/div[2]/div[2]/div[3]/div[2]/div/div[5]/div/input')\n",
    "brand_check.click()"
   ]
  },
  {
   "cell_type": "code",
   "execution_count": 92,
   "id": "12e1a3d0",
   "metadata": {},
   "outputs": [],
   "source": [
    "name19 = []\n",
    "\n",
    "for i in driver.find_elements(By.XPATH,'//div[@class=\"_2Gr10\"]'):\n",
    "    name19.append(i.text)"
   ]
  },
  {
   "cell_type": "code",
   "execution_count": 93,
   "id": "6a561436",
   "metadata": {},
   "outputs": [],
   "source": [
    "place19 = []\n",
    "\n",
    "for i in driver.find_elements(By.XPATH,'//div[@class=\"_3VRSm\"]'):\n",
    "    place19.append(i.text)"
   ]
  },
  {
   "cell_type": "code",
   "execution_count": 94,
   "id": "5ef5ab48",
   "metadata": {},
   "outputs": [],
   "source": [
    "kms19 = []\n",
    "\n",
    "for i in driver.find_elements(By.XPATH,'//div[@class=\"_21gnE\"]'):\n",
    "    kms19.append(i.text)"
   ]
  },
  {
   "cell_type": "code",
   "execution_count": 95,
   "id": "780e2cc8",
   "metadata": {},
   "outputs": [],
   "source": [
    "price19 = []\n",
    "\n",
    "for i in driver.find_elements(By.XPATH,'//span[@class=\"_1zgtX\"]'):\n",
    "    price19.append(i.text)"
   ]
  },
  {
   "cell_type": "code",
   "execution_count": null,
   "id": "8b57faca",
   "metadata": {},
   "outputs": [],
   "source": []
  },
  {
   "cell_type": "code",
   "execution_count": null,
   "id": "fa0c8249",
   "metadata": {},
   "outputs": [],
   "source": []
  },
  {
   "cell_type": "code",
   "execution_count": 96,
   "id": "d5d09890",
   "metadata": {},
   "outputs": [],
   "source": [
    "brand_check = driver.find_element(By.XPATH,'/html/body/div/div/main/div/div/section/div/div[2]/div[5]/div[1]/div/div[3]/div[2]/div[2]/div[3]/div[2]/div/div[6]/div/input')\n",
    "brand_check.click()"
   ]
  },
  {
   "cell_type": "code",
   "execution_count": 97,
   "id": "363cd584",
   "metadata": {},
   "outputs": [],
   "source": [
    "name20 = []\n",
    "\n",
    "for i in driver.find_elements(By.XPATH,'//div[@class=\"_2Gr10\"]'):\n",
    "    name20.append(i.text)"
   ]
  },
  {
   "cell_type": "code",
   "execution_count": 98,
   "id": "efdd99d0",
   "metadata": {},
   "outputs": [],
   "source": [
    "place20 = []\n",
    "\n",
    "for i in driver.find_elements(By.XPATH,'//div[@class=\"_3VRSm\"]'):\n",
    "    place20.append(i.text)"
   ]
  },
  {
   "cell_type": "code",
   "execution_count": 99,
   "id": "689da449",
   "metadata": {},
   "outputs": [],
   "source": [
    "kms20 = []\n",
    "\n",
    "for i in driver.find_elements(By.XPATH,'//div[@class=\"_21gnE\"]'):\n",
    "    kms20.append(i.text)"
   ]
  },
  {
   "cell_type": "code",
   "execution_count": 100,
   "id": "9bc714e5",
   "metadata": {},
   "outputs": [],
   "source": [
    "price20 = []\n",
    "\n",
    "for i in driver.find_elements(By.XPATH,'//span[@class=\"_1zgtX\"]'):\n",
    "    price20.append(i.text)"
   ]
  },
  {
   "cell_type": "code",
   "execution_count": null,
   "id": "ae10ef9a",
   "metadata": {},
   "outputs": [],
   "source": []
  },
  {
   "cell_type": "code",
   "execution_count": null,
   "id": "3f0b6db9",
   "metadata": {},
   "outputs": [],
   "source": []
  },
  {
   "cell_type": "code",
   "execution_count": 101,
   "id": "150e2d3e",
   "metadata": {},
   "outputs": [],
   "source": [
    "brand_check = driver.find_element(By.XPATH,'/html/body/div/div/main/div/div/section/div/div[2]/div[5]/div[1]/div/div[3]/div[2]/div[2]/div[3]/div[2]/div/div[5]/div/input')\n",
    "brand_check.click()"
   ]
  },
  {
   "cell_type": "code",
   "execution_count": 102,
   "id": "c546b97e",
   "metadata": {},
   "outputs": [],
   "source": [
    "name21 = []\n",
    "\n",
    "for i in driver.find_elements(By.XPATH,'//div[@class=\"_2Gr10\"]'):\n",
    "    name21.append(i.text)"
   ]
  },
  {
   "cell_type": "code",
   "execution_count": 103,
   "id": "c390c41c",
   "metadata": {},
   "outputs": [],
   "source": [
    "place21 = []\n",
    "\n",
    "for i in driver.find_elements(By.XPATH,'//div[@class=\"_3VRSm\"]'):\n",
    "    place21.append(i.text)"
   ]
  },
  {
   "cell_type": "code",
   "execution_count": 104,
   "id": "acffabb3",
   "metadata": {},
   "outputs": [],
   "source": [
    "kms21 = []\n",
    "\n",
    "for i in driver.find_elements(By.XPATH,'//div[@class=\"_21gnE\"]'):\n",
    "    kms21.append(i.text)"
   ]
  },
  {
   "cell_type": "code",
   "execution_count": 105,
   "id": "70e124b0",
   "metadata": {},
   "outputs": [],
   "source": [
    "price21 = []\n",
    "\n",
    "for i in driver.find_elements(By.XPATH,'//span[@class=\"_1zgtX\"]'):\n",
    "    price21.append(i.text)"
   ]
  },
  {
   "cell_type": "code",
   "execution_count": null,
   "id": "047eb5e3",
   "metadata": {},
   "outputs": [],
   "source": []
  },
  {
   "cell_type": "code",
   "execution_count": null,
   "id": "e15263ed",
   "metadata": {},
   "outputs": [],
   "source": []
  },
  {
   "cell_type": "code",
   "execution_count": 106,
   "id": "e33395ab",
   "metadata": {},
   "outputs": [],
   "source": [
    "brand_check = driver.find_element(By.XPATH,'/html/body/div/div/main/div/div/section/div/div[2]/div[5]/div[1]/div/div[3]/div[2]/div[2]/div[3]/div[2]/div/div[6]/div/input')\n",
    "brand_check.click()"
   ]
  },
  {
   "cell_type": "code",
   "execution_count": 107,
   "id": "3f356f80",
   "metadata": {},
   "outputs": [],
   "source": [
    "name22 = []\n",
    "\n",
    "for i in driver.find_elements(By.XPATH,'//div[@class=\"_2Gr10\"]'):\n",
    "    name22.append(i.text)"
   ]
  },
  {
   "cell_type": "code",
   "execution_count": 108,
   "id": "e9b1dc1d",
   "metadata": {},
   "outputs": [],
   "source": [
    "place22 = []\n",
    "\n",
    "for i in driver.find_elements(By.XPATH,'//div[@class=\"_3VRSm\"]'):\n",
    "    place22.append(i.text)"
   ]
  },
  {
   "cell_type": "code",
   "execution_count": 109,
   "id": "1ec40ea9",
   "metadata": {},
   "outputs": [],
   "source": [
    "kms22 = []\n",
    "\n",
    "for i in driver.find_elements(By.XPATH,'//div[@class=\"_21gnE\"]'):\n",
    "    kms22.append(i.text)"
   ]
  },
  {
   "cell_type": "code",
   "execution_count": 110,
   "id": "681e18cb",
   "metadata": {},
   "outputs": [],
   "source": [
    "price22 = []\n",
    "\n",
    "for i in driver.find_elements(By.XPATH,'//span[@class=\"_1zgtX\"]'):\n",
    "    price22.append(i.text)"
   ]
  },
  {
   "cell_type": "code",
   "execution_count": null,
   "id": "26346b20",
   "metadata": {},
   "outputs": [],
   "source": []
  },
  {
   "cell_type": "code",
   "execution_count": null,
   "id": "b117392b",
   "metadata": {},
   "outputs": [],
   "source": []
  },
  {
   "cell_type": "code",
   "execution_count": null,
   "id": "c1d267d1",
   "metadata": {},
   "outputs": [],
   "source": []
  },
  {
   "cell_type": "code",
   "execution_count": 112,
   "id": "73015b3d",
   "metadata": {},
   "outputs": [],
   "source": [
    "brand_check = driver.find_element(By.XPATH,'/html/body/div/div/main/div/div/section/div/div[2]/div[5]/div[1]/div/div[3]/div[2]/div[2]/div[3]/div[2]/div/div[5]/div/input')\n",
    "brand_check.click()"
   ]
  },
  {
   "cell_type": "code",
   "execution_count": 113,
   "id": "791cd6cf",
   "metadata": {},
   "outputs": [],
   "source": [
    "name23 = []\n",
    "\n",
    "for i in driver.find_elements(By.XPATH,'//div[@class=\"_2Gr10\"]'):\n",
    "    name23.append(i.text)"
   ]
  },
  {
   "cell_type": "code",
   "execution_count": 114,
   "id": "8fc1de83",
   "metadata": {},
   "outputs": [],
   "source": [
    "place23 = []\n",
    "\n",
    "for i in driver.find_elements(By.XPATH,'//div[@class=\"_3VRSm\"]'):\n",
    "    place23.append(i.text)"
   ]
  },
  {
   "cell_type": "code",
   "execution_count": 115,
   "id": "2b746665",
   "metadata": {},
   "outputs": [],
   "source": [
    "kms23 = []\n",
    "\n",
    "for i in driver.find_elements(By.XPATH,'//div[@class=\"_21gnE\"]'):\n",
    "    kms23.append(i.text)"
   ]
  },
  {
   "cell_type": "code",
   "execution_count": 116,
   "id": "29f029e9",
   "metadata": {},
   "outputs": [],
   "source": [
    "price23 = []\n",
    "\n",
    "for i in driver.find_elements(By.XPATH,'//span[@class=\"_1zgtX\"]'):\n",
    "    price23.append(i.text)"
   ]
  },
  {
   "cell_type": "code",
   "execution_count": null,
   "id": "03ee8b1f",
   "metadata": {},
   "outputs": [],
   "source": []
  },
  {
   "cell_type": "code",
   "execution_count": null,
   "id": "a97c0779",
   "metadata": {},
   "outputs": [],
   "source": []
  },
  {
   "cell_type": "code",
   "execution_count": 117,
   "id": "15301df2",
   "metadata": {},
   "outputs": [],
   "source": [
    "brand_check = driver.find_element(By.XPATH,'/html/body/div/div/main/div/div/section/div/div[2]/div[5]/div[1]/div/div[3]/div[2]/div[2]/div[3]/div[2]/div/div[6]/div/input')\n",
    "brand_check.click()"
   ]
  },
  {
   "cell_type": "code",
   "execution_count": 118,
   "id": "590a014d",
   "metadata": {},
   "outputs": [],
   "source": [
    "name24 = []\n",
    "\n",
    "for i in driver.find_elements(By.XPATH,'//div[@class=\"_2Gr10\"]'):\n",
    "    name24.append(i.text)"
   ]
  },
  {
   "cell_type": "code",
   "execution_count": 119,
   "id": "665e60ca",
   "metadata": {},
   "outputs": [],
   "source": [
    "place24 = []\n",
    "\n",
    "for i in driver.find_elements(By.XPATH,'//div[@class=\"_3VRSm\"]'):\n",
    "    place24.append(i.text)"
   ]
  },
  {
   "cell_type": "code",
   "execution_count": 120,
   "id": "eaa8d378",
   "metadata": {},
   "outputs": [],
   "source": [
    "kms24 = []\n",
    "\n",
    "for i in driver.find_elements(By.XPATH,'//div[@class=\"_21gnE\"]'):\n",
    "    kms24.append(i.text)"
   ]
  },
  {
   "cell_type": "code",
   "execution_count": 121,
   "id": "71e39e64",
   "metadata": {},
   "outputs": [],
   "source": [
    "price24 = []\n",
    "\n",
    "for i in driver.find_elements(By.XPATH,'//span[@class=\"_1zgtX\"]'):\n",
    "    price24.append(i.text)"
   ]
  },
  {
   "cell_type": "code",
   "execution_count": null,
   "id": "05dcdb76",
   "metadata": {},
   "outputs": [],
   "source": []
  },
  {
   "cell_type": "code",
   "execution_count": null,
   "id": "52fbd0ed",
   "metadata": {},
   "outputs": [],
   "source": []
  },
  {
   "cell_type": "code",
   "execution_count": 122,
   "id": "1badfd79",
   "metadata": {},
   "outputs": [],
   "source": [
    "brand_check = driver.find_element(By.XPATH,'/html/body/div/div/main/div/div/section/div/div[2]/div[5]/div[1]/div/div[3]/div[2]/div[2]/div[3]/div[2]/div/div[5]/div/input')\n",
    "brand_check.click()"
   ]
  },
  {
   "cell_type": "code",
   "execution_count": 123,
   "id": "e00142cb",
   "metadata": {},
   "outputs": [],
   "source": [
    "name25 = []\n",
    "\n",
    "for i in driver.find_elements(By.XPATH,'//div[@class=\"_2Gr10\"]'):\n",
    "    name25.append(i.text)"
   ]
  },
  {
   "cell_type": "code",
   "execution_count": 124,
   "id": "8a3cff52",
   "metadata": {},
   "outputs": [],
   "source": [
    "place25 = []\n",
    "\n",
    "for i in driver.find_elements(By.XPATH,'//div[@class=\"_3VRSm\"]'):\n",
    "    place25.append(i.text)"
   ]
  },
  {
   "cell_type": "code",
   "execution_count": 127,
   "id": "8754660e",
   "metadata": {},
   "outputs": [],
   "source": [
    "kms25 = []\n",
    "\n",
    "for i in driver.find_elements(By.XPATH,'//div[@class=\"_21gnE\"]'):\n",
    "    kms25.append(i.text)"
   ]
  },
  {
   "cell_type": "code",
   "execution_count": 126,
   "id": "f78e0baf",
   "metadata": {},
   "outputs": [],
   "source": [
    "price25 = []\n",
    "\n",
    "for i in driver.find_elements(By.XPATH,'//span[@class=\"_1zgtX\"]'):\n",
    "    price25.append(i.text)"
   ]
  },
  {
   "cell_type": "code",
   "execution_count": null,
   "id": "7f66f2e1",
   "metadata": {},
   "outputs": [],
   "source": []
  },
  {
   "cell_type": "code",
   "execution_count": null,
   "id": "60df7e7c",
   "metadata": {},
   "outputs": [],
   "source": []
  },
  {
   "cell_type": "code",
   "execution_count": null,
   "id": "3259769a",
   "metadata": {},
   "outputs": [],
   "source": []
  },
  {
   "cell_type": "code",
   "execution_count": 142,
   "id": "265516ff",
   "metadata": {},
   "outputs": [],
   "source": [
    "brand_check = driver.find_element(By.XPATH,'/html/body/div/div/main/div/div/section/div/div[2]/div[5]/div[1]/div/div[3]/div[2]/div[2]/div[3]/div[2]/div/div[4]/div/input')\n",
    "brand_check.click()"
   ]
  },
  {
   "cell_type": "code",
   "execution_count": 143,
   "id": "22b68e8e",
   "metadata": {},
   "outputs": [],
   "source": [
    "name26 = []\n",
    "\n",
    "for i in driver.find_elements(By.XPATH,'//div[@class=\"_2Gr10\"]'):\n",
    "    name26.append(i.text)"
   ]
  },
  {
   "cell_type": "code",
   "execution_count": 144,
   "id": "c21383c4",
   "metadata": {},
   "outputs": [],
   "source": [
    "place26 = []\n",
    "\n",
    "for i in driver.find_elements(By.XPATH,'//div[@class=\"_3VRSm\"]'):\n",
    "    place26.append(i.text)"
   ]
  },
  {
   "cell_type": "code",
   "execution_count": 145,
   "id": "1774ec63",
   "metadata": {},
   "outputs": [],
   "source": [
    "kms26 = []\n",
    "\n",
    "for i in driver.find_elements(By.XPATH,'//div[@class=\"_21gnE\"]'):\n",
    "    kms26.append(i.text)"
   ]
  },
  {
   "cell_type": "code",
   "execution_count": 146,
   "id": "944f6e4b",
   "metadata": {},
   "outputs": [],
   "source": [
    "price26 = []\n",
    "\n",
    "for i in driver.find_elements(By.XPATH,'//span[@class=\"_1zgtX\"]'):\n",
    "    price26.append(i.text)"
   ]
  },
  {
   "cell_type": "code",
   "execution_count": null,
   "id": "1c345520",
   "metadata": {},
   "outputs": [],
   "source": []
  },
  {
   "cell_type": "code",
   "execution_count": null,
   "id": "81eda2e8",
   "metadata": {},
   "outputs": [],
   "source": []
  },
  {
   "cell_type": "code",
   "execution_count": 147,
   "id": "e0179797",
   "metadata": {},
   "outputs": [],
   "source": [
    "brand_check = driver.find_element(By.XPATH,'/html/body/div/div/main/div/div/section/div/div[2]/div[5]/div[1]/div/div[3]/div[2]/div[2]/div[3]/div[2]/div/div[5]/div/input')\n",
    "brand_check.click()"
   ]
  },
  {
   "cell_type": "code",
   "execution_count": 148,
   "id": "b1aefa34",
   "metadata": {},
   "outputs": [],
   "source": [
    "name27 = []\n",
    "\n",
    "for i in driver.find_elements(By.XPATH,'//div[@class=\"_2Gr10\"]'):\n",
    "    name27.append(i.text)"
   ]
  },
  {
   "cell_type": "code",
   "execution_count": 149,
   "id": "1c629726",
   "metadata": {},
   "outputs": [],
   "source": [
    "place27 = []\n",
    "\n",
    "for i in driver.find_elements(By.XPATH,'//div[@class=\"_3VRSm\"]'):\n",
    "    place27.append(i.text)"
   ]
  },
  {
   "cell_type": "code",
   "execution_count": 150,
   "id": "c1af68d5",
   "metadata": {},
   "outputs": [],
   "source": [
    "kms27 = []\n",
    "\n",
    "for i in driver.find_elements(By.XPATH,'//div[@class=\"_21gnE\"]'):\n",
    "    kms27.append(i.text)"
   ]
  },
  {
   "cell_type": "code",
   "execution_count": 151,
   "id": "8b2dd77e",
   "metadata": {},
   "outputs": [],
   "source": [
    "price27 = []\n",
    "\n",
    "for i in driver.find_elements(By.XPATH,'//span[@class=\"_1zgtX\"]'):\n",
    "    price27.append(i.text)"
   ]
  },
  {
   "cell_type": "code",
   "execution_count": 213,
   "id": "3f9d154d",
   "metadata": {},
   "outputs": [],
   "source": [
    "driver.close()"
   ]
  },
  {
   "cell_type": "code",
   "execution_count": null,
   "id": "e8951061",
   "metadata": {},
   "outputs": [],
   "source": []
  },
  {
   "cell_type": "code",
   "execution_count": null,
   "id": "1c5025ad",
   "metadata": {},
   "outputs": [],
   "source": []
  },
  {
   "cell_type": "code",
   "execution_count": 188,
   "id": "4338b332",
   "metadata": {},
   "outputs": [],
   "source": [
    "df1 = pd.DataFrame({'Car':name1,'Place':place1,'Kms':kms1,'Price':price1})\n",
    "df2 = pd.DataFrame({'Car':name2,'Place':place2,'Kms':kms2,'Price':price2})\n",
    "df3 = pd.DataFrame({'Car':name3,'Place':place3,'Kms':kms3,'Price':price3})\n",
    "df4 = pd.DataFrame({'Car':name4,'Place':place4,'Kms':kms4,'Price':price4})\n",
    "df5 = pd.DataFrame({'Car':name5,'Place':place5,'Kms':kms5,'Price':price5})\n",
    "df6 = pd.DataFrame({'Car':name6,'Place':place6,'Kms':kms6,'Price':price6})\n",
    "df7 = pd.DataFrame({'Car':name7,'Place':place7,'Kms':kms7,'Price':price7})\n",
    "df8 = pd.DataFrame({'Car':name8,'Place':place8,'Kms':kms8,'Price':price8})\n",
    "df9 = pd.DataFrame({'Car':name9,'Place':place9,'Kms':kms9,'Price':price9})\n",
    "df10 = pd.DataFrame({'Car':name10,'Place':place10,'Kms':kms10,'Price':price10})\n",
    "df11 = pd.DataFrame({'Car':name11,'Place':place11,'Kms':kms11,'Price':price11})\n",
    "df12 = pd.DataFrame({'Car':name12,'Place':place12,'Kms':kms12,'Price':price12})\n",
    "df13 = pd.DataFrame({'Car':name13,'Place':place13,'Kms':kms13,'Price':price13})\n",
    "df14 = pd.DataFrame({'Car':name14,'Place':place14,'Kms':kms14,'Price':price14})\n",
    "df15 = pd.DataFrame({'Car':name15,'Place':place15,'Kms':kms15,'Price':price15})\n",
    "df16 = pd.DataFrame({'Car':name16,'Place':place16,'Kms':kms16,'Price':price16})\n",
    "df17 = pd.DataFrame({'Car':name17,'Place':place17,'Kms':kms17,'Price':price17})\n",
    "df18 = pd.DataFrame({'Car':name18,'Place':place18,'Kms':kms18,'Price':price18})\n",
    "df19 = pd.DataFrame({'Car':name19,'Place':place19,'Kms':kms19,'Price':price19})\n",
    "df20 = pd.DataFrame({'Car':name20,'Place':place20,'Kms':kms20,'Price':price20})\n",
    "\n",
    "df21 = pd.DataFrame({'Car':name21,'Place':place21,'Kms':kms21,'Price':price21})\n",
    "df22 = pd.DataFrame({'Car':name22,'Place':place22,'Kms':kms22,'Price':price22})\n",
    "df23 = pd.DataFrame({'Car':name23,'Place':place23,'Kms':kms23,'Price':price23})\n",
    "df24 = pd.DataFrame({'Car':name24,'Place':place24,'Kms':kms24,'Price':price24})\n",
    "df25 = pd.DataFrame({'Car':name25,'Place':place25,'Kms':kms25,'Price':price25})\n",
    "df26 = pd.DataFrame({'Car':name26,'Place':place26,'Kms':kms26,'Price':price26})\n",
    "df27 = pd.DataFrame({'Car':name27,'Place':place27,'Kms':kms27,'Price':price27})\n"
   ]
  },
  {
   "cell_type": "code",
   "execution_count": 189,
   "id": "901474b8",
   "metadata": {},
   "outputs": [],
   "source": [
    "df = pd.concat([df1,df2,df3,df4,df5,df6,df7,df8,df9,df10,df11,df12,df13,df14,df15,df16,df17,df18,df19,df20,df21,df22,df23,df24,df25,df26,df27])"
   ]
  },
  {
   "cell_type": "code",
   "execution_count": 191,
   "id": "b98e7aab",
   "metadata": {},
   "outputs": [],
   "source": [
    "df.to_csv('C:/Users/user/cardata5.csv')"
   ]
  },
  {
   "cell_type": "code",
   "execution_count": null,
   "id": "15ec2717",
   "metadata": {},
   "outputs": [],
   "source": []
  },
  {
   "cell_type": "code",
   "execution_count": null,
   "id": "ab022f68",
   "metadata": {},
   "outputs": [],
   "source": []
  },
  {
   "cell_type": "code",
   "execution_count": 192,
   "id": "25f35f02",
   "metadata": {},
   "outputs": [],
   "source": [
    "a1 = pd.read_csv('cardata.csv')\n",
    "a2 = pd.read_csv('cardata1.csv')\n",
    "a3 = pd.read_csv('cardata2.csv')\n",
    "a4 = pd.read_csv('cardata3.csv')\n",
    "a5 = pd.read_csv('cardata4.csv')\n",
    "a6 = pd.read_csv('cardata5.csv')"
   ]
  },
  {
   "cell_type": "code",
   "execution_count": 193,
   "id": "1dc61840",
   "metadata": {},
   "outputs": [
    {
     "data": {
      "text/html": [
       "<div>\n",
       "<style scoped>\n",
       "    .dataframe tbody tr th:only-of-type {\n",
       "        vertical-align: middle;\n",
       "    }\n",
       "\n",
       "    .dataframe tbody tr th {\n",
       "        vertical-align: top;\n",
       "    }\n",
       "\n",
       "    .dataframe thead th {\n",
       "        text-align: right;\n",
       "    }\n",
       "</style>\n",
       "<table border=\"1\" class=\"dataframe\">\n",
       "  <thead>\n",
       "    <tr style=\"text-align: right;\">\n",
       "      <th></th>\n",
       "      <th>Unnamed: 0.1</th>\n",
       "      <th>Unnamed: 0</th>\n",
       "      <th>Car</th>\n",
       "      <th>Place</th>\n",
       "      <th>Kms</th>\n",
       "      <th>Price</th>\n",
       "    </tr>\n",
       "  </thead>\n",
       "  <tbody>\n",
       "    <tr>\n",
       "      <th>0</th>\n",
       "      <td>0</td>\n",
       "      <td>0</td>\n",
       "      <td>Tata Tiago</td>\n",
       "      <td>Rohini Sector 7\\nJan 20</td>\n",
       "      <td>2017 - 52,000 km</td>\n",
       "      <td>₹ 3,35,000</td>\n",
       "    </tr>\n",
       "    <tr>\n",
       "      <th>1</th>\n",
       "      <td>1</td>\n",
       "      <td>1</td>\n",
       "      <td>Honda Amaze</td>\n",
       "      <td>Rohini Sector 7\\nMay 28</td>\n",
       "      <td>2016 - 55000.0 km</td>\n",
       "      <td>₹ 4,00,000</td>\n",
       "    </tr>\n",
       "    <tr>\n",
       "      <th>2</th>\n",
       "      <td>2</td>\n",
       "      <td>2</td>\n",
       "      <td>Hyundai Creta</td>\n",
       "      <td>Tilak Nagar\\nJan 14</td>\n",
       "      <td>2018 - 43,950 km</td>\n",
       "      <td>₹ 8,99,000</td>\n",
       "    </tr>\n",
       "    <tr>\n",
       "      <th>3</th>\n",
       "      <td>3</td>\n",
       "      <td>3</td>\n",
       "      <td>Maruti Suzuki Ritz</td>\n",
       "      <td>Kamaruddin Nagar\\nToday</td>\n",
       "      <td>2011 - 110,000 km</td>\n",
       "      <td>₹ 2,00,000</td>\n",
       "    </tr>\n",
       "    <tr>\n",
       "      <th>4</th>\n",
       "      <td>4</td>\n",
       "      <td>4</td>\n",
       "      <td>Maruti Suzuki Vitara-Brezza</td>\n",
       "      <td>Pitampura\\nToday</td>\n",
       "      <td>2018 - 32,500 km</td>\n",
       "      <td>₹ 7,39,000</td>\n",
       "    </tr>\n",
       "    <tr>\n",
       "      <th>...</th>\n",
       "      <td>...</td>\n",
       "      <td>...</td>\n",
       "      <td>...</td>\n",
       "      <td>...</td>\n",
       "      <td>...</td>\n",
       "      <td>...</td>\n",
       "    </tr>\n",
       "    <tr>\n",
       "      <th>1595</th>\n",
       "      <td>795</td>\n",
       "      <td>35</td>\n",
       "      <td>Jaguar XE</td>\n",
       "      <td>Janakpuri\\nJan 15</td>\n",
       "      <td>2017 - 52,000 km</td>\n",
       "      <td>₹ 24,50,000</td>\n",
       "    </tr>\n",
       "    <tr>\n",
       "      <th>1596</th>\n",
       "      <td>796</td>\n",
       "      <td>36</td>\n",
       "      <td>Jaguar XF</td>\n",
       "      <td>Janakpuri\\nSep 30</td>\n",
       "      <td>2015 - 51000.0 km</td>\n",
       "      <td>₹ 17,75,000</td>\n",
       "    </tr>\n",
       "    <tr>\n",
       "      <th>1597</th>\n",
       "      <td>797</td>\n",
       "      <td>37</td>\n",
       "      <td>Jaguar XJ</td>\n",
       "      <td>Kirti Nagar\\nToday</td>\n",
       "      <td>2012 - 80000.0 km</td>\n",
       "      <td>₹ 21,50,000</td>\n",
       "    </tr>\n",
       "    <tr>\n",
       "      <th>1598</th>\n",
       "      <td>798</td>\n",
       "      <td>38</td>\n",
       "      <td>Jaguar XF</td>\n",
       "      <td>Saraswati Garden\\nToday</td>\n",
       "      <td>2015 - 15,000 km</td>\n",
       "      <td>₹ 17,99,999</td>\n",
       "    </tr>\n",
       "    <tr>\n",
       "      <th>1599</th>\n",
       "      <td>799</td>\n",
       "      <td>39</td>\n",
       "      <td>Jaguar XF</td>\n",
       "      <td>Saraswati Garden\\nToday</td>\n",
       "      <td>2015 - 20,000 km</td>\n",
       "      <td>₹ 17,99,999</td>\n",
       "    </tr>\n",
       "  </tbody>\n",
       "</table>\n",
       "<p>1600 rows × 6 columns</p>\n",
       "</div>"
      ],
      "text/plain": [
       "      Unnamed: 0.1  Unnamed: 0                          Car  \\\n",
       "0                0           0                   Tata Tiago   \n",
       "1                1           1                  Honda Amaze   \n",
       "2                2           2                Hyundai Creta   \n",
       "3                3           3           Maruti Suzuki Ritz   \n",
       "4                4           4  Maruti Suzuki Vitara-Brezza   \n",
       "...            ...         ...                          ...   \n",
       "1595           795          35                    Jaguar XE   \n",
       "1596           796          36                    Jaguar XF   \n",
       "1597           797          37                    Jaguar XJ   \n",
       "1598           798          38                    Jaguar XF   \n",
       "1599           799          39                    Jaguar XF   \n",
       "\n",
       "                        Place                Kms        Price  \n",
       "0     Rohini Sector 7\\nJan 20   2017 - 52,000 km   ₹ 3,35,000  \n",
       "1     Rohini Sector 7\\nMay 28  2016 - 55000.0 km   ₹ 4,00,000  \n",
       "2         Tilak Nagar\\nJan 14   2018 - 43,950 km   ₹ 8,99,000  \n",
       "3     Kamaruddin Nagar\\nToday  2011 - 110,000 km   ₹ 2,00,000  \n",
       "4            Pitampura\\nToday   2018 - 32,500 km   ₹ 7,39,000  \n",
       "...                       ...                ...          ...  \n",
       "1595        Janakpuri\\nJan 15   2017 - 52,000 km  ₹ 24,50,000  \n",
       "1596        Janakpuri\\nSep 30  2015 - 51000.0 km  ₹ 17,75,000  \n",
       "1597       Kirti Nagar\\nToday  2012 - 80000.0 km  ₹ 21,50,000  \n",
       "1598  Saraswati Garden\\nToday   2015 - 15,000 km  ₹ 17,99,999  \n",
       "1599  Saraswati Garden\\nToday   2015 - 20,000 km  ₹ 17,99,999  \n",
       "\n",
       "[1600 rows x 6 columns]"
      ]
     },
     "execution_count": 193,
     "metadata": {},
     "output_type": "execute_result"
    }
   ],
   "source": [
    "a1"
   ]
  },
  {
   "cell_type": "code",
   "execution_count": 195,
   "id": "75b6c24d",
   "metadata": {},
   "outputs": [
    {
     "data": {
      "text/html": [
       "<div>\n",
       "<style scoped>\n",
       "    .dataframe tbody tr th:only-of-type {\n",
       "        vertical-align: middle;\n",
       "    }\n",
       "\n",
       "    .dataframe tbody tr th {\n",
       "        vertical-align: top;\n",
       "    }\n",
       "\n",
       "    .dataframe thead th {\n",
       "        text-align: right;\n",
       "    }\n",
       "</style>\n",
       "<table border=\"1\" class=\"dataframe\">\n",
       "  <thead>\n",
       "    <tr style=\"text-align: right;\">\n",
       "      <th></th>\n",
       "      <th>Unnamed: 0</th>\n",
       "      <th>Car</th>\n",
       "      <th>Place</th>\n",
       "      <th>Kms</th>\n",
       "      <th>Price</th>\n",
       "    </tr>\n",
       "  </thead>\n",
       "  <tbody>\n",
       "    <tr>\n",
       "      <th>0</th>\n",
       "      <td>0</td>\n",
       "      <td>Tata EV</td>\n",
       "      <td>Khar West\\n3 days ago</td>\n",
       "      <td>2021 - 16,000 km</td>\n",
       "      <td>₹ 13,40,000</td>\n",
       "    </tr>\n",
       "    <tr>\n",
       "      <th>1</th>\n",
       "      <td>1</td>\n",
       "      <td>Maruti Suzuki Wagon-R</td>\n",
       "      <td>Chembur\\n7 days ago</td>\n",
       "      <td>2019 - 19,894 km</td>\n",
       "      <td>₹ 5,95,000</td>\n",
       "    </tr>\n",
       "    <tr>\n",
       "      <th>2</th>\n",
       "      <td>2</td>\n",
       "      <td>Audi A8 L</td>\n",
       "      <td>Khar West\\nDec 23</td>\n",
       "      <td>2012 - 58000.0 km</td>\n",
       "      <td>₹ 23,90,000</td>\n",
       "    </tr>\n",
       "    <tr>\n",
       "      <th>3</th>\n",
       "      <td>3</td>\n",
       "      <td>Tata Harrier</td>\n",
       "      <td>Matunga Road\\nToday</td>\n",
       "      <td>2019 - 36,800 km</td>\n",
       "      <td>₹ 12,75,000</td>\n",
       "    </tr>\n",
       "    <tr>\n",
       "      <th>4</th>\n",
       "      <td>4</td>\n",
       "      <td>Mercedes-Benz E-Class</td>\n",
       "      <td>Bandra West\\nToday</td>\n",
       "      <td>2018 - 15564.0 km</td>\n",
       "      <td>₹ 47,00,000</td>\n",
       "    </tr>\n",
       "    <tr>\n",
       "      <th>...</th>\n",
       "      <td>...</td>\n",
       "      <td>...</td>\n",
       "      <td>...</td>\n",
       "      <td>...</td>\n",
       "      <td>...</td>\n",
       "    </tr>\n",
       "    <tr>\n",
       "      <th>795</th>\n",
       "      <td>35</td>\n",
       "      <td>MG Hector Plus</td>\n",
       "      <td>Andheri West\\n3 days ago</td>\n",
       "      <td>2019 - 16,970 km</td>\n",
       "      <td>₹ 16,30,000</td>\n",
       "    </tr>\n",
       "    <tr>\n",
       "      <th>796</th>\n",
       "      <td>36</td>\n",
       "      <td>MG Hector</td>\n",
       "      <td>Andheri West\\n5 days ago</td>\n",
       "      <td>2020 - 33,000 km</td>\n",
       "      <td>₹ 16,75,000</td>\n",
       "    </tr>\n",
       "    <tr>\n",
       "      <th>797</th>\n",
       "      <td>37</td>\n",
       "      <td>MG Hector</td>\n",
       "      <td>Sewri\\n5 days ago</td>\n",
       "      <td>2021 - 16,000 km</td>\n",
       "      <td>₹ 17,00,000</td>\n",
       "    </tr>\n",
       "    <tr>\n",
       "      <th>798</th>\n",
       "      <td>38</td>\n",
       "      <td>MG Hector</td>\n",
       "      <td>Powai\\n5 days ago</td>\n",
       "      <td>2019 - 36,000 km</td>\n",
       "      <td>₹ 16,25,000</td>\n",
       "    </tr>\n",
       "    <tr>\n",
       "      <th>799</th>\n",
       "      <td>39</td>\n",
       "      <td>MG Hector</td>\n",
       "      <td>Oshiwara\\n7 days ago</td>\n",
       "      <td>2019 - 40,000 km</td>\n",
       "      <td>₹ 13,00,000</td>\n",
       "    </tr>\n",
       "  </tbody>\n",
       "</table>\n",
       "<p>800 rows × 5 columns</p>\n",
       "</div>"
      ],
      "text/plain": [
       "     Unnamed: 0                    Car                     Place  \\\n",
       "0             0                Tata EV     Khar West\\n3 days ago   \n",
       "1             1  Maruti Suzuki Wagon-R       Chembur\\n7 days ago   \n",
       "2             2              Audi A8 L         Khar West\\nDec 23   \n",
       "3             3           Tata Harrier       Matunga Road\\nToday   \n",
       "4             4  Mercedes-Benz E-Class        Bandra West\\nToday   \n",
       "..          ...                    ...                       ...   \n",
       "795          35         MG Hector Plus  Andheri West\\n3 days ago   \n",
       "796          36              MG Hector  Andheri West\\n5 days ago   \n",
       "797          37              MG Hector         Sewri\\n5 days ago   \n",
       "798          38              MG Hector         Powai\\n5 days ago   \n",
       "799          39              MG Hector      Oshiwara\\n7 days ago   \n",
       "\n",
       "                   Kms        Price  \n",
       "0     2021 - 16,000 km  ₹ 13,40,000  \n",
       "1     2019 - 19,894 km   ₹ 5,95,000  \n",
       "2    2012 - 58000.0 km  ₹ 23,90,000  \n",
       "3     2019 - 36,800 km  ₹ 12,75,000  \n",
       "4    2018 - 15564.0 km  ₹ 47,00,000  \n",
       "..                 ...          ...  \n",
       "795   2019 - 16,970 km  ₹ 16,30,000  \n",
       "796   2020 - 33,000 km  ₹ 16,75,000  \n",
       "797   2021 - 16,000 km  ₹ 17,00,000  \n",
       "798   2019 - 36,000 km  ₹ 16,25,000  \n",
       "799   2019 - 40,000 km  ₹ 13,00,000  \n",
       "\n",
       "[800 rows x 5 columns]"
      ]
     },
     "execution_count": 195,
     "metadata": {},
     "output_type": "execute_result"
    }
   ],
   "source": [
    "a3"
   ]
  },
  {
   "cell_type": "code",
   "execution_count": 196,
   "id": "b4d2fa78",
   "metadata": {},
   "outputs": [
    {
     "data": {
      "text/html": [
       "<div>\n",
       "<style scoped>\n",
       "    .dataframe tbody tr th:only-of-type {\n",
       "        vertical-align: middle;\n",
       "    }\n",
       "\n",
       "    .dataframe tbody tr th {\n",
       "        vertical-align: top;\n",
       "    }\n",
       "\n",
       "    .dataframe thead th {\n",
       "        text-align: right;\n",
       "    }\n",
       "</style>\n",
       "<table border=\"1\" class=\"dataframe\">\n",
       "  <thead>\n",
       "    <tr style=\"text-align: right;\">\n",
       "      <th></th>\n",
       "      <th>Unnamed: 0</th>\n",
       "      <th>Car</th>\n",
       "      <th>Place</th>\n",
       "      <th>Kms</th>\n",
       "      <th>Price</th>\n",
       "    </tr>\n",
       "  </thead>\n",
       "  <tbody>\n",
       "    <tr>\n",
       "      <th>0</th>\n",
       "      <td>0</td>\n",
       "      <td>Hyundai Santa Fe</td>\n",
       "      <td>Madhapur\\nJan 22</td>\n",
       "      <td>2011 - 127723.0 km</td>\n",
       "      <td>₹ 6,95,000</td>\n",
       "    </tr>\n",
       "    <tr>\n",
       "      <th>1</th>\n",
       "      <td>1</td>\n",
       "      <td>Hyundai i20</td>\n",
       "      <td>Madhapur\\nDec 07</td>\n",
       "      <td>2013 - 81057.0 km</td>\n",
       "      <td>₹ 3,85,000</td>\n",
       "    </tr>\n",
       "    <tr>\n",
       "      <th>2</th>\n",
       "      <td>2</td>\n",
       "      <td>Maruti Suzuki S-Cross</td>\n",
       "      <td>Madhapur\\nNov 20</td>\n",
       "      <td>2017 - 80000.0 km</td>\n",
       "      <td>₹ 8,90,000</td>\n",
       "    </tr>\n",
       "    <tr>\n",
       "      <th>3</th>\n",
       "      <td>3</td>\n",
       "      <td>Maruti Suzuki Wagon R 1.0</td>\n",
       "      <td>Old Bowenpally\\nToday</td>\n",
       "      <td>2012 - 65000.0 km</td>\n",
       "      <td>₹ 2,95,000</td>\n",
       "    </tr>\n",
       "    <tr>\n",
       "      <th>4</th>\n",
       "      <td>4</td>\n",
       "      <td>Hyundai New Santro</td>\n",
       "      <td>Old Bowenpally\\nToday</td>\n",
       "      <td>2019 - 30000.0 km</td>\n",
       "      <td>₹ 5,65,000</td>\n",
       "    </tr>\n",
       "    <tr>\n",
       "      <th>...</th>\n",
       "      <td>...</td>\n",
       "      <td>...</td>\n",
       "      <td>...</td>\n",
       "      <td>...</td>\n",
       "      <td>...</td>\n",
       "    </tr>\n",
       "    <tr>\n",
       "      <th>795</th>\n",
       "      <td>35</td>\n",
       "      <td>Land Rover Range Rover</td>\n",
       "      <td>Basheer Bagh\\n4 days ago</td>\n",
       "      <td>2010 - 140,000 km</td>\n",
       "      <td>₹ 19,90,000</td>\n",
       "    </tr>\n",
       "    <tr>\n",
       "      <th>796</th>\n",
       "      <td>36</td>\n",
       "      <td>Land Rover Discovery Sport</td>\n",
       "      <td>Film Nagar\\nJan 05</td>\n",
       "      <td>2020 - 27000.0 km</td>\n",
       "      <td>₹ 65,00,000</td>\n",
       "    </tr>\n",
       "    <tr>\n",
       "      <th>797</th>\n",
       "      <td>37</td>\n",
       "      <td>Land Rover Discovery Sport</td>\n",
       "      <td>Gachibowli\\nJan 12</td>\n",
       "      <td>2017 - 19000.0 km</td>\n",
       "      <td>₹ 47,00,000</td>\n",
       "    </tr>\n",
       "    <tr>\n",
       "      <th>798</th>\n",
       "      <td>38</td>\n",
       "      <td>Land Rover Discovery Sport</td>\n",
       "      <td>Film Nagar\\nJan 13</td>\n",
       "      <td>2018 - 54000.0 km</td>\n",
       "      <td>₹ 45,00,000</td>\n",
       "    </tr>\n",
       "    <tr>\n",
       "      <th>799</th>\n",
       "      <td>39</td>\n",
       "      <td>Land Rover Freelander 2</td>\n",
       "      <td>Jubilee Hills\\n4 days ago</td>\n",
       "      <td>2013 - 78000.0 km</td>\n",
       "      <td>₹ 13,75,000</td>\n",
       "    </tr>\n",
       "  </tbody>\n",
       "</table>\n",
       "<p>800 rows × 5 columns</p>\n",
       "</div>"
      ],
      "text/plain": [
       "     Unnamed: 0                         Car                      Place  \\\n",
       "0             0            Hyundai Santa Fe           Madhapur\\nJan 22   \n",
       "1             1                 Hyundai i20           Madhapur\\nDec 07   \n",
       "2             2       Maruti Suzuki S-Cross           Madhapur\\nNov 20   \n",
       "3             3   Maruti Suzuki Wagon R 1.0      Old Bowenpally\\nToday   \n",
       "4             4          Hyundai New Santro      Old Bowenpally\\nToday   \n",
       "..          ...                         ...                        ...   \n",
       "795          35      Land Rover Range Rover   Basheer Bagh\\n4 days ago   \n",
       "796          36  Land Rover Discovery Sport         Film Nagar\\nJan 05   \n",
       "797          37  Land Rover Discovery Sport         Gachibowli\\nJan 12   \n",
       "798          38  Land Rover Discovery Sport         Film Nagar\\nJan 13   \n",
       "799          39     Land Rover Freelander 2  Jubilee Hills\\n4 days ago   \n",
       "\n",
       "                    Kms        Price  \n",
       "0    2011 - 127723.0 km   ₹ 6,95,000  \n",
       "1     2013 - 81057.0 km   ₹ 3,85,000  \n",
       "2     2017 - 80000.0 km   ₹ 8,90,000  \n",
       "3     2012 - 65000.0 km   ₹ 2,95,000  \n",
       "4     2019 - 30000.0 km   ₹ 5,65,000  \n",
       "..                  ...          ...  \n",
       "795   2010 - 140,000 km  ₹ 19,90,000  \n",
       "796   2020 - 27000.0 km  ₹ 65,00,000  \n",
       "797   2017 - 19000.0 km  ₹ 47,00,000  \n",
       "798   2018 - 54000.0 km  ₹ 45,00,000  \n",
       "799   2013 - 78000.0 km  ₹ 13,75,000  \n",
       "\n",
       "[800 rows x 5 columns]"
      ]
     },
     "execution_count": 196,
     "metadata": {},
     "output_type": "execute_result"
    }
   ],
   "source": [
    "a4"
   ]
  },
  {
   "cell_type": "code",
   "execution_count": 197,
   "id": "283dc74c",
   "metadata": {},
   "outputs": [
    {
     "data": {
      "text/html": [
       "<div>\n",
       "<style scoped>\n",
       "    .dataframe tbody tr th:only-of-type {\n",
       "        vertical-align: middle;\n",
       "    }\n",
       "\n",
       "    .dataframe tbody tr th {\n",
       "        vertical-align: top;\n",
       "    }\n",
       "\n",
       "    .dataframe thead th {\n",
       "        text-align: right;\n",
       "    }\n",
       "</style>\n",
       "<table border=\"1\" class=\"dataframe\">\n",
       "  <thead>\n",
       "    <tr style=\"text-align: right;\">\n",
       "      <th></th>\n",
       "      <th>Unnamed: 0</th>\n",
       "      <th>Car</th>\n",
       "      <th>Place</th>\n",
       "      <th>Kms</th>\n",
       "      <th>Price</th>\n",
       "    </tr>\n",
       "  </thead>\n",
       "  <tbody>\n",
       "    <tr>\n",
       "      <th>0</th>\n",
       "      <td>0</td>\n",
       "      <td>Tata Tiago</td>\n",
       "      <td>Sector 31\\nJan 01</td>\n",
       "      <td>2018 - 59000.0 km</td>\n",
       "      <td>₹ 4,90,000</td>\n",
       "    </tr>\n",
       "    <tr>\n",
       "      <th>1</th>\n",
       "      <td>1</td>\n",
       "      <td>Toyota Fortuner</td>\n",
       "      <td>Sector 31\\nJul 23</td>\n",
       "      <td>2011 - 79000.0 km</td>\n",
       "      <td>₹ 7,90,000</td>\n",
       "    </tr>\n",
       "    <tr>\n",
       "      <th>2</th>\n",
       "      <td>2</td>\n",
       "      <td>Mercedes-Benz E-Class</td>\n",
       "      <td>Sector 104\\nOct 17</td>\n",
       "      <td>2017 - 76000.0 km</td>\n",
       "      <td>₹ 39,51,000</td>\n",
       "    </tr>\n",
       "    <tr>\n",
       "      <th>3</th>\n",
       "      <td>3</td>\n",
       "      <td>Jaguar XF</td>\n",
       "      <td>Noida Extension\\nToday</td>\n",
       "      <td>2014 - 18000.0 km</td>\n",
       "      <td>₹ 18,50,000</td>\n",
       "    </tr>\n",
       "    <tr>\n",
       "      <th>4</th>\n",
       "      <td>4</td>\n",
       "      <td>Audi Q5</td>\n",
       "      <td>Sector 40\\nToday</td>\n",
       "      <td>2013 - 60,500 km</td>\n",
       "      <td>₹ 14,99,999</td>\n",
       "    </tr>\n",
       "    <tr>\n",
       "      <th>...</th>\n",
       "      <td>...</td>\n",
       "      <td>...</td>\n",
       "      <td>...</td>\n",
       "      <td>...</td>\n",
       "      <td>...</td>\n",
       "    </tr>\n",
       "    <tr>\n",
       "      <th>795</th>\n",
       "      <td>35</td>\n",
       "      <td>Jaguar XF</td>\n",
       "      <td>East Of Kailash\\nYesterday</td>\n",
       "      <td>2010 - 50,000 km</td>\n",
       "      <td>₹ 10,99,999</td>\n",
       "    </tr>\n",
       "    <tr>\n",
       "      <th>796</th>\n",
       "      <td>36</td>\n",
       "      <td>Jaguar XF</td>\n",
       "      <td>Greater Kailash 2\\nYesterday</td>\n",
       "      <td>2014 - 4500.0 km</td>\n",
       "      <td>₹ 19,90,000</td>\n",
       "    </tr>\n",
       "    <tr>\n",
       "      <th>797</th>\n",
       "      <td>37</td>\n",
       "      <td>Jaguar XE</td>\n",
       "      <td>South Extension\\nJan 23</td>\n",
       "      <td>2016 - 33,000 km</td>\n",
       "      <td>₹ 27,90,000</td>\n",
       "    </tr>\n",
       "    <tr>\n",
       "      <th>798</th>\n",
       "      <td>38</td>\n",
       "      <td>Jaguar XJ</td>\n",
       "      <td>South Extension\\nJan 15</td>\n",
       "      <td>2016 - 19200.0 km</td>\n",
       "      <td>₹ 48,40,000</td>\n",
       "    </tr>\n",
       "    <tr>\n",
       "      <th>799</th>\n",
       "      <td>39</td>\n",
       "      <td>Jaguar XF</td>\n",
       "      <td>South Extension\\nJan 15</td>\n",
       "      <td>2014 - 18100.0 km</td>\n",
       "      <td>₹ 18,49,000</td>\n",
       "    </tr>\n",
       "  </tbody>\n",
       "</table>\n",
       "<p>800 rows × 5 columns</p>\n",
       "</div>"
      ],
      "text/plain": [
       "     Unnamed: 0                    Car                         Place  \\\n",
       "0             0             Tata Tiago             Sector 31\\nJan 01   \n",
       "1             1        Toyota Fortuner             Sector 31\\nJul 23   \n",
       "2             2  Mercedes-Benz E-Class            Sector 104\\nOct 17   \n",
       "3             3              Jaguar XF        Noida Extension\\nToday   \n",
       "4             4                Audi Q5              Sector 40\\nToday   \n",
       "..          ...                    ...                           ...   \n",
       "795          35              Jaguar XF    East Of Kailash\\nYesterday   \n",
       "796          36              Jaguar XF  Greater Kailash 2\\nYesterday   \n",
       "797          37              Jaguar XE       South Extension\\nJan 23   \n",
       "798          38              Jaguar XJ       South Extension\\nJan 15   \n",
       "799          39              Jaguar XF       South Extension\\nJan 15   \n",
       "\n",
       "                   Kms        Price  \n",
       "0    2018 - 59000.0 km   ₹ 4,90,000  \n",
       "1    2011 - 79000.0 km   ₹ 7,90,000  \n",
       "2    2017 - 76000.0 km  ₹ 39,51,000  \n",
       "3    2014 - 18000.0 km  ₹ 18,50,000  \n",
       "4     2013 - 60,500 km  ₹ 14,99,999  \n",
       "..                 ...          ...  \n",
       "795   2010 - 50,000 km  ₹ 10,99,999  \n",
       "796   2014 - 4500.0 km  ₹ 19,90,000  \n",
       "797   2016 - 33,000 km  ₹ 27,90,000  \n",
       "798  2016 - 19200.0 km  ₹ 48,40,000  \n",
       "799  2014 - 18100.0 km  ₹ 18,49,000  \n",
       "\n",
       "[800 rows x 5 columns]"
      ]
     },
     "execution_count": 197,
     "metadata": {},
     "output_type": "execute_result"
    }
   ],
   "source": [
    "a5"
   ]
  },
  {
   "cell_type": "code",
   "execution_count": 198,
   "id": "4285f02b",
   "metadata": {},
   "outputs": [
    {
     "data": {
      "text/html": [
       "<div>\n",
       "<style scoped>\n",
       "    .dataframe tbody tr th:only-of-type {\n",
       "        vertical-align: middle;\n",
       "    }\n",
       "\n",
       "    .dataframe tbody tr th {\n",
       "        vertical-align: top;\n",
       "    }\n",
       "\n",
       "    .dataframe thead th {\n",
       "        text-align: right;\n",
       "    }\n",
       "</style>\n",
       "<table border=\"1\" class=\"dataframe\">\n",
       "  <thead>\n",
       "    <tr style=\"text-align: right;\">\n",
       "      <th></th>\n",
       "      <th>Unnamed: 0</th>\n",
       "      <th>Car</th>\n",
       "      <th>Place</th>\n",
       "      <th>Kms</th>\n",
       "      <th>Price</th>\n",
       "    </tr>\n",
       "  </thead>\n",
       "  <tbody>\n",
       "    <tr>\n",
       "      <th>0</th>\n",
       "      <td>0</td>\n",
       "      <td>Honda City</td>\n",
       "      <td>Abu Lane\\nJan 12</td>\n",
       "      <td>2018 - 24000.0 km</td>\n",
       "      <td>₹ 8,90,000</td>\n",
       "    </tr>\n",
       "    <tr>\n",
       "      <th>1</th>\n",
       "      <td>1</td>\n",
       "      <td>Mahindra KUV 100</td>\n",
       "      <td>Meerut Cantonment Residential Area</td>\n",
       "      <td>2018 - 65000.0 km</td>\n",
       "      <td>₹ 3,50,000</td>\n",
       "    </tr>\n",
       "    <tr>\n",
       "      <th>2</th>\n",
       "      <td>2</td>\n",
       "      <td>Volkswagen Polo</td>\n",
       "      <td>Dhyan Chand Sports Colony\\nJan 18</td>\n",
       "      <td>2015 - 69000.0 km</td>\n",
       "      <td>₹ 3,95,000</td>\n",
       "    </tr>\n",
       "    <tr>\n",
       "      <th>3</th>\n",
       "      <td>3</td>\n",
       "      <td>Maruti Suzuki Swift</td>\n",
       "      <td>Budhana Gate\\nToday</td>\n",
       "      <td>2008 - 117,950 km</td>\n",
       "      <td>₹ 1,10,000</td>\n",
       "    </tr>\n",
       "    <tr>\n",
       "      <th>4</th>\n",
       "      <td>4</td>\n",
       "      <td>Hyundai Santro</td>\n",
       "      <td>Meerut Cantonment Residential Area</td>\n",
       "      <td>2021 - 15000.0 km</td>\n",
       "      <td>₹ 4,50,000</td>\n",
       "    </tr>\n",
       "    <tr>\n",
       "      <th>...</th>\n",
       "      <td>...</td>\n",
       "      <td>...</td>\n",
       "      <td>...</td>\n",
       "      <td>...</td>\n",
       "      <td>...</td>\n",
       "    </tr>\n",
       "    <tr>\n",
       "      <th>1068</th>\n",
       "      <td>35</td>\n",
       "      <td>Fiat Linea</td>\n",
       "      <td>Karol Bagh\\n4 days ago</td>\n",
       "      <td>2014 - 50,000 km</td>\n",
       "      <td>₹ 3,20,000</td>\n",
       "    </tr>\n",
       "    <tr>\n",
       "      <th>1069</th>\n",
       "      <td>36</td>\n",
       "      <td>Fiat Linea</td>\n",
       "      <td>Haqikat Nagar\\n4 days ago</td>\n",
       "      <td>2010 - 80,000 km</td>\n",
       "      <td>₹ 1,85,000</td>\n",
       "    </tr>\n",
       "    <tr>\n",
       "      <th>1070</th>\n",
       "      <td>37</td>\n",
       "      <td>Fiat Linea</td>\n",
       "      <td>Ashok Vihar\\n5 days ago</td>\n",
       "      <td>2009 - 78,000 km</td>\n",
       "      <td>₹ 95,000</td>\n",
       "    </tr>\n",
       "    <tr>\n",
       "      <th>1071</th>\n",
       "      <td>38</td>\n",
       "      <td>Fiat Avventura</td>\n",
       "      <td>Mangolpuri\\n6 days ago</td>\n",
       "      <td>2015 - 84,000 km</td>\n",
       "      <td>₹ 3,45,000</td>\n",
       "    </tr>\n",
       "    <tr>\n",
       "      <th>1072</th>\n",
       "      <td>39</td>\n",
       "      <td>Fiat Punto</td>\n",
       "      <td>Burari\\n7 days ago</td>\n",
       "      <td>2011 - 98,000 km</td>\n",
       "      <td>₹ 1,10,000</td>\n",
       "    </tr>\n",
       "  </tbody>\n",
       "</table>\n",
       "<p>1073 rows × 5 columns</p>\n",
       "</div>"
      ],
      "text/plain": [
       "      Unnamed: 0                  Car                               Place  \\\n",
       "0              0           Honda City                    Abu Lane\\nJan 12   \n",
       "1              1     Mahindra KUV 100  Meerut Cantonment Residential Area   \n",
       "2              2      Volkswagen Polo   Dhyan Chand Sports Colony\\nJan 18   \n",
       "3              3  Maruti Suzuki Swift                 Budhana Gate\\nToday   \n",
       "4              4       Hyundai Santro  Meerut Cantonment Residential Area   \n",
       "...          ...                  ...                                 ...   \n",
       "1068          35           Fiat Linea              Karol Bagh\\n4 days ago   \n",
       "1069          36           Fiat Linea           Haqikat Nagar\\n4 days ago   \n",
       "1070          37           Fiat Linea             Ashok Vihar\\n5 days ago   \n",
       "1071          38       Fiat Avventura              Mangolpuri\\n6 days ago   \n",
       "1072          39           Fiat Punto                  Burari\\n7 days ago   \n",
       "\n",
       "                    Kms       Price  \n",
       "0     2018 - 24000.0 km  ₹ 8,90,000  \n",
       "1     2018 - 65000.0 km  ₹ 3,50,000  \n",
       "2     2015 - 69000.0 km  ₹ 3,95,000  \n",
       "3     2008 - 117,950 km  ₹ 1,10,000  \n",
       "4     2021 - 15000.0 km  ₹ 4,50,000  \n",
       "...                 ...         ...  \n",
       "1068   2014 - 50,000 km  ₹ 3,20,000  \n",
       "1069   2010 - 80,000 km  ₹ 1,85,000  \n",
       "1070   2009 - 78,000 km    ₹ 95,000  \n",
       "1071   2015 - 84,000 km  ₹ 3,45,000  \n",
       "1072   2011 - 98,000 km  ₹ 1,10,000  \n",
       "\n",
       "[1073 rows x 5 columns]"
      ]
     },
     "execution_count": 198,
     "metadata": {},
     "output_type": "execute_result"
    }
   ],
   "source": [
    "a6"
   ]
  },
  {
   "cell_type": "code",
   "execution_count": null,
   "id": "92c8dba0",
   "metadata": {},
   "outputs": [],
   "source": []
  },
  {
   "cell_type": "code",
   "execution_count": 200,
   "id": "d42bac68",
   "metadata": {},
   "outputs": [
    {
     "data": {
      "text/html": [
       "<div>\n",
       "<style scoped>\n",
       "    .dataframe tbody tr th:only-of-type {\n",
       "        vertical-align: middle;\n",
       "    }\n",
       "\n",
       "    .dataframe tbody tr th {\n",
       "        vertical-align: top;\n",
       "    }\n",
       "\n",
       "    .dataframe thead th {\n",
       "        text-align: right;\n",
       "    }\n",
       "</style>\n",
       "<table border=\"1\" class=\"dataframe\">\n",
       "  <thead>\n",
       "    <tr style=\"text-align: right;\">\n",
       "      <th></th>\n",
       "      <th>Unnamed: 0.1</th>\n",
       "      <th>Unnamed: 0</th>\n",
       "      <th>Car</th>\n",
       "      <th>Place</th>\n",
       "      <th>Kms</th>\n",
       "      <th>Price</th>\n",
       "    </tr>\n",
       "  </thead>\n",
       "  <tbody>\n",
       "    <tr>\n",
       "      <th>0</th>\n",
       "      <td>0.0</td>\n",
       "      <td>0</td>\n",
       "      <td>Tata Tiago</td>\n",
       "      <td>Rohini Sector 7\\nJan 20</td>\n",
       "      <td>2017 - 52,000 km</td>\n",
       "      <td>₹ 3,35,000</td>\n",
       "    </tr>\n",
       "    <tr>\n",
       "      <th>1</th>\n",
       "      <td>1.0</td>\n",
       "      <td>1</td>\n",
       "      <td>Honda Amaze</td>\n",
       "      <td>Rohini Sector 7\\nMay 28</td>\n",
       "      <td>2016 - 55000.0 km</td>\n",
       "      <td>₹ 4,00,000</td>\n",
       "    </tr>\n",
       "    <tr>\n",
       "      <th>2</th>\n",
       "      <td>2.0</td>\n",
       "      <td>2</td>\n",
       "      <td>Hyundai Creta</td>\n",
       "      <td>Tilak Nagar\\nJan 14</td>\n",
       "      <td>2018 - 43,950 km</td>\n",
       "      <td>₹ 8,99,000</td>\n",
       "    </tr>\n",
       "    <tr>\n",
       "      <th>3</th>\n",
       "      <td>3.0</td>\n",
       "      <td>3</td>\n",
       "      <td>Maruti Suzuki Ritz</td>\n",
       "      <td>Kamaruddin Nagar\\nToday</td>\n",
       "      <td>2011 - 110,000 km</td>\n",
       "      <td>₹ 2,00,000</td>\n",
       "    </tr>\n",
       "    <tr>\n",
       "      <th>4</th>\n",
       "      <td>4.0</td>\n",
       "      <td>4</td>\n",
       "      <td>Maruti Suzuki Vitara-Brezza</td>\n",
       "      <td>Pitampura\\nToday</td>\n",
       "      <td>2018 - 32,500 km</td>\n",
       "      <td>₹ 7,39,000</td>\n",
       "    </tr>\n",
       "    <tr>\n",
       "      <th>...</th>\n",
       "      <td>...</td>\n",
       "      <td>...</td>\n",
       "      <td>...</td>\n",
       "      <td>...</td>\n",
       "      <td>...</td>\n",
       "      <td>...</td>\n",
       "    </tr>\n",
       "    <tr>\n",
       "      <th>1068</th>\n",
       "      <td>NaN</td>\n",
       "      <td>35</td>\n",
       "      <td>Fiat Linea</td>\n",
       "      <td>Karol Bagh\\n4 days ago</td>\n",
       "      <td>2014 - 50,000 km</td>\n",
       "      <td>₹ 3,20,000</td>\n",
       "    </tr>\n",
       "    <tr>\n",
       "      <th>1069</th>\n",
       "      <td>NaN</td>\n",
       "      <td>36</td>\n",
       "      <td>Fiat Linea</td>\n",
       "      <td>Haqikat Nagar\\n4 days ago</td>\n",
       "      <td>2010 - 80,000 km</td>\n",
       "      <td>₹ 1,85,000</td>\n",
       "    </tr>\n",
       "    <tr>\n",
       "      <th>1070</th>\n",
       "      <td>NaN</td>\n",
       "      <td>37</td>\n",
       "      <td>Fiat Linea</td>\n",
       "      <td>Ashok Vihar\\n5 days ago</td>\n",
       "      <td>2009 - 78,000 km</td>\n",
       "      <td>₹ 95,000</td>\n",
       "    </tr>\n",
       "    <tr>\n",
       "      <th>1071</th>\n",
       "      <td>NaN</td>\n",
       "      <td>38</td>\n",
       "      <td>Fiat Avventura</td>\n",
       "      <td>Mangolpuri\\n6 days ago</td>\n",
       "      <td>2015 - 84,000 km</td>\n",
       "      <td>₹ 3,45,000</td>\n",
       "    </tr>\n",
       "    <tr>\n",
       "      <th>1072</th>\n",
       "      <td>NaN</td>\n",
       "      <td>39</td>\n",
       "      <td>Fiat Punto</td>\n",
       "      <td>Burari\\n7 days ago</td>\n",
       "      <td>2011 - 98,000 km</td>\n",
       "      <td>₹ 1,10,000</td>\n",
       "    </tr>\n",
       "  </tbody>\n",
       "</table>\n",
       "<p>5073 rows × 6 columns</p>\n",
       "</div>"
      ],
      "text/plain": [
       "      Unnamed: 0.1  Unnamed: 0                          Car  \\\n",
       "0              0.0           0                   Tata Tiago   \n",
       "1              1.0           1                  Honda Amaze   \n",
       "2              2.0           2                Hyundai Creta   \n",
       "3              3.0           3           Maruti Suzuki Ritz   \n",
       "4              4.0           4  Maruti Suzuki Vitara-Brezza   \n",
       "...            ...         ...                          ...   \n",
       "1068           NaN          35                   Fiat Linea   \n",
       "1069           NaN          36                   Fiat Linea   \n",
       "1070           NaN          37                   Fiat Linea   \n",
       "1071           NaN          38               Fiat Avventura   \n",
       "1072           NaN          39                   Fiat Punto   \n",
       "\n",
       "                          Place                Kms       Price  \n",
       "0       Rohini Sector 7\\nJan 20   2017 - 52,000 km  ₹ 3,35,000  \n",
       "1       Rohini Sector 7\\nMay 28  2016 - 55000.0 km  ₹ 4,00,000  \n",
       "2           Tilak Nagar\\nJan 14   2018 - 43,950 km  ₹ 8,99,000  \n",
       "3       Kamaruddin Nagar\\nToday  2011 - 110,000 km  ₹ 2,00,000  \n",
       "4              Pitampura\\nToday   2018 - 32,500 km  ₹ 7,39,000  \n",
       "...                         ...                ...         ...  \n",
       "1068     Karol Bagh\\n4 days ago   2014 - 50,000 km  ₹ 3,20,000  \n",
       "1069  Haqikat Nagar\\n4 days ago   2010 - 80,000 km  ₹ 1,85,000  \n",
       "1070    Ashok Vihar\\n5 days ago   2009 - 78,000 km    ₹ 95,000  \n",
       "1071     Mangolpuri\\n6 days ago   2015 - 84,000 km  ₹ 3,45,000  \n",
       "1072         Burari\\n7 days ago   2011 - 98,000 km  ₹ 1,10,000  \n",
       "\n",
       "[5073 rows x 6 columns]"
      ]
     },
     "execution_count": 200,
     "metadata": {},
     "output_type": "execute_result"
    }
   ],
   "source": [
    "dc = pd.concat([a1,a3,a4,a5,a6])\n",
    "dc"
   ]
  },
  {
   "cell_type": "code",
   "execution_count": 210,
   "id": "1910a218",
   "metadata": {},
   "outputs": [],
   "source": [
    "dc = dc.drop(columns=['Unnamed: 0.1','Unnamed: 0'])"
   ]
  },
  {
   "cell_type": "code",
   "execution_count": 211,
   "id": "daba2bdc",
   "metadata": {},
   "outputs": [],
   "source": [
    "dc.to_csv('C:/Users/user/cardatafinal.csv')"
   ]
  },
  {
   "cell_type": "code",
   "execution_count": null,
   "id": "56bbcd85",
   "metadata": {},
   "outputs": [],
   "source": []
  },
  {
   "cell_type": "code",
   "execution_count": null,
   "id": "4b15b6c2",
   "metadata": {},
   "outputs": [],
   "source": []
  },
  {
   "cell_type": "code",
   "execution_count": null,
   "id": "433ac685",
   "metadata": {},
   "outputs": [],
   "source": []
  }
 ],
 "metadata": {
  "kernelspec": {
   "display_name": "Python 3 (ipykernel)",
   "language": "python",
   "name": "python3"
  },
  "language_info": {
   "codemirror_mode": {
    "name": "ipython",
    "version": 3
   },
   "file_extension": ".py",
   "mimetype": "text/x-python",
   "name": "python",
   "nbconvert_exporter": "python",
   "pygments_lexer": "ipython3",
   "version": "3.9.12"
  }
 },
 "nbformat": 4,
 "nbformat_minor": 5
}
