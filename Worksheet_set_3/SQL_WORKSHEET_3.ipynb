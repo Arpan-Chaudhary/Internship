{
 "cells": [
  {
   "cell_type": "code",
   "execution_count": 1,
   "id": "73de5da9",
   "metadata": {},
   "outputs": [],
   "source": [
    "import sqlite3\n",
    "\n",
    "db = sqlite3.connect('Customer_database.db')"
   ]
  },
  {
   "cell_type": "code",
   "execution_count": 2,
   "id": "23c1f17a",
   "metadata": {},
   "outputs": [],
   "source": [
    "cursor = db.cursor()"
   ]
  },
  {
   "cell_type": "code",
   "execution_count": 3,
   "id": "668e4571",
   "metadata": {},
   "outputs": [
    {
     "data": {
      "text/plain": [
       "<sqlite3.Cursor at 0x22617d287a0>"
      ]
     },
     "execution_count": 3,
     "metadata": {},
     "output_type": "execute_result"
    }
   ],
   "source": [
    "cursor.execute('create table Customers(customerNumber int primary key,customerName text,contactLastName text,contactFirstName text,phone int, addressLine1 text,addressLine2 text,city text,state text,postalCode int,country text,salesRepEmployeeNumber int,creditLimit int)')"
   ]
  },
  {
   "cell_type": "code",
   "execution_count": 4,
   "id": "4d8532d6",
   "metadata": {},
   "outputs": [
    {
     "data": {
      "text/plain": [
       "<sqlite3.Cursor at 0x22617d287a0>"
      ]
     },
     "execution_count": 4,
     "metadata": {},
     "output_type": "execute_result"
    }
   ],
   "source": [
    "cursor.execute('create table Orders(orderNumber int primary key,orderDate int,requiredDate int,shippedDate int, status text,comments text,customerNumber int)')"
   ]
  },
  {
   "cell_type": "code",
   "execution_count": 5,
   "id": "f5965247",
   "metadata": {},
   "outputs": [],
   "source": [
    "db.commit()"
   ]
  },
  {
   "cell_type": "code",
   "execution_count": 7,
   "id": "a36ed41f",
   "metadata": {},
   "outputs": [],
   "source": [
    "result = cursor.execute('select * from Orders')\n",
    "\n",
    "for row in result:\n",
    "    print(row)"
   ]
  },
  {
   "cell_type": "code",
   "execution_count": 8,
   "id": "e2bd99b0",
   "metadata": {},
   "outputs": [],
   "source": [
    "a = cursor.execute('select comments from Orders')\n",
    "\n",
    "for row in a:\n",
    "    print(row)"
   ]
  },
  {
   "cell_type": "code",
   "execution_count": 9,
   "id": "b66aba0c",
   "metadata": {},
   "outputs": [],
   "source": [
    "a1 = cursor.execute('select orderDate from Orders')\n",
    "\n",
    "for row in a1:\n",
    "    print(row)\n",
    "    \n",
    "    print(len(row))"
   ]
  },
  {
   "cell_type": "code",
   "execution_count": 10,
   "id": "1f49ae80",
   "metadata": {},
   "outputs": [
    {
     "data": {
      "text/plain": [
       "<sqlite3.Cursor at 0x22617d287a0>"
      ]
     },
     "execution_count": 10,
     "metadata": {},
     "output_type": "execute_result"
    }
   ],
   "source": [
    "cursor.execute('create table employees(employeeNumber int primary key,lastName text,firstName text,extension int,email text,officeCode int,reportsTo text,jobTitle text)')"
   ]
  },
  {
   "cell_type": "code",
   "execution_count": 11,
   "id": "21de9ab7",
   "metadata": {},
   "outputs": [],
   "source": [
    "a2 = cursor.execute('select employeeNumber,lastName,firstName from employees')\n",
    "\n",
    "for row in a2:\n",
    "    print(row)"
   ]
  },
  {
   "cell_type": "code",
   "execution_count": 12,
   "id": "25270b98",
   "metadata": {},
   "outputs": [],
   "source": [
    "a3 = cursor.execute('select orderNumber from Orders')\n",
    "\n",
    "for row in a3:\n",
    "    print(row)"
   ]
  },
  {
   "cell_type": "code",
   "execution_count": 13,
   "id": "a31fdd62",
   "metadata": {},
   "outputs": [],
   "source": [
    "a4 = cursor.execute('select customerName from Customers')\n",
    "\n",
    "for row in a4:\n",
    "    print(row)"
   ]
  },
  {
   "cell_type": "code",
   "execution_count": 17,
   "id": "2709e3ea",
   "metadata": {},
   "outputs": [],
   "source": [
    "a5 = cursor.execute('select customerName,salesRepEmployeeNumber from Customers')\n",
    "\n",
    "for row in a5:\n",
    "    print(row)\n",
    "    \n",
    "    row.split(',')"
   ]
  },
  {
   "cell_type": "code",
   "execution_count": 19,
   "id": "301096b5",
   "metadata": {},
   "outputs": [
    {
     "data": {
      "text/plain": [
       "<sqlite3.Cursor at 0x22617d287a0>"
      ]
     },
     "execution_count": 19,
     "metadata": {},
     "output_type": "execute_result"
    }
   ],
   "source": [
    "cursor.execute('create table payments(customerNumber int primary key,checkNumber int,paymentDate int,amount int)')"
   ]
  },
  {
   "cell_type": "code",
   "execution_count": 20,
   "id": "58ddd97a",
   "metadata": {},
   "outputs": [],
   "source": [
    "a6 = cursor.execute('select paymentDate,amount from payments')\n",
    "\n",
    "for row in a6:\n",
    "    print(row)"
   ]
  },
  {
   "cell_type": "code",
   "execution_count": 21,
   "id": "f5be6cc9",
   "metadata": {},
   "outputs": [
    {
     "data": {
      "text/plain": [
       "<sqlite3.Cursor at 0x22617d287a0>"
      ]
     },
     "execution_count": 21,
     "metadata": {},
     "output_type": "execute_result"
    }
   ],
   "source": [
    "cursor.execute('create table products(productCode int primary key,productName text,productLine text,productScale int,productVendor text,productDescription text,quantityInStock int,buyPrice int,MSRP int)')"
   ]
  },
  {
   "cell_type": "code",
   "execution_count": 22,
   "id": "d14672dc",
   "metadata": {},
   "outputs": [],
   "source": [
    "a7 = cursor.execute('select productName,MSRP,productDescription from products')\n",
    "\n",
    "for row in a7:\n",
    "    print(row)"
   ]
  },
  {
   "cell_type": "code",
   "execution_count": 24,
   "id": "5bae2713",
   "metadata": {},
   "outputs": [
    {
     "name": "stdout",
     "output_type": "stream",
     "text": [
      "Most ordered productName = (None,)\n"
     ]
    }
   ],
   "source": [
    "a8 = cursor.execute('select max(productName) from products')\n",
    "\n",
    "print('Most ordered productName =',a8.fetchone())"
   ]
  },
  {
   "cell_type": "code",
   "execution_count": 25,
   "id": "7a662078",
   "metadata": {},
   "outputs": [
    {
     "name": "stdout",
     "output_type": "stream",
     "text": [
      "Most ordered productDescription = (None,)\n"
     ]
    }
   ],
   "source": [
    "a9 = cursor.execute('select max(productDescription) from products')\n",
    "\n",
    "print('Most ordered productDescription =',a9.fetchone())"
   ]
  },
  {
   "cell_type": "code",
   "execution_count": 26,
   "id": "dc7d31b7",
   "metadata": {},
   "outputs": [
    {
     "name": "stdout",
     "output_type": "stream",
     "text": [
      "City with maximum orders = (None,)\n"
     ]
    }
   ],
   "source": [
    "a10 = cursor.execute('select max(city) from Customers')\n",
    "\n",
    "print('City with maximum orders =',a10.fetchone())"
   ]
  },
  {
   "cell_type": "code",
   "execution_count": 27,
   "id": "1be6b3d6",
   "metadata": {},
   "outputs": [
    {
     "name": "stdout",
     "output_type": "stream",
     "text": [
      "State with maximum customers = (None,)\n"
     ]
    }
   ],
   "source": [
    "a11 = cursor.execute('select max(state) from Customers')\n",
    "\n",
    "print('State with maximum customers =',a11.fetchone())"
   ]
  },
  {
   "cell_type": "code",
   "execution_count": 28,
   "id": "17b6c6e8",
   "metadata": {},
   "outputs": [],
   "source": [
    "a12 = cursor.execute('select employeeNumber from employees')\n",
    "\n",
    "for row in a12:\n",
    "    print(row)"
   ]
  },
  {
   "cell_type": "code",
   "execution_count": 29,
   "id": "5b213b7d",
   "metadata": {},
   "outputs": [],
   "source": [
    "a13 = cursor.execute('select firstName,lastName from employees')\n",
    "\n",
    "for row in a13:\n",
    "    print(row)"
   ]
  },
  {
   "cell_type": "code",
   "execution_count": 32,
   "id": "74ae81f9",
   "metadata": {},
   "outputs": [
    {
     "name": "stdout",
     "output_type": "stream",
     "text": [
      "Order Number = (None,)\n"
     ]
    }
   ],
   "source": [
    "a14 = cursor.execute('select min(orderNumber) from Orders')\n",
    "\n",
    "print('Order Number =',a14.fetchone())"
   ]
  },
  {
   "cell_type": "code",
   "execution_count": 33,
   "id": "26844bf7",
   "metadata": {},
   "outputs": [
    {
     "name": "stdout",
     "output_type": "stream",
     "text": [
      "Customer Name = (None,)\n"
     ]
    }
   ],
   "source": [
    "a15 = cursor.execute('select min(customerName) from Customers')\n",
    "\n",
    "print('Customer Name =',a15.fetchone())"
   ]
  },
  {
   "cell_type": "code",
   "execution_count": 34,
   "id": "4b036a52",
   "metadata": {},
   "outputs": [
    {
     "name": "stdout",
     "output_type": "stream",
     "text": [
      "Amount paid by customer = (None,)\n"
     ]
    }
   ],
   "source": [
    "a16 = cursor.execute('select min(amount) from payments')\n",
    "\n",
    "print('Amount paid by customer =',a16.fetchone())"
   ]
  },
  {
   "cell_type": "code",
   "execution_count": null,
   "id": "1697f383",
   "metadata": {},
   "outputs": [],
   "source": []
  }
 ],
 "metadata": {
  "kernelspec": {
   "display_name": "Python 3 (ipykernel)",
   "language": "python",
   "name": "python3"
  },
  "language_info": {
   "codemirror_mode": {
    "name": "ipython",
    "version": 3
   },
   "file_extension": ".py",
   "mimetype": "text/x-python",
   "name": "python",
   "nbconvert_exporter": "python",
   "pygments_lexer": "ipython3",
   "version": "3.9.12"
  }
 },
 "nbformat": 4,
 "nbformat_minor": 5
}
