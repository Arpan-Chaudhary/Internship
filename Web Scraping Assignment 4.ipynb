{
 "cells": [
  {
   "cell_type": "code",
   "execution_count": 1,
   "id": "87bff250",
   "metadata": {},
   "outputs": [],
   "source": [
    "import selenium\n",
    "from selenium import webdriver\n",
    "from selenium.webdriver.common.by import By\n",
    "import pandas as pd\n",
    "import numpy as np\n",
    "\n",
    "import time\n",
    "\n",
    "import warnings\n",
    "warnings.filterwarnings('ignore')"
   ]
  },
  {
   "cell_type": "code",
   "execution_count": 2,
   "id": "03e58676",
   "metadata": {},
   "outputs": [],
   "source": [
    "import numpy as np"
   ]
  },
  {
   "cell_type": "code",
   "execution_count": null,
   "id": "ea3c8bbd",
   "metadata": {},
   "outputs": [],
   "source": []
  },
  {
   "cell_type": "code",
   "execution_count": null,
   "id": "59eb5e08",
   "metadata": {},
   "outputs": [],
   "source": []
  },
  {
   "cell_type": "code",
   "execution_count": null,
   "id": "37744587",
   "metadata": {},
   "outputs": [],
   "source": []
  },
  {
   "cell_type": "code",
   "execution_count": null,
   "id": "c43a2940",
   "metadata": {},
   "outputs": [],
   "source": [
    "# question no 2"
   ]
  },
  {
   "cell_type": "code",
   "execution_count": 3,
   "id": "69e1de1b",
   "metadata": {},
   "outputs": [
    {
     "data": {
      "text/plain": [
       "<selenium.webdriver.chrome.webdriver.WebDriver (session=\"704fd60f5ee352c31d5d965886ed9e9a\")>"
      ]
     },
     "execution_count": 3,
     "metadata": {},
     "output_type": "execute_result"
    }
   ],
   "source": [
    "driver = webdriver.Chrome(r'C:\\Users\\user\\chromedriver.exe')\n",
    "driver"
   ]
  },
  {
   "cell_type": "code",
   "execution_count": 4,
   "id": "c8cbc53d",
   "metadata": {},
   "outputs": [],
   "source": [
    "url = 'https://www.bcci.tv/'\n",
    "\n",
    "driver.get(url)"
   ]
  },
  {
   "cell_type": "code",
   "execution_count": 5,
   "id": "f9eb9593",
   "metadata": {},
   "outputs": [],
   "source": [
    "inter_srch = driver.find_element(By.XPATH,'/html/body/nav/div[1]/div[2]/ul[1]/li[2]/a')"
   ]
  },
  {
   "cell_type": "code",
   "execution_count": 6,
   "id": "fc934971",
   "metadata": {},
   "outputs": [],
   "source": [
    "inter_srch.click()"
   ]
  },
  {
   "cell_type": "code",
   "execution_count": null,
   "id": "0ca5e7c8",
   "metadata": {},
   "outputs": [],
   "source": []
  },
  {
   "cell_type": "code",
   "execution_count": null,
   "id": "6ebea5c1",
   "metadata": {},
   "outputs": [],
   "source": []
  },
  {
   "cell_type": "code",
   "execution_count": 7,
   "id": "77736e59",
   "metadata": {},
   "outputs": [
    {
     "data": {
      "text/plain": [
       "['INDIA A IN BANGLADESH MULTI DAY SERIES',\n",
       " 'NEW ZEALAND WM U19 IN INDIA T20 SERIES',\n",
       " 'INDIA TOUR OF BANGLADESH ODI SERIES 2022-23',\n",
       " 'AUSTRALIA WOMEN TOUR OF INDIA 2022',\n",
       " 'INDIA TOUR OF BANGLADESH ODI SERIES 2022-23',\n",
       " 'AUSTRALIA WOMEN TOUR OF INDIA 2022',\n",
       " 'AUSTRALIA WOMEN TOUR OF INDIA 2022',\n",
       " 'AUSTRALIA WOMEN TOUR OF INDIA 2022']"
      ]
     },
     "execution_count": 7,
     "metadata": {},
     "output_type": "execute_result"
    }
   ],
   "source": [
    "Series = []\n",
    "\n",
    "ser = driver.find_elements(By.XPATH,'//span[@class=\"ng-binding\"]')\n",
    "\n",
    "for i in ser:\n",
    "    Series.append(i.text)\n",
    "    \n",
    "Series"
   ]
  },
  {
   "cell_type": "code",
   "execution_count": null,
   "id": "42f76ce7",
   "metadata": {},
   "outputs": [],
   "source": []
  },
  {
   "cell_type": "code",
   "execution_count": null,
   "id": "194f931f",
   "metadata": {},
   "outputs": [],
   "source": []
  },
  {
   "cell_type": "code",
   "execution_count": 9,
   "id": "2e3f1f9b",
   "metadata": {},
   "outputs": [
    {
     "data": {
      "text/plain": [
       "['6 DEC 2022',\n",
       " '6 DEC 2022',\n",
       " '7 DEC 2022',\n",
       " '9 DEC 2022',\n",
       " '10 DEC 2022',\n",
       " '11 DEC 2022',\n",
       " '14 DEC 2022',\n",
       " '14 DEC 2022']"
      ]
     },
     "execution_count": 9,
     "metadata": {},
     "output_type": "execute_result"
    }
   ],
   "source": [
    "Date = []\n",
    "\n",
    "date = driver.find_elements(By.XPATH,'//h5[@class=\"ng-binding\"]')\n",
    "\n",
    "for i in date:\n",
    "    Date.append(i.text)\n",
    "    \n",
    "Date"
   ]
  },
  {
   "cell_type": "code",
   "execution_count": null,
   "id": "a3bdf6a9",
   "metadata": {},
   "outputs": [],
   "source": []
  },
  {
   "cell_type": "code",
   "execution_count": 10,
   "id": "7c2f3520",
   "metadata": {},
   "outputs": [
    {
     "data": {
      "text/plain": [
       "['9:00 AM IST',\n",
       " '1:00 PM IST',\n",
       " '11:30 AM IST',\n",
       " '7:00 PM IST',\n",
       " '11:30 AM IST',\n",
       " '7:00 PM IST',\n",
       " '9:30 AM IST',\n",
       " '7:00 PM IST']"
      ]
     },
     "execution_count": 10,
     "metadata": {},
     "output_type": "execute_result"
    }
   ],
   "source": [
    "Time = []\n",
    "\n",
    "time = driver.find_elements(By.XPATH,'//h5[@class=\"text-right ng-binding\"]')\n",
    "\n",
    "for i in time:\n",
    "    Time.append(i.text)\n",
    "    \n",
    "Time"
   ]
  },
  {
   "cell_type": "code",
   "execution_count": null,
   "id": "eb3d98ea",
   "metadata": {},
   "outputs": [],
   "source": []
  },
  {
   "cell_type": "code",
   "execution_count": 11,
   "id": "06b039b6",
   "metadata": {},
   "outputs": [
    {
     "data": {
      "text/plain": [
       "['First-Class Match -',\n",
       " \"Women's Youth T20 Match -\",\n",
       " '2nd ODI -',\n",
       " '1st T20I -',\n",
       " '3rd ODI -',\n",
       " '2nd T20I -',\n",
       " '1st Test -',\n",
       " '3rd T20I -']"
      ]
     },
     "execution_count": 11,
     "metadata": {},
     "output_type": "execute_result"
    }
   ],
   "source": [
    "Match_Title = []\n",
    "\n",
    "mat = driver.find_elements(By.XPATH,'//span[@class=\"matchOrderText ng-binding ng-scope\"]')\n",
    "\n",
    "for i in mat:\n",
    "    Match_Title.append(i.text)\n",
    "    \n",
    "Match_Title"
   ]
  },
  {
   "cell_type": "code",
   "execution_count": null,
   "id": "6ce3b5cd",
   "metadata": {},
   "outputs": [],
   "source": []
  },
  {
   "cell_type": "code",
   "execution_count": 12,
   "id": "5ec4aafe",
   "metadata": {},
   "outputs": [
    {
     "data": {
      "text/plain": [
       "['Sylhet International Cricket Stadium,',\n",
       " 'Sharad Pawar Cricket Academy BKC,',\n",
       " 'Shere Bangla National Stadium, Mirpur,',\n",
       " 'DY Patil Stadium,',\n",
       " 'Zahur Ahmed Chowdhury Stadium,',\n",
       " 'DY Patil Stadium,',\n",
       " 'Zahur Ahmed Chowdhury Stadium,',\n",
       " 'Brabourne - CCI,']"
      ]
     },
     "execution_count": 12,
     "metadata": {},
     "output_type": "execute_result"
    }
   ],
   "source": [
    "Place = []\n",
    "\n",
    "place = driver.find_elements(By.XPATH,'//span[@class=\"ng-binding ng-scope\"]')\n",
    "\n",
    "for i in place:\n",
    "    Place.append(i.text)\n",
    "    \n",
    "Place"
   ]
  },
  {
   "cell_type": "code",
   "execution_count": null,
   "id": "b90a2676",
   "metadata": {},
   "outputs": [],
   "source": []
  },
  {
   "cell_type": "code",
   "execution_count": 13,
   "id": "ae458b69",
   "metadata": {},
   "outputs": [
    {
     "data": {
      "text/html": [
       "<div>\n",
       "<style scoped>\n",
       "    .dataframe tbody tr th:only-of-type {\n",
       "        vertical-align: middle;\n",
       "    }\n",
       "\n",
       "    .dataframe tbody tr th {\n",
       "        vertical-align: top;\n",
       "    }\n",
       "\n",
       "    .dataframe thead th {\n",
       "        text-align: right;\n",
       "    }\n",
       "</style>\n",
       "<table border=\"1\" class=\"dataframe\">\n",
       "  <thead>\n",
       "    <tr style=\"text-align: right;\">\n",
       "      <th></th>\n",
       "      <th>Match</th>\n",
       "      <th>Series</th>\n",
       "      <th>Place</th>\n",
       "      <th>Date</th>\n",
       "      <th>Time</th>\n",
       "    </tr>\n",
       "  </thead>\n",
       "  <tbody>\n",
       "    <tr>\n",
       "      <th>0</th>\n",
       "      <td>First-Class Match -</td>\n",
       "      <td>INDIA A IN BANGLADESH MULTI DAY SERIES</td>\n",
       "      <td>Sylhet International Cricket Stadium,</td>\n",
       "      <td>6 DEC 2022</td>\n",
       "      <td>9:00 AM IST</td>\n",
       "    </tr>\n",
       "    <tr>\n",
       "      <th>1</th>\n",
       "      <td>Women's Youth T20 Match -</td>\n",
       "      <td>NEW ZEALAND WM U19 IN INDIA T20 SERIES</td>\n",
       "      <td>Sharad Pawar Cricket Academy BKC,</td>\n",
       "      <td>6 DEC 2022</td>\n",
       "      <td>1:00 PM IST</td>\n",
       "    </tr>\n",
       "    <tr>\n",
       "      <th>2</th>\n",
       "      <td>2nd ODI -</td>\n",
       "      <td>INDIA TOUR OF BANGLADESH ODI SERIES 2022-23</td>\n",
       "      <td>Shere Bangla National Stadium, Mirpur,</td>\n",
       "      <td>7 DEC 2022</td>\n",
       "      <td>11:30 AM IST</td>\n",
       "    </tr>\n",
       "    <tr>\n",
       "      <th>3</th>\n",
       "      <td>1st T20I -</td>\n",
       "      <td>AUSTRALIA WOMEN TOUR OF INDIA 2022</td>\n",
       "      <td>DY Patil Stadium,</td>\n",
       "      <td>9 DEC 2022</td>\n",
       "      <td>7:00 PM IST</td>\n",
       "    </tr>\n",
       "    <tr>\n",
       "      <th>4</th>\n",
       "      <td>3rd ODI -</td>\n",
       "      <td>INDIA TOUR OF BANGLADESH ODI SERIES 2022-23</td>\n",
       "      <td>Zahur Ahmed Chowdhury Stadium,</td>\n",
       "      <td>10 DEC 2022</td>\n",
       "      <td>11:30 AM IST</td>\n",
       "    </tr>\n",
       "    <tr>\n",
       "      <th>5</th>\n",
       "      <td>2nd T20I -</td>\n",
       "      <td>AUSTRALIA WOMEN TOUR OF INDIA 2022</td>\n",
       "      <td>DY Patil Stadium,</td>\n",
       "      <td>11 DEC 2022</td>\n",
       "      <td>7:00 PM IST</td>\n",
       "    </tr>\n",
       "    <tr>\n",
       "      <th>6</th>\n",
       "      <td>1st Test -</td>\n",
       "      <td>AUSTRALIA WOMEN TOUR OF INDIA 2022</td>\n",
       "      <td>Zahur Ahmed Chowdhury Stadium,</td>\n",
       "      <td>14 DEC 2022</td>\n",
       "      <td>9:30 AM IST</td>\n",
       "    </tr>\n",
       "    <tr>\n",
       "      <th>7</th>\n",
       "      <td>3rd T20I -</td>\n",
       "      <td>AUSTRALIA WOMEN TOUR OF INDIA 2022</td>\n",
       "      <td>Brabourne - CCI,</td>\n",
       "      <td>14 DEC 2022</td>\n",
       "      <td>7:00 PM IST</td>\n",
       "    </tr>\n",
       "  </tbody>\n",
       "</table>\n",
       "</div>"
      ],
      "text/plain": [
       "                       Match                                       Series  \\\n",
       "0        First-Class Match -       INDIA A IN BANGLADESH MULTI DAY SERIES   \n",
       "1  Women's Youth T20 Match -       NEW ZEALAND WM U19 IN INDIA T20 SERIES   \n",
       "2                  2nd ODI -  INDIA TOUR OF BANGLADESH ODI SERIES 2022-23   \n",
       "3                 1st T20I -           AUSTRALIA WOMEN TOUR OF INDIA 2022   \n",
       "4                  3rd ODI -  INDIA TOUR OF BANGLADESH ODI SERIES 2022-23   \n",
       "5                 2nd T20I -           AUSTRALIA WOMEN TOUR OF INDIA 2022   \n",
       "6                 1st Test -           AUSTRALIA WOMEN TOUR OF INDIA 2022   \n",
       "7                 3rd T20I -           AUSTRALIA WOMEN TOUR OF INDIA 2022   \n",
       "\n",
       "                                    Place         Date          Time  \n",
       "0   Sylhet International Cricket Stadium,   6 DEC 2022   9:00 AM IST  \n",
       "1       Sharad Pawar Cricket Academy BKC,   6 DEC 2022   1:00 PM IST  \n",
       "2  Shere Bangla National Stadium, Mirpur,   7 DEC 2022  11:30 AM IST  \n",
       "3                       DY Patil Stadium,   9 DEC 2022   7:00 PM IST  \n",
       "4          Zahur Ahmed Chowdhury Stadium,  10 DEC 2022  11:30 AM IST  \n",
       "5                       DY Patil Stadium,  11 DEC 2022   7:00 PM IST  \n",
       "6          Zahur Ahmed Chowdhury Stadium,  14 DEC 2022   9:30 AM IST  \n",
       "7                        Brabourne - CCI,  14 DEC 2022   7:00 PM IST  "
      ]
     },
     "execution_count": 13,
     "metadata": {},
     "output_type": "execute_result"
    }
   ],
   "source": [
    "df = pd.DataFrame({'Match':Match_Title,'Series':Series,'Place':Place,'Date':Date,'Time':Time})\n",
    "\n",
    "df"
   ]
  },
  {
   "cell_type": "code",
   "execution_count": 14,
   "id": "ed9a81bd",
   "metadata": {},
   "outputs": [],
   "source": [
    "r = np.arange(1,9)\n"
   ]
  },
  {
   "cell_type": "code",
   "execution_count": 15,
   "id": "6cf6ce2c",
   "metadata": {},
   "outputs": [
    {
     "data": {
      "text/html": [
       "<div>\n",
       "<style scoped>\n",
       "    .dataframe tbody tr th:only-of-type {\n",
       "        vertical-align: middle;\n",
       "    }\n",
       "\n",
       "    .dataframe tbody tr th {\n",
       "        vertical-align: top;\n",
       "    }\n",
       "\n",
       "    .dataframe thead th {\n",
       "        text-align: right;\n",
       "    }\n",
       "</style>\n",
       "<table border=\"1\" class=\"dataframe\">\n",
       "  <thead>\n",
       "    <tr style=\"text-align: right;\">\n",
       "      <th></th>\n",
       "      <th>Match</th>\n",
       "      <th>Series</th>\n",
       "      <th>Place</th>\n",
       "      <th>Date</th>\n",
       "      <th>Time</th>\n",
       "    </tr>\n",
       "  </thead>\n",
       "  <tbody>\n",
       "    <tr>\n",
       "      <th>1</th>\n",
       "      <td>First-Class Match -</td>\n",
       "      <td>INDIA A IN BANGLADESH MULTI DAY SERIES</td>\n",
       "      <td>Sylhet International Cricket Stadium,</td>\n",
       "      <td>6 DEC 2022</td>\n",
       "      <td>9:00 AM IST</td>\n",
       "    </tr>\n",
       "    <tr>\n",
       "      <th>2</th>\n",
       "      <td>Women's Youth T20 Match -</td>\n",
       "      <td>NEW ZEALAND WM U19 IN INDIA T20 SERIES</td>\n",
       "      <td>Sharad Pawar Cricket Academy BKC,</td>\n",
       "      <td>6 DEC 2022</td>\n",
       "      <td>1:00 PM IST</td>\n",
       "    </tr>\n",
       "    <tr>\n",
       "      <th>3</th>\n",
       "      <td>2nd ODI -</td>\n",
       "      <td>INDIA TOUR OF BANGLADESH ODI SERIES 2022-23</td>\n",
       "      <td>Shere Bangla National Stadium, Mirpur,</td>\n",
       "      <td>7 DEC 2022</td>\n",
       "      <td>11:30 AM IST</td>\n",
       "    </tr>\n",
       "    <tr>\n",
       "      <th>4</th>\n",
       "      <td>1st T20I -</td>\n",
       "      <td>AUSTRALIA WOMEN TOUR OF INDIA 2022</td>\n",
       "      <td>DY Patil Stadium,</td>\n",
       "      <td>9 DEC 2022</td>\n",
       "      <td>7:00 PM IST</td>\n",
       "    </tr>\n",
       "    <tr>\n",
       "      <th>5</th>\n",
       "      <td>3rd ODI -</td>\n",
       "      <td>INDIA TOUR OF BANGLADESH ODI SERIES 2022-23</td>\n",
       "      <td>Zahur Ahmed Chowdhury Stadium,</td>\n",
       "      <td>10 DEC 2022</td>\n",
       "      <td>11:30 AM IST</td>\n",
       "    </tr>\n",
       "    <tr>\n",
       "      <th>6</th>\n",
       "      <td>2nd T20I -</td>\n",
       "      <td>AUSTRALIA WOMEN TOUR OF INDIA 2022</td>\n",
       "      <td>DY Patil Stadium,</td>\n",
       "      <td>11 DEC 2022</td>\n",
       "      <td>7:00 PM IST</td>\n",
       "    </tr>\n",
       "    <tr>\n",
       "      <th>7</th>\n",
       "      <td>1st Test -</td>\n",
       "      <td>AUSTRALIA WOMEN TOUR OF INDIA 2022</td>\n",
       "      <td>Zahur Ahmed Chowdhury Stadium,</td>\n",
       "      <td>14 DEC 2022</td>\n",
       "      <td>9:30 AM IST</td>\n",
       "    </tr>\n",
       "    <tr>\n",
       "      <th>8</th>\n",
       "      <td>3rd T20I -</td>\n",
       "      <td>AUSTRALIA WOMEN TOUR OF INDIA 2022</td>\n",
       "      <td>Brabourne - CCI,</td>\n",
       "      <td>14 DEC 2022</td>\n",
       "      <td>7:00 PM IST</td>\n",
       "    </tr>\n",
       "  </tbody>\n",
       "</table>\n",
       "</div>"
      ],
      "text/plain": [
       "                       Match                                       Series  \\\n",
       "1        First-Class Match -       INDIA A IN BANGLADESH MULTI DAY SERIES   \n",
       "2  Women's Youth T20 Match -       NEW ZEALAND WM U19 IN INDIA T20 SERIES   \n",
       "3                  2nd ODI -  INDIA TOUR OF BANGLADESH ODI SERIES 2022-23   \n",
       "4                 1st T20I -           AUSTRALIA WOMEN TOUR OF INDIA 2022   \n",
       "5                  3rd ODI -  INDIA TOUR OF BANGLADESH ODI SERIES 2022-23   \n",
       "6                 2nd T20I -           AUSTRALIA WOMEN TOUR OF INDIA 2022   \n",
       "7                 1st Test -           AUSTRALIA WOMEN TOUR OF INDIA 2022   \n",
       "8                 3rd T20I -           AUSTRALIA WOMEN TOUR OF INDIA 2022   \n",
       "\n",
       "                                    Place         Date          Time  \n",
       "1   Sylhet International Cricket Stadium,   6 DEC 2022   9:00 AM IST  \n",
       "2       Sharad Pawar Cricket Academy BKC,   6 DEC 2022   1:00 PM IST  \n",
       "3  Shere Bangla National Stadium, Mirpur,   7 DEC 2022  11:30 AM IST  \n",
       "4                       DY Patil Stadium,   9 DEC 2022   7:00 PM IST  \n",
       "5          Zahur Ahmed Chowdhury Stadium,  10 DEC 2022  11:30 AM IST  \n",
       "6                       DY Patil Stadium,  11 DEC 2022   7:00 PM IST  \n",
       "7          Zahur Ahmed Chowdhury Stadium,  14 DEC 2022   9:30 AM IST  \n",
       "8                        Brabourne - CCI,  14 DEC 2022   7:00 PM IST  "
      ]
     },
     "execution_count": 15,
     "metadata": {},
     "output_type": "execute_result"
    }
   ],
   "source": [
    "df = df.set_index(r)\n",
    "df"
   ]
  },
  {
   "cell_type": "code",
   "execution_count": 16,
   "id": "0a196972",
   "metadata": {},
   "outputs": [],
   "source": [
    "driver.close()"
   ]
  },
  {
   "cell_type": "code",
   "execution_count": null,
   "id": "8301ebec",
   "metadata": {},
   "outputs": [],
   "source": []
  },
  {
   "cell_type": "code",
   "execution_count": null,
   "id": "6efe2f15",
   "metadata": {},
   "outputs": [],
   "source": []
  },
  {
   "cell_type": "code",
   "execution_count": 3,
   "id": "8a1e116c",
   "metadata": {},
   "outputs": [],
   "source": [
    "# question no 3"
   ]
  },
  {
   "cell_type": "code",
   "execution_count": 28,
   "id": "82b32c1b",
   "metadata": {},
   "outputs": [
    {
     "data": {
      "text/plain": [
       "<selenium.webdriver.chrome.webdriver.WebDriver (session=\"bb7bb655e1f4671bd5623804e20db8cb\")>"
      ]
     },
     "execution_count": 28,
     "metadata": {},
     "output_type": "execute_result"
    }
   ],
   "source": [
    "driver1 = webdriver.Chrome(r'C:\\Users\\user\\chromedriver.exe')\n",
    "driver1"
   ]
  },
  {
   "cell_type": "code",
   "execution_count": 29,
   "id": "977b850c",
   "metadata": {},
   "outputs": [],
   "source": [
    "url = 'https://www.guru99.com/'\n",
    "\n",
    "driver1.get(url)"
   ]
  },
  {
   "cell_type": "code",
   "execution_count": null,
   "id": "5ceeaa41",
   "metadata": {},
   "outputs": [],
   "source": []
  },
  {
   "cell_type": "code",
   "execution_count": 30,
   "id": "5754707a",
   "metadata": {},
   "outputs": [],
   "source": [
    "selenium_srch = driver1.find_element(By.XPATH,'/html/body/div[1]/div/div/div/main/div/article/div/div[1]/div[2]/div[1]/div/ul[1]/li[3]/a')"
   ]
  },
  {
   "cell_type": "code",
   "execution_count": 31,
   "id": "0badfc6c",
   "metadata": {},
   "outputs": [],
   "source": [
    "selenium_srch.click()"
   ]
  },
  {
   "cell_type": "code",
   "execution_count": null,
   "id": "51bc21ef",
   "metadata": {},
   "outputs": [],
   "source": []
  },
  {
   "cell_type": "code",
   "execution_count": 32,
   "id": "6dede5bf",
   "metadata": {},
   "outputs": [],
   "source": [
    "tutorial_srch = driver1.find_element(By.XPATH,'/html/body/div[1]/div/div/div/main/div/article/div/div/table[5]/tbody/tr[34]/td[1]/a')"
   ]
  },
  {
   "cell_type": "code",
   "execution_count": 33,
   "id": "d7d72cea",
   "metadata": {},
   "outputs": [],
   "source": [
    "tutorial_srch.click()"
   ]
  },
  {
   "cell_type": "code",
   "execution_count": null,
   "id": "acbb8864",
   "metadata": {},
   "outputs": [],
   "source": []
  },
  {
   "cell_type": "code",
   "execution_count": 37,
   "id": "1375d871",
   "metadata": {},
   "outputs": [
    {
     "data": {
      "text/plain": [
       "'1. ElementNotVisibleException: This type of Selenium exception occurs when an existing element in DOM has a feature set as hidden.'"
      ]
     },
     "execution_count": 37,
     "metadata": {},
     "output_type": "execute_result"
    }
   ],
   "source": [
    "exe1_des = driver1.find_element(By.XPATH,'/html/body/div[1]/div/div/div/main/div/article/div/div/p[1]')\n",
    "\n",
    "exe1_des.text"
   ]
  },
  {
   "cell_type": "code",
   "execution_count": 39,
   "id": "cd069e8f",
   "metadata": {},
   "outputs": [
    {
     "data": {
      "text/plain": [
       "'2. ElementNotSelectableException: This Selenium exception occurs when an element is presented in the DOM, but you can be able to select. Therefore, it is not possible to interact.'"
      ]
     },
     "execution_count": 39,
     "metadata": {},
     "output_type": "execute_result"
    }
   ],
   "source": [
    "exe2_des = driver1.find_element(By.XPATH,'/html/body/div[1]/div/div/div/main/div/article/div/div/p[2]')\n",
    "\n",
    "exe2_des.text"
   ]
  },
  {
   "cell_type": "code",
   "execution_count": 40,
   "id": "f9793548",
   "metadata": {},
   "outputs": [
    {
     "data": {
      "text/plain": [
       "'3. NoSuchElementException: This Exception occurs if an element could not be found.'"
      ]
     },
     "execution_count": 40,
     "metadata": {},
     "output_type": "execute_result"
    }
   ],
   "source": [
    "exe3_des = driver1.find_element(By.XPATH,'/html/body/div[1]/div/div/div/main/div/article/div/div/p[3]')\n",
    "\n",
    "exe3_des.text"
   ]
  },
  {
   "cell_type": "code",
   "execution_count": 41,
   "id": "2b5907f9",
   "metadata": {},
   "outputs": [
    {
     "data": {
      "text/plain": [
       "'4. NoSuchFrameException: This Exception occurs if the frame target to be switched to does not exist.'"
      ]
     },
     "execution_count": 41,
     "metadata": {},
     "output_type": "execute_result"
    }
   ],
   "source": [
    "exe4_des = driver1.find_element(By.XPATH,'/html/body/div[1]/div/div/div/main/div/article/div/div/p[4]')\n",
    "\n",
    "exe4_des.text"
   ]
  },
  {
   "cell_type": "code",
   "execution_count": 42,
   "id": "074a032a",
   "metadata": {},
   "outputs": [
    {
     "data": {
      "text/plain": [
       "'5. NoAlertPresentException: This Exception occurs when you switch to no presented alert.'"
      ]
     },
     "execution_count": 42,
     "metadata": {},
     "output_type": "execute_result"
    }
   ],
   "source": [
    "exe5_des = driver1.find_element(By.XPATH,'/html/body/div[1]/div/div/div/main/div/article/div/div/p[5]')\n",
    "\n",
    "exe5_des.text"
   ]
  },
  {
   "cell_type": "code",
   "execution_count": 43,
   "id": "ef0d2978",
   "metadata": {},
   "outputs": [
    {
     "data": {
      "text/plain": [
       "'6. NoSuchWindowException: This Exception occurs if the window target to be switch does not exist.'"
      ]
     },
     "execution_count": 43,
     "metadata": {},
     "output_type": "execute_result"
    }
   ],
   "source": [
    "exe6_des = driver1.find_element(By.XPATH,'/html/body/div[1]/div/div/div/main/div/article/div/div/p[6]')\n",
    "\n",
    "exe6_des.text"
   ]
  },
  {
   "cell_type": "code",
   "execution_count": 44,
   "id": "fe049a75",
   "metadata": {},
   "outputs": [
    {
     "data": {
      "text/plain": [
       "'7. StaleElementReferenceException: This Selenium exception occurs happens when the web element is detached from the current DOM.'"
      ]
     },
     "execution_count": 44,
     "metadata": {},
     "output_type": "execute_result"
    }
   ],
   "source": [
    "exe7_des = driver1.find_element(By.XPATH,'/html/body/div[1]/div/div/div/main/div/article/div/div/p[7]')\n",
    "\n",
    "exe7_des.text"
   ]
  },
  {
   "cell_type": "code",
   "execution_count": 45,
   "id": "62683347",
   "metadata": {},
   "outputs": [
    {
     "data": {
      "text/plain": [
       "'8. SessionNotFoundException: The WebDriver is acting after you quit the browser.'"
      ]
     },
     "execution_count": 45,
     "metadata": {},
     "output_type": "execute_result"
    }
   ],
   "source": [
    "exe8_des = driver1.find_element(By.XPATH,'/html/body/div[1]/div/div/div/main/div/article/div/div/p[8]')\n",
    "\n",
    "exe8_des.text"
   ]
  },
  {
   "cell_type": "code",
   "execution_count": 46,
   "id": "755f0bee",
   "metadata": {},
   "outputs": [
    {
     "data": {
      "text/plain": [
       "'9. TimeoutException: Thrown when there is not enough time for a command to be completed. For Example, the element searched wasn’t found in the specified time.'"
      ]
     },
     "execution_count": 46,
     "metadata": {},
     "output_type": "execute_result"
    }
   ],
   "source": [
    "exe9_des = driver1.find_element(By.XPATH,'/html/body/div[1]/div/div/div/main/div/article/div/div/p[9]')\n",
    "\n",
    "exe9_des.text"
   ]
  },
  {
   "cell_type": "code",
   "execution_count": 47,
   "id": "7ed257b2",
   "metadata": {},
   "outputs": [
    {
     "data": {
      "text/plain": [
       "'10. WebDriverException: This Exception takes place when the WebDriver is acting right after you close the browser.'"
      ]
     },
     "execution_count": 47,
     "metadata": {},
     "output_type": "execute_result"
    }
   ],
   "source": [
    "exe10_des = driver1.find_element(By.XPATH,'/html/body/div[1]/div/div/div/main/div/article/div/div/p[10]')\n",
    "\n",
    "exe10_des.text"
   ]
  },
  {
   "cell_type": "code",
   "execution_count": 48,
   "id": "85473c70",
   "metadata": {},
   "outputs": [
    {
     "data": {
      "text/plain": [
       "'11. ConnectionClosedException: This type of Exception takes place when there is a disconnection in the driver.'"
      ]
     },
     "execution_count": 48,
     "metadata": {},
     "output_type": "execute_result"
    }
   ],
   "source": [
    "exe11_des = driver1.find_element(By.XPATH,'/html/body/div[1]/div/div/div/main/div/article/div/div/p[11]')\n",
    "\n",
    "exe11_des.text"
   ]
  },
  {
   "cell_type": "code",
   "execution_count": 49,
   "id": "98b4d149",
   "metadata": {},
   "outputs": [
    {
     "data": {
      "text/plain": [
       "'12. ElementClickInterceptedException: The command may not be completed as the element receiving the events is concealing the element which was requested clicked.'"
      ]
     },
     "execution_count": 49,
     "metadata": {},
     "output_type": "execute_result"
    }
   ],
   "source": [
    "exe12_des = driver1.find_element(By.XPATH,'/html/body/div[1]/div/div/div/main/div/article/div/div/p[12]')\n",
    "\n",
    "exe12_des.text"
   ]
  },
  {
   "cell_type": "code",
   "execution_count": 50,
   "id": "899b6ffe",
   "metadata": {},
   "outputs": [
    {
     "data": {
      "text/plain": [
       "'13. ElementNotInteractableException: This Selenium exception is thrown when any element is presented in the DOM. However, it is impossible to interact with such an element.'"
      ]
     },
     "execution_count": 50,
     "metadata": {},
     "output_type": "execute_result"
    }
   ],
   "source": [
    "exe13_des = driver1.find_element(By.XPATH,'/html/body/div[1]/div/div/div/main/div/article/div/div/p[13]')\n",
    "\n",
    "exe13_des.text"
   ]
  },
  {
   "cell_type": "code",
   "execution_count": 51,
   "id": "24499940",
   "metadata": {},
   "outputs": [
    {
     "data": {
      "text/plain": [
       "'14. ErrorInResponseException: This happens while interacting with the Firefox extension or the remote driver server.'"
      ]
     },
     "execution_count": 51,
     "metadata": {},
     "output_type": "execute_result"
    }
   ],
   "source": [
    "exe14_des = driver1.find_element(By.XPATH,'/html/body/div[1]/div/div/div/main/div/article/div/div/p[14]')\n",
    "\n",
    "exe14_des.text"
   ]
  },
  {
   "cell_type": "code",
   "execution_count": 52,
   "id": "23558b87",
   "metadata": {},
   "outputs": [
    {
     "data": {
      "text/plain": [
       "'15. ErrorHandler.UnknownServerException: Exception is used as a placeholder in case if the server returns an error without a stack trace.'"
      ]
     },
     "execution_count": 52,
     "metadata": {},
     "output_type": "execute_result"
    }
   ],
   "source": [
    "exe15_des = driver1.find_element(By.XPATH,'/html/body/div[1]/div/div/div/main/div/article/div/div/p[15]')\n",
    "\n",
    "exe15_des.text"
   ]
  },
  {
   "cell_type": "code",
   "execution_count": 53,
   "id": "2d9e8812",
   "metadata": {},
   "outputs": [
    {
     "data": {
      "text/plain": [
       "'16. ImeActivationFailedException: This expectation will occur when IME engine activation has failed.'"
      ]
     },
     "execution_count": 53,
     "metadata": {},
     "output_type": "execute_result"
    }
   ],
   "source": [
    "exe16_des = driver1.find_element(By.XPATH,'/html/body/div[1]/div/div/div/main/div/article/div/div/p[16]')\n",
    "\n",
    "exe16_des.text"
   ]
  },
  {
   "cell_type": "code",
   "execution_count": 54,
   "id": "591af25b",
   "metadata": {},
   "outputs": [
    {
     "data": {
      "text/plain": [
       "'17. ImeNotAvailableException: It takes place when IME support is unavailable.'"
      ]
     },
     "execution_count": 54,
     "metadata": {},
     "output_type": "execute_result"
    }
   ],
   "source": [
    "exe17 = driver1.find_element(By.XPATH,'/html/body/div[1]/div/div/div/main/div/article/div/div/p[17]')\n",
    "\n",
    "exe17.text"
   ]
  },
  {
   "cell_type": "code",
   "execution_count": 55,
   "id": "d23783f8",
   "metadata": {},
   "outputs": [
    {
     "data": {
      "text/plain": [
       "'18. InsecureCertificateException: Navigation made the user agent to hit a certificate warning. This can cause by an invalid or expired TLS certificate.'"
      ]
     },
     "execution_count": 55,
     "metadata": {},
     "output_type": "execute_result"
    }
   ],
   "source": [
    "exe18 = driver1.find_element(By.XPATH,'/html/body/div[1]/div/div/div/main/div/article/div/div/p[18]')\n",
    "\n",
    "exe18.text"
   ]
  },
  {
   "cell_type": "code",
   "execution_count": 56,
   "id": "ae6bae72",
   "metadata": {},
   "outputs": [
    {
     "data": {
      "text/plain": [
       "'19. InvalidArgumentException: It occurs when an argument does not belong to the expected type.'"
      ]
     },
     "execution_count": 56,
     "metadata": {},
     "output_type": "execute_result"
    }
   ],
   "source": [
    "exe19 = driver1.find_element(By.XPATH,'/html/body/div[1]/div/div/div/main/div/article/div/div/p[19]')\n",
    "\n",
    "exe19.text"
   ]
  },
  {
   "cell_type": "code",
   "execution_count": 57,
   "id": "4c3b50c0",
   "metadata": {},
   "outputs": [
    {
     "data": {
      "text/plain": [
       "'20. InvalidCookieDomainException: This happens when you try to add a cookie under a different domain instead of current URL.'"
      ]
     },
     "execution_count": 57,
     "metadata": {},
     "output_type": "execute_result"
    }
   ],
   "source": [
    "exe20 = driver1.find_element(By.XPATH,'/html/body/div[1]/div/div/div/main/div/article/div/div/p[20]')\n",
    "\n",
    "exe20.text"
   ]
  },
  {
   "cell_type": "code",
   "execution_count": 58,
   "id": "c1457be4",
   "metadata": {},
   "outputs": [
    {
     "data": {
      "text/plain": [
       "'21. InvalidCoordinatesException: This type of Exception matches an interacting operation that is not valid.'"
      ]
     },
     "execution_count": 58,
     "metadata": {},
     "output_type": "execute_result"
    }
   ],
   "source": [
    "exe21 = driver1.find_element(By.XPATH,'/html/body/div[1]/div/div/div/main/div/article/div/div/p[21]')\n",
    "\n",
    "exe21.text"
   ]
  },
  {
   "cell_type": "code",
   "execution_count": 59,
   "id": "39e12b17",
   "metadata": {},
   "outputs": [
    {
     "data": {
      "text/plain": [
       "'22. InvalidElementStateException: It occurs when command can’t be finished when the element is invalid.'"
      ]
     },
     "execution_count": 59,
     "metadata": {},
     "output_type": "execute_result"
    }
   ],
   "source": [
    "exe22 = driver1.find_element(By.XPATH,'/html/body/div[1]/div/div/div/main/div/article/div/div/p[22]')\n",
    "\n",
    "exe22.text"
   ]
  },
  {
   "cell_type": "code",
   "execution_count": 60,
   "id": "8c1757c4",
   "metadata": {},
   "outputs": [
    {
     "data": {
      "text/plain": [
       "'23. InvalidSessionIdException: This Exception took place when the given session ID is not included in the list of active sessions. It means the session does not exist or is inactive either.'"
      ]
     },
     "execution_count": 60,
     "metadata": {},
     "output_type": "execute_result"
    }
   ],
   "source": [
    "exe23 = driver1.find_element(By.XPATH,'/html/body/div[1]/div/div/div/main/div/article/div/div/p[23]')\n",
    "\n",
    "exe23.text"
   ]
  },
  {
   "cell_type": "code",
   "execution_count": 61,
   "id": "0b804af5",
   "metadata": {},
   "outputs": [
    {
     "data": {
      "text/plain": [
       "'24. InvalidSwitchToTargetException: This occurs when the frame or window target to be switched does not exist.'"
      ]
     },
     "execution_count": 61,
     "metadata": {},
     "output_type": "execute_result"
    }
   ],
   "source": [
    "exe24 = driver1.find_element(By.XPATH,'/html/body/div[1]/div/div/div/main/div/article/div/div/p[24]')\n",
    "\n",
    "exe24.text"
   ]
  },
  {
   "cell_type": "code",
   "execution_count": 62,
   "id": "f27bea54",
   "metadata": {},
   "outputs": [
    {
     "data": {
      "text/plain": [
       "'25. JavascriptException: This issue occurs while executing JavaScript given by the user.'"
      ]
     },
     "execution_count": 62,
     "metadata": {},
     "output_type": "execute_result"
    }
   ],
   "source": [
    "exe25 = driver1.find_element(By.XPATH,'/html/body/div[1]/div/div/div/main/div/article/div/div/p[25]')\n",
    "\n",
    "exe25.text"
   ]
  },
  {
   "cell_type": "code",
   "execution_count": 63,
   "id": "41b1d3ed",
   "metadata": {},
   "outputs": [
    {
     "data": {
      "text/plain": [
       "'26. JsonException: It occurs when you afford to get the session when the session is not created.'"
      ]
     },
     "execution_count": 63,
     "metadata": {},
     "output_type": "execute_result"
    }
   ],
   "source": [
    "exe26 = driver1.find_element(By.XPATH,'/html/body/div[1]/div/div/div/main/div/article/div/div/p[26]')\n",
    "\n",
    "exe26.text"
   ]
  },
  {
   "cell_type": "code",
   "execution_count": 64,
   "id": "a9ec73f8",
   "metadata": {},
   "outputs": [
    {
     "data": {
      "text/plain": [
       "'27. NoSuchAttributeException: This kind of Exception occurs when the attribute of an element could not be found.'"
      ]
     },
     "execution_count": 64,
     "metadata": {},
     "output_type": "execute_result"
    }
   ],
   "source": [
    "exe27 = driver1.find_element(By.XPATH,'/html/body/div[1]/div/div/div/main/div/article/div/div/p[27]')\n",
    "\n",
    "exe27.text"
   ]
  },
  {
   "cell_type": "code",
   "execution_count": 65,
   "id": "62085588",
   "metadata": {},
   "outputs": [
    {
     "data": {
      "text/plain": [
       "'28. MoveTargetOutOfBoundsException: It takes place if the target provided to the ActionChains move() methodology is not valid. For Example, out of the document.'"
      ]
     },
     "execution_count": 65,
     "metadata": {},
     "output_type": "execute_result"
    }
   ],
   "source": [
    "exe28 = driver1.find_element(By.XPATH,'/html/body/div[1]/div/div/div/main/div/article/div/div/p[28]')\n",
    "\n",
    "exe28.text"
   ]
  },
  {
   "cell_type": "code",
   "execution_count": 66,
   "id": "1fff2cf2",
   "metadata": {},
   "outputs": [
    {
     "data": {
      "text/plain": [
       "'29. NoSuchContextException: ContextAware does mobile device testing.'"
      ]
     },
     "execution_count": 66,
     "metadata": {},
     "output_type": "execute_result"
    }
   ],
   "source": [
    "exe29 = driver1.find_element(By.XPATH,'/html/body/div[1]/div/div/div/main/div/article/div/div/p[29]')\n",
    "\n",
    "exe29.text"
   ]
  },
  {
   "cell_type": "code",
   "execution_count": 67,
   "id": "b9de6742",
   "metadata": {},
   "outputs": [
    {
     "data": {
      "text/plain": [
       "'30. NoSuchCookieException: This Exception occurs when no cookie matching with the given pathname found for all the associated cookies of the currently browsing document.'"
      ]
     },
     "execution_count": 67,
     "metadata": {},
     "output_type": "execute_result"
    }
   ],
   "source": [
    "exe30 = driver1.find_element(By.XPATH,'/html/body/div[1]/div/div/div/main/div/article/div/div/p[30]')\n",
    "\n",
    "exe30.text"
   ]
  },
  {
   "cell_type": "code",
   "execution_count": 68,
   "id": "f546b54c",
   "metadata": {},
   "outputs": [
    {
     "data": {
      "text/plain": [
       "'31. NotFoundException: This Exception is a subclass of WebDriverException. This will occur when an element on the DOM does not exist.'"
      ]
     },
     "execution_count": 68,
     "metadata": {},
     "output_type": "execute_result"
    }
   ],
   "source": [
    "exe31 = driver1.find_element(By.XPATH,'/html/body/div[1]/div/div/div/main/div/article/div/div/p[31]')\n",
    "\n",
    "exe31.text"
   ]
  },
  {
   "cell_type": "code",
   "execution_count": 69,
   "id": "2ff802af",
   "metadata": {},
   "outputs": [
    {
     "data": {
      "text/plain": [
       "'32. RemoteDriverServerException: This Selenium exception is thrown when the server is not responding because of the problem that the capabilities described are not proper.'"
      ]
     },
     "execution_count": 69,
     "metadata": {},
     "output_type": "execute_result"
    }
   ],
   "source": [
    "exe32 = driver1.find_element(By.XPATH,'/html/body/div[1]/div/div/div/main/div/article/div/div/p[32]')\n",
    "\n",
    "exe32.text"
   ]
  },
  {
   "cell_type": "code",
   "execution_count": 70,
   "id": "ecbdd9cd",
   "metadata": {},
   "outputs": [
    {
     "data": {
      "text/plain": [
       "'33. ScreenshotException: It is not possible to capture a screen.'"
      ]
     },
     "execution_count": 70,
     "metadata": {},
     "output_type": "execute_result"
    }
   ],
   "source": [
    "exe33 = driver1.find_element(By.XPATH,'/html/body/div[1]/div/div/div/main/div/article/div/div/p[33]')\n",
    "\n",
    "exe33.text"
   ]
  },
  {
   "cell_type": "code",
   "execution_count": 71,
   "id": "2ee8f4c1",
   "metadata": {},
   "outputs": [
    {
     "data": {
      "text/plain": [
       "'34. SessionNotCreatedException: It happens when a new session could not be successfully created.'"
      ]
     },
     "execution_count": 71,
     "metadata": {},
     "output_type": "execute_result"
    }
   ],
   "source": [
    "exe34 = driver1.find_element(By.XPATH,'/html/body/div[1]/div/div/div/main/div/article/div/div/p[34]')\n",
    "\n",
    "exe34.text"
   ]
  },
  {
   "cell_type": "code",
   "execution_count": 72,
   "id": "de05909b",
   "metadata": {},
   "outputs": [
    {
     "data": {
      "text/plain": [
       "'35. UnableToSetCookieException: This occurs if a driver is unable to set a cookie.'"
      ]
     },
     "execution_count": 72,
     "metadata": {},
     "output_type": "execute_result"
    }
   ],
   "source": [
    "exe35 = driver1.find_element(By.XPATH,'/html/body/div[1]/div/div/div/main/div/article/div/div/p[35]')\n",
    "\n",
    "exe35.text"
   ]
  },
  {
   "cell_type": "code",
   "execution_count": 73,
   "id": "161b109a",
   "metadata": {},
   "outputs": [
    {
     "data": {
      "text/plain": [
       "'36. UnexpectedTagNameException: Happens if a support class did not get a web element as expected.'"
      ]
     },
     "execution_count": 73,
     "metadata": {},
     "output_type": "execute_result"
    }
   ],
   "source": [
    "exe36 = driver1.find_element(By.XPATH,'/html/body/div[1]/div/div/div/main/div/article/div/div/p[36]')\n",
    "\n",
    "exe36.text"
   ]
  },
  {
   "cell_type": "code",
   "execution_count": 74,
   "id": "52cd342e",
   "metadata": {},
   "outputs": [
    {
     "data": {
      "text/plain": [
       "'37. UnhandledAlertException: This expectation occurs when there is an alert, but WebDriver is not able to perform Alert operation.'"
      ]
     },
     "execution_count": 74,
     "metadata": {},
     "output_type": "execute_result"
    }
   ],
   "source": [
    "exe37 = driver1.find_element(By.XPATH,'/html/body/div[1]/div/div/div/main/div/article/div/div/p[37]')\n",
    "\n",
    "exe37.text"
   ]
  },
  {
   "cell_type": "code",
   "execution_count": 75,
   "id": "cbd62ba3",
   "metadata": {},
   "outputs": [
    {
     "data": {
      "text/plain": [
       "'38. UnexpectedAlertPresentException: It occurs when there is the appearance of an unexpected alert.'"
      ]
     },
     "execution_count": 75,
     "metadata": {},
     "output_type": "execute_result"
    }
   ],
   "source": [
    "exe38 = driver1.find_element(By.XPATH,'/html/body/div[1]/div/div/div/main/div/article/div/div/p[38]')\n",
    "\n",
    "exe38.text"
   ]
  },
  {
   "cell_type": "code",
   "execution_count": 76,
   "id": "f1fa1a1c",
   "metadata": {},
   "outputs": [
    {
     "data": {
      "text/plain": [
       "'39. UnknownMethodException: This Exception happens when the requested command matches with a known URL but and not matching with a methodology for a specific URL.'"
      ]
     },
     "execution_count": 76,
     "metadata": {},
     "output_type": "execute_result"
    }
   ],
   "source": [
    "exe39 = driver1.find_element(By.XPATH,'/html/body/div[1]/div/div/div/main/div/article/div/div/p[39]')\n",
    "\n",
    "exe39.text"
   ]
  },
  {
   "cell_type": "code",
   "execution_count": 77,
   "id": "989b2085",
   "metadata": {},
   "outputs": [
    {
     "data": {
      "text/plain": [
       "'40. UnreachableBrowserException: This Exception occurs only when the browser is not able to be opened or crashed because of some reason.'"
      ]
     },
     "execution_count": 77,
     "metadata": {},
     "output_type": "execute_result"
    }
   ],
   "source": [
    "exe40 = driver1.find_element(By.XPATH,'/html/body/div[1]/div/div/div/main/div/article/div/div/p[40]')\n",
    "\n",
    "exe40.text"
   ]
  },
  {
   "cell_type": "code",
   "execution_count": 78,
   "id": "de180ac5",
   "metadata": {},
   "outputs": [
    {
     "data": {
      "text/plain": [
       "'41. UnsupportedCommandException: This occurs when remote WebDriver doesn’t send valid commands as expected.'"
      ]
     },
     "execution_count": 78,
     "metadata": {},
     "output_type": "execute_result"
    }
   ],
   "source": [
    "exe41 = driver1.find_element(By.XPATH,'/html/body/div[1]/div/div/div/main/div/article/div/div/p[41]')\n",
    "\n",
    "exe41.text"
   ]
  },
  {
   "cell_type": "code",
   "execution_count": 81,
   "id": "81a7bf35",
   "metadata": {},
   "outputs": [
    {
     "data": {
      "text/html": [
       "<div>\n",
       "<style scoped>\n",
       "    .dataframe tbody tr th:only-of-type {\n",
       "        vertical-align: middle;\n",
       "    }\n",
       "\n",
       "    .dataframe tbody tr th {\n",
       "        vertical-align: top;\n",
       "    }\n",
       "\n",
       "    .dataframe thead th {\n",
       "        text-align: right;\n",
       "    }\n",
       "</style>\n",
       "<table border=\"1\" class=\"dataframe\">\n",
       "  <thead>\n",
       "    <tr style=\"text-align: right;\">\n",
       "      <th></th>\n",
       "      <th>Exception</th>\n",
       "    </tr>\n",
       "  </thead>\n",
       "  <tbody>\n",
       "    <tr>\n",
       "      <th>0</th>\n",
       "      <td>1. ElementNotVisibleException: This type of Se...</td>\n",
       "    </tr>\n",
       "    <tr>\n",
       "      <th>1</th>\n",
       "      <td>2. ElementNotSelectableException: This Seleniu...</td>\n",
       "    </tr>\n",
       "    <tr>\n",
       "      <th>2</th>\n",
       "      <td>3. NoSuchElementException: This Exception occu...</td>\n",
       "    </tr>\n",
       "    <tr>\n",
       "      <th>3</th>\n",
       "      <td>4. NoSuchFrameException: This Exception occurs...</td>\n",
       "    </tr>\n",
       "    <tr>\n",
       "      <th>4</th>\n",
       "      <td>5. NoAlertPresentException: This Exception occ...</td>\n",
       "    </tr>\n",
       "    <tr>\n",
       "      <th>5</th>\n",
       "      <td>6. NoSuchWindowException: This Exception occur...</td>\n",
       "    </tr>\n",
       "    <tr>\n",
       "      <th>6</th>\n",
       "      <td>7. StaleElementReferenceException: This Seleni...</td>\n",
       "    </tr>\n",
       "    <tr>\n",
       "      <th>7</th>\n",
       "      <td>8. SessionNotFoundException: The WebDriver is ...</td>\n",
       "    </tr>\n",
       "    <tr>\n",
       "      <th>8</th>\n",
       "      <td>9. TimeoutException: Thrown when there is not ...</td>\n",
       "    </tr>\n",
       "    <tr>\n",
       "      <th>9</th>\n",
       "      <td>10. WebDriverException: This Exception takes p...</td>\n",
       "    </tr>\n",
       "    <tr>\n",
       "      <th>10</th>\n",
       "      <td>11. ConnectionClosedException: This type of Ex...</td>\n",
       "    </tr>\n",
       "    <tr>\n",
       "      <th>11</th>\n",
       "      <td>12. ElementClickInterceptedException: The comm...</td>\n",
       "    </tr>\n",
       "    <tr>\n",
       "      <th>12</th>\n",
       "      <td>13. ElementNotInteractableException: This Sele...</td>\n",
       "    </tr>\n",
       "    <tr>\n",
       "      <th>13</th>\n",
       "      <td>14. ErrorInResponseException: This happens whi...</td>\n",
       "    </tr>\n",
       "    <tr>\n",
       "      <th>14</th>\n",
       "      <td>15. ErrorHandler.UnknownServerException: Excep...</td>\n",
       "    </tr>\n",
       "    <tr>\n",
       "      <th>15</th>\n",
       "      <td>16. ImeActivationFailedException: This expecta...</td>\n",
       "    </tr>\n",
       "    <tr>\n",
       "      <th>16</th>\n",
       "      <td>17. ImeNotAvailableException: It takes place w...</td>\n",
       "    </tr>\n",
       "    <tr>\n",
       "      <th>17</th>\n",
       "      <td>18. InsecureCertificateException: Navigation m...</td>\n",
       "    </tr>\n",
       "    <tr>\n",
       "      <th>18</th>\n",
       "      <td>19. InvalidArgumentException: It occurs when a...</td>\n",
       "    </tr>\n",
       "    <tr>\n",
       "      <th>19</th>\n",
       "      <td>20. InvalidCookieDomainException: This happens...</td>\n",
       "    </tr>\n",
       "    <tr>\n",
       "      <th>20</th>\n",
       "      <td>21. InvalidCoordinatesException: This type of ...</td>\n",
       "    </tr>\n",
       "    <tr>\n",
       "      <th>21</th>\n",
       "      <td>22. InvalidElementStateException: It occurs wh...</td>\n",
       "    </tr>\n",
       "    <tr>\n",
       "      <th>22</th>\n",
       "      <td>23. InvalidSessionIdException: This Exception ...</td>\n",
       "    </tr>\n",
       "    <tr>\n",
       "      <th>23</th>\n",
       "      <td>24. InvalidSwitchToTargetException: This occur...</td>\n",
       "    </tr>\n",
       "    <tr>\n",
       "      <th>24</th>\n",
       "      <td>25. JavascriptException: This issue occurs whi...</td>\n",
       "    </tr>\n",
       "    <tr>\n",
       "      <th>25</th>\n",
       "      <td>26. JsonException: It occurs when you afford t...</td>\n",
       "    </tr>\n",
       "    <tr>\n",
       "      <th>26</th>\n",
       "      <td>27. NoSuchAttributeException: This kind of Exc...</td>\n",
       "    </tr>\n",
       "    <tr>\n",
       "      <th>27</th>\n",
       "      <td>28. MoveTargetOutOfBoundsException: It takes p...</td>\n",
       "    </tr>\n",
       "    <tr>\n",
       "      <th>28</th>\n",
       "      <td>29. NoSuchContextException: ContextAware does ...</td>\n",
       "    </tr>\n",
       "    <tr>\n",
       "      <th>29</th>\n",
       "      <td>30. NoSuchCookieException: This Exception occu...</td>\n",
       "    </tr>\n",
       "    <tr>\n",
       "      <th>30</th>\n",
       "      <td>31. NotFoundException: This Exception is a sub...</td>\n",
       "    </tr>\n",
       "    <tr>\n",
       "      <th>31</th>\n",
       "      <td>32. RemoteDriverServerException: This Selenium...</td>\n",
       "    </tr>\n",
       "    <tr>\n",
       "      <th>32</th>\n",
       "      <td>33. ScreenshotException: It is not possible to...</td>\n",
       "    </tr>\n",
       "    <tr>\n",
       "      <th>33</th>\n",
       "      <td>34. SessionNotCreatedException: It happens whe...</td>\n",
       "    </tr>\n",
       "    <tr>\n",
       "      <th>34</th>\n",
       "      <td>35. UnableToSetCookieException: This occurs if...</td>\n",
       "    </tr>\n",
       "    <tr>\n",
       "      <th>35</th>\n",
       "      <td>36. UnexpectedTagNameException: Happens if a s...</td>\n",
       "    </tr>\n",
       "    <tr>\n",
       "      <th>36</th>\n",
       "      <td>37. UnhandledAlertException: This expectation ...</td>\n",
       "    </tr>\n",
       "    <tr>\n",
       "      <th>37</th>\n",
       "      <td>38. UnexpectedAlertPresentException: It occurs...</td>\n",
       "    </tr>\n",
       "    <tr>\n",
       "      <th>38</th>\n",
       "      <td>39. UnknownMethodException: This Exception hap...</td>\n",
       "    </tr>\n",
       "    <tr>\n",
       "      <th>39</th>\n",
       "      <td>40. UnreachableBrowserException: This Exceptio...</td>\n",
       "    </tr>\n",
       "    <tr>\n",
       "      <th>40</th>\n",
       "      <td>41. UnsupportedCommandException: This occurs w...</td>\n",
       "    </tr>\n",
       "  </tbody>\n",
       "</table>\n",
       "</div>"
      ],
      "text/plain": [
       "                                            Exception\n",
       "0   1. ElementNotVisibleException: This type of Se...\n",
       "1   2. ElementNotSelectableException: This Seleniu...\n",
       "2   3. NoSuchElementException: This Exception occu...\n",
       "3   4. NoSuchFrameException: This Exception occurs...\n",
       "4   5. NoAlertPresentException: This Exception occ...\n",
       "5   6. NoSuchWindowException: This Exception occur...\n",
       "6   7. StaleElementReferenceException: This Seleni...\n",
       "7   8. SessionNotFoundException: The WebDriver is ...\n",
       "8   9. TimeoutException: Thrown when there is not ...\n",
       "9   10. WebDriverException: This Exception takes p...\n",
       "10  11. ConnectionClosedException: This type of Ex...\n",
       "11  12. ElementClickInterceptedException: The comm...\n",
       "12  13. ElementNotInteractableException: This Sele...\n",
       "13  14. ErrorInResponseException: This happens whi...\n",
       "14  15. ErrorHandler.UnknownServerException: Excep...\n",
       "15  16. ImeActivationFailedException: This expecta...\n",
       "16  17. ImeNotAvailableException: It takes place w...\n",
       "17  18. InsecureCertificateException: Navigation m...\n",
       "18  19. InvalidArgumentException: It occurs when a...\n",
       "19  20. InvalidCookieDomainException: This happens...\n",
       "20  21. InvalidCoordinatesException: This type of ...\n",
       "21  22. InvalidElementStateException: It occurs wh...\n",
       "22  23. InvalidSessionIdException: This Exception ...\n",
       "23  24. InvalidSwitchToTargetException: This occur...\n",
       "24  25. JavascriptException: This issue occurs whi...\n",
       "25  26. JsonException: It occurs when you afford t...\n",
       "26  27. NoSuchAttributeException: This kind of Exc...\n",
       "27  28. MoveTargetOutOfBoundsException: It takes p...\n",
       "28  29. NoSuchContextException: ContextAware does ...\n",
       "29  30. NoSuchCookieException: This Exception occu...\n",
       "30  31. NotFoundException: This Exception is a sub...\n",
       "31  32. RemoteDriverServerException: This Selenium...\n",
       "32  33. ScreenshotException: It is not possible to...\n",
       "33  34. SessionNotCreatedException: It happens whe...\n",
       "34  35. UnableToSetCookieException: This occurs if...\n",
       "35  36. UnexpectedTagNameException: Happens if a s...\n",
       "36  37. UnhandledAlertException: This expectation ...\n",
       "37  38. UnexpectedAlertPresentException: It occurs...\n",
       "38  39. UnknownMethodException: This Exception hap...\n",
       "39  40. UnreachableBrowserException: This Exceptio...\n",
       "40  41. UnsupportedCommandException: This occurs w..."
      ]
     },
     "execution_count": 81,
     "metadata": {},
     "output_type": "execute_result"
    }
   ],
   "source": [
    "df = pd.DataFrame({'Exception':[exe1_des.text,exe2_des.text,exe3_des.text,exe4_des.text,exe5_des.text,exe6_des.text,exe7_des.text,exe8_des.text,exe9_des.text,exe10_des.text,exe11_des.text,exe12_des.text,exe13_des.text,exe14_des.text,exe15_des.text,exe16_des.text,exe17.text,exe18.text,exe19.text,exe20.text,exe21.text,exe22.text,exe23.text,exe24.text,exe25.text,exe26.text,exe27.text,exe28.text,exe29.text,exe30.text,exe31.text,exe32.text,exe33.text,exe34.text,exe35.text,exe36.text,exe37.text,exe38.text,exe39.text,exe40.text,exe41.text]})\n",
    "\n",
    "df"
   ]
  },
  {
   "cell_type": "code",
   "execution_count": 82,
   "id": "2ccc8403",
   "metadata": {},
   "outputs": [],
   "source": [
    "driver1.close()"
   ]
  },
  {
   "cell_type": "code",
   "execution_count": null,
   "id": "f050c33c",
   "metadata": {},
   "outputs": [],
   "source": []
  },
  {
   "cell_type": "code",
   "execution_count": null,
   "id": "64219fb0",
   "metadata": {},
   "outputs": [],
   "source": []
  },
  {
   "cell_type": "code",
   "execution_count": null,
   "id": "f0a6efc9",
   "metadata": {},
   "outputs": [],
   "source": []
  },
  {
   "cell_type": "code",
   "execution_count": null,
   "id": "ba9705ce",
   "metadata": {},
   "outputs": [],
   "source": []
  },
  {
   "cell_type": "code",
   "execution_count": null,
   "id": "19fcc678",
   "metadata": {},
   "outputs": [],
   "source": []
  },
  {
   "cell_type": "code",
   "execution_count": null,
   "id": "22d8cf0f",
   "metadata": {},
   "outputs": [],
   "source": [
    "# question no 4"
   ]
  },
  {
   "cell_type": "code",
   "execution_count": 3,
   "id": "ec08cf15",
   "metadata": {},
   "outputs": [
    {
     "data": {
      "text/plain": [
       "<selenium.webdriver.chrome.webdriver.WebDriver (session=\"d2612f61e6874eb52fabc4f67005a0ce\")>"
      ]
     },
     "execution_count": 3,
     "metadata": {},
     "output_type": "execute_result"
    }
   ],
   "source": [
    "driver2 = webdriver.Chrome(r'C:\\Users\\user\\chromedriver.exe')\n",
    "driver2"
   ]
  },
  {
   "cell_type": "code",
   "execution_count": 4,
   "id": "50e4075c",
   "metadata": {},
   "outputs": [],
   "source": [
    "url = 'http://statisticstimes.com/'\n",
    "\n",
    "driver2.get(url)"
   ]
  },
  {
   "cell_type": "code",
   "execution_count": null,
   "id": "5bfe94fc",
   "metadata": {},
   "outputs": [],
   "source": []
  },
  {
   "cell_type": "code",
   "execution_count": null,
   "id": "2ce8711e",
   "metadata": {},
   "outputs": [],
   "source": []
  },
  {
   "cell_type": "code",
   "execution_count": 5,
   "id": "8833d12a",
   "metadata": {},
   "outputs": [],
   "source": [
    "economy = driver2.find_element(By.XPATH,'/html/body/div[2]/div[1]/div[2]/div[2]/button')"
   ]
  },
  {
   "cell_type": "code",
   "execution_count": 6,
   "id": "583dc46d",
   "metadata": {},
   "outputs": [],
   "source": [
    "economy.click()"
   ]
  },
  {
   "cell_type": "code",
   "execution_count": 7,
   "id": "7a429a58",
   "metadata": {},
   "outputs": [],
   "source": [
    "india = driver2.find_element(By.XPATH,'/html/body/div[2]/div[1]/div[2]/div[2]/div/a[3]')"
   ]
  },
  {
   "cell_type": "code",
   "execution_count": 8,
   "id": "aa58f6d3",
   "metadata": {},
   "outputs": [],
   "source": [
    "india.click()"
   ]
  },
  {
   "cell_type": "code",
   "execution_count": 9,
   "id": "7200bc45",
   "metadata": {},
   "outputs": [],
   "source": [
    "gdp_india = driver2.find_element(By.XPATH,'/html/body/div[2]/div[2]/div[2]/ul/li[1]/a')"
   ]
  },
  {
   "cell_type": "code",
   "execution_count": 10,
   "id": "94db167c",
   "metadata": {},
   "outputs": [],
   "source": [
    "gdp_india.click()"
   ]
  },
  {
   "cell_type": "code",
   "execution_count": null,
   "id": "5c642dda",
   "metadata": {},
   "outputs": [],
   "source": []
  },
  {
   "cell_type": "code",
   "execution_count": null,
   "id": "2b0e8a60",
   "metadata": {},
   "outputs": [],
   "source": []
  },
  {
   "cell_type": "code",
   "execution_count": 11,
   "id": "6671d4cc",
   "metadata": {},
   "outputs": [
    {
     "data": {
      "text/plain": [
       "['1',\n",
       " '2',\n",
       " '3',\n",
       " '4',\n",
       " '5',\n",
       " '6',\n",
       " '7',\n",
       " '8',\n",
       " '9',\n",
       " '10',\n",
       " '11',\n",
       " '12',\n",
       " '13',\n",
       " '14',\n",
       " '15',\n",
       " '16',\n",
       " '17',\n",
       " '18',\n",
       " '19',\n",
       " '20',\n",
       " '21',\n",
       " '22',\n",
       " '23',\n",
       " '24',\n",
       " '25',\n",
       " '26',\n",
       " '27',\n",
       " '28',\n",
       " '29',\n",
       " '30',\n",
       " '31',\n",
       " '32',\n",
       " '33',\n",
       " '',\n",
       " '1',\n",
       " '2',\n",
       " '3',\n",
       " '4',\n",
       " '5',\n",
       " '6',\n",
       " '7',\n",
       " '8',\n",
       " '9',\n",
       " '10',\n",
       " '11',\n",
       " '12',\n",
       " '13',\n",
       " '14',\n",
       " '15',\n",
       " '16',\n",
       " '17',\n",
       " '18',\n",
       " '19',\n",
       " '20',\n",
       " '21',\n",
       " '22',\n",
       " '23',\n",
       " '24',\n",
       " '25',\n",
       " '26',\n",
       " '27',\n",
       " '28',\n",
       " '29',\n",
       " '30',\n",
       " '31',\n",
       " '32',\n",
       " '33',\n",
       " '']"
      ]
     },
     "execution_count": 11,
     "metadata": {},
     "output_type": "execute_result"
    }
   ],
   "source": [
    "rank = []\n",
    "\n",
    "rank_tag = driver2.find_elements(By.XPATH,'//td[@class=\"data1\"]')\n",
    "\n",
    "for i in rank_tag:\n",
    "    rank.append(i.text)\n",
    "    \n",
    "rank"
   ]
  },
  {
   "cell_type": "code",
   "execution_count": 12,
   "id": "a3e90b01",
   "metadata": {},
   "outputs": [
    {
     "data": {
      "text/plain": [
       "['1',\n",
       " '2',\n",
       " '3',\n",
       " '4',\n",
       " '5',\n",
       " '6',\n",
       " '7',\n",
       " '8',\n",
       " '9',\n",
       " '10',\n",
       " '11',\n",
       " '12',\n",
       " '13',\n",
       " '14',\n",
       " '15',\n",
       " '16',\n",
       " '17',\n",
       " '18',\n",
       " '19',\n",
       " '20',\n",
       " '21',\n",
       " '22',\n",
       " '23',\n",
       " '24',\n",
       " '25',\n",
       " '26',\n",
       " '27',\n",
       " '28',\n",
       " '29',\n",
       " '30',\n",
       " '31',\n",
       " '32',\n",
       " '33']"
      ]
     },
     "execution_count": 12,
     "metadata": {},
     "output_type": "execute_result"
    }
   ],
   "source": [
    "rank = [rank[0],rank[1],rank[2],rank[3],rank[4],rank[5],rank[6],rank[7],rank[8],rank[9],rank[10],rank[11],rank[12],rank[13],rank[14],rank[15],rank[16],rank[17],rank[18],rank[19],rank[20],rank[21],rank[22],rank[23],rank[24],rank[25],rank[26],rank[27],rank[28],rank[29],rank[30],rank[31],rank[32]]\n",
    "rank"
   ]
  },
  {
   "cell_type": "code",
   "execution_count": 13,
   "id": "ae1063e3",
   "metadata": {},
   "outputs": [
    {
     "data": {
      "text/plain": [
       "['Maharashtra',\n",
       " 'Tamil Nadu',\n",
       " 'Uttar Pradesh',\n",
       " 'Gujarat',\n",
       " 'Karnataka',\n",
       " 'West Bengal',\n",
       " 'Rajasthan',\n",
       " 'Andhra Pradesh',\n",
       " 'Telangana',\n",
       " 'Madhya Pradesh',\n",
       " 'Kerala',\n",
       " 'Delhi',\n",
       " 'Haryana',\n",
       " 'Bihar',\n",
       " 'Punjab',\n",
       " 'Odisha',\n",
       " 'Assam',\n",
       " 'Chhattisgarh',\n",
       " 'Jharkhand',\n",
       " 'Uttarakhand',\n",
       " 'Jammu & Kashmir',\n",
       " 'Himachal Pradesh',\n",
       " 'Goa',\n",
       " 'Tripura',\n",
       " 'Chandigarh',\n",
       " 'Puducherry',\n",
       " 'Meghalaya',\n",
       " 'Sikkim',\n",
       " 'Manipur',\n",
       " 'Nagaland',\n",
       " 'Arunachal Pradesh',\n",
       " 'Mizoram',\n",
       " 'Andaman & Nicobar Islands',\n",
       " 'India',\n",
       " 'Maharashtra',\n",
       " 'Tamil Nadu',\n",
       " 'Uttar Pradesh',\n",
       " 'Karnataka',\n",
       " 'Gujarat',\n",
       " 'West Bengal',\n",
       " 'Rajasthan',\n",
       " 'Telangana',\n",
       " 'Andhra Pradesh',\n",
       " 'Madhya Pradesh',\n",
       " 'Kerala',\n",
       " 'Delhi',\n",
       " 'Haryana',\n",
       " 'Bihar',\n",
       " 'Punjab',\n",
       " 'Odisha',\n",
       " 'Assam',\n",
       " 'Jharkhand',\n",
       " 'Chhattisgarh',\n",
       " 'Uttarakhand',\n",
       " 'Himachal Pradesh',\n",
       " 'Jammu & Kashmir',\n",
       " 'Goa',\n",
       " 'Tripura',\n",
       " 'Chandigarh',\n",
       " 'Puducherry',\n",
       " 'Meghalaya',\n",
       " 'Manipur',\n",
       " 'Sikkim',\n",
       " 'Nagaland',\n",
       " 'Arunachal Pradesh',\n",
       " 'Mizoram',\n",
       " 'Andaman & Nicobar Islands',\n",
       " 'India']"
      ]
     },
     "execution_count": 13,
     "metadata": {},
     "output_type": "execute_result"
    }
   ],
   "source": [
    "state = []\n",
    "\n",
    "state_tag = driver2.find_elements(By.XPATH,'//td[@class=\"name\"]')\n",
    "\n",
    "for i in state_tag:\n",
    "    state.append(i.text)\n",
    "    \n",
    "state"
   ]
  },
  {
   "cell_type": "code",
   "execution_count": 14,
   "id": "4ac4edcb",
   "metadata": {},
   "outputs": [
    {
     "data": {
      "text/plain": [
       "['Maharashtra',\n",
       " 'Tamil Nadu',\n",
       " 'Uttar Pradesh',\n",
       " 'Gujarat',\n",
       " 'Karnataka',\n",
       " 'West Bengal',\n",
       " 'West Bengal',\n",
       " 'Rajasthan',\n",
       " 'Andhra Pradesh',\n",
       " 'Telangana',\n",
       " 'Madhya Pradesh',\n",
       " 'Kerala',\n",
       " 'Delhi',\n",
       " 'Haryana',\n",
       " 'Bihar',\n",
       " 'Punjab',\n",
       " 'Punjab',\n",
       " 'Odisha',\n",
       " 'Assam',\n",
       " 'Chhattisgarh',\n",
       " 'Jharkhand',\n",
       " 'Uttarakhand',\n",
       " 'Jammu & Kashmir',\n",
       " 'Himachal Pradesh',\n",
       " 'Goa',\n",
       " 'Tripura',\n",
       " 'Chandigarh',\n",
       " 'Puducherry',\n",
       " 'Meghalaya',\n",
       " 'Sikkim',\n",
       " 'Manipur',\n",
       " 'Nagaland',\n",
       " 'Arunachal Pradesh',\n",
       " 'Mizoram',\n",
       " 'Andaman & Nicobar Islands']"
      ]
     },
     "execution_count": 14,
     "metadata": {},
     "output_type": "execute_result"
    }
   ],
   "source": [
    "state = [state[0],state[1],state[2],state[3],state[4],state[5],state[5],state[6],state[7],state[8],state[9],state[10],state[11],state[12],state[13],state[14],state[14],state[15],state[16],state[17],state[18],state[19],state[20],state[21],state[22],state[23],state[24],state[25],state[26],state[27],state[28],state[29],state[30],state[31],state[32]]\n",
    "state"
   ]
  },
  {
   "cell_type": "code",
   "execution_count": 15,
   "id": "69871075",
   "metadata": {
    "scrolled": false
   },
   "outputs": [
    {
     "data": {
      "text/plain": [
       "['-',\n",
       " '13.94%',\n",
       " '399.921',\n",
       " '-',\n",
       " '2,039,074',\n",
       " '1,845,853',\n",
       " '8.63%',\n",
       " '247.629',\n",
       " '1,312,929',\n",
       " '1,215,307',\n",
       " '1,687,818',\n",
       " '8.39%',\n",
       " '240.726',\n",
       " '1,166,817',\n",
       " '1,123,982',\n",
       " '-',\n",
       " '7.96%',\n",
       " '228.290',\n",
       " '-',\n",
       " '1,186,379',\n",
       " '1,631,977',\n",
       " '7.91%',\n",
       " '226.806',\n",
       " '1,156,039',\n",
       " '1,091,077',\n",
       " '1,253,832',\n",
       " '5.77%',\n",
       " '165.556',\n",
       " '793,223',\n",
       " '739,525',\n",
       " '1,020,989',\n",
       " '4.99%',\n",
       " '143.179',\n",
       " '711,627',\n",
       " '677,428',\n",
       " '972,782',\n",
       " '4.57%',\n",
       " '131.083',\n",
       " '672,018',\n",
       " '621,301',\n",
       " '969,604',\n",
       " '4.56%',\n",
       " '130.791',\n",
       " '663,258',\n",
       " '612,828',\n",
       " '906,672',\n",
       " '4.29%',\n",
       " '122.977',\n",
       " '561,801',\n",
       " '522,009',\n",
       " '-',\n",
       " '4.14%',\n",
       " '118.733',\n",
       " '-',\n",
       " '559,412',\n",
       " '856,112',\n",
       " '4.10%',\n",
       " '117.703',\n",
       " '634,408',\n",
       " '590,569',\n",
       " '831,610',\n",
       " '3.89%',\n",
       " '111.519',\n",
       " '572,240',\n",
       " '531,085',\n",
       " '611,804',\n",
       " '2.81%',\n",
       " '80.562',\n",
       " '414,977',\n",
       " '375,651',\n",
       " '574,760',\n",
       " '2.79%',\n",
       " '79.957',\n",
       " '418,868',\n",
       " '397,669',\n",
       " '521,275',\n",
       " '2.58%',\n",
       " '74.098',\n",
       " '396,499',\n",
       " '376,877',\n",
       " '-',\n",
       " '1.67%',\n",
       " '47.982',\n",
       " '-',\n",
       " '234,048',\n",
       " '329,180',\n",
       " '1.61%',\n",
       " '46.187',\n",
       " '243,477',\n",
       " '231,182',\n",
       " '328,598',\n",
       " '1.57%',\n",
       " '45.145',\n",
       " '240,036',\n",
       " '224,986',\n",
       " '-',\n",
       " '1.30%',\n",
       " '37.351',\n",
       " '-',\n",
       " '193,273',\n",
       " '-',\n",
       " '0.83%',\n",
       " '23.690',\n",
       " '-',\n",
       " '112,755',\n",
       " '165,472',\n",
       " '0.81%',\n",
       " '23.369',\n",
       " '124,403',\n",
       " '117,851',\n",
       " '80,449',\n",
       " '0.39%',\n",
       " '11.115',\n",
       " '63,408',\n",
       " '57,787',\n",
       " '55,984',\n",
       " '0.26%',\n",
       " '7.571',\n",
       " '40,583',\n",
       " '36,963',\n",
       " '-',\n",
       " '0.22%',\n",
       " '6.397',\n",
       " '-',\n",
       " '31,192',\n",
       " '38,253',\n",
       " '0.18%',\n",
       " '5.230',\n",
       " '25,093',\n",
       " '23,013',\n",
       " '36,572',\n",
       " '0.18%',\n",
       " '5.086',\n",
       " '26,695',\n",
       " '24,682',\n",
       " '32,496',\n",
       " '0.15%',\n",
       " '4.363',\n",
       " '20,017',\n",
       " '18,722',\n",
       " '31,790',\n",
       " '0.15%',\n",
       " '4.233',\n",
       " '20,673',\n",
       " '19,300',\n",
       " '-',\n",
       " '0.14%',\n",
       " '4.144',\n",
       " '-',\n",
       " '17,647',\n",
       " '-',\n",
       " '0.13%',\n",
       " '3.737',\n",
       " '-',\n",
       " '16,676',\n",
       " '26,503',\n",
       " '0.12%',\n",
       " '3.385',\n",
       " '18,797',\n",
       " '16,478',\n",
       " '-',\n",
       " '-',\n",
       " '-',\n",
       " '-',\n",
       " '-',\n",
       " '20,351,013',\n",
       " '18,886,957',\n",
       " '',\n",
       " '2,869',\n",
       " '14,569,268',\n",
       " '14,003,316',\n",
       " '-',\n",
       " '13.97%',\n",
       " '-',\n",
       " '1,794,123',\n",
       " '1,659,210',\n",
       " '8.77%',\n",
       " '1,167,776',\n",
       " '1,079,894',\n",
       " '1,495,758',\n",
       " '8.41%',\n",
       " '1,015,735',\n",
       " '979,159',\n",
       " '1,476,983',\n",
       " '8.09%',\n",
       " '1,035,131',\n",
       " '976,948',\n",
       " '-',\n",
       " '7.92%',\n",
       " '-',\n",
       " '1,036,859',\n",
       " '1,150,711',\n",
       " '5.96%',\n",
       " '713,376',\n",
       " '662,432',\n",
       " '916,014',\n",
       " '5.06%',\n",
       " '630,693',\n",
       " '600,433',\n",
       " '881,873',\n",
       " '4.68%',\n",
       " '594,806',\n",
       " '549,481',\n",
       " '875,429',\n",
       " '4.65%',\n",
       " '595,605',\n",
       " '550,584',\n",
       " '827,019',\n",
       " '4.41%',\n",
       " '496,798',\n",
       " '461,903',\n",
       " '-',\n",
       " '4.24%',\n",
       " '-',\n",
       " '513,322',\n",
       " '779,647',\n",
       " '4.22%',\n",
       " '568,265',\n",
       " '529,739',\n",
       " '755,790',\n",
       " '3.99%',\n",
       " '514,983',\n",
       " '477,834',\n",
       " '562,710',\n",
       " '2.91%',\n",
       " '377,276',\n",
       " '340,512',\n",
       " '517,521',\n",
       " '2.83%',\n",
       " '374,015',\n",
       " '354,830',\n",
       " '457,757',\n",
       " '2.56%',\n",
       " '344,437',\n",
       " '327,805',\n",
       " '-',\n",
       " '1.69%',\n",
       " '-',\n",
       " '207,193',\n",
       " '301,242',\n",
       " '1.63%',\n",
       " '218,232',\n",
       " '204,423',\n",
       " '288,041',\n",
       " '1.60%',\n",
       " '210,837',\n",
       " '200,453',\n",
       " '-',\n",
       " '1.33%',\n",
       " '-',\n",
       " '173,211',\n",
       " '143,063',\n",
       " '0.80%',\n",
       " '107,171',\n",
       " '101,534',\n",
       " '-',\n",
       " '0.78%',\n",
       " '-',\n",
       " '91,666',\n",
       " '72,181',\n",
       " '0.40%',\n",
       " '56,810',\n",
       " '51,878',\n",
       " '50,227',\n",
       " '0.27%',\n",
       " '35,980',\n",
       " '32,830',\n",
       " '-',\n",
       " '0.22%',\n",
       " '-',\n",
       " '27,565',\n",
       " '34,823',\n",
       " '0.19%',\n",
       " '22,291',\n",
       " '20,534',\n",
       " '32,833',\n",
       " '0.18%',\n",
       " '23,564',\n",
       " '21,779',\n",
       " '29,148',\n",
       " '0.15%',\n",
       " '18,549',\n",
       " '17,228',\n",
       " '28,391',\n",
       " '0.15%',\n",
       " '17,060',\n",
       " '15,972',\n",
       " '-',\n",
       " '0.15%',\n",
       " '-',\n",
       " '15,381',\n",
       " '-',\n",
       " '0.13%',\n",
       " '-',\n",
       " '15,013',\n",
       " '24,424',\n",
       " '0.13%',\n",
       " '17,797',\n",
       " '15,372',\n",
       " '-',\n",
       " '-',\n",
       " '-',\n",
       " '-',\n",
       " '17,994,301',\n",
       " '16,704,645',\n",
       " '',\n",
       " '12,681,246',\n",
       " '12,240,380']"
      ]
     },
     "execution_count": 15,
     "metadata": {},
     "output_type": "execute_result"
    }
   ],
   "source": [
    "gsdp_19 = []\n",
    "\n",
    "gsdp_19_tag = driver2.find_elements(By.XPATH,'//td[@class=\"data\"]')\n",
    "\n",
    "for i in gsdp_19_tag:\n",
    "    gsdp_19.append(i.text)\n",
    "    \n",
    "gsdp_19"
   ]
  },
  {
   "cell_type": "code",
   "execution_count": 17,
   "id": "b02776f3",
   "metadata": {},
   "outputs": [],
   "source": [
    "driver2.close()"
   ]
  },
  {
   "cell_type": "code",
   "execution_count": null,
   "id": "dac78129",
   "metadata": {},
   "outputs": [],
   "source": []
  },
  {
   "cell_type": "code",
   "execution_count": null,
   "id": "876836be",
   "metadata": {},
   "outputs": [],
   "source": []
  },
  {
   "cell_type": "code",
   "execution_count": null,
   "id": "5ed861de",
   "metadata": {},
   "outputs": [],
   "source": []
  },
  {
   "cell_type": "code",
   "execution_count": null,
   "id": "f16928bd",
   "metadata": {},
   "outputs": [],
   "source": [
    "# question no 5"
   ]
  },
  {
   "cell_type": "code",
   "execution_count": 98,
   "id": "ea66d6c6",
   "metadata": {},
   "outputs": [
    {
     "data": {
      "text/plain": [
       "<selenium.webdriver.chrome.webdriver.WebDriver (session=\"949911e3896d95762edc6da41600a3a4\")>"
      ]
     },
     "execution_count": 98,
     "metadata": {},
     "output_type": "execute_result"
    }
   ],
   "source": [
    "driver3 = webdriver.Chrome(r'C:\\Users\\user\\chromedriver.exe')\n",
    "driver3"
   ]
  },
  {
   "cell_type": "code",
   "execution_count": 99,
   "id": "b8c27ca8",
   "metadata": {},
   "outputs": [],
   "source": [
    "url = 'https://github.com/'\n",
    "\n",
    "driver3.get(url)"
   ]
  },
  {
   "cell_type": "code",
   "execution_count": 100,
   "id": "ec7c6423",
   "metadata": {},
   "outputs": [],
   "source": [
    "open_source = driver3.find_element(By.XPATH,'/html/body/div[1]/div[1]/header/div/div[2]/div/nav/ul/li[3]/button')"
   ]
  },
  {
   "cell_type": "code",
   "execution_count": 101,
   "id": "597ad161",
   "metadata": {},
   "outputs": [],
   "source": [
    "open_source.click()"
   ]
  },
  {
   "cell_type": "code",
   "execution_count": 102,
   "id": "a132bd28",
   "metadata": {},
   "outputs": [],
   "source": [
    "trend_srch = driver3.find_element(By.XPATH,'/html/body/div[1]/div[1]/header/div/div[2]/div/nav/ul/li[3]/div/ul[3]/li[3]/a')"
   ]
  },
  {
   "cell_type": "code",
   "execution_count": 103,
   "id": "037d36bd",
   "metadata": {},
   "outputs": [],
   "source": [
    "trend_srch.click()"
   ]
  },
  {
   "cell_type": "code",
   "execution_count": null,
   "id": "b46a86f5",
   "metadata": {},
   "outputs": [],
   "source": []
  },
  {
   "cell_type": "code",
   "execution_count": null,
   "id": "3adee438",
   "metadata": {},
   "outputs": [],
   "source": []
  },
  {
   "cell_type": "code",
   "execution_count": 104,
   "id": "93468514",
   "metadata": {},
   "outputs": [
    {
     "data": {
      "text/plain": [
       "['fuergaosi233 / wechat-chatgpt',\n",
       " 'ggerganov / whisper.cpp',\n",
       " 'remix-run / react-router',\n",
       " 'AutumnWhj / ChatGPT-wechat-bot',\n",
       " 'paradigmxyz / reth',\n",
       " '869413421 / wechatbot',\n",
       " 'rawandahmad698 / PyChatGPT',\n",
       " 'surrealdb / surrealdb',\n",
       " 'gragland / chatgpt-chrome-extension',\n",
       " 'Tencent / Hippy',\n",
       " 'acheong08 / ChatGPT',\n",
       " 'izackwu / TeachYourselfCS-CN',\n",
       " 'rmcelreath / stat_rethinking_2023',\n",
       " 'ryanmcdermott / clean-code-javascript',\n",
       " 'humanloop / awesome-chatgpt',\n",
       " 'louislam / uptime-kuma',\n",
       " 'lydiahallie / javascript-questions',\n",
       " 'f / awesome-chatgpt-prompts',\n",
       " 'LyraSearch / lyra',\n",
       " 'vincelwt / chatgpt-mac',\n",
       " 'openai / whisper',\n",
       " 'trekhleb / javascript-algorithms',\n",
       " 'OpenBB-finance / OpenBBTerminal',\n",
       " 'EbookFoundation / free-programming-books',\n",
       " 'donnemartin / system-design-primer']"
      ]
     },
     "execution_count": 104,
     "metadata": {},
     "output_type": "execute_result"
    }
   ],
   "source": [
    "rep_title = []\n",
    "\n",
    "title_tag = driver3.find_elements(By.XPATH,'//h1[@class=\"h3 lh-condensed\"]')\n",
    "\n",
    "for i in title_tag:\n",
    "    rep_title.append(i.text)\n",
    "    \n",
    "rep_title"
   ]
  },
  {
   "cell_type": "code",
   "execution_count": 105,
   "id": "b8b83937",
   "metadata": {},
   "outputs": [
    {
     "data": {
      "text/plain": [
       "['Use ChatGPT On Wechat via wechaty',\n",
       " \"Port of OpenAI's Whisper model in C/C++\",\n",
       " 'Declarative routing for React',\n",
       " 'ChatGPT for wechat',\n",
       " 'Modular, contributor-friendly and blazing-fast implementation of the Ethereum protocol, in Rust',\n",
       " '为个人微信接入ChatGPT',\n",
       " '⚡️ Python client for the unofficial ChatGPT API with auto token regeneration, conversation tracking, proxy support and more.',\n",
       " 'A scalable, distributed, collaborative, document-graph database, for the realtime web',\n",
       " 'A ChatGPT Chrome extension. Integrates ChatGPT into every text box on the internet.',\n",
       " 'Hippy is designed to easily build cross-platform dynamic apps. 👏',\n",
       " \"Lightweight package for interacting with ChatGPT's API by OpenAI. Uses reverse engineered official API.\",\n",
       " 'TeachYourselfCS 的中文翻译 | A Chinese translation of TeachYourselfCS',\n",
       " 'Statistical Rethinking Course for Jan-Mar 2023',\n",
       " '🛁 Clean Code concepts adapted for JavaScript',\n",
       " 'Curated list of awesome tools, demos, docs for ChatGPT and GPT-3',\n",
       " 'A fancy self-hosted monitoring tool',\n",
       " 'A long list of (advanced) JavaScript questions, and their explanations ✨',\n",
       " 'This repo includes ChatGPT promt curation to use ChatGPT better.',\n",
       " '🌌 Fast, in-memory, typo-tolerant, full-text search engine written in TypeScript.',\n",
       " 'ChatGPT for Mac, living in your menubar.',\n",
       " 'Robust Speech Recognition via Large-Scale Weak Supervision',\n",
       " '📝 Algorithms and data structures implemented in JavaScript with explanations and links to further readings',\n",
       " 'Investment Research for Everyone, Anywhere.',\n",
       " '📚 Freely available programming books',\n",
       " 'Learn how to design large-scale systems. Prep for the system design interview. Includes Anki flashcards.']"
      ]
     },
     "execution_count": 105,
     "metadata": {},
     "output_type": "execute_result"
    }
   ],
   "source": [
    "rep_des = []\n",
    "\n",
    "des_tag = driver3.find_elements(By.XPATH,'//p[@class=\"col-9 color-fg-muted my-1 pr-4\"]')\n",
    "\n",
    "for i in des_tag:\n",
    "    rep_des.append(i.text)\n",
    "    \n",
    "rep_des"
   ]
  },
  {
   "cell_type": "code",
   "execution_count": 107,
   "id": "0dd979f0",
   "metadata": {},
   "outputs": [
    {
     "data": {
      "text/plain": [
       "['2,129',\n",
       " '314',\n",
       " '3,349',\n",
       " '226',\n",
       " '49,046',\n",
       " '9,674',\n",
       " '453',\n",
       " '68',\n",
       " '641',\n",
       " '36',\n",
       " '367',\n",
       " '86',\n",
       " '1,467',\n",
       " '119',\n",
       " '16,164',\n",
       " '377',\n",
       " '413',\n",
       " '44',\n",
       " '7,142',\n",
       " '858',\n",
       " '5,244',\n",
       " '509',\n",
       " '16,521',\n",
       " '3,016',\n",
       " '174',\n",
       " '9',\n",
       " '76,340',\n",
       " '10,309',\n",
       " '882',\n",
       " '21',\n",
       " '24,456',\n",
       " '2,059',\n",
       " '50,451',\n",
       " '7,123',\n",
       " '1,211',\n",
       " '36',\n",
       " '4,517',\n",
       " '105',\n",
       " '1,840',\n",
       " '90',\n",
       " '18,182',\n",
       " '1,530',\n",
       " '156,488',\n",
       " '26,030',\n",
       " '18,350',\n",
       " '1,909',\n",
       " '258,100',\n",
       " '52,818',\n",
       " '205,294',\n",
       " '36,910']"
      ]
     },
     "execution_count": 107,
     "metadata": {},
     "output_type": "execute_result"
    }
   ],
   "source": [
    "contr_ = []\n",
    "\n",
    "cont_tag = driver3.find_elements(By.XPATH,'//a[@class=\"Link--muted d-inline-block mr-3\"]')\n",
    "\n",
    "for i in cont_tag:\n",
    "    contr_.append(i.text)\n",
    "\n",
    "contr_"
   ]
  },
  {
   "cell_type": "code",
   "execution_count": 108,
   "id": "ab3833d7",
   "metadata": {},
   "outputs": [
    {
     "data": {
      "text/plain": [
       "['314',\n",
       " '226',\n",
       " '9,674',\n",
       " '68',\n",
       " '36',\n",
       " '86',\n",
       " '119',\n",
       " '377',\n",
       " '44',\n",
       " '858',\n",
       " '509',\n",
       " '3,016',\n",
       " '9',\n",
       " '10,309',\n",
       " '21',\n",
       " '2,059',\n",
       " '7,123',\n",
       " '36',\n",
       " '105',\n",
       " '90',\n",
       " '1,530',\n",
       " '26,030',\n",
       " '1,909',\n",
       " '52,818',\n",
       " '36,910']"
      ]
     },
     "execution_count": 108,
     "metadata": {},
     "output_type": "execute_result"
    }
   ],
   "source": [
    "contr = [contr_[1],contr_[3],contr_[5],contr_[7],contr_[9],contr_[11],contr_[13],contr_[15],contr_[17],contr_[19],contr_[21],contr_[23],contr_[25],contr_[27],contr_[29],contr_[31],contr_[33],contr_[35],contr_[37],contr_[39],contr_[41],contr_[43],contr_[45],contr_[47],contr_[49]]\n",
    "\n",
    "contr"
   ]
  },
  {
   "cell_type": "code",
   "execution_count": 121,
   "id": "d7b116d1",
   "metadata": {
    "scrolled": true
   },
   "outputs": [
    {
     "data": {
      "text/plain": [
       "['TypeScript',\n",
       " 'C',\n",
       " 'TypeScript',\n",
       " 'TypeScript',\n",
       " 'C',\n",
       " 'Go',\n",
       " 'Python',\n",
       " 'Rust',\n",
       " 'JavaScript',\n",
       " 'C++',\n",
       " 'Python',\n",
       " 'JavaScript',\n",
       " 'JavaScript',\n",
       " 'TypeScript',\n",
       " 'JavaScript',\n",
       " 'Jupyter Notebook',\n",
       " 'JavaScript',\n",
       " 'Python',\n",
       " 'Python']"
      ]
     },
     "execution_count": 121,
     "metadata": {},
     "output_type": "execute_result"
    }
   ],
   "source": [
    "lan = []\n",
    "\n",
    "lang_tag = driver3.find_elements(By.XPATH,'//span[@class=\"d-inline-block ml-0 mr-3\"]')\n",
    "\n",
    "for i in lang_tag:\n",
    "    lan.append(i.text)\n",
    "    \n",
    "lan"
   ]
  },
  {
   "cell_type": "code",
   "execution_count": null,
   "id": "a6162803",
   "metadata": {},
   "outputs": [],
   "source": []
  },
  {
   "cell_type": "code",
   "execution_count": 133,
   "id": "89722c72",
   "metadata": {},
   "outputs": [
    {
     "data": {
      "text/html": [
       "<div>\n",
       "<style scoped>\n",
       "    .dataframe tbody tr th:only-of-type {\n",
       "        vertical-align: middle;\n",
       "    }\n",
       "\n",
       "    .dataframe tbody tr th {\n",
       "        vertical-align: top;\n",
       "    }\n",
       "\n",
       "    .dataframe thead th {\n",
       "        text-align: right;\n",
       "    }\n",
       "</style>\n",
       "<table border=\"1\" class=\"dataframe\">\n",
       "  <thead>\n",
       "    <tr style=\"text-align: right;\">\n",
       "      <th></th>\n",
       "      <th>Title</th>\n",
       "      <th>Description</th>\n",
       "      <th>Contributors_count</th>\n",
       "      <th>Language</th>\n",
       "    </tr>\n",
       "  </thead>\n",
       "  <tbody>\n",
       "    <tr>\n",
       "      <th>0</th>\n",
       "      <td>fuergaosi233 / wechat-chatgpt</td>\n",
       "      <td>Use ChatGPT On Wechat via wechaty</td>\n",
       "      <td>314</td>\n",
       "      <td>None</td>\n",
       "    </tr>\n",
       "    <tr>\n",
       "      <th>1</th>\n",
       "      <td>ggerganov / whisper.cpp</td>\n",
       "      <td>Port of OpenAI's Whisper model in C/C++</td>\n",
       "      <td>226</td>\n",
       "      <td>None</td>\n",
       "    </tr>\n",
       "    <tr>\n",
       "      <th>2</th>\n",
       "      <td>remix-run / react-router</td>\n",
       "      <td>Declarative routing for React</td>\n",
       "      <td>9,674</td>\n",
       "      <td>None</td>\n",
       "    </tr>\n",
       "    <tr>\n",
       "      <th>3</th>\n",
       "      <td>AutumnWhj / ChatGPT-wechat-bot</td>\n",
       "      <td>ChatGPT for wechat</td>\n",
       "      <td>68</td>\n",
       "      <td>None</td>\n",
       "    </tr>\n",
       "    <tr>\n",
       "      <th>4</th>\n",
       "      <td>paradigmxyz / reth</td>\n",
       "      <td>Modular, contributor-friendly and blazing-fast...</td>\n",
       "      <td>36</td>\n",
       "      <td>None</td>\n",
       "    </tr>\n",
       "    <tr>\n",
       "      <th>5</th>\n",
       "      <td>869413421 / wechatbot</td>\n",
       "      <td>为个人微信接入ChatGPT</td>\n",
       "      <td>86</td>\n",
       "      <td>None</td>\n",
       "    </tr>\n",
       "    <tr>\n",
       "      <th>6</th>\n",
       "      <td>rawandahmad698 / PyChatGPT</td>\n",
       "      <td>⚡️ Python client for the unofficial ChatGPT AP...</td>\n",
       "      <td>119</td>\n",
       "      <td>None</td>\n",
       "    </tr>\n",
       "    <tr>\n",
       "      <th>7</th>\n",
       "      <td>surrealdb / surrealdb</td>\n",
       "      <td>A scalable, distributed, collaborative, docume...</td>\n",
       "      <td>377</td>\n",
       "      <td>None</td>\n",
       "    </tr>\n",
       "    <tr>\n",
       "      <th>8</th>\n",
       "      <td>gragland / chatgpt-chrome-extension</td>\n",
       "      <td>A ChatGPT Chrome extension. Integrates ChatGPT...</td>\n",
       "      <td>44</td>\n",
       "      <td>None</td>\n",
       "    </tr>\n",
       "    <tr>\n",
       "      <th>9</th>\n",
       "      <td>Tencent / Hippy</td>\n",
       "      <td>Hippy is designed to easily build cross-platfo...</td>\n",
       "      <td>858</td>\n",
       "      <td>None</td>\n",
       "    </tr>\n",
       "    <tr>\n",
       "      <th>10</th>\n",
       "      <td>acheong08 / ChatGPT</td>\n",
       "      <td>Lightweight package for interacting with ChatG...</td>\n",
       "      <td>509</td>\n",
       "      <td>None</td>\n",
       "    </tr>\n",
       "    <tr>\n",
       "      <th>11</th>\n",
       "      <td>izackwu / TeachYourselfCS-CN</td>\n",
       "      <td>TeachYourselfCS 的中文翻译 | A Chinese translation ...</td>\n",
       "      <td>3,016</td>\n",
       "      <td>None</td>\n",
       "    </tr>\n",
       "    <tr>\n",
       "      <th>12</th>\n",
       "      <td>rmcelreath / stat_rethinking_2023</td>\n",
       "      <td>Statistical Rethinking Course for Jan-Mar 2023</td>\n",
       "      <td>9</td>\n",
       "      <td>None</td>\n",
       "    </tr>\n",
       "    <tr>\n",
       "      <th>13</th>\n",
       "      <td>ryanmcdermott / clean-code-javascript</td>\n",
       "      <td>🛁 Clean Code concepts adapted for JavaScript</td>\n",
       "      <td>10,309</td>\n",
       "      <td>None</td>\n",
       "    </tr>\n",
       "    <tr>\n",
       "      <th>14</th>\n",
       "      <td>humanloop / awesome-chatgpt</td>\n",
       "      <td>Curated list of awesome tools, demos, docs for...</td>\n",
       "      <td>21</td>\n",
       "      <td>None</td>\n",
       "    </tr>\n",
       "    <tr>\n",
       "      <th>15</th>\n",
       "      <td>louislam / uptime-kuma</td>\n",
       "      <td>A fancy self-hosted monitoring tool</td>\n",
       "      <td>2,059</td>\n",
       "      <td>None</td>\n",
       "    </tr>\n",
       "    <tr>\n",
       "      <th>16</th>\n",
       "      <td>lydiahallie / javascript-questions</td>\n",
       "      <td>A long list of (advanced) JavaScript questions...</td>\n",
       "      <td>7,123</td>\n",
       "      <td>None</td>\n",
       "    </tr>\n",
       "    <tr>\n",
       "      <th>17</th>\n",
       "      <td>f / awesome-chatgpt-prompts</td>\n",
       "      <td>This repo includes ChatGPT promt curation to u...</td>\n",
       "      <td>36</td>\n",
       "      <td>None</td>\n",
       "    </tr>\n",
       "    <tr>\n",
       "      <th>18</th>\n",
       "      <td>LyraSearch / lyra</td>\n",
       "      <td>🌌 Fast, in-memory, typo-tolerant, full-text se...</td>\n",
       "      <td>105</td>\n",
       "      <td>None</td>\n",
       "    </tr>\n",
       "    <tr>\n",
       "      <th>19</th>\n",
       "      <td>vincelwt / chatgpt-mac</td>\n",
       "      <td>ChatGPT for Mac, living in your menubar.</td>\n",
       "      <td>90</td>\n",
       "      <td>None</td>\n",
       "    </tr>\n",
       "    <tr>\n",
       "      <th>20</th>\n",
       "      <td>openai / whisper</td>\n",
       "      <td>Robust Speech Recognition via Large-Scale Weak...</td>\n",
       "      <td>1,530</td>\n",
       "      <td>None</td>\n",
       "    </tr>\n",
       "    <tr>\n",
       "      <th>21</th>\n",
       "      <td>trekhleb / javascript-algorithms</td>\n",
       "      <td>📝 Algorithms and data structures implemented i...</td>\n",
       "      <td>26,030</td>\n",
       "      <td>None</td>\n",
       "    </tr>\n",
       "    <tr>\n",
       "      <th>22</th>\n",
       "      <td>OpenBB-finance / OpenBBTerminal</td>\n",
       "      <td>Investment Research for Everyone, Anywhere.</td>\n",
       "      <td>1,909</td>\n",
       "      <td>None</td>\n",
       "    </tr>\n",
       "    <tr>\n",
       "      <th>23</th>\n",
       "      <td>EbookFoundation / free-programming-books</td>\n",
       "      <td>📚 Freely available programming books</td>\n",
       "      <td>52,818</td>\n",
       "      <td>None</td>\n",
       "    </tr>\n",
       "    <tr>\n",
       "      <th>24</th>\n",
       "      <td>donnemartin / system-design-primer</td>\n",
       "      <td>Learn how to design large-scale systems. Prep ...</td>\n",
       "      <td>36,910</td>\n",
       "      <td>None</td>\n",
       "    </tr>\n",
       "  </tbody>\n",
       "</table>\n",
       "</div>"
      ],
      "text/plain": [
       "                                       Title  \\\n",
       "0              fuergaosi233 / wechat-chatgpt   \n",
       "1                    ggerganov / whisper.cpp   \n",
       "2                   remix-run / react-router   \n",
       "3             AutumnWhj / ChatGPT-wechat-bot   \n",
       "4                         paradigmxyz / reth   \n",
       "5                      869413421 / wechatbot   \n",
       "6                 rawandahmad698 / PyChatGPT   \n",
       "7                      surrealdb / surrealdb   \n",
       "8        gragland / chatgpt-chrome-extension   \n",
       "9                            Tencent / Hippy   \n",
       "10                       acheong08 / ChatGPT   \n",
       "11              izackwu / TeachYourselfCS-CN   \n",
       "12         rmcelreath / stat_rethinking_2023   \n",
       "13     ryanmcdermott / clean-code-javascript   \n",
       "14               humanloop / awesome-chatgpt   \n",
       "15                    louislam / uptime-kuma   \n",
       "16        lydiahallie / javascript-questions   \n",
       "17               f / awesome-chatgpt-prompts   \n",
       "18                         LyraSearch / lyra   \n",
       "19                    vincelwt / chatgpt-mac   \n",
       "20                          openai / whisper   \n",
       "21          trekhleb / javascript-algorithms   \n",
       "22           OpenBB-finance / OpenBBTerminal   \n",
       "23  EbookFoundation / free-programming-books   \n",
       "24        donnemartin / system-design-primer   \n",
       "\n",
       "                                          Description Contributors_count  \\\n",
       "0                   Use ChatGPT On Wechat via wechaty                314   \n",
       "1             Port of OpenAI's Whisper model in C/C++                226   \n",
       "2                       Declarative routing for React              9,674   \n",
       "3                                  ChatGPT for wechat                 68   \n",
       "4   Modular, contributor-friendly and blazing-fast...                 36   \n",
       "5                                      为个人微信接入ChatGPT                 86   \n",
       "6   ⚡️ Python client for the unofficial ChatGPT AP...                119   \n",
       "7   A scalable, distributed, collaborative, docume...                377   \n",
       "8   A ChatGPT Chrome extension. Integrates ChatGPT...                 44   \n",
       "9   Hippy is designed to easily build cross-platfo...                858   \n",
       "10  Lightweight package for interacting with ChatG...                509   \n",
       "11  TeachYourselfCS 的中文翻译 | A Chinese translation ...              3,016   \n",
       "12     Statistical Rethinking Course for Jan-Mar 2023                  9   \n",
       "13       🛁 Clean Code concepts adapted for JavaScript             10,309   \n",
       "14  Curated list of awesome tools, demos, docs for...                 21   \n",
       "15                A fancy self-hosted monitoring tool              2,059   \n",
       "16  A long list of (advanced) JavaScript questions...              7,123   \n",
       "17  This repo includes ChatGPT promt curation to u...                 36   \n",
       "18  🌌 Fast, in-memory, typo-tolerant, full-text se...                105   \n",
       "19           ChatGPT for Mac, living in your menubar.                 90   \n",
       "20  Robust Speech Recognition via Large-Scale Weak...              1,530   \n",
       "21  📝 Algorithms and data structures implemented i...             26,030   \n",
       "22        Investment Research for Everyone, Anywhere.              1,909   \n",
       "23               📚 Freely available programming books             52,818   \n",
       "24  Learn how to design large-scale systems. Prep ...             36,910   \n",
       "\n",
       "   Language  \n",
       "0      None  \n",
       "1      None  \n",
       "2      None  \n",
       "3      None  \n",
       "4      None  \n",
       "5      None  \n",
       "6      None  \n",
       "7      None  \n",
       "8      None  \n",
       "9      None  \n",
       "10     None  \n",
       "11     None  \n",
       "12     None  \n",
       "13     None  \n",
       "14     None  \n",
       "15     None  \n",
       "16     None  \n",
       "17     None  \n",
       "18     None  \n",
       "19     None  \n",
       "20     None  \n",
       "21     None  \n",
       "22     None  \n",
       "23     None  \n",
       "24     None  "
      ]
     },
     "execution_count": 133,
     "metadata": {},
     "output_type": "execute_result"
    }
   ],
   "source": [
    "df = pd.DataFrame({'Title':rep_title,'Description':rep_des,'Contributors_count':contr,'Language':lan})\n",
    "\n",
    "df"
   ]
  },
  {
   "cell_type": "code",
   "execution_count": 135,
   "id": "3d89b5b8",
   "metadata": {},
   "outputs": [],
   "source": [
    "driver3.close()"
   ]
  },
  {
   "cell_type": "code",
   "execution_count": null,
   "id": "567f23f2",
   "metadata": {},
   "outputs": [],
   "source": []
  },
  {
   "cell_type": "code",
   "execution_count": null,
   "id": "77ac75af",
   "metadata": {},
   "outputs": [],
   "source": []
  },
  {
   "cell_type": "code",
   "execution_count": null,
   "id": "9f11b74b",
   "metadata": {},
   "outputs": [],
   "source": []
  },
  {
   "cell_type": "code",
   "execution_count": null,
   "id": "d3d9f748",
   "metadata": {},
   "outputs": [],
   "source": []
  },
  {
   "cell_type": "code",
   "execution_count": null,
   "id": "be259bf2",
   "metadata": {},
   "outputs": [],
   "source": []
  },
  {
   "cell_type": "code",
   "execution_count": 3,
   "id": "f272ae93",
   "metadata": {},
   "outputs": [],
   "source": [
    "# question no 6"
   ]
  },
  {
   "cell_type": "code",
   "execution_count": 4,
   "id": "26bf1bbc",
   "metadata": {},
   "outputs": [
    {
     "data": {
      "text/plain": [
       "<selenium.webdriver.chrome.webdriver.WebDriver (session=\"6eaa856dc5d08c033dee2bb495cf4676\")>"
      ]
     },
     "execution_count": 4,
     "metadata": {},
     "output_type": "execute_result"
    }
   ],
   "source": [
    "driver4 = webdriver.Chrome(r'C:\\Users\\user\\chromedriver.exe')\n",
    "driver4"
   ]
  },
  {
   "cell_type": "code",
   "execution_count": 5,
   "id": "a8688b95",
   "metadata": {},
   "outputs": [],
   "source": [
    "url = 'https:/www.billboard.com/'\n",
    "\n",
    "driver4.get(url)"
   ]
  },
  {
   "cell_type": "code",
   "execution_count": 6,
   "id": "81af8ee9",
   "metadata": {},
   "outputs": [],
   "source": [
    "charts = driver4.find_element(By.XPATH,'/html/body/div[3]/header/div/div[2]/div/div/div[2]/div[2]/div/div/nav/ul/li[1]/a')"
   ]
  },
  {
   "cell_type": "code",
   "execution_count": 7,
   "id": "445d05d4",
   "metadata": {},
   "outputs": [],
   "source": [
    "charts.click()"
   ]
  },
  {
   "cell_type": "code",
   "execution_count": 8,
   "id": "34adb59c",
   "metadata": {},
   "outputs": [],
   "source": [
    "hot_100 = driver4.find_element(By.XPATH,'/html/body/div[3]/main/div[2]/div[1]/div[1]/div/div/div[1]/div[1]/div[2]/span/a')"
   ]
  },
  {
   "cell_type": "code",
   "execution_count": 9,
   "id": "47b64ed3",
   "metadata": {},
   "outputs": [],
   "source": [
    "hot_100.click()"
   ]
  },
  {
   "cell_type": "code",
   "execution_count": null,
   "id": "aa54df0f",
   "metadata": {},
   "outputs": [],
   "source": []
  },
  {
   "cell_type": "code",
   "execution_count": null,
   "id": "1ddb2687",
   "metadata": {},
   "outputs": [],
   "source": []
  },
  {
   "cell_type": "code",
   "execution_count": 10,
   "id": "39df9600",
   "metadata": {},
   "outputs": [
    {
     "data": {
      "text/plain": [
       "'Anti-Hero'"
      ]
     },
     "execution_count": 10,
     "metadata": {},
     "output_type": "execute_result"
    }
   ],
   "source": [
    "song = driver4.find_element(By.XPATH,'//h3[@class=\"c-title  a-no-trucate a-font-primary-bold-s u-letter-spacing-0021 u-font-size-23@tablet lrv-u-font-size-16 u-line-height-125 u-line-height-normal@mobile-max a-truncate-ellipsis u-max-width-245 u-max-width-230@tablet-only u-letter-spacing-0028@tablet\"]')\n",
    "\n",
    "song = song.text\n",
    "\n",
    "song"
   ]
  },
  {
   "cell_type": "code",
   "execution_count": 14,
   "id": "31f6519f",
   "metadata": {},
   "outputs": [
    {
     "data": {
      "text/plain": [
       "['All I Want For Christmas Is You',\n",
       " \"Rockin' Around The Christmas Tree\",\n",
       " 'Unholy',\n",
       " 'Jingle Bell Rock',\n",
       " 'A Holly Jolly Christmas',\n",
       " 'Rich Flex',\n",
       " 'Bad Habit',\n",
       " \"It's The Most Wonderful Time Of The Year\",\n",
       " 'Last Christmas',\n",
       " \"I'm Good (Blue)\",\n",
       " 'The Christmas Song (Merry Christmas To You)',\n",
       " 'Feliz Navidad',\n",
       " 'As It Was',\n",
       " 'Die For You',\n",
       " 'Sleigh Ride',\n",
       " 'Underneath The Tree',\n",
       " 'Let It Snow, Let It Snow, Let It Snow',\n",
       " \"It's Beginning To Look A Lot Like Christmas\",\n",
       " 'Cuff It',\n",
       " 'Under The Influence',\n",
       " 'Lift Me Up',\n",
       " 'Christmas (Baby Please Come Home)',\n",
       " 'Santa Tell Me',\n",
       " 'You Proof',\n",
       " 'Super Freaky Girl',\n",
       " 'I Like You (A Happier Song)',\n",
       " 'Something In The Orange',\n",
       " \"It's Beginning To Look A Lot Like Christmas\",\n",
       " 'Deck The Halls',\n",
       " 'White Christmas',\n",
       " 'Wasted On You',\n",
       " 'Jingle Bells',\n",
       " 'Rudolph The Red-Nosed Reindeer',\n",
       " 'Just Wanna Rock',\n",
       " 'Made You Look',\n",
       " 'Tomorrow 2',\n",
       " 'Vegas',\n",
       " 'Here Comes Santa Claus (Right Down Santa Claus Lane)',\n",
       " 'Wait For U',\n",
       " 'Golden Hour',\n",
       " \"You're A Mean One, Mr. Grinch\",\n",
       " 'Blue Christmas',\n",
       " 'Titi Me Pregunto',\n",
       " \"I Ain't Worried\",\n",
       " 'Jimmy Cooks',\n",
       " 'Sunroof',\n",
       " 'About Damn Time',\n",
       " \"Santa Claus Is Comin' To Town\",\n",
       " 'She Had Me At Heads Carolina',\n",
       " 'Fall In Love',\n",
       " 'Lavender Haze',\n",
       " 'Spin Bout U',\n",
       " 'Until I Found You',\n",
       " 'Thank God',\n",
       " 'Circo Loco',\n",
       " \"Victoria's Secret\",\n",
       " 'On BS',\n",
       " 'Major Distribution',\n",
       " 'Son Of A Sinner',\n",
       " 'Rock And A Hard Place',\n",
       " 'What My World Spins Around',\n",
       " \"Star Walkin' (League Of Legends Worlds Anthem)\",\n",
       " 'Pussy & Millions',\n",
       " 'Wait In The Truck',\n",
       " 'Shirt',\n",
       " 'Hold Me Closer',\n",
       " 'Half Of Me',\n",
       " \"Don't Come Lookin'\",\n",
       " 'Bejeweled',\n",
       " 'Midnight Rain',\n",
       " 'Romantic Homicide',\n",
       " 'Maroon',\n",
       " 'Free Mind',\n",
       " 'Privileged Rappers',\n",
       " 'Whiskey On You',\n",
       " 'Billie Eilish.',\n",
       " 'Karma',\n",
       " 'Broke Boys',\n",
       " \"You're On Your Own, Kid\",\n",
       " 'BackOutsideBoyz',\n",
       " 'Heyy',\n",
       " 'Snow On The Beach',\n",
       " 'No Se Va',\n",
       " 'All Mine',\n",
       " 'California Breeze',\n",
       " 'Calm Down',\n",
       " 'Hours In Silence',\n",
       " 'Country On',\n",
       " 'Freestyle',\n",
       " 'Last Christmas',\n",
       " 'Jumbotron Shit Poppin',\n",
       " 'Pick Me Up',\n",
       " 'Heart Like A Truck',\n",
       " 'La Bachata',\n",
       " 'Someday At Christmas',\n",
       " 'Vigilante Shit',\n",
       " 'Forget Me',\n",
       " 'Going, Going, Gone',\n",
       " 'Miss You']"
      ]
     },
     "execution_count": 14,
     "metadata": {},
     "output_type": "execute_result"
    }
   ],
   "source": [
    "songs = []\n",
    "\n",
    "for i in driver4.find_elements(By.XPATH,'//h3[@class=\"c-title  a-no-trucate a-font-primary-bold-s u-letter-spacing-0021 lrv-u-font-size-18@tablet lrv-u-font-size-16 u-line-height-125 u-line-height-normal@mobile-max a-truncate-ellipsis u-max-width-330 u-max-width-230@tablet-only\"]'):\n",
    "    songs.append(i.text)\n",
    "    \n",
    "songs"
   ]
  },
  {
   "cell_type": "code",
   "execution_count": 15,
   "id": "ea3ef9ba",
   "metadata": {},
   "outputs": [],
   "source": [
    "songs.insert(0,song)"
   ]
  },
  {
   "cell_type": "code",
   "execution_count": 16,
   "id": "a0872165",
   "metadata": {},
   "outputs": [
    {
     "data": {
      "text/plain": [
       "['Anti-Hero',\n",
       " 'All I Want For Christmas Is You',\n",
       " \"Rockin' Around The Christmas Tree\",\n",
       " 'Unholy',\n",
       " 'Jingle Bell Rock',\n",
       " 'A Holly Jolly Christmas',\n",
       " 'Rich Flex',\n",
       " 'Bad Habit',\n",
       " \"It's The Most Wonderful Time Of The Year\",\n",
       " 'Last Christmas',\n",
       " \"I'm Good (Blue)\",\n",
       " 'The Christmas Song (Merry Christmas To You)',\n",
       " 'Feliz Navidad',\n",
       " 'As It Was',\n",
       " 'Die For You',\n",
       " 'Sleigh Ride',\n",
       " 'Underneath The Tree',\n",
       " 'Let It Snow, Let It Snow, Let It Snow',\n",
       " \"It's Beginning To Look A Lot Like Christmas\",\n",
       " 'Cuff It',\n",
       " 'Under The Influence',\n",
       " 'Lift Me Up',\n",
       " 'Christmas (Baby Please Come Home)',\n",
       " 'Santa Tell Me',\n",
       " 'You Proof',\n",
       " 'Super Freaky Girl',\n",
       " 'I Like You (A Happier Song)',\n",
       " 'Something In The Orange',\n",
       " \"It's Beginning To Look A Lot Like Christmas\",\n",
       " 'Deck The Halls',\n",
       " 'White Christmas',\n",
       " 'Wasted On You',\n",
       " 'Jingle Bells',\n",
       " 'Rudolph The Red-Nosed Reindeer',\n",
       " 'Just Wanna Rock',\n",
       " 'Made You Look',\n",
       " 'Tomorrow 2',\n",
       " 'Vegas',\n",
       " 'Here Comes Santa Claus (Right Down Santa Claus Lane)',\n",
       " 'Wait For U',\n",
       " 'Golden Hour',\n",
       " \"You're A Mean One, Mr. Grinch\",\n",
       " 'Blue Christmas',\n",
       " 'Titi Me Pregunto',\n",
       " \"I Ain't Worried\",\n",
       " 'Jimmy Cooks',\n",
       " 'Sunroof',\n",
       " 'About Damn Time',\n",
       " \"Santa Claus Is Comin' To Town\",\n",
       " 'She Had Me At Heads Carolina',\n",
       " 'Fall In Love',\n",
       " 'Lavender Haze',\n",
       " 'Spin Bout U',\n",
       " 'Until I Found You',\n",
       " 'Thank God',\n",
       " 'Circo Loco',\n",
       " \"Victoria's Secret\",\n",
       " 'On BS',\n",
       " 'Major Distribution',\n",
       " 'Son Of A Sinner',\n",
       " 'Rock And A Hard Place',\n",
       " 'What My World Spins Around',\n",
       " \"Star Walkin' (League Of Legends Worlds Anthem)\",\n",
       " 'Pussy & Millions',\n",
       " 'Wait In The Truck',\n",
       " 'Shirt',\n",
       " 'Hold Me Closer',\n",
       " 'Half Of Me',\n",
       " \"Don't Come Lookin'\",\n",
       " 'Bejeweled',\n",
       " 'Midnight Rain',\n",
       " 'Romantic Homicide',\n",
       " 'Maroon',\n",
       " 'Free Mind',\n",
       " 'Privileged Rappers',\n",
       " 'Whiskey On You',\n",
       " 'Billie Eilish.',\n",
       " 'Karma',\n",
       " 'Broke Boys',\n",
       " \"You're On Your Own, Kid\",\n",
       " 'BackOutsideBoyz',\n",
       " 'Heyy',\n",
       " 'Snow On The Beach',\n",
       " 'No Se Va',\n",
       " 'All Mine',\n",
       " 'California Breeze',\n",
       " 'Calm Down',\n",
       " 'Hours In Silence',\n",
       " 'Country On',\n",
       " 'Freestyle',\n",
       " 'Last Christmas',\n",
       " 'Jumbotron Shit Poppin',\n",
       " 'Pick Me Up',\n",
       " 'Heart Like A Truck',\n",
       " 'La Bachata',\n",
       " 'Someday At Christmas',\n",
       " 'Vigilante Shit',\n",
       " 'Forget Me',\n",
       " 'Going, Going, Gone',\n",
       " 'Miss You']"
      ]
     },
     "execution_count": 16,
     "metadata": {},
     "output_type": "execute_result"
    }
   ],
   "source": [
    "songs"
   ]
  },
  {
   "cell_type": "code",
   "execution_count": 17,
   "id": "644e638c",
   "metadata": {},
   "outputs": [
    {
     "data": {
      "text/plain": [
       "'Taylor Swift'"
      ]
     },
     "execution_count": 17,
     "metadata": {},
     "output_type": "execute_result"
    }
   ],
   "source": [
    "artist = driver4.find_element(By.XPATH,'//span[@class=\"c-label  a-no-trucate a-font-primary-s lrv-u-font-size-14@mobile-max u-line-height-normal@mobile-max u-letter-spacing-0021 lrv-u-display-block a-truncate-ellipsis-2line u-max-width-330 u-max-width-230@tablet-only u-font-size-20@tablet\"]')\n",
    "\n",
    "artist = artist.text\n",
    "\n",
    "artist"
   ]
  },
  {
   "cell_type": "code",
   "execution_count": 18,
   "id": "20b80fa7",
   "metadata": {},
   "outputs": [
    {
     "data": {
      "text/plain": [
       "['Mariah Carey',\n",
       " 'Brenda Lee',\n",
       " 'Sam Smith & Kim Petras',\n",
       " 'Bobby Helms',\n",
       " 'Burl Ives',\n",
       " 'Drake & 21 Savage',\n",
       " 'Steve Lacy',\n",
       " 'Andy Williams',\n",
       " 'Wham!',\n",
       " 'David Guetta & Bebe Rexha',\n",
       " 'Nat King Cole',\n",
       " 'Jose Feliciano',\n",
       " 'Harry Styles',\n",
       " 'The Weeknd',\n",
       " 'The Ronettes',\n",
       " 'Kelly Clarkson',\n",
       " 'Dean Martin',\n",
       " 'Perry Como And The Fontane Sisters With Mitchell Ayres And His Orchestra',\n",
       " 'Beyonce',\n",
       " 'Chris Brown',\n",
       " 'Rihanna',\n",
       " 'Darlene Love',\n",
       " 'Ariana Grande',\n",
       " 'Morgan Wallen',\n",
       " 'Nicki Minaj',\n",
       " 'Post Malone Featuring Doja Cat',\n",
       " 'Zach Bryan',\n",
       " 'Michael Buble',\n",
       " 'Nat King Cole',\n",
       " 'Bing Crosby',\n",
       " 'Morgan Wallen',\n",
       " 'Frank Sinatra',\n",
       " 'Gene Autry',\n",
       " 'Lil Uzi Vert',\n",
       " 'Meghan Trainor',\n",
       " 'GloRilla & Cardi B',\n",
       " 'Doja Cat',\n",
       " 'Gene Autry',\n",
       " 'Future Featuring Drake & Tems',\n",
       " 'JVKE',\n",
       " 'Thurl Ravenscroft',\n",
       " 'Elvis Presley',\n",
       " 'Bad Bunny',\n",
       " 'OneRepublic',\n",
       " 'Drake Featuring 21 Savage',\n",
       " 'Nicky Youre & dazy',\n",
       " 'Lizzo',\n",
       " 'Jackson 5',\n",
       " 'Cole Swindell',\n",
       " 'Bailey Zimmerman',\n",
       " 'Taylor Swift',\n",
       " 'Drake & 21 Savage',\n",
       " 'Stephen Sanchez',\n",
       " 'Kane Brown With Katelyn Brown',\n",
       " 'Drake & 21 Savage',\n",
       " 'Jax',\n",
       " 'Drake & 21 Savage',\n",
       " 'Drake & 21 Savage',\n",
       " 'Jelly Roll',\n",
       " 'Bailey Zimmerman',\n",
       " 'Jordan Davis',\n",
       " 'Lil Nas X',\n",
       " 'Drake & 21 Savage Featuring Travis Scott',\n",
       " 'HARDY Featuring Lainey Wilson',\n",
       " 'SZA',\n",
       " 'Elton John & Britney Spears',\n",
       " 'Thomas Rhett Featuring Riley Green',\n",
       " 'Jackson Dean',\n",
       " 'Taylor Swift',\n",
       " 'Taylor Swift',\n",
       " 'd4vd',\n",
       " 'Taylor Swift',\n",
       " 'Tems',\n",
       " 'Drake & 21 Savage',\n",
       " 'Nate Smith',\n",
       " 'Armani White',\n",
       " 'Taylor Swift',\n",
       " 'Drake & 21 Savage',\n",
       " 'Taylor Swift',\n",
       " 'Drake',\n",
       " 'Lil Baby',\n",
       " 'Taylor Swift Featuring Lana Del Rey',\n",
       " 'Grupo Frontera',\n",
       " 'Brent Faiyaz',\n",
       " 'Lil Baby',\n",
       " 'Rema & Selena Gomez',\n",
       " 'Drake & 21 Savage',\n",
       " 'Luke Bryan',\n",
       " 'Lil Baby',\n",
       " 'Lauren Spencer-Smith',\n",
       " 'Drake',\n",
       " 'Gabby Barrett',\n",
       " 'Lainey Wilson',\n",
       " 'Manuel Turizo',\n",
       " 'Lizzo',\n",
       " 'Taylor Swift',\n",
       " 'Lewis Capaldi',\n",
       " 'Luke Combs',\n",
       " 'Oliver Tree & Robin Schulz']"
      ]
     },
     "execution_count": 18,
     "metadata": {},
     "output_type": "execute_result"
    }
   ],
   "source": [
    "artists = []\n",
    "\n",
    "for i in driver4.find_elements(By.XPATH,'//span[@class=\"c-label  a-no-trucate a-font-primary-s lrv-u-font-size-14@mobile-max u-line-height-normal@mobile-max u-letter-spacing-0021 lrv-u-display-block a-truncate-ellipsis-2line u-max-width-330 u-max-width-230@tablet-only\"]'):\n",
    "    artists.append(i.text)\n",
    "    \n",
    "artists"
   ]
  },
  {
   "cell_type": "code",
   "execution_count": 19,
   "id": "5c852a7a",
   "metadata": {},
   "outputs": [
    {
     "data": {
      "text/plain": [
       "['Taylor Swift',\n",
       " 'Mariah Carey',\n",
       " 'Brenda Lee',\n",
       " 'Sam Smith & Kim Petras',\n",
       " 'Bobby Helms',\n",
       " 'Burl Ives',\n",
       " 'Drake & 21 Savage',\n",
       " 'Steve Lacy',\n",
       " 'Andy Williams',\n",
       " 'Wham!',\n",
       " 'David Guetta & Bebe Rexha',\n",
       " 'Nat King Cole',\n",
       " 'Jose Feliciano',\n",
       " 'Harry Styles',\n",
       " 'The Weeknd',\n",
       " 'The Ronettes',\n",
       " 'Kelly Clarkson',\n",
       " 'Dean Martin',\n",
       " 'Perry Como And The Fontane Sisters With Mitchell Ayres And His Orchestra',\n",
       " 'Beyonce',\n",
       " 'Chris Brown',\n",
       " 'Rihanna',\n",
       " 'Darlene Love',\n",
       " 'Ariana Grande',\n",
       " 'Morgan Wallen',\n",
       " 'Nicki Minaj',\n",
       " 'Post Malone Featuring Doja Cat',\n",
       " 'Zach Bryan',\n",
       " 'Michael Buble',\n",
       " 'Nat King Cole',\n",
       " 'Bing Crosby',\n",
       " 'Morgan Wallen',\n",
       " 'Frank Sinatra',\n",
       " 'Gene Autry',\n",
       " 'Lil Uzi Vert',\n",
       " 'Meghan Trainor',\n",
       " 'GloRilla & Cardi B',\n",
       " 'Doja Cat',\n",
       " 'Gene Autry',\n",
       " 'Future Featuring Drake & Tems',\n",
       " 'JVKE',\n",
       " 'Thurl Ravenscroft',\n",
       " 'Elvis Presley',\n",
       " 'Bad Bunny',\n",
       " 'OneRepublic',\n",
       " 'Drake Featuring 21 Savage',\n",
       " 'Nicky Youre & dazy',\n",
       " 'Lizzo',\n",
       " 'Jackson 5',\n",
       " 'Cole Swindell',\n",
       " 'Bailey Zimmerman',\n",
       " 'Taylor Swift',\n",
       " 'Drake & 21 Savage',\n",
       " 'Stephen Sanchez',\n",
       " 'Kane Brown With Katelyn Brown',\n",
       " 'Drake & 21 Savage',\n",
       " 'Jax',\n",
       " 'Drake & 21 Savage',\n",
       " 'Drake & 21 Savage',\n",
       " 'Jelly Roll',\n",
       " 'Bailey Zimmerman',\n",
       " 'Jordan Davis',\n",
       " 'Lil Nas X',\n",
       " 'Drake & 21 Savage Featuring Travis Scott',\n",
       " 'HARDY Featuring Lainey Wilson',\n",
       " 'SZA',\n",
       " 'Elton John & Britney Spears',\n",
       " 'Thomas Rhett Featuring Riley Green',\n",
       " 'Jackson Dean',\n",
       " 'Taylor Swift',\n",
       " 'Taylor Swift',\n",
       " 'd4vd',\n",
       " 'Taylor Swift',\n",
       " 'Tems',\n",
       " 'Drake & 21 Savage',\n",
       " 'Nate Smith',\n",
       " 'Armani White',\n",
       " 'Taylor Swift',\n",
       " 'Drake & 21 Savage',\n",
       " 'Taylor Swift',\n",
       " 'Drake',\n",
       " 'Lil Baby',\n",
       " 'Taylor Swift Featuring Lana Del Rey',\n",
       " 'Grupo Frontera',\n",
       " 'Brent Faiyaz',\n",
       " 'Lil Baby',\n",
       " 'Rema & Selena Gomez',\n",
       " 'Drake & 21 Savage',\n",
       " 'Luke Bryan',\n",
       " 'Lil Baby',\n",
       " 'Lauren Spencer-Smith',\n",
       " 'Drake',\n",
       " 'Gabby Barrett',\n",
       " 'Lainey Wilson',\n",
       " 'Manuel Turizo',\n",
       " 'Lizzo',\n",
       " 'Taylor Swift',\n",
       " 'Lewis Capaldi',\n",
       " 'Luke Combs',\n",
       " 'Oliver Tree & Robin Schulz']"
      ]
     },
     "execution_count": 19,
     "metadata": {},
     "output_type": "execute_result"
    }
   ],
   "source": [
    "artists.insert(0,artist)\n",
    "\n",
    "artists"
   ]
  },
  {
   "cell_type": "code",
   "execution_count": 25,
   "id": "4bbf13b7",
   "metadata": {},
   "outputs": [
    {
     "data": {
      "text/plain": [
       "'1'"
      ]
     },
     "execution_count": 25,
     "metadata": {},
     "output_type": "execute_result"
    }
   ],
   "source": [
    "lw_rank = driver4.find_element(By.XPATH,'//span[@class=\"c-label  a-font-primary-bold-l a-font-primary-m@mobile-max u-font-weight-normal@mobile-max lrv-u-padding-tb-050@mobile-max u-font-size-32@tablet\"]')\n",
    "\n",
    "lw_rank = lw_rank.text\n",
    "\n",
    "lw_rank"
   ]
  },
  {
   "cell_type": "code",
   "execution_count": 26,
   "id": "5cdb94e6",
   "metadata": {
    "scrolled": false
   },
   "outputs": [
    {
     "data": {
      "text/plain": [
       "['5',\n",
       " '1',\n",
       " '54',\n",
       " '',\n",
       " '',\n",
       " '',\n",
       " '6',\n",
       " '2',\n",
       " '48',\n",
       " '',\n",
       " '',\n",
       " '',\n",
       " '3',\n",
       " '1',\n",
       " '10',\n",
       " '',\n",
       " '',\n",
       " '',\n",
       " '9',\n",
       " '3',\n",
       " '45',\n",
       " '',\n",
       " '',\n",
       " '',\n",
       " '10',\n",
       " '4',\n",
       " '28',\n",
       " '',\n",
       " '',\n",
       " '',\n",
       " '2',\n",
       " '2',\n",
       " '4',\n",
       " '',\n",
       " '',\n",
       " '',\n",
       " '4',\n",
       " '1',\n",
       " '22',\n",
       " '',\n",
       " '',\n",
       " '',\n",
       " '19',\n",
       " '5',\n",
       " '29',\n",
       " '',\n",
       " '',\n",
       " '',\n",
       " '23',\n",
       " '7',\n",
       " '27',\n",
       " '',\n",
       " '',\n",
       " '',\n",
       " '7',\n",
       " '7',\n",
       " '14',\n",
       " '',\n",
       " '',\n",
       " '',\n",
       " '34',\n",
       " '11',\n",
       " '34',\n",
       " '',\n",
       " '',\n",
       " '',\n",
       " '42',\n",
       " '6',\n",
       " '22',\n",
       " '',\n",
       " '',\n",
       " '',\n",
       " '8',\n",
       " '1',\n",
       " '35',\n",
       " '',\n",
       " '',\n",
       " '',\n",
       " '12',\n",
       " '12',\n",
       " '18',\n",
       " '',\n",
       " '',\n",
       " '',\n",
       " '40',\n",
       " '10',\n",
       " '18',\n",
       " '',\n",
       " '',\n",
       " '',\n",
       " '48',\n",
       " '12',\n",
       " '17',\n",
       " '',\n",
       " '',\n",
       " '',\n",
       " '41',\n",
       " '8',\n",
       " '21',\n",
       " '',\n",
       " '',\n",
       " '',\n",
       " '43',\n",
       " '12',\n",
       " '14',\n",
       " '',\n",
       " '',\n",
       " '',\n",
       " '16',\n",
       " '13',\n",
       " '16',\n",
       " '',\n",
       " '',\n",
       " '',\n",
       " '14',\n",
       " '14',\n",
       " '12',\n",
       " '',\n",
       " '',\n",
       " '',\n",
       " '11',\n",
       " '2',\n",
       " '5',\n",
       " '',\n",
       " '',\n",
       " '',\n",
       " '-',\n",
       " '16',\n",
       " '13',\n",
       " '',\n",
       " '',\n",
       " '',\n",
       " '-',\n",
       " '17',\n",
       " '14',\n",
       " '',\n",
       " '',\n",
       " '',\n",
       " '13',\n",
       " '5',\n",
       " '29',\n",
       " '',\n",
       " '',\n",
       " '',\n",
       " '15',\n",
       " '1',\n",
       " '16',\n",
       " '',\n",
       " '',\n",
       " '',\n",
       " '18',\n",
       " '3',\n",
       " '26',\n",
       " '',\n",
       " '',\n",
       " '',\n",
       " '17',\n",
       " '12',\n",
       " '32',\n",
       " '',\n",
       " '',\n",
       " '',\n",
       " '-',\n",
       " '20',\n",
       " '11',\n",
       " '',\n",
       " '',\n",
       " '',\n",
       " '-',\n",
       " '30',\n",
       " '4',\n",
       " '',\n",
       " '',\n",
       " '',\n",
       " '-',\n",
       " '12',\n",
       " '26',\n",
       " '',\n",
       " '',\n",
       " '',\n",
       " '20',\n",
       " '9',\n",
       " '55',\n",
       " '',\n",
       " '',\n",
       " '',\n",
       " '-',\n",
       " '33',\n",
       " '5',\n",
       " '',\n",
       " '',\n",
       " '',\n",
       " '-',\n",
       " '16',\n",
       " '18',\n",
       " '',\n",
       " '',\n",
       " '',\n",
       " '21',\n",
       " '21',\n",
       " '7',\n",
       " '',\n",
       " '',\n",
       " '',\n",
       " '24',\n",
       " '24',\n",
       " '6',\n",
       " '',\n",
       " '',\n",
       " '',\n",
       " '22',\n",
       " '9',\n",
       " '10',\n",
       " '',\n",
       " '',\n",
       " '',\n",
       " '25',\n",
       " '10',\n",
       " '26',\n",
       " '',\n",
       " '',\n",
       " '',\n",
       " '-',\n",
       " '26',\n",
       " '11',\n",
       " '',\n",
       " '',\n",
       " '',\n",
       " '29',\n",
       " '1',\n",
       " '31',\n",
       " '',\n",
       " '',\n",
       " '',\n",
       " '35',\n",
       " '35',\n",
       " '14',\n",
       " '',\n",
       " '',\n",
       " '',\n",
       " '-',\n",
       " '32',\n",
       " '5',\n",
       " '',\n",
       " '',\n",
       " '',\n",
       " '-',\n",
       " '33',\n",
       " '4',\n",
       " '',\n",
       " '',\n",
       " '',\n",
       " '28',\n",
       " '5',\n",
       " '30',\n",
       " '',\n",
       " '',\n",
       " '',\n",
       " '27',\n",
       " '6',\n",
       " '25',\n",
       " '',\n",
       " '',\n",
       " '',\n",
       " '36',\n",
       " '1',\n",
       " '24',\n",
       " '',\n",
       " '',\n",
       " '',\n",
       " '33',\n",
       " '4',\n",
       " '27',\n",
       " '',\n",
       " '',\n",
       " '',\n",
       " '44',\n",
       " '1',\n",
       " '33',\n",
       " '',\n",
       " '',\n",
       " '',\n",
       " '-',\n",
       " '41',\n",
       " '3',\n",
       " '',\n",
       " '',\n",
       " '',\n",
       " '38',\n",
       " '16',\n",
       " '27',\n",
       " '',\n",
       " '',\n",
       " '',\n",
       " '49',\n",
       " '29',\n",
       " '31',\n",
       " '',\n",
       " '',\n",
       " '',\n",
       " '26',\n",
       " '2',\n",
       " '6',\n",
       " '',\n",
       " '',\n",
       " '',\n",
       " '31',\n",
       " '5',\n",
       " '4',\n",
       " '',\n",
       " '',\n",
       " '',\n",
       " '45',\n",
       " '38',\n",
       " '22',\n",
       " '',\n",
       " '',\n",
       " '',\n",
       " '46',\n",
       " '22',\n",
       " '12',\n",
       " '',\n",
       " '',\n",
       " '',\n",
       " '37',\n",
       " '8',\n",
       " '4',\n",
       " '',\n",
       " '',\n",
       " '',\n",
       " '59',\n",
       " '35',\n",
       " '18',\n",
       " '',\n",
       " '',\n",
       " '',\n",
       " '39',\n",
       " '4',\n",
       " '4',\n",
       " '',\n",
       " '',\n",
       " '',\n",
       " '30',\n",
       " '3',\n",
       " '4',\n",
       " '',\n",
       " '',\n",
       " '',\n",
       " '61',\n",
       " '31',\n",
       " '22',\n",
       " '',\n",
       " '',\n",
       " '',\n",
       " '54',\n",
       " '24',\n",
       " '25',\n",
       " '',\n",
       " '',\n",
       " '',\n",
       " '55',\n",
       " '41',\n",
       " '16',\n",
       " '',\n",
       " '',\n",
       " '',\n",
       " '64',\n",
       " '32',\n",
       " '10',\n",
       " '',\n",
       " '',\n",
       " '',\n",
       " '47',\n",
       " '6',\n",
       " '4',\n",
       " '',\n",
       " '',\n",
       " '',\n",
       " '53',\n",
       " '51',\n",
       " '13',\n",
       " '',\n",
       " '',\n",
       " '',\n",
       " '63',\n",
       " '11',\n",
       " '5',\n",
       " '',\n",
       " '',\n",
       " '',\n",
       " '51',\n",
       " '6',\n",
       " '14',\n",
       " '',\n",
       " '',\n",
       " '',\n",
       " '56',\n",
       " '52',\n",
       " '15',\n",
       " '',\n",
       " '',\n",
       " '',\n",
       " '60',\n",
       " '50',\n",
       " '14',\n",
       " '',\n",
       " '',\n",
       " '',\n",
       " '50',\n",
       " '6',\n",
       " '6',\n",
       " '',\n",
       " '',\n",
       " '',\n",
       " '52',\n",
       " '5',\n",
       " '6',\n",
       " '',\n",
       " '',\n",
       " '',\n",
       " '72',\n",
       " '33',\n",
       " '13',\n",
       " '',\n",
       " '',\n",
       " '',\n",
       " '58',\n",
       " '3',\n",
       " '6',\n",
       " '',\n",
       " '',\n",
       " '',\n",
       " '74',\n",
       " '46',\n",
       " '20',\n",
       " '',\n",
       " '',\n",
       " '',\n",
       " '62',\n",
       " '7',\n",
       " '4',\n",
       " '',\n",
       " '',\n",
       " '',\n",
       " '71',\n",
       " '44',\n",
       " '24',\n",
       " '',\n",
       " '',\n",
       " '',\n",
       " '75',\n",
       " '58',\n",
       " '12',\n",
       " '',\n",
       " '',\n",
       " '',\n",
       " '65',\n",
       " '9',\n",
       " '6',\n",
       " '',\n",
       " '',\n",
       " '',\n",
       " '68',\n",
       " '12',\n",
       " '4',\n",
       " '',\n",
       " '',\n",
       " '',\n",
       " '67',\n",
       " '8',\n",
       " '6',\n",
       " '',\n",
       " '',\n",
       " '',\n",
       " '66',\n",
       " '9',\n",
       " '4',\n",
       " '',\n",
       " '',\n",
       " '',\n",
       " '80',\n",
       " '21',\n",
       " '8',\n",
       " '',\n",
       " '',\n",
       " '',\n",
       " '69',\n",
       " '4',\n",
       " '6',\n",
       " '',\n",
       " '',\n",
       " '',\n",
       " '79',\n",
       " '57',\n",
       " '10',\n",
       " '',\n",
       " '',\n",
       " '',\n",
       " '93',\n",
       " '42',\n",
       " '17',\n",
       " '',\n",
       " '',\n",
       " '',\n",
       " '81',\n",
       " '4',\n",
       " '7',\n",
       " '',\n",
       " '',\n",
       " '',\n",
       " '82',\n",
       " '74',\n",
       " '13',\n",
       " '',\n",
       " '',\n",
       " '',\n",
       " '70',\n",
       " '11',\n",
       " '4',\n",
       " '',\n",
       " '',\n",
       " '',\n",
       " '83',\n",
       " '72',\n",
       " '15',\n",
       " '',\n",
       " '',\n",
       " '',\n",
       " '90',\n",
       " '63',\n",
       " '12',\n",
       " '',\n",
       " '',\n",
       " '',\n",
       " '-',\n",
       " '91',\n",
       " '1',\n",
       " '',\n",
       " '',\n",
       " '',\n",
       " '77',\n",
       " '16',\n",
       " '4',\n",
       " '',\n",
       " '',\n",
       " '',\n",
       " '87',\n",
       " '69',\n",
       " '18',\n",
       " '',\n",
       " '',\n",
       " '',\n",
       " '86',\n",
       " '86',\n",
       " '3',\n",
       " '',\n",
       " '',\n",
       " '',\n",
       " '94',\n",
       " '67',\n",
       " '15',\n",
       " '',\n",
       " '',\n",
       " '',\n",
       " '-',\n",
       " '96',\n",
       " '1',\n",
       " '',\n",
       " '',\n",
       " '',\n",
       " '73',\n",
       " '10',\n",
       " '6',\n",
       " '',\n",
       " '',\n",
       " '',\n",
       " '-',\n",
       " '95',\n",
       " '6',\n",
       " '',\n",
       " '',\n",
       " '',\n",
       " '98',\n",
       " '98',\n",
       " '3',\n",
       " '',\n",
       " '',\n",
       " '',\n",
       " '91',\n",
       " '84',\n",
       " '6',\n",
       " '',\n",
       " '',\n",
       " '']"
      ]
     },
     "execution_count": 26,
     "metadata": {},
     "output_type": "execute_result"
    }
   ],
   "source": [
    "lw_ranks = []\n",
    "\n",
    "for i in driver4.find_elements(By.XPATH,'//span[@class=\"c-label  a-font-primary-m lrv-u-padding-tb-050@mobile-max\"]'):\n",
    "    lw_ranks.append(i.text)\n",
    "    \n",
    "lw_ranks"
   ]
  },
  {
   "cell_type": "code",
   "execution_count": 27,
   "id": "f90d343d",
   "metadata": {},
   "outputs": [],
   "source": [
    "driver4.close()"
   ]
  },
  {
   "cell_type": "code",
   "execution_count": null,
   "id": "11761a8a",
   "metadata": {},
   "outputs": [],
   "source": []
  },
  {
   "cell_type": "code",
   "execution_count": null,
   "id": "e59b802b",
   "metadata": {},
   "outputs": [],
   "source": []
  },
  {
   "cell_type": "code",
   "execution_count": null,
   "id": "ac0d4580",
   "metadata": {},
   "outputs": [],
   "source": []
  },
  {
   "cell_type": "code",
   "execution_count": null,
   "id": "c8450e96",
   "metadata": {},
   "outputs": [],
   "source": []
  },
  {
   "cell_type": "code",
   "execution_count": null,
   "id": "9440b567",
   "metadata": {},
   "outputs": [],
   "source": []
  },
  {
   "cell_type": "code",
   "execution_count": 28,
   "id": "785e0632",
   "metadata": {},
   "outputs": [],
   "source": [
    "# question no 7"
   ]
  },
  {
   "cell_type": "code",
   "execution_count": 31,
   "id": "689851f2",
   "metadata": {},
   "outputs": [
    {
     "data": {
      "text/plain": [
       "<selenium.webdriver.chrome.webdriver.WebDriver (session=\"df0490a9fb996c8c3aa9805e91bd9f9d\")>"
      ]
     },
     "execution_count": 31,
     "metadata": {},
     "output_type": "execute_result"
    }
   ],
   "source": [
    "driver5 = webdriver.Chrome(r'C:\\Users\\user\\chromedriver.exe')\n",
    "driver5"
   ]
  },
  {
   "cell_type": "code",
   "execution_count": 32,
   "id": "73feb0fc",
   "metadata": {},
   "outputs": [],
   "source": [
    "url = 'https://www.naukri.com/'\n",
    "\n",
    "driver5.get(url)"
   ]
  },
  {
   "cell_type": "code",
   "execution_count": 33,
   "id": "6f302184",
   "metadata": {},
   "outputs": [],
   "source": [
    "search_button = driver5.find_element(By.XPATH,'/html/body/div[1]/div[6]/div/div/div[1]/div/div/div/input')"
   ]
  },
  {
   "cell_type": "code",
   "execution_count": 34,
   "id": "0f8c3eaf",
   "metadata": {},
   "outputs": [],
   "source": [
    "search_button.send_keys('Data science')"
   ]
  },
  {
   "cell_type": "code",
   "execution_count": 35,
   "id": "fbe12934",
   "metadata": {},
   "outputs": [],
   "source": [
    "srch_button = driver5.find_element(By.XPATH,'/html/body/div[1]/div[6]/div/div/div[6]')"
   ]
  },
  {
   "cell_type": "code",
   "execution_count": 36,
   "id": "df1e90b6",
   "metadata": {},
   "outputs": [],
   "source": [
    "srch_button.click()"
   ]
  },
  {
   "cell_type": "code",
   "execution_count": null,
   "id": "58c21eca",
   "metadata": {},
   "outputs": [],
   "source": []
  },
  {
   "cell_type": "code",
   "execution_count": null,
   "id": "fe750c31",
   "metadata": {},
   "outputs": [],
   "source": []
  },
  {
   "cell_type": "code",
   "execution_count": 37,
   "id": "35cf229e",
   "metadata": {},
   "outputs": [
    {
     "data": {
      "text/plain": [
       "['Consultant/Senior Manager - Analytics/Data Science - IT',\n",
       " 'Analyst-Data Science',\n",
       " 'Analyst - Data Science - Python/Machine Learning/Analytics',\n",
       " 'Paytm - Data Science - Lead',\n",
       " 'Sr. Manager - Data Science',\n",
       " 'Data Science Analyst',\n",
       " 'Associate Vice President - Data Science Team - Insurance',\n",
       " 'Delivery Head - Analytics & Data Science',\n",
       " 'Chief Data Science Role - Bank',\n",
       " 'Associate Vice President - Data Science - KPO',\n",
       " 'Data Science Professional',\n",
       " 'Delivery Head - Analytics & Data Science',\n",
       " 'Data Science Lead',\n",
       " 'Data Science - Engineering Manager',\n",
       " 'Data Science Engineer',\n",
       " 'Manager / Senior Manager - Data Science',\n",
       " 'Analyst-Data Science',\n",
       " 'Senior Analyst-Data Science',\n",
       " 'Data Science Senior Analyst-Procurement Analytics',\n",
       " 'Manager - Data Science - Model Development']"
      ]
     },
     "execution_count": 37,
     "metadata": {},
     "output_type": "execute_result"
    }
   ],
   "source": [
    "title = []\n",
    "\n",
    "for i in driver5.find_elements(By.XPATH,'//a[@class=\"title fw500 ellipsis\"]'):\n",
    "    title.append(i.text)\n",
    "    \n",
    "title"
   ]
  },
  {
   "cell_type": "code",
   "execution_count": 38,
   "id": "333ec9eb",
   "metadata": {},
   "outputs": [
    {
     "data": {
      "text/plain": [
       "['Huquo Consulting Pvt. Ltd',\n",
       " 'AMERICAN EXPRESS',\n",
       " 'Huquo Consulting Pvt. Ltd',\n",
       " 'Paytm',\n",
       " 'AMERICAN EXPRESS',\n",
       " 'EY Global Delivery Services India Llp',\n",
       " 'Huquo Consulting Pvt. Ltd',\n",
       " 'Okda Solutions',\n",
       " 'Dimensions HRD Consultants',\n",
       " 'Huquo Consulting Pvt. Ltd',\n",
       " 'CliqHR Recruitment Services',\n",
       " 'Okda Solutions',\n",
       " 'CliqHR Recruitment Services',\n",
       " 'Paytm',\n",
       " 'Geeky Bee AI Pvt Ltd',\n",
       " 'PYLON Management Consulting Private Limited',\n",
       " 'Accenture',\n",
       " 'Accenture',\n",
       " 'Accenture',\n",
       " 'Xpert Conexions']"
      ]
     },
     "execution_count": 38,
     "metadata": {},
     "output_type": "execute_result"
    }
   ],
   "source": [
    "company = []\n",
    "\n",
    "for i in driver5.find_elements(By.XPATH,'//a[@class=\"subTitle ellipsis fleft\"]'):\n",
    "    company.append(i.text)\n",
    "    \n",
    "company"
   ]
  },
  {
   "cell_type": "code",
   "execution_count": 41,
   "id": "dd6ce9c3",
   "metadata": {},
   "outputs": [
    {
     "data": {
      "text/plain": [
       "['Analytics Consultant/ Senior Manager- Data ScienceResponsibilities:- Collaborate with c...',\n",
       " 'BS / MS or PhD in a quantitative field - Applied Mathematics, Physics, Engineering, Com...',\n",
       " 'BTech, MTech or MCA degree from a reputed university Good power point presentation skil...',\n",
       " 'Bachelor s degree in technical/ analytics/ data science/ mathematics/ statistics/ econo...',\n",
       " 'Masters / PhDs in a quantitative field (Computer Science, Statistics, Mathematics, Phys...',\n",
       " 'Manager Data ScienceData and Analytics team is a multi-disciplinary technology team del...',\n",
       " 'A suitable candidate should have 8-10 years of experience in a similar role and should ...',\n",
       " '10+ years of experience in the delivery of Analytics, data science and machine learning...',\n",
       " 'Graduate / Post Graduate in Statistics / Economics / Engineering from premier college /...',\n",
       " 'Role & Responsibilities Overview :- Expected to work in close collaboration with the Cl...',\n",
       " 'Skills Required-Required Skills:Experience of 3-8 years in Data Analytics and a mandato...',\n",
       " '10+ years of experience in the delivery of Analytics, data science and machine learning...',\n",
       " 'Required Experience: Minimum 5+ years of hands on experience using statistical computer...',\n",
       " '- We are looking for passionate and skilled data scientists to help build the next gen ...',\n",
       " 'We are looking for Data Science Engineers with strong skills in Python. The candidate s...',\n",
       " 'Nice to have: Phd or degree from IIT / IIM/other top institutes 14+ years of experience...',\n",
       " 'You will be required to utilize the existing frameworks, standards, patterns to create ...',\n",
       " 'Skill required: Data Science - Python Programming Language Designation: Senior Analyst ...',\n",
       " 'Please note that this role may require you to work in rotational shifts Qualifications:...',\n",
       " 'Qualification: Masters degree in Business Administration/ MSc Statistics / or a related...']"
      ]
     },
     "execution_count": 41,
     "metadata": {},
     "output_type": "execute_result"
    }
   ],
   "source": [
    "des = []\n",
    "\n",
    "for i in driver5.find_elements(By.XPATH,'//div[@class=\"job-description fs12 grey-text\"]'):\n",
    "    des.append(i.text)\n",
    "    \n",
    "des"
   ]
  },
  {
   "cell_type": "code",
   "execution_count": 44,
   "id": "9e28490a",
   "metadata": {},
   "outputs": [
    {
     "data": {
      "text/plain": [
       "['Gurgaon/Gurugram, Bangalore/Bengaluru',\n",
       " 'Gurgaon/Gurugram',\n",
       " 'Gurgaon/Gurugram',\n",
       " 'Noida, Mumbai, Bangalore/Bengaluru',\n",
       " 'Gurgaon/Gurugram',\n",
       " 'Hybrid - Gurgaon/Gurugram, Bangalore/Bengaluru',\n",
       " 'Gurgaon/Gurugram',\n",
       " 'Gurgaon/Gurugram',\n",
       " 'Mumbai, Gurgaon/Gurugram',\n",
       " 'Gurgaon/Gurugram',\n",
       " 'Mumbai, Hyderabad/Secunderabad, Pune, Chennai, Delhi / NCR',\n",
       " 'Gurgaon/Gurugram',\n",
       " 'Mumbai, Hyderabad/Secunderabad, Pune, Chennai, Delhi / NCR',\n",
       " 'New Delhi, Bangalore/Bengaluru',\n",
       " 'Pune(Wakad)',\n",
       " 'Pune, Gurgaon/Gurugram, Bangalore/Bengaluru',\n",
       " 'Bangalore/Bengaluru',\n",
       " 'Mumbai',\n",
       " 'Hyderabad/Secunderabad',\n",
       " 'Mumbai (All Areas)']"
      ]
     },
     "execution_count": 44,
     "metadata": {},
     "output_type": "execute_result"
    }
   ],
   "source": [
    "loc = []\n",
    "\n",
    "for i in driver5.find_elements(By.XPATH,'//span[@class=\"ellipsis fleft fs12 lh16 locWdth\"]'):\n",
    "    loc.append(i.text)\n",
    "    \n",
    "loc"
   ]
  },
  {
   "cell_type": "code",
   "execution_count": 45,
   "id": "4eccbf77",
   "metadata": {},
   "outputs": [
    {
     "data": {
      "text/html": [
       "<div>\n",
       "<style scoped>\n",
       "    .dataframe tbody tr th:only-of-type {\n",
       "        vertical-align: middle;\n",
       "    }\n",
       "\n",
       "    .dataframe tbody tr th {\n",
       "        vertical-align: top;\n",
       "    }\n",
       "\n",
       "    .dataframe thead th {\n",
       "        text-align: right;\n",
       "    }\n",
       "</style>\n",
       "<table border=\"1\" class=\"dataframe\">\n",
       "  <thead>\n",
       "    <tr style=\"text-align: right;\">\n",
       "      <th></th>\n",
       "      <th>Name</th>\n",
       "      <th>Company</th>\n",
       "      <th>Skill</th>\n",
       "      <th>Location</th>\n",
       "    </tr>\n",
       "  </thead>\n",
       "  <tbody>\n",
       "    <tr>\n",
       "      <th>0</th>\n",
       "      <td>Consultant/Senior Manager - Analytics/Data Sci...</td>\n",
       "      <td>Huquo Consulting Pvt. Ltd</td>\n",
       "      <td>Analytics Consultant/ Senior Manager- Data Sci...</td>\n",
       "      <td>Gurgaon/Gurugram, Bangalore/Bengaluru</td>\n",
       "    </tr>\n",
       "    <tr>\n",
       "      <th>1</th>\n",
       "      <td>Analyst-Data Science</td>\n",
       "      <td>AMERICAN EXPRESS</td>\n",
       "      <td>BS / MS or PhD in a quantitative field - Appli...</td>\n",
       "      <td>Gurgaon/Gurugram</td>\n",
       "    </tr>\n",
       "    <tr>\n",
       "      <th>2</th>\n",
       "      <td>Analyst - Data Science - Python/Machine Learni...</td>\n",
       "      <td>Huquo Consulting Pvt. Ltd</td>\n",
       "      <td>BTech, MTech or MCA degree from a reputed univ...</td>\n",
       "      <td>Gurgaon/Gurugram</td>\n",
       "    </tr>\n",
       "    <tr>\n",
       "      <th>3</th>\n",
       "      <td>Paytm - Data Science - Lead</td>\n",
       "      <td>Paytm</td>\n",
       "      <td>Bachelor s degree in technical/ analytics/ dat...</td>\n",
       "      <td>Noida, Mumbai, Bangalore/Bengaluru</td>\n",
       "    </tr>\n",
       "    <tr>\n",
       "      <th>4</th>\n",
       "      <td>Sr. Manager - Data Science</td>\n",
       "      <td>AMERICAN EXPRESS</td>\n",
       "      <td>Masters / PhDs in a quantitative field (Comput...</td>\n",
       "      <td>Gurgaon/Gurugram</td>\n",
       "    </tr>\n",
       "    <tr>\n",
       "      <th>5</th>\n",
       "      <td>Data Science Analyst</td>\n",
       "      <td>EY Global Delivery Services India Llp</td>\n",
       "      <td>Manager Data ScienceData and Analytics team is...</td>\n",
       "      <td>Hybrid - Gurgaon/Gurugram, Bangalore/Bengaluru</td>\n",
       "    </tr>\n",
       "    <tr>\n",
       "      <th>6</th>\n",
       "      <td>Associate Vice President - Data Science Team -...</td>\n",
       "      <td>Huquo Consulting Pvt. Ltd</td>\n",
       "      <td>A suitable candidate should have 8-10 years of...</td>\n",
       "      <td>Gurgaon/Gurugram</td>\n",
       "    </tr>\n",
       "    <tr>\n",
       "      <th>7</th>\n",
       "      <td>Delivery Head - Analytics &amp; Data Science</td>\n",
       "      <td>Okda Solutions</td>\n",
       "      <td>10+ years of experience in the delivery of Ana...</td>\n",
       "      <td>Gurgaon/Gurugram</td>\n",
       "    </tr>\n",
       "    <tr>\n",
       "      <th>8</th>\n",
       "      <td>Chief Data Science Role - Bank</td>\n",
       "      <td>Dimensions HRD Consultants</td>\n",
       "      <td>Graduate / Post Graduate in Statistics / Econo...</td>\n",
       "      <td>Mumbai, Gurgaon/Gurugram</td>\n",
       "    </tr>\n",
       "    <tr>\n",
       "      <th>9</th>\n",
       "      <td>Associate Vice President - Data Science - KPO</td>\n",
       "      <td>Huquo Consulting Pvt. Ltd</td>\n",
       "      <td>Role &amp; Responsibilities Overview :- Expected t...</td>\n",
       "      <td>Gurgaon/Gurugram</td>\n",
       "    </tr>\n",
       "    <tr>\n",
       "      <th>10</th>\n",
       "      <td>Data Science Professional</td>\n",
       "      <td>CliqHR Recruitment Services</td>\n",
       "      <td>Skills Required-Required Skills:Experience of ...</td>\n",
       "      <td>Mumbai, Hyderabad/Secunderabad, Pune, Chennai,...</td>\n",
       "    </tr>\n",
       "    <tr>\n",
       "      <th>11</th>\n",
       "      <td>Delivery Head - Analytics &amp; Data Science</td>\n",
       "      <td>Okda Solutions</td>\n",
       "      <td>10+ years of experience in the delivery of Ana...</td>\n",
       "      <td>Gurgaon/Gurugram</td>\n",
       "    </tr>\n",
       "    <tr>\n",
       "      <th>12</th>\n",
       "      <td>Data Science Lead</td>\n",
       "      <td>CliqHR Recruitment Services</td>\n",
       "      <td>Required Experience: Minimum 5+ years of hands...</td>\n",
       "      <td>Mumbai, Hyderabad/Secunderabad, Pune, Chennai,...</td>\n",
       "    </tr>\n",
       "    <tr>\n",
       "      <th>13</th>\n",
       "      <td>Data Science - Engineering Manager</td>\n",
       "      <td>Paytm</td>\n",
       "      <td>- We are looking for passionate and skilled da...</td>\n",
       "      <td>New Delhi, Bangalore/Bengaluru</td>\n",
       "    </tr>\n",
       "    <tr>\n",
       "      <th>14</th>\n",
       "      <td>Data Science Engineer</td>\n",
       "      <td>Geeky Bee AI Pvt Ltd</td>\n",
       "      <td>We are looking for Data Science Engineers with...</td>\n",
       "      <td>Pune(Wakad)</td>\n",
       "    </tr>\n",
       "    <tr>\n",
       "      <th>15</th>\n",
       "      <td>Manager / Senior Manager - Data Science</td>\n",
       "      <td>PYLON Management Consulting Private Limited</td>\n",
       "      <td>Nice to have: Phd or degree from IIT / IIM/oth...</td>\n",
       "      <td>Pune, Gurgaon/Gurugram, Bangalore/Bengaluru</td>\n",
       "    </tr>\n",
       "    <tr>\n",
       "      <th>16</th>\n",
       "      <td>Analyst-Data Science</td>\n",
       "      <td>Accenture</td>\n",
       "      <td>You will be required to utilize the existing f...</td>\n",
       "      <td>Bangalore/Bengaluru</td>\n",
       "    </tr>\n",
       "    <tr>\n",
       "      <th>17</th>\n",
       "      <td>Senior Analyst-Data Science</td>\n",
       "      <td>Accenture</td>\n",
       "      <td>Skill required: Data Science - Python Programm...</td>\n",
       "      <td>Mumbai</td>\n",
       "    </tr>\n",
       "    <tr>\n",
       "      <th>18</th>\n",
       "      <td>Data Science Senior Analyst-Procurement Analytics</td>\n",
       "      <td>Accenture</td>\n",
       "      <td>Please note that this role may require you to ...</td>\n",
       "      <td>Hyderabad/Secunderabad</td>\n",
       "    </tr>\n",
       "    <tr>\n",
       "      <th>19</th>\n",
       "      <td>Manager - Data Science - Model Development</td>\n",
       "      <td>Xpert Conexions</td>\n",
       "      <td>Qualification: Masters degree in Business Admi...</td>\n",
       "      <td>Mumbai (All Areas)</td>\n",
       "    </tr>\n",
       "  </tbody>\n",
       "</table>\n",
       "</div>"
      ],
      "text/plain": [
       "                                                 Name  \\\n",
       "0   Consultant/Senior Manager - Analytics/Data Sci...   \n",
       "1                                Analyst-Data Science   \n",
       "2   Analyst - Data Science - Python/Machine Learni...   \n",
       "3                         Paytm - Data Science - Lead   \n",
       "4                          Sr. Manager - Data Science   \n",
       "5                                Data Science Analyst   \n",
       "6   Associate Vice President - Data Science Team -...   \n",
       "7            Delivery Head - Analytics & Data Science   \n",
       "8                      Chief Data Science Role - Bank   \n",
       "9       Associate Vice President - Data Science - KPO   \n",
       "10                          Data Science Professional   \n",
       "11           Delivery Head - Analytics & Data Science   \n",
       "12                                  Data Science Lead   \n",
       "13                 Data Science - Engineering Manager   \n",
       "14                              Data Science Engineer   \n",
       "15            Manager / Senior Manager - Data Science   \n",
       "16                               Analyst-Data Science   \n",
       "17                        Senior Analyst-Data Science   \n",
       "18  Data Science Senior Analyst-Procurement Analytics   \n",
       "19         Manager - Data Science - Model Development   \n",
       "\n",
       "                                        Company  \\\n",
       "0                     Huquo Consulting Pvt. Ltd   \n",
       "1                              AMERICAN EXPRESS   \n",
       "2                     Huquo Consulting Pvt. Ltd   \n",
       "3                                         Paytm   \n",
       "4                              AMERICAN EXPRESS   \n",
       "5         EY Global Delivery Services India Llp   \n",
       "6                     Huquo Consulting Pvt. Ltd   \n",
       "7                                Okda Solutions   \n",
       "8                    Dimensions HRD Consultants   \n",
       "9                     Huquo Consulting Pvt. Ltd   \n",
       "10                  CliqHR Recruitment Services   \n",
       "11                               Okda Solutions   \n",
       "12                  CliqHR Recruitment Services   \n",
       "13                                        Paytm   \n",
       "14                         Geeky Bee AI Pvt Ltd   \n",
       "15  PYLON Management Consulting Private Limited   \n",
       "16                                    Accenture   \n",
       "17                                    Accenture   \n",
       "18                                    Accenture   \n",
       "19                              Xpert Conexions   \n",
       "\n",
       "                                                Skill  \\\n",
       "0   Analytics Consultant/ Senior Manager- Data Sci...   \n",
       "1   BS / MS or PhD in a quantitative field - Appli...   \n",
       "2   BTech, MTech or MCA degree from a reputed univ...   \n",
       "3   Bachelor s degree in technical/ analytics/ dat...   \n",
       "4   Masters / PhDs in a quantitative field (Comput...   \n",
       "5   Manager Data ScienceData and Analytics team is...   \n",
       "6   A suitable candidate should have 8-10 years of...   \n",
       "7   10+ years of experience in the delivery of Ana...   \n",
       "8   Graduate / Post Graduate in Statistics / Econo...   \n",
       "9   Role & Responsibilities Overview :- Expected t...   \n",
       "10  Skills Required-Required Skills:Experience of ...   \n",
       "11  10+ years of experience in the delivery of Ana...   \n",
       "12  Required Experience: Minimum 5+ years of hands...   \n",
       "13  - We are looking for passionate and skilled da...   \n",
       "14  We are looking for Data Science Engineers with...   \n",
       "15  Nice to have: Phd or degree from IIT / IIM/oth...   \n",
       "16  You will be required to utilize the existing f...   \n",
       "17  Skill required: Data Science - Python Programm...   \n",
       "18  Please note that this role may require you to ...   \n",
       "19  Qualification: Masters degree in Business Admi...   \n",
       "\n",
       "                                             Location  \n",
       "0               Gurgaon/Gurugram, Bangalore/Bengaluru  \n",
       "1                                    Gurgaon/Gurugram  \n",
       "2                                    Gurgaon/Gurugram  \n",
       "3                  Noida, Mumbai, Bangalore/Bengaluru  \n",
       "4                                    Gurgaon/Gurugram  \n",
       "5      Hybrid - Gurgaon/Gurugram, Bangalore/Bengaluru  \n",
       "6                                    Gurgaon/Gurugram  \n",
       "7                                    Gurgaon/Gurugram  \n",
       "8                            Mumbai, Gurgaon/Gurugram  \n",
       "9                                    Gurgaon/Gurugram  \n",
       "10  Mumbai, Hyderabad/Secunderabad, Pune, Chennai,...  \n",
       "11                                   Gurgaon/Gurugram  \n",
       "12  Mumbai, Hyderabad/Secunderabad, Pune, Chennai,...  \n",
       "13                     New Delhi, Bangalore/Bengaluru  \n",
       "14                                        Pune(Wakad)  \n",
       "15        Pune, Gurgaon/Gurugram, Bangalore/Bengaluru  \n",
       "16                                Bangalore/Bengaluru  \n",
       "17                                             Mumbai  \n",
       "18                             Hyderabad/Secunderabad  \n",
       "19                                 Mumbai (All Areas)  "
      ]
     },
     "execution_count": 45,
     "metadata": {},
     "output_type": "execute_result"
    }
   ],
   "source": [
    "df = pd.DataFrame({'Name':title,'Company':company,'Skill':des,'Location':loc})\n",
    "\n",
    "df"
   ]
  },
  {
   "cell_type": "code",
   "execution_count": 46,
   "id": "dc3a2363",
   "metadata": {},
   "outputs": [],
   "source": [
    "driver5.close()"
   ]
  },
  {
   "cell_type": "code",
   "execution_count": null,
   "id": "89b33f4d",
   "metadata": {},
   "outputs": [],
   "source": []
  },
  {
   "cell_type": "code",
   "execution_count": null,
   "id": "e5d80d35",
   "metadata": {},
   "outputs": [],
   "source": []
  },
  {
   "cell_type": "code",
   "execution_count": null,
   "id": "f6b3e944",
   "metadata": {},
   "outputs": [],
   "source": []
  },
  {
   "cell_type": "code",
   "execution_count": null,
   "id": "705d10f5",
   "metadata": {},
   "outputs": [],
   "source": []
  },
  {
   "cell_type": "code",
   "execution_count": 47,
   "id": "285f80f2",
   "metadata": {},
   "outputs": [],
   "source": [
    "#question no 8"
   ]
  },
  {
   "cell_type": "code",
   "execution_count": 3,
   "id": "170c8e75",
   "metadata": {},
   "outputs": [
    {
     "data": {
      "text/plain": [
       "<selenium.webdriver.chrome.webdriver.WebDriver (session=\"af8a7905a4e19d6dac711aefeaaaa252\")>"
      ]
     },
     "execution_count": 3,
     "metadata": {},
     "output_type": "execute_result"
    }
   ],
   "source": [
    "driver6 = webdriver.Chrome(r'C:\\Users\\user\\chromedriver.exe')\n",
    "driver6"
   ]
  },
  {
   "cell_type": "code",
   "execution_count": 4,
   "id": "2085903b",
   "metadata": {},
   "outputs": [],
   "source": [
    "url = 'https://www.theguardian.com/news/datablog/2012/aug/09/best-selling-books-all-time-fifty-shades-grey-compare/'\n",
    "\n",
    "driver6.get(url)"
   ]
  },
  {
   "cell_type": "code",
   "execution_count": null,
   "id": "2cd3e625",
   "metadata": {},
   "outputs": [],
   "source": []
  },
  {
   "cell_type": "code",
   "execution_count": null,
   "id": "02b322db",
   "metadata": {},
   "outputs": [],
   "source": []
  },
  {
   "cell_type": "code",
   "execution_count": 5,
   "id": "94910b3f",
   "metadata": {},
   "outputs": [
    {
     "data": {
      "text/plain": [
       "['1',\n",
       " 'Da Vinci Code,The',\n",
       " 'Brown, Dan',\n",
       " '5,094,805',\n",
       " 'Transworld',\n",
       " '2',\n",
       " 'Harry Potter and the Deathly Hallows',\n",
       " 'Rowling, J.K.',\n",
       " '4,475,152',\n",
       " 'Bloomsbury',\n",
       " '3',\n",
       " \"Harry Potter and the Philosopher's Stone\",\n",
       " 'Rowling, J.K.',\n",
       " '4,200,654',\n",
       " 'Bloomsbury',\n",
       " '4',\n",
       " 'Harry Potter and the Order of the Phoenix',\n",
       " 'Rowling, J.K.',\n",
       " '4,179,479',\n",
       " 'Bloomsbury',\n",
       " '5',\n",
       " 'Fifty Shades of Grey',\n",
       " 'James, E. L.',\n",
       " '3,758,936',\n",
       " 'Random House',\n",
       " '6',\n",
       " 'Harry Potter and the Goblet of Fire',\n",
       " 'Rowling, J.K.',\n",
       " '3,583,215',\n",
       " 'Bloomsbury',\n",
       " '7',\n",
       " 'Harry Potter and the Chamber of Secrets',\n",
       " 'Rowling, J.K.',\n",
       " '3,484,047',\n",
       " 'Bloomsbury',\n",
       " '8',\n",
       " 'Harry Potter and the Prisoner of Azkaban',\n",
       " 'Rowling, J.K.',\n",
       " '3,377,906',\n",
       " 'Bloomsbury',\n",
       " '9',\n",
       " 'Angels and Demons',\n",
       " 'Brown, Dan',\n",
       " '3,193,946',\n",
       " 'Transworld',\n",
       " '10',\n",
       " \"Harry Potter and the Half-blood Prince:Children's Edition\",\n",
       " 'Rowling, J.K.',\n",
       " '2,950,264',\n",
       " 'Bloomsbury',\n",
       " '11',\n",
       " 'Fifty Shades Darker',\n",
       " 'James, E. L.',\n",
       " '2,479,784',\n",
       " 'Random House',\n",
       " '12',\n",
       " 'Twilight',\n",
       " 'Meyer, Stephenie',\n",
       " '2,315,405',\n",
       " 'Little, Brown Book',\n",
       " '13',\n",
       " 'Girl with the Dragon Tattoo,The:Millennium Trilogy',\n",
       " 'Larsson, Stieg',\n",
       " '2,233,570',\n",
       " 'Quercus',\n",
       " '14',\n",
       " 'Fifty Shades Freed',\n",
       " 'James, E. L.',\n",
       " '2,193,928',\n",
       " 'Random House',\n",
       " '15',\n",
       " 'Lost Symbol,The',\n",
       " 'Brown, Dan',\n",
       " '2,183,031',\n",
       " 'Transworld',\n",
       " '16',\n",
       " 'New Moon',\n",
       " 'Meyer, Stephenie',\n",
       " '2,152,737',\n",
       " 'Little, Brown Book',\n",
       " '17',\n",
       " 'Deception Point',\n",
       " 'Brown, Dan',\n",
       " '2,062,145',\n",
       " 'Transworld',\n",
       " '18',\n",
       " 'Eclipse',\n",
       " 'Meyer, Stephenie',\n",
       " '2,052,876',\n",
       " 'Little, Brown Book',\n",
       " '19',\n",
       " 'Lovely Bones,The',\n",
       " 'Sebold, Alice',\n",
       " '2,005,598',\n",
       " 'Pan Macmillan',\n",
       " '20',\n",
       " 'Curious Incident of the Dog in the Night-time,The',\n",
       " 'Haddon, Mark',\n",
       " '1,979,552',\n",
       " 'Random House',\n",
       " '21',\n",
       " 'Digital Fortress',\n",
       " 'Brown, Dan',\n",
       " '1,928,900',\n",
       " 'Transworld',\n",
       " '22',\n",
       " 'Short History of Nearly Everything,A',\n",
       " 'Bryson, Bill',\n",
       " '1,852,919',\n",
       " 'Transworld',\n",
       " '23',\n",
       " 'Girl Who Played with Fire,The:Millennium Trilogy',\n",
       " 'Larsson, Stieg',\n",
       " '1,814,784',\n",
       " 'Quercus',\n",
       " '24',\n",
       " 'Breaking Dawn',\n",
       " 'Meyer, Stephenie',\n",
       " '1,787,118',\n",
       " 'Little, Brown Book',\n",
       " '25',\n",
       " 'Very Hungry Caterpillar,The:The Very Hungry Caterpillar',\n",
       " 'Carle, Eric',\n",
       " '1,783,535',\n",
       " 'Penguin',\n",
       " '26',\n",
       " 'Gruffalo,The',\n",
       " 'Donaldson, Julia',\n",
       " '1,781,269',\n",
       " 'Pan Macmillan',\n",
       " '27',\n",
       " \"Jamie's 30-Minute Meals\",\n",
       " 'Oliver, Jamie',\n",
       " '1,743,266',\n",
       " 'Penguin',\n",
       " '28',\n",
       " 'Kite Runner,The',\n",
       " 'Hosseini, Khaled',\n",
       " '1,629,119',\n",
       " 'Bloomsbury',\n",
       " '29',\n",
       " 'One Day',\n",
       " 'Nicholls, David',\n",
       " '1,616,068',\n",
       " 'Hodder & Stoughton',\n",
       " '30',\n",
       " 'Thousand Splendid Suns,A',\n",
       " 'Hosseini, Khaled',\n",
       " '1,583,992',\n",
       " 'Bloomsbury',\n",
       " '31',\n",
       " \"Girl Who Kicked the Hornets' Nest,The:Millennium Trilogy\",\n",
       " 'Larsson, Stieg',\n",
       " '1,555,135',\n",
       " 'Quercus',\n",
       " '32',\n",
       " \"Time Traveler's Wife,The\",\n",
       " 'Niffenegger, Audrey',\n",
       " '1,546,886',\n",
       " 'Random House',\n",
       " '33',\n",
       " 'Atonement',\n",
       " 'McEwan, Ian',\n",
       " '1,539,428',\n",
       " 'Random House',\n",
       " '34',\n",
       " \"Bridget Jones's Diary:A Novel\",\n",
       " 'Fielding, Helen',\n",
       " '1,508,205',\n",
       " 'Pan Macmillan',\n",
       " '35',\n",
       " 'World According to Clarkson,The',\n",
       " 'Clarkson, Jeremy',\n",
       " '1,489,403',\n",
       " 'Penguin',\n",
       " '36',\n",
       " \"Captain Corelli's Mandolin\",\n",
       " 'Bernieres, Louis de',\n",
       " '1,352,318',\n",
       " 'Random House',\n",
       " '37',\n",
       " 'Sound of Laughter,The',\n",
       " 'Kay, Peter',\n",
       " '1,310,207',\n",
       " 'Random House',\n",
       " '38',\n",
       " 'Life of Pi',\n",
       " 'Martel, Yann',\n",
       " '1,310,176',\n",
       " 'Canongate',\n",
       " '39',\n",
       " 'Billy Connolly',\n",
       " 'Stephenson, Pamela',\n",
       " '1,231,957',\n",
       " 'HarperCollins',\n",
       " '40',\n",
       " 'Child Called It,A',\n",
       " 'Pelzer, Dave',\n",
       " '1,217,712',\n",
       " 'Orion',\n",
       " '41',\n",
       " \"Gruffalo's Child,The\",\n",
       " 'Donaldson, Julia',\n",
       " '1,208,711',\n",
       " 'Pan Macmillan',\n",
       " '42',\n",
       " \"Angela's Ashes:A Memoir of a Childhood\",\n",
       " 'McCourt, Frank',\n",
       " '1,204,058',\n",
       " 'HarperCollins',\n",
       " '43',\n",
       " 'Birdsong',\n",
       " 'Faulks, Sebastian',\n",
       " '1,184,967',\n",
       " 'Random House',\n",
       " '44',\n",
       " 'Northern Lights:His Dark Materials S.',\n",
       " 'Pullman, Philip',\n",
       " '1,181,503',\n",
       " 'Scholastic Ltd.',\n",
       " '45',\n",
       " 'Labyrinth',\n",
       " 'Mosse, Kate',\n",
       " '1,181,093',\n",
       " 'Orion',\n",
       " '46',\n",
       " 'Harry Potter and the Half-blood Prince',\n",
       " 'Rowling, J.K.',\n",
       " '1,153,181',\n",
       " 'Bloomsbury',\n",
       " '47',\n",
       " 'Help,The',\n",
       " 'Stockett, Kathryn',\n",
       " '1,132,336',\n",
       " 'Penguin',\n",
       " '48',\n",
       " 'Man and Boy',\n",
       " 'Parsons, Tony',\n",
       " '1,130,802',\n",
       " 'HarperCollins',\n",
       " '49',\n",
       " 'Memoirs of a Geisha',\n",
       " 'Golden, Arthur',\n",
       " '1,126,337',\n",
       " 'Random House',\n",
       " '50',\n",
       " \"No.1 Ladies' Detective Agency,The:No.1 Ladies' Detective Agency S.\",\n",
       " 'McCall Smith, Alexander',\n",
       " '1,115,549',\n",
       " 'Little, Brown Book',\n",
       " '51',\n",
       " 'Island,The',\n",
       " 'Hislop, Victoria',\n",
       " '1,108,328',\n",
       " 'Headline',\n",
       " '52',\n",
       " 'PS, I Love You',\n",
       " 'Ahern, Cecelia',\n",
       " '1,107,379',\n",
       " 'HarperCollins',\n",
       " '53',\n",
       " 'You are What You Eat:The Plan That Will Change Your Life',\n",
       " 'McKeith, Gillian',\n",
       " '1,104,403',\n",
       " 'Penguin',\n",
       " '54',\n",
       " 'Shadow of the Wind,The',\n",
       " 'Zafon, Carlos Ruiz',\n",
       " '1,092,349',\n",
       " 'Orion',\n",
       " '55',\n",
       " 'Tales of Beedle the Bard,The',\n",
       " 'Rowling, J.K.',\n",
       " '1,090,847',\n",
       " 'Bloomsbury',\n",
       " '56',\n",
       " 'Broker,The',\n",
       " 'Grisham, John',\n",
       " '1,087,262',\n",
       " 'Random House',\n",
       " '57',\n",
       " \"Dr. Atkins' New Diet Revolution:The No-hunger, Luxurious Weight Loss P\",\n",
       " 'Atkins, Robert C.',\n",
       " '1,054,196',\n",
       " 'Random House',\n",
       " '58',\n",
       " 'Subtle Knife,The:His Dark Materials S.',\n",
       " 'Pullman, Philip',\n",
       " '1,037,160',\n",
       " 'Scholastic Ltd.',\n",
       " '59',\n",
       " 'Eats, Shoots and Leaves:The Zero Tolerance Approach to Punctuation',\n",
       " 'Truss, Lynne',\n",
       " '1,023,688',\n",
       " 'Profile Books Group',\n",
       " '60',\n",
       " \"Delia's How to Cook:(Bk.1)\",\n",
       " 'Smith, Delia',\n",
       " '1,015,956',\n",
       " 'Random House',\n",
       " '61',\n",
       " 'Chocolat',\n",
       " 'Harris, Joanne',\n",
       " '1,009,873',\n",
       " 'Transworld',\n",
       " '62',\n",
       " 'Boy in the Striped Pyjamas,The',\n",
       " 'Boyne, John',\n",
       " '1,004,414',\n",
       " 'Random House Childrens Books G',\n",
       " '63',\n",
       " \"My Sister's Keeper\",\n",
       " 'Picoult, Jodi',\n",
       " '1,003,780',\n",
       " 'Hodder & Stoughton',\n",
       " '64',\n",
       " 'Amber Spyglass,The:His Dark Materials S.',\n",
       " 'Pullman, Philip',\n",
       " '1,002,314',\n",
       " 'Scholastic Ltd.',\n",
       " '65',\n",
       " 'To Kill a Mockingbird',\n",
       " 'Lee, Harper',\n",
       " '998,213',\n",
       " 'Random House',\n",
       " '66',\n",
       " 'Men are from Mars, Women are from Venus:A Practical Guide for Improvin',\n",
       " 'Gray, John',\n",
       " '992,846',\n",
       " 'HarperCollins',\n",
       " '67',\n",
       " 'Dear Fatty',\n",
       " 'French, Dawn',\n",
       " '986,753',\n",
       " 'Random House',\n",
       " '68',\n",
       " 'Short History of Tractors in Ukrainian,A',\n",
       " 'Lewycka, Marina',\n",
       " '986,115',\n",
       " 'Penguin',\n",
       " '69',\n",
       " 'Hannibal',\n",
       " 'Harris, Thomas',\n",
       " '970,509',\n",
       " 'Random House',\n",
       " '70',\n",
       " 'Lord of the Rings,The',\n",
       " 'Tolkien, J. R. R.',\n",
       " '967,466',\n",
       " 'HarperCollins',\n",
       " '71',\n",
       " 'Stupid White Men:...and Other Sorry Excuses for the State of the Natio',\n",
       " 'Moore, Michael',\n",
       " '963,353',\n",
       " 'Penguin',\n",
       " '72',\n",
       " 'Interpretation of Murder,The',\n",
       " 'Rubenfeld, Jed',\n",
       " '962,515',\n",
       " 'Headline',\n",
       " '73',\n",
       " 'Sharon Osbourne Extreme:My Autobiography',\n",
       " 'Osbourne, Sharon',\n",
       " '959,496',\n",
       " 'Little, Brown Book',\n",
       " '74',\n",
       " 'Alchemist,The:A Fable About Following Your Dream',\n",
       " 'Coelho, Paulo',\n",
       " '956,114',\n",
       " 'HarperCollins',\n",
       " '75',\n",
       " \"At My Mother's Knee ...:and Other Low Joints\",\n",
       " \"O'Grady, Paul\",\n",
       " '945,640',\n",
       " 'Transworld',\n",
       " '76',\n",
       " 'Notes from a Small Island',\n",
       " 'Bryson, Bill',\n",
       " '931,312',\n",
       " 'Transworld',\n",
       " '77',\n",
       " 'Return of the Naked Chef,The',\n",
       " 'Oliver, Jamie',\n",
       " '925,425',\n",
       " 'Penguin',\n",
       " '78',\n",
       " 'Bridget Jones: The Edge of Reason',\n",
       " 'Fielding, Helen',\n",
       " '924,695',\n",
       " 'Pan Macmillan',\n",
       " '79',\n",
       " \"Jamie's Italy\",\n",
       " 'Oliver, Jamie',\n",
       " '906,968',\n",
       " 'Penguin',\n",
       " '80',\n",
       " 'I Can Make You Thin',\n",
       " 'McKenna, Paul',\n",
       " '905,086',\n",
       " 'Transworld',\n",
       " '81',\n",
       " 'Down Under',\n",
       " 'Bryson, Bill',\n",
       " '890,847',\n",
       " 'Transworld',\n",
       " '82',\n",
       " 'Summons,The',\n",
       " 'Grisham, John',\n",
       " '869,671',\n",
       " 'Random House',\n",
       " '83',\n",
       " 'Small Island',\n",
       " 'Levy, Andrea',\n",
       " '869,659',\n",
       " 'Headline',\n",
       " '84',\n",
       " 'Nigella Express',\n",
       " 'Lawson, Nigella',\n",
       " '862,602',\n",
       " 'Random House',\n",
       " '85',\n",
       " 'Brick Lane',\n",
       " 'Ali, Monica',\n",
       " '856,540',\n",
       " 'Transworld',\n",
       " '86',\n",
       " \"Memory Keeper's Daughter,The\",\n",
       " 'Edwards, Kim',\n",
       " '845,858',\n",
       " 'Penguin',\n",
       " '87',\n",
       " 'Room on the Broom',\n",
       " 'Donaldson, Julia',\n",
       " '842,535',\n",
       " 'Pan Macmillan',\n",
       " '88',\n",
       " 'About a Boy',\n",
       " 'Hornby, Nick',\n",
       " '828,215',\n",
       " 'Penguin',\n",
       " '89',\n",
       " 'My Booky Wook',\n",
       " 'Brand, Russell',\n",
       " '820,563',\n",
       " 'Hodder & Stoughton',\n",
       " '90',\n",
       " 'God Delusion,The',\n",
       " 'Dawkins, Richard',\n",
       " '816,907',\n",
       " 'Transworld',\n",
       " '91',\n",
       " '\"Beano\" Annual,The',\n",
       " '0',\n",
       " '816,585',\n",
       " 'D.C. Thomson',\n",
       " '92',\n",
       " 'White Teeth',\n",
       " 'Smith, Zadie',\n",
       " '815,586',\n",
       " 'Penguin',\n",
       " '93',\n",
       " 'House at Riverton,The',\n",
       " 'Morton, Kate',\n",
       " '814,370',\n",
       " 'Pan Macmillan',\n",
       " '94',\n",
       " 'Book Thief,The',\n",
       " 'Zusak, Markus',\n",
       " '809,641',\n",
       " 'Transworld',\n",
       " '95',\n",
       " 'Nights of Rain and Stars',\n",
       " 'Binchy, Maeve',\n",
       " '808,900',\n",
       " 'Orion',\n",
       " '96',\n",
       " 'Ghost,The',\n",
       " 'Harris, Robert',\n",
       " '807,311',\n",
       " 'Random House',\n",
       " '97',\n",
       " 'Happy Days with the Naked Chef',\n",
       " 'Oliver, Jamie',\n",
       " '794,201',\n",
       " 'Penguin',\n",
       " '98',\n",
       " 'Hunger Games,The:Hunger Games Trilogy',\n",
       " 'Collins, Suzanne',\n",
       " '792,187',\n",
       " 'Scholastic Ltd.',\n",
       " '99',\n",
       " \"Lost Boy,The:A Foster Child's Search for the Love of a Family\",\n",
       " 'Pelzer, Dave',\n",
       " '791,507',\n",
       " 'Orion',\n",
       " '100',\n",
       " \"Jamie's Ministry of Food:Anyone Can Learn to Cook in 24 Hours\",\n",
       " 'Oliver, Jamie',\n",
       " '791,095',\n",
       " 'Penguin']"
      ]
     },
     "execution_count": 5,
     "metadata": {},
     "output_type": "execute_result"
    }
   ],
   "source": [
    "title = []\n",
    "\n",
    "for i in driver6.find_elements(By.XPATH,'//td[@class=\"left\"]'):\n",
    "    title.append(i.text)\n",
    "    \n",
    "title"
   ]
  },
  {
   "cell_type": "code",
   "execution_count": 6,
   "id": "7f52d80b",
   "metadata": {},
   "outputs": [],
   "source": [
    "book = [title[1],title[6],title[11],title[16],title[21],title[26],title[31],title[36],title[41],title[46],title[51],title[56],title[61],title[66],title[71],title[76],title[81],title[86],title[91],title[96],title[101],title[106],title[111],title[116],title[121],title[126],title[131],title[136],title[141],title[146],title[151],title[156],title[161],title[166],title[171],title[176],title[181],title[186],title[191],title[196],title[201],title[206],title[211],title[216],title[221],title[226],title[231],title[236],title[241],title[246],title[251],title[256],title[261],title[266],title[271],title[276],title[281],title[286],title[291],title[296],title[301],title[306],title[311],title[316],title[321],title[326],title[331],title[336],title[341],title[346],title[351],title[356],title[361],title[366],title[371],title[376],title[381],title[386],title[391],title[396],title[401],title[406],title[411],title[416],title[421],title[426],title[431],title[436],title[441],title[446],title[451],title[456],title[461],title[466],title[471],title[476],title[481],title[486],title[491],title[496]]"
   ]
  },
  {
   "cell_type": "code",
   "execution_count": 7,
   "id": "d93444a5",
   "metadata": {},
   "outputs": [],
   "source": [
    "author = [title[2],title[7],title[12],title[17],title[22],title[27],title[32],title[37],title[42],title[47],title[52],title[57],title[62],title[67],title[72],title[77],title[82],title[87],title[92],title[97],title[102],title[107],title[112],title[117],title[122],title[127],title[132],title[137],title[142],title[147],title[152],title[157],title[162],title[167],title[172],title[177],title[182],title[187],title[192],title[197],title[202],title[207],title[212],title[217],title[222],title[227],title[232],title[237],title[242],title[247],title[252],title[257],title[262],title[267],title[272],title[277],title[282],title[287],title[292],title[297],title[302],title[307],title[312],title[317],title[322],title[327],title[332],title[337],title[342],title[347],title[352],title[357],title[362],title[367],title[372],title[377],title[382],title[387],title[392],title[397],title[402],title[407],title[412],title[417],title[422],title[427],title[432],title[437],title[442],title[447],title[452],title[457],title[462],title[467],title[472],title[477],title[482],title[487],title[492],title[497]]"
   ]
  },
  {
   "cell_type": "code",
   "execution_count": 8,
   "id": "8605af87",
   "metadata": {},
   "outputs": [],
   "source": [
    "volume = [title[3],title[8],title[13],title[18],title[23],title[28],title[33],title[38],title[43],title[48],title[53],title[58],title[63],title[68],title[73],title[78],title[83],title[88],title[93],title[98],title[103],title[108],title[113],title[118],title[123],title[128],title[133],title[138],title[143],title[148],title[153],title[158],title[163],title[168],title[173],title[178],title[183],title[188],title[193],title[198],title[203],title[208],title[213],title[218],title[223],title[228],title[233],title[238],title[243],title[248],title[253],title[258],title[263],title[268],title[273],title[278],title[283],title[288],title[293],title[298],title[303],title[308],title[313],title[318],title[323],title[328],title[333],title[338],title[343],title[348],title[353],title[358],title[363],title[368],title[373],title[378],title[383],title[388],title[393],title[398],title[403],title[408],title[413],title[418],title[423],title[428],title[433],title[438],title[443],title[448],title[453],title[458],title[463],title[468],title[473],title[478],title[483],title[488],title[493],title[498]]"
   ]
  },
  {
   "cell_type": "code",
   "execution_count": 9,
   "id": "8f536200",
   "metadata": {},
   "outputs": [],
   "source": [
    "publisher = [title[4],title[9],title[14],title[19],title[24],title[29],title[34],title[39],title[44],title[49],title[54],title[59],title[64],title[69],title[74],title[79],title[84],title[89],title[94],title[99],title[104],title[109],title[114],title[119],title[124],title[129],title[134],title[139],title[144],title[149],title[154],title[159],title[164],title[169],title[174],title[179],title[184],title[189],title[194],title[199],title[204],title[209],title[214],title[219],title[224],title[229],title[234],title[239],title[244],title[249],title[254],title[259],title[264],title[269],title[274],title[279],title[284],title[289],title[294],title[299],title[304],title[309],title[314],title[319],title[324],title[329],title[334],title[339],title[344],title[349],title[354],title[359],title[364],title[369],title[374],title[379],title[384],title[389],title[394],title[399],title[404],title[409],title[414],title[419],title[424],title[429],title[434],title[439],title[444],title[449],title[454],title[459],title[464],title[469],title[474],title[479],title[484],title[489],title[494],title[499]]"
   ]
  },
  {
   "cell_type": "code",
   "execution_count": 10,
   "id": "658e70af",
   "metadata": {},
   "outputs": [
    {
     "data": {
      "text/plain": [
       "['Crime, Thriller & Adventure',\n",
       " \"Children's Fiction\",\n",
       " \"Children's Fiction\",\n",
       " \"Children's Fiction\",\n",
       " 'Romance & Sagas',\n",
       " \"Children's Fiction\",\n",
       " \"Children's Fiction\",\n",
       " \"Children's Fiction\",\n",
       " 'Crime, Thriller & Adventure',\n",
       " \"Children's Fiction\",\n",
       " 'Romance & Sagas',\n",
       " 'Young Adult Fiction',\n",
       " 'Crime, Thriller & Adventure',\n",
       " 'Romance & Sagas',\n",
       " 'Crime, Thriller & Adventure',\n",
       " 'Young Adult Fiction',\n",
       " 'Crime, Thriller & Adventure',\n",
       " 'Young Adult Fiction',\n",
       " 'General & Literary Fiction',\n",
       " 'General & Literary Fiction',\n",
       " 'Crime, Thriller & Adventure',\n",
       " 'Popular Science',\n",
       " 'Crime, Thriller & Adventure',\n",
       " 'Young Adult Fiction',\n",
       " 'Picture Books',\n",
       " 'Picture Books',\n",
       " 'Food & Drink: General',\n",
       " 'General & Literary Fiction',\n",
       " 'General & Literary Fiction',\n",
       " 'General & Literary Fiction',\n",
       " 'Crime, Thriller & Adventure',\n",
       " 'General & Literary Fiction',\n",
       " 'General & Literary Fiction',\n",
       " 'General & Literary Fiction',\n",
       " 'Humour: Collections & General',\n",
       " 'General & Literary Fiction',\n",
       " 'Autobiography: General',\n",
       " 'General & Literary Fiction',\n",
       " 'Biography: The Arts',\n",
       " 'Autobiography: General',\n",
       " 'Picture Books',\n",
       " 'Autobiography: General',\n",
       " 'General & Literary Fiction',\n",
       " 'Young Adult Fiction',\n",
       " 'General & Literary Fiction',\n",
       " 'Science Fiction & Fantasy',\n",
       " 'General & Literary Fiction',\n",
       " 'General & Literary Fiction',\n",
       " 'General & Literary Fiction',\n",
       " 'Crime, Thriller & Adventure',\n",
       " 'General & Literary Fiction',\n",
       " 'General & Literary Fiction',\n",
       " 'Fitness & Diet',\n",
       " 'General & Literary Fiction',\n",
       " \"Children's Fiction\",\n",
       " 'Crime, Thriller & Adventure',\n",
       " 'Fitness & Diet',\n",
       " 'Young Adult Fiction',\n",
       " 'Usage & Writing Guides',\n",
       " 'Food & Drink: General',\n",
       " 'General & Literary Fiction',\n",
       " 'Young Adult Fiction',\n",
       " 'General & Literary Fiction',\n",
       " 'Young Adult Fiction',\n",
       " 'General & Literary Fiction',\n",
       " 'Popular Culture & Media: General Interest',\n",
       " 'Autobiography: The Arts',\n",
       " 'General & Literary Fiction',\n",
       " 'Crime, Thriller & Adventure',\n",
       " 'Science Fiction & Fantasy',\n",
       " 'Current Affairs & Issues',\n",
       " 'Crime, Thriller & Adventure',\n",
       " 'Autobiography: The Arts',\n",
       " 'General & Literary Fiction',\n",
       " 'Autobiography: The Arts',\n",
       " 'Travel Writing',\n",
       " 'Food & Drink: General',\n",
       " 'General & Literary Fiction',\n",
       " 'National & Regional Cuisine',\n",
       " 'Fitness & Diet',\n",
       " 'Travel Writing',\n",
       " 'Crime, Thriller & Adventure',\n",
       " 'General & Literary Fiction',\n",
       " 'Food & Drink: General',\n",
       " 'General & Literary Fiction',\n",
       " 'General & Literary Fiction',\n",
       " 'Picture Books',\n",
       " 'General & Literary Fiction',\n",
       " 'Autobiography: The Arts',\n",
       " 'Popular Science',\n",
       " \"Children's Annuals\",\n",
       " 'General & Literary Fiction',\n",
       " 'General & Literary Fiction',\n",
       " 'General & Literary Fiction',\n",
       " 'General & Literary Fiction',\n",
       " 'General & Literary Fiction',\n",
       " 'Food & Drink: General',\n",
       " 'Young Adult Fiction',\n",
       " 'Biography: General',\n",
       " 'Food & Drink: General']"
      ]
     },
     "execution_count": 10,
     "metadata": {},
     "output_type": "execute_result"
    }
   ],
   "source": [
    "genre = []\n",
    "\n",
    "for i in driver6.find_elements(By.XPATH,'//td[@class=\"last left\"]'):\n",
    "    genre.append(i.text)\n",
    "    \n",
    "genre"
   ]
  },
  {
   "cell_type": "code",
   "execution_count": 11,
   "id": "ac0f8c7f",
   "metadata": {},
   "outputs": [
    {
     "data": {
      "text/html": [
       "<div>\n",
       "<style scoped>\n",
       "    .dataframe tbody tr th:only-of-type {\n",
       "        vertical-align: middle;\n",
       "    }\n",
       "\n",
       "    .dataframe tbody tr th {\n",
       "        vertical-align: top;\n",
       "    }\n",
       "\n",
       "    .dataframe thead th {\n",
       "        text-align: right;\n",
       "    }\n",
       "</style>\n",
       "<table border=\"1\" class=\"dataframe\">\n",
       "  <thead>\n",
       "    <tr style=\"text-align: right;\">\n",
       "      <th></th>\n",
       "      <th>Book Name</th>\n",
       "      <th>Author Name</th>\n",
       "      <th>Publisher</th>\n",
       "      <th>Volume Sold</th>\n",
       "      <th>Genre</th>\n",
       "    </tr>\n",
       "  </thead>\n",
       "  <tbody>\n",
       "    <tr>\n",
       "      <th>0</th>\n",
       "      <td>Da Vinci Code,The</td>\n",
       "      <td>Brown, Dan</td>\n",
       "      <td>Transworld</td>\n",
       "      <td>5,094,805</td>\n",
       "      <td>Crime, Thriller &amp; Adventure</td>\n",
       "    </tr>\n",
       "    <tr>\n",
       "      <th>1</th>\n",
       "      <td>Harry Potter and the Deathly Hallows</td>\n",
       "      <td>Rowling, J.K.</td>\n",
       "      <td>Bloomsbury</td>\n",
       "      <td>4,475,152</td>\n",
       "      <td>Children's Fiction</td>\n",
       "    </tr>\n",
       "    <tr>\n",
       "      <th>2</th>\n",
       "      <td>Harry Potter and the Philosopher's Stone</td>\n",
       "      <td>Rowling, J.K.</td>\n",
       "      <td>Bloomsbury</td>\n",
       "      <td>4,200,654</td>\n",
       "      <td>Children's Fiction</td>\n",
       "    </tr>\n",
       "    <tr>\n",
       "      <th>3</th>\n",
       "      <td>Harry Potter and the Order of the Phoenix</td>\n",
       "      <td>Rowling, J.K.</td>\n",
       "      <td>Bloomsbury</td>\n",
       "      <td>4,179,479</td>\n",
       "      <td>Children's Fiction</td>\n",
       "    </tr>\n",
       "    <tr>\n",
       "      <th>4</th>\n",
       "      <td>Fifty Shades of Grey</td>\n",
       "      <td>James, E. L.</td>\n",
       "      <td>Random House</td>\n",
       "      <td>3,758,936</td>\n",
       "      <td>Romance &amp; Sagas</td>\n",
       "    </tr>\n",
       "    <tr>\n",
       "      <th>...</th>\n",
       "      <td>...</td>\n",
       "      <td>...</td>\n",
       "      <td>...</td>\n",
       "      <td>...</td>\n",
       "      <td>...</td>\n",
       "    </tr>\n",
       "    <tr>\n",
       "      <th>95</th>\n",
       "      <td>Ghost,The</td>\n",
       "      <td>Harris, Robert</td>\n",
       "      <td>Random House</td>\n",
       "      <td>807,311</td>\n",
       "      <td>General &amp; Literary Fiction</td>\n",
       "    </tr>\n",
       "    <tr>\n",
       "      <th>96</th>\n",
       "      <td>Happy Days with the Naked Chef</td>\n",
       "      <td>Oliver, Jamie</td>\n",
       "      <td>Penguin</td>\n",
       "      <td>794,201</td>\n",
       "      <td>Food &amp; Drink: General</td>\n",
       "    </tr>\n",
       "    <tr>\n",
       "      <th>97</th>\n",
       "      <td>Hunger Games,The:Hunger Games Trilogy</td>\n",
       "      <td>Collins, Suzanne</td>\n",
       "      <td>Scholastic Ltd.</td>\n",
       "      <td>792,187</td>\n",
       "      <td>Young Adult Fiction</td>\n",
       "    </tr>\n",
       "    <tr>\n",
       "      <th>98</th>\n",
       "      <td>Lost Boy,The:A Foster Child's Search for the L...</td>\n",
       "      <td>Pelzer, Dave</td>\n",
       "      <td>Orion</td>\n",
       "      <td>791,507</td>\n",
       "      <td>Biography: General</td>\n",
       "    </tr>\n",
       "    <tr>\n",
       "      <th>99</th>\n",
       "      <td>Jamie's Ministry of Food:Anyone Can Learn to C...</td>\n",
       "      <td>Oliver, Jamie</td>\n",
       "      <td>Penguin</td>\n",
       "      <td>791,095</td>\n",
       "      <td>Food &amp; Drink: General</td>\n",
       "    </tr>\n",
       "  </tbody>\n",
       "</table>\n",
       "<p>100 rows × 5 columns</p>\n",
       "</div>"
      ],
      "text/plain": [
       "                                            Book Name       Author Name  \\\n",
       "0                                   Da Vinci Code,The        Brown, Dan   \n",
       "1                Harry Potter and the Deathly Hallows     Rowling, J.K.   \n",
       "2            Harry Potter and the Philosopher's Stone     Rowling, J.K.   \n",
       "3           Harry Potter and the Order of the Phoenix     Rowling, J.K.   \n",
       "4                                Fifty Shades of Grey      James, E. L.   \n",
       "..                                                ...               ...   \n",
       "95                                          Ghost,The    Harris, Robert   \n",
       "96                     Happy Days with the Naked Chef     Oliver, Jamie   \n",
       "97              Hunger Games,The:Hunger Games Trilogy  Collins, Suzanne   \n",
       "98  Lost Boy,The:A Foster Child's Search for the L...      Pelzer, Dave   \n",
       "99  Jamie's Ministry of Food:Anyone Can Learn to C...     Oliver, Jamie   \n",
       "\n",
       "          Publisher Volume Sold                        Genre  \n",
       "0        Transworld   5,094,805  Crime, Thriller & Adventure  \n",
       "1        Bloomsbury   4,475,152           Children's Fiction  \n",
       "2        Bloomsbury   4,200,654           Children's Fiction  \n",
       "3        Bloomsbury   4,179,479           Children's Fiction  \n",
       "4      Random House   3,758,936              Romance & Sagas  \n",
       "..              ...         ...                          ...  \n",
       "95     Random House     807,311   General & Literary Fiction  \n",
       "96          Penguin     794,201        Food & Drink: General  \n",
       "97  Scholastic Ltd.     792,187          Young Adult Fiction  \n",
       "98            Orion     791,507           Biography: General  \n",
       "99          Penguin     791,095        Food & Drink: General  \n",
       "\n",
       "[100 rows x 5 columns]"
      ]
     },
     "execution_count": 11,
     "metadata": {},
     "output_type": "execute_result"
    }
   ],
   "source": [
    "df = pd.DataFrame({'Book Name':book,'Author Name':author,'Publisher':publisher,'Volume Sold':volume,'Genre':genre})\n",
    "\n",
    "df"
   ]
  },
  {
   "cell_type": "code",
   "execution_count": 14,
   "id": "3efaee18",
   "metadata": {},
   "outputs": [],
   "source": [
    "driver6.close()"
   ]
  },
  {
   "cell_type": "code",
   "execution_count": null,
   "id": "67ad46d9",
   "metadata": {},
   "outputs": [],
   "source": []
  },
  {
   "cell_type": "code",
   "execution_count": null,
   "id": "2a7c28a3",
   "metadata": {},
   "outputs": [],
   "source": []
  },
  {
   "cell_type": "code",
   "execution_count": null,
   "id": "e3d2a77d",
   "metadata": {},
   "outputs": [],
   "source": []
  },
  {
   "cell_type": "code",
   "execution_count": null,
   "id": "c8483425",
   "metadata": {},
   "outputs": [],
   "source": []
  },
  {
   "cell_type": "code",
   "execution_count": 12,
   "id": "9f226654",
   "metadata": {},
   "outputs": [],
   "source": [
    "# question no 1"
   ]
  },
  {
   "cell_type": "code",
   "execution_count": 13,
   "id": "7041574e",
   "metadata": {},
   "outputs": [
    {
     "data": {
      "text/plain": [
       "<selenium.webdriver.chrome.webdriver.WebDriver (session=\"fac95cb791157e6fadc7bbf784914b3f\")>"
      ]
     },
     "execution_count": 13,
     "metadata": {},
     "output_type": "execute_result"
    }
   ],
   "source": [
    "driver7 = webdriver.Chrome(r'C:\\Users\\user\\chromedriver.exe')\n",
    "driver7"
   ]
  }
 ],
 "metadata": {
  "kernelspec": {
   "display_name": "Python 3 (ipykernel)",
   "language": "python",
   "name": "python3"
  },
  "language_info": {
   "codemirror_mode": {
    "name": "ipython",
    "version": 3
   },
   "file_extension": ".py",
   "mimetype": "text/x-python",
   "name": "python",
   "nbconvert_exporter": "python",
   "pygments_lexer": "ipython3",
   "version": "3.9.12"
  }
 },
 "nbformat": 4,
 "nbformat_minor": 5
}
