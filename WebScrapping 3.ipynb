{
 "cells": [
  {
   "cell_type": "code",
   "execution_count": 26,
   "id": "b3036dd2",
   "metadata": {},
   "outputs": [],
   "source": [
    "import selenium\n",
    "from selenium import webdriver\n",
    "import pandas as pd\n",
    "from selenium.webdriver.common.by import By\n",
    "\n",
    "import warnings\n",
    "warnings.filterwarnings('ignore')\n",
    "\n",
    "import time"
   ]
  },
  {
   "cell_type": "code",
   "execution_count": null,
   "id": "28ce4668",
   "metadata": {},
   "outputs": [],
   "source": []
  },
  {
   "cell_type": "code",
   "execution_count": null,
   "id": "4c97a0c4",
   "metadata": {},
   "outputs": [],
   "source": []
  },
  {
   "cell_type": "code",
   "execution_count": null,
   "id": "31c6d390",
   "metadata": {},
   "outputs": [],
   "source": []
  },
  {
   "cell_type": "code",
   "execution_count": null,
   "id": "1fc00caf",
   "metadata": {},
   "outputs": [],
   "source": []
  },
  {
   "cell_type": "code",
   "execution_count": null,
   "id": "281989dd",
   "metadata": {},
   "outputs": [],
   "source": []
  },
  {
   "cell_type": "code",
   "execution_count": null,
   "id": "ea1965a8",
   "metadata": {},
   "outputs": [],
   "source": []
  },
  {
   "cell_type": "code",
   "execution_count": null,
   "id": "aec59e25",
   "metadata": {},
   "outputs": [],
   "source": [
    "# Q.no --3"
   ]
  },
  {
   "cell_type": "code",
   "execution_count": 31,
   "id": "6bcb2d82",
   "metadata": {},
   "outputs": [
    {
     "data": {
      "text/plain": [
       "<selenium.webdriver.chrome.webdriver.WebDriver (session=\"5cddf473569becf9449823ccb2585969\")>"
      ]
     },
     "execution_count": 31,
     "metadata": {},
     "output_type": "execute_result"
    }
   ],
   "source": [
    "driver = webdriver.Chrome(r'C:\\Users\\user\\chromedriver.exe')\n",
    "\n",
    "driver"
   ]
  },
  {
   "cell_type": "code",
   "execution_count": 32,
   "id": "57a86d4a",
   "metadata": {},
   "outputs": [],
   "source": [
    "url = 'https://images.google.com/'\n",
    "\n",
    "driver.get(url)"
   ]
  },
  {
   "cell_type": "code",
   "execution_count": 33,
   "id": "feda9744",
   "metadata": {},
   "outputs": [],
   "source": [
    "search_title = driver.find_element(By.CLASS_NAME,\"gLFyf\")\n",
    "search_title.send_keys('fruits')"
   ]
  },
  {
   "cell_type": "code",
   "execution_count": 36,
   "id": "c823d8a0",
   "metadata": {},
   "outputs": [],
   "source": [
    "search_button = driver.find_element(By.XPATH,'/html/body/div[1]/div[3]/form/div[1]/div[1]/div[1]/button/div/span')\n",
    "search_button.click()"
   ]
  },
  {
   "cell_type": "code",
   "execution_count": 44,
   "id": "3dd7a33d",
   "metadata": {},
   "outputs": [],
   "source": [
    "fruit_img = driver.find_element(By.XPATH,'//a[@class=\"wXeWr islib nfEiy\"]')"
   ]
  },
  {
   "cell_type": "code",
   "execution_count": 47,
   "id": "72e82712",
   "metadata": {},
   "outputs": [
    {
     "name": "stdout",
     "output_type": "stream",
     "text": [
      "https://www.google.com/imgres?imgurl=https%3A%2F%2Fhips.hearstapps.com%2Fhmg-prod.s3.amazonaws.com%2Fimages%2Fassortment-of-colorful-ripe-tropical-fruits-top-royalty-free-image-995518546-1564092355.jpg&imgrefurl=https%3A%2F%2Fwww.goodhousekeeping.com%2Fhealth%2Fdiet-nutrition%2Fg28511617%2Fhealthiest-fruits%2F&tbnid=Tx4xm7Li7U8gKM&vet=12ahUKEwi5tM-tgbf7AhUIjtgFHSqVBhwQMygAegUIARDbAQ..i&docid=M75OSqqe88sloM&w=2119&h=1414&q=fruits&ved=2ahUKEwi5tM-tgbf7AhUIjtgFHSqVBhwQMygAegUIARDbAQ\n"
     ]
    }
   ],
   "source": [
    "print(fruit_img.get_attribute('href'))"
   ]
  },
  {
   "cell_type": "code",
   "execution_count": 52,
   "id": "4ad6cae4",
   "metadata": {},
   "outputs": [
    {
     "name": "stdout",
     "output_type": "stream",
     "text": [
      "https://www.google.com/imgres?imgurl=https%3A%2F%2Fhips.hearstapps.com%2Fhmg-prod.s3.amazonaws.com%2Fimages%2Fassortment-of-colorful-ripe-tropical-fruits-top-royalty-free-image-995518546-1564092355.jpg&imgrefurl=https%3A%2F%2Fwww.goodhousekeeping.com%2Fhealth%2Fdiet-nutrition%2Fg28511617%2Fhealthiest-fruits%2F&tbnid=Tx4xm7Li7U8gKM&vet=12ahUKEwi5tM-tgbf7AhUIjtgFHSqVBhwQMygAegUIARDbAQ..i&docid=M75OSqqe88sloM&w=2119&h=1414&q=fruits&ved=2ahUKEwi5tM-tgbf7AhUIjtgFHSqVBhwQMygAegUIARDbAQ\n",
      "None\n",
      "None\n",
      "None\n",
      "None\n",
      "None\n",
      "None\n",
      "None\n",
      "None\n",
      "None\n"
     ]
    }
   ],
   "source": [
    "fruit_imgs = driver.find_elements(By.XPATH,'//a[@class=\"wXeWr islib nfEiy\"]')\n",
    "\n",
    "for i in fruit_imgs[0:10]:\n",
    "    print(i.get_attribute('href'))"
   ]
  },
  {
   "cell_type": "code",
   "execution_count": null,
   "id": "7cc5d296",
   "metadata": {},
   "outputs": [],
   "source": []
  },
  {
   "cell_type": "code",
   "execution_count": 56,
   "id": "3617bc0b",
   "metadata": {},
   "outputs": [],
   "source": [
    "search_title = driver.find_element(By.CLASS_NAME,\"og3lId\")\n",
    "search_title.send_keys('cars')"
   ]
  },
  {
   "cell_type": "code",
   "execution_count": 57,
   "id": "08cb28a1",
   "metadata": {},
   "outputs": [],
   "source": [
    "search_button = driver.find_element(By.XPATH,'/html/body/c-wiz/c-wiz/div/div[3]/div[2]/div/div[1]/form/div[1]/div[2]/button/div/span')\n",
    "\n",
    "search_button.click()"
   ]
  },
  {
   "cell_type": "code",
   "execution_count": 58,
   "id": "2cc241ad",
   "metadata": {},
   "outputs": [
    {
     "name": "stdout",
     "output_type": "stream",
     "text": [
      "https://www.google.com/imgres?imgurl=https%3A%2F%2Fimageio.forbes.com%2Fspecials-images%2Fimageserve%2F5d35eacaf1176b0008974b54%2F2020-Chevrolet-Corvette-Stingray%2F0x0.jpg%3Fformat%3Djpg%26crop%3D4560%2C2565%2Cx790%2Cy784%2Csafe%26width%3D960&imgrefurl=https%3A%2F%2Fwww.forbes.com%2Fsites%2Fjimgorzelany%2F2019%2F07%2F23%2Fhere-are-the-coolest-new-cars-for-2020%2F&tbnid=bmQZ3-UJzP1fTM&vet=12ahUKEwjrqLibh7f7AhU6BLcAHQFQDmEQMygAegUIARDbAQ..i&docid=HZLLyFhoQjvNCM&w=960&h=540&q=cars&ved=2ahUKEwjrqLibh7f7AhU6BLcAHQFQDmEQMygAegUIARDbAQ\n"
     ]
    }
   ],
   "source": [
    "car_img = driver.find_element(By.XPATH,'//a[@class=\"wXeWr islib nfEiy\"]')\n",
    "\n",
    "print(car_img.get_attribute('href'))"
   ]
  },
  {
   "cell_type": "code",
   "execution_count": 59,
   "id": "19a9dd1b",
   "metadata": {},
   "outputs": [
    {
     "name": "stdout",
     "output_type": "stream",
     "text": [
      "https://www.google.com/imgres?imgurl=https%3A%2F%2Fimageio.forbes.com%2Fspecials-images%2Fimageserve%2F5d35eacaf1176b0008974b54%2F2020-Chevrolet-Corvette-Stingray%2F0x0.jpg%3Fformat%3Djpg%26crop%3D4560%2C2565%2Cx790%2Cy784%2Csafe%26width%3D960&imgrefurl=https%3A%2F%2Fwww.forbes.com%2Fsites%2Fjimgorzelany%2F2019%2F07%2F23%2Fhere-are-the-coolest-new-cars-for-2020%2F&tbnid=bmQZ3-UJzP1fTM&vet=12ahUKEwjrqLibh7f7AhU6BLcAHQFQDmEQMygAegUIARDbAQ..i&docid=HZLLyFhoQjvNCM&w=960&h=540&q=cars&ved=2ahUKEwjrqLibh7f7AhU6BLcAHQFQDmEQMygAegUIARDbAQ\n",
      "None\n",
      "None\n",
      "None\n",
      "None\n",
      "None\n",
      "None\n",
      "None\n",
      "None\n",
      "None\n"
     ]
    }
   ],
   "source": [
    "car_imgs = driver.find_elements(By.XPATH,'//a[@class=\"wXeWr islib nfEiy\"]')\n",
    "\n",
    "for i in car_imgs[0:10]:\n",
    "    print(i.get_attribute('href'))"
   ]
  },
  {
   "cell_type": "code",
   "execution_count": null,
   "id": "40288782",
   "metadata": {},
   "outputs": [],
   "source": []
  },
  {
   "cell_type": "code",
   "execution_count": null,
   "id": "4362805c",
   "metadata": {},
   "outputs": [],
   "source": []
  },
  {
   "cell_type": "code",
   "execution_count": 60,
   "id": "1d7dc62c",
   "metadata": {},
   "outputs": [],
   "source": [
    "search_title = driver.find_element(By.CLASS_NAME,\"og3lId\")\n",
    "search_title.send_keys('machine learning')"
   ]
  },
  {
   "cell_type": "code",
   "execution_count": 61,
   "id": "92ca437f",
   "metadata": {},
   "outputs": [],
   "source": [
    "search_button = driver.find_element(By.XPATH,'/html/body/c-wiz/c-wiz/div/div[3]/div[2]/div/div[1]/form/div[1]/div[2]/button/div/span')\n",
    "\n",
    "search_button.click()"
   ]
  },
  {
   "cell_type": "code",
   "execution_count": 63,
   "id": "c6ad2585",
   "metadata": {},
   "outputs": [
    {
     "name": "stdout",
     "output_type": "stream",
     "text": [
      "https://www.google.com/imgres?imgurl=https%3A%2F%2Fwww.fsm.ac.in%2Fblog%2Fwp-content%2Fuploads%2F2022%2F08%2Fml-e1610553826718.jpg&imgrefurl=https%3A%2F%2Fwww.fsm.ac.in%2Fblog%2Fan-introduction-to-machine-learning-its-importance-types-and-applications%2F&tbnid=MljwM1234Xl_pM&vet=12ahUKEwirtou4irf7AhV16XMBHdGBDssQMygAegUIARDaAQ..i&docid=d93UJTpTprg-EM&w=1000&h=612&q=machine%20learning&ved=2ahUKEwirtou4irf7AhV16XMBHdGBDssQMygAegUIARDaAQ\n"
     ]
    }
   ],
   "source": [
    "ml_img = driver.find_element(By.XPATH,'//a[@class=\"wXeWr islib nfEiy\"]')\n",
    "\n",
    "print(ml_img.get_attribute('href'))"
   ]
  },
  {
   "cell_type": "code",
   "execution_count": 65,
   "id": "47e654fd",
   "metadata": {},
   "outputs": [
    {
     "name": "stdout",
     "output_type": "stream",
     "text": [
      "https://www.google.com/imgres?imgurl=https%3A%2F%2Fwww.fsm.ac.in%2Fblog%2Fwp-content%2Fuploads%2F2022%2F08%2Fml-e1610553826718.jpg&imgrefurl=https%3A%2F%2Fwww.fsm.ac.in%2Fblog%2Fan-introduction-to-machine-learning-its-importance-types-and-applications%2F&tbnid=MljwM1234Xl_pM&vet=12ahUKEwirtou4irf7AhV16XMBHdGBDssQMygAegUIARDaAQ..i&docid=d93UJTpTprg-EM&w=1000&h=612&q=machine%20learning&ved=2ahUKEwirtou4irf7AhV16XMBHdGBDssQMygAegUIARDaAQ\n",
      "None\n",
      "None\n",
      "None\n",
      "None\n",
      "None\n",
      "None\n",
      "None\n",
      "None\n",
      "None\n"
     ]
    }
   ],
   "source": [
    "ml_imgs = driver.find_elements(By.XPATH,'//a[@class=\"wXeWr islib nfEiy\"]')\n",
    "\n",
    "for i in ml_imgs[0:10]:\n",
    "    \n",
    "    print(i.get_attribute('href'))"
   ]
  },
  {
   "cell_type": "code",
   "execution_count": null,
   "id": "734cbe40",
   "metadata": {},
   "outputs": [],
   "source": []
  },
  {
   "cell_type": "code",
   "execution_count": null,
   "id": "9c743fd3",
   "metadata": {},
   "outputs": [],
   "source": []
  },
  {
   "cell_type": "code",
   "execution_count": 68,
   "id": "4b0e1dc4",
   "metadata": {},
   "outputs": [],
   "source": [
    "search_title = driver.find_element(By.CLASS_NAME,\"og3lId\")\n",
    "search_title.send_keys('Guitar')"
   ]
  },
  {
   "cell_type": "code",
   "execution_count": 70,
   "id": "16cb4219",
   "metadata": {},
   "outputs": [],
   "source": [
    "search_button = driver.find_element(By.XPATH,'/html/body/c-wiz/c-wiz/div/div[3]/div[2]/div/div[1]/form/div[1]/div[2]/button/div/span')\n",
    "search_button.click()"
   ]
  },
  {
   "cell_type": "code",
   "execution_count": 71,
   "id": "a2490969",
   "metadata": {},
   "outputs": [
    {
     "name": "stdout",
     "output_type": "stream",
     "text": [
      "https://www.google.com/imgres?imgurl=https%3A%2F%2Fm.media-amazon.com%2Fimages%2FI%2F51INShoKdNL._SX679_.jpg&imgrefurl=https%3A%2F%2Fwww.amazon.in%2FYamaha-F310-6-Strings-Acoustic-Natural%2Fdp%2FB000RVYW7E&tbnid=PnijErRCfV5VdM&vet=12ahUKEwj2lPjxjLf7AhVBKbcAHcOOD14QMygAegUIARDgAQ..i&docid=Av3Fga_mea8QNM&w=679&h=679&q=Guitar&ved=2ahUKEwj2lPjxjLf7AhVBKbcAHcOOD14QMygAegUIARDgAQ\n"
     ]
    }
   ],
   "source": [
    "guitar_img = driver.find_element(By.XPATH,'//a[@class=\"wXeWr islib nfEiy\"]')\n",
    "\n",
    "print(guitar_img.get_attribute('href'))"
   ]
  },
  {
   "cell_type": "code",
   "execution_count": 72,
   "id": "bcb760ef",
   "metadata": {},
   "outputs": [
    {
     "name": "stdout",
     "output_type": "stream",
     "text": [
      "https://www.google.com/imgres?imgurl=https%3A%2F%2Fm.media-amazon.com%2Fimages%2FI%2F51INShoKdNL._SX679_.jpg&imgrefurl=https%3A%2F%2Fwww.amazon.in%2FYamaha-F310-6-Strings-Acoustic-Natural%2Fdp%2FB000RVYW7E&tbnid=PnijErRCfV5VdM&vet=12ahUKEwj2lPjxjLf7AhVBKbcAHcOOD14QMygAegUIARDgAQ..i&docid=Av3Fga_mea8QNM&w=679&h=679&q=Guitar&ved=2ahUKEwj2lPjxjLf7AhVBKbcAHcOOD14QMygAegUIARDgAQ\n",
      "None\n",
      "None\n",
      "None\n",
      "None\n",
      "None\n",
      "None\n",
      "None\n",
      "None\n",
      "None\n"
     ]
    }
   ],
   "source": [
    "guitar_imgs = driver.find_elements(By.XPATH,'//a[@class=\"wXeWr islib nfEiy\"]')\n",
    "\n",
    "for i in guitar_imgs[0:10]:\n",
    "    \n",
    "    print(i.get_attribute('href'))"
   ]
  },
  {
   "cell_type": "code",
   "execution_count": null,
   "id": "cfa6d4ed",
   "metadata": {},
   "outputs": [],
   "source": []
  },
  {
   "cell_type": "code",
   "execution_count": null,
   "id": "1df54ffa",
   "metadata": {},
   "outputs": [],
   "source": []
  },
  {
   "cell_type": "code",
   "execution_count": 75,
   "id": "42fdcd7a",
   "metadata": {},
   "outputs": [],
   "source": [
    "search_title = driver.find_element(By.CLASS_NAME,'og3lId')\n",
    "\n",
    "search_title.send_keys('Cake')"
   ]
  },
  {
   "cell_type": "code",
   "execution_count": 76,
   "id": "6a9e87df",
   "metadata": {},
   "outputs": [],
   "source": [
    "search_button = driver.find_element(By.XPATH,'/html/body/c-wiz/c-wiz/div/div[3]/div[2]/div/div[1]/form/div[1]/div[2]/button/div/span')\n",
    "\n",
    "search_button.click()"
   ]
  },
  {
   "cell_type": "code",
   "execution_count": 77,
   "id": "a5bcc04f",
   "metadata": {},
   "outputs": [
    {
     "name": "stdout",
     "output_type": "stream",
     "text": [
      "https://www.google.com/imgres?imgurl=https%3A%2F%2Fmeerutonlinecakes.co.in%2Fwp-content%2Fuploads%2F2020%2F09%2FChocolate-cake-recipe-1200a.jpg&imgrefurl=https%3A%2F%2Fmeerutonlinecakes.co.in%2Fproduct%2Fchocolate-drop-cake%2F&tbnid=BGnxyghew8E_PM&vet=12ahUKEwikiLjHj7f7AhU74nMBHUR1CtkQMygAegUIARD_AQ..i&docid=e1W2_tKVIcI__M&w=1124&h=1124&q=Cake&ved=2ahUKEwikiLjHj7f7AhU74nMBHUR1CtkQMygAegUIARD_AQ\n"
     ]
    }
   ],
   "source": [
    "cake_img = driver.find_element(By.XPATH,'//a[@class=\"wXeWr islib nfEiy\"]')\n",
    "\n",
    "print(cake_img.get_attribute('href'))"
   ]
  },
  {
   "cell_type": "code",
   "execution_count": 79,
   "id": "56616aee",
   "metadata": {},
   "outputs": [
    {
     "name": "stdout",
     "output_type": "stream",
     "text": [
      "https://www.google.com/imgres?imgurl=https%3A%2F%2Fmeerutonlinecakes.co.in%2Fwp-content%2Fuploads%2F2020%2F09%2FChocolate-cake-recipe-1200a.jpg&imgrefurl=https%3A%2F%2Fmeerutonlinecakes.co.in%2Fproduct%2Fchocolate-drop-cake%2F&tbnid=BGnxyghew8E_PM&vet=12ahUKEwikiLjHj7f7AhU74nMBHUR1CtkQMygAegUIARD_AQ..i&docid=e1W2_tKVIcI__M&w=1124&h=1124&q=Cake&ved=2ahUKEwikiLjHj7f7AhU74nMBHUR1CtkQMygAegUIARD_AQ\n",
      "None\n",
      "None\n",
      "None\n",
      "None\n",
      "None\n",
      "None\n",
      "None\n",
      "None\n",
      "None\n"
     ]
    }
   ],
   "source": [
    "cake_imgs = driver.find_elements(By.XPATH,'//a[@class=\"wXeWr islib nfEiy\"]')\n",
    "\n",
    "for i in cake_imgs[0:10]:\n",
    "    \n",
    "    print(i.get_attribute('href'))"
   ]
  },
  {
   "cell_type": "code",
   "execution_count": 85,
   "id": "4fbca751",
   "metadata": {},
   "outputs": [],
   "source": [
    "driver.close()"
   ]
  },
  {
   "cell_type": "code",
   "execution_count": null,
   "id": "a02a248b",
   "metadata": {},
   "outputs": [],
   "source": []
  },
  {
   "cell_type": "code",
   "execution_count": null,
   "id": "b2d11498",
   "metadata": {},
   "outputs": [],
   "source": []
  },
  {
   "cell_type": "code",
   "execution_count": null,
   "id": "4989a249",
   "metadata": {},
   "outputs": [],
   "source": []
  },
  {
   "cell_type": "code",
   "execution_count": null,
   "id": "22d6209f",
   "metadata": {},
   "outputs": [],
   "source": [
    "# Q.no -- 4"
   ]
  },
  {
   "cell_type": "code",
   "execution_count": 138,
   "id": "7bf86111",
   "metadata": {},
   "outputs": [
    {
     "data": {
      "text/plain": [
       "<selenium.webdriver.chrome.webdriver.WebDriver (session=\"f6fa8d8f87a4b74ee02b0c7e763f34b4\")>"
      ]
     },
     "execution_count": 138,
     "metadata": {},
     "output_type": "execute_result"
    }
   ],
   "source": [
    "driver = webdriver.Chrome(r'C:\\Users\\user\\chromedriver.exe')\n",
    "\n",
    "driver"
   ]
  },
  {
   "cell_type": "code",
   "execution_count": 139,
   "id": "03ca1c88",
   "metadata": {},
   "outputs": [],
   "source": [
    "url = 'https://www.flipkart.com/'\n",
    "\n",
    "driver.get(url)"
   ]
  },
  {
   "cell_type": "code",
   "execution_count": 140,
   "id": "691fd4c8",
   "metadata": {},
   "outputs": [],
   "source": [
    "search_title = driver.find_element(By.CLASS_NAME,\"_3704LK\")\n",
    "\n",
    "search_title.send_keys('OnePlus Nord')"
   ]
  },
  {
   "cell_type": "code",
   "execution_count": 141,
   "id": "dafb2973",
   "metadata": {},
   "outputs": [],
   "source": [
    "search_button = driver.find_element(By.XPATH,'/html/body/div[1]/div/div[1]/div[1]/div[2]/div[2]/form/div/button')\n",
    "\n",
    "search_button.click()"
   ]
  },
  {
   "cell_type": "code",
   "execution_count": 142,
   "id": "cddeedfd",
   "metadata": {},
   "outputs": [],
   "source": [
    "brand = []\n",
    "\n",
    "for i in driver.find_elements(By.XPATH,'//div[@class=\"_4rR01T\"]'):\n",
    "    brand.append(i.text)"
   ]
  },
  {
   "cell_type": "code",
   "execution_count": 143,
   "id": "2684dd8d",
   "metadata": {},
   "outputs": [
    {
     "data": {
      "text/plain": [
       "24"
      ]
     },
     "execution_count": 143,
     "metadata": {},
     "output_type": "execute_result"
    }
   ],
   "source": [
    "len(brand)"
   ]
  },
  {
   "cell_type": "code",
   "execution_count": 144,
   "id": "7cba0ae3",
   "metadata": {},
   "outputs": [],
   "source": [
    "ram = []\n",
    "\n",
    "for i in driver.find_elements(By.XPATH,'//li[@class=\"rgWa7D\"]'):\n",
    "    ram.append(i.text)"
   ]
  },
  {
   "cell_type": "code",
   "execution_count": 145,
   "id": "31073d3f",
   "metadata": {},
   "outputs": [
    {
     "data": {
      "text/plain": [
       "127"
      ]
     },
     "execution_count": 145,
     "metadata": {},
     "output_type": "execute_result"
    }
   ],
   "source": [
    "len(ram)"
   ]
  },
  {
   "cell_type": "code",
   "execution_count": 148,
   "id": "a2416e24",
   "metadata": {},
   "outputs": [
    {
     "data": {
      "text/plain": [
       "['6 GB RAM | 128 GB ROM',\n",
       " '16.74 cm (6.59 inch) Display',\n",
       " '64MP Rear Camera',\n",
       " '5000 mAh Battery',\n",
       " '12 Months',\n",
       " '6 GB RAM | 128 GB ROM',\n",
       " '16.74 cm (6.59 inch) HD+ Display',\n",
       " '64MP Rear Camera | 16MP Front Camera',\n",
       " '5000 mAh Battery',\n",
       " 'qualicom Processor',\n",
       " '12 months',\n",
       " '6 GB RAM | 128 GB ROM',\n",
       " '16.74 cm (6.59 inch) Display',\n",
       " '64MP Rear Camera',\n",
       " '5000 mAh Battery',\n",
       " '1 Year Brand Warranty',\n",
       " '6 GB RAM | 128 GB ROM',\n",
       " '16.74 cm (6.59 inch) Display',\n",
       " '64MP Rear Camera',\n",
       " '5000 mAh Battery',\n",
       " '1 Year Brand Warranty',\n",
       " '6 GB RAM | 128 GB ROM',\n",
       " '16.74 cm (6.59 inch) Display',\n",
       " '64MP Rear Camera',\n",
       " '5000 mAh Battery',\n",
       " '1 Year Brand Warranty',\n",
       " '8 GB RAM | 128 GB ROM',\n",
       " '17.02 cm (6.7 inch) Display',\n",
       " '50MP Rear Camera',\n",
       " '4500 mAh Battery',\n",
       " '12 Month',\n",
       " '8 GB RAM | 128 GB ROM',\n",
       " '17.02 cm (6.7 inch) Display',\n",
       " '50MP Rear Camera',\n",
       " '4500 mAh Battery',\n",
       " '12 months Warranty',\n",
       " '12 GB RAM | 256 GB ROM',\n",
       " '17.02 cm (6.7 inch) Display',\n",
       " '50MP Rear Camera',\n",
       " '4500 mAh Battery',\n",
       " '12 Month',\n",
       " '12 GB RAM | 256 GB ROM',\n",
       " '17.02 cm (6.7 inch) Display',\n",
       " '50MP Rear Camera',\n",
       " '4500 mAh Battery',\n",
       " '1 Year Manufacturer Warranty for Handset and 6 Months Warranty for In the Box Accessories',\n",
       " '12 GB RAM | 256 GB ROM',\n",
       " '17.02 cm (6.7 inch) Display',\n",
       " '50MP Rear Camera',\n",
       " '4500 mAh Battery',\n",
       " '12 months Warranty',\n",
       " '6 GB RAM | 128 GB ROM',\n",
       " '16.74 cm (6.59 inch) Display',\n",
       " '64MP Rear Camera',\n",
       " '5000 mAh Battery',\n",
       " '12 months',\n",
       " '8 GB RAM | 128 GB ROM',\n",
       " '17.02 cm (6.7 inch) Display',\n",
       " '50MP Rear Camera',\n",
       " '4500 mAh Battery',\n",
       " '12 Month',\n",
       " '8 GB RAM | 128 GB ROM',\n",
       " '17.02 cm (6.7 inch) Display',\n",
       " '50MP Rear Camera',\n",
       " '4500 mAh Battery',\n",
       " '12 months Warranty',\n",
       " '4 GB RAM | 64 GB ROM',\n",
       " '16.66 cm (6.56 inch) Display',\n",
       " '50MP Rear Camera',\n",
       " '5000 mAh Battery',\n",
       " 'NA',\n",
       " '4 MB RAM | 64 MB ROM',\n",
       " '16.66 cm (6.56 inch) Display',\n",
       " '50MP Rear Camera',\n",
       " '5000 mAh Battery',\n",
       " 'NA',\n",
       " '12 GB RAM | 256 GB ROM',\n",
       " '16.36 cm (6.44 inch) Full HD+ Display',\n",
       " '48MP + 8MP | 32MP + 8MP Dual Front Camera',\n",
       " '4115 mAh Battery',\n",
       " 'Qualcomm® Snapdragon™ 765G Processor',\n",
       " '1 Year',\n",
       " '6 GB RAM | 64 GB ROM',\n",
       " '16.36 cm (6.44 inch) Full HD+ Display',\n",
       " '48MP + 8MP | 32MP + 8MP Dual Front Camera',\n",
       " '4115 mAh Battery',\n",
       " 'Qualcomm® Snapdragon™ 765G Processor',\n",
       " '1 Year',\n",
       " '12 GB RAM | 256 GB ROM',\n",
       " '16.36 cm (6.44 inch) Full HD+ Display',\n",
       " '48MP + 8MP | 32MP + 8MP Dual Front Camera',\n",
       " '4115 mAh Battery',\n",
       " 'Qualcomm® Snapdragon™ 765G Processor',\n",
       " '1 Year',\n",
       " '8 GB RAM | 128 GB ROM',\n",
       " '16.36 cm (6.44 inch) Full HD+ Display',\n",
       " '48MP + 8MP | 32MP + 8MP Dual Front Camera',\n",
       " '4115 mAh Battery',\n",
       " 'Qualcomm® Snapdragon™ 765G Processor',\n",
       " '1 Year',\n",
       " '8 GB RAM | 128 GB ROM',\n",
       " '16.36 cm (6.44 inch) Full HD+ Display',\n",
       " '48MP + 8MP | 32MP + 8MP Dual Front Camera',\n",
       " '4115 mAh Battery',\n",
       " 'Qualcomm® Snapdragon™ 765G Processor',\n",
       " '1 Year',\n",
       " '6 GB RAM | 64 GB ROM',\n",
       " '16.36 cm (6.44 inch) Full HD+ Display',\n",
       " '48MP + 8MP | 32MP + 8MP Dual Front Camera',\n",
       " '4115 mAh Battery',\n",
       " 'Qualcomm® Snapdragon™ 765G Processor',\n",
       " '1 Year',\n",
       " '6 GB RAM | 128 GB ROM',\n",
       " '16.74 cm (6.59 inch) Display',\n",
       " '64MP Rear Camera',\n",
       " '5000 mAh Battery',\n",
       " '12 months',\n",
       " '8 GB RAM | 128 GB ROM',\n",
       " '16.74 cm (6.59 inch) Display',\n",
       " '64MP Rear Camera',\n",
       " '5000 mAh Battery',\n",
       " '1 Year Manufacturer Warranty for Handset and 6 Months Warranty for In the Box Accessories',\n",
       " '8 GB RAM | 128 GB ROM',\n",
       " '16.74 cm (6.59 inch) Display',\n",
       " '64MP Rear Camera',\n",
       " '5000 mAh Battery',\n",
       " '12 months']"
      ]
     },
     "execution_count": 148,
     "metadata": {},
     "output_type": "execute_result"
    }
   ],
   "source": [
    "ram"
   ]
  },
  {
   "cell_type": "code",
   "execution_count": 155,
   "id": "be427c82",
   "metadata": {},
   "outputs": [],
   "source": [
    "ram1 = [ram[0],ram[5],ram[11],ram[16],ram[21],ram[26],ram[31],ram[36],ram[41],ram[46],ram[51],ram[56],ram[61],ram[66],ram[71],ram[76],ram[82],ram[88],ram[94],ram[100],ram[106],ram[112],ram[117],ram[122]]"
   ]
  },
  {
   "cell_type": "code",
   "execution_count": 157,
   "id": "bd95ba15",
   "metadata": {},
   "outputs": [],
   "source": [
    "display = [ram[1],ram[6],ram[12],ram[17],ram[22],ram[27],ram[32],ram[37],ram[42],ram[47],ram[52],ram[57],ram[62],ram[67],ram[72],ram[77],ram[83],ram[89],ram[95],ram[101],ram[107],ram[113],ram[118],ram[123]]"
   ]
  },
  {
   "cell_type": "code",
   "execution_count": 159,
   "id": "8a281964",
   "metadata": {},
   "outputs": [],
   "source": [
    "camera = [ram[2],ram[7],ram[13],ram[18],ram[23],ram[28],ram[33],ram[38],ram[43],ram[48],ram[53],ram[58],ram[63],ram[68],ram[73],ram[78],ram[84],ram[90],ram[96],ram[102],ram[108],ram[114],ram[119],ram[124]]"
   ]
  },
  {
   "cell_type": "code",
   "execution_count": 161,
   "id": "47fb83cc",
   "metadata": {},
   "outputs": [],
   "source": [
    "battery = [ram[3],ram[8],ram[14],ram[19],ram[24],ram[29],ram[34],ram[39],ram[44],ram[49],ram[54],ram[59],ram[64],ram[69],ram[74],ram[79],ram[85],ram[91],ram[97],ram[103],ram[109],ram[115],ram[120],ram[125]]"
   ]
  },
  {
   "cell_type": "code",
   "execution_count": 163,
   "id": "c5e10b41",
   "metadata": {},
   "outputs": [],
   "source": [
    "price = []\n",
    "\n",
    "for i in driver.find_elements(By.XPATH,'//div[@class=\"_30jeq3 _1_WHN1\"]'):\n",
    "    \n",
    "    price.append(i.text)\n",
    "\n"
   ]
  },
  {
   "cell_type": "code",
   "execution_count": 166,
   "id": "5d925c68",
   "metadata": {},
   "outputs": [
    {
     "data": {
      "text/plain": [
       "24"
      ]
     },
     "execution_count": 166,
     "metadata": {},
     "output_type": "execute_result"
    }
   ],
   "source": [
    "len(price)"
   ]
  },
  {
   "cell_type": "code",
   "execution_count": 168,
   "id": "d43caa59",
   "metadata": {},
   "outputs": [],
   "source": [
    "url = ['-','-','-','-','-','-','-','-','-','-','-','-','-','-','-','-','-','-','-','-','-','-','-','-']"
   ]
  },
  {
   "cell_type": "code",
   "execution_count": 173,
   "id": "a440c958",
   "metadata": {},
   "outputs": [
    {
     "data": {
      "text/html": [
       "<div>\n",
       "<style scoped>\n",
       "    .dataframe tbody tr th:only-of-type {\n",
       "        vertical-align: middle;\n",
       "    }\n",
       "\n",
       "    .dataframe tbody tr th {\n",
       "        vertical-align: top;\n",
       "    }\n",
       "\n",
       "    .dataframe thead th {\n",
       "        text-align: right;\n",
       "    }\n",
       "</style>\n",
       "<table border=\"1\" class=\"dataframe\">\n",
       "  <thead>\n",
       "    <tr style=\"text-align: right;\">\n",
       "      <th></th>\n",
       "      <th>Brand And Colour</th>\n",
       "      <th>RAM and ROM</th>\n",
       "      <th>Display</th>\n",
       "      <th>Camera</th>\n",
       "      <th>Battery</th>\n",
       "      <th>Price</th>\n",
       "      <th>Url</th>\n",
       "    </tr>\n",
       "  </thead>\n",
       "  <tbody>\n",
       "    <tr>\n",
       "      <th>0</th>\n",
       "      <td>OnePlus Nord CE 2 Lite 5G (Blue Tide, 128 GB)</td>\n",
       "      <td>6 GB RAM | 128 GB ROM</td>\n",
       "      <td>16.74 cm (6.59 inch) Display</td>\n",
       "      <td>64MP Rear Camera</td>\n",
       "      <td>5000 mAh Battery</td>\n",
       "      <td>₹19,847</td>\n",
       "      <td>-</td>\n",
       "    </tr>\n",
       "    <tr>\n",
       "      <th>1</th>\n",
       "      <td>OnePlus Nord CE 2 Lite 5G (Blue Tide, 128 GB)</td>\n",
       "      <td>6 GB RAM | 128 GB ROM</td>\n",
       "      <td>16.74 cm (6.59 inch) HD+ Display</td>\n",
       "      <td>64MP Rear Camera | 16MP Front Camera</td>\n",
       "      <td>5000 mAh Battery</td>\n",
       "      <td>₹19,825</td>\n",
       "      <td>-</td>\n",
       "    </tr>\n",
       "    <tr>\n",
       "      <th>2</th>\n",
       "      <td>OnePlus Nord CE 2 Lite 5G (Black Dusk, 128 GB)</td>\n",
       "      <td>6 GB RAM | 128 GB ROM</td>\n",
       "      <td>16.74 cm (6.59 inch) Display</td>\n",
       "      <td>64MP Rear Camera</td>\n",
       "      <td>5000 mAh Battery</td>\n",
       "      <td>₹19,983</td>\n",
       "      <td>-</td>\n",
       "    </tr>\n",
       "    <tr>\n",
       "      <th>3</th>\n",
       "      <td>OnePlus Nord CE 2 Lite 5G (Blue Tide, 128 GB)</td>\n",
       "      <td>6 GB RAM | 128 GB ROM</td>\n",
       "      <td>16.74 cm (6.59 inch) Display</td>\n",
       "      <td>64MP Rear Camera</td>\n",
       "      <td>5000 mAh Battery</td>\n",
       "      <td>₹19,703</td>\n",
       "      <td>-</td>\n",
       "    </tr>\n",
       "    <tr>\n",
       "      <th>4</th>\n",
       "      <td>OnePlus Nord CE 2 Lite 5G (Blue Tide, 128 GB)</td>\n",
       "      <td>6 GB RAM | 128 GB ROM</td>\n",
       "      <td>16.74 cm (6.59 inch) Display</td>\n",
       "      <td>64MP Rear Camera</td>\n",
       "      <td>5000 mAh Battery</td>\n",
       "      <td>₹19,868</td>\n",
       "      <td>-</td>\n",
       "    </tr>\n",
       "    <tr>\n",
       "      <th>5</th>\n",
       "      <td>OnePlus Nord 2T 5G (Gray Shadow, 128 GB)</td>\n",
       "      <td>8 GB RAM | 128 GB ROM</td>\n",
       "      <td>17.02 cm (6.7 inch) Display</td>\n",
       "      <td>50MP Rear Camera</td>\n",
       "      <td>4500 mAh Battery</td>\n",
       "      <td>₹28,880</td>\n",
       "      <td>-</td>\n",
       "    </tr>\n",
       "    <tr>\n",
       "      <th>6</th>\n",
       "      <td>OnePlus Nord 2T 5G (Gray Shadow, 128 GB)</td>\n",
       "      <td>8 GB RAM | 128 GB ROM</td>\n",
       "      <td>17.02 cm (6.7 inch) Display</td>\n",
       "      <td>50MP Rear Camera</td>\n",
       "      <td>4500 mAh Battery</td>\n",
       "      <td>₹28,898</td>\n",
       "      <td>-</td>\n",
       "    </tr>\n",
       "    <tr>\n",
       "      <th>7</th>\n",
       "      <td>OnePlus Nord 2T 5G (Gray Shadow, 256 GB)</td>\n",
       "      <td>12 GB RAM | 256 GB ROM</td>\n",
       "      <td>17.02 cm (6.7 inch) Display</td>\n",
       "      <td>50MP Rear Camera</td>\n",
       "      <td>4500 mAh Battery</td>\n",
       "      <td>₹33,999</td>\n",
       "      <td>-</td>\n",
       "    </tr>\n",
       "    <tr>\n",
       "      <th>8</th>\n",
       "      <td>OnePlus Nord 2T 5G (Jade Fog, 256 GB)</td>\n",
       "      <td>12 GB RAM | 256 GB ROM</td>\n",
       "      <td>17.02 cm (6.7 inch) Display</td>\n",
       "      <td>50MP Rear Camera</td>\n",
       "      <td>4500 mAh Battery</td>\n",
       "      <td>₹33,970</td>\n",
       "      <td>-</td>\n",
       "    </tr>\n",
       "    <tr>\n",
       "      <th>9</th>\n",
       "      <td>OnePlus Nord 2T 5G (Jade Fog, 256 GB)</td>\n",
       "      <td>12 GB RAM | 256 GB ROM</td>\n",
       "      <td>17.02 cm (6.7 inch) Display</td>\n",
       "      <td>50MP Rear Camera</td>\n",
       "      <td>4500 mAh Battery</td>\n",
       "      <td>₹33,899</td>\n",
       "      <td>-</td>\n",
       "    </tr>\n",
       "    <tr>\n",
       "      <th>10</th>\n",
       "      <td>OnePlus Nord CE 2 Lite 5G (Black Dusk, 128 GB)</td>\n",
       "      <td>6 GB RAM | 128 GB ROM</td>\n",
       "      <td>16.74 cm (6.59 inch) Display</td>\n",
       "      <td>64MP Rear Camera</td>\n",
       "      <td>5000 mAh Battery</td>\n",
       "      <td>₹19,877</td>\n",
       "      <td>-</td>\n",
       "    </tr>\n",
       "    <tr>\n",
       "      <th>11</th>\n",
       "      <td>OnePlus Nord 2T 5G (Jade Fog, 128 GB)</td>\n",
       "      <td>8 GB RAM | 128 GB ROM</td>\n",
       "      <td>17.02 cm (6.7 inch) Display</td>\n",
       "      <td>50MP Rear Camera</td>\n",
       "      <td>4500 mAh Battery</td>\n",
       "      <td>₹28,999</td>\n",
       "      <td>-</td>\n",
       "    </tr>\n",
       "    <tr>\n",
       "      <th>12</th>\n",
       "      <td>OnePlus Nord 2T 5G (Jade Fog, 128 GB)</td>\n",
       "      <td>8 GB RAM | 128 GB ROM</td>\n",
       "      <td>17.02 cm (6.7 inch) Display</td>\n",
       "      <td>50MP Rear Camera</td>\n",
       "      <td>4500 mAh Battery</td>\n",
       "      <td>₹28,999</td>\n",
       "      <td>-</td>\n",
       "    </tr>\n",
       "    <tr>\n",
       "      <th>13</th>\n",
       "      <td>OnePlus Nord N20 SE (Celestial Black, 64 GB)</td>\n",
       "      <td>4 GB RAM | 64 GB ROM</td>\n",
       "      <td>16.66 cm (6.56 inch) Display</td>\n",
       "      <td>50MP Rear Camera</td>\n",
       "      <td>5000 mAh Battery</td>\n",
       "      <td>₹14,982</td>\n",
       "      <td>-</td>\n",
       "    </tr>\n",
       "    <tr>\n",
       "      <th>14</th>\n",
       "      <td>OnePlus Nord N20 SE (Blue Oasis, 64 MB)</td>\n",
       "      <td>4 MB RAM | 64 MB ROM</td>\n",
       "      <td>16.66 cm (6.56 inch) Display</td>\n",
       "      <td>50MP Rear Camera</td>\n",
       "      <td>5000 mAh Battery</td>\n",
       "      <td>₹15,399</td>\n",
       "      <td>-</td>\n",
       "    </tr>\n",
       "    <tr>\n",
       "      <th>15</th>\n",
       "      <td>OnePlus Nord (Gray Onyx, 256 GB)</td>\n",
       "      <td>12 GB RAM | 256 GB ROM</td>\n",
       "      <td>16.36 cm (6.44 inch) Full HD+ Display</td>\n",
       "      <td>48MP + 8MP | 32MP + 8MP Dual Front Camera</td>\n",
       "      <td>4115 mAh Battery</td>\n",
       "      <td>₹29,999</td>\n",
       "      <td>-</td>\n",
       "    </tr>\n",
       "    <tr>\n",
       "      <th>16</th>\n",
       "      <td>OnePlus Nord (Gray Onyx, 64 GB)</td>\n",
       "      <td>6 GB RAM | 64 GB ROM</td>\n",
       "      <td>16.36 cm (6.44 inch) Full HD+ Display</td>\n",
       "      <td>48MP + 8MP | 32MP + 8MP Dual Front Camera</td>\n",
       "      <td>4115 mAh Battery</td>\n",
       "      <td>₹24,999</td>\n",
       "      <td>-</td>\n",
       "    </tr>\n",
       "    <tr>\n",
       "      <th>17</th>\n",
       "      <td>OnePlus Nord (Blue Marble, 256 GB)</td>\n",
       "      <td>12 GB RAM | 256 GB ROM</td>\n",
       "      <td>16.36 cm (6.44 inch) Full HD+ Display</td>\n",
       "      <td>48MP + 8MP | 32MP + 8MP Dual Front Camera</td>\n",
       "      <td>4115 mAh Battery</td>\n",
       "      <td>₹29,999</td>\n",
       "      <td>-</td>\n",
       "    </tr>\n",
       "    <tr>\n",
       "      <th>18</th>\n",
       "      <td>OnePlus Nord (Gray Onyx, 128 GB)</td>\n",
       "      <td>8 GB RAM | 128 GB ROM</td>\n",
       "      <td>16.36 cm (6.44 inch) Full HD+ Display</td>\n",
       "      <td>48MP + 8MP | 32MP + 8MP Dual Front Camera</td>\n",
       "      <td>4115 mAh Battery</td>\n",
       "      <td>₹27,999</td>\n",
       "      <td>-</td>\n",
       "    </tr>\n",
       "    <tr>\n",
       "      <th>19</th>\n",
       "      <td>OnePlus Nord (Blue Marble, 128 GB)</td>\n",
       "      <td>8 GB RAM | 128 GB ROM</td>\n",
       "      <td>16.36 cm (6.44 inch) Full HD+ Display</td>\n",
       "      <td>48MP + 8MP | 32MP + 8MP Dual Front Camera</td>\n",
       "      <td>4115 mAh Battery</td>\n",
       "      <td>₹27,999</td>\n",
       "      <td>-</td>\n",
       "    </tr>\n",
       "    <tr>\n",
       "      <th>20</th>\n",
       "      <td>OnePlus Nord (Blue Marble, 64 GB)</td>\n",
       "      <td>6 GB RAM | 64 GB ROM</td>\n",
       "      <td>16.36 cm (6.44 inch) Full HD+ Display</td>\n",
       "      <td>48MP + 8MP | 32MP + 8MP Dual Front Camera</td>\n",
       "      <td>4115 mAh Battery</td>\n",
       "      <td>₹24,999</td>\n",
       "      <td>-</td>\n",
       "    </tr>\n",
       "    <tr>\n",
       "      <th>21</th>\n",
       "      <td>OnePlus Nord CE 2 Lite 5G (Black Dusk, 128 GB)</td>\n",
       "      <td>6 GB RAM | 128 GB ROM</td>\n",
       "      <td>16.74 cm (6.59 inch) Display</td>\n",
       "      <td>64MP Rear Camera</td>\n",
       "      <td>5000 mAh Battery</td>\n",
       "      <td>₹19,100</td>\n",
       "      <td>-</td>\n",
       "    </tr>\n",
       "    <tr>\n",
       "      <th>22</th>\n",
       "      <td>OnePlus Nord CE2 Lite 5G (Blue Tide, 128 GB)</td>\n",
       "      <td>8 GB RAM | 128 GB ROM</td>\n",
       "      <td>16.74 cm (6.59 inch) Display</td>\n",
       "      <td>64MP Rear Camera</td>\n",
       "      <td>5000 mAh Battery</td>\n",
       "      <td>₹21,999</td>\n",
       "      <td>-</td>\n",
       "    </tr>\n",
       "    <tr>\n",
       "      <th>23</th>\n",
       "      <td>OnePlus Nord CE 2 Lite 5G (Black Dusk, 128 GB)</td>\n",
       "      <td>8 GB RAM | 128 GB ROM</td>\n",
       "      <td>16.74 cm (6.59 inch) Display</td>\n",
       "      <td>64MP Rear Camera</td>\n",
       "      <td>5000 mAh Battery</td>\n",
       "      <td>₹21,999</td>\n",
       "      <td>-</td>\n",
       "    </tr>\n",
       "  </tbody>\n",
       "</table>\n",
       "</div>"
      ],
      "text/plain": [
       "                                  Brand And Colour             RAM and ROM  \\\n",
       "0    OnePlus Nord CE 2 Lite 5G (Blue Tide, 128 GB)   6 GB RAM | 128 GB ROM   \n",
       "1    OnePlus Nord CE 2 Lite 5G (Blue Tide, 128 GB)   6 GB RAM | 128 GB ROM   \n",
       "2   OnePlus Nord CE 2 Lite 5G (Black Dusk, 128 GB)   6 GB RAM | 128 GB ROM   \n",
       "3    OnePlus Nord CE 2 Lite 5G (Blue Tide, 128 GB)   6 GB RAM | 128 GB ROM   \n",
       "4    OnePlus Nord CE 2 Lite 5G (Blue Tide, 128 GB)   6 GB RAM | 128 GB ROM   \n",
       "5         OnePlus Nord 2T 5G (Gray Shadow, 128 GB)   8 GB RAM | 128 GB ROM   \n",
       "6         OnePlus Nord 2T 5G (Gray Shadow, 128 GB)   8 GB RAM | 128 GB ROM   \n",
       "7         OnePlus Nord 2T 5G (Gray Shadow, 256 GB)  12 GB RAM | 256 GB ROM   \n",
       "8            OnePlus Nord 2T 5G (Jade Fog, 256 GB)  12 GB RAM | 256 GB ROM   \n",
       "9            OnePlus Nord 2T 5G (Jade Fog, 256 GB)  12 GB RAM | 256 GB ROM   \n",
       "10  OnePlus Nord CE 2 Lite 5G (Black Dusk, 128 GB)   6 GB RAM | 128 GB ROM   \n",
       "11           OnePlus Nord 2T 5G (Jade Fog, 128 GB)   8 GB RAM | 128 GB ROM   \n",
       "12           OnePlus Nord 2T 5G (Jade Fog, 128 GB)   8 GB RAM | 128 GB ROM   \n",
       "13    OnePlus Nord N20 SE (Celestial Black, 64 GB)    4 GB RAM | 64 GB ROM   \n",
       "14         OnePlus Nord N20 SE (Blue Oasis, 64 MB)    4 MB RAM | 64 MB ROM   \n",
       "15                OnePlus Nord (Gray Onyx, 256 GB)  12 GB RAM | 256 GB ROM   \n",
       "16                 OnePlus Nord (Gray Onyx, 64 GB)    6 GB RAM | 64 GB ROM   \n",
       "17              OnePlus Nord (Blue Marble, 256 GB)  12 GB RAM | 256 GB ROM   \n",
       "18                OnePlus Nord (Gray Onyx, 128 GB)   8 GB RAM | 128 GB ROM   \n",
       "19              OnePlus Nord (Blue Marble, 128 GB)   8 GB RAM | 128 GB ROM   \n",
       "20               OnePlus Nord (Blue Marble, 64 GB)    6 GB RAM | 64 GB ROM   \n",
       "21  OnePlus Nord CE 2 Lite 5G (Black Dusk, 128 GB)   6 GB RAM | 128 GB ROM   \n",
       "22    OnePlus Nord CE2 Lite 5G (Blue Tide, 128 GB)   8 GB RAM | 128 GB ROM   \n",
       "23  OnePlus Nord CE 2 Lite 5G (Black Dusk, 128 GB)   8 GB RAM | 128 GB ROM   \n",
       "\n",
       "                                  Display  \\\n",
       "0            16.74 cm (6.59 inch) Display   \n",
       "1        16.74 cm (6.59 inch) HD+ Display   \n",
       "2            16.74 cm (6.59 inch) Display   \n",
       "3            16.74 cm (6.59 inch) Display   \n",
       "4            16.74 cm (6.59 inch) Display   \n",
       "5             17.02 cm (6.7 inch) Display   \n",
       "6             17.02 cm (6.7 inch) Display   \n",
       "7             17.02 cm (6.7 inch) Display   \n",
       "8             17.02 cm (6.7 inch) Display   \n",
       "9             17.02 cm (6.7 inch) Display   \n",
       "10           16.74 cm (6.59 inch) Display   \n",
       "11            17.02 cm (6.7 inch) Display   \n",
       "12            17.02 cm (6.7 inch) Display   \n",
       "13           16.66 cm (6.56 inch) Display   \n",
       "14           16.66 cm (6.56 inch) Display   \n",
       "15  16.36 cm (6.44 inch) Full HD+ Display   \n",
       "16  16.36 cm (6.44 inch) Full HD+ Display   \n",
       "17  16.36 cm (6.44 inch) Full HD+ Display   \n",
       "18  16.36 cm (6.44 inch) Full HD+ Display   \n",
       "19  16.36 cm (6.44 inch) Full HD+ Display   \n",
       "20  16.36 cm (6.44 inch) Full HD+ Display   \n",
       "21           16.74 cm (6.59 inch) Display   \n",
       "22           16.74 cm (6.59 inch) Display   \n",
       "23           16.74 cm (6.59 inch) Display   \n",
       "\n",
       "                                       Camera           Battery    Price Url  \n",
       "0                            64MP Rear Camera  5000 mAh Battery  ₹19,847   -  \n",
       "1        64MP Rear Camera | 16MP Front Camera  5000 mAh Battery  ₹19,825   -  \n",
       "2                            64MP Rear Camera  5000 mAh Battery  ₹19,983   -  \n",
       "3                            64MP Rear Camera  5000 mAh Battery  ₹19,703   -  \n",
       "4                            64MP Rear Camera  5000 mAh Battery  ₹19,868   -  \n",
       "5                            50MP Rear Camera  4500 mAh Battery  ₹28,880   -  \n",
       "6                            50MP Rear Camera  4500 mAh Battery  ₹28,898   -  \n",
       "7                            50MP Rear Camera  4500 mAh Battery  ₹33,999   -  \n",
       "8                            50MP Rear Camera  4500 mAh Battery  ₹33,970   -  \n",
       "9                            50MP Rear Camera  4500 mAh Battery  ₹33,899   -  \n",
       "10                           64MP Rear Camera  5000 mAh Battery  ₹19,877   -  \n",
       "11                           50MP Rear Camera  4500 mAh Battery  ₹28,999   -  \n",
       "12                           50MP Rear Camera  4500 mAh Battery  ₹28,999   -  \n",
       "13                           50MP Rear Camera  5000 mAh Battery  ₹14,982   -  \n",
       "14                           50MP Rear Camera  5000 mAh Battery  ₹15,399   -  \n",
       "15  48MP + 8MP | 32MP + 8MP Dual Front Camera  4115 mAh Battery  ₹29,999   -  \n",
       "16  48MP + 8MP | 32MP + 8MP Dual Front Camera  4115 mAh Battery  ₹24,999   -  \n",
       "17  48MP + 8MP | 32MP + 8MP Dual Front Camera  4115 mAh Battery  ₹29,999   -  \n",
       "18  48MP + 8MP | 32MP + 8MP Dual Front Camera  4115 mAh Battery  ₹27,999   -  \n",
       "19  48MP + 8MP | 32MP + 8MP Dual Front Camera  4115 mAh Battery  ₹27,999   -  \n",
       "20  48MP + 8MP | 32MP + 8MP Dual Front Camera  4115 mAh Battery  ₹24,999   -  \n",
       "21                           64MP Rear Camera  5000 mAh Battery  ₹19,100   -  \n",
       "22                           64MP Rear Camera  5000 mAh Battery  ₹21,999   -  \n",
       "23                           64MP Rear Camera  5000 mAh Battery  ₹21,999   -  "
      ]
     },
     "execution_count": 173,
     "metadata": {},
     "output_type": "execute_result"
    }
   ],
   "source": [
    "df = pd.DataFrame({'Brand And Colour':brand,'RAM and ROM':ram1,'Display':display,'Camera':camera,'Battery':battery,'Price':price,'Url':url})\n",
    "\n",
    "df"
   ]
  },
  {
   "cell_type": "code",
   "execution_count": 174,
   "id": "4cab061c",
   "metadata": {},
   "outputs": [],
   "source": [
    "import numpy as np\n",
    "\n",
    "r = np.arange(1,25)"
   ]
  },
  {
   "cell_type": "code",
   "execution_count": 175,
   "id": "d9ad3c8f",
   "metadata": {},
   "outputs": [
    {
     "data": {
      "text/plain": [
       "array([ 1,  2,  3,  4,  5,  6,  7,  8,  9, 10, 11, 12, 13, 14, 15, 16, 17,\n",
       "       18, 19, 20, 21, 22, 23, 24])"
      ]
     },
     "execution_count": 175,
     "metadata": {},
     "output_type": "execute_result"
    }
   ],
   "source": [
    "r"
   ]
  },
  {
   "cell_type": "code",
   "execution_count": 176,
   "id": "a510ee78",
   "metadata": {},
   "outputs": [
    {
     "data": {
      "text/html": [
       "<div>\n",
       "<style scoped>\n",
       "    .dataframe tbody tr th:only-of-type {\n",
       "        vertical-align: middle;\n",
       "    }\n",
       "\n",
       "    .dataframe tbody tr th {\n",
       "        vertical-align: top;\n",
       "    }\n",
       "\n",
       "    .dataframe thead th {\n",
       "        text-align: right;\n",
       "    }\n",
       "</style>\n",
       "<table border=\"1\" class=\"dataframe\">\n",
       "  <thead>\n",
       "    <tr style=\"text-align: right;\">\n",
       "      <th></th>\n",
       "      <th>Brand And Colour</th>\n",
       "      <th>RAM and ROM</th>\n",
       "      <th>Display</th>\n",
       "      <th>Camera</th>\n",
       "      <th>Battery</th>\n",
       "      <th>Price</th>\n",
       "      <th>Url</th>\n",
       "    </tr>\n",
       "  </thead>\n",
       "  <tbody>\n",
       "    <tr>\n",
       "      <th>1</th>\n",
       "      <td>OnePlus Nord CE 2 Lite 5G (Blue Tide, 128 GB)</td>\n",
       "      <td>6 GB RAM | 128 GB ROM</td>\n",
       "      <td>16.74 cm (6.59 inch) Display</td>\n",
       "      <td>64MP Rear Camera</td>\n",
       "      <td>5000 mAh Battery</td>\n",
       "      <td>₹19,847</td>\n",
       "      <td>-</td>\n",
       "    </tr>\n",
       "    <tr>\n",
       "      <th>2</th>\n",
       "      <td>OnePlus Nord CE 2 Lite 5G (Blue Tide, 128 GB)</td>\n",
       "      <td>6 GB RAM | 128 GB ROM</td>\n",
       "      <td>16.74 cm (6.59 inch) HD+ Display</td>\n",
       "      <td>64MP Rear Camera | 16MP Front Camera</td>\n",
       "      <td>5000 mAh Battery</td>\n",
       "      <td>₹19,825</td>\n",
       "      <td>-</td>\n",
       "    </tr>\n",
       "    <tr>\n",
       "      <th>3</th>\n",
       "      <td>OnePlus Nord CE 2 Lite 5G (Black Dusk, 128 GB)</td>\n",
       "      <td>6 GB RAM | 128 GB ROM</td>\n",
       "      <td>16.74 cm (6.59 inch) Display</td>\n",
       "      <td>64MP Rear Camera</td>\n",
       "      <td>5000 mAh Battery</td>\n",
       "      <td>₹19,983</td>\n",
       "      <td>-</td>\n",
       "    </tr>\n",
       "    <tr>\n",
       "      <th>4</th>\n",
       "      <td>OnePlus Nord CE 2 Lite 5G (Blue Tide, 128 GB)</td>\n",
       "      <td>6 GB RAM | 128 GB ROM</td>\n",
       "      <td>16.74 cm (6.59 inch) Display</td>\n",
       "      <td>64MP Rear Camera</td>\n",
       "      <td>5000 mAh Battery</td>\n",
       "      <td>₹19,703</td>\n",
       "      <td>-</td>\n",
       "    </tr>\n",
       "    <tr>\n",
       "      <th>5</th>\n",
       "      <td>OnePlus Nord CE 2 Lite 5G (Blue Tide, 128 GB)</td>\n",
       "      <td>6 GB RAM | 128 GB ROM</td>\n",
       "      <td>16.74 cm (6.59 inch) Display</td>\n",
       "      <td>64MP Rear Camera</td>\n",
       "      <td>5000 mAh Battery</td>\n",
       "      <td>₹19,868</td>\n",
       "      <td>-</td>\n",
       "    </tr>\n",
       "    <tr>\n",
       "      <th>6</th>\n",
       "      <td>OnePlus Nord 2T 5G (Gray Shadow, 128 GB)</td>\n",
       "      <td>8 GB RAM | 128 GB ROM</td>\n",
       "      <td>17.02 cm (6.7 inch) Display</td>\n",
       "      <td>50MP Rear Camera</td>\n",
       "      <td>4500 mAh Battery</td>\n",
       "      <td>₹28,880</td>\n",
       "      <td>-</td>\n",
       "    </tr>\n",
       "    <tr>\n",
       "      <th>7</th>\n",
       "      <td>OnePlus Nord 2T 5G (Gray Shadow, 128 GB)</td>\n",
       "      <td>8 GB RAM | 128 GB ROM</td>\n",
       "      <td>17.02 cm (6.7 inch) Display</td>\n",
       "      <td>50MP Rear Camera</td>\n",
       "      <td>4500 mAh Battery</td>\n",
       "      <td>₹28,898</td>\n",
       "      <td>-</td>\n",
       "    </tr>\n",
       "    <tr>\n",
       "      <th>8</th>\n",
       "      <td>OnePlus Nord 2T 5G (Gray Shadow, 256 GB)</td>\n",
       "      <td>12 GB RAM | 256 GB ROM</td>\n",
       "      <td>17.02 cm (6.7 inch) Display</td>\n",
       "      <td>50MP Rear Camera</td>\n",
       "      <td>4500 mAh Battery</td>\n",
       "      <td>₹33,999</td>\n",
       "      <td>-</td>\n",
       "    </tr>\n",
       "    <tr>\n",
       "      <th>9</th>\n",
       "      <td>OnePlus Nord 2T 5G (Jade Fog, 256 GB)</td>\n",
       "      <td>12 GB RAM | 256 GB ROM</td>\n",
       "      <td>17.02 cm (6.7 inch) Display</td>\n",
       "      <td>50MP Rear Camera</td>\n",
       "      <td>4500 mAh Battery</td>\n",
       "      <td>₹33,970</td>\n",
       "      <td>-</td>\n",
       "    </tr>\n",
       "    <tr>\n",
       "      <th>10</th>\n",
       "      <td>OnePlus Nord 2T 5G (Jade Fog, 256 GB)</td>\n",
       "      <td>12 GB RAM | 256 GB ROM</td>\n",
       "      <td>17.02 cm (6.7 inch) Display</td>\n",
       "      <td>50MP Rear Camera</td>\n",
       "      <td>4500 mAh Battery</td>\n",
       "      <td>₹33,899</td>\n",
       "      <td>-</td>\n",
       "    </tr>\n",
       "    <tr>\n",
       "      <th>11</th>\n",
       "      <td>OnePlus Nord CE 2 Lite 5G (Black Dusk, 128 GB)</td>\n",
       "      <td>6 GB RAM | 128 GB ROM</td>\n",
       "      <td>16.74 cm (6.59 inch) Display</td>\n",
       "      <td>64MP Rear Camera</td>\n",
       "      <td>5000 mAh Battery</td>\n",
       "      <td>₹19,877</td>\n",
       "      <td>-</td>\n",
       "    </tr>\n",
       "    <tr>\n",
       "      <th>12</th>\n",
       "      <td>OnePlus Nord 2T 5G (Jade Fog, 128 GB)</td>\n",
       "      <td>8 GB RAM | 128 GB ROM</td>\n",
       "      <td>17.02 cm (6.7 inch) Display</td>\n",
       "      <td>50MP Rear Camera</td>\n",
       "      <td>4500 mAh Battery</td>\n",
       "      <td>₹28,999</td>\n",
       "      <td>-</td>\n",
       "    </tr>\n",
       "    <tr>\n",
       "      <th>13</th>\n",
       "      <td>OnePlus Nord 2T 5G (Jade Fog, 128 GB)</td>\n",
       "      <td>8 GB RAM | 128 GB ROM</td>\n",
       "      <td>17.02 cm (6.7 inch) Display</td>\n",
       "      <td>50MP Rear Camera</td>\n",
       "      <td>4500 mAh Battery</td>\n",
       "      <td>₹28,999</td>\n",
       "      <td>-</td>\n",
       "    </tr>\n",
       "    <tr>\n",
       "      <th>14</th>\n",
       "      <td>OnePlus Nord N20 SE (Celestial Black, 64 GB)</td>\n",
       "      <td>4 GB RAM | 64 GB ROM</td>\n",
       "      <td>16.66 cm (6.56 inch) Display</td>\n",
       "      <td>50MP Rear Camera</td>\n",
       "      <td>5000 mAh Battery</td>\n",
       "      <td>₹14,982</td>\n",
       "      <td>-</td>\n",
       "    </tr>\n",
       "    <tr>\n",
       "      <th>15</th>\n",
       "      <td>OnePlus Nord N20 SE (Blue Oasis, 64 MB)</td>\n",
       "      <td>4 MB RAM | 64 MB ROM</td>\n",
       "      <td>16.66 cm (6.56 inch) Display</td>\n",
       "      <td>50MP Rear Camera</td>\n",
       "      <td>5000 mAh Battery</td>\n",
       "      <td>₹15,399</td>\n",
       "      <td>-</td>\n",
       "    </tr>\n",
       "    <tr>\n",
       "      <th>16</th>\n",
       "      <td>OnePlus Nord (Gray Onyx, 256 GB)</td>\n",
       "      <td>12 GB RAM | 256 GB ROM</td>\n",
       "      <td>16.36 cm (6.44 inch) Full HD+ Display</td>\n",
       "      <td>48MP + 8MP | 32MP + 8MP Dual Front Camera</td>\n",
       "      <td>4115 mAh Battery</td>\n",
       "      <td>₹29,999</td>\n",
       "      <td>-</td>\n",
       "    </tr>\n",
       "    <tr>\n",
       "      <th>17</th>\n",
       "      <td>OnePlus Nord (Gray Onyx, 64 GB)</td>\n",
       "      <td>6 GB RAM | 64 GB ROM</td>\n",
       "      <td>16.36 cm (6.44 inch) Full HD+ Display</td>\n",
       "      <td>48MP + 8MP | 32MP + 8MP Dual Front Camera</td>\n",
       "      <td>4115 mAh Battery</td>\n",
       "      <td>₹24,999</td>\n",
       "      <td>-</td>\n",
       "    </tr>\n",
       "    <tr>\n",
       "      <th>18</th>\n",
       "      <td>OnePlus Nord (Blue Marble, 256 GB)</td>\n",
       "      <td>12 GB RAM | 256 GB ROM</td>\n",
       "      <td>16.36 cm (6.44 inch) Full HD+ Display</td>\n",
       "      <td>48MP + 8MP | 32MP + 8MP Dual Front Camera</td>\n",
       "      <td>4115 mAh Battery</td>\n",
       "      <td>₹29,999</td>\n",
       "      <td>-</td>\n",
       "    </tr>\n",
       "    <tr>\n",
       "      <th>19</th>\n",
       "      <td>OnePlus Nord (Gray Onyx, 128 GB)</td>\n",
       "      <td>8 GB RAM | 128 GB ROM</td>\n",
       "      <td>16.36 cm (6.44 inch) Full HD+ Display</td>\n",
       "      <td>48MP + 8MP | 32MP + 8MP Dual Front Camera</td>\n",
       "      <td>4115 mAh Battery</td>\n",
       "      <td>₹27,999</td>\n",
       "      <td>-</td>\n",
       "    </tr>\n",
       "    <tr>\n",
       "      <th>20</th>\n",
       "      <td>OnePlus Nord (Blue Marble, 128 GB)</td>\n",
       "      <td>8 GB RAM | 128 GB ROM</td>\n",
       "      <td>16.36 cm (6.44 inch) Full HD+ Display</td>\n",
       "      <td>48MP + 8MP | 32MP + 8MP Dual Front Camera</td>\n",
       "      <td>4115 mAh Battery</td>\n",
       "      <td>₹27,999</td>\n",
       "      <td>-</td>\n",
       "    </tr>\n",
       "    <tr>\n",
       "      <th>21</th>\n",
       "      <td>OnePlus Nord (Blue Marble, 64 GB)</td>\n",
       "      <td>6 GB RAM | 64 GB ROM</td>\n",
       "      <td>16.36 cm (6.44 inch) Full HD+ Display</td>\n",
       "      <td>48MP + 8MP | 32MP + 8MP Dual Front Camera</td>\n",
       "      <td>4115 mAh Battery</td>\n",
       "      <td>₹24,999</td>\n",
       "      <td>-</td>\n",
       "    </tr>\n",
       "    <tr>\n",
       "      <th>22</th>\n",
       "      <td>OnePlus Nord CE 2 Lite 5G (Black Dusk, 128 GB)</td>\n",
       "      <td>6 GB RAM | 128 GB ROM</td>\n",
       "      <td>16.74 cm (6.59 inch) Display</td>\n",
       "      <td>64MP Rear Camera</td>\n",
       "      <td>5000 mAh Battery</td>\n",
       "      <td>₹19,100</td>\n",
       "      <td>-</td>\n",
       "    </tr>\n",
       "    <tr>\n",
       "      <th>23</th>\n",
       "      <td>OnePlus Nord CE2 Lite 5G (Blue Tide, 128 GB)</td>\n",
       "      <td>8 GB RAM | 128 GB ROM</td>\n",
       "      <td>16.74 cm (6.59 inch) Display</td>\n",
       "      <td>64MP Rear Camera</td>\n",
       "      <td>5000 mAh Battery</td>\n",
       "      <td>₹21,999</td>\n",
       "      <td>-</td>\n",
       "    </tr>\n",
       "    <tr>\n",
       "      <th>24</th>\n",
       "      <td>OnePlus Nord CE 2 Lite 5G (Black Dusk, 128 GB)</td>\n",
       "      <td>8 GB RAM | 128 GB ROM</td>\n",
       "      <td>16.74 cm (6.59 inch) Display</td>\n",
       "      <td>64MP Rear Camera</td>\n",
       "      <td>5000 mAh Battery</td>\n",
       "      <td>₹21,999</td>\n",
       "      <td>-</td>\n",
       "    </tr>\n",
       "  </tbody>\n",
       "</table>\n",
       "</div>"
      ],
      "text/plain": [
       "                                  Brand And Colour             RAM and ROM  \\\n",
       "1    OnePlus Nord CE 2 Lite 5G (Blue Tide, 128 GB)   6 GB RAM | 128 GB ROM   \n",
       "2    OnePlus Nord CE 2 Lite 5G (Blue Tide, 128 GB)   6 GB RAM | 128 GB ROM   \n",
       "3   OnePlus Nord CE 2 Lite 5G (Black Dusk, 128 GB)   6 GB RAM | 128 GB ROM   \n",
       "4    OnePlus Nord CE 2 Lite 5G (Blue Tide, 128 GB)   6 GB RAM | 128 GB ROM   \n",
       "5    OnePlus Nord CE 2 Lite 5G (Blue Tide, 128 GB)   6 GB RAM | 128 GB ROM   \n",
       "6         OnePlus Nord 2T 5G (Gray Shadow, 128 GB)   8 GB RAM | 128 GB ROM   \n",
       "7         OnePlus Nord 2T 5G (Gray Shadow, 128 GB)   8 GB RAM | 128 GB ROM   \n",
       "8         OnePlus Nord 2T 5G (Gray Shadow, 256 GB)  12 GB RAM | 256 GB ROM   \n",
       "9            OnePlus Nord 2T 5G (Jade Fog, 256 GB)  12 GB RAM | 256 GB ROM   \n",
       "10           OnePlus Nord 2T 5G (Jade Fog, 256 GB)  12 GB RAM | 256 GB ROM   \n",
       "11  OnePlus Nord CE 2 Lite 5G (Black Dusk, 128 GB)   6 GB RAM | 128 GB ROM   \n",
       "12           OnePlus Nord 2T 5G (Jade Fog, 128 GB)   8 GB RAM | 128 GB ROM   \n",
       "13           OnePlus Nord 2T 5G (Jade Fog, 128 GB)   8 GB RAM | 128 GB ROM   \n",
       "14    OnePlus Nord N20 SE (Celestial Black, 64 GB)    4 GB RAM | 64 GB ROM   \n",
       "15         OnePlus Nord N20 SE (Blue Oasis, 64 MB)    4 MB RAM | 64 MB ROM   \n",
       "16                OnePlus Nord (Gray Onyx, 256 GB)  12 GB RAM | 256 GB ROM   \n",
       "17                 OnePlus Nord (Gray Onyx, 64 GB)    6 GB RAM | 64 GB ROM   \n",
       "18              OnePlus Nord (Blue Marble, 256 GB)  12 GB RAM | 256 GB ROM   \n",
       "19                OnePlus Nord (Gray Onyx, 128 GB)   8 GB RAM | 128 GB ROM   \n",
       "20              OnePlus Nord (Blue Marble, 128 GB)   8 GB RAM | 128 GB ROM   \n",
       "21               OnePlus Nord (Blue Marble, 64 GB)    6 GB RAM | 64 GB ROM   \n",
       "22  OnePlus Nord CE 2 Lite 5G (Black Dusk, 128 GB)   6 GB RAM | 128 GB ROM   \n",
       "23    OnePlus Nord CE2 Lite 5G (Blue Tide, 128 GB)   8 GB RAM | 128 GB ROM   \n",
       "24  OnePlus Nord CE 2 Lite 5G (Black Dusk, 128 GB)   8 GB RAM | 128 GB ROM   \n",
       "\n",
       "                                  Display  \\\n",
       "1            16.74 cm (6.59 inch) Display   \n",
       "2        16.74 cm (6.59 inch) HD+ Display   \n",
       "3            16.74 cm (6.59 inch) Display   \n",
       "4            16.74 cm (6.59 inch) Display   \n",
       "5            16.74 cm (6.59 inch) Display   \n",
       "6             17.02 cm (6.7 inch) Display   \n",
       "7             17.02 cm (6.7 inch) Display   \n",
       "8             17.02 cm (6.7 inch) Display   \n",
       "9             17.02 cm (6.7 inch) Display   \n",
       "10            17.02 cm (6.7 inch) Display   \n",
       "11           16.74 cm (6.59 inch) Display   \n",
       "12            17.02 cm (6.7 inch) Display   \n",
       "13            17.02 cm (6.7 inch) Display   \n",
       "14           16.66 cm (6.56 inch) Display   \n",
       "15           16.66 cm (6.56 inch) Display   \n",
       "16  16.36 cm (6.44 inch) Full HD+ Display   \n",
       "17  16.36 cm (6.44 inch) Full HD+ Display   \n",
       "18  16.36 cm (6.44 inch) Full HD+ Display   \n",
       "19  16.36 cm (6.44 inch) Full HD+ Display   \n",
       "20  16.36 cm (6.44 inch) Full HD+ Display   \n",
       "21  16.36 cm (6.44 inch) Full HD+ Display   \n",
       "22           16.74 cm (6.59 inch) Display   \n",
       "23           16.74 cm (6.59 inch) Display   \n",
       "24           16.74 cm (6.59 inch) Display   \n",
       "\n",
       "                                       Camera           Battery    Price Url  \n",
       "1                            64MP Rear Camera  5000 mAh Battery  ₹19,847   -  \n",
       "2        64MP Rear Camera | 16MP Front Camera  5000 mAh Battery  ₹19,825   -  \n",
       "3                            64MP Rear Camera  5000 mAh Battery  ₹19,983   -  \n",
       "4                            64MP Rear Camera  5000 mAh Battery  ₹19,703   -  \n",
       "5                            64MP Rear Camera  5000 mAh Battery  ₹19,868   -  \n",
       "6                            50MP Rear Camera  4500 mAh Battery  ₹28,880   -  \n",
       "7                            50MP Rear Camera  4500 mAh Battery  ₹28,898   -  \n",
       "8                            50MP Rear Camera  4500 mAh Battery  ₹33,999   -  \n",
       "9                            50MP Rear Camera  4500 mAh Battery  ₹33,970   -  \n",
       "10                           50MP Rear Camera  4500 mAh Battery  ₹33,899   -  \n",
       "11                           64MP Rear Camera  5000 mAh Battery  ₹19,877   -  \n",
       "12                           50MP Rear Camera  4500 mAh Battery  ₹28,999   -  \n",
       "13                           50MP Rear Camera  4500 mAh Battery  ₹28,999   -  \n",
       "14                           50MP Rear Camera  5000 mAh Battery  ₹14,982   -  \n",
       "15                           50MP Rear Camera  5000 mAh Battery  ₹15,399   -  \n",
       "16  48MP + 8MP | 32MP + 8MP Dual Front Camera  4115 mAh Battery  ₹29,999   -  \n",
       "17  48MP + 8MP | 32MP + 8MP Dual Front Camera  4115 mAh Battery  ₹24,999   -  \n",
       "18  48MP + 8MP | 32MP + 8MP Dual Front Camera  4115 mAh Battery  ₹29,999   -  \n",
       "19  48MP + 8MP | 32MP + 8MP Dual Front Camera  4115 mAh Battery  ₹27,999   -  \n",
       "20  48MP + 8MP | 32MP + 8MP Dual Front Camera  4115 mAh Battery  ₹27,999   -  \n",
       "21  48MP + 8MP | 32MP + 8MP Dual Front Camera  4115 mAh Battery  ₹24,999   -  \n",
       "22                           64MP Rear Camera  5000 mAh Battery  ₹19,100   -  \n",
       "23                           64MP Rear Camera  5000 mAh Battery  ₹21,999   -  \n",
       "24                           64MP Rear Camera  5000 mAh Battery  ₹21,999   -  "
      ]
     },
     "execution_count": 176,
     "metadata": {},
     "output_type": "execute_result"
    }
   ],
   "source": [
    "df = df.set_index(r)\n",
    "\n",
    "df"
   ]
  },
  {
   "cell_type": "code",
   "execution_count": 177,
   "id": "b8ac8cfc",
   "metadata": {},
   "outputs": [],
   "source": [
    "driver.close()"
   ]
  },
  {
   "cell_type": "code",
   "execution_count": 189,
   "id": "5bb90c76",
   "metadata": {},
   "outputs": [],
   "source": [
    "df.to_csv('Nord Data.csv')"
   ]
  },
  {
   "cell_type": "code",
   "execution_count": null,
   "id": "123784ba",
   "metadata": {},
   "outputs": [],
   "source": []
  },
  {
   "cell_type": "code",
   "execution_count": null,
   "id": "5a9633b6",
   "metadata": {},
   "outputs": [],
   "source": []
  },
  {
   "cell_type": "code",
   "execution_count": null,
   "id": "b119fa08",
   "metadata": {},
   "outputs": [],
   "source": []
  },
  {
   "cell_type": "code",
   "execution_count": null,
   "id": "08d6dc54",
   "metadata": {},
   "outputs": [],
   "source": [
    "# Q no -- 8"
   ]
  },
  {
   "cell_type": "code",
   "execution_count": 2,
   "id": "f037c451",
   "metadata": {},
   "outputs": [
    {
     "data": {
      "text/plain": [
       "<selenium.webdriver.chrome.webdriver.WebDriver (session=\"801371cf343a630fe69903ca1decb636\")>"
      ]
     },
     "execution_count": 2,
     "metadata": {},
     "output_type": "execute_result"
    }
   ],
   "source": [
    "driver = webdriver.Chrome(r'C:\\Users\\user\\chromedriver.exe')\n",
    "\n",
    "driver"
   ]
  },
  {
   "cell_type": "code",
   "execution_count": 3,
   "id": "028643c4",
   "metadata": {},
   "outputs": [],
   "source": [
    "url = 'https://www.forbes.com/'\n",
    "\n",
    "driver.get(url)"
   ]
  },
  {
   "cell_type": "code",
   "execution_count": 12,
   "id": "cbd7a286",
   "metadata": {},
   "outputs": [
    {
     "ename": "ElementClickInterceptedException",
     "evalue": "Message: element click intercepted: Element <div class=\"next-page\">...</div> is not clickable at point (932, 23). Other element would receive the click: <nav class=\"vDhoPLgx\">...</nav>\n  (Session info: chrome=107.0.5304.107)\nStacktrace:\nBacktrace:\n\tOrdinal0 [0x005CACD3+2075859]\n\tOrdinal0 [0x0055EE61+1633889]\n\tOrdinal0 [0x0045B7BD+571325]\n\tOrdinal0 [0x00491499+791705]\n\tOrdinal0 [0x0048F4AC+783532]\n\tOrdinal0 [0x0048D0AB+774315]\n\tOrdinal0 [0x0048BD37+769335]\n\tOrdinal0 [0x00481C76+728182]\n\tOrdinal0 [0x004A731C+881436]\n\tOrdinal0 [0x004815BF+726463]\n\tOrdinal0 [0x004A7534+881972]\n\tOrdinal0 [0x004BB56A+963946]\n\tOrdinal0 [0x004A7136+880950]\n\tOrdinal0 [0x0047FEFD+720637]\n\tOrdinal0 [0x00480F3F+724799]\n\tGetHandleVerifier [0x0087EED2+2769538]\n\tGetHandleVerifier [0x00870D95+2711877]\n\tGetHandleVerifier [0x0065A03A+521194]\n\tGetHandleVerifier [0x00658DA0+516432]\n\tOrdinal0 [0x0056682C+1665068]\n\tOrdinal0 [0x0056B128+1683752]\n\tOrdinal0 [0x0056B215+1683989]\n\tOrdinal0 [0x00576484+1729668]\n\tBaseThreadInitThunk [0x772D7BA9+25]\n\tRtlInitializeExceptionChain [0x77EBBB9B+107]\n\tRtlClearBits [0x77EBBB1F+191]\n",
     "output_type": "error",
     "traceback": [
      "\u001b[1;31m---------------------------------------------------------------------------\u001b[0m",
      "\u001b[1;31mElementClickInterceptedException\u001b[0m          Traceback (most recent call last)",
      "Input \u001b[1;32mIn [12]\u001b[0m, in \u001b[0;36m<cell line: 6>\u001b[1;34m()\u001b[0m\n\u001b[0;32m      9\u001b[0m     names\u001b[38;5;241m.\u001b[39mappend(i\u001b[38;5;241m.\u001b[39mtext)\n\u001b[0;32m     12\u001b[0m next_button \u001b[38;5;241m=\u001b[39m driver\u001b[38;5;241m.\u001b[39mfind_element(By\u001b[38;5;241m.\u001b[39mXPATH,\u001b[38;5;124m'\u001b[39m\u001b[38;5;124m//div[@class=\u001b[39m\u001b[38;5;124m\"\u001b[39m\u001b[38;5;124mnext-page\u001b[39m\u001b[38;5;124m\"\u001b[39m\u001b[38;5;124m]\u001b[39m\u001b[38;5;124m'\u001b[39m)\n\u001b[1;32m---> 13\u001b[0m \u001b[43mnext_button\u001b[49m\u001b[38;5;241;43m.\u001b[39;49m\u001b[43mclick\u001b[49m\u001b[43m(\u001b[49m\u001b[43m)\u001b[49m\n\u001b[0;32m     14\u001b[0m time\u001b[38;5;241m.\u001b[39msleep(\u001b[38;5;241m3\u001b[39m)\n",
      "File \u001b[1;32m~\\anaconda3\\lib\\site-packages\\selenium\\webdriver\\remote\\webelement.py:88\u001b[0m, in \u001b[0;36mWebElement.click\u001b[1;34m(self)\u001b[0m\n\u001b[0;32m     86\u001b[0m \u001b[38;5;28;01mdef\u001b[39;00m \u001b[38;5;21mclick\u001b[39m(\u001b[38;5;28mself\u001b[39m) \u001b[38;5;241m-\u001b[39m\u001b[38;5;241m>\u001b[39m \u001b[38;5;28;01mNone\u001b[39;00m:\n\u001b[0;32m     87\u001b[0m     \u001b[38;5;124;03m\"\"\"Clicks the element.\"\"\"\u001b[39;00m\n\u001b[1;32m---> 88\u001b[0m     \u001b[38;5;28;43mself\u001b[39;49m\u001b[38;5;241;43m.\u001b[39;49m\u001b[43m_execute\u001b[49m\u001b[43m(\u001b[49m\u001b[43mCommand\u001b[49m\u001b[38;5;241;43m.\u001b[39;49m\u001b[43mCLICK_ELEMENT\u001b[49m\u001b[43m)\u001b[49m\n",
      "File \u001b[1;32m~\\anaconda3\\lib\\site-packages\\selenium\\webdriver\\remote\\webelement.py:396\u001b[0m, in \u001b[0;36mWebElement._execute\u001b[1;34m(self, command, params)\u001b[0m\n\u001b[0;32m    394\u001b[0m     params \u001b[38;5;241m=\u001b[39m {}\n\u001b[0;32m    395\u001b[0m params[\u001b[38;5;124m'\u001b[39m\u001b[38;5;124mid\u001b[39m\u001b[38;5;124m'\u001b[39m] \u001b[38;5;241m=\u001b[39m \u001b[38;5;28mself\u001b[39m\u001b[38;5;241m.\u001b[39m_id\n\u001b[1;32m--> 396\u001b[0m \u001b[38;5;28;01mreturn\u001b[39;00m \u001b[38;5;28;43mself\u001b[39;49m\u001b[38;5;241;43m.\u001b[39;49m\u001b[43m_parent\u001b[49m\u001b[38;5;241;43m.\u001b[39;49m\u001b[43mexecute\u001b[49m\u001b[43m(\u001b[49m\u001b[43mcommand\u001b[49m\u001b[43m,\u001b[49m\u001b[43m \u001b[49m\u001b[43mparams\u001b[49m\u001b[43m)\u001b[49m\n",
      "File \u001b[1;32m~\\anaconda3\\lib\\site-packages\\selenium\\webdriver\\remote\\webdriver.py:429\u001b[0m, in \u001b[0;36mWebDriver.execute\u001b[1;34m(self, driver_command, params)\u001b[0m\n\u001b[0;32m    427\u001b[0m response \u001b[38;5;241m=\u001b[39m \u001b[38;5;28mself\u001b[39m\u001b[38;5;241m.\u001b[39mcommand_executor\u001b[38;5;241m.\u001b[39mexecute(driver_command, params)\n\u001b[0;32m    428\u001b[0m \u001b[38;5;28;01mif\u001b[39;00m response:\n\u001b[1;32m--> 429\u001b[0m     \u001b[38;5;28;43mself\u001b[39;49m\u001b[38;5;241;43m.\u001b[39;49m\u001b[43merror_handler\u001b[49m\u001b[38;5;241;43m.\u001b[39;49m\u001b[43mcheck_response\u001b[49m\u001b[43m(\u001b[49m\u001b[43mresponse\u001b[49m\u001b[43m)\u001b[49m\n\u001b[0;32m    430\u001b[0m     response[\u001b[38;5;124m'\u001b[39m\u001b[38;5;124mvalue\u001b[39m\u001b[38;5;124m'\u001b[39m] \u001b[38;5;241m=\u001b[39m \u001b[38;5;28mself\u001b[39m\u001b[38;5;241m.\u001b[39m_unwrap_value(\n\u001b[0;32m    431\u001b[0m         response\u001b[38;5;241m.\u001b[39mget(\u001b[38;5;124m'\u001b[39m\u001b[38;5;124mvalue\u001b[39m\u001b[38;5;124m'\u001b[39m, \u001b[38;5;28;01mNone\u001b[39;00m))\n\u001b[0;32m    432\u001b[0m     \u001b[38;5;28;01mreturn\u001b[39;00m response\n",
      "File \u001b[1;32m~\\anaconda3\\lib\\site-packages\\selenium\\webdriver\\remote\\errorhandler.py:243\u001b[0m, in \u001b[0;36mErrorHandler.check_response\u001b[1;34m(self, response)\u001b[0m\n\u001b[0;32m    241\u001b[0m         alert_text \u001b[38;5;241m=\u001b[39m value[\u001b[38;5;124m'\u001b[39m\u001b[38;5;124malert\u001b[39m\u001b[38;5;124m'\u001b[39m]\u001b[38;5;241m.\u001b[39mget(\u001b[38;5;124m'\u001b[39m\u001b[38;5;124mtext\u001b[39m\u001b[38;5;124m'\u001b[39m)\n\u001b[0;32m    242\u001b[0m     \u001b[38;5;28;01mraise\u001b[39;00m exception_class(message, screen, stacktrace, alert_text)  \u001b[38;5;66;03m# type: ignore[call-arg]  # mypy is not smart enough here\u001b[39;00m\n\u001b[1;32m--> 243\u001b[0m \u001b[38;5;28;01mraise\u001b[39;00m exception_class(message, screen, stacktrace)\n",
      "\u001b[1;31mElementClickInterceptedException\u001b[0m: Message: element click intercepted: Element <div class=\"next-page\">...</div> is not clickable at point (932, 23). Other element would receive the click: <nav class=\"vDhoPLgx\">...</nav>\n  (Session info: chrome=107.0.5304.107)\nStacktrace:\nBacktrace:\n\tOrdinal0 [0x005CACD3+2075859]\n\tOrdinal0 [0x0055EE61+1633889]\n\tOrdinal0 [0x0045B7BD+571325]\n\tOrdinal0 [0x00491499+791705]\n\tOrdinal0 [0x0048F4AC+783532]\n\tOrdinal0 [0x0048D0AB+774315]\n\tOrdinal0 [0x0048BD37+769335]\n\tOrdinal0 [0x00481C76+728182]\n\tOrdinal0 [0x004A731C+881436]\n\tOrdinal0 [0x004815BF+726463]\n\tOrdinal0 [0x004A7534+881972]\n\tOrdinal0 [0x004BB56A+963946]\n\tOrdinal0 [0x004A7136+880950]\n\tOrdinal0 [0x0047FEFD+720637]\n\tOrdinal0 [0x00480F3F+724799]\n\tGetHandleVerifier [0x0087EED2+2769538]\n\tGetHandleVerifier [0x00870D95+2711877]\n\tGetHandleVerifier [0x0065A03A+521194]\n\tGetHandleVerifier [0x00658DA0+516432]\n\tOrdinal0 [0x0056682C+1665068]\n\tOrdinal0 [0x0056B128+1683752]\n\tOrdinal0 [0x0056B215+1683989]\n\tOrdinal0 [0x00576484+1729668]\n\tBaseThreadInitThunk [0x772D7BA9+25]\n\tRtlInitializeExceptionChain [0x77EBBB9B+107]\n\tRtlClearBits [0x77EBBB1F+191]\n"
     ]
    }
   ],
   "source": [
    "names = []\n",
    "\n",
    "start = 0\n",
    "end = 15\n",
    "\n",
    "for page in range(start,end):\n",
    "    name = driver.find_elements(By.XPATH,'//div[@class=\"personName\"]')\n",
    "    for i in name:\n",
    "        names.append(i.text)\n",
    "        \n",
    "        \n",
    "    next_button = driver.find_element(By.XPATH,'//div[@class=\"next-page\"]')\n",
    "    next_button.click()\n",
    "    time.sleep(3)"
   ]
  },
  {
   "cell_type": "code",
   "execution_count": 13,
   "id": "00123d90",
   "metadata": {},
   "outputs": [
    {
     "data": {
      "text/plain": [
       "2668"
      ]
     },
     "execution_count": 13,
     "metadata": {},
     "output_type": "execute_result"
    }
   ],
   "source": [
    "len(names)"
   ]
  },
  {
   "cell_type": "code",
   "execution_count": 17,
   "id": "cbde5c11",
   "metadata": {},
   "outputs": [
    {
     "ename": "ElementClickInterceptedException",
     "evalue": "Message: element click intercepted: Element <div class=\"next-page\">...</div> is not clickable at point (932, 677). Other element would receive the click: <div class=\"pagination\">...</div>\n  (Session info: chrome=107.0.5304.107)\nStacktrace:\nBacktrace:\n\tOrdinal0 [0x005CACD3+2075859]\n\tOrdinal0 [0x0055EE61+1633889]\n\tOrdinal0 [0x0045B7BD+571325]\n\tOrdinal0 [0x00491499+791705]\n\tOrdinal0 [0x0048F4AC+783532]\n\tOrdinal0 [0x0048D0AB+774315]\n\tOrdinal0 [0x0048BD37+769335]\n\tOrdinal0 [0x00481C76+728182]\n\tOrdinal0 [0x004A731C+881436]\n\tOrdinal0 [0x004815BF+726463]\n\tOrdinal0 [0x004A7534+881972]\n\tOrdinal0 [0x004BB56A+963946]\n\tOrdinal0 [0x004A7136+880950]\n\tOrdinal0 [0x0047FEFD+720637]\n\tOrdinal0 [0x00480F3F+724799]\n\tGetHandleVerifier [0x0087EED2+2769538]\n\tGetHandleVerifier [0x00870D95+2711877]\n\tGetHandleVerifier [0x0065A03A+521194]\n\tGetHandleVerifier [0x00658DA0+516432]\n\tOrdinal0 [0x0056682C+1665068]\n\tOrdinal0 [0x0056B128+1683752]\n\tOrdinal0 [0x0056B215+1683989]\n\tOrdinal0 [0x00576484+1729668]\n\tBaseThreadInitThunk [0x772D7BA9+25]\n\tRtlInitializeExceptionChain [0x77EBBB9B+107]\n\tRtlClearBits [0x77EBBB1F+191]\n",
     "output_type": "error",
     "traceback": [
      "\u001b[1;31m---------------------------------------------------------------------------\u001b[0m",
      "\u001b[1;31mElementClickInterceptedException\u001b[0m          Traceback (most recent call last)",
      "Input \u001b[1;32mIn [17]\u001b[0m, in \u001b[0;36m<cell line: 6>\u001b[1;34m()\u001b[0m\n\u001b[0;32m      9\u001b[0m     ranks\u001b[38;5;241m.\u001b[39mappend(i\u001b[38;5;241m.\u001b[39mtext)\n\u001b[0;32m     12\u001b[0m next_button \u001b[38;5;241m=\u001b[39m driver\u001b[38;5;241m.\u001b[39mfind_element(By\u001b[38;5;241m.\u001b[39mXPATH,\u001b[38;5;124m'\u001b[39m\u001b[38;5;124m//div[@class=\u001b[39m\u001b[38;5;124m\"\u001b[39m\u001b[38;5;124mnext-page\u001b[39m\u001b[38;5;124m\"\u001b[39m\u001b[38;5;124m]\u001b[39m\u001b[38;5;124m'\u001b[39m)\n\u001b[1;32m---> 13\u001b[0m \u001b[43mnext_button\u001b[49m\u001b[38;5;241;43m.\u001b[39;49m\u001b[43mclick\u001b[49m\u001b[43m(\u001b[49m\u001b[43m)\u001b[49m\n\u001b[0;32m     14\u001b[0m time\u001b[38;5;241m.\u001b[39msleep(\u001b[38;5;241m3\u001b[39m)\n",
      "File \u001b[1;32m~\\anaconda3\\lib\\site-packages\\selenium\\webdriver\\remote\\webelement.py:88\u001b[0m, in \u001b[0;36mWebElement.click\u001b[1;34m(self)\u001b[0m\n\u001b[0;32m     86\u001b[0m \u001b[38;5;28;01mdef\u001b[39;00m \u001b[38;5;21mclick\u001b[39m(\u001b[38;5;28mself\u001b[39m) \u001b[38;5;241m-\u001b[39m\u001b[38;5;241m>\u001b[39m \u001b[38;5;28;01mNone\u001b[39;00m:\n\u001b[0;32m     87\u001b[0m     \u001b[38;5;124;03m\"\"\"Clicks the element.\"\"\"\u001b[39;00m\n\u001b[1;32m---> 88\u001b[0m     \u001b[38;5;28;43mself\u001b[39;49m\u001b[38;5;241;43m.\u001b[39;49m\u001b[43m_execute\u001b[49m\u001b[43m(\u001b[49m\u001b[43mCommand\u001b[49m\u001b[38;5;241;43m.\u001b[39;49m\u001b[43mCLICK_ELEMENT\u001b[49m\u001b[43m)\u001b[49m\n",
      "File \u001b[1;32m~\\anaconda3\\lib\\site-packages\\selenium\\webdriver\\remote\\webelement.py:396\u001b[0m, in \u001b[0;36mWebElement._execute\u001b[1;34m(self, command, params)\u001b[0m\n\u001b[0;32m    394\u001b[0m     params \u001b[38;5;241m=\u001b[39m {}\n\u001b[0;32m    395\u001b[0m params[\u001b[38;5;124m'\u001b[39m\u001b[38;5;124mid\u001b[39m\u001b[38;5;124m'\u001b[39m] \u001b[38;5;241m=\u001b[39m \u001b[38;5;28mself\u001b[39m\u001b[38;5;241m.\u001b[39m_id\n\u001b[1;32m--> 396\u001b[0m \u001b[38;5;28;01mreturn\u001b[39;00m \u001b[38;5;28;43mself\u001b[39;49m\u001b[38;5;241;43m.\u001b[39;49m\u001b[43m_parent\u001b[49m\u001b[38;5;241;43m.\u001b[39;49m\u001b[43mexecute\u001b[49m\u001b[43m(\u001b[49m\u001b[43mcommand\u001b[49m\u001b[43m,\u001b[49m\u001b[43m \u001b[49m\u001b[43mparams\u001b[49m\u001b[43m)\u001b[49m\n",
      "File \u001b[1;32m~\\anaconda3\\lib\\site-packages\\selenium\\webdriver\\remote\\webdriver.py:429\u001b[0m, in \u001b[0;36mWebDriver.execute\u001b[1;34m(self, driver_command, params)\u001b[0m\n\u001b[0;32m    427\u001b[0m response \u001b[38;5;241m=\u001b[39m \u001b[38;5;28mself\u001b[39m\u001b[38;5;241m.\u001b[39mcommand_executor\u001b[38;5;241m.\u001b[39mexecute(driver_command, params)\n\u001b[0;32m    428\u001b[0m \u001b[38;5;28;01mif\u001b[39;00m response:\n\u001b[1;32m--> 429\u001b[0m     \u001b[38;5;28;43mself\u001b[39;49m\u001b[38;5;241;43m.\u001b[39;49m\u001b[43merror_handler\u001b[49m\u001b[38;5;241;43m.\u001b[39;49m\u001b[43mcheck_response\u001b[49m\u001b[43m(\u001b[49m\u001b[43mresponse\u001b[49m\u001b[43m)\u001b[49m\n\u001b[0;32m    430\u001b[0m     response[\u001b[38;5;124m'\u001b[39m\u001b[38;5;124mvalue\u001b[39m\u001b[38;5;124m'\u001b[39m] \u001b[38;5;241m=\u001b[39m \u001b[38;5;28mself\u001b[39m\u001b[38;5;241m.\u001b[39m_unwrap_value(\n\u001b[0;32m    431\u001b[0m         response\u001b[38;5;241m.\u001b[39mget(\u001b[38;5;124m'\u001b[39m\u001b[38;5;124mvalue\u001b[39m\u001b[38;5;124m'\u001b[39m, \u001b[38;5;28;01mNone\u001b[39;00m))\n\u001b[0;32m    432\u001b[0m     \u001b[38;5;28;01mreturn\u001b[39;00m response\n",
      "File \u001b[1;32m~\\anaconda3\\lib\\site-packages\\selenium\\webdriver\\remote\\errorhandler.py:243\u001b[0m, in \u001b[0;36mErrorHandler.check_response\u001b[1;34m(self, response)\u001b[0m\n\u001b[0;32m    241\u001b[0m         alert_text \u001b[38;5;241m=\u001b[39m value[\u001b[38;5;124m'\u001b[39m\u001b[38;5;124malert\u001b[39m\u001b[38;5;124m'\u001b[39m]\u001b[38;5;241m.\u001b[39mget(\u001b[38;5;124m'\u001b[39m\u001b[38;5;124mtext\u001b[39m\u001b[38;5;124m'\u001b[39m)\n\u001b[0;32m    242\u001b[0m     \u001b[38;5;28;01mraise\u001b[39;00m exception_class(message, screen, stacktrace, alert_text)  \u001b[38;5;66;03m# type: ignore[call-arg]  # mypy is not smart enough here\u001b[39;00m\n\u001b[1;32m--> 243\u001b[0m \u001b[38;5;28;01mraise\u001b[39;00m exception_class(message, screen, stacktrace)\n",
      "\u001b[1;31mElementClickInterceptedException\u001b[0m: Message: element click intercepted: Element <div class=\"next-page\">...</div> is not clickable at point (932, 677). Other element would receive the click: <div class=\"pagination\">...</div>\n  (Session info: chrome=107.0.5304.107)\nStacktrace:\nBacktrace:\n\tOrdinal0 [0x005CACD3+2075859]\n\tOrdinal0 [0x0055EE61+1633889]\n\tOrdinal0 [0x0045B7BD+571325]\n\tOrdinal0 [0x00491499+791705]\n\tOrdinal0 [0x0048F4AC+783532]\n\tOrdinal0 [0x0048D0AB+774315]\n\tOrdinal0 [0x0048BD37+769335]\n\tOrdinal0 [0x00481C76+728182]\n\tOrdinal0 [0x004A731C+881436]\n\tOrdinal0 [0x004815BF+726463]\n\tOrdinal0 [0x004A7534+881972]\n\tOrdinal0 [0x004BB56A+963946]\n\tOrdinal0 [0x004A7136+880950]\n\tOrdinal0 [0x0047FEFD+720637]\n\tOrdinal0 [0x00480F3F+724799]\n\tGetHandleVerifier [0x0087EED2+2769538]\n\tGetHandleVerifier [0x00870D95+2711877]\n\tGetHandleVerifier [0x0065A03A+521194]\n\tGetHandleVerifier [0x00658DA0+516432]\n\tOrdinal0 [0x0056682C+1665068]\n\tOrdinal0 [0x0056B128+1683752]\n\tOrdinal0 [0x0056B215+1683989]\n\tOrdinal0 [0x00576484+1729668]\n\tBaseThreadInitThunk [0x772D7BA9+25]\n\tRtlInitializeExceptionChain [0x77EBBB9B+107]\n\tRtlClearBits [0x77EBBB1F+191]\n"
     ]
    }
   ],
   "source": [
    "ranks = []\n",
    "\n",
    "start = 0\n",
    "end = 15\n",
    "\n",
    "for page in range(start,end):\n",
    "    rank = driver.find_elements(By.XPATH,'//div[@class=\"rank\"]')\n",
    "    for i in rank:\n",
    "        ranks.append(i.text)\n",
    "        \n",
    "        \n",
    "    next_button = driver.find_element(By.XPATH,'//div[@class=\"next-page\"]')\n",
    "    next_button.click()\n",
    "    time.sleep(3)"
   ]
  },
  {
   "cell_type": "code",
   "execution_count": 18,
   "id": "7c29f40a",
   "metadata": {},
   "outputs": [
    {
     "data": {
      "text/plain": [
       "2668"
      ]
     },
     "execution_count": 18,
     "metadata": {},
     "output_type": "execute_result"
    }
   ],
   "source": [
    "len(ranks)"
   ]
  },
  {
   "cell_type": "code",
   "execution_count": 19,
   "id": "709fd42a",
   "metadata": {},
   "outputs": [
    {
     "ename": "ElementClickInterceptedException",
     "evalue": "Message: element click intercepted: Element <div class=\"next-page\">...</div> is not clickable at point (932, 677). Other element would receive the click: <div class=\"pagination\">...</div>\n  (Session info: chrome=107.0.5304.107)\nStacktrace:\nBacktrace:\n\tOrdinal0 [0x005CACD3+2075859]\n\tOrdinal0 [0x0055EE61+1633889]\n\tOrdinal0 [0x0045B7BD+571325]\n\tOrdinal0 [0x00491499+791705]\n\tOrdinal0 [0x0048F4AC+783532]\n\tOrdinal0 [0x0048D0AB+774315]\n\tOrdinal0 [0x0048BD37+769335]\n\tOrdinal0 [0x00481C76+728182]\n\tOrdinal0 [0x004A731C+881436]\n\tOrdinal0 [0x004815BF+726463]\n\tOrdinal0 [0x004A7534+881972]\n\tOrdinal0 [0x004BB56A+963946]\n\tOrdinal0 [0x004A7136+880950]\n\tOrdinal0 [0x0047FEFD+720637]\n\tOrdinal0 [0x00480F3F+724799]\n\tGetHandleVerifier [0x0087EED2+2769538]\n\tGetHandleVerifier [0x00870D95+2711877]\n\tGetHandleVerifier [0x0065A03A+521194]\n\tGetHandleVerifier [0x00658DA0+516432]\n\tOrdinal0 [0x0056682C+1665068]\n\tOrdinal0 [0x0056B128+1683752]\n\tOrdinal0 [0x0056B215+1683989]\n\tOrdinal0 [0x00576484+1729668]\n\tBaseThreadInitThunk [0x772D7BA9+25]\n\tRtlInitializeExceptionChain [0x77EBBB9B+107]\n\tRtlClearBits [0x77EBBB1F+191]\n",
     "output_type": "error",
     "traceback": [
      "\u001b[1;31m---------------------------------------------------------------------------\u001b[0m",
      "\u001b[1;31mElementClickInterceptedException\u001b[0m          Traceback (most recent call last)",
      "Input \u001b[1;32mIn [19]\u001b[0m, in \u001b[0;36m<cell line: 6>\u001b[1;34m()\u001b[0m\n\u001b[0;32m      9\u001b[0m     net_worth\u001b[38;5;241m.\u001b[39mappend(i\u001b[38;5;241m.\u001b[39mtext)\n\u001b[0;32m     12\u001b[0m next_button \u001b[38;5;241m=\u001b[39m driver\u001b[38;5;241m.\u001b[39mfind_element(By\u001b[38;5;241m.\u001b[39mXPATH,\u001b[38;5;124m'\u001b[39m\u001b[38;5;124m//div[@class=\u001b[39m\u001b[38;5;124m\"\u001b[39m\u001b[38;5;124mnext-page\u001b[39m\u001b[38;5;124m\"\u001b[39m\u001b[38;5;124m]\u001b[39m\u001b[38;5;124m'\u001b[39m)\n\u001b[1;32m---> 13\u001b[0m \u001b[43mnext_button\u001b[49m\u001b[38;5;241;43m.\u001b[39;49m\u001b[43mclick\u001b[49m\u001b[43m(\u001b[49m\u001b[43m)\u001b[49m\n\u001b[0;32m     14\u001b[0m time\u001b[38;5;241m.\u001b[39msleep(\u001b[38;5;241m3\u001b[39m)\n",
      "File \u001b[1;32m~\\anaconda3\\lib\\site-packages\\selenium\\webdriver\\remote\\webelement.py:88\u001b[0m, in \u001b[0;36mWebElement.click\u001b[1;34m(self)\u001b[0m\n\u001b[0;32m     86\u001b[0m \u001b[38;5;28;01mdef\u001b[39;00m \u001b[38;5;21mclick\u001b[39m(\u001b[38;5;28mself\u001b[39m) \u001b[38;5;241m-\u001b[39m\u001b[38;5;241m>\u001b[39m \u001b[38;5;28;01mNone\u001b[39;00m:\n\u001b[0;32m     87\u001b[0m     \u001b[38;5;124;03m\"\"\"Clicks the element.\"\"\"\u001b[39;00m\n\u001b[1;32m---> 88\u001b[0m     \u001b[38;5;28;43mself\u001b[39;49m\u001b[38;5;241;43m.\u001b[39;49m\u001b[43m_execute\u001b[49m\u001b[43m(\u001b[49m\u001b[43mCommand\u001b[49m\u001b[38;5;241;43m.\u001b[39;49m\u001b[43mCLICK_ELEMENT\u001b[49m\u001b[43m)\u001b[49m\n",
      "File \u001b[1;32m~\\anaconda3\\lib\\site-packages\\selenium\\webdriver\\remote\\webelement.py:396\u001b[0m, in \u001b[0;36mWebElement._execute\u001b[1;34m(self, command, params)\u001b[0m\n\u001b[0;32m    394\u001b[0m     params \u001b[38;5;241m=\u001b[39m {}\n\u001b[0;32m    395\u001b[0m params[\u001b[38;5;124m'\u001b[39m\u001b[38;5;124mid\u001b[39m\u001b[38;5;124m'\u001b[39m] \u001b[38;5;241m=\u001b[39m \u001b[38;5;28mself\u001b[39m\u001b[38;5;241m.\u001b[39m_id\n\u001b[1;32m--> 396\u001b[0m \u001b[38;5;28;01mreturn\u001b[39;00m \u001b[38;5;28;43mself\u001b[39;49m\u001b[38;5;241;43m.\u001b[39;49m\u001b[43m_parent\u001b[49m\u001b[38;5;241;43m.\u001b[39;49m\u001b[43mexecute\u001b[49m\u001b[43m(\u001b[49m\u001b[43mcommand\u001b[49m\u001b[43m,\u001b[49m\u001b[43m \u001b[49m\u001b[43mparams\u001b[49m\u001b[43m)\u001b[49m\n",
      "File \u001b[1;32m~\\anaconda3\\lib\\site-packages\\selenium\\webdriver\\remote\\webdriver.py:429\u001b[0m, in \u001b[0;36mWebDriver.execute\u001b[1;34m(self, driver_command, params)\u001b[0m\n\u001b[0;32m    427\u001b[0m response \u001b[38;5;241m=\u001b[39m \u001b[38;5;28mself\u001b[39m\u001b[38;5;241m.\u001b[39mcommand_executor\u001b[38;5;241m.\u001b[39mexecute(driver_command, params)\n\u001b[0;32m    428\u001b[0m \u001b[38;5;28;01mif\u001b[39;00m response:\n\u001b[1;32m--> 429\u001b[0m     \u001b[38;5;28;43mself\u001b[39;49m\u001b[38;5;241;43m.\u001b[39;49m\u001b[43merror_handler\u001b[49m\u001b[38;5;241;43m.\u001b[39;49m\u001b[43mcheck_response\u001b[49m\u001b[43m(\u001b[49m\u001b[43mresponse\u001b[49m\u001b[43m)\u001b[49m\n\u001b[0;32m    430\u001b[0m     response[\u001b[38;5;124m'\u001b[39m\u001b[38;5;124mvalue\u001b[39m\u001b[38;5;124m'\u001b[39m] \u001b[38;5;241m=\u001b[39m \u001b[38;5;28mself\u001b[39m\u001b[38;5;241m.\u001b[39m_unwrap_value(\n\u001b[0;32m    431\u001b[0m         response\u001b[38;5;241m.\u001b[39mget(\u001b[38;5;124m'\u001b[39m\u001b[38;5;124mvalue\u001b[39m\u001b[38;5;124m'\u001b[39m, \u001b[38;5;28;01mNone\u001b[39;00m))\n\u001b[0;32m    432\u001b[0m     \u001b[38;5;28;01mreturn\u001b[39;00m response\n",
      "File \u001b[1;32m~\\anaconda3\\lib\\site-packages\\selenium\\webdriver\\remote\\errorhandler.py:243\u001b[0m, in \u001b[0;36mErrorHandler.check_response\u001b[1;34m(self, response)\u001b[0m\n\u001b[0;32m    241\u001b[0m         alert_text \u001b[38;5;241m=\u001b[39m value[\u001b[38;5;124m'\u001b[39m\u001b[38;5;124malert\u001b[39m\u001b[38;5;124m'\u001b[39m]\u001b[38;5;241m.\u001b[39mget(\u001b[38;5;124m'\u001b[39m\u001b[38;5;124mtext\u001b[39m\u001b[38;5;124m'\u001b[39m)\n\u001b[0;32m    242\u001b[0m     \u001b[38;5;28;01mraise\u001b[39;00m exception_class(message, screen, stacktrace, alert_text)  \u001b[38;5;66;03m# type: ignore[call-arg]  # mypy is not smart enough here\u001b[39;00m\n\u001b[1;32m--> 243\u001b[0m \u001b[38;5;28;01mraise\u001b[39;00m exception_class(message, screen, stacktrace)\n",
      "\u001b[1;31mElementClickInterceptedException\u001b[0m: Message: element click intercepted: Element <div class=\"next-page\">...</div> is not clickable at point (932, 677). Other element would receive the click: <div class=\"pagination\">...</div>\n  (Session info: chrome=107.0.5304.107)\nStacktrace:\nBacktrace:\n\tOrdinal0 [0x005CACD3+2075859]\n\tOrdinal0 [0x0055EE61+1633889]\n\tOrdinal0 [0x0045B7BD+571325]\n\tOrdinal0 [0x00491499+791705]\n\tOrdinal0 [0x0048F4AC+783532]\n\tOrdinal0 [0x0048D0AB+774315]\n\tOrdinal0 [0x0048BD37+769335]\n\tOrdinal0 [0x00481C76+728182]\n\tOrdinal0 [0x004A731C+881436]\n\tOrdinal0 [0x004815BF+726463]\n\tOrdinal0 [0x004A7534+881972]\n\tOrdinal0 [0x004BB56A+963946]\n\tOrdinal0 [0x004A7136+880950]\n\tOrdinal0 [0x0047FEFD+720637]\n\tOrdinal0 [0x00480F3F+724799]\n\tGetHandleVerifier [0x0087EED2+2769538]\n\tGetHandleVerifier [0x00870D95+2711877]\n\tGetHandleVerifier [0x0065A03A+521194]\n\tGetHandleVerifier [0x00658DA0+516432]\n\tOrdinal0 [0x0056682C+1665068]\n\tOrdinal0 [0x0056B128+1683752]\n\tOrdinal0 [0x0056B215+1683989]\n\tOrdinal0 [0x00576484+1729668]\n\tBaseThreadInitThunk [0x772D7BA9+25]\n\tRtlInitializeExceptionChain [0x77EBBB9B+107]\n\tRtlClearBits [0x77EBBB1F+191]\n"
     ]
    }
   ],
   "source": [
    "net_worth = []\n",
    "\n",
    "start = 0\n",
    "end = 15\n",
    "\n",
    "for page in range(start,end):\n",
    "    net = driver.find_elements(By.XPATH,'//div[@class=\"netWorth\"]')\n",
    "    for i in net:\n",
    "        net_worth.append(i.text)\n",
    "        \n",
    "        \n",
    "    next_button = driver.find_element(By.XPATH,'//div[@class=\"next-page\"]')\n",
    "    next_button.click()\n",
    "    time.sleep(3)"
   ]
  },
  {
   "cell_type": "code",
   "execution_count": 20,
   "id": "9ced1080",
   "metadata": {},
   "outputs": [
    {
     "data": {
      "text/plain": [
       "2668"
      ]
     },
     "execution_count": 20,
     "metadata": {},
     "output_type": "execute_result"
    }
   ],
   "source": [
    "len(net_worth)"
   ]
  },
  {
   "cell_type": "code",
   "execution_count": 21,
   "id": "c44bbbcf",
   "metadata": {},
   "outputs": [
    {
     "ename": "ElementClickInterceptedException",
     "evalue": "Message: element click intercepted: Element <div class=\"next-page\">...</div> is not clickable at point (1421, 677). Other element would receive the click: <div class=\"pagination\">...</div>\n  (Session info: chrome=107.0.5304.107)\nStacktrace:\nBacktrace:\n\tOrdinal0 [0x005CACD3+2075859]\n\tOrdinal0 [0x0055EE61+1633889]\n\tOrdinal0 [0x0045B7BD+571325]\n\tOrdinal0 [0x00491499+791705]\n\tOrdinal0 [0x0048F4AC+783532]\n\tOrdinal0 [0x0048D0AB+774315]\n\tOrdinal0 [0x0048BD37+769335]\n\tOrdinal0 [0x00481C76+728182]\n\tOrdinal0 [0x004A731C+881436]\n\tOrdinal0 [0x004815BF+726463]\n\tOrdinal0 [0x004A7534+881972]\n\tOrdinal0 [0x004BB56A+963946]\n\tOrdinal0 [0x004A7136+880950]\n\tOrdinal0 [0x0047FEFD+720637]\n\tOrdinal0 [0x00480F3F+724799]\n\tGetHandleVerifier [0x0087EED2+2769538]\n\tGetHandleVerifier [0x00870D95+2711877]\n\tGetHandleVerifier [0x0065A03A+521194]\n\tGetHandleVerifier [0x00658DA0+516432]\n\tOrdinal0 [0x0056682C+1665068]\n\tOrdinal0 [0x0056B128+1683752]\n\tOrdinal0 [0x0056B215+1683989]\n\tOrdinal0 [0x00576484+1729668]\n\tBaseThreadInitThunk [0x772D7BA9+25]\n\tRtlInitializeExceptionChain [0x77EBBB9B+107]\n\tRtlClearBits [0x77EBBB1F+191]\n",
     "output_type": "error",
     "traceback": [
      "\u001b[1;31m---------------------------------------------------------------------------\u001b[0m",
      "\u001b[1;31mElementClickInterceptedException\u001b[0m          Traceback (most recent call last)",
      "Input \u001b[1;32mIn [21]\u001b[0m, in \u001b[0;36m<cell line: 6>\u001b[1;34m()\u001b[0m\n\u001b[0;32m      9\u001b[0m     age\u001b[38;5;241m.\u001b[39mappend(i\u001b[38;5;241m.\u001b[39mtext)\n\u001b[0;32m     12\u001b[0m next_button \u001b[38;5;241m=\u001b[39m driver\u001b[38;5;241m.\u001b[39mfind_element(By\u001b[38;5;241m.\u001b[39mXPATH,\u001b[38;5;124m'\u001b[39m\u001b[38;5;124m//div[@class=\u001b[39m\u001b[38;5;124m\"\u001b[39m\u001b[38;5;124mnext-page\u001b[39m\u001b[38;5;124m\"\u001b[39m\u001b[38;5;124m]\u001b[39m\u001b[38;5;124m'\u001b[39m)\n\u001b[1;32m---> 13\u001b[0m \u001b[43mnext_button\u001b[49m\u001b[38;5;241;43m.\u001b[39;49m\u001b[43mclick\u001b[49m\u001b[43m(\u001b[49m\u001b[43m)\u001b[49m\n\u001b[0;32m     14\u001b[0m time\u001b[38;5;241m.\u001b[39msleep(\u001b[38;5;241m3\u001b[39m)\n",
      "File \u001b[1;32m~\\anaconda3\\lib\\site-packages\\selenium\\webdriver\\remote\\webelement.py:88\u001b[0m, in \u001b[0;36mWebElement.click\u001b[1;34m(self)\u001b[0m\n\u001b[0;32m     86\u001b[0m \u001b[38;5;28;01mdef\u001b[39;00m \u001b[38;5;21mclick\u001b[39m(\u001b[38;5;28mself\u001b[39m) \u001b[38;5;241m-\u001b[39m\u001b[38;5;241m>\u001b[39m \u001b[38;5;28;01mNone\u001b[39;00m:\n\u001b[0;32m     87\u001b[0m     \u001b[38;5;124;03m\"\"\"Clicks the element.\"\"\"\u001b[39;00m\n\u001b[1;32m---> 88\u001b[0m     \u001b[38;5;28;43mself\u001b[39;49m\u001b[38;5;241;43m.\u001b[39;49m\u001b[43m_execute\u001b[49m\u001b[43m(\u001b[49m\u001b[43mCommand\u001b[49m\u001b[38;5;241;43m.\u001b[39;49m\u001b[43mCLICK_ELEMENT\u001b[49m\u001b[43m)\u001b[49m\n",
      "File \u001b[1;32m~\\anaconda3\\lib\\site-packages\\selenium\\webdriver\\remote\\webelement.py:396\u001b[0m, in \u001b[0;36mWebElement._execute\u001b[1;34m(self, command, params)\u001b[0m\n\u001b[0;32m    394\u001b[0m     params \u001b[38;5;241m=\u001b[39m {}\n\u001b[0;32m    395\u001b[0m params[\u001b[38;5;124m'\u001b[39m\u001b[38;5;124mid\u001b[39m\u001b[38;5;124m'\u001b[39m] \u001b[38;5;241m=\u001b[39m \u001b[38;5;28mself\u001b[39m\u001b[38;5;241m.\u001b[39m_id\n\u001b[1;32m--> 396\u001b[0m \u001b[38;5;28;01mreturn\u001b[39;00m \u001b[38;5;28;43mself\u001b[39;49m\u001b[38;5;241;43m.\u001b[39;49m\u001b[43m_parent\u001b[49m\u001b[38;5;241;43m.\u001b[39;49m\u001b[43mexecute\u001b[49m\u001b[43m(\u001b[49m\u001b[43mcommand\u001b[49m\u001b[43m,\u001b[49m\u001b[43m \u001b[49m\u001b[43mparams\u001b[49m\u001b[43m)\u001b[49m\n",
      "File \u001b[1;32m~\\anaconda3\\lib\\site-packages\\selenium\\webdriver\\remote\\webdriver.py:429\u001b[0m, in \u001b[0;36mWebDriver.execute\u001b[1;34m(self, driver_command, params)\u001b[0m\n\u001b[0;32m    427\u001b[0m response \u001b[38;5;241m=\u001b[39m \u001b[38;5;28mself\u001b[39m\u001b[38;5;241m.\u001b[39mcommand_executor\u001b[38;5;241m.\u001b[39mexecute(driver_command, params)\n\u001b[0;32m    428\u001b[0m \u001b[38;5;28;01mif\u001b[39;00m response:\n\u001b[1;32m--> 429\u001b[0m     \u001b[38;5;28;43mself\u001b[39;49m\u001b[38;5;241;43m.\u001b[39;49m\u001b[43merror_handler\u001b[49m\u001b[38;5;241;43m.\u001b[39;49m\u001b[43mcheck_response\u001b[49m\u001b[43m(\u001b[49m\u001b[43mresponse\u001b[49m\u001b[43m)\u001b[49m\n\u001b[0;32m    430\u001b[0m     response[\u001b[38;5;124m'\u001b[39m\u001b[38;5;124mvalue\u001b[39m\u001b[38;5;124m'\u001b[39m] \u001b[38;5;241m=\u001b[39m \u001b[38;5;28mself\u001b[39m\u001b[38;5;241m.\u001b[39m_unwrap_value(\n\u001b[0;32m    431\u001b[0m         response\u001b[38;5;241m.\u001b[39mget(\u001b[38;5;124m'\u001b[39m\u001b[38;5;124mvalue\u001b[39m\u001b[38;5;124m'\u001b[39m, \u001b[38;5;28;01mNone\u001b[39;00m))\n\u001b[0;32m    432\u001b[0m     \u001b[38;5;28;01mreturn\u001b[39;00m response\n",
      "File \u001b[1;32m~\\anaconda3\\lib\\site-packages\\selenium\\webdriver\\remote\\errorhandler.py:243\u001b[0m, in \u001b[0;36mErrorHandler.check_response\u001b[1;34m(self, response)\u001b[0m\n\u001b[0;32m    241\u001b[0m         alert_text \u001b[38;5;241m=\u001b[39m value[\u001b[38;5;124m'\u001b[39m\u001b[38;5;124malert\u001b[39m\u001b[38;5;124m'\u001b[39m]\u001b[38;5;241m.\u001b[39mget(\u001b[38;5;124m'\u001b[39m\u001b[38;5;124mtext\u001b[39m\u001b[38;5;124m'\u001b[39m)\n\u001b[0;32m    242\u001b[0m     \u001b[38;5;28;01mraise\u001b[39;00m exception_class(message, screen, stacktrace, alert_text)  \u001b[38;5;66;03m# type: ignore[call-arg]  # mypy is not smart enough here\u001b[39;00m\n\u001b[1;32m--> 243\u001b[0m \u001b[38;5;28;01mraise\u001b[39;00m exception_class(message, screen, stacktrace)\n",
      "\u001b[1;31mElementClickInterceptedException\u001b[0m: Message: element click intercepted: Element <div class=\"next-page\">...</div> is not clickable at point (1421, 677). Other element would receive the click: <div class=\"pagination\">...</div>\n  (Session info: chrome=107.0.5304.107)\nStacktrace:\nBacktrace:\n\tOrdinal0 [0x005CACD3+2075859]\n\tOrdinal0 [0x0055EE61+1633889]\n\tOrdinal0 [0x0045B7BD+571325]\n\tOrdinal0 [0x00491499+791705]\n\tOrdinal0 [0x0048F4AC+783532]\n\tOrdinal0 [0x0048D0AB+774315]\n\tOrdinal0 [0x0048BD37+769335]\n\tOrdinal0 [0x00481C76+728182]\n\tOrdinal0 [0x004A731C+881436]\n\tOrdinal0 [0x004815BF+726463]\n\tOrdinal0 [0x004A7534+881972]\n\tOrdinal0 [0x004BB56A+963946]\n\tOrdinal0 [0x004A7136+880950]\n\tOrdinal0 [0x0047FEFD+720637]\n\tOrdinal0 [0x00480F3F+724799]\n\tGetHandleVerifier [0x0087EED2+2769538]\n\tGetHandleVerifier [0x00870D95+2711877]\n\tGetHandleVerifier [0x0065A03A+521194]\n\tGetHandleVerifier [0x00658DA0+516432]\n\tOrdinal0 [0x0056682C+1665068]\n\tOrdinal0 [0x0056B128+1683752]\n\tOrdinal0 [0x0056B215+1683989]\n\tOrdinal0 [0x00576484+1729668]\n\tBaseThreadInitThunk [0x772D7BA9+25]\n\tRtlInitializeExceptionChain [0x77EBBB9B+107]\n\tRtlClearBits [0x77EBBB1F+191]\n"
     ]
    }
   ],
   "source": [
    "age = []\n",
    "\n",
    "start = 0\n",
    "end = 14\n",
    "\n",
    "for page in range(start,end):\n",
    "    ag = driver.find_elements(By.XPATH,'//div[@class=\"age\"]')\n",
    "    for i in ag:\n",
    "        age.append(i.text)\n",
    "        \n",
    "        \n",
    "    next_button = driver.find_element(By.XPATH,'//div[@class=\"next-page\"]')\n",
    "    next_button.click()\n",
    "    time.sleep(3)"
   ]
  },
  {
   "cell_type": "code",
   "execution_count": 22,
   "id": "6f5ec217",
   "metadata": {},
   "outputs": [
    {
     "data": {
      "text/plain": [
       "2668"
      ]
     },
     "execution_count": 22,
     "metadata": {},
     "output_type": "execute_result"
    }
   ],
   "source": [
    "len(age)"
   ]
  },
  {
   "cell_type": "code",
   "execution_count": 23,
   "id": "ddc45839",
   "metadata": {},
   "outputs": [
    {
     "ename": "ElementClickInterceptedException",
     "evalue": "Message: element click intercepted: Element <div class=\"next-page\">...</div> is not clickable at point (1421, 645). Other element would receive the click: <div class=\"ad-row\">...</div>\n  (Session info: chrome=107.0.5304.107)\nStacktrace:\nBacktrace:\n\tOrdinal0 [0x005CACD3+2075859]\n\tOrdinal0 [0x0055EE61+1633889]\n\tOrdinal0 [0x0045B7BD+571325]\n\tOrdinal0 [0x00491499+791705]\n\tOrdinal0 [0x0048F4AC+783532]\n\tOrdinal0 [0x0048D0AB+774315]\n\tOrdinal0 [0x0048BD37+769335]\n\tOrdinal0 [0x00481C76+728182]\n\tOrdinal0 [0x004A731C+881436]\n\tOrdinal0 [0x004815BF+726463]\n\tOrdinal0 [0x004A7534+881972]\n\tOrdinal0 [0x004BB56A+963946]\n\tOrdinal0 [0x004A7136+880950]\n\tOrdinal0 [0x0047FEFD+720637]\n\tOrdinal0 [0x00480F3F+724799]\n\tGetHandleVerifier [0x0087EED2+2769538]\n\tGetHandleVerifier [0x00870D95+2711877]\n\tGetHandleVerifier [0x0065A03A+521194]\n\tGetHandleVerifier [0x00658DA0+516432]\n\tOrdinal0 [0x0056682C+1665068]\n\tOrdinal0 [0x0056B128+1683752]\n\tOrdinal0 [0x0056B215+1683989]\n\tOrdinal0 [0x00576484+1729668]\n\tBaseThreadInitThunk [0x772D7BA9+25]\n\tRtlInitializeExceptionChain [0x77EBBB9B+107]\n\tRtlClearBits [0x77EBBB1F+191]\n",
     "output_type": "error",
     "traceback": [
      "\u001b[1;31m---------------------------------------------------------------------------\u001b[0m",
      "\u001b[1;31mElementClickInterceptedException\u001b[0m          Traceback (most recent call last)",
      "Input \u001b[1;32mIn [23]\u001b[0m, in \u001b[0;36m<cell line: 6>\u001b[1;34m()\u001b[0m\n\u001b[0;32m      9\u001b[0m     cs\u001b[38;5;241m.\u001b[39mappend(i\u001b[38;5;241m.\u001b[39mtext)\n\u001b[0;32m     12\u001b[0m next_button \u001b[38;5;241m=\u001b[39m driver\u001b[38;5;241m.\u001b[39mfind_element(By\u001b[38;5;241m.\u001b[39mXPATH,\u001b[38;5;124m'\u001b[39m\u001b[38;5;124m//div[@class=\u001b[39m\u001b[38;5;124m\"\u001b[39m\u001b[38;5;124mnext-page\u001b[39m\u001b[38;5;124m\"\u001b[39m\u001b[38;5;124m]\u001b[39m\u001b[38;5;124m'\u001b[39m)\n\u001b[1;32m---> 13\u001b[0m \u001b[43mnext_button\u001b[49m\u001b[38;5;241;43m.\u001b[39;49m\u001b[43mclick\u001b[49m\u001b[43m(\u001b[49m\u001b[43m)\u001b[49m\n\u001b[0;32m     14\u001b[0m time\u001b[38;5;241m.\u001b[39msleep(\u001b[38;5;241m3\u001b[39m)\n",
      "File \u001b[1;32m~\\anaconda3\\lib\\site-packages\\selenium\\webdriver\\remote\\webelement.py:88\u001b[0m, in \u001b[0;36mWebElement.click\u001b[1;34m(self)\u001b[0m\n\u001b[0;32m     86\u001b[0m \u001b[38;5;28;01mdef\u001b[39;00m \u001b[38;5;21mclick\u001b[39m(\u001b[38;5;28mself\u001b[39m) \u001b[38;5;241m-\u001b[39m\u001b[38;5;241m>\u001b[39m \u001b[38;5;28;01mNone\u001b[39;00m:\n\u001b[0;32m     87\u001b[0m     \u001b[38;5;124;03m\"\"\"Clicks the element.\"\"\"\u001b[39;00m\n\u001b[1;32m---> 88\u001b[0m     \u001b[38;5;28;43mself\u001b[39;49m\u001b[38;5;241;43m.\u001b[39;49m\u001b[43m_execute\u001b[49m\u001b[43m(\u001b[49m\u001b[43mCommand\u001b[49m\u001b[38;5;241;43m.\u001b[39;49m\u001b[43mCLICK_ELEMENT\u001b[49m\u001b[43m)\u001b[49m\n",
      "File \u001b[1;32m~\\anaconda3\\lib\\site-packages\\selenium\\webdriver\\remote\\webelement.py:396\u001b[0m, in \u001b[0;36mWebElement._execute\u001b[1;34m(self, command, params)\u001b[0m\n\u001b[0;32m    394\u001b[0m     params \u001b[38;5;241m=\u001b[39m {}\n\u001b[0;32m    395\u001b[0m params[\u001b[38;5;124m'\u001b[39m\u001b[38;5;124mid\u001b[39m\u001b[38;5;124m'\u001b[39m] \u001b[38;5;241m=\u001b[39m \u001b[38;5;28mself\u001b[39m\u001b[38;5;241m.\u001b[39m_id\n\u001b[1;32m--> 396\u001b[0m \u001b[38;5;28;01mreturn\u001b[39;00m \u001b[38;5;28;43mself\u001b[39;49m\u001b[38;5;241;43m.\u001b[39;49m\u001b[43m_parent\u001b[49m\u001b[38;5;241;43m.\u001b[39;49m\u001b[43mexecute\u001b[49m\u001b[43m(\u001b[49m\u001b[43mcommand\u001b[49m\u001b[43m,\u001b[49m\u001b[43m \u001b[49m\u001b[43mparams\u001b[49m\u001b[43m)\u001b[49m\n",
      "File \u001b[1;32m~\\anaconda3\\lib\\site-packages\\selenium\\webdriver\\remote\\webdriver.py:429\u001b[0m, in \u001b[0;36mWebDriver.execute\u001b[1;34m(self, driver_command, params)\u001b[0m\n\u001b[0;32m    427\u001b[0m response \u001b[38;5;241m=\u001b[39m \u001b[38;5;28mself\u001b[39m\u001b[38;5;241m.\u001b[39mcommand_executor\u001b[38;5;241m.\u001b[39mexecute(driver_command, params)\n\u001b[0;32m    428\u001b[0m \u001b[38;5;28;01mif\u001b[39;00m response:\n\u001b[1;32m--> 429\u001b[0m     \u001b[38;5;28;43mself\u001b[39;49m\u001b[38;5;241;43m.\u001b[39;49m\u001b[43merror_handler\u001b[49m\u001b[38;5;241;43m.\u001b[39;49m\u001b[43mcheck_response\u001b[49m\u001b[43m(\u001b[49m\u001b[43mresponse\u001b[49m\u001b[43m)\u001b[49m\n\u001b[0;32m    430\u001b[0m     response[\u001b[38;5;124m'\u001b[39m\u001b[38;5;124mvalue\u001b[39m\u001b[38;5;124m'\u001b[39m] \u001b[38;5;241m=\u001b[39m \u001b[38;5;28mself\u001b[39m\u001b[38;5;241m.\u001b[39m_unwrap_value(\n\u001b[0;32m    431\u001b[0m         response\u001b[38;5;241m.\u001b[39mget(\u001b[38;5;124m'\u001b[39m\u001b[38;5;124mvalue\u001b[39m\u001b[38;5;124m'\u001b[39m, \u001b[38;5;28;01mNone\u001b[39;00m))\n\u001b[0;32m    432\u001b[0m     \u001b[38;5;28;01mreturn\u001b[39;00m response\n",
      "File \u001b[1;32m~\\anaconda3\\lib\\site-packages\\selenium\\webdriver\\remote\\errorhandler.py:243\u001b[0m, in \u001b[0;36mErrorHandler.check_response\u001b[1;34m(self, response)\u001b[0m\n\u001b[0;32m    241\u001b[0m         alert_text \u001b[38;5;241m=\u001b[39m value[\u001b[38;5;124m'\u001b[39m\u001b[38;5;124malert\u001b[39m\u001b[38;5;124m'\u001b[39m]\u001b[38;5;241m.\u001b[39mget(\u001b[38;5;124m'\u001b[39m\u001b[38;5;124mtext\u001b[39m\u001b[38;5;124m'\u001b[39m)\n\u001b[0;32m    242\u001b[0m     \u001b[38;5;28;01mraise\u001b[39;00m exception_class(message, screen, stacktrace, alert_text)  \u001b[38;5;66;03m# type: ignore[call-arg]  # mypy is not smart enough here\u001b[39;00m\n\u001b[1;32m--> 243\u001b[0m \u001b[38;5;28;01mraise\u001b[39;00m exception_class(message, screen, stacktrace)\n",
      "\u001b[1;31mElementClickInterceptedException\u001b[0m: Message: element click intercepted: Element <div class=\"next-page\">...</div> is not clickable at point (1421, 645). Other element would receive the click: <div class=\"ad-row\">...</div>\n  (Session info: chrome=107.0.5304.107)\nStacktrace:\nBacktrace:\n\tOrdinal0 [0x005CACD3+2075859]\n\tOrdinal0 [0x0055EE61+1633889]\n\tOrdinal0 [0x0045B7BD+571325]\n\tOrdinal0 [0x00491499+791705]\n\tOrdinal0 [0x0048F4AC+783532]\n\tOrdinal0 [0x0048D0AB+774315]\n\tOrdinal0 [0x0048BD37+769335]\n\tOrdinal0 [0x00481C76+728182]\n\tOrdinal0 [0x004A731C+881436]\n\tOrdinal0 [0x004815BF+726463]\n\tOrdinal0 [0x004A7534+881972]\n\tOrdinal0 [0x004BB56A+963946]\n\tOrdinal0 [0x004A7136+880950]\n\tOrdinal0 [0x0047FEFD+720637]\n\tOrdinal0 [0x00480F3F+724799]\n\tGetHandleVerifier [0x0087EED2+2769538]\n\tGetHandleVerifier [0x00870D95+2711877]\n\tGetHandleVerifier [0x0065A03A+521194]\n\tGetHandleVerifier [0x00658DA0+516432]\n\tOrdinal0 [0x0056682C+1665068]\n\tOrdinal0 [0x0056B128+1683752]\n\tOrdinal0 [0x0056B215+1683989]\n\tOrdinal0 [0x00576484+1729668]\n\tBaseThreadInitThunk [0x772D7BA9+25]\n\tRtlInitializeExceptionChain [0x77EBBB9B+107]\n\tRtlClearBits [0x77EBBB1F+191]\n"
     ]
    }
   ],
   "source": [
    "cs = []\n",
    "\n",
    "start = 0\n",
    "end = 15\n",
    "\n",
    "for page in range(start,end):\n",
    "    css = driver.find_elements(By.XPATH,'//div[@class=\"countryOfCitizenship\"]')\n",
    "    for i in css:\n",
    "        cs.append(i.text)\n",
    "        \n",
    "        \n",
    "    next_button = driver.find_element(By.XPATH,'//div[@class=\"next-page\"]')\n",
    "    next_button.click()\n",
    "    time.sleep(3)"
   ]
  },
  {
   "cell_type": "code",
   "execution_count": 24,
   "id": "74339959",
   "metadata": {},
   "outputs": [
    {
     "data": {
      "text/plain": [
       "2668"
      ]
     },
     "execution_count": 24,
     "metadata": {},
     "output_type": "execute_result"
    }
   ],
   "source": [
    "len(cs)"
   ]
  },
  {
   "cell_type": "code",
   "execution_count": null,
   "id": "c8beb8f8",
   "metadata": {},
   "outputs": [],
   "source": []
  },
  {
   "cell_type": "code",
   "execution_count": null,
   "id": "edd1b4e1",
   "metadata": {},
   "outputs": [],
   "source": []
  },
  {
   "cell_type": "code",
   "execution_count": 25,
   "id": "2f0f9b25",
   "metadata": {},
   "outputs": [
    {
     "ename": "ElementClickInterceptedException",
     "evalue": "Message: element click intercepted: Element <div class=\"next-page\">...</div> is not clickable at point (1421, 677). Other element would receive the click: <div class=\"pagination\">...</div>\n  (Session info: chrome=107.0.5304.107)\nStacktrace:\nBacktrace:\n\tOrdinal0 [0x005CACD3+2075859]\n\tOrdinal0 [0x0055EE61+1633889]\n\tOrdinal0 [0x0045B7BD+571325]\n\tOrdinal0 [0x00491499+791705]\n\tOrdinal0 [0x0048F4AC+783532]\n\tOrdinal0 [0x0048D0AB+774315]\n\tOrdinal0 [0x0048BD37+769335]\n\tOrdinal0 [0x00481C76+728182]\n\tOrdinal0 [0x004A731C+881436]\n\tOrdinal0 [0x004815BF+726463]\n\tOrdinal0 [0x004A7534+881972]\n\tOrdinal0 [0x004BB56A+963946]\n\tOrdinal0 [0x004A7136+880950]\n\tOrdinal0 [0x0047FEFD+720637]\n\tOrdinal0 [0x00480F3F+724799]\n\tGetHandleVerifier [0x0087EED2+2769538]\n\tGetHandleVerifier [0x00870D95+2711877]\n\tGetHandleVerifier [0x0065A03A+521194]\n\tGetHandleVerifier [0x00658DA0+516432]\n\tOrdinal0 [0x0056682C+1665068]\n\tOrdinal0 [0x0056B128+1683752]\n\tOrdinal0 [0x0056B215+1683989]\n\tOrdinal0 [0x00576484+1729668]\n\tBaseThreadInitThunk [0x772D7BA9+25]\n\tRtlInitializeExceptionChain [0x77EBBB9B+107]\n\tRtlClearBits [0x77EBBB1F+191]\n",
     "output_type": "error",
     "traceback": [
      "\u001b[1;31m---------------------------------------------------------------------------\u001b[0m",
      "\u001b[1;31mElementClickInterceptedException\u001b[0m          Traceback (most recent call last)",
      "Input \u001b[1;32mIn [25]\u001b[0m, in \u001b[0;36m<cell line: 6>\u001b[1;34m()\u001b[0m\n\u001b[0;32m      9\u001b[0m     source\u001b[38;5;241m.\u001b[39mappend(i\u001b[38;5;241m.\u001b[39mtext)\n\u001b[0;32m     11\u001b[0m next_button \u001b[38;5;241m=\u001b[39m driver\u001b[38;5;241m.\u001b[39mfind_element(By\u001b[38;5;241m.\u001b[39mXPATH,\u001b[38;5;124m'\u001b[39m\u001b[38;5;124m//div[@class=\u001b[39m\u001b[38;5;124m\"\u001b[39m\u001b[38;5;124mnext-page\u001b[39m\u001b[38;5;124m\"\u001b[39m\u001b[38;5;124m]\u001b[39m\u001b[38;5;124m'\u001b[39m)\n\u001b[1;32m---> 12\u001b[0m \u001b[43mnext_button\u001b[49m\u001b[38;5;241;43m.\u001b[39;49m\u001b[43mclick\u001b[49m\u001b[43m(\u001b[49m\u001b[43m)\u001b[49m\n\u001b[0;32m     13\u001b[0m time\u001b[38;5;241m.\u001b[39msleep(\u001b[38;5;241m3\u001b[39m)\n",
      "File \u001b[1;32m~\\anaconda3\\lib\\site-packages\\selenium\\webdriver\\remote\\webelement.py:88\u001b[0m, in \u001b[0;36mWebElement.click\u001b[1;34m(self)\u001b[0m\n\u001b[0;32m     86\u001b[0m \u001b[38;5;28;01mdef\u001b[39;00m \u001b[38;5;21mclick\u001b[39m(\u001b[38;5;28mself\u001b[39m) \u001b[38;5;241m-\u001b[39m\u001b[38;5;241m>\u001b[39m \u001b[38;5;28;01mNone\u001b[39;00m:\n\u001b[0;32m     87\u001b[0m     \u001b[38;5;124;03m\"\"\"Clicks the element.\"\"\"\u001b[39;00m\n\u001b[1;32m---> 88\u001b[0m     \u001b[38;5;28;43mself\u001b[39;49m\u001b[38;5;241;43m.\u001b[39;49m\u001b[43m_execute\u001b[49m\u001b[43m(\u001b[49m\u001b[43mCommand\u001b[49m\u001b[38;5;241;43m.\u001b[39;49m\u001b[43mCLICK_ELEMENT\u001b[49m\u001b[43m)\u001b[49m\n",
      "File \u001b[1;32m~\\anaconda3\\lib\\site-packages\\selenium\\webdriver\\remote\\webelement.py:396\u001b[0m, in \u001b[0;36mWebElement._execute\u001b[1;34m(self, command, params)\u001b[0m\n\u001b[0;32m    394\u001b[0m     params \u001b[38;5;241m=\u001b[39m {}\n\u001b[0;32m    395\u001b[0m params[\u001b[38;5;124m'\u001b[39m\u001b[38;5;124mid\u001b[39m\u001b[38;5;124m'\u001b[39m] \u001b[38;5;241m=\u001b[39m \u001b[38;5;28mself\u001b[39m\u001b[38;5;241m.\u001b[39m_id\n\u001b[1;32m--> 396\u001b[0m \u001b[38;5;28;01mreturn\u001b[39;00m \u001b[38;5;28;43mself\u001b[39;49m\u001b[38;5;241;43m.\u001b[39;49m\u001b[43m_parent\u001b[49m\u001b[38;5;241;43m.\u001b[39;49m\u001b[43mexecute\u001b[49m\u001b[43m(\u001b[49m\u001b[43mcommand\u001b[49m\u001b[43m,\u001b[49m\u001b[43m \u001b[49m\u001b[43mparams\u001b[49m\u001b[43m)\u001b[49m\n",
      "File \u001b[1;32m~\\anaconda3\\lib\\site-packages\\selenium\\webdriver\\remote\\webdriver.py:429\u001b[0m, in \u001b[0;36mWebDriver.execute\u001b[1;34m(self, driver_command, params)\u001b[0m\n\u001b[0;32m    427\u001b[0m response \u001b[38;5;241m=\u001b[39m \u001b[38;5;28mself\u001b[39m\u001b[38;5;241m.\u001b[39mcommand_executor\u001b[38;5;241m.\u001b[39mexecute(driver_command, params)\n\u001b[0;32m    428\u001b[0m \u001b[38;5;28;01mif\u001b[39;00m response:\n\u001b[1;32m--> 429\u001b[0m     \u001b[38;5;28;43mself\u001b[39;49m\u001b[38;5;241;43m.\u001b[39;49m\u001b[43merror_handler\u001b[49m\u001b[38;5;241;43m.\u001b[39;49m\u001b[43mcheck_response\u001b[49m\u001b[43m(\u001b[49m\u001b[43mresponse\u001b[49m\u001b[43m)\u001b[49m\n\u001b[0;32m    430\u001b[0m     response[\u001b[38;5;124m'\u001b[39m\u001b[38;5;124mvalue\u001b[39m\u001b[38;5;124m'\u001b[39m] \u001b[38;5;241m=\u001b[39m \u001b[38;5;28mself\u001b[39m\u001b[38;5;241m.\u001b[39m_unwrap_value(\n\u001b[0;32m    431\u001b[0m         response\u001b[38;5;241m.\u001b[39mget(\u001b[38;5;124m'\u001b[39m\u001b[38;5;124mvalue\u001b[39m\u001b[38;5;124m'\u001b[39m, \u001b[38;5;28;01mNone\u001b[39;00m))\n\u001b[0;32m    432\u001b[0m     \u001b[38;5;28;01mreturn\u001b[39;00m response\n",
      "File \u001b[1;32m~\\anaconda3\\lib\\site-packages\\selenium\\webdriver\\remote\\errorhandler.py:243\u001b[0m, in \u001b[0;36mErrorHandler.check_response\u001b[1;34m(self, response)\u001b[0m\n\u001b[0;32m    241\u001b[0m         alert_text \u001b[38;5;241m=\u001b[39m value[\u001b[38;5;124m'\u001b[39m\u001b[38;5;124malert\u001b[39m\u001b[38;5;124m'\u001b[39m]\u001b[38;5;241m.\u001b[39mget(\u001b[38;5;124m'\u001b[39m\u001b[38;5;124mtext\u001b[39m\u001b[38;5;124m'\u001b[39m)\n\u001b[0;32m    242\u001b[0m     \u001b[38;5;28;01mraise\u001b[39;00m exception_class(message, screen, stacktrace, alert_text)  \u001b[38;5;66;03m# type: ignore[call-arg]  # mypy is not smart enough here\u001b[39;00m\n\u001b[1;32m--> 243\u001b[0m \u001b[38;5;28;01mraise\u001b[39;00m exception_class(message, screen, stacktrace)\n",
      "\u001b[1;31mElementClickInterceptedException\u001b[0m: Message: element click intercepted: Element <div class=\"next-page\">...</div> is not clickable at point (1421, 677). Other element would receive the click: <div class=\"pagination\">...</div>\n  (Session info: chrome=107.0.5304.107)\nStacktrace:\nBacktrace:\n\tOrdinal0 [0x005CACD3+2075859]\n\tOrdinal0 [0x0055EE61+1633889]\n\tOrdinal0 [0x0045B7BD+571325]\n\tOrdinal0 [0x00491499+791705]\n\tOrdinal0 [0x0048F4AC+783532]\n\tOrdinal0 [0x0048D0AB+774315]\n\tOrdinal0 [0x0048BD37+769335]\n\tOrdinal0 [0x00481C76+728182]\n\tOrdinal0 [0x004A731C+881436]\n\tOrdinal0 [0x004815BF+726463]\n\tOrdinal0 [0x004A7534+881972]\n\tOrdinal0 [0x004BB56A+963946]\n\tOrdinal0 [0x004A7136+880950]\n\tOrdinal0 [0x0047FEFD+720637]\n\tOrdinal0 [0x00480F3F+724799]\n\tGetHandleVerifier [0x0087EED2+2769538]\n\tGetHandleVerifier [0x00870D95+2711877]\n\tGetHandleVerifier [0x0065A03A+521194]\n\tGetHandleVerifier [0x00658DA0+516432]\n\tOrdinal0 [0x0056682C+1665068]\n\tOrdinal0 [0x0056B128+1683752]\n\tOrdinal0 [0x0056B215+1683989]\n\tOrdinal0 [0x00576484+1729668]\n\tBaseThreadInitThunk [0x772D7BA9+25]\n\tRtlInitializeExceptionChain [0x77EBBB9B+107]\n\tRtlClearBits [0x77EBBB1F+191]\n"
     ]
    }
   ],
   "source": [
    "source = []\n",
    "\n",
    "start = 0\n",
    "end = 15\n",
    "\n",
    "for page in range(start,end):\n",
    "    sou = driver.find_elements(By.XPATH,'//span[@class=\"source-text\"]')\n",
    "    for i in sou:\n",
    "        source.append(i.text)\n",
    "        \n",
    "    next_button = driver.find_element(By.XPATH,'//div[@class=\"next-page\"]')\n",
    "    next_button.click()\n",
    "    time.sleep(3)"
   ]
  },
  {
   "cell_type": "code",
   "execution_count": 26,
   "id": "dd802aab",
   "metadata": {},
   "outputs": [
    {
     "data": {
      "text/plain": [
       "2668"
      ]
     },
     "execution_count": 26,
     "metadata": {},
     "output_type": "execute_result"
    }
   ],
   "source": [
    "len(source)"
   ]
  },
  {
   "cell_type": "code",
   "execution_count": null,
   "id": "5f88ff61",
   "metadata": {},
   "outputs": [],
   "source": []
  },
  {
   "cell_type": "code",
   "execution_count": 4,
   "id": "b420e0a7",
   "metadata": {},
   "outputs": [
    {
     "ename": "ElementClickInterceptedException",
     "evalue": "Message: element click intercepted: Element <div class=\"next-page\">...</div> is not clickable at point (932, 23). Other element would receive the click: <nav class=\"vDhoPLgx\">...</nav>\n  (Session info: chrome=107.0.5304.107)\nStacktrace:\nBacktrace:\n\tOrdinal0 [0x005CACD3+2075859]\n\tOrdinal0 [0x0055EE61+1633889]\n\tOrdinal0 [0x0045B7BD+571325]\n\tOrdinal0 [0x00491499+791705]\n\tOrdinal0 [0x0048F4AC+783532]\n\tOrdinal0 [0x0048D0AB+774315]\n\tOrdinal0 [0x0048BD37+769335]\n\tOrdinal0 [0x00481C76+728182]\n\tOrdinal0 [0x004A731C+881436]\n\tOrdinal0 [0x004815BF+726463]\n\tOrdinal0 [0x004A7534+881972]\n\tOrdinal0 [0x004BB56A+963946]\n\tOrdinal0 [0x004A7136+880950]\n\tOrdinal0 [0x0047FEFD+720637]\n\tOrdinal0 [0x00480F3F+724799]\n\tGetHandleVerifier [0x0087EED2+2769538]\n\tGetHandleVerifier [0x00870D95+2711877]\n\tGetHandleVerifier [0x0065A03A+521194]\n\tGetHandleVerifier [0x00658DA0+516432]\n\tOrdinal0 [0x0056682C+1665068]\n\tOrdinal0 [0x0056B128+1683752]\n\tOrdinal0 [0x0056B215+1683989]\n\tOrdinal0 [0x00576484+1729668]\n\tBaseThreadInitThunk [0x772D7BA9+25]\n\tRtlInitializeExceptionChain [0x77EBBB9B+107]\n\tRtlClearBits [0x77EBBB1F+191]\n",
     "output_type": "error",
     "traceback": [
      "\u001b[1;31m---------------------------------------------------------------------------\u001b[0m",
      "\u001b[1;31mElementClickInterceptedException\u001b[0m          Traceback (most recent call last)",
      "Input \u001b[1;32mIn [4]\u001b[0m, in \u001b[0;36m<cell line: 6>\u001b[1;34m()\u001b[0m\n\u001b[0;32m      9\u001b[0m     industry\u001b[38;5;241m.\u001b[39mappend(i\u001b[38;5;241m.\u001b[39mtext)\n\u001b[0;32m     12\u001b[0m next_button \u001b[38;5;241m=\u001b[39m driver\u001b[38;5;241m.\u001b[39mfind_element(By\u001b[38;5;241m.\u001b[39mXPATH,\u001b[38;5;124m'\u001b[39m\u001b[38;5;124m//div[@class=\u001b[39m\u001b[38;5;124m\"\u001b[39m\u001b[38;5;124mnext-page\u001b[39m\u001b[38;5;124m\"\u001b[39m\u001b[38;5;124m]\u001b[39m\u001b[38;5;124m'\u001b[39m)\n\u001b[1;32m---> 13\u001b[0m \u001b[43mnext_button\u001b[49m\u001b[38;5;241;43m.\u001b[39;49m\u001b[43mclick\u001b[49m\u001b[43m(\u001b[49m\u001b[43m)\u001b[49m\n\u001b[0;32m     14\u001b[0m time\u001b[38;5;241m.\u001b[39msleep(\u001b[38;5;241m3\u001b[39m)\n",
      "File \u001b[1;32m~\\anaconda3\\lib\\site-packages\\selenium\\webdriver\\remote\\webelement.py:88\u001b[0m, in \u001b[0;36mWebElement.click\u001b[1;34m(self)\u001b[0m\n\u001b[0;32m     86\u001b[0m \u001b[38;5;28;01mdef\u001b[39;00m \u001b[38;5;21mclick\u001b[39m(\u001b[38;5;28mself\u001b[39m) \u001b[38;5;241m-\u001b[39m\u001b[38;5;241m>\u001b[39m \u001b[38;5;28;01mNone\u001b[39;00m:\n\u001b[0;32m     87\u001b[0m     \u001b[38;5;124;03m\"\"\"Clicks the element.\"\"\"\u001b[39;00m\n\u001b[1;32m---> 88\u001b[0m     \u001b[38;5;28;43mself\u001b[39;49m\u001b[38;5;241;43m.\u001b[39;49m\u001b[43m_execute\u001b[49m\u001b[43m(\u001b[49m\u001b[43mCommand\u001b[49m\u001b[38;5;241;43m.\u001b[39;49m\u001b[43mCLICK_ELEMENT\u001b[49m\u001b[43m)\u001b[49m\n",
      "File \u001b[1;32m~\\anaconda3\\lib\\site-packages\\selenium\\webdriver\\remote\\webelement.py:396\u001b[0m, in \u001b[0;36mWebElement._execute\u001b[1;34m(self, command, params)\u001b[0m\n\u001b[0;32m    394\u001b[0m     params \u001b[38;5;241m=\u001b[39m {}\n\u001b[0;32m    395\u001b[0m params[\u001b[38;5;124m'\u001b[39m\u001b[38;5;124mid\u001b[39m\u001b[38;5;124m'\u001b[39m] \u001b[38;5;241m=\u001b[39m \u001b[38;5;28mself\u001b[39m\u001b[38;5;241m.\u001b[39m_id\n\u001b[1;32m--> 396\u001b[0m \u001b[38;5;28;01mreturn\u001b[39;00m \u001b[38;5;28;43mself\u001b[39;49m\u001b[38;5;241;43m.\u001b[39;49m\u001b[43m_parent\u001b[49m\u001b[38;5;241;43m.\u001b[39;49m\u001b[43mexecute\u001b[49m\u001b[43m(\u001b[49m\u001b[43mcommand\u001b[49m\u001b[43m,\u001b[49m\u001b[43m \u001b[49m\u001b[43mparams\u001b[49m\u001b[43m)\u001b[49m\n",
      "File \u001b[1;32m~\\anaconda3\\lib\\site-packages\\selenium\\webdriver\\remote\\webdriver.py:429\u001b[0m, in \u001b[0;36mWebDriver.execute\u001b[1;34m(self, driver_command, params)\u001b[0m\n\u001b[0;32m    427\u001b[0m response \u001b[38;5;241m=\u001b[39m \u001b[38;5;28mself\u001b[39m\u001b[38;5;241m.\u001b[39mcommand_executor\u001b[38;5;241m.\u001b[39mexecute(driver_command, params)\n\u001b[0;32m    428\u001b[0m \u001b[38;5;28;01mif\u001b[39;00m response:\n\u001b[1;32m--> 429\u001b[0m     \u001b[38;5;28;43mself\u001b[39;49m\u001b[38;5;241;43m.\u001b[39;49m\u001b[43merror_handler\u001b[49m\u001b[38;5;241;43m.\u001b[39;49m\u001b[43mcheck_response\u001b[49m\u001b[43m(\u001b[49m\u001b[43mresponse\u001b[49m\u001b[43m)\u001b[49m\n\u001b[0;32m    430\u001b[0m     response[\u001b[38;5;124m'\u001b[39m\u001b[38;5;124mvalue\u001b[39m\u001b[38;5;124m'\u001b[39m] \u001b[38;5;241m=\u001b[39m \u001b[38;5;28mself\u001b[39m\u001b[38;5;241m.\u001b[39m_unwrap_value(\n\u001b[0;32m    431\u001b[0m         response\u001b[38;5;241m.\u001b[39mget(\u001b[38;5;124m'\u001b[39m\u001b[38;5;124mvalue\u001b[39m\u001b[38;5;124m'\u001b[39m, \u001b[38;5;28;01mNone\u001b[39;00m))\n\u001b[0;32m    432\u001b[0m     \u001b[38;5;28;01mreturn\u001b[39;00m response\n",
      "File \u001b[1;32m~\\anaconda3\\lib\\site-packages\\selenium\\webdriver\\remote\\errorhandler.py:243\u001b[0m, in \u001b[0;36mErrorHandler.check_response\u001b[1;34m(self, response)\u001b[0m\n\u001b[0;32m    241\u001b[0m         alert_text \u001b[38;5;241m=\u001b[39m value[\u001b[38;5;124m'\u001b[39m\u001b[38;5;124malert\u001b[39m\u001b[38;5;124m'\u001b[39m]\u001b[38;5;241m.\u001b[39mget(\u001b[38;5;124m'\u001b[39m\u001b[38;5;124mtext\u001b[39m\u001b[38;5;124m'\u001b[39m)\n\u001b[0;32m    242\u001b[0m     \u001b[38;5;28;01mraise\u001b[39;00m exception_class(message, screen, stacktrace, alert_text)  \u001b[38;5;66;03m# type: ignore[call-arg]  # mypy is not smart enough here\u001b[39;00m\n\u001b[1;32m--> 243\u001b[0m \u001b[38;5;28;01mraise\u001b[39;00m exception_class(message, screen, stacktrace)\n",
      "\u001b[1;31mElementClickInterceptedException\u001b[0m: Message: element click intercepted: Element <div class=\"next-page\">...</div> is not clickable at point (932, 23). Other element would receive the click: <nav class=\"vDhoPLgx\">...</nav>\n  (Session info: chrome=107.0.5304.107)\nStacktrace:\nBacktrace:\n\tOrdinal0 [0x005CACD3+2075859]\n\tOrdinal0 [0x0055EE61+1633889]\n\tOrdinal0 [0x0045B7BD+571325]\n\tOrdinal0 [0x00491499+791705]\n\tOrdinal0 [0x0048F4AC+783532]\n\tOrdinal0 [0x0048D0AB+774315]\n\tOrdinal0 [0x0048BD37+769335]\n\tOrdinal0 [0x00481C76+728182]\n\tOrdinal0 [0x004A731C+881436]\n\tOrdinal0 [0x004815BF+726463]\n\tOrdinal0 [0x004A7534+881972]\n\tOrdinal0 [0x004BB56A+963946]\n\tOrdinal0 [0x004A7136+880950]\n\tOrdinal0 [0x0047FEFD+720637]\n\tOrdinal0 [0x00480F3F+724799]\n\tGetHandleVerifier [0x0087EED2+2769538]\n\tGetHandleVerifier [0x00870D95+2711877]\n\tGetHandleVerifier [0x0065A03A+521194]\n\tGetHandleVerifier [0x00658DA0+516432]\n\tOrdinal0 [0x0056682C+1665068]\n\tOrdinal0 [0x0056B128+1683752]\n\tOrdinal0 [0x0056B215+1683989]\n\tOrdinal0 [0x00576484+1729668]\n\tBaseThreadInitThunk [0x772D7BA9+25]\n\tRtlInitializeExceptionChain [0x77EBBB9B+107]\n\tRtlClearBits [0x77EBBB1F+191]\n"
     ]
    }
   ],
   "source": [
    "industry = []\n",
    "\n",
    "start = 0\n",
    "end = 15\n",
    "\n",
    "for page in range(start,end):\n",
    "    ind = driver.find_elements(By.XPATH,'//div[@class=\"category\"]')\n",
    "    for i in ind:\n",
    "        industry.append(i.text)\n",
    "        \n",
    "        \n",
    "    next_button = driver.find_element(By.XPATH,'//div[@class=\"next-page\"]')\n",
    "    next_button.click()\n",
    "    time.sleep(3)"
   ]
  },
  {
   "cell_type": "code",
   "execution_count": 5,
   "id": "d5976ea4",
   "metadata": {},
   "outputs": [
    {
     "data": {
      "text/plain": [
       "2668"
      ]
     },
     "execution_count": 5,
     "metadata": {},
     "output_type": "execute_result"
    }
   ],
   "source": [
    "len(industry)"
   ]
  },
  {
   "cell_type": "code",
   "execution_count": 27,
   "id": "edac6b6a",
   "metadata": {},
   "outputs": [
    {
     "data": {
      "text/html": [
       "<div>\n",
       "<style scoped>\n",
       "    .dataframe tbody tr th:only-of-type {\n",
       "        vertical-align: middle;\n",
       "    }\n",
       "\n",
       "    .dataframe tbody tr th {\n",
       "        vertical-align: top;\n",
       "    }\n",
       "\n",
       "    .dataframe thead th {\n",
       "        text-align: right;\n",
       "    }\n",
       "</style>\n",
       "<table border=\"1\" class=\"dataframe\">\n",
       "  <thead>\n",
       "    <tr style=\"text-align: right;\">\n",
       "      <th></th>\n",
       "      <th>Rank</th>\n",
       "      <th>Name</th>\n",
       "      <th>Net_Worth</th>\n",
       "      <th>Age</th>\n",
       "      <th>Country</th>\n",
       "      <th>Source</th>\n",
       "      <th>Industry</th>\n",
       "    </tr>\n",
       "  </thead>\n",
       "  <tbody>\n",
       "    <tr>\n",
       "      <th>0</th>\n",
       "      <td>1.</td>\n",
       "      <td>Elon Musk</td>\n",
       "      <td>$219 B</td>\n",
       "      <td>50</td>\n",
       "      <td>United States</td>\n",
       "      <td>Tesla, SpaceX</td>\n",
       "      <td>Automotive</td>\n",
       "    </tr>\n",
       "    <tr>\n",
       "      <th>1</th>\n",
       "      <td>2.</td>\n",
       "      <td>Jeff Bezos</td>\n",
       "      <td>$171 B</td>\n",
       "      <td>58</td>\n",
       "      <td>United States</td>\n",
       "      <td>Amazon</td>\n",
       "      <td>Technology</td>\n",
       "    </tr>\n",
       "    <tr>\n",
       "      <th>2</th>\n",
       "      <td>3.</td>\n",
       "      <td>Bernard Arnault &amp; family</td>\n",
       "      <td>$158 B</td>\n",
       "      <td>73</td>\n",
       "      <td>France</td>\n",
       "      <td>LVMH</td>\n",
       "      <td>Fashion &amp; Retail</td>\n",
       "    </tr>\n",
       "    <tr>\n",
       "      <th>3</th>\n",
       "      <td>4.</td>\n",
       "      <td>Bill Gates</td>\n",
       "      <td>$129 B</td>\n",
       "      <td>66</td>\n",
       "      <td>United States</td>\n",
       "      <td>Microsoft</td>\n",
       "      <td>Technology</td>\n",
       "    </tr>\n",
       "    <tr>\n",
       "      <th>4</th>\n",
       "      <td>5.</td>\n",
       "      <td>Warren Buffett</td>\n",
       "      <td>$118 B</td>\n",
       "      <td>91</td>\n",
       "      <td>United States</td>\n",
       "      <td>Berkshire Hathaway</td>\n",
       "      <td>Finance &amp; Investments</td>\n",
       "    </tr>\n",
       "    <tr>\n",
       "      <th>...</th>\n",
       "      <td>...</td>\n",
       "      <td>...</td>\n",
       "      <td>...</td>\n",
       "      <td>...</td>\n",
       "      <td>...</td>\n",
       "      <td>...</td>\n",
       "      <td>...</td>\n",
       "    </tr>\n",
       "    <tr>\n",
       "      <th>2663</th>\n",
       "      <td>2578.</td>\n",
       "      <td>Zhang Yuqiang</td>\n",
       "      <td>$1 B</td>\n",
       "      <td>66</td>\n",
       "      <td>China</td>\n",
       "      <td>Fiberglass</td>\n",
       "      <td>Manufacturing</td>\n",
       "    </tr>\n",
       "    <tr>\n",
       "      <th>2664</th>\n",
       "      <td>2578.</td>\n",
       "      <td>Zhou Ruxin</td>\n",
       "      <td>$1 B</td>\n",
       "      <td>59</td>\n",
       "      <td>China</td>\n",
       "      <td>Navigation</td>\n",
       "      <td>Technology</td>\n",
       "    </tr>\n",
       "    <tr>\n",
       "      <th>2665</th>\n",
       "      <td>2578.</td>\n",
       "      <td>Wen Zhou &amp; family</td>\n",
       "      <td>$1 B</td>\n",
       "      <td>57</td>\n",
       "      <td>China</td>\n",
       "      <td>chemicals</td>\n",
       "      <td>Manufacturing</td>\n",
       "    </tr>\n",
       "    <tr>\n",
       "      <th>2666</th>\n",
       "      <td>2578.</td>\n",
       "      <td>Zhou Yifeng &amp; family</td>\n",
       "      <td>$1 B</td>\n",
       "      <td>43</td>\n",
       "      <td>China</td>\n",
       "      <td>liquefied petroleum gas</td>\n",
       "      <td>Energy</td>\n",
       "    </tr>\n",
       "    <tr>\n",
       "      <th>2667</th>\n",
       "      <td>2578.</td>\n",
       "      <td>Zhuang Kuilong &amp; family</td>\n",
       "      <td>$1 B</td>\n",
       "      <td>59</td>\n",
       "      <td>China</td>\n",
       "      <td>polyester</td>\n",
       "      <td>Manufacturing</td>\n",
       "    </tr>\n",
       "  </tbody>\n",
       "</table>\n",
       "<p>2668 rows × 7 columns</p>\n",
       "</div>"
      ],
      "text/plain": [
       "       Rank                      Name Net_Worth Age        Country  \\\n",
       "0        1.                 Elon Musk    $219 B  50  United States   \n",
       "1        2.                Jeff Bezos    $171 B  58  United States   \n",
       "2        3.  Bernard Arnault & family    $158 B  73         France   \n",
       "3        4.                Bill Gates    $129 B  66  United States   \n",
       "4        5.            Warren Buffett    $118 B  91  United States   \n",
       "...     ...                       ...       ...  ..            ...   \n",
       "2663  2578.             Zhang Yuqiang      $1 B  66          China   \n",
       "2664  2578.                Zhou Ruxin      $1 B  59          China   \n",
       "2665  2578.         Wen Zhou & family      $1 B  57          China   \n",
       "2666  2578.      Zhou Yifeng & family      $1 B  43          China   \n",
       "2667  2578.   Zhuang Kuilong & family      $1 B  59          China   \n",
       "\n",
       "                       Source               Industry  \n",
       "0               Tesla, SpaceX             Automotive  \n",
       "1                      Amazon             Technology  \n",
       "2                        LVMH       Fashion & Retail  \n",
       "3                   Microsoft             Technology  \n",
       "4          Berkshire Hathaway  Finance & Investments  \n",
       "...                       ...                    ...  \n",
       "2663               Fiberglass          Manufacturing  \n",
       "2664               Navigation             Technology  \n",
       "2665                chemicals          Manufacturing  \n",
       "2666  liquefied petroleum gas                 Energy  \n",
       "2667                polyester          Manufacturing  \n",
       "\n",
       "[2668 rows x 7 columns]"
      ]
     },
     "execution_count": 27,
     "metadata": {},
     "output_type": "execute_result"
    }
   ],
   "source": [
    "df1 = pd.DataFrame({'Rank':ranks,'Name':names,'Net_Worth':net_worth,'Age':age,'Country':cs,'Source':source,'Industry':industry})\n",
    "\n",
    "df1"
   ]
  },
  {
   "cell_type": "code",
   "execution_count": 29,
   "id": "d2898797",
   "metadata": {},
   "outputs": [],
   "source": [
    "df1 = df1.set_index('Rank')"
   ]
  },
  {
   "cell_type": "code",
   "execution_count": 30,
   "id": "95e3cbae",
   "metadata": {},
   "outputs": [
    {
     "data": {
      "text/html": [
       "<div>\n",
       "<style scoped>\n",
       "    .dataframe tbody tr th:only-of-type {\n",
       "        vertical-align: middle;\n",
       "    }\n",
       "\n",
       "    .dataframe tbody tr th {\n",
       "        vertical-align: top;\n",
       "    }\n",
       "\n",
       "    .dataframe thead th {\n",
       "        text-align: right;\n",
       "    }\n",
       "</style>\n",
       "<table border=\"1\" class=\"dataframe\">\n",
       "  <thead>\n",
       "    <tr style=\"text-align: right;\">\n",
       "      <th></th>\n",
       "      <th>Name</th>\n",
       "      <th>Net_Worth</th>\n",
       "      <th>Age</th>\n",
       "      <th>Country</th>\n",
       "      <th>Source</th>\n",
       "      <th>Industry</th>\n",
       "    </tr>\n",
       "    <tr>\n",
       "      <th>Rank</th>\n",
       "      <th></th>\n",
       "      <th></th>\n",
       "      <th></th>\n",
       "      <th></th>\n",
       "      <th></th>\n",
       "      <th></th>\n",
       "    </tr>\n",
       "  </thead>\n",
       "  <tbody>\n",
       "    <tr>\n",
       "      <th>1.</th>\n",
       "      <td>Elon Musk</td>\n",
       "      <td>$219 B</td>\n",
       "      <td>50</td>\n",
       "      <td>United States</td>\n",
       "      <td>Tesla, SpaceX</td>\n",
       "      <td>Automotive</td>\n",
       "    </tr>\n",
       "    <tr>\n",
       "      <th>2.</th>\n",
       "      <td>Jeff Bezos</td>\n",
       "      <td>$171 B</td>\n",
       "      <td>58</td>\n",
       "      <td>United States</td>\n",
       "      <td>Amazon</td>\n",
       "      <td>Technology</td>\n",
       "    </tr>\n",
       "    <tr>\n",
       "      <th>3.</th>\n",
       "      <td>Bernard Arnault &amp; family</td>\n",
       "      <td>$158 B</td>\n",
       "      <td>73</td>\n",
       "      <td>France</td>\n",
       "      <td>LVMH</td>\n",
       "      <td>Fashion &amp; Retail</td>\n",
       "    </tr>\n",
       "    <tr>\n",
       "      <th>4.</th>\n",
       "      <td>Bill Gates</td>\n",
       "      <td>$129 B</td>\n",
       "      <td>66</td>\n",
       "      <td>United States</td>\n",
       "      <td>Microsoft</td>\n",
       "      <td>Technology</td>\n",
       "    </tr>\n",
       "    <tr>\n",
       "      <th>5.</th>\n",
       "      <td>Warren Buffett</td>\n",
       "      <td>$118 B</td>\n",
       "      <td>91</td>\n",
       "      <td>United States</td>\n",
       "      <td>Berkshire Hathaway</td>\n",
       "      <td>Finance &amp; Investments</td>\n",
       "    </tr>\n",
       "    <tr>\n",
       "      <th>...</th>\n",
       "      <td>...</td>\n",
       "      <td>...</td>\n",
       "      <td>...</td>\n",
       "      <td>...</td>\n",
       "      <td>...</td>\n",
       "      <td>...</td>\n",
       "    </tr>\n",
       "    <tr>\n",
       "      <th>2578.</th>\n",
       "      <td>Zhang Yuqiang</td>\n",
       "      <td>$1 B</td>\n",
       "      <td>66</td>\n",
       "      <td>China</td>\n",
       "      <td>Fiberglass</td>\n",
       "      <td>Manufacturing</td>\n",
       "    </tr>\n",
       "    <tr>\n",
       "      <th>2578.</th>\n",
       "      <td>Zhou Ruxin</td>\n",
       "      <td>$1 B</td>\n",
       "      <td>59</td>\n",
       "      <td>China</td>\n",
       "      <td>Navigation</td>\n",
       "      <td>Technology</td>\n",
       "    </tr>\n",
       "    <tr>\n",
       "      <th>2578.</th>\n",
       "      <td>Wen Zhou &amp; family</td>\n",
       "      <td>$1 B</td>\n",
       "      <td>57</td>\n",
       "      <td>China</td>\n",
       "      <td>chemicals</td>\n",
       "      <td>Manufacturing</td>\n",
       "    </tr>\n",
       "    <tr>\n",
       "      <th>2578.</th>\n",
       "      <td>Zhou Yifeng &amp; family</td>\n",
       "      <td>$1 B</td>\n",
       "      <td>43</td>\n",
       "      <td>China</td>\n",
       "      <td>liquefied petroleum gas</td>\n",
       "      <td>Energy</td>\n",
       "    </tr>\n",
       "    <tr>\n",
       "      <th>2578.</th>\n",
       "      <td>Zhuang Kuilong &amp; family</td>\n",
       "      <td>$1 B</td>\n",
       "      <td>59</td>\n",
       "      <td>China</td>\n",
       "      <td>polyester</td>\n",
       "      <td>Manufacturing</td>\n",
       "    </tr>\n",
       "  </tbody>\n",
       "</table>\n",
       "<p>2668 rows × 6 columns</p>\n",
       "</div>"
      ],
      "text/plain": [
       "                           Name Net_Worth Age        Country  \\\n",
       "Rank                                                           \n",
       "1.                    Elon Musk    $219 B  50  United States   \n",
       "2.                   Jeff Bezos    $171 B  58  United States   \n",
       "3.     Bernard Arnault & family    $158 B  73         France   \n",
       "4.                   Bill Gates    $129 B  66  United States   \n",
       "5.               Warren Buffett    $118 B  91  United States   \n",
       "...                         ...       ...  ..            ...   \n",
       "2578.             Zhang Yuqiang      $1 B  66          China   \n",
       "2578.                Zhou Ruxin      $1 B  59          China   \n",
       "2578.         Wen Zhou & family      $1 B  57          China   \n",
       "2578.      Zhou Yifeng & family      $1 B  43          China   \n",
       "2578.   Zhuang Kuilong & family      $1 B  59          China   \n",
       "\n",
       "                        Source               Industry  \n",
       "Rank                                                   \n",
       "1.               Tesla, SpaceX             Automotive  \n",
       "2.                      Amazon             Technology  \n",
       "3.                        LVMH       Fashion & Retail  \n",
       "4.                   Microsoft             Technology  \n",
       "5.          Berkshire Hathaway  Finance & Investments  \n",
       "...                        ...                    ...  \n",
       "2578.               Fiberglass          Manufacturing  \n",
       "2578.               Navigation             Technology  \n",
       "2578.                chemicals          Manufacturing  \n",
       "2578.  liquefied petroleum gas                 Energy  \n",
       "2578.                polyester          Manufacturing  \n",
       "\n",
       "[2668 rows x 6 columns]"
      ]
     },
     "execution_count": 30,
     "metadata": {},
     "output_type": "execute_result"
    }
   ],
   "source": [
    "df1"
   ]
  },
  {
   "cell_type": "code",
   "execution_count": 31,
   "id": "968e521f",
   "metadata": {},
   "outputs": [],
   "source": [
    "driver.close()"
   ]
  },
  {
   "cell_type": "code",
   "execution_count": null,
   "id": "558b3f0f",
   "metadata": {},
   "outputs": [],
   "source": []
  },
  {
   "cell_type": "code",
   "execution_count": null,
   "id": "3b870540",
   "metadata": {},
   "outputs": [],
   "source": []
  },
  {
   "cell_type": "code",
   "execution_count": null,
   "id": "fd58e14f",
   "metadata": {},
   "outputs": [],
   "source": []
  },
  {
   "cell_type": "code",
   "execution_count": null,
   "id": "f23c23df",
   "metadata": {},
   "outputs": [],
   "source": []
  },
  {
   "cell_type": "code",
   "execution_count": null,
   "id": "e305e410",
   "metadata": {},
   "outputs": [],
   "source": [
    "# Q no -- 10"
   ]
  },
  {
   "cell_type": "code",
   "execution_count": 60,
   "id": "1b7a53ce",
   "metadata": {},
   "outputs": [
    {
     "data": {
      "text/plain": [
       "<selenium.webdriver.chrome.webdriver.WebDriver (session=\"6f92e5f0d599ee0c977bb36b3c0b887f\")>"
      ]
     },
     "execution_count": 60,
     "metadata": {},
     "output_type": "execute_result"
    }
   ],
   "source": [
    "driver = webdriver.Chrome(r'C:\\Users\\user\\chromedriver.exe')\n",
    "\n",
    "driver"
   ]
  },
  {
   "cell_type": "code",
   "execution_count": 61,
   "id": "5332633b",
   "metadata": {},
   "outputs": [],
   "source": [
    "url = 'https://www.hostelworld.com/'\n",
    "\n",
    "driver.get(url)"
   ]
  },
  {
   "cell_type": "code",
   "execution_count": 14,
   "id": "cbdb3ca9",
   "metadata": {},
   "outputs": [
    {
     "ename": "ElementClickInterceptedException",
     "evalue": "Message: element click intercepted: Element <i data-v-2e225c62=\"\" aria-hidden=\"true\" aria-labelledby=\"icon-core-chevron-right-aria-label\" aria-describedby=\"icon-core-chevron-right-aria-description\" class=\"core-icon icon-core-chevron-right\">...</i> is not clickable at point (565, 251). Other element would receive the click: <div data-v-2e225c62=\"\" data-v-7a76a41b=\"\" class=\"pagination pagination\">...</div>\n  (Session info: chrome=107.0.5304.107)\nStacktrace:\nBacktrace:\n\tOrdinal0 [0x00CDACD3+2075859]\n\tOrdinal0 [0x00C6EE61+1633889]\n\tOrdinal0 [0x00B6B7BD+571325]\n\tOrdinal0 [0x00BA1499+791705]\n\tOrdinal0 [0x00B9F4AC+783532]\n\tOrdinal0 [0x00B9D0AB+774315]\n\tOrdinal0 [0x00B9BD37+769335]\n\tOrdinal0 [0x00B91C76+728182]\n\tOrdinal0 [0x00BB731C+881436]\n\tOrdinal0 [0x00B915BF+726463]\n\tOrdinal0 [0x00BB7534+881972]\n\tOrdinal0 [0x00BCB56A+963946]\n\tOrdinal0 [0x00BB7136+880950]\n\tOrdinal0 [0x00B8FEFD+720637]\n\tOrdinal0 [0x00B90F3F+724799]\n\tGetHandleVerifier [0x00F8EED2+2769538]\n\tGetHandleVerifier [0x00F80D95+2711877]\n\tGetHandleVerifier [0x00D6A03A+521194]\n\tGetHandleVerifier [0x00D68DA0+516432]\n\tOrdinal0 [0x00C7682C+1665068]\n\tOrdinal0 [0x00C7B128+1683752]\n\tOrdinal0 [0x00C7B215+1683989]\n\tOrdinal0 [0x00C86484+1729668]\n\tBaseThreadInitThunk [0x772D7BA9+25]\n\tRtlInitializeExceptionChain [0x77EBBB9B+107]\n\tRtlClearBits [0x77EBBB1F+191]\n",
     "output_type": "error",
     "traceback": [
      "\u001b[1;31m---------------------------------------------------------------------------\u001b[0m",
      "\u001b[1;31mElementClickInterceptedException\u001b[0m          Traceback (most recent call last)",
      "Input \u001b[1;32mIn [14]\u001b[0m, in \u001b[0;36m<cell line: 6>\u001b[1;34m()\u001b[0m\n\u001b[0;32m      9\u001b[0m     names\u001b[38;5;241m.\u001b[39mappend(i\u001b[38;5;241m.\u001b[39mtext)\n\u001b[0;32m     11\u001b[0m next_button \u001b[38;5;241m=\u001b[39m driver\u001b[38;5;241m.\u001b[39mfind_element(By\u001b[38;5;241m.\u001b[39mXPATH,\u001b[38;5;124m'\u001b[39m\u001b[38;5;124m//i[@class=\u001b[39m\u001b[38;5;124m\"\u001b[39m\u001b[38;5;124mcore-icon icon-core-chevron-right\u001b[39m\u001b[38;5;124m\"\u001b[39m\u001b[38;5;124m]\u001b[39m\u001b[38;5;124m'\u001b[39m)\n\u001b[1;32m---> 12\u001b[0m \u001b[43mnext_button\u001b[49m\u001b[38;5;241;43m.\u001b[39;49m\u001b[43mclick\u001b[49m\u001b[43m(\u001b[49m\u001b[43m)\u001b[49m\n\u001b[0;32m     13\u001b[0m time\u001b[38;5;241m.\u001b[39msleep(\u001b[38;5;241m3\u001b[39m)\n",
      "File \u001b[1;32m~\\anaconda3\\lib\\site-packages\\selenium\\webdriver\\remote\\webelement.py:88\u001b[0m, in \u001b[0;36mWebElement.click\u001b[1;34m(self)\u001b[0m\n\u001b[0;32m     86\u001b[0m \u001b[38;5;28;01mdef\u001b[39;00m \u001b[38;5;21mclick\u001b[39m(\u001b[38;5;28mself\u001b[39m) \u001b[38;5;241m-\u001b[39m\u001b[38;5;241m>\u001b[39m \u001b[38;5;28;01mNone\u001b[39;00m:\n\u001b[0;32m     87\u001b[0m     \u001b[38;5;124;03m\"\"\"Clicks the element.\"\"\"\u001b[39;00m\n\u001b[1;32m---> 88\u001b[0m     \u001b[38;5;28;43mself\u001b[39;49m\u001b[38;5;241;43m.\u001b[39;49m\u001b[43m_execute\u001b[49m\u001b[43m(\u001b[49m\u001b[43mCommand\u001b[49m\u001b[38;5;241;43m.\u001b[39;49m\u001b[43mCLICK_ELEMENT\u001b[49m\u001b[43m)\u001b[49m\n",
      "File \u001b[1;32m~\\anaconda3\\lib\\site-packages\\selenium\\webdriver\\remote\\webelement.py:396\u001b[0m, in \u001b[0;36mWebElement._execute\u001b[1;34m(self, command, params)\u001b[0m\n\u001b[0;32m    394\u001b[0m     params \u001b[38;5;241m=\u001b[39m {}\n\u001b[0;32m    395\u001b[0m params[\u001b[38;5;124m'\u001b[39m\u001b[38;5;124mid\u001b[39m\u001b[38;5;124m'\u001b[39m] \u001b[38;5;241m=\u001b[39m \u001b[38;5;28mself\u001b[39m\u001b[38;5;241m.\u001b[39m_id\n\u001b[1;32m--> 396\u001b[0m \u001b[38;5;28;01mreturn\u001b[39;00m \u001b[38;5;28;43mself\u001b[39;49m\u001b[38;5;241;43m.\u001b[39;49m\u001b[43m_parent\u001b[49m\u001b[38;5;241;43m.\u001b[39;49m\u001b[43mexecute\u001b[49m\u001b[43m(\u001b[49m\u001b[43mcommand\u001b[49m\u001b[43m,\u001b[49m\u001b[43m \u001b[49m\u001b[43mparams\u001b[49m\u001b[43m)\u001b[49m\n",
      "File \u001b[1;32m~\\anaconda3\\lib\\site-packages\\selenium\\webdriver\\remote\\webdriver.py:429\u001b[0m, in \u001b[0;36mWebDriver.execute\u001b[1;34m(self, driver_command, params)\u001b[0m\n\u001b[0;32m    427\u001b[0m response \u001b[38;5;241m=\u001b[39m \u001b[38;5;28mself\u001b[39m\u001b[38;5;241m.\u001b[39mcommand_executor\u001b[38;5;241m.\u001b[39mexecute(driver_command, params)\n\u001b[0;32m    428\u001b[0m \u001b[38;5;28;01mif\u001b[39;00m response:\n\u001b[1;32m--> 429\u001b[0m     \u001b[38;5;28;43mself\u001b[39;49m\u001b[38;5;241;43m.\u001b[39;49m\u001b[43merror_handler\u001b[49m\u001b[38;5;241;43m.\u001b[39;49m\u001b[43mcheck_response\u001b[49m\u001b[43m(\u001b[49m\u001b[43mresponse\u001b[49m\u001b[43m)\u001b[49m\n\u001b[0;32m    430\u001b[0m     response[\u001b[38;5;124m'\u001b[39m\u001b[38;5;124mvalue\u001b[39m\u001b[38;5;124m'\u001b[39m] \u001b[38;5;241m=\u001b[39m \u001b[38;5;28mself\u001b[39m\u001b[38;5;241m.\u001b[39m_unwrap_value(\n\u001b[0;32m    431\u001b[0m         response\u001b[38;5;241m.\u001b[39mget(\u001b[38;5;124m'\u001b[39m\u001b[38;5;124mvalue\u001b[39m\u001b[38;5;124m'\u001b[39m, \u001b[38;5;28;01mNone\u001b[39;00m))\n\u001b[0;32m    432\u001b[0m     \u001b[38;5;28;01mreturn\u001b[39;00m response\n",
      "File \u001b[1;32m~\\anaconda3\\lib\\site-packages\\selenium\\webdriver\\remote\\errorhandler.py:243\u001b[0m, in \u001b[0;36mErrorHandler.check_response\u001b[1;34m(self, response)\u001b[0m\n\u001b[0;32m    241\u001b[0m         alert_text \u001b[38;5;241m=\u001b[39m value[\u001b[38;5;124m'\u001b[39m\u001b[38;5;124malert\u001b[39m\u001b[38;5;124m'\u001b[39m]\u001b[38;5;241m.\u001b[39mget(\u001b[38;5;124m'\u001b[39m\u001b[38;5;124mtext\u001b[39m\u001b[38;5;124m'\u001b[39m)\n\u001b[0;32m    242\u001b[0m     \u001b[38;5;28;01mraise\u001b[39;00m exception_class(message, screen, stacktrace, alert_text)  \u001b[38;5;66;03m# type: ignore[call-arg]  # mypy is not smart enough here\u001b[39;00m\n\u001b[1;32m--> 243\u001b[0m \u001b[38;5;28;01mraise\u001b[39;00m exception_class(message, screen, stacktrace)\n",
      "\u001b[1;31mElementClickInterceptedException\u001b[0m: Message: element click intercepted: Element <i data-v-2e225c62=\"\" aria-hidden=\"true\" aria-labelledby=\"icon-core-chevron-right-aria-label\" aria-describedby=\"icon-core-chevron-right-aria-description\" class=\"core-icon icon-core-chevron-right\">...</i> is not clickable at point (565, 251). Other element would receive the click: <div data-v-2e225c62=\"\" data-v-7a76a41b=\"\" class=\"pagination pagination\">...</div>\n  (Session info: chrome=107.0.5304.107)\nStacktrace:\nBacktrace:\n\tOrdinal0 [0x00CDACD3+2075859]\n\tOrdinal0 [0x00C6EE61+1633889]\n\tOrdinal0 [0x00B6B7BD+571325]\n\tOrdinal0 [0x00BA1499+791705]\n\tOrdinal0 [0x00B9F4AC+783532]\n\tOrdinal0 [0x00B9D0AB+774315]\n\tOrdinal0 [0x00B9BD37+769335]\n\tOrdinal0 [0x00B91C76+728182]\n\tOrdinal0 [0x00BB731C+881436]\n\tOrdinal0 [0x00B915BF+726463]\n\tOrdinal0 [0x00BB7534+881972]\n\tOrdinal0 [0x00BCB56A+963946]\n\tOrdinal0 [0x00BB7136+880950]\n\tOrdinal0 [0x00B8FEFD+720637]\n\tOrdinal0 [0x00B90F3F+724799]\n\tGetHandleVerifier [0x00F8EED2+2769538]\n\tGetHandleVerifier [0x00F80D95+2711877]\n\tGetHandleVerifier [0x00D6A03A+521194]\n\tGetHandleVerifier [0x00D68DA0+516432]\n\tOrdinal0 [0x00C7682C+1665068]\n\tOrdinal0 [0x00C7B128+1683752]\n\tOrdinal0 [0x00C7B215+1683989]\n\tOrdinal0 [0x00C86484+1729668]\n\tBaseThreadInitThunk [0x772D7BA9+25]\n\tRtlInitializeExceptionChain [0x77EBBB9B+107]\n\tRtlClearBits [0x77EBBB1F+191]\n"
     ]
    }
   ],
   "source": [
    "names = []\n",
    "\n",
    "start = 0\n",
    "end = 3\n",
    "\n",
    "for page in range(start,end):\n",
    "    name = driver.find_elements(By.XPATH,'//h2[@class=\"title title-6\"]')\n",
    "    for i in name:\n",
    "        names.append(i.text)\n",
    "        \n",
    "    next_button = driver.find_element(By.XPATH,'//i[@class=\"core-icon icon-core-chevron-right\"]')\n",
    "    next_button.click()\n",
    "    time.sleep(3)"
   ]
  },
  {
   "cell_type": "code",
   "execution_count": 15,
   "id": "10b01c55",
   "metadata": {},
   "outputs": [
    {
     "data": {
      "text/plain": [
       "66"
      ]
     },
     "execution_count": 15,
     "metadata": {},
     "output_type": "execute_result"
    }
   ],
   "source": [
    "len(names)"
   ]
  },
  {
   "cell_type": "code",
   "execution_count": 16,
   "id": "57300df5",
   "metadata": {},
   "outputs": [
    {
     "ename": "ElementClickInterceptedException",
     "evalue": "Message: element click intercepted: Element <i data-v-2e225c62=\"\" aria-hidden=\"true\" aria-labelledby=\"icon-core-chevron-right-aria-label\" aria-describedby=\"icon-core-chevron-right-aria-description\" class=\"core-icon icon-core-chevron-right\">...</i> is not clickable at point (565, 215). Other element would receive the click: <div data-v-2e225c62=\"\" data-v-7a76a41b=\"\" class=\"pagination pagination\">...</div>\n  (Session info: chrome=107.0.5304.107)\nStacktrace:\nBacktrace:\n\tOrdinal0 [0x00CDACD3+2075859]\n\tOrdinal0 [0x00C6EE61+1633889]\n\tOrdinal0 [0x00B6B7BD+571325]\n\tOrdinal0 [0x00BA1499+791705]\n\tOrdinal0 [0x00B9F4AC+783532]\n\tOrdinal0 [0x00B9D0AB+774315]\n\tOrdinal0 [0x00B9BD37+769335]\n\tOrdinal0 [0x00B91C76+728182]\n\tOrdinal0 [0x00BB731C+881436]\n\tOrdinal0 [0x00B915BF+726463]\n\tOrdinal0 [0x00BB7534+881972]\n\tOrdinal0 [0x00BCB56A+963946]\n\tOrdinal0 [0x00BB7136+880950]\n\tOrdinal0 [0x00B8FEFD+720637]\n\tOrdinal0 [0x00B90F3F+724799]\n\tGetHandleVerifier [0x00F8EED2+2769538]\n\tGetHandleVerifier [0x00F80D95+2711877]\n\tGetHandleVerifier [0x00D6A03A+521194]\n\tGetHandleVerifier [0x00D68DA0+516432]\n\tOrdinal0 [0x00C7682C+1665068]\n\tOrdinal0 [0x00C7B128+1683752]\n\tOrdinal0 [0x00C7B215+1683989]\n\tOrdinal0 [0x00C86484+1729668]\n\tBaseThreadInitThunk [0x772D7BA9+25]\n\tRtlInitializeExceptionChain [0x77EBBB9B+107]\n\tRtlClearBits [0x77EBBB1F+191]\n",
     "output_type": "error",
     "traceback": [
      "\u001b[1;31m---------------------------------------------------------------------------\u001b[0m",
      "\u001b[1;31mElementClickInterceptedException\u001b[0m          Traceback (most recent call last)",
      "Input \u001b[1;32mIn [16]\u001b[0m, in \u001b[0;36m<cell line: 6>\u001b[1;34m()\u001b[0m\n\u001b[0;32m      9\u001b[0m     distance\u001b[38;5;241m.\u001b[39mappend(i\u001b[38;5;241m.\u001b[39mtext)\n\u001b[0;32m     12\u001b[0m next_button \u001b[38;5;241m=\u001b[39m driver\u001b[38;5;241m.\u001b[39mfind_element(By\u001b[38;5;241m.\u001b[39mXPATH,\u001b[38;5;124m'\u001b[39m\u001b[38;5;124m//i[@class=\u001b[39m\u001b[38;5;124m\"\u001b[39m\u001b[38;5;124mcore-icon icon-core-chevron-right\u001b[39m\u001b[38;5;124m\"\u001b[39m\u001b[38;5;124m]\u001b[39m\u001b[38;5;124m'\u001b[39m)\n\u001b[1;32m---> 13\u001b[0m \u001b[43mnext_button\u001b[49m\u001b[38;5;241;43m.\u001b[39;49m\u001b[43mclick\u001b[49m\u001b[43m(\u001b[49m\u001b[43m)\u001b[49m\n\u001b[0;32m     14\u001b[0m time\u001b[38;5;241m.\u001b[39msleep(\u001b[38;5;241m3\u001b[39m)\n",
      "File \u001b[1;32m~\\anaconda3\\lib\\site-packages\\selenium\\webdriver\\remote\\webelement.py:88\u001b[0m, in \u001b[0;36mWebElement.click\u001b[1;34m(self)\u001b[0m\n\u001b[0;32m     86\u001b[0m \u001b[38;5;28;01mdef\u001b[39;00m \u001b[38;5;21mclick\u001b[39m(\u001b[38;5;28mself\u001b[39m) \u001b[38;5;241m-\u001b[39m\u001b[38;5;241m>\u001b[39m \u001b[38;5;28;01mNone\u001b[39;00m:\n\u001b[0;32m     87\u001b[0m     \u001b[38;5;124;03m\"\"\"Clicks the element.\"\"\"\u001b[39;00m\n\u001b[1;32m---> 88\u001b[0m     \u001b[38;5;28;43mself\u001b[39;49m\u001b[38;5;241;43m.\u001b[39;49m\u001b[43m_execute\u001b[49m\u001b[43m(\u001b[49m\u001b[43mCommand\u001b[49m\u001b[38;5;241;43m.\u001b[39;49m\u001b[43mCLICK_ELEMENT\u001b[49m\u001b[43m)\u001b[49m\n",
      "File \u001b[1;32m~\\anaconda3\\lib\\site-packages\\selenium\\webdriver\\remote\\webelement.py:396\u001b[0m, in \u001b[0;36mWebElement._execute\u001b[1;34m(self, command, params)\u001b[0m\n\u001b[0;32m    394\u001b[0m     params \u001b[38;5;241m=\u001b[39m {}\n\u001b[0;32m    395\u001b[0m params[\u001b[38;5;124m'\u001b[39m\u001b[38;5;124mid\u001b[39m\u001b[38;5;124m'\u001b[39m] \u001b[38;5;241m=\u001b[39m \u001b[38;5;28mself\u001b[39m\u001b[38;5;241m.\u001b[39m_id\n\u001b[1;32m--> 396\u001b[0m \u001b[38;5;28;01mreturn\u001b[39;00m \u001b[38;5;28;43mself\u001b[39;49m\u001b[38;5;241;43m.\u001b[39;49m\u001b[43m_parent\u001b[49m\u001b[38;5;241;43m.\u001b[39;49m\u001b[43mexecute\u001b[49m\u001b[43m(\u001b[49m\u001b[43mcommand\u001b[49m\u001b[43m,\u001b[49m\u001b[43m \u001b[49m\u001b[43mparams\u001b[49m\u001b[43m)\u001b[49m\n",
      "File \u001b[1;32m~\\anaconda3\\lib\\site-packages\\selenium\\webdriver\\remote\\webdriver.py:429\u001b[0m, in \u001b[0;36mWebDriver.execute\u001b[1;34m(self, driver_command, params)\u001b[0m\n\u001b[0;32m    427\u001b[0m response \u001b[38;5;241m=\u001b[39m \u001b[38;5;28mself\u001b[39m\u001b[38;5;241m.\u001b[39mcommand_executor\u001b[38;5;241m.\u001b[39mexecute(driver_command, params)\n\u001b[0;32m    428\u001b[0m \u001b[38;5;28;01mif\u001b[39;00m response:\n\u001b[1;32m--> 429\u001b[0m     \u001b[38;5;28;43mself\u001b[39;49m\u001b[38;5;241;43m.\u001b[39;49m\u001b[43merror_handler\u001b[49m\u001b[38;5;241;43m.\u001b[39;49m\u001b[43mcheck_response\u001b[49m\u001b[43m(\u001b[49m\u001b[43mresponse\u001b[49m\u001b[43m)\u001b[49m\n\u001b[0;32m    430\u001b[0m     response[\u001b[38;5;124m'\u001b[39m\u001b[38;5;124mvalue\u001b[39m\u001b[38;5;124m'\u001b[39m] \u001b[38;5;241m=\u001b[39m \u001b[38;5;28mself\u001b[39m\u001b[38;5;241m.\u001b[39m_unwrap_value(\n\u001b[0;32m    431\u001b[0m         response\u001b[38;5;241m.\u001b[39mget(\u001b[38;5;124m'\u001b[39m\u001b[38;5;124mvalue\u001b[39m\u001b[38;5;124m'\u001b[39m, \u001b[38;5;28;01mNone\u001b[39;00m))\n\u001b[0;32m    432\u001b[0m     \u001b[38;5;28;01mreturn\u001b[39;00m response\n",
      "File \u001b[1;32m~\\anaconda3\\lib\\site-packages\\selenium\\webdriver\\remote\\errorhandler.py:243\u001b[0m, in \u001b[0;36mErrorHandler.check_response\u001b[1;34m(self, response)\u001b[0m\n\u001b[0;32m    241\u001b[0m         alert_text \u001b[38;5;241m=\u001b[39m value[\u001b[38;5;124m'\u001b[39m\u001b[38;5;124malert\u001b[39m\u001b[38;5;124m'\u001b[39m]\u001b[38;5;241m.\u001b[39mget(\u001b[38;5;124m'\u001b[39m\u001b[38;5;124mtext\u001b[39m\u001b[38;5;124m'\u001b[39m)\n\u001b[0;32m    242\u001b[0m     \u001b[38;5;28;01mraise\u001b[39;00m exception_class(message, screen, stacktrace, alert_text)  \u001b[38;5;66;03m# type: ignore[call-arg]  # mypy is not smart enough here\u001b[39;00m\n\u001b[1;32m--> 243\u001b[0m \u001b[38;5;28;01mraise\u001b[39;00m exception_class(message, screen, stacktrace)\n",
      "\u001b[1;31mElementClickInterceptedException\u001b[0m: Message: element click intercepted: Element <i data-v-2e225c62=\"\" aria-hidden=\"true\" aria-labelledby=\"icon-core-chevron-right-aria-label\" aria-describedby=\"icon-core-chevron-right-aria-description\" class=\"core-icon icon-core-chevron-right\">...</i> is not clickable at point (565, 215). Other element would receive the click: <div data-v-2e225c62=\"\" data-v-7a76a41b=\"\" class=\"pagination pagination\">...</div>\n  (Session info: chrome=107.0.5304.107)\nStacktrace:\nBacktrace:\n\tOrdinal0 [0x00CDACD3+2075859]\n\tOrdinal0 [0x00C6EE61+1633889]\n\tOrdinal0 [0x00B6B7BD+571325]\n\tOrdinal0 [0x00BA1499+791705]\n\tOrdinal0 [0x00B9F4AC+783532]\n\tOrdinal0 [0x00B9D0AB+774315]\n\tOrdinal0 [0x00B9BD37+769335]\n\tOrdinal0 [0x00B91C76+728182]\n\tOrdinal0 [0x00BB731C+881436]\n\tOrdinal0 [0x00B915BF+726463]\n\tOrdinal0 [0x00BB7534+881972]\n\tOrdinal0 [0x00BCB56A+963946]\n\tOrdinal0 [0x00BB7136+880950]\n\tOrdinal0 [0x00B8FEFD+720637]\n\tOrdinal0 [0x00B90F3F+724799]\n\tGetHandleVerifier [0x00F8EED2+2769538]\n\tGetHandleVerifier [0x00F80D95+2711877]\n\tGetHandleVerifier [0x00D6A03A+521194]\n\tGetHandleVerifier [0x00D68DA0+516432]\n\tOrdinal0 [0x00C7682C+1665068]\n\tOrdinal0 [0x00C7B128+1683752]\n\tOrdinal0 [0x00C7B215+1683989]\n\tOrdinal0 [0x00C86484+1729668]\n\tBaseThreadInitThunk [0x772D7BA9+25]\n\tRtlInitializeExceptionChain [0x77EBBB9B+107]\n\tRtlClearBits [0x77EBBB1F+191]\n"
     ]
    }
   ],
   "source": [
    "distance = []\n",
    "\n",
    "start = 0\n",
    "end = 3\n",
    "\n",
    "for page in range(start,end):\n",
    "    dis = driver.find_elements(By.XPATH,'//span[@class=\"description\"]')\n",
    "    for i in dis:\n",
    "        distance.append(i.text)\n",
    "        \n",
    "        \n",
    "    next_button = driver.find_element(By.XPATH,'//i[@class=\"core-icon icon-core-chevron-right\"]')\n",
    "    next_button.click()\n",
    "    time.sleep(3)"
   ]
  },
  {
   "cell_type": "code",
   "execution_count": 17,
   "id": "88c958de",
   "metadata": {},
   "outputs": [
    {
     "data": {
      "text/plain": [
       "66"
      ]
     },
     "execution_count": 17,
     "metadata": {},
     "output_type": "execute_result"
    }
   ],
   "source": [
    "len(distance)"
   ]
  },
  {
   "cell_type": "code",
   "execution_count": 26,
   "id": "d46f54eb",
   "metadata": {},
   "outputs": [
    {
     "ename": "ElementClickInterceptedException",
     "evalue": "Message: element click intercepted: Element <i data-v-2e225c62=\"\" aria-hidden=\"true\" aria-labelledby=\"icon-core-chevron-right-aria-label\" aria-describedby=\"icon-core-chevron-right-aria-description\" class=\"core-icon icon-core-chevron-right\">...</i> is not clickable at point (565, 369). Other element would receive the click: <div data-v-2e225c62=\"\" data-v-7a76a41b=\"\" class=\"pagination pagination\">...</div>\n  (Session info: chrome=107.0.5304.107)\nStacktrace:\nBacktrace:\n\tOrdinal0 [0x00CDACD3+2075859]\n\tOrdinal0 [0x00C6EE61+1633889]\n\tOrdinal0 [0x00B6B7BD+571325]\n\tOrdinal0 [0x00BA1499+791705]\n\tOrdinal0 [0x00B9F4AC+783532]\n\tOrdinal0 [0x00B9D0AB+774315]\n\tOrdinal0 [0x00B9BD37+769335]\n\tOrdinal0 [0x00B91C76+728182]\n\tOrdinal0 [0x00BB731C+881436]\n\tOrdinal0 [0x00B915BF+726463]\n\tOrdinal0 [0x00BB7534+881972]\n\tOrdinal0 [0x00BCB56A+963946]\n\tOrdinal0 [0x00BB7136+880950]\n\tOrdinal0 [0x00B8FEFD+720637]\n\tOrdinal0 [0x00B90F3F+724799]\n\tGetHandleVerifier [0x00F8EED2+2769538]\n\tGetHandleVerifier [0x00F80D95+2711877]\n\tGetHandleVerifier [0x00D6A03A+521194]\n\tGetHandleVerifier [0x00D68DA0+516432]\n\tOrdinal0 [0x00C7682C+1665068]\n\tOrdinal0 [0x00C7B128+1683752]\n\tOrdinal0 [0x00C7B215+1683989]\n\tOrdinal0 [0x00C86484+1729668]\n\tBaseThreadInitThunk [0x772D7BA9+25]\n\tRtlInitializeExceptionChain [0x77EBBB9B+107]\n\tRtlClearBits [0x77EBBB1F+191]\n",
     "output_type": "error",
     "traceback": [
      "\u001b[1;31m---------------------------------------------------------------------------\u001b[0m",
      "\u001b[1;31mElementClickInterceptedException\u001b[0m          Traceback (most recent call last)",
      "Input \u001b[1;32mIn [26]\u001b[0m, in \u001b[0;36m<cell line: 6>\u001b[1;34m()\u001b[0m\n\u001b[0;32m      9\u001b[0m     rating\u001b[38;5;241m.\u001b[39mappend(i\u001b[38;5;241m.\u001b[39mtext)\n\u001b[0;32m     11\u001b[0m next_button \u001b[38;5;241m=\u001b[39m driver\u001b[38;5;241m.\u001b[39mfind_element(By\u001b[38;5;241m.\u001b[39mXPATH,\u001b[38;5;124m'\u001b[39m\u001b[38;5;124m//i[@class=\u001b[39m\u001b[38;5;124m\"\u001b[39m\u001b[38;5;124mcore-icon icon-core-chevron-right\u001b[39m\u001b[38;5;124m\"\u001b[39m\u001b[38;5;124m]\u001b[39m\u001b[38;5;124m'\u001b[39m)\n\u001b[1;32m---> 12\u001b[0m \u001b[43mnext_button\u001b[49m\u001b[38;5;241;43m.\u001b[39;49m\u001b[43mclick\u001b[49m\u001b[43m(\u001b[49m\u001b[43m)\u001b[49m\n\u001b[0;32m     13\u001b[0m time\u001b[38;5;241m.\u001b[39msleep(\u001b[38;5;241m3\u001b[39m)\n",
      "File \u001b[1;32m~\\anaconda3\\lib\\site-packages\\selenium\\webdriver\\remote\\webelement.py:88\u001b[0m, in \u001b[0;36mWebElement.click\u001b[1;34m(self)\u001b[0m\n\u001b[0;32m     86\u001b[0m \u001b[38;5;28;01mdef\u001b[39;00m \u001b[38;5;21mclick\u001b[39m(\u001b[38;5;28mself\u001b[39m) \u001b[38;5;241m-\u001b[39m\u001b[38;5;241m>\u001b[39m \u001b[38;5;28;01mNone\u001b[39;00m:\n\u001b[0;32m     87\u001b[0m     \u001b[38;5;124;03m\"\"\"Clicks the element.\"\"\"\u001b[39;00m\n\u001b[1;32m---> 88\u001b[0m     \u001b[38;5;28;43mself\u001b[39;49m\u001b[38;5;241;43m.\u001b[39;49m\u001b[43m_execute\u001b[49m\u001b[43m(\u001b[49m\u001b[43mCommand\u001b[49m\u001b[38;5;241;43m.\u001b[39;49m\u001b[43mCLICK_ELEMENT\u001b[49m\u001b[43m)\u001b[49m\n",
      "File \u001b[1;32m~\\anaconda3\\lib\\site-packages\\selenium\\webdriver\\remote\\webelement.py:396\u001b[0m, in \u001b[0;36mWebElement._execute\u001b[1;34m(self, command, params)\u001b[0m\n\u001b[0;32m    394\u001b[0m     params \u001b[38;5;241m=\u001b[39m {}\n\u001b[0;32m    395\u001b[0m params[\u001b[38;5;124m'\u001b[39m\u001b[38;5;124mid\u001b[39m\u001b[38;5;124m'\u001b[39m] \u001b[38;5;241m=\u001b[39m \u001b[38;5;28mself\u001b[39m\u001b[38;5;241m.\u001b[39m_id\n\u001b[1;32m--> 396\u001b[0m \u001b[38;5;28;01mreturn\u001b[39;00m \u001b[38;5;28;43mself\u001b[39;49m\u001b[38;5;241;43m.\u001b[39;49m\u001b[43m_parent\u001b[49m\u001b[38;5;241;43m.\u001b[39;49m\u001b[43mexecute\u001b[49m\u001b[43m(\u001b[49m\u001b[43mcommand\u001b[49m\u001b[43m,\u001b[49m\u001b[43m \u001b[49m\u001b[43mparams\u001b[49m\u001b[43m)\u001b[49m\n",
      "File \u001b[1;32m~\\anaconda3\\lib\\site-packages\\selenium\\webdriver\\remote\\webdriver.py:429\u001b[0m, in \u001b[0;36mWebDriver.execute\u001b[1;34m(self, driver_command, params)\u001b[0m\n\u001b[0;32m    427\u001b[0m response \u001b[38;5;241m=\u001b[39m \u001b[38;5;28mself\u001b[39m\u001b[38;5;241m.\u001b[39mcommand_executor\u001b[38;5;241m.\u001b[39mexecute(driver_command, params)\n\u001b[0;32m    428\u001b[0m \u001b[38;5;28;01mif\u001b[39;00m response:\n\u001b[1;32m--> 429\u001b[0m     \u001b[38;5;28;43mself\u001b[39;49m\u001b[38;5;241;43m.\u001b[39;49m\u001b[43merror_handler\u001b[49m\u001b[38;5;241;43m.\u001b[39;49m\u001b[43mcheck_response\u001b[49m\u001b[43m(\u001b[49m\u001b[43mresponse\u001b[49m\u001b[43m)\u001b[49m\n\u001b[0;32m    430\u001b[0m     response[\u001b[38;5;124m'\u001b[39m\u001b[38;5;124mvalue\u001b[39m\u001b[38;5;124m'\u001b[39m] \u001b[38;5;241m=\u001b[39m \u001b[38;5;28mself\u001b[39m\u001b[38;5;241m.\u001b[39m_unwrap_value(\n\u001b[0;32m    431\u001b[0m         response\u001b[38;5;241m.\u001b[39mget(\u001b[38;5;124m'\u001b[39m\u001b[38;5;124mvalue\u001b[39m\u001b[38;5;124m'\u001b[39m, \u001b[38;5;28;01mNone\u001b[39;00m))\n\u001b[0;32m    432\u001b[0m     \u001b[38;5;28;01mreturn\u001b[39;00m response\n",
      "File \u001b[1;32m~\\anaconda3\\lib\\site-packages\\selenium\\webdriver\\remote\\errorhandler.py:243\u001b[0m, in \u001b[0;36mErrorHandler.check_response\u001b[1;34m(self, response)\u001b[0m\n\u001b[0;32m    241\u001b[0m         alert_text \u001b[38;5;241m=\u001b[39m value[\u001b[38;5;124m'\u001b[39m\u001b[38;5;124malert\u001b[39m\u001b[38;5;124m'\u001b[39m]\u001b[38;5;241m.\u001b[39mget(\u001b[38;5;124m'\u001b[39m\u001b[38;5;124mtext\u001b[39m\u001b[38;5;124m'\u001b[39m)\n\u001b[0;32m    242\u001b[0m     \u001b[38;5;28;01mraise\u001b[39;00m exception_class(message, screen, stacktrace, alert_text)  \u001b[38;5;66;03m# type: ignore[call-arg]  # mypy is not smart enough here\u001b[39;00m\n\u001b[1;32m--> 243\u001b[0m \u001b[38;5;28;01mraise\u001b[39;00m exception_class(message, screen, stacktrace)\n",
      "\u001b[1;31mElementClickInterceptedException\u001b[0m: Message: element click intercepted: Element <i data-v-2e225c62=\"\" aria-hidden=\"true\" aria-labelledby=\"icon-core-chevron-right-aria-label\" aria-describedby=\"icon-core-chevron-right-aria-description\" class=\"core-icon icon-core-chevron-right\">...</i> is not clickable at point (565, 369). Other element would receive the click: <div data-v-2e225c62=\"\" data-v-7a76a41b=\"\" class=\"pagination pagination\">...</div>\n  (Session info: chrome=107.0.5304.107)\nStacktrace:\nBacktrace:\n\tOrdinal0 [0x00CDACD3+2075859]\n\tOrdinal0 [0x00C6EE61+1633889]\n\tOrdinal0 [0x00B6B7BD+571325]\n\tOrdinal0 [0x00BA1499+791705]\n\tOrdinal0 [0x00B9F4AC+783532]\n\tOrdinal0 [0x00B9D0AB+774315]\n\tOrdinal0 [0x00B9BD37+769335]\n\tOrdinal0 [0x00B91C76+728182]\n\tOrdinal0 [0x00BB731C+881436]\n\tOrdinal0 [0x00B915BF+726463]\n\tOrdinal0 [0x00BB7534+881972]\n\tOrdinal0 [0x00BCB56A+963946]\n\tOrdinal0 [0x00BB7136+880950]\n\tOrdinal0 [0x00B8FEFD+720637]\n\tOrdinal0 [0x00B90F3F+724799]\n\tGetHandleVerifier [0x00F8EED2+2769538]\n\tGetHandleVerifier [0x00F80D95+2711877]\n\tGetHandleVerifier [0x00D6A03A+521194]\n\tGetHandleVerifier [0x00D68DA0+516432]\n\tOrdinal0 [0x00C7682C+1665068]\n\tOrdinal0 [0x00C7B128+1683752]\n\tOrdinal0 [0x00C7B215+1683989]\n\tOrdinal0 [0x00C86484+1729668]\n\tBaseThreadInitThunk [0x772D7BA9+25]\n\tRtlInitializeExceptionChain [0x77EBBB9B+107]\n\tRtlClearBits [0x77EBBB1F+191]\n"
     ]
    }
   ],
   "source": [
    "rating = []\n",
    "\n",
    "start = 0\n",
    "end = 3\n",
    "\n",
    "for page in range(start,end):\n",
    "    rt = driver.find_elements(By.XPATH,'//div[@class=\"score orange big\"]')\n",
    "    for i in rt:\n",
    "        rating.append(i.text)\n",
    "        \n",
    "    next_button = driver.find_element(By.XPATH,'//i[@class=\"core-icon icon-core-chevron-right\"]')\n",
    "    next_button.click()\n",
    "    time.sleep(3)"
   ]
  },
  {
   "cell_type": "code",
   "execution_count": 27,
   "id": "e98efe94",
   "metadata": {},
   "outputs": [
    {
     "data": {
      "text/plain": [
       "51"
      ]
     },
     "execution_count": 27,
     "metadata": {},
     "output_type": "execute_result"
    }
   ],
   "source": [
    "len(rating)"
   ]
  },
  {
   "cell_type": "code",
   "execution_count": 32,
   "id": "0629b1a4",
   "metadata": {},
   "outputs": [
    {
     "ename": "ElementClickInterceptedException",
     "evalue": "Message: element click intercepted: Element <i data-v-2e225c62=\"\" aria-hidden=\"true\" aria-labelledby=\"icon-core-chevron-right-aria-label\" aria-describedby=\"icon-core-chevron-right-aria-description\" class=\"core-icon icon-core-chevron-right\">...</i> is not clickable at point (565, 444). Other element would receive the click: <div data-v-2e225c62=\"\" data-v-7a76a41b=\"\" class=\"pagination pagination\">...</div>\n  (Session info: chrome=107.0.5304.107)\nStacktrace:\nBacktrace:\n\tOrdinal0 [0x00CDACD3+2075859]\n\tOrdinal0 [0x00C6EE61+1633889]\n\tOrdinal0 [0x00B6B7BD+571325]\n\tOrdinal0 [0x00BA1499+791705]\n\tOrdinal0 [0x00B9F4AC+783532]\n\tOrdinal0 [0x00B9D0AB+774315]\n\tOrdinal0 [0x00B9BD37+769335]\n\tOrdinal0 [0x00B91C76+728182]\n\tOrdinal0 [0x00BB731C+881436]\n\tOrdinal0 [0x00B915BF+726463]\n\tOrdinal0 [0x00BB7534+881972]\n\tOrdinal0 [0x00BCB56A+963946]\n\tOrdinal0 [0x00BB7136+880950]\n\tOrdinal0 [0x00B8FEFD+720637]\n\tOrdinal0 [0x00B90F3F+724799]\n\tGetHandleVerifier [0x00F8EED2+2769538]\n\tGetHandleVerifier [0x00F80D95+2711877]\n\tGetHandleVerifier [0x00D6A03A+521194]\n\tGetHandleVerifier [0x00D68DA0+516432]\n\tOrdinal0 [0x00C7682C+1665068]\n\tOrdinal0 [0x00C7B128+1683752]\n\tOrdinal0 [0x00C7B215+1683989]\n\tOrdinal0 [0x00C86484+1729668]\n\tBaseThreadInitThunk [0x772D7BA9+25]\n\tRtlInitializeExceptionChain [0x77EBBB9B+107]\n\tRtlClearBits [0x77EBBB1F+191]\n",
     "output_type": "error",
     "traceback": [
      "\u001b[1;31m---------------------------------------------------------------------------\u001b[0m",
      "\u001b[1;31mElementClickInterceptedException\u001b[0m          Traceback (most recent call last)",
      "Input \u001b[1;32mIn [32]\u001b[0m, in \u001b[0;36m<cell line: 6>\u001b[1;34m()\u001b[0m\n\u001b[0;32m      9\u001b[0m     tr\u001b[38;5;241m.\u001b[39mappend(i\u001b[38;5;241m.\u001b[39mtext)\n\u001b[0;32m     11\u001b[0m next_button \u001b[38;5;241m=\u001b[39m driver\u001b[38;5;241m.\u001b[39mfind_element(By\u001b[38;5;241m.\u001b[39mXPATH,\u001b[38;5;124m'\u001b[39m\u001b[38;5;124m//i[@class=\u001b[39m\u001b[38;5;124m\"\u001b[39m\u001b[38;5;124mcore-icon icon-core-chevron-right\u001b[39m\u001b[38;5;124m\"\u001b[39m\u001b[38;5;124m]\u001b[39m\u001b[38;5;124m'\u001b[39m)\n\u001b[1;32m---> 12\u001b[0m \u001b[43mnext_button\u001b[49m\u001b[38;5;241;43m.\u001b[39;49m\u001b[43mclick\u001b[49m\u001b[43m(\u001b[49m\u001b[43m)\u001b[49m\n\u001b[0;32m     13\u001b[0m time\u001b[38;5;241m.\u001b[39msleep(\u001b[38;5;241m3\u001b[39m)\n",
      "File \u001b[1;32m~\\anaconda3\\lib\\site-packages\\selenium\\webdriver\\remote\\webelement.py:88\u001b[0m, in \u001b[0;36mWebElement.click\u001b[1;34m(self)\u001b[0m\n\u001b[0;32m     86\u001b[0m \u001b[38;5;28;01mdef\u001b[39;00m \u001b[38;5;21mclick\u001b[39m(\u001b[38;5;28mself\u001b[39m) \u001b[38;5;241m-\u001b[39m\u001b[38;5;241m>\u001b[39m \u001b[38;5;28;01mNone\u001b[39;00m:\n\u001b[0;32m     87\u001b[0m     \u001b[38;5;124;03m\"\"\"Clicks the element.\"\"\"\u001b[39;00m\n\u001b[1;32m---> 88\u001b[0m     \u001b[38;5;28;43mself\u001b[39;49m\u001b[38;5;241;43m.\u001b[39;49m\u001b[43m_execute\u001b[49m\u001b[43m(\u001b[49m\u001b[43mCommand\u001b[49m\u001b[38;5;241;43m.\u001b[39;49m\u001b[43mCLICK_ELEMENT\u001b[49m\u001b[43m)\u001b[49m\n",
      "File \u001b[1;32m~\\anaconda3\\lib\\site-packages\\selenium\\webdriver\\remote\\webelement.py:396\u001b[0m, in \u001b[0;36mWebElement._execute\u001b[1;34m(self, command, params)\u001b[0m\n\u001b[0;32m    394\u001b[0m     params \u001b[38;5;241m=\u001b[39m {}\n\u001b[0;32m    395\u001b[0m params[\u001b[38;5;124m'\u001b[39m\u001b[38;5;124mid\u001b[39m\u001b[38;5;124m'\u001b[39m] \u001b[38;5;241m=\u001b[39m \u001b[38;5;28mself\u001b[39m\u001b[38;5;241m.\u001b[39m_id\n\u001b[1;32m--> 396\u001b[0m \u001b[38;5;28;01mreturn\u001b[39;00m \u001b[38;5;28;43mself\u001b[39;49m\u001b[38;5;241;43m.\u001b[39;49m\u001b[43m_parent\u001b[49m\u001b[38;5;241;43m.\u001b[39;49m\u001b[43mexecute\u001b[49m\u001b[43m(\u001b[49m\u001b[43mcommand\u001b[49m\u001b[43m,\u001b[49m\u001b[43m \u001b[49m\u001b[43mparams\u001b[49m\u001b[43m)\u001b[49m\n",
      "File \u001b[1;32m~\\anaconda3\\lib\\site-packages\\selenium\\webdriver\\remote\\webdriver.py:429\u001b[0m, in \u001b[0;36mWebDriver.execute\u001b[1;34m(self, driver_command, params)\u001b[0m\n\u001b[0;32m    427\u001b[0m response \u001b[38;5;241m=\u001b[39m \u001b[38;5;28mself\u001b[39m\u001b[38;5;241m.\u001b[39mcommand_executor\u001b[38;5;241m.\u001b[39mexecute(driver_command, params)\n\u001b[0;32m    428\u001b[0m \u001b[38;5;28;01mif\u001b[39;00m response:\n\u001b[1;32m--> 429\u001b[0m     \u001b[38;5;28;43mself\u001b[39;49m\u001b[38;5;241;43m.\u001b[39;49m\u001b[43merror_handler\u001b[49m\u001b[38;5;241;43m.\u001b[39;49m\u001b[43mcheck_response\u001b[49m\u001b[43m(\u001b[49m\u001b[43mresponse\u001b[49m\u001b[43m)\u001b[49m\n\u001b[0;32m    430\u001b[0m     response[\u001b[38;5;124m'\u001b[39m\u001b[38;5;124mvalue\u001b[39m\u001b[38;5;124m'\u001b[39m] \u001b[38;5;241m=\u001b[39m \u001b[38;5;28mself\u001b[39m\u001b[38;5;241m.\u001b[39m_unwrap_value(\n\u001b[0;32m    431\u001b[0m         response\u001b[38;5;241m.\u001b[39mget(\u001b[38;5;124m'\u001b[39m\u001b[38;5;124mvalue\u001b[39m\u001b[38;5;124m'\u001b[39m, \u001b[38;5;28;01mNone\u001b[39;00m))\n\u001b[0;32m    432\u001b[0m     \u001b[38;5;28;01mreturn\u001b[39;00m response\n",
      "File \u001b[1;32m~\\anaconda3\\lib\\site-packages\\selenium\\webdriver\\remote\\errorhandler.py:243\u001b[0m, in \u001b[0;36mErrorHandler.check_response\u001b[1;34m(self, response)\u001b[0m\n\u001b[0;32m    241\u001b[0m         alert_text \u001b[38;5;241m=\u001b[39m value[\u001b[38;5;124m'\u001b[39m\u001b[38;5;124malert\u001b[39m\u001b[38;5;124m'\u001b[39m]\u001b[38;5;241m.\u001b[39mget(\u001b[38;5;124m'\u001b[39m\u001b[38;5;124mtext\u001b[39m\u001b[38;5;124m'\u001b[39m)\n\u001b[0;32m    242\u001b[0m     \u001b[38;5;28;01mraise\u001b[39;00m exception_class(message, screen, stacktrace, alert_text)  \u001b[38;5;66;03m# type: ignore[call-arg]  # mypy is not smart enough here\u001b[39;00m\n\u001b[1;32m--> 243\u001b[0m \u001b[38;5;28;01mraise\u001b[39;00m exception_class(message, screen, stacktrace)\n",
      "\u001b[1;31mElementClickInterceptedException\u001b[0m: Message: element click intercepted: Element <i data-v-2e225c62=\"\" aria-hidden=\"true\" aria-labelledby=\"icon-core-chevron-right-aria-label\" aria-describedby=\"icon-core-chevron-right-aria-description\" class=\"core-icon icon-core-chevron-right\">...</i> is not clickable at point (565, 444). Other element would receive the click: <div data-v-2e225c62=\"\" data-v-7a76a41b=\"\" class=\"pagination pagination\">...</div>\n  (Session info: chrome=107.0.5304.107)\nStacktrace:\nBacktrace:\n\tOrdinal0 [0x00CDACD3+2075859]\n\tOrdinal0 [0x00C6EE61+1633889]\n\tOrdinal0 [0x00B6B7BD+571325]\n\tOrdinal0 [0x00BA1499+791705]\n\tOrdinal0 [0x00B9F4AC+783532]\n\tOrdinal0 [0x00B9D0AB+774315]\n\tOrdinal0 [0x00B9BD37+769335]\n\tOrdinal0 [0x00B91C76+728182]\n\tOrdinal0 [0x00BB731C+881436]\n\tOrdinal0 [0x00B915BF+726463]\n\tOrdinal0 [0x00BB7534+881972]\n\tOrdinal0 [0x00BCB56A+963946]\n\tOrdinal0 [0x00BB7136+880950]\n\tOrdinal0 [0x00B8FEFD+720637]\n\tOrdinal0 [0x00B90F3F+724799]\n\tGetHandleVerifier [0x00F8EED2+2769538]\n\tGetHandleVerifier [0x00F80D95+2711877]\n\tGetHandleVerifier [0x00D6A03A+521194]\n\tGetHandleVerifier [0x00D68DA0+516432]\n\tOrdinal0 [0x00C7682C+1665068]\n\tOrdinal0 [0x00C7B128+1683752]\n\tOrdinal0 [0x00C7B215+1683989]\n\tOrdinal0 [0x00C86484+1729668]\n\tBaseThreadInitThunk [0x772D7BA9+25]\n\tRtlInitializeExceptionChain [0x77EBBB9B+107]\n\tRtlClearBits [0x77EBBB1F+191]\n"
     ]
    }
   ],
   "source": [
    "tr = []\n",
    "\n",
    "start = 0\n",
    "end = 3\n",
    "\n",
    "for page in range(start,end):\n",
    "    rev = driver.find_elements(By.XPATH,'//div[@class=\"reviews\"]')\n",
    "    for i in rev:\n",
    "        tr.append(i.text)\n",
    "        \n",
    "    next_button = driver.find_element(By.XPATH,'//i[@class=\"core-icon icon-core-chevron-right\"]')\n",
    "    next_button.click()\n",
    "    time.sleep(3)"
   ]
  },
  {
   "cell_type": "code",
   "execution_count": 33,
   "id": "904549e8",
   "metadata": {},
   "outputs": [
    {
     "data": {
      "text/plain": [
       "66"
      ]
     },
     "execution_count": 33,
     "metadata": {},
     "output_type": "execute_result"
    }
   ],
   "source": [
    "len(tr)"
   ]
  },
  {
   "cell_type": "code",
   "execution_count": null,
   "id": "f4faab90",
   "metadata": {},
   "outputs": [],
   "source": []
  },
  {
   "cell_type": "code",
   "execution_count": 36,
   "id": "cda3687e",
   "metadata": {},
   "outputs": [
    {
     "ename": "ElementClickInterceptedException",
     "evalue": "Message: element click intercepted: Element <i data-v-2e225c62=\"\" aria-hidden=\"true\" aria-labelledby=\"icon-core-chevron-right-aria-label\" aria-describedby=\"icon-core-chevron-right-aria-description\" class=\"core-icon icon-core-chevron-right\">...</i> is not clickable at point (565, 215). Other element would receive the click: <div data-v-2e225c62=\"\" data-v-7a76a41b=\"\" class=\"pagination pagination\">...</div>\n  (Session info: chrome=107.0.5304.107)\nStacktrace:\nBacktrace:\n\tOrdinal0 [0x00CDACD3+2075859]\n\tOrdinal0 [0x00C6EE61+1633889]\n\tOrdinal0 [0x00B6B7BD+571325]\n\tOrdinal0 [0x00BA1499+791705]\n\tOrdinal0 [0x00B9F4AC+783532]\n\tOrdinal0 [0x00B9D0AB+774315]\n\tOrdinal0 [0x00B9BD37+769335]\n\tOrdinal0 [0x00B91C76+728182]\n\tOrdinal0 [0x00BB731C+881436]\n\tOrdinal0 [0x00B915BF+726463]\n\tOrdinal0 [0x00BB7534+881972]\n\tOrdinal0 [0x00BCB56A+963946]\n\tOrdinal0 [0x00BB7136+880950]\n\tOrdinal0 [0x00B8FEFD+720637]\n\tOrdinal0 [0x00B90F3F+724799]\n\tGetHandleVerifier [0x00F8EED2+2769538]\n\tGetHandleVerifier [0x00F80D95+2711877]\n\tGetHandleVerifier [0x00D6A03A+521194]\n\tGetHandleVerifier [0x00D68DA0+516432]\n\tOrdinal0 [0x00C7682C+1665068]\n\tOrdinal0 [0x00C7B128+1683752]\n\tOrdinal0 [0x00C7B215+1683989]\n\tOrdinal0 [0x00C86484+1729668]\n\tBaseThreadInitThunk [0x772D7BA9+25]\n\tRtlInitializeExceptionChain [0x77EBBB9B+107]\n\tRtlClearBits [0x77EBBB1F+191]\n",
     "output_type": "error",
     "traceback": [
      "\u001b[1;31m---------------------------------------------------------------------------\u001b[0m",
      "\u001b[1;31mElementClickInterceptedException\u001b[0m          Traceback (most recent call last)",
      "Input \u001b[1;32mIn [36]\u001b[0m, in \u001b[0;36m<cell line: 6>\u001b[1;34m()\u001b[0m\n\u001b[0;32m      9\u001b[0m     overall\u001b[38;5;241m.\u001b[39mappend(i\u001b[38;5;241m.\u001b[39mtext)\n\u001b[0;32m     11\u001b[0m next_button \u001b[38;5;241m=\u001b[39m driver\u001b[38;5;241m.\u001b[39mfind_element(By\u001b[38;5;241m.\u001b[39mXPATH,\u001b[38;5;124m'\u001b[39m\u001b[38;5;124m//i[@class=\u001b[39m\u001b[38;5;124m\"\u001b[39m\u001b[38;5;124mcore-icon icon-core-chevron-right\u001b[39m\u001b[38;5;124m\"\u001b[39m\u001b[38;5;124m]\u001b[39m\u001b[38;5;124m'\u001b[39m)\n\u001b[1;32m---> 12\u001b[0m \u001b[43mnext_button\u001b[49m\u001b[38;5;241;43m.\u001b[39;49m\u001b[43mclick\u001b[49m\u001b[43m(\u001b[49m\u001b[43m)\u001b[49m\n\u001b[0;32m     13\u001b[0m time\u001b[38;5;241m.\u001b[39msleep(\u001b[38;5;241m3\u001b[39m)\n",
      "File \u001b[1;32m~\\anaconda3\\lib\\site-packages\\selenium\\webdriver\\remote\\webelement.py:88\u001b[0m, in \u001b[0;36mWebElement.click\u001b[1;34m(self)\u001b[0m\n\u001b[0;32m     86\u001b[0m \u001b[38;5;28;01mdef\u001b[39;00m \u001b[38;5;21mclick\u001b[39m(\u001b[38;5;28mself\u001b[39m) \u001b[38;5;241m-\u001b[39m\u001b[38;5;241m>\u001b[39m \u001b[38;5;28;01mNone\u001b[39;00m:\n\u001b[0;32m     87\u001b[0m     \u001b[38;5;124;03m\"\"\"Clicks the element.\"\"\"\u001b[39;00m\n\u001b[1;32m---> 88\u001b[0m     \u001b[38;5;28;43mself\u001b[39;49m\u001b[38;5;241;43m.\u001b[39;49m\u001b[43m_execute\u001b[49m\u001b[43m(\u001b[49m\u001b[43mCommand\u001b[49m\u001b[38;5;241;43m.\u001b[39;49m\u001b[43mCLICK_ELEMENT\u001b[49m\u001b[43m)\u001b[49m\n",
      "File \u001b[1;32m~\\anaconda3\\lib\\site-packages\\selenium\\webdriver\\remote\\webelement.py:396\u001b[0m, in \u001b[0;36mWebElement._execute\u001b[1;34m(self, command, params)\u001b[0m\n\u001b[0;32m    394\u001b[0m     params \u001b[38;5;241m=\u001b[39m {}\n\u001b[0;32m    395\u001b[0m params[\u001b[38;5;124m'\u001b[39m\u001b[38;5;124mid\u001b[39m\u001b[38;5;124m'\u001b[39m] \u001b[38;5;241m=\u001b[39m \u001b[38;5;28mself\u001b[39m\u001b[38;5;241m.\u001b[39m_id\n\u001b[1;32m--> 396\u001b[0m \u001b[38;5;28;01mreturn\u001b[39;00m \u001b[38;5;28;43mself\u001b[39;49m\u001b[38;5;241;43m.\u001b[39;49m\u001b[43m_parent\u001b[49m\u001b[38;5;241;43m.\u001b[39;49m\u001b[43mexecute\u001b[49m\u001b[43m(\u001b[49m\u001b[43mcommand\u001b[49m\u001b[43m,\u001b[49m\u001b[43m \u001b[49m\u001b[43mparams\u001b[49m\u001b[43m)\u001b[49m\n",
      "File \u001b[1;32m~\\anaconda3\\lib\\site-packages\\selenium\\webdriver\\remote\\webdriver.py:429\u001b[0m, in \u001b[0;36mWebDriver.execute\u001b[1;34m(self, driver_command, params)\u001b[0m\n\u001b[0;32m    427\u001b[0m response \u001b[38;5;241m=\u001b[39m \u001b[38;5;28mself\u001b[39m\u001b[38;5;241m.\u001b[39mcommand_executor\u001b[38;5;241m.\u001b[39mexecute(driver_command, params)\n\u001b[0;32m    428\u001b[0m \u001b[38;5;28;01mif\u001b[39;00m response:\n\u001b[1;32m--> 429\u001b[0m     \u001b[38;5;28;43mself\u001b[39;49m\u001b[38;5;241;43m.\u001b[39;49m\u001b[43merror_handler\u001b[49m\u001b[38;5;241;43m.\u001b[39;49m\u001b[43mcheck_response\u001b[49m\u001b[43m(\u001b[49m\u001b[43mresponse\u001b[49m\u001b[43m)\u001b[49m\n\u001b[0;32m    430\u001b[0m     response[\u001b[38;5;124m'\u001b[39m\u001b[38;5;124mvalue\u001b[39m\u001b[38;5;124m'\u001b[39m] \u001b[38;5;241m=\u001b[39m \u001b[38;5;28mself\u001b[39m\u001b[38;5;241m.\u001b[39m_unwrap_value(\n\u001b[0;32m    431\u001b[0m         response\u001b[38;5;241m.\u001b[39mget(\u001b[38;5;124m'\u001b[39m\u001b[38;5;124mvalue\u001b[39m\u001b[38;5;124m'\u001b[39m, \u001b[38;5;28;01mNone\u001b[39;00m))\n\u001b[0;32m    432\u001b[0m     \u001b[38;5;28;01mreturn\u001b[39;00m response\n",
      "File \u001b[1;32m~\\anaconda3\\lib\\site-packages\\selenium\\webdriver\\remote\\errorhandler.py:243\u001b[0m, in \u001b[0;36mErrorHandler.check_response\u001b[1;34m(self, response)\u001b[0m\n\u001b[0;32m    241\u001b[0m         alert_text \u001b[38;5;241m=\u001b[39m value[\u001b[38;5;124m'\u001b[39m\u001b[38;5;124malert\u001b[39m\u001b[38;5;124m'\u001b[39m]\u001b[38;5;241m.\u001b[39mget(\u001b[38;5;124m'\u001b[39m\u001b[38;5;124mtext\u001b[39m\u001b[38;5;124m'\u001b[39m)\n\u001b[0;32m    242\u001b[0m     \u001b[38;5;28;01mraise\u001b[39;00m exception_class(message, screen, stacktrace, alert_text)  \u001b[38;5;66;03m# type: ignore[call-arg]  # mypy is not smart enough here\u001b[39;00m\n\u001b[1;32m--> 243\u001b[0m \u001b[38;5;28;01mraise\u001b[39;00m exception_class(message, screen, stacktrace)\n",
      "\u001b[1;31mElementClickInterceptedException\u001b[0m: Message: element click intercepted: Element <i data-v-2e225c62=\"\" aria-hidden=\"true\" aria-labelledby=\"icon-core-chevron-right-aria-label\" aria-describedby=\"icon-core-chevron-right-aria-description\" class=\"core-icon icon-core-chevron-right\">...</i> is not clickable at point (565, 215). Other element would receive the click: <div data-v-2e225c62=\"\" data-v-7a76a41b=\"\" class=\"pagination pagination\">...</div>\n  (Session info: chrome=107.0.5304.107)\nStacktrace:\nBacktrace:\n\tOrdinal0 [0x00CDACD3+2075859]\n\tOrdinal0 [0x00C6EE61+1633889]\n\tOrdinal0 [0x00B6B7BD+571325]\n\tOrdinal0 [0x00BA1499+791705]\n\tOrdinal0 [0x00B9F4AC+783532]\n\tOrdinal0 [0x00B9D0AB+774315]\n\tOrdinal0 [0x00B9BD37+769335]\n\tOrdinal0 [0x00B91C76+728182]\n\tOrdinal0 [0x00BB731C+881436]\n\tOrdinal0 [0x00B915BF+726463]\n\tOrdinal0 [0x00BB7534+881972]\n\tOrdinal0 [0x00BCB56A+963946]\n\tOrdinal0 [0x00BB7136+880950]\n\tOrdinal0 [0x00B8FEFD+720637]\n\tOrdinal0 [0x00B90F3F+724799]\n\tGetHandleVerifier [0x00F8EED2+2769538]\n\tGetHandleVerifier [0x00F80D95+2711877]\n\tGetHandleVerifier [0x00D6A03A+521194]\n\tGetHandleVerifier [0x00D68DA0+516432]\n\tOrdinal0 [0x00C7682C+1665068]\n\tOrdinal0 [0x00C7B128+1683752]\n\tOrdinal0 [0x00C7B215+1683989]\n\tOrdinal0 [0x00C86484+1729668]\n\tBaseThreadInitThunk [0x772D7BA9+25]\n\tRtlInitializeExceptionChain [0x77EBBB9B+107]\n\tRtlClearBits [0x77EBBB1F+191]\n"
     ]
    }
   ],
   "source": [
    "overall = []\n",
    "\n",
    "start = 0\n",
    "end = 3\n",
    "\n",
    "for page in range(start,end):\n",
    "    orr = driver.find_elements(By.XPATH,'//div[@class=\"summary orange\"]')\n",
    "    for i in orr:\n",
    "        overall.append(i.text)\n",
    "        \n",
    "    next_button = driver.find_element(By.XPATH,'//i[@class=\"core-icon icon-core-chevron-right\"]')\n",
    "    next_button.click()\n",
    "    time.sleep(3)"
   ]
  },
  {
   "cell_type": "code",
   "execution_count": 37,
   "id": "bcb9f0ff",
   "metadata": {},
   "outputs": [
    {
     "data": {
      "text/plain": [
       "54"
      ]
     },
     "execution_count": 37,
     "metadata": {},
     "output_type": "execute_result"
    }
   ],
   "source": [
    "len(overall)"
   ]
  },
  {
   "cell_type": "code",
   "execution_count": 51,
   "id": "f4d1bfff",
   "metadata": {},
   "outputs": [
    {
     "ename": "ElementClickInterceptedException",
     "evalue": "Message: element click intercepted: Element <i data-v-2e225c62=\"\" aria-hidden=\"true\" aria-labelledby=\"icon-core-chevron-right-aria-label\" aria-describedby=\"icon-core-chevron-right-aria-description\" class=\"core-icon icon-core-chevron-right\">...</i> is not clickable at point (565, 376). Other element would receive the click: <div data-v-2e225c62=\"\" data-v-7a76a41b=\"\" class=\"pagination pagination\">...</div>\n  (Session info: chrome=107.0.5304.107)\nStacktrace:\nBacktrace:\n\tOrdinal0 [0x00CDACD3+2075859]\n\tOrdinal0 [0x00C6EE61+1633889]\n\tOrdinal0 [0x00B6B7BD+571325]\n\tOrdinal0 [0x00BA1499+791705]\n\tOrdinal0 [0x00B9F4AC+783532]\n\tOrdinal0 [0x00B9D0AB+774315]\n\tOrdinal0 [0x00B9BD37+769335]\n\tOrdinal0 [0x00B91C76+728182]\n\tOrdinal0 [0x00BB731C+881436]\n\tOrdinal0 [0x00B915BF+726463]\n\tOrdinal0 [0x00BB7534+881972]\n\tOrdinal0 [0x00BCB56A+963946]\n\tOrdinal0 [0x00BB7136+880950]\n\tOrdinal0 [0x00B8FEFD+720637]\n\tOrdinal0 [0x00B90F3F+724799]\n\tGetHandleVerifier [0x00F8EED2+2769538]\n\tGetHandleVerifier [0x00F80D95+2711877]\n\tGetHandleVerifier [0x00D6A03A+521194]\n\tGetHandleVerifier [0x00D68DA0+516432]\n\tOrdinal0 [0x00C7682C+1665068]\n\tOrdinal0 [0x00C7B128+1683752]\n\tOrdinal0 [0x00C7B215+1683989]\n\tOrdinal0 [0x00C86484+1729668]\n\tBaseThreadInitThunk [0x772D7BA9+25]\n\tRtlInitializeExceptionChain [0x77EBBB9B+107]\n\tRtlClearBits [0x77EBBB1F+191]\n",
     "output_type": "error",
     "traceback": [
      "\u001b[1;31m---------------------------------------------------------------------------\u001b[0m",
      "\u001b[1;31mElementClickInterceptedException\u001b[0m          Traceback (most recent call last)",
      "Input \u001b[1;32mIn [51]\u001b[0m, in \u001b[0;36m<cell line: 6>\u001b[1;34m()\u001b[0m\n\u001b[0;32m      9\u001b[0m     privateprice\u001b[38;5;241m.\u001b[39mappend(i\u001b[38;5;241m.\u001b[39mtext)\n\u001b[0;32m     11\u001b[0m next_button \u001b[38;5;241m=\u001b[39m driver\u001b[38;5;241m.\u001b[39mfind_element(By\u001b[38;5;241m.\u001b[39mXPATH,\u001b[38;5;124m'\u001b[39m\u001b[38;5;124m//i[@class=\u001b[39m\u001b[38;5;124m\"\u001b[39m\u001b[38;5;124mcore-icon icon-core-chevron-right\u001b[39m\u001b[38;5;124m\"\u001b[39m\u001b[38;5;124m]\u001b[39m\u001b[38;5;124m'\u001b[39m)\n\u001b[1;32m---> 12\u001b[0m \u001b[43mnext_button\u001b[49m\u001b[38;5;241;43m.\u001b[39;49m\u001b[43mclick\u001b[49m\u001b[43m(\u001b[49m\u001b[43m)\u001b[49m\n\u001b[0;32m     13\u001b[0m time\u001b[38;5;241m.\u001b[39msleep(\u001b[38;5;241m3\u001b[39m)\n",
      "File \u001b[1;32m~\\anaconda3\\lib\\site-packages\\selenium\\webdriver\\remote\\webelement.py:88\u001b[0m, in \u001b[0;36mWebElement.click\u001b[1;34m(self)\u001b[0m\n\u001b[0;32m     86\u001b[0m \u001b[38;5;28;01mdef\u001b[39;00m \u001b[38;5;21mclick\u001b[39m(\u001b[38;5;28mself\u001b[39m) \u001b[38;5;241m-\u001b[39m\u001b[38;5;241m>\u001b[39m \u001b[38;5;28;01mNone\u001b[39;00m:\n\u001b[0;32m     87\u001b[0m     \u001b[38;5;124;03m\"\"\"Clicks the element.\"\"\"\u001b[39;00m\n\u001b[1;32m---> 88\u001b[0m     \u001b[38;5;28;43mself\u001b[39;49m\u001b[38;5;241;43m.\u001b[39;49m\u001b[43m_execute\u001b[49m\u001b[43m(\u001b[49m\u001b[43mCommand\u001b[49m\u001b[38;5;241;43m.\u001b[39;49m\u001b[43mCLICK_ELEMENT\u001b[49m\u001b[43m)\u001b[49m\n",
      "File \u001b[1;32m~\\anaconda3\\lib\\site-packages\\selenium\\webdriver\\remote\\webelement.py:396\u001b[0m, in \u001b[0;36mWebElement._execute\u001b[1;34m(self, command, params)\u001b[0m\n\u001b[0;32m    394\u001b[0m     params \u001b[38;5;241m=\u001b[39m {}\n\u001b[0;32m    395\u001b[0m params[\u001b[38;5;124m'\u001b[39m\u001b[38;5;124mid\u001b[39m\u001b[38;5;124m'\u001b[39m] \u001b[38;5;241m=\u001b[39m \u001b[38;5;28mself\u001b[39m\u001b[38;5;241m.\u001b[39m_id\n\u001b[1;32m--> 396\u001b[0m \u001b[38;5;28;01mreturn\u001b[39;00m \u001b[38;5;28;43mself\u001b[39;49m\u001b[38;5;241;43m.\u001b[39;49m\u001b[43m_parent\u001b[49m\u001b[38;5;241;43m.\u001b[39;49m\u001b[43mexecute\u001b[49m\u001b[43m(\u001b[49m\u001b[43mcommand\u001b[49m\u001b[43m,\u001b[49m\u001b[43m \u001b[49m\u001b[43mparams\u001b[49m\u001b[43m)\u001b[49m\n",
      "File \u001b[1;32m~\\anaconda3\\lib\\site-packages\\selenium\\webdriver\\remote\\webdriver.py:429\u001b[0m, in \u001b[0;36mWebDriver.execute\u001b[1;34m(self, driver_command, params)\u001b[0m\n\u001b[0;32m    427\u001b[0m response \u001b[38;5;241m=\u001b[39m \u001b[38;5;28mself\u001b[39m\u001b[38;5;241m.\u001b[39mcommand_executor\u001b[38;5;241m.\u001b[39mexecute(driver_command, params)\n\u001b[0;32m    428\u001b[0m \u001b[38;5;28;01mif\u001b[39;00m response:\n\u001b[1;32m--> 429\u001b[0m     \u001b[38;5;28;43mself\u001b[39;49m\u001b[38;5;241;43m.\u001b[39;49m\u001b[43merror_handler\u001b[49m\u001b[38;5;241;43m.\u001b[39;49m\u001b[43mcheck_response\u001b[49m\u001b[43m(\u001b[49m\u001b[43mresponse\u001b[49m\u001b[43m)\u001b[49m\n\u001b[0;32m    430\u001b[0m     response[\u001b[38;5;124m'\u001b[39m\u001b[38;5;124mvalue\u001b[39m\u001b[38;5;124m'\u001b[39m] \u001b[38;5;241m=\u001b[39m \u001b[38;5;28mself\u001b[39m\u001b[38;5;241m.\u001b[39m_unwrap_value(\n\u001b[0;32m    431\u001b[0m         response\u001b[38;5;241m.\u001b[39mget(\u001b[38;5;124m'\u001b[39m\u001b[38;5;124mvalue\u001b[39m\u001b[38;5;124m'\u001b[39m, \u001b[38;5;28;01mNone\u001b[39;00m))\n\u001b[0;32m    432\u001b[0m     \u001b[38;5;28;01mreturn\u001b[39;00m response\n",
      "File \u001b[1;32m~\\anaconda3\\lib\\site-packages\\selenium\\webdriver\\remote\\errorhandler.py:243\u001b[0m, in \u001b[0;36mErrorHandler.check_response\u001b[1;34m(self, response)\u001b[0m\n\u001b[0;32m    241\u001b[0m         alert_text \u001b[38;5;241m=\u001b[39m value[\u001b[38;5;124m'\u001b[39m\u001b[38;5;124malert\u001b[39m\u001b[38;5;124m'\u001b[39m]\u001b[38;5;241m.\u001b[39mget(\u001b[38;5;124m'\u001b[39m\u001b[38;5;124mtext\u001b[39m\u001b[38;5;124m'\u001b[39m)\n\u001b[0;32m    242\u001b[0m     \u001b[38;5;28;01mraise\u001b[39;00m exception_class(message, screen, stacktrace, alert_text)  \u001b[38;5;66;03m# type: ignore[call-arg]  # mypy is not smart enough here\u001b[39;00m\n\u001b[1;32m--> 243\u001b[0m \u001b[38;5;28;01mraise\u001b[39;00m exception_class(message, screen, stacktrace)\n",
      "\u001b[1;31mElementClickInterceptedException\u001b[0m: Message: element click intercepted: Element <i data-v-2e225c62=\"\" aria-hidden=\"true\" aria-labelledby=\"icon-core-chevron-right-aria-label\" aria-describedby=\"icon-core-chevron-right-aria-description\" class=\"core-icon icon-core-chevron-right\">...</i> is not clickable at point (565, 376). Other element would receive the click: <div data-v-2e225c62=\"\" data-v-7a76a41b=\"\" class=\"pagination pagination\">...</div>\n  (Session info: chrome=107.0.5304.107)\nStacktrace:\nBacktrace:\n\tOrdinal0 [0x00CDACD3+2075859]\n\tOrdinal0 [0x00C6EE61+1633889]\n\tOrdinal0 [0x00B6B7BD+571325]\n\tOrdinal0 [0x00BA1499+791705]\n\tOrdinal0 [0x00B9F4AC+783532]\n\tOrdinal0 [0x00B9D0AB+774315]\n\tOrdinal0 [0x00B9BD37+769335]\n\tOrdinal0 [0x00B91C76+728182]\n\tOrdinal0 [0x00BB731C+881436]\n\tOrdinal0 [0x00B915BF+726463]\n\tOrdinal0 [0x00BB7534+881972]\n\tOrdinal0 [0x00BCB56A+963946]\n\tOrdinal0 [0x00BB7136+880950]\n\tOrdinal0 [0x00B8FEFD+720637]\n\tOrdinal0 [0x00B90F3F+724799]\n\tGetHandleVerifier [0x00F8EED2+2769538]\n\tGetHandleVerifier [0x00F80D95+2711877]\n\tGetHandleVerifier [0x00D6A03A+521194]\n\tGetHandleVerifier [0x00D68DA0+516432]\n\tOrdinal0 [0x00C7682C+1665068]\n\tOrdinal0 [0x00C7B128+1683752]\n\tOrdinal0 [0x00C7B215+1683989]\n\tOrdinal0 [0x00C86484+1729668]\n\tBaseThreadInitThunk [0x772D7BA9+25]\n\tRtlInitializeExceptionChain [0x77EBBB9B+107]\n\tRtlClearBits [0x77EBBB1F+191]\n"
     ]
    }
   ],
   "source": [
    "privateprice = []\n",
    "\n",
    "start = 0\n",
    "end = 3\n",
    "\n",
    "for page in range(start,end):\n",
    "    pp = driver.find_elements(By.XPATH,'//div[@class=\"price title-5\"]')\n",
    "    for i in pp:\n",
    "        privateprice.append(i.text)\n",
    "        \n",
    "    next_button = driver.find_element(By.XPATH,'//i[@class=\"core-icon icon-core-chevron-right\"]')\n",
    "    next_button.click()\n",
    "    time.sleep(3)"
   ]
  },
  {
   "cell_type": "code",
   "execution_count": 52,
   "id": "87ae842b",
   "metadata": {},
   "outputs": [
    {
     "data": {
      "text/plain": [
       "81"
      ]
     },
     "execution_count": 52,
     "metadata": {},
     "output_type": "execute_result"
    }
   ],
   "source": [
    "len(privateprice)"
   ]
  },
  {
   "cell_type": "code",
   "execution_count": 53,
   "id": "bcdd5a13",
   "metadata": {},
   "outputs": [
    {
     "ename": "ElementClickInterceptedException",
     "evalue": "Message: element click intercepted: Element <i data-v-2e225c62=\"\" aria-hidden=\"true\" aria-labelledby=\"icon-core-chevron-right-aria-label\" aria-describedby=\"icon-core-chevron-right-aria-description\" class=\"core-icon icon-core-chevron-right\">...</i> is not clickable at point (565, 215). Other element would receive the click: <div data-v-2e225c62=\"\" data-v-7a76a41b=\"\" class=\"pagination pagination\">...</div>\n  (Session info: chrome=107.0.5304.107)\nStacktrace:\nBacktrace:\n\tOrdinal0 [0x00CDACD3+2075859]\n\tOrdinal0 [0x00C6EE61+1633889]\n\tOrdinal0 [0x00B6B7BD+571325]\n\tOrdinal0 [0x00BA1499+791705]\n\tOrdinal0 [0x00B9F4AC+783532]\n\tOrdinal0 [0x00B9D0AB+774315]\n\tOrdinal0 [0x00B9BD37+769335]\n\tOrdinal0 [0x00B91C76+728182]\n\tOrdinal0 [0x00BB731C+881436]\n\tOrdinal0 [0x00B915BF+726463]\n\tOrdinal0 [0x00BB7534+881972]\n\tOrdinal0 [0x00BCB56A+963946]\n\tOrdinal0 [0x00BB7136+880950]\n\tOrdinal0 [0x00B8FEFD+720637]\n\tOrdinal0 [0x00B90F3F+724799]\n\tGetHandleVerifier [0x00F8EED2+2769538]\n\tGetHandleVerifier [0x00F80D95+2711877]\n\tGetHandleVerifier [0x00D6A03A+521194]\n\tGetHandleVerifier [0x00D68DA0+516432]\n\tOrdinal0 [0x00C7682C+1665068]\n\tOrdinal0 [0x00C7B128+1683752]\n\tOrdinal0 [0x00C7B215+1683989]\n\tOrdinal0 [0x00C86484+1729668]\n\tBaseThreadInitThunk [0x772D7BA9+25]\n\tRtlInitializeExceptionChain [0x77EBBB9B+107]\n\tRtlClearBits [0x77EBBB1F+191]\n",
     "output_type": "error",
     "traceback": [
      "\u001b[1;31m---------------------------------------------------------------------------\u001b[0m",
      "\u001b[1;31mElementClickInterceptedException\u001b[0m          Traceback (most recent call last)",
      "Input \u001b[1;32mIn [53]\u001b[0m, in \u001b[0;36m<cell line: 6>\u001b[1;34m()\u001b[0m\n\u001b[0;32m      9\u001b[0m     dormsprice\u001b[38;5;241m.\u001b[39mappend(i\u001b[38;5;241m.\u001b[39mtext)\n\u001b[0;32m     11\u001b[0m next_button \u001b[38;5;241m=\u001b[39m driver\u001b[38;5;241m.\u001b[39mfind_element(By\u001b[38;5;241m.\u001b[39mXPATH,\u001b[38;5;124m'\u001b[39m\u001b[38;5;124m//i[@class=\u001b[39m\u001b[38;5;124m\"\u001b[39m\u001b[38;5;124mcore-icon icon-core-chevron-right\u001b[39m\u001b[38;5;124m\"\u001b[39m\u001b[38;5;124m]\u001b[39m\u001b[38;5;124m'\u001b[39m)\n\u001b[1;32m---> 12\u001b[0m \u001b[43mnext_button\u001b[49m\u001b[38;5;241;43m.\u001b[39;49m\u001b[43mclick\u001b[49m\u001b[43m(\u001b[49m\u001b[43m)\u001b[49m\n\u001b[0;32m     13\u001b[0m time\u001b[38;5;241m.\u001b[39msleep(\u001b[38;5;241m3\u001b[39m)\n",
      "File \u001b[1;32m~\\anaconda3\\lib\\site-packages\\selenium\\webdriver\\remote\\webelement.py:88\u001b[0m, in \u001b[0;36mWebElement.click\u001b[1;34m(self)\u001b[0m\n\u001b[0;32m     86\u001b[0m \u001b[38;5;28;01mdef\u001b[39;00m \u001b[38;5;21mclick\u001b[39m(\u001b[38;5;28mself\u001b[39m) \u001b[38;5;241m-\u001b[39m\u001b[38;5;241m>\u001b[39m \u001b[38;5;28;01mNone\u001b[39;00m:\n\u001b[0;32m     87\u001b[0m     \u001b[38;5;124;03m\"\"\"Clicks the element.\"\"\"\u001b[39;00m\n\u001b[1;32m---> 88\u001b[0m     \u001b[38;5;28;43mself\u001b[39;49m\u001b[38;5;241;43m.\u001b[39;49m\u001b[43m_execute\u001b[49m\u001b[43m(\u001b[49m\u001b[43mCommand\u001b[49m\u001b[38;5;241;43m.\u001b[39;49m\u001b[43mCLICK_ELEMENT\u001b[49m\u001b[43m)\u001b[49m\n",
      "File \u001b[1;32m~\\anaconda3\\lib\\site-packages\\selenium\\webdriver\\remote\\webelement.py:396\u001b[0m, in \u001b[0;36mWebElement._execute\u001b[1;34m(self, command, params)\u001b[0m\n\u001b[0;32m    394\u001b[0m     params \u001b[38;5;241m=\u001b[39m {}\n\u001b[0;32m    395\u001b[0m params[\u001b[38;5;124m'\u001b[39m\u001b[38;5;124mid\u001b[39m\u001b[38;5;124m'\u001b[39m] \u001b[38;5;241m=\u001b[39m \u001b[38;5;28mself\u001b[39m\u001b[38;5;241m.\u001b[39m_id\n\u001b[1;32m--> 396\u001b[0m \u001b[38;5;28;01mreturn\u001b[39;00m \u001b[38;5;28;43mself\u001b[39;49m\u001b[38;5;241;43m.\u001b[39;49m\u001b[43m_parent\u001b[49m\u001b[38;5;241;43m.\u001b[39;49m\u001b[43mexecute\u001b[49m\u001b[43m(\u001b[49m\u001b[43mcommand\u001b[49m\u001b[43m,\u001b[49m\u001b[43m \u001b[49m\u001b[43mparams\u001b[49m\u001b[43m)\u001b[49m\n",
      "File \u001b[1;32m~\\anaconda3\\lib\\site-packages\\selenium\\webdriver\\remote\\webdriver.py:429\u001b[0m, in \u001b[0;36mWebDriver.execute\u001b[1;34m(self, driver_command, params)\u001b[0m\n\u001b[0;32m    427\u001b[0m response \u001b[38;5;241m=\u001b[39m \u001b[38;5;28mself\u001b[39m\u001b[38;5;241m.\u001b[39mcommand_executor\u001b[38;5;241m.\u001b[39mexecute(driver_command, params)\n\u001b[0;32m    428\u001b[0m \u001b[38;5;28;01mif\u001b[39;00m response:\n\u001b[1;32m--> 429\u001b[0m     \u001b[38;5;28;43mself\u001b[39;49m\u001b[38;5;241;43m.\u001b[39;49m\u001b[43merror_handler\u001b[49m\u001b[38;5;241;43m.\u001b[39;49m\u001b[43mcheck_response\u001b[49m\u001b[43m(\u001b[49m\u001b[43mresponse\u001b[49m\u001b[43m)\u001b[49m\n\u001b[0;32m    430\u001b[0m     response[\u001b[38;5;124m'\u001b[39m\u001b[38;5;124mvalue\u001b[39m\u001b[38;5;124m'\u001b[39m] \u001b[38;5;241m=\u001b[39m \u001b[38;5;28mself\u001b[39m\u001b[38;5;241m.\u001b[39m_unwrap_value(\n\u001b[0;32m    431\u001b[0m         response\u001b[38;5;241m.\u001b[39mget(\u001b[38;5;124m'\u001b[39m\u001b[38;5;124mvalue\u001b[39m\u001b[38;5;124m'\u001b[39m, \u001b[38;5;28;01mNone\u001b[39;00m))\n\u001b[0;32m    432\u001b[0m     \u001b[38;5;28;01mreturn\u001b[39;00m response\n",
      "File \u001b[1;32m~\\anaconda3\\lib\\site-packages\\selenium\\webdriver\\remote\\errorhandler.py:243\u001b[0m, in \u001b[0;36mErrorHandler.check_response\u001b[1;34m(self, response)\u001b[0m\n\u001b[0;32m    241\u001b[0m         alert_text \u001b[38;5;241m=\u001b[39m value[\u001b[38;5;124m'\u001b[39m\u001b[38;5;124malert\u001b[39m\u001b[38;5;124m'\u001b[39m]\u001b[38;5;241m.\u001b[39mget(\u001b[38;5;124m'\u001b[39m\u001b[38;5;124mtext\u001b[39m\u001b[38;5;124m'\u001b[39m)\n\u001b[0;32m    242\u001b[0m     \u001b[38;5;28;01mraise\u001b[39;00m exception_class(message, screen, stacktrace, alert_text)  \u001b[38;5;66;03m# type: ignore[call-arg]  # mypy is not smart enough here\u001b[39;00m\n\u001b[1;32m--> 243\u001b[0m \u001b[38;5;28;01mraise\u001b[39;00m exception_class(message, screen, stacktrace)\n",
      "\u001b[1;31mElementClickInterceptedException\u001b[0m: Message: element click intercepted: Element <i data-v-2e225c62=\"\" aria-hidden=\"true\" aria-labelledby=\"icon-core-chevron-right-aria-label\" aria-describedby=\"icon-core-chevron-right-aria-description\" class=\"core-icon icon-core-chevron-right\">...</i> is not clickable at point (565, 215). Other element would receive the click: <div data-v-2e225c62=\"\" data-v-7a76a41b=\"\" class=\"pagination pagination\">...</div>\n  (Session info: chrome=107.0.5304.107)\nStacktrace:\nBacktrace:\n\tOrdinal0 [0x00CDACD3+2075859]\n\tOrdinal0 [0x00C6EE61+1633889]\n\tOrdinal0 [0x00B6B7BD+571325]\n\tOrdinal0 [0x00BA1499+791705]\n\tOrdinal0 [0x00B9F4AC+783532]\n\tOrdinal0 [0x00B9D0AB+774315]\n\tOrdinal0 [0x00B9BD37+769335]\n\tOrdinal0 [0x00B91C76+728182]\n\tOrdinal0 [0x00BB731C+881436]\n\tOrdinal0 [0x00B915BF+726463]\n\tOrdinal0 [0x00BB7534+881972]\n\tOrdinal0 [0x00BCB56A+963946]\n\tOrdinal0 [0x00BB7136+880950]\n\tOrdinal0 [0x00B8FEFD+720637]\n\tOrdinal0 [0x00B90F3F+724799]\n\tGetHandleVerifier [0x00F8EED2+2769538]\n\tGetHandleVerifier [0x00F80D95+2711877]\n\tGetHandleVerifier [0x00D6A03A+521194]\n\tGetHandleVerifier [0x00D68DA0+516432]\n\tOrdinal0 [0x00C7682C+1665068]\n\tOrdinal0 [0x00C7B128+1683752]\n\tOrdinal0 [0x00C7B215+1683989]\n\tOrdinal0 [0x00C86484+1729668]\n\tBaseThreadInitThunk [0x772D7BA9+25]\n\tRtlInitializeExceptionChain [0x77EBBB9B+107]\n\tRtlClearBits [0x77EBBB1F+191]\n"
     ]
    }
   ],
   "source": [
    "dormsprice = []\n",
    "\n",
    "start = 0\n",
    "end = 3\n",
    "\n",
    "for page in range(start,end):\n",
    "    dpp = driver.find_elements(By.XPATH,'//div[@class=\"price title-5\"]')\n",
    "    for i in dpp:\n",
    "        dormsprice.append(i.text)\n",
    "        \n",
    "    next_button = driver.find_element(By.XPATH,'//i[@class=\"core-icon icon-core-chevron-right\"]')\n",
    "    next_button.click()\n",
    "    time.sleep(3)"
   ]
  },
  {
   "cell_type": "code",
   "execution_count": 54,
   "id": "7ec53f3d",
   "metadata": {},
   "outputs": [
    {
     "data": {
      "text/plain": [
       "81"
      ]
     },
     "execution_count": 54,
     "metadata": {},
     "output_type": "execute_result"
    }
   ],
   "source": [
    "len(dormsprice)"
   ]
  },
  {
   "cell_type": "code",
   "execution_count": 57,
   "id": "2093347f",
   "metadata": {},
   "outputs": [
    {
     "ename": "ElementClickInterceptedException",
     "evalue": "Message: element click intercepted: Element <i data-v-2e225c62=\"\" aria-hidden=\"true\" aria-labelledby=\"icon-core-chevron-right-aria-label\" aria-describedby=\"icon-core-chevron-right-aria-description\" class=\"core-icon icon-core-chevron-right\">...</i> is not clickable at point (565, 215). Other element would receive the click: <div data-v-2e225c62=\"\" data-v-7a76a41b=\"\" class=\"pagination pagination\">...</div>\n  (Session info: chrome=107.0.5304.107)\nStacktrace:\nBacktrace:\n\tOrdinal0 [0x00CDACD3+2075859]\n\tOrdinal0 [0x00C6EE61+1633889]\n\tOrdinal0 [0x00B6B7BD+571325]\n\tOrdinal0 [0x00BA1499+791705]\n\tOrdinal0 [0x00B9F4AC+783532]\n\tOrdinal0 [0x00B9D0AB+774315]\n\tOrdinal0 [0x00B9BD37+769335]\n\tOrdinal0 [0x00B91C76+728182]\n\tOrdinal0 [0x00BB731C+881436]\n\tOrdinal0 [0x00B915BF+726463]\n\tOrdinal0 [0x00BB7534+881972]\n\tOrdinal0 [0x00BCB56A+963946]\n\tOrdinal0 [0x00BB7136+880950]\n\tOrdinal0 [0x00B8FEFD+720637]\n\tOrdinal0 [0x00B90F3F+724799]\n\tGetHandleVerifier [0x00F8EED2+2769538]\n\tGetHandleVerifier [0x00F80D95+2711877]\n\tGetHandleVerifier [0x00D6A03A+521194]\n\tGetHandleVerifier [0x00D68DA0+516432]\n\tOrdinal0 [0x00C7682C+1665068]\n\tOrdinal0 [0x00C7B128+1683752]\n\tOrdinal0 [0x00C7B215+1683989]\n\tOrdinal0 [0x00C86484+1729668]\n\tBaseThreadInitThunk [0x772D7BA9+25]\n\tRtlInitializeExceptionChain [0x77EBBB9B+107]\n\tRtlClearBits [0x77EBBB1F+191]\n",
     "output_type": "error",
     "traceback": [
      "\u001b[1;31m---------------------------------------------------------------------------\u001b[0m",
      "\u001b[1;31mElementClickInterceptedException\u001b[0m          Traceback (most recent call last)",
      "Input \u001b[1;32mIn [57]\u001b[0m, in \u001b[0;36m<cell line: 6>\u001b[1;34m()\u001b[0m\n\u001b[0;32m      9\u001b[0m     facility\u001b[38;5;241m.\u001b[39mappend(i\u001b[38;5;241m.\u001b[39mtext)\n\u001b[0;32m     11\u001b[0m next_button \u001b[38;5;241m=\u001b[39m driver\u001b[38;5;241m.\u001b[39mfind_element(By\u001b[38;5;241m.\u001b[39mXPATH,\u001b[38;5;124m'\u001b[39m\u001b[38;5;124m//i[@class=\u001b[39m\u001b[38;5;124m\"\u001b[39m\u001b[38;5;124mcore-icon icon-core-chevron-right\u001b[39m\u001b[38;5;124m\"\u001b[39m\u001b[38;5;124m]\u001b[39m\u001b[38;5;124m'\u001b[39m)\n\u001b[1;32m---> 12\u001b[0m \u001b[43mnext_button\u001b[49m\u001b[38;5;241;43m.\u001b[39;49m\u001b[43mclick\u001b[49m\u001b[43m(\u001b[49m\u001b[43m)\u001b[49m\n\u001b[0;32m     13\u001b[0m time\u001b[38;5;241m.\u001b[39msleep(\u001b[38;5;241m3\u001b[39m)\n",
      "File \u001b[1;32m~\\anaconda3\\lib\\site-packages\\selenium\\webdriver\\remote\\webelement.py:88\u001b[0m, in \u001b[0;36mWebElement.click\u001b[1;34m(self)\u001b[0m\n\u001b[0;32m     86\u001b[0m \u001b[38;5;28;01mdef\u001b[39;00m \u001b[38;5;21mclick\u001b[39m(\u001b[38;5;28mself\u001b[39m) \u001b[38;5;241m-\u001b[39m\u001b[38;5;241m>\u001b[39m \u001b[38;5;28;01mNone\u001b[39;00m:\n\u001b[0;32m     87\u001b[0m     \u001b[38;5;124;03m\"\"\"Clicks the element.\"\"\"\u001b[39;00m\n\u001b[1;32m---> 88\u001b[0m     \u001b[38;5;28;43mself\u001b[39;49m\u001b[38;5;241;43m.\u001b[39;49m\u001b[43m_execute\u001b[49m\u001b[43m(\u001b[49m\u001b[43mCommand\u001b[49m\u001b[38;5;241;43m.\u001b[39;49m\u001b[43mCLICK_ELEMENT\u001b[49m\u001b[43m)\u001b[49m\n",
      "File \u001b[1;32m~\\anaconda3\\lib\\site-packages\\selenium\\webdriver\\remote\\webelement.py:396\u001b[0m, in \u001b[0;36mWebElement._execute\u001b[1;34m(self, command, params)\u001b[0m\n\u001b[0;32m    394\u001b[0m     params \u001b[38;5;241m=\u001b[39m {}\n\u001b[0;32m    395\u001b[0m params[\u001b[38;5;124m'\u001b[39m\u001b[38;5;124mid\u001b[39m\u001b[38;5;124m'\u001b[39m] \u001b[38;5;241m=\u001b[39m \u001b[38;5;28mself\u001b[39m\u001b[38;5;241m.\u001b[39m_id\n\u001b[1;32m--> 396\u001b[0m \u001b[38;5;28;01mreturn\u001b[39;00m \u001b[38;5;28;43mself\u001b[39;49m\u001b[38;5;241;43m.\u001b[39;49m\u001b[43m_parent\u001b[49m\u001b[38;5;241;43m.\u001b[39;49m\u001b[43mexecute\u001b[49m\u001b[43m(\u001b[49m\u001b[43mcommand\u001b[49m\u001b[43m,\u001b[49m\u001b[43m \u001b[49m\u001b[43mparams\u001b[49m\u001b[43m)\u001b[49m\n",
      "File \u001b[1;32m~\\anaconda3\\lib\\site-packages\\selenium\\webdriver\\remote\\webdriver.py:429\u001b[0m, in \u001b[0;36mWebDriver.execute\u001b[1;34m(self, driver_command, params)\u001b[0m\n\u001b[0;32m    427\u001b[0m response \u001b[38;5;241m=\u001b[39m \u001b[38;5;28mself\u001b[39m\u001b[38;5;241m.\u001b[39mcommand_executor\u001b[38;5;241m.\u001b[39mexecute(driver_command, params)\n\u001b[0;32m    428\u001b[0m \u001b[38;5;28;01mif\u001b[39;00m response:\n\u001b[1;32m--> 429\u001b[0m     \u001b[38;5;28;43mself\u001b[39;49m\u001b[38;5;241;43m.\u001b[39;49m\u001b[43merror_handler\u001b[49m\u001b[38;5;241;43m.\u001b[39;49m\u001b[43mcheck_response\u001b[49m\u001b[43m(\u001b[49m\u001b[43mresponse\u001b[49m\u001b[43m)\u001b[49m\n\u001b[0;32m    430\u001b[0m     response[\u001b[38;5;124m'\u001b[39m\u001b[38;5;124mvalue\u001b[39m\u001b[38;5;124m'\u001b[39m] \u001b[38;5;241m=\u001b[39m \u001b[38;5;28mself\u001b[39m\u001b[38;5;241m.\u001b[39m_unwrap_value(\n\u001b[0;32m    431\u001b[0m         response\u001b[38;5;241m.\u001b[39mget(\u001b[38;5;124m'\u001b[39m\u001b[38;5;124mvalue\u001b[39m\u001b[38;5;124m'\u001b[39m, \u001b[38;5;28;01mNone\u001b[39;00m))\n\u001b[0;32m    432\u001b[0m     \u001b[38;5;28;01mreturn\u001b[39;00m response\n",
      "File \u001b[1;32m~\\anaconda3\\lib\\site-packages\\selenium\\webdriver\\remote\\errorhandler.py:243\u001b[0m, in \u001b[0;36mErrorHandler.check_response\u001b[1;34m(self, response)\u001b[0m\n\u001b[0;32m    241\u001b[0m         alert_text \u001b[38;5;241m=\u001b[39m value[\u001b[38;5;124m'\u001b[39m\u001b[38;5;124malert\u001b[39m\u001b[38;5;124m'\u001b[39m]\u001b[38;5;241m.\u001b[39mget(\u001b[38;5;124m'\u001b[39m\u001b[38;5;124mtext\u001b[39m\u001b[38;5;124m'\u001b[39m)\n\u001b[0;32m    242\u001b[0m     \u001b[38;5;28;01mraise\u001b[39;00m exception_class(message, screen, stacktrace, alert_text)  \u001b[38;5;66;03m# type: ignore[call-arg]  # mypy is not smart enough here\u001b[39;00m\n\u001b[1;32m--> 243\u001b[0m \u001b[38;5;28;01mraise\u001b[39;00m exception_class(message, screen, stacktrace)\n",
      "\u001b[1;31mElementClickInterceptedException\u001b[0m: Message: element click intercepted: Element <i data-v-2e225c62=\"\" aria-hidden=\"true\" aria-labelledby=\"icon-core-chevron-right-aria-label\" aria-describedby=\"icon-core-chevron-right-aria-description\" class=\"core-icon icon-core-chevron-right\">...</i> is not clickable at point (565, 215). Other element would receive the click: <div data-v-2e225c62=\"\" data-v-7a76a41b=\"\" class=\"pagination pagination\">...</div>\n  (Session info: chrome=107.0.5304.107)\nStacktrace:\nBacktrace:\n\tOrdinal0 [0x00CDACD3+2075859]\n\tOrdinal0 [0x00C6EE61+1633889]\n\tOrdinal0 [0x00B6B7BD+571325]\n\tOrdinal0 [0x00BA1499+791705]\n\tOrdinal0 [0x00B9F4AC+783532]\n\tOrdinal0 [0x00B9D0AB+774315]\n\tOrdinal0 [0x00B9BD37+769335]\n\tOrdinal0 [0x00B91C76+728182]\n\tOrdinal0 [0x00BB731C+881436]\n\tOrdinal0 [0x00B915BF+726463]\n\tOrdinal0 [0x00BB7534+881972]\n\tOrdinal0 [0x00BCB56A+963946]\n\tOrdinal0 [0x00BB7136+880950]\n\tOrdinal0 [0x00B8FEFD+720637]\n\tOrdinal0 [0x00B90F3F+724799]\n\tGetHandleVerifier [0x00F8EED2+2769538]\n\tGetHandleVerifier [0x00F80D95+2711877]\n\tGetHandleVerifier [0x00D6A03A+521194]\n\tGetHandleVerifier [0x00D68DA0+516432]\n\tOrdinal0 [0x00C7682C+1665068]\n\tOrdinal0 [0x00C7B128+1683752]\n\tOrdinal0 [0x00C7B215+1683989]\n\tOrdinal0 [0x00C86484+1729668]\n\tBaseThreadInitThunk [0x772D7BA9+25]\n\tRtlInitializeExceptionChain [0x77EBBB9B+107]\n\tRtlClearBits [0x77EBBB1F+191]\n"
     ]
    }
   ],
   "source": [
    "facility = []\n",
    "\n",
    "start = 0\n",
    "end = 3\n",
    "\n",
    "for page in range(start,end):\n",
    "    fac = driver.find_elements(By.XPATH,'//div[@class=\"facilities-label facilities\"]')\n",
    "    for i in fac:\n",
    "        facility.append(i.text)\n",
    "        \n",
    "    next_button = driver.find_element(By.XPATH,'//i[@class=\"core-icon icon-core-chevron-right\"]')\n",
    "    next_button.click()\n",
    "    time.sleep(3)"
   ]
  },
  {
   "cell_type": "code",
   "execution_count": 58,
   "id": "bd961f4d",
   "metadata": {},
   "outputs": [
    {
     "data": {
      "text/plain": [
       "66"
      ]
     },
     "execution_count": 58,
     "metadata": {},
     "output_type": "execute_result"
    }
   ],
   "source": [
    "len(facility)"
   ]
  },
  {
   "cell_type": "code",
   "execution_count": 67,
   "id": "434b886b",
   "metadata": {},
   "outputs": [
    {
     "ename": "ElementClickInterceptedException",
     "evalue": "Message: element click intercepted: Element <i data-v-2e225c62=\"\" aria-hidden=\"true\" aria-labelledby=\"icon-core-chevron-right-aria-label\" aria-describedby=\"icon-core-chevron-right-aria-description\" class=\"core-icon icon-core-chevron-right\">...</i> is not clickable at point (565, 401). Other element would receive the click: <div data-v-2e225c62=\"\" data-v-7a76a41b=\"\" class=\"pagination pagination\">...</div>\n  (Session info: chrome=107.0.5304.107)\nStacktrace:\nBacktrace:\n\tOrdinal0 [0x00CDACD3+2075859]\n\tOrdinal0 [0x00C6EE61+1633889]\n\tOrdinal0 [0x00B6B7BD+571325]\n\tOrdinal0 [0x00BA1499+791705]\n\tOrdinal0 [0x00B9F4AC+783532]\n\tOrdinal0 [0x00B9D0AB+774315]\n\tOrdinal0 [0x00B9BD37+769335]\n\tOrdinal0 [0x00B91C76+728182]\n\tOrdinal0 [0x00BB731C+881436]\n\tOrdinal0 [0x00B915BF+726463]\n\tOrdinal0 [0x00BB7534+881972]\n\tOrdinal0 [0x00BCB56A+963946]\n\tOrdinal0 [0x00BB7136+880950]\n\tOrdinal0 [0x00B8FEFD+720637]\n\tOrdinal0 [0x00B90F3F+724799]\n\tGetHandleVerifier [0x00F8EED2+2769538]\n\tGetHandleVerifier [0x00F80D95+2711877]\n\tGetHandleVerifier [0x00D6A03A+521194]\n\tGetHandleVerifier [0x00D68DA0+516432]\n\tOrdinal0 [0x00C7682C+1665068]\n\tOrdinal0 [0x00C7B128+1683752]\n\tOrdinal0 [0x00C7B215+1683989]\n\tOrdinal0 [0x00C86484+1729668]\n\tBaseThreadInitThunk [0x772D7BA9+25]\n\tRtlInitializeExceptionChain [0x77EBBB9B+107]\n\tRtlClearBits [0x77EBBB1F+191]\n",
     "output_type": "error",
     "traceback": [
      "\u001b[1;31m---------------------------------------------------------------------------\u001b[0m",
      "\u001b[1;31mElementClickInterceptedException\u001b[0m          Traceback (most recent call last)",
      "Input \u001b[1;32mIn [67]\u001b[0m, in \u001b[0;36m<cell line: 6>\u001b[1;34m()\u001b[0m\n\u001b[0;32m      9\u001b[0m     prop\u001b[38;5;241m.\u001b[39mappend(i\u001b[38;5;241m.\u001b[39mtext)\n\u001b[0;32m     11\u001b[0m next_button \u001b[38;5;241m=\u001b[39m driver\u001b[38;5;241m.\u001b[39mfind_element(By\u001b[38;5;241m.\u001b[39mXPATH,\u001b[38;5;124m'\u001b[39m\u001b[38;5;124m//i[@class=\u001b[39m\u001b[38;5;124m\"\u001b[39m\u001b[38;5;124mcore-icon icon-core-chevron-right\u001b[39m\u001b[38;5;124m\"\u001b[39m\u001b[38;5;124m]\u001b[39m\u001b[38;5;124m'\u001b[39m)\n\u001b[1;32m---> 12\u001b[0m \u001b[43mnext_button\u001b[49m\u001b[38;5;241;43m.\u001b[39;49m\u001b[43mclick\u001b[49m\u001b[43m(\u001b[49m\u001b[43m)\u001b[49m\n\u001b[0;32m     13\u001b[0m time\u001b[38;5;241m.\u001b[39msleep(\u001b[38;5;241m3\u001b[39m)\n",
      "File \u001b[1;32m~\\anaconda3\\lib\\site-packages\\selenium\\webdriver\\remote\\webelement.py:88\u001b[0m, in \u001b[0;36mWebElement.click\u001b[1;34m(self)\u001b[0m\n\u001b[0;32m     86\u001b[0m \u001b[38;5;28;01mdef\u001b[39;00m \u001b[38;5;21mclick\u001b[39m(\u001b[38;5;28mself\u001b[39m) \u001b[38;5;241m-\u001b[39m\u001b[38;5;241m>\u001b[39m \u001b[38;5;28;01mNone\u001b[39;00m:\n\u001b[0;32m     87\u001b[0m     \u001b[38;5;124;03m\"\"\"Clicks the element.\"\"\"\u001b[39;00m\n\u001b[1;32m---> 88\u001b[0m     \u001b[38;5;28;43mself\u001b[39;49m\u001b[38;5;241;43m.\u001b[39;49m\u001b[43m_execute\u001b[49m\u001b[43m(\u001b[49m\u001b[43mCommand\u001b[49m\u001b[38;5;241;43m.\u001b[39;49m\u001b[43mCLICK_ELEMENT\u001b[49m\u001b[43m)\u001b[49m\n",
      "File \u001b[1;32m~\\anaconda3\\lib\\site-packages\\selenium\\webdriver\\remote\\webelement.py:396\u001b[0m, in \u001b[0;36mWebElement._execute\u001b[1;34m(self, command, params)\u001b[0m\n\u001b[0;32m    394\u001b[0m     params \u001b[38;5;241m=\u001b[39m {}\n\u001b[0;32m    395\u001b[0m params[\u001b[38;5;124m'\u001b[39m\u001b[38;5;124mid\u001b[39m\u001b[38;5;124m'\u001b[39m] \u001b[38;5;241m=\u001b[39m \u001b[38;5;28mself\u001b[39m\u001b[38;5;241m.\u001b[39m_id\n\u001b[1;32m--> 396\u001b[0m \u001b[38;5;28;01mreturn\u001b[39;00m \u001b[38;5;28;43mself\u001b[39;49m\u001b[38;5;241;43m.\u001b[39;49m\u001b[43m_parent\u001b[49m\u001b[38;5;241;43m.\u001b[39;49m\u001b[43mexecute\u001b[49m\u001b[43m(\u001b[49m\u001b[43mcommand\u001b[49m\u001b[43m,\u001b[49m\u001b[43m \u001b[49m\u001b[43mparams\u001b[49m\u001b[43m)\u001b[49m\n",
      "File \u001b[1;32m~\\anaconda3\\lib\\site-packages\\selenium\\webdriver\\remote\\webdriver.py:429\u001b[0m, in \u001b[0;36mWebDriver.execute\u001b[1;34m(self, driver_command, params)\u001b[0m\n\u001b[0;32m    427\u001b[0m response \u001b[38;5;241m=\u001b[39m \u001b[38;5;28mself\u001b[39m\u001b[38;5;241m.\u001b[39mcommand_executor\u001b[38;5;241m.\u001b[39mexecute(driver_command, params)\n\u001b[0;32m    428\u001b[0m \u001b[38;5;28;01mif\u001b[39;00m response:\n\u001b[1;32m--> 429\u001b[0m     \u001b[38;5;28;43mself\u001b[39;49m\u001b[38;5;241;43m.\u001b[39;49m\u001b[43merror_handler\u001b[49m\u001b[38;5;241;43m.\u001b[39;49m\u001b[43mcheck_response\u001b[49m\u001b[43m(\u001b[49m\u001b[43mresponse\u001b[49m\u001b[43m)\u001b[49m\n\u001b[0;32m    430\u001b[0m     response[\u001b[38;5;124m'\u001b[39m\u001b[38;5;124mvalue\u001b[39m\u001b[38;5;124m'\u001b[39m] \u001b[38;5;241m=\u001b[39m \u001b[38;5;28mself\u001b[39m\u001b[38;5;241m.\u001b[39m_unwrap_value(\n\u001b[0;32m    431\u001b[0m         response\u001b[38;5;241m.\u001b[39mget(\u001b[38;5;124m'\u001b[39m\u001b[38;5;124mvalue\u001b[39m\u001b[38;5;124m'\u001b[39m, \u001b[38;5;28;01mNone\u001b[39;00m))\n\u001b[0;32m    432\u001b[0m     \u001b[38;5;28;01mreturn\u001b[39;00m response\n",
      "File \u001b[1;32m~\\anaconda3\\lib\\site-packages\\selenium\\webdriver\\remote\\errorhandler.py:243\u001b[0m, in \u001b[0;36mErrorHandler.check_response\u001b[1;34m(self, response)\u001b[0m\n\u001b[0;32m    241\u001b[0m         alert_text \u001b[38;5;241m=\u001b[39m value[\u001b[38;5;124m'\u001b[39m\u001b[38;5;124malert\u001b[39m\u001b[38;5;124m'\u001b[39m]\u001b[38;5;241m.\u001b[39mget(\u001b[38;5;124m'\u001b[39m\u001b[38;5;124mtext\u001b[39m\u001b[38;5;124m'\u001b[39m)\n\u001b[0;32m    242\u001b[0m     \u001b[38;5;28;01mraise\u001b[39;00m exception_class(message, screen, stacktrace, alert_text)  \u001b[38;5;66;03m# type: ignore[call-arg]  # mypy is not smart enough here\u001b[39;00m\n\u001b[1;32m--> 243\u001b[0m \u001b[38;5;28;01mraise\u001b[39;00m exception_class(message, screen, stacktrace)\n",
      "\u001b[1;31mElementClickInterceptedException\u001b[0m: Message: element click intercepted: Element <i data-v-2e225c62=\"\" aria-hidden=\"true\" aria-labelledby=\"icon-core-chevron-right-aria-label\" aria-describedby=\"icon-core-chevron-right-aria-description\" class=\"core-icon icon-core-chevron-right\">...</i> is not clickable at point (565, 401). Other element would receive the click: <div data-v-2e225c62=\"\" data-v-7a76a41b=\"\" class=\"pagination pagination\">...</div>\n  (Session info: chrome=107.0.5304.107)\nStacktrace:\nBacktrace:\n\tOrdinal0 [0x00CDACD3+2075859]\n\tOrdinal0 [0x00C6EE61+1633889]\n\tOrdinal0 [0x00B6B7BD+571325]\n\tOrdinal0 [0x00BA1499+791705]\n\tOrdinal0 [0x00B9F4AC+783532]\n\tOrdinal0 [0x00B9D0AB+774315]\n\tOrdinal0 [0x00B9BD37+769335]\n\tOrdinal0 [0x00B91C76+728182]\n\tOrdinal0 [0x00BB731C+881436]\n\tOrdinal0 [0x00B915BF+726463]\n\tOrdinal0 [0x00BB7534+881972]\n\tOrdinal0 [0x00BCB56A+963946]\n\tOrdinal0 [0x00BB7136+880950]\n\tOrdinal0 [0x00B8FEFD+720637]\n\tOrdinal0 [0x00B90F3F+724799]\n\tGetHandleVerifier [0x00F8EED2+2769538]\n\tGetHandleVerifier [0x00F80D95+2711877]\n\tGetHandleVerifier [0x00D6A03A+521194]\n\tGetHandleVerifier [0x00D68DA0+516432]\n\tOrdinal0 [0x00C7682C+1665068]\n\tOrdinal0 [0x00C7B128+1683752]\n\tOrdinal0 [0x00C7B215+1683989]\n\tOrdinal0 [0x00C86484+1729668]\n\tBaseThreadInitThunk [0x772D7BA9+25]\n\tRtlInitializeExceptionChain [0x77EBBB9B+107]\n\tRtlClearBits [0x77EBBB1F+191]\n"
     ]
    }
   ],
   "source": [
    "prop = []\n",
    "\n",
    "start = 0\n",
    "end = 3\n",
    "\n",
    "for page in range(start,end):\n",
    "    des = driver.find_elements(By.XPATH,'//div[@class=\"cleanliness\"]')\n",
    "    for i in des:\n",
    "        prop.append(i.text)\n",
    "        \n",
    "    next_button = driver.find_element(By.XPATH,'//i[@class=\"core-icon icon-core-chevron-right\"]')\n",
    "    next_button.click()\n",
    "    time.sleep(3)"
   ]
  },
  {
   "cell_type": "code",
   "execution_count": 68,
   "id": "cedaa0fd",
   "metadata": {},
   "outputs": [
    {
     "data": {
      "text/plain": [
       "48"
      ]
     },
     "execution_count": 68,
     "metadata": {},
     "output_type": "execute_result"
    }
   ],
   "source": [
    "len(prop)"
   ]
  },
  {
   "cell_type": "code",
   "execution_count": 70,
   "id": "28c205d0",
   "metadata": {},
   "outputs": [
    {
     "data": {
      "text/html": [
       "<div>\n",
       "<style scoped>\n",
       "    .dataframe tbody tr th:only-of-type {\n",
       "        vertical-align: middle;\n",
       "    }\n",
       "\n",
       "    .dataframe tbody tr th {\n",
       "        vertical-align: top;\n",
       "    }\n",
       "\n",
       "    .dataframe thead th {\n",
       "        text-align: right;\n",
       "    }\n",
       "</style>\n",
       "<table border=\"1\" class=\"dataframe\">\n",
       "  <thead>\n",
       "    <tr style=\"text-align: right;\">\n",
       "      <th></th>\n",
       "      <th>Name</th>\n",
       "      <th>Distance from City Centre</th>\n",
       "      <th>Rating</th>\n",
       "      <th>Total Review</th>\n",
       "      <th>Overall Review</th>\n",
       "      <th>Private From Price</th>\n",
       "      <th>Dorms From Price</th>\n",
       "      <th>Facility</th>\n",
       "      <th>Property Description</th>\n",
       "    </tr>\n",
       "  </thead>\n",
       "  <tbody>\n",
       "    <tr>\n",
       "      <th>0</th>\n",
       "      <td>Wombat's City Hostel London</td>\n",
       "      <td>Hostel - 3.6km from city centre</td>\n",
       "      <td>9.0</td>\n",
       "      <td>14308 Total Reviews</td>\n",
       "      <td>Superb</td>\n",
       "      <td>Rs17204.51 Rs13764</td>\n",
       "      <td>Rs17204.51 Rs13764</td>\n",
       "      <td>Free WiFi\\nFollows Covid-19 sanitation guidance</td>\n",
       "      <td>Fantastic Cleanliness</td>\n",
       "    </tr>\n",
       "    <tr>\n",
       "      <th>1</th>\n",
       "      <td>St Christopher's Village</td>\n",
       "      <td>Hostel - 1.8km from city centre</td>\n",
       "      <td>8.1</td>\n",
       "      <td>11679 Total Reviews</td>\n",
       "      <td>Fabulous</td>\n",
       "      <td>Rs3411.03 Rs2729</td>\n",
       "      <td>Rs3411.03 Rs2729</td>\n",
       "      <td>Free WiFi\\nFollows Covid-19 sanitation guidance</td>\n",
       "      <td>Excellent Cleanliness</td>\n",
       "    </tr>\n",
       "    <tr>\n",
       "      <th>2</th>\n",
       "      <td>Generator London</td>\n",
       "      <td>Hostel - 3km from city centre</td>\n",
       "      <td>7.7</td>\n",
       "      <td>7255 Total Reviews</td>\n",
       "      <td>Superb\\n14308 Total Reviews</td>\n",
       "      <td>Rs1923.84 Rs1731</td>\n",
       "      <td>Rs1923.84 Rs1731</td>\n",
       "      <td>Free WiFi\\nFollows Covid-19 sanitation guidance</td>\n",
       "      <td>Excellent Cleanliness</td>\n",
       "    </tr>\n",
       "    <tr>\n",
       "      <th>3</th>\n",
       "      <td>Safestay London Elephant &amp; Castle</td>\n",
       "      <td>Hostel - 1.7km from city centre</td>\n",
       "      <td>7.1</td>\n",
       "      <td>4663 Total Reviews</td>\n",
       "      <td>Fabulous\\n11679 Total Reviews</td>\n",
       "      <td>Rs7381</td>\n",
       "      <td>Rs7381</td>\n",
       "      <td>Free WiFi\\nFollows Covid-19 sanitation guidance</td>\n",
       "      <td>Excellent Cleanliness</td>\n",
       "    </tr>\n",
       "    <tr>\n",
       "      <th>4</th>\n",
       "      <td>Hostel One Notting Hill</td>\n",
       "      <td>Hostel - 5.5km from city centre</td>\n",
       "      <td>9.3</td>\n",
       "      <td>1587 Total Reviews</td>\n",
       "      <td>Very Good\\n7255 Total Reviews</td>\n",
       "      <td>Rs2123</td>\n",
       "      <td>Rs2123</td>\n",
       "      <td>Free WiFi</td>\n",
       "      <td>Fantastic Cleanliness</td>\n",
       "    </tr>\n",
       "    <tr>\n",
       "      <th>5</th>\n",
       "      <td>Urbany Hostel London</td>\n",
       "      <td>Hostel - 5.4km from city centre</td>\n",
       "      <td>9.2</td>\n",
       "      <td>537 Total Reviews</td>\n",
       "      <td>Very Good\\n4663 Total Reviews</td>\n",
       "      <td>Rs8743</td>\n",
       "      <td>Rs8743</td>\n",
       "      <td>Free WiFi\\nFollows Covid-19 sanitation guidance</td>\n",
       "      <td>Fantastic Cleanliness</td>\n",
       "    </tr>\n",
       "    <tr>\n",
       "      <th>6</th>\n",
       "      <td>Safestay London Kensington Holland Park</td>\n",
       "      <td>Hostel - 5.9km from city centre</td>\n",
       "      <td>6.8</td>\n",
       "      <td>1374 Total Reviews</td>\n",
       "      <td>Superb\\n1587 Total Reviews</td>\n",
       "      <td>Rs1749</td>\n",
       "      <td>Rs1749</td>\n",
       "      <td>Free WiFi</td>\n",
       "      <td>Awesome Cleanliness</td>\n",
       "    </tr>\n",
       "    <tr>\n",
       "      <th>7</th>\n",
       "      <td>No.8 Willesden Hostel London</td>\n",
       "      <td>Hostel - 10km from city centre</td>\n",
       "      <td>6.8</td>\n",
       "      <td>4886 Total Reviews</td>\n",
       "      <td>Superb\\n537 Total Reviews</td>\n",
       "      <td>Rs14887.04 Rs13398</td>\n",
       "      <td>Rs14887.04 Rs13398</td>\n",
       "      <td>Free WiFi\\nFollows Covid-19 sanitation guidance</td>\n",
       "      <td>Awesome Cleanliness</td>\n",
       "    </tr>\n",
       "    <tr>\n",
       "      <th>8</th>\n",
       "      <td>Astor Museum Inn</td>\n",
       "      <td>Hostel - 2.2km from city centre</td>\n",
       "      <td>8.1</td>\n",
       "      <td>9110 Total Reviews</td>\n",
       "      <td>Good\\n1374 Total Reviews</td>\n",
       "      <td>Rs3333.18 Rs3000</td>\n",
       "      <td>Rs3333.18 Rs3000</td>\n",
       "      <td>Free WiFi\\nFollows Covid-19 sanitation guidance</td>\n",
       "      <td>Excellent Cleanliness</td>\n",
       "    </tr>\n",
       "    <tr>\n",
       "      <th>9</th>\n",
       "      <td>Phoenix Hostel</td>\n",
       "      <td>Hostel - 4.2km from city centre</td>\n",
       "      <td>7.1</td>\n",
       "      <td>3855 Total Reviews</td>\n",
       "      <td>Good\\n4886 Total Reviews</td>\n",
       "      <td>Rs13362.4 Rs10690</td>\n",
       "      <td>Rs13362.4 Rs10690</td>\n",
       "      <td>Free WiFi\\nFollows Covid-19 sanitation guidance</td>\n",
       "      <td>Good Cleanliness</td>\n",
       "    </tr>\n",
       "    <tr>\n",
       "      <th>10</th>\n",
       "      <td>St Christopher's Camden</td>\n",
       "      <td>Hostel - 4.3km from city centre</td>\n",
       "      <td>8.3</td>\n",
       "      <td>3895 Total Reviews</td>\n",
       "      <td>Fabulous\\n9110 Total Reviews</td>\n",
       "      <td>Rs2465.07 Rs1972</td>\n",
       "      <td>Rs2465.07 Rs1972</td>\n",
       "      <td>Free WiFi\\nFollows Covid-19 sanitation guidance</td>\n",
       "      <td>Excellent Cleanliness</td>\n",
       "    </tr>\n",
       "    <tr>\n",
       "      <th>11</th>\n",
       "      <td>Smart Camden Inn Hostel</td>\n",
       "      <td>Hostel - 4.4km from city centre</td>\n",
       "      <td>8.3</td>\n",
       "      <td>2975 Total Reviews</td>\n",
       "      <td>Very Good\\n3855 Total Reviews</td>\n",
       "      <td>Rs1923</td>\n",
       "      <td>Rs1923</td>\n",
       "      <td>Free WiFi\\nFollows Covid-19 sanitation guidance</td>\n",
       "      <td>Fantastic Cleanliness</td>\n",
       "    </tr>\n",
       "    <tr>\n",
       "      <th>12</th>\n",
       "      <td>No.8 Seven Sisters</td>\n",
       "      <td>Hostel - 9km from city centre</td>\n",
       "      <td>7.4</td>\n",
       "      <td>3907 Total Reviews</td>\n",
       "      <td>Fabulous\\n3895 Total Reviews</td>\n",
       "      <td>Rs1355</td>\n",
       "      <td>Rs1355</td>\n",
       "      <td>Free WiFi\\nFollows Covid-19 sanitation guidance</td>\n",
       "      <td>Awesome Cleanliness</td>\n",
       "    </tr>\n",
       "    <tr>\n",
       "      <th>13</th>\n",
       "      <td>Smart Hyde Park Inn Hostel</td>\n",
       "      <td>Hostel - 5km from city centre</td>\n",
       "      <td>7.5</td>\n",
       "      <td>6420 Total Reviews</td>\n",
       "      <td>Fabulous\\n2975 Total Reviews</td>\n",
       "      <td>Rs1813</td>\n",
       "      <td>Rs1813</td>\n",
       "      <td>Free WiFi</td>\n",
       "      <td>Excellent Cleanliness</td>\n",
       "    </tr>\n",
       "    <tr>\n",
       "      <th>14</th>\n",
       "      <td>NX London Hostel</td>\n",
       "      <td>Hostel - 6.1km from city centre</td>\n",
       "      <td>7.8</td>\n",
       "      <td>1339 Total Reviews</td>\n",
       "      <td>Very Good\\n6420 Total Reviews</td>\n",
       "      <td>Rs1878.16 Rs1690</td>\n",
       "      <td>Rs1878.16 Rs1690</td>\n",
       "      <td>Free WiFi\\nFree Breakfast</td>\n",
       "      <td>Excellent Cleanliness</td>\n",
       "    </tr>\n",
       "    <tr>\n",
       "      <th>15</th>\n",
       "      <td>St Christopher's Hammersmith</td>\n",
       "      <td>Hostel - 7.5km from city centre</td>\n",
       "      <td>7.9</td>\n",
       "      <td>4156 Total Reviews</td>\n",
       "      <td>Very Good\\n1339 Total Reviews</td>\n",
       "      <td>Rs2685.54 Rs2417</td>\n",
       "      <td>Rs2685.54 Rs2417</td>\n",
       "      <td>Free WiFi\\nFollows Covid-19 sanitation guidance</td>\n",
       "      <td>Excellent Cleanliness</td>\n",
       "    </tr>\n",
       "    <tr>\n",
       "      <th>16</th>\n",
       "      <td>London Backpackers</td>\n",
       "      <td>Hostel - 11.9km from city centre</td>\n",
       "      <td>9.4</td>\n",
       "      <td>4370 Total Reviews</td>\n",
       "      <td>Very Good\\n4156 Total Reviews</td>\n",
       "      <td>Rs11972</td>\n",
       "      <td>Rs11972</td>\n",
       "      <td>Free WiFi\\nFollows Covid-19 sanitation guidance</td>\n",
       "      <td>Fantastic Cleanliness</td>\n",
       "    </tr>\n",
       "    <tr>\n",
       "      <th>17</th>\n",
       "      <td>Destinations Hostels @ The Gallery</td>\n",
       "      <td>Hostel - 1.7km from city centre</td>\n",
       "      <td>8.9</td>\n",
       "      <td>75 Total Reviews</td>\n",
       "      <td>Very Good\\n4370 Total Reviews</td>\n",
       "      <td>Rs1404</td>\n",
       "      <td>Rs1404</td>\n",
       "      <td>Free WiFi\\nFree Breakfast</td>\n",
       "      <td>Fantastic Cleanliness</td>\n",
       "    </tr>\n",
       "    <tr>\n",
       "      <th>18</th>\n",
       "      <td>Barmy Badger Backpackers</td>\n",
       "      <td>Hostel - 5.5km from city centre</td>\n",
       "      <td>7.7</td>\n",
       "      <td>1854 Total Reviews</td>\n",
       "      <td>Superb\\n75 Total Reviews</td>\n",
       "      <td>Rs2223.92 Rs2002</td>\n",
       "      <td>Rs2223.92 Rs2002</td>\n",
       "      <td>Free WiFi\\nFree Breakfast</td>\n",
       "      <td>Awesome Cleanliness</td>\n",
       "    </tr>\n",
       "    <tr>\n",
       "      <th>19</th>\n",
       "      <td>Astor Victoria</td>\n",
       "      <td>Hostel - 1.8km from city centre</td>\n",
       "      <td>8.8</td>\n",
       "      <td>14853 Total Reviews</td>\n",
       "      <td>Fabulous\\n1854 Total Reviews</td>\n",
       "      <td>Rs5770.45 Rs4616</td>\n",
       "      <td>Rs5770.45 Rs4616</td>\n",
       "      <td>Free WiFi\\nFollows Covid-19 sanitation guidance</td>\n",
       "      <td>Fantastic Cleanliness</td>\n",
       "    </tr>\n",
       "    <tr>\n",
       "      <th>20</th>\n",
       "      <td>YHA London Oxford Street</td>\n",
       "      <td>Hostel - 2.1km from city centre</td>\n",
       "      <td>8.4</td>\n",
       "      <td>4602 Total Reviews</td>\n",
       "      <td>Very Good\\n14853 Total Reviews</td>\n",
       "      <td>Rs1632.05 Rs1306</td>\n",
       "      <td>Rs1632.05 Rs1306</td>\n",
       "      <td>Free WiFi\\nFollows Covid-19 sanitation guidance</td>\n",
       "      <td>Excellent Cleanliness</td>\n",
       "    </tr>\n",
       "    <tr>\n",
       "      <th>21</th>\n",
       "      <td>Pickwick Hall</td>\n",
       "      <td>Hostel - 2.3km from city centre</td>\n",
       "      <td>7.1</td>\n",
       "      <td>2513 Total Reviews</td>\n",
       "      <td>Fabulous\\n4602 Total Reviews</td>\n",
       "      <td>Rs1858 Rs1672</td>\n",
       "      <td>Rs1858 Rs1672</td>\n",
       "      <td>Free Breakfast</td>\n",
       "      <td>Awesome Cleanliness</td>\n",
       "    </tr>\n",
       "    <tr>\n",
       "      <th>22</th>\n",
       "      <td>Queen Elizabeth Chelsea</td>\n",
       "      <td>Hostel - 5.7km from city centre</td>\n",
       "      <td>8.2</td>\n",
       "      <td>3356 Total Reviews</td>\n",
       "      <td>Fabulous\\n2513 Total Reviews</td>\n",
       "      <td>Rs1632</td>\n",
       "      <td>Rs1632</td>\n",
       "      <td>Free WiFi</td>\n",
       "      <td>Excellent Cleanliness</td>\n",
       "    </tr>\n",
       "    <tr>\n",
       "      <th>23</th>\n",
       "      <td>Prime Backpackers Angel</td>\n",
       "      <td>Hostel - 3.6km from city centre</td>\n",
       "      <td>8.3</td>\n",
       "      <td>683 Total Reviews</td>\n",
       "      <td>Very Good\\n3356 Total Reviews</td>\n",
       "      <td>Rs3886</td>\n",
       "      <td>Rs3886</td>\n",
       "      <td>Free WiFi\\nFollows Covid-19 sanitation guidance</td>\n",
       "      <td>Fantastic Cleanliness</td>\n",
       "    </tr>\n",
       "    <tr>\n",
       "      <th>24</th>\n",
       "      <td>Dover Castle Hostel and Bar</td>\n",
       "      <td>Hostel - 1.7km from city centre</td>\n",
       "      <td>8.3</td>\n",
       "      <td>2293 Total Reviews</td>\n",
       "      <td>Fabulous\\n683 Total Reviews</td>\n",
       "      <td>Rs7820</td>\n",
       "      <td>Rs7820</td>\n",
       "      <td>Free WiFi</td>\n",
       "      <td>Fantastic Cleanliness</td>\n",
       "    </tr>\n",
       "    <tr>\n",
       "      <th>25</th>\n",
       "      <td>St Christopher's Inn - Liverpool Street</td>\n",
       "      <td>Hostel - 3.2km from city centre</td>\n",
       "      <td>8.0</td>\n",
       "      <td>444 Total Reviews</td>\n",
       "      <td>Fabulous\\n2293 Total Reviews</td>\n",
       "      <td>Rs2526</td>\n",
       "      <td>Rs2526</td>\n",
       "      <td>Free WiFi\\nFollows Covid-19 sanitation guidance</td>\n",
       "      <td>Excellent Cleanliness</td>\n",
       "    </tr>\n",
       "    <tr>\n",
       "      <th>26</th>\n",
       "      <td>Astor Kensington</td>\n",
       "      <td>Hostel - 4.9km from city centre</td>\n",
       "      <td>7.3</td>\n",
       "      <td>6443 Total Reviews</td>\n",
       "      <td>Fabulous\\n444 Total Reviews</td>\n",
       "      <td>Rs1749</td>\n",
       "      <td>Rs1749</td>\n",
       "      <td>Free WiFi\\nFollows Covid-19 sanitation guidance</td>\n",
       "      <td>Awesome Cleanliness</td>\n",
       "    </tr>\n",
       "    <tr>\n",
       "      <th>27</th>\n",
       "      <td>Saint James Backpackers</td>\n",
       "      <td>Hostel - 5.5km from city centre</td>\n",
       "      <td>7.4</td>\n",
       "      <td>1845 Total Reviews</td>\n",
       "      <td>Fabulous\\n6443 Total Reviews</td>\n",
       "      <td>Rs8970</td>\n",
       "      <td>Rs8970</td>\n",
       "      <td>Free WiFi\\nFree Breakfast\\nFollows Covid-19 sa...</td>\n",
       "      <td>Awesome Cleanliness</td>\n",
       "    </tr>\n",
       "    <tr>\n",
       "      <th>28</th>\n",
       "      <td>Kensal Green Backpackers</td>\n",
       "      <td>Hostel - 8.2km from city centre</td>\n",
       "      <td>6.7</td>\n",
       "      <td>3667 Total Reviews</td>\n",
       "      <td>Very Good\\n1845 Total Reviews</td>\n",
       "      <td>Rs6800</td>\n",
       "      <td>Rs6800</td>\n",
       "      <td>Follows Covid-19 sanitation guidance</td>\n",
       "      <td>Awesome Cleanliness</td>\n",
       "    </tr>\n",
       "    <tr>\n",
       "      <th>29</th>\n",
       "      <td>St Christopher's Shepherds Bush</td>\n",
       "      <td>Hostel - 7km from city centre</td>\n",
       "      <td>7.7</td>\n",
       "      <td>730 Total Reviews</td>\n",
       "      <td>Very Good\\n730 Total Reviews</td>\n",
       "      <td>Rs1425</td>\n",
       "      <td>Rs1425</td>\n",
       "      <td>Free WiFi\\nFollows Covid-19 sanitation guidance</td>\n",
       "      <td>Excellent Cleanliness</td>\n",
       "    </tr>\n",
       "    <tr>\n",
       "      <th>30</th>\n",
       "      <td>St Christopher's Greenwich</td>\n",
       "      <td>Hostel - 7.6km from city centre</td>\n",
       "      <td>7.8</td>\n",
       "      <td>3276 Total Reviews</td>\n",
       "      <td>Good\\n3276 Total Reviews</td>\n",
       "      <td>Rs2623</td>\n",
       "      <td>Rs2623</td>\n",
       "      <td>Free WiFi\\nFollows Covid-19 sanitation guidance</td>\n",
       "      <td>Awesome Cleanliness</td>\n",
       "    </tr>\n",
       "    <tr>\n",
       "      <th>31</th>\n",
       "      <td>Clink261</td>\n",
       "      <td>Hostel - 3.2km from city centre</td>\n",
       "      <td>8.2</td>\n",
       "      <td>158 Total Reviews</td>\n",
       "      <td>Very Good\\n158 Total Reviews</td>\n",
       "      <td>Rs1781</td>\n",
       "      <td>Rs1781</td>\n",
       "      <td>Free WiFi\\nFollows Covid-19 sanitation guidance</td>\n",
       "      <td>Excellent Cleanliness</td>\n",
       "    </tr>\n",
       "    <tr>\n",
       "      <th>32</th>\n",
       "      <td>PubLove @ The White Ferry, Victoria</td>\n",
       "      <td>Hostel - 2.4km from city centre</td>\n",
       "      <td>9.4</td>\n",
       "      <td>301 Total Reviews</td>\n",
       "      <td>Very Good\\n301 Total Reviews</td>\n",
       "      <td>Rs3152.2 Rs2837</td>\n",
       "      <td>Rs3152.2 Rs2837</td>\n",
       "      <td>Free WiFi\\nFollows Covid-19 sanitation guidance</td>\n",
       "      <td>Fantastic Cleanliness</td>\n",
       "    </tr>\n",
       "    <tr>\n",
       "      <th>33</th>\n",
       "      <td>PubLove @ The Steam Engine, Waterloo</td>\n",
       "      <td>Hostel - 0.5km from city centre</td>\n",
       "      <td>7.9</td>\n",
       "      <td>337 Total Reviews</td>\n",
       "      <td>Fabulous\\n337 Total Reviews</td>\n",
       "      <td>Rs1749</td>\n",
       "      <td>Rs1749</td>\n",
       "      <td>Free WiFi\\nFollows Covid-19 sanitation guidance</td>\n",
       "      <td>Excellent Cleanliness</td>\n",
       "    </tr>\n",
       "    <tr>\n",
       "      <th>34</th>\n",
       "      <td>YHA London Earls Court</td>\n",
       "      <td>Hostel - 5.1km from city centre</td>\n",
       "      <td>7.0</td>\n",
       "      <td>1438 Total Reviews</td>\n",
       "      <td>Superb\\n1438 Total Reviews</td>\n",
       "      <td>Rs7521</td>\n",
       "      <td>Rs7521</td>\n",
       "      <td>Free WiFi\\nFollows Covid-19 sanitation guidance</td>\n",
       "      <td>Fantastic Cleanliness</td>\n",
       "    </tr>\n",
       "    <tr>\n",
       "      <th>35</th>\n",
       "      <td>St Christopher's Oasis-Female Only</td>\n",
       "      <td>Hostel - 1.8km from city centre</td>\n",
       "      <td>8.2</td>\n",
       "      <td>705 Total Reviews</td>\n",
       "      <td>Very Good\\n705 Total Reviews</td>\n",
       "      <td>Rs2817</td>\n",
       "      <td>Rs2817</td>\n",
       "      <td>Free WiFi\\nFollows Covid-19 sanitation guidance</td>\n",
       "      <td>Awesome Cleanliness</td>\n",
       "    </tr>\n",
       "    <tr>\n",
       "      <th>36</th>\n",
       "      <td>Strand Continental</td>\n",
       "      <td>Hostel - 1.3km from city centre</td>\n",
       "      <td>6.0</td>\n",
       "      <td>916 Total Reviews</td>\n",
       "      <td>Very Good\\n916 Total Reviews</td>\n",
       "      <td>Rs5620</td>\n",
       "      <td>Rs5620</td>\n",
       "      <td>Follows Covid-19 sanitation guidance</td>\n",
       "      <td>Excellent Cleanliness</td>\n",
       "    </tr>\n",
       "    <tr>\n",
       "      <th>37</th>\n",
       "      <td>Selina Camden</td>\n",
       "      <td>Hostel - 5.5km from city centre</td>\n",
       "      <td>6.8</td>\n",
       "      <td>40 Total Reviews</td>\n",
       "      <td>Fabulous\\n40 Total Reviews</td>\n",
       "      <td>Rs1554</td>\n",
       "      <td>Rs1554</td>\n",
       "      <td>Free WiFi</td>\n",
       "      <td>Fantastic Cleanliness</td>\n",
       "    </tr>\n",
       "    <tr>\n",
       "      <th>38</th>\n",
       "      <td>Book a Bed Hostels</td>\n",
       "      <td>Hostel - 6.9km from city centre</td>\n",
       "      <td>7.8</td>\n",
       "      <td>1215 Total Reviews</td>\n",
       "      <td>Good\\n1215 Total Reviews</td>\n",
       "      <td>Rs2001.92 Rs1802</td>\n",
       "      <td>Rs2001.92 Rs1802</td>\n",
       "      <td>Free WiFi</td>\n",
       "      <td>Fantastic Cleanliness</td>\n",
       "    </tr>\n",
       "    <tr>\n",
       "      <th>39</th>\n",
       "      <td>PubLove @ The Crown, Battersea</td>\n",
       "      <td>Hostel - 4.7km from city centre</td>\n",
       "      <td>8.8</td>\n",
       "      <td>277 Total Reviews</td>\n",
       "      <td>Good\\n277 Total Reviews</td>\n",
       "      <td>Rs1715.17 Rs1544</td>\n",
       "      <td>Rs1715.17 Rs1544</td>\n",
       "      <td>Free WiFi\\nFollows Covid-19 sanitation guidance</td>\n",
       "      <td>Awesome Cleanliness</td>\n",
       "    </tr>\n",
       "    <tr>\n",
       "      <th>40</th>\n",
       "      <td>PubLove @ The Green Man, Paddington</td>\n",
       "      <td>Hostel - 4.3km from city centre</td>\n",
       "      <td>8.8</td>\n",
       "      <td>432 Total Reviews</td>\n",
       "      <td>Very Good\\n432 Total Reviews</td>\n",
       "      <td>Rs2477.21 Rs2229</td>\n",
       "      <td>Rs2477.21 Rs2229</td>\n",
       "      <td>Free WiFi\\nFollows Covid-19 sanitation guidance</td>\n",
       "      <td>Good Cleanliness</td>\n",
       "    </tr>\n",
       "    <tr>\n",
       "      <th>41</th>\n",
       "      <td>YHA London St Pancras</td>\n",
       "      <td>Hostel - 3.3km from city centre</td>\n",
       "      <td>6.5</td>\n",
       "      <td>2864 Total Reviews</td>\n",
       "      <td>Fabulous\\n2864 Total Reviews</td>\n",
       "      <td>Rs2526</td>\n",
       "      <td>Rs2526</td>\n",
       "      <td>Free WiFi\\nFollows Covid-19 sanitation guidance</td>\n",
       "      <td>Excellent Cleanliness</td>\n",
       "    </tr>\n",
       "    <tr>\n",
       "      <th>42</th>\n",
       "      <td>YHA London Central</td>\n",
       "      <td>Hostel - 2.9km from city centre</td>\n",
       "      <td>7.5</td>\n",
       "      <td>4757 Total Reviews</td>\n",
       "      <td>Fabulous\\n4757 Total Reviews</td>\n",
       "      <td>Rs3497</td>\n",
       "      <td>Rs3497</td>\n",
       "      <td>Free WiFi\\nFollows Covid-19 sanitation guidance</td>\n",
       "      <td>Fantastic Cleanliness</td>\n",
       "    </tr>\n",
       "    <tr>\n",
       "      <th>43</th>\n",
       "      <td>PubLove @ The Exmouth Arms, Euston</td>\n",
       "      <td>Hostel - 3.4km from city centre</td>\n",
       "      <td>6.6</td>\n",
       "      <td>1056 Total Reviews</td>\n",
       "      <td>Good\\n1056 Total Reviews</td>\n",
       "      <td>Rs8646</td>\n",
       "      <td>Rs8646</td>\n",
       "      <td>Free WiFi\\nFollows Covid-19 sanitation guidance</td>\n",
       "      <td>Good Cleanliness</td>\n",
       "    </tr>\n",
       "    <tr>\n",
       "      <th>44</th>\n",
       "      <td>Park Villa</td>\n",
       "      <td>Hostel - 6.3km from city centre</td>\n",
       "      <td>6.4</td>\n",
       "      <td>878 Total Reviews</td>\n",
       "      <td>Very Good\\n878 Total Reviews</td>\n",
       "      <td>Rs13803.33 Rs12423</td>\n",
       "      <td>Rs13803.33 Rs12423</td>\n",
       "      <td>Free WiFi\\nFollows Covid-19 sanitation guidance</td>\n",
       "      <td>Fantastic Cleanliness</td>\n",
       "    </tr>\n",
       "  </tbody>\n",
       "</table>\n",
       "</div>"
      ],
      "text/plain": [
       "                                       Name         Distance from City Centre  \\\n",
       "0               Wombat's City Hostel London   Hostel - 3.6km from city centre   \n",
       "1                  St Christopher's Village   Hostel - 1.8km from city centre   \n",
       "2                          Generator London     Hostel - 3km from city centre   \n",
       "3         Safestay London Elephant & Castle   Hostel - 1.7km from city centre   \n",
       "4                   Hostel One Notting Hill   Hostel - 5.5km from city centre   \n",
       "5                      Urbany Hostel London   Hostel - 5.4km from city centre   \n",
       "6   Safestay London Kensington Holland Park   Hostel - 5.9km from city centre   \n",
       "7              No.8 Willesden Hostel London    Hostel - 10km from city centre   \n",
       "8                          Astor Museum Inn   Hostel - 2.2km from city centre   \n",
       "9                            Phoenix Hostel   Hostel - 4.2km from city centre   \n",
       "10                  St Christopher's Camden   Hostel - 4.3km from city centre   \n",
       "11                  Smart Camden Inn Hostel   Hostel - 4.4km from city centre   \n",
       "12                       No.8 Seven Sisters     Hostel - 9km from city centre   \n",
       "13               Smart Hyde Park Inn Hostel     Hostel - 5km from city centre   \n",
       "14                         NX London Hostel   Hostel - 6.1km from city centre   \n",
       "15             St Christopher's Hammersmith   Hostel - 7.5km from city centre   \n",
       "16                       London Backpackers  Hostel - 11.9km from city centre   \n",
       "17       Destinations Hostels @ The Gallery   Hostel - 1.7km from city centre   \n",
       "18                 Barmy Badger Backpackers   Hostel - 5.5km from city centre   \n",
       "19                           Astor Victoria   Hostel - 1.8km from city centre   \n",
       "20                 YHA London Oxford Street   Hostel - 2.1km from city centre   \n",
       "21                            Pickwick Hall   Hostel - 2.3km from city centre   \n",
       "22                  Queen Elizabeth Chelsea   Hostel - 5.7km from city centre   \n",
       "23                  Prime Backpackers Angel   Hostel - 3.6km from city centre   \n",
       "24              Dover Castle Hostel and Bar   Hostel - 1.7km from city centre   \n",
       "25  St Christopher's Inn - Liverpool Street   Hostel - 3.2km from city centre   \n",
       "26                         Astor Kensington   Hostel - 4.9km from city centre   \n",
       "27                  Saint James Backpackers   Hostel - 5.5km from city centre   \n",
       "28                 Kensal Green Backpackers   Hostel - 8.2km from city centre   \n",
       "29          St Christopher's Shepherds Bush     Hostel - 7km from city centre   \n",
       "30               St Christopher's Greenwich   Hostel - 7.6km from city centre   \n",
       "31                                 Clink261   Hostel - 3.2km from city centre   \n",
       "32      PubLove @ The White Ferry, Victoria   Hostel - 2.4km from city centre   \n",
       "33     PubLove @ The Steam Engine, Waterloo   Hostel - 0.5km from city centre   \n",
       "34                   YHA London Earls Court   Hostel - 5.1km from city centre   \n",
       "35       St Christopher's Oasis-Female Only   Hostel - 1.8km from city centre   \n",
       "36                       Strand Continental   Hostel - 1.3km from city centre   \n",
       "37                            Selina Camden   Hostel - 5.5km from city centre   \n",
       "38                       Book a Bed Hostels   Hostel - 6.9km from city centre   \n",
       "39           PubLove @ The Crown, Battersea   Hostel - 4.7km from city centre   \n",
       "40      PubLove @ The Green Man, Paddington   Hostel - 4.3km from city centre   \n",
       "41                    YHA London St Pancras   Hostel - 3.3km from city centre   \n",
       "42                       YHA London Central   Hostel - 2.9km from city centre   \n",
       "43       PubLove @ The Exmouth Arms, Euston   Hostel - 3.4km from city centre   \n",
       "44                               Park Villa   Hostel - 6.3km from city centre   \n",
       "\n",
       "   Rating         Total Review                  Overall Review  \\\n",
       "0     9.0  14308 Total Reviews                          Superb   \n",
       "1     8.1  11679 Total Reviews                        Fabulous   \n",
       "2     7.7   7255 Total Reviews     Superb\\n14308 Total Reviews   \n",
       "3     7.1   4663 Total Reviews   Fabulous\\n11679 Total Reviews   \n",
       "4     9.3   1587 Total Reviews   Very Good\\n7255 Total Reviews   \n",
       "5     9.2    537 Total Reviews   Very Good\\n4663 Total Reviews   \n",
       "6     6.8   1374 Total Reviews      Superb\\n1587 Total Reviews   \n",
       "7     6.8   4886 Total Reviews       Superb\\n537 Total Reviews   \n",
       "8     8.1   9110 Total Reviews        Good\\n1374 Total Reviews   \n",
       "9     7.1   3855 Total Reviews        Good\\n4886 Total Reviews   \n",
       "10    8.3   3895 Total Reviews    Fabulous\\n9110 Total Reviews   \n",
       "11    8.3   2975 Total Reviews   Very Good\\n3855 Total Reviews   \n",
       "12    7.4   3907 Total Reviews    Fabulous\\n3895 Total Reviews   \n",
       "13    7.5   6420 Total Reviews    Fabulous\\n2975 Total Reviews   \n",
       "14    7.8   1339 Total Reviews   Very Good\\n6420 Total Reviews   \n",
       "15    7.9   4156 Total Reviews   Very Good\\n1339 Total Reviews   \n",
       "16    9.4   4370 Total Reviews   Very Good\\n4156 Total Reviews   \n",
       "17    8.9     75 Total Reviews   Very Good\\n4370 Total Reviews   \n",
       "18    7.7   1854 Total Reviews        Superb\\n75 Total Reviews   \n",
       "19    8.8  14853 Total Reviews    Fabulous\\n1854 Total Reviews   \n",
       "20    8.4   4602 Total Reviews  Very Good\\n14853 Total Reviews   \n",
       "21    7.1   2513 Total Reviews    Fabulous\\n4602 Total Reviews   \n",
       "22    8.2   3356 Total Reviews    Fabulous\\n2513 Total Reviews   \n",
       "23    8.3    683 Total Reviews   Very Good\\n3356 Total Reviews   \n",
       "24    8.3   2293 Total Reviews     Fabulous\\n683 Total Reviews   \n",
       "25    8.0    444 Total Reviews    Fabulous\\n2293 Total Reviews   \n",
       "26    7.3   6443 Total Reviews     Fabulous\\n444 Total Reviews   \n",
       "27    7.4   1845 Total Reviews    Fabulous\\n6443 Total Reviews   \n",
       "28    6.7   3667 Total Reviews   Very Good\\n1845 Total Reviews   \n",
       "29    7.7    730 Total Reviews    Very Good\\n730 Total Reviews   \n",
       "30    7.8   3276 Total Reviews        Good\\n3276 Total Reviews   \n",
       "31    8.2    158 Total Reviews    Very Good\\n158 Total Reviews   \n",
       "32    9.4    301 Total Reviews    Very Good\\n301 Total Reviews   \n",
       "33    7.9    337 Total Reviews     Fabulous\\n337 Total Reviews   \n",
       "34    7.0   1438 Total Reviews      Superb\\n1438 Total Reviews   \n",
       "35    8.2    705 Total Reviews    Very Good\\n705 Total Reviews   \n",
       "36    6.0    916 Total Reviews    Very Good\\n916 Total Reviews   \n",
       "37    6.8     40 Total Reviews      Fabulous\\n40 Total Reviews   \n",
       "38    7.8   1215 Total Reviews        Good\\n1215 Total Reviews   \n",
       "39    8.8    277 Total Reviews         Good\\n277 Total Reviews   \n",
       "40    8.8    432 Total Reviews    Very Good\\n432 Total Reviews   \n",
       "41    6.5   2864 Total Reviews    Fabulous\\n2864 Total Reviews   \n",
       "42    7.5   4757 Total Reviews    Fabulous\\n4757 Total Reviews   \n",
       "43    6.6   1056 Total Reviews        Good\\n1056 Total Reviews   \n",
       "44    6.4    878 Total Reviews    Very Good\\n878 Total Reviews   \n",
       "\n",
       "    Private From Price    Dorms From Price  \\\n",
       "0   Rs17204.51 Rs13764  Rs17204.51 Rs13764   \n",
       "1     Rs3411.03 Rs2729    Rs3411.03 Rs2729   \n",
       "2     Rs1923.84 Rs1731    Rs1923.84 Rs1731   \n",
       "3               Rs7381              Rs7381   \n",
       "4               Rs2123              Rs2123   \n",
       "5               Rs8743              Rs8743   \n",
       "6               Rs1749              Rs1749   \n",
       "7   Rs14887.04 Rs13398  Rs14887.04 Rs13398   \n",
       "8     Rs3333.18 Rs3000    Rs3333.18 Rs3000   \n",
       "9    Rs13362.4 Rs10690   Rs13362.4 Rs10690   \n",
       "10    Rs2465.07 Rs1972    Rs2465.07 Rs1972   \n",
       "11              Rs1923              Rs1923   \n",
       "12              Rs1355              Rs1355   \n",
       "13              Rs1813              Rs1813   \n",
       "14    Rs1878.16 Rs1690    Rs1878.16 Rs1690   \n",
       "15    Rs2685.54 Rs2417    Rs2685.54 Rs2417   \n",
       "16             Rs11972             Rs11972   \n",
       "17              Rs1404              Rs1404   \n",
       "18    Rs2223.92 Rs2002    Rs2223.92 Rs2002   \n",
       "19    Rs5770.45 Rs4616    Rs5770.45 Rs4616   \n",
       "20    Rs1632.05 Rs1306    Rs1632.05 Rs1306   \n",
       "21       Rs1858 Rs1672       Rs1858 Rs1672   \n",
       "22              Rs1632              Rs1632   \n",
       "23              Rs3886              Rs3886   \n",
       "24              Rs7820              Rs7820   \n",
       "25              Rs2526              Rs2526   \n",
       "26              Rs1749              Rs1749   \n",
       "27              Rs8970              Rs8970   \n",
       "28              Rs6800              Rs6800   \n",
       "29              Rs1425              Rs1425   \n",
       "30              Rs2623              Rs2623   \n",
       "31              Rs1781              Rs1781   \n",
       "32     Rs3152.2 Rs2837     Rs3152.2 Rs2837   \n",
       "33              Rs1749              Rs1749   \n",
       "34              Rs7521              Rs7521   \n",
       "35              Rs2817              Rs2817   \n",
       "36              Rs5620              Rs5620   \n",
       "37              Rs1554              Rs1554   \n",
       "38    Rs2001.92 Rs1802    Rs2001.92 Rs1802   \n",
       "39    Rs1715.17 Rs1544    Rs1715.17 Rs1544   \n",
       "40    Rs2477.21 Rs2229    Rs2477.21 Rs2229   \n",
       "41              Rs2526              Rs2526   \n",
       "42              Rs3497              Rs3497   \n",
       "43              Rs8646              Rs8646   \n",
       "44  Rs13803.33 Rs12423  Rs13803.33 Rs12423   \n",
       "\n",
       "                                             Facility   Property Description  \n",
       "0     Free WiFi\\nFollows Covid-19 sanitation guidance  Fantastic Cleanliness  \n",
       "1     Free WiFi\\nFollows Covid-19 sanitation guidance  Excellent Cleanliness  \n",
       "2     Free WiFi\\nFollows Covid-19 sanitation guidance  Excellent Cleanliness  \n",
       "3     Free WiFi\\nFollows Covid-19 sanitation guidance  Excellent Cleanliness  \n",
       "4                                           Free WiFi  Fantastic Cleanliness  \n",
       "5     Free WiFi\\nFollows Covid-19 sanitation guidance  Fantastic Cleanliness  \n",
       "6                                           Free WiFi    Awesome Cleanliness  \n",
       "7     Free WiFi\\nFollows Covid-19 sanitation guidance    Awesome Cleanliness  \n",
       "8     Free WiFi\\nFollows Covid-19 sanitation guidance  Excellent Cleanliness  \n",
       "9     Free WiFi\\nFollows Covid-19 sanitation guidance       Good Cleanliness  \n",
       "10    Free WiFi\\nFollows Covid-19 sanitation guidance  Excellent Cleanliness  \n",
       "11    Free WiFi\\nFollows Covid-19 sanitation guidance  Fantastic Cleanliness  \n",
       "12    Free WiFi\\nFollows Covid-19 sanitation guidance    Awesome Cleanliness  \n",
       "13                                          Free WiFi  Excellent Cleanliness  \n",
       "14                          Free WiFi\\nFree Breakfast  Excellent Cleanliness  \n",
       "15    Free WiFi\\nFollows Covid-19 sanitation guidance  Excellent Cleanliness  \n",
       "16    Free WiFi\\nFollows Covid-19 sanitation guidance  Fantastic Cleanliness  \n",
       "17                          Free WiFi\\nFree Breakfast  Fantastic Cleanliness  \n",
       "18                          Free WiFi\\nFree Breakfast    Awesome Cleanliness  \n",
       "19    Free WiFi\\nFollows Covid-19 sanitation guidance  Fantastic Cleanliness  \n",
       "20    Free WiFi\\nFollows Covid-19 sanitation guidance  Excellent Cleanliness  \n",
       "21                                     Free Breakfast    Awesome Cleanliness  \n",
       "22                                          Free WiFi  Excellent Cleanliness  \n",
       "23    Free WiFi\\nFollows Covid-19 sanitation guidance  Fantastic Cleanliness  \n",
       "24                                          Free WiFi  Fantastic Cleanliness  \n",
       "25    Free WiFi\\nFollows Covid-19 sanitation guidance  Excellent Cleanliness  \n",
       "26    Free WiFi\\nFollows Covid-19 sanitation guidance    Awesome Cleanliness  \n",
       "27  Free WiFi\\nFree Breakfast\\nFollows Covid-19 sa...    Awesome Cleanliness  \n",
       "28               Follows Covid-19 sanitation guidance    Awesome Cleanliness  \n",
       "29    Free WiFi\\nFollows Covid-19 sanitation guidance  Excellent Cleanliness  \n",
       "30    Free WiFi\\nFollows Covid-19 sanitation guidance    Awesome Cleanliness  \n",
       "31    Free WiFi\\nFollows Covid-19 sanitation guidance  Excellent Cleanliness  \n",
       "32    Free WiFi\\nFollows Covid-19 sanitation guidance  Fantastic Cleanliness  \n",
       "33    Free WiFi\\nFollows Covid-19 sanitation guidance  Excellent Cleanliness  \n",
       "34    Free WiFi\\nFollows Covid-19 sanitation guidance  Fantastic Cleanliness  \n",
       "35    Free WiFi\\nFollows Covid-19 sanitation guidance    Awesome Cleanliness  \n",
       "36               Follows Covid-19 sanitation guidance  Excellent Cleanliness  \n",
       "37                                          Free WiFi  Fantastic Cleanliness  \n",
       "38                                          Free WiFi  Fantastic Cleanliness  \n",
       "39    Free WiFi\\nFollows Covid-19 sanitation guidance    Awesome Cleanliness  \n",
       "40    Free WiFi\\nFollows Covid-19 sanitation guidance       Good Cleanliness  \n",
       "41    Free WiFi\\nFollows Covid-19 sanitation guidance  Excellent Cleanliness  \n",
       "42    Free WiFi\\nFollows Covid-19 sanitation guidance  Fantastic Cleanliness  \n",
       "43    Free WiFi\\nFollows Covid-19 sanitation guidance       Good Cleanliness  \n",
       "44    Free WiFi\\nFollows Covid-19 sanitation guidance  Fantastic Cleanliness  "
      ]
     },
     "execution_count": 70,
     "metadata": {},
     "output_type": "execute_result"
    }
   ],
   "source": [
    "df2 = pd.DataFrame({'Name':names[0:45],'Distance from City Centre':distance[0:45],'Rating':rating[0:45],'Total Review':tr[0:45],'Overall Review':overall[0:45],'Private From Price':privateprice[0:45],'Dorms From Price':dormsprice[0:45],'Facility':facility[0:45],'Property Description':prop[0:45]})\n",
    "\n",
    "df2"
   ]
  },
  {
   "cell_type": "code",
   "execution_count": 71,
   "id": "dd6746e8",
   "metadata": {},
   "outputs": [],
   "source": [
    "driver.close()"
   ]
  },
  {
   "cell_type": "code",
   "execution_count": null,
   "id": "f2b7ead0",
   "metadata": {},
   "outputs": [],
   "source": []
  },
  {
   "cell_type": "code",
   "execution_count": null,
   "id": "c39e3ea6",
   "metadata": {},
   "outputs": [],
   "source": []
  },
  {
   "cell_type": "code",
   "execution_count": null,
   "id": "0dc2baff",
   "metadata": {},
   "outputs": [],
   "source": []
  },
  {
   "cell_type": "code",
   "execution_count": null,
   "id": "46c7977e",
   "metadata": {},
   "outputs": [],
   "source": [
    "# Q no -- 9"
   ]
  },
  {
   "cell_type": "code",
   "execution_count": 72,
   "id": "9428a6df",
   "metadata": {},
   "outputs": [
    {
     "data": {
      "text/plain": [
       "<selenium.webdriver.chrome.webdriver.WebDriver (session=\"c11ba96cfc4a9662b47a11b2c5c5ee23\")>"
      ]
     },
     "execution_count": 72,
     "metadata": {},
     "output_type": "execute_result"
    }
   ],
   "source": [
    "driver = webdriver.Chrome(r'C:\\Users\\user\\chromedriver.exe')\n",
    "\n",
    "driver"
   ]
  },
  {
   "cell_type": "code",
   "execution_count": 73,
   "id": "14810368",
   "metadata": {},
   "outputs": [],
   "source": [
    "url = 'https://youtube.com/'\n",
    "\n",
    "driver.get(url)"
   ]
  },
  {
   "cell_type": "code",
   "execution_count": 74,
   "id": "7e83520e",
   "metadata": {},
   "outputs": [],
   "source": [
    "com = []\n",
    "\n",
    "for i in driver.find_elements(By.XPATH,'//span[@class=\"style-scope yt-formatted-string\"]'):\n",
    "    com.append(i.text)"
   ]
  },
  {
   "cell_type": "code",
   "execution_count": 117,
   "id": "6f24fd6f",
   "metadata": {},
   "outputs": [
    {
     "data": {
      "text/plain": [
       "1138"
      ]
     },
     "execution_count": 117,
     "metadata": {},
     "output_type": "execute_result"
    }
   ],
   "source": [
    "len(com)"
   ]
  },
  {
   "cell_type": "code",
   "execution_count": 121,
   "id": "49806b1a",
   "metadata": {},
   "outputs": [],
   "source": [
    "com = com[23:]"
   ]
  },
  {
   "cell_type": "code",
   "execution_count": 122,
   "id": "81c4f8fd",
   "metadata": {},
   "outputs": [
    {
     "data": {
      "text/plain": [
       "1115"
      ]
     },
     "execution_count": 122,
     "metadata": {},
     "output_type": "execute_result"
    }
   ],
   "source": [
    "len(com)"
   ]
  },
  {
   "cell_type": "code",
   "execution_count": 123,
   "id": "d65af59f",
   "metadata": {},
   "outputs": [],
   "source": [
    "com = com[0:500]"
   ]
  },
  {
   "cell_type": "code",
   "execution_count": null,
   "id": "0dedabf2",
   "metadata": {},
   "outputs": [],
   "source": []
  },
  {
   "cell_type": "code",
   "execution_count": 110,
   "id": "a6256dd8",
   "metadata": {},
   "outputs": [],
   "source": [
    "time = []\n",
    "\n",
    "for i in driver.find_elements(By.XPATH,'//a[@class=\"yt-simple-endpoint style-scope yt-formatted-string\"]'):\n",
    "    time.append(i.text)"
   ]
  },
  {
   "cell_type": "code",
   "execution_count": 111,
   "id": "3856e6f3",
   "metadata": {},
   "outputs": [
    {
     "data": {
      "text/plain": [
       "779"
      ]
     },
     "execution_count": 111,
     "metadata": {},
     "output_type": "execute_result"
    }
   ],
   "source": [
    "len(time)"
   ]
  },
  {
   "cell_type": "code",
   "execution_count": 113,
   "id": "c8e7a9bf",
   "metadata": {},
   "outputs": [],
   "source": [
    "time = time[66:]"
   ]
  },
  {
   "cell_type": "code",
   "execution_count": 114,
   "id": "70e53619",
   "metadata": {},
   "outputs": [
    {
     "data": {
      "text/plain": [
       "713"
      ]
     },
     "execution_count": 114,
     "metadata": {},
     "output_type": "execute_result"
    }
   ],
   "source": [
    "len(time)"
   ]
  },
  {
   "cell_type": "code",
   "execution_count": 115,
   "id": "80cc1ab0",
   "metadata": {},
   "outputs": [],
   "source": [
    "time = time[0:500]"
   ]
  },
  {
   "cell_type": "code",
   "execution_count": 116,
   "id": "b9f1fe64",
   "metadata": {},
   "outputs": [
    {
     "data": {
      "text/plain": [
       "500"
      ]
     },
     "execution_count": 116,
     "metadata": {},
     "output_type": "execute_result"
    }
   ],
   "source": [
    "len(time)"
   ]
  },
  {
   "cell_type": "code",
   "execution_count": 124,
   "id": "0c9002b1",
   "metadata": {},
   "outputs": [
    {
     "data": {
      "text/html": [
       "<div>\n",
       "<style scoped>\n",
       "    .dataframe tbody tr th:only-of-type {\n",
       "        vertical-align: middle;\n",
       "    }\n",
       "\n",
       "    .dataframe tbody tr th {\n",
       "        vertical-align: top;\n",
       "    }\n",
       "\n",
       "    .dataframe thead th {\n",
       "        text-align: right;\n",
       "    }\n",
       "</style>\n",
       "<table border=\"1\" class=\"dataframe\">\n",
       "  <thead>\n",
       "    <tr style=\"text-align: right;\">\n",
       "      <th></th>\n",
       "      <th>Comments</th>\n",
       "      <th>Time</th>\n",
       "    </tr>\n",
       "  </thead>\n",
       "  <tbody>\n",
       "    <tr>\n",
       "      <th>0</th>\n",
       "      <td>This man just showed that how to entertain peo...</td>\n",
       "      <td>22 hours ago</td>\n",
       "    </tr>\n",
       "    <tr>\n",
       "      <th>1</th>\n",
       "      <td>A legend who make us smile without abuse but o...</td>\n",
       "      <td>19 hours ago</td>\n",
       "    </tr>\n",
       "    <tr>\n",
       "      <th>2</th>\n",
       "      <td>️</td>\n",
       "      <td>32 minutes ago</td>\n",
       "    </tr>\n",
       "    <tr>\n",
       "      <th>3</th>\n",
       "      <td>one of the best things about dude is that he n...</td>\n",
       "      <td>1 day ago</td>\n",
       "    </tr>\n",
       "    <tr>\n",
       "      <th>4</th>\n",
       "      <td>Content without gaali and without aslil ...Tha...</td>\n",
       "      <td>12 hours ago</td>\n",
       "    </tr>\n",
       "    <tr>\n",
       "      <th>...</th>\n",
       "      <td>...</td>\n",
       "      <td>...</td>\n",
       "    </tr>\n",
       "    <tr>\n",
       "      <th>495</th>\n",
       "      <td>..</td>\n",
       "      <td>3 days ago</td>\n",
       "    </tr>\n",
       "    <tr>\n",
       "      <th>496</th>\n",
       "      <td>it's like someone pouring honey in ears wahhh</td>\n",
       "      <td>3 days ago</td>\n",
       "    </tr>\n",
       "    <tr>\n",
       "      <th>497</th>\n",
       "      <td>Top</td>\n",
       "      <td>3 days ago</td>\n",
       "    </tr>\n",
       "    <tr>\n",
       "      <th>498</th>\n",
       "      <td>️</td>\n",
       "      <td>1 hour ago</td>\n",
       "    </tr>\n",
       "    <tr>\n",
       "      <th>499</th>\n",
       "      <td>it's like someone pouring honey in ears wahhh</td>\n",
       "      <td>3 days ago</td>\n",
       "    </tr>\n",
       "  </tbody>\n",
       "</table>\n",
       "<p>500 rows × 2 columns</p>\n",
       "</div>"
      ],
      "text/plain": [
       "                                              Comments            Time\n",
       "0    This man just showed that how to entertain peo...    22 hours ago\n",
       "1    A legend who make us smile without abuse but o...    19 hours ago\n",
       "2                                                    ️  32 minutes ago\n",
       "3    one of the best things about dude is that he n...       1 day ago\n",
       "4    Content without gaali and without aslil ...Tha...    12 hours ago\n",
       "..                                                 ...             ...\n",
       "495                                                 ..      3 days ago\n",
       "496      it's like someone pouring honey in ears wahhh      3 days ago\n",
       "497                                               Top       3 days ago\n",
       "498                                                  ️      1 hour ago\n",
       "499      it's like someone pouring honey in ears wahhh      3 days ago\n",
       "\n",
       "[500 rows x 2 columns]"
      ]
     },
     "execution_count": 124,
     "metadata": {},
     "output_type": "execute_result"
    }
   ],
   "source": [
    "df3 = pd.DataFrame({'Comments':com,'Time':time})\n",
    "\n",
    "df3"
   ]
  },
  {
   "cell_type": "code",
   "execution_count": 125,
   "id": "c1bbb13e",
   "metadata": {},
   "outputs": [],
   "source": [
    "driver.close()"
   ]
  },
  {
   "cell_type": "code",
   "execution_count": null,
   "id": "3b39a55d",
   "metadata": {},
   "outputs": [],
   "source": []
  },
  {
   "cell_type": "code",
   "execution_count": null,
   "id": "df0f6bdb",
   "metadata": {},
   "outputs": [],
   "source": []
  },
  {
   "cell_type": "code",
   "execution_count": null,
   "id": "b074482a",
   "metadata": {},
   "outputs": [],
   "source": [
    "# Q no -- 7"
   ]
  },
  {
   "cell_type": "code",
   "execution_count": 29,
   "id": "69675bc8",
   "metadata": {},
   "outputs": [
    {
     "data": {
      "text/plain": [
       "<selenium.webdriver.chrome.webdriver.WebDriver (session=\"30dd7dbe0251a0828e0bfd1c1a653412\")>"
      ]
     },
     "execution_count": 29,
     "metadata": {},
     "output_type": "execute_result"
    }
   ],
   "source": [
    "driver = webdriver.Chrome(r'C:\\Users\\user\\chromedriver.exe')\n",
    "\n",
    "driver"
   ]
  },
  {
   "cell_type": "code",
   "execution_count": 30,
   "id": "fa3aae80",
   "metadata": {},
   "outputs": [],
   "source": [
    "url = 'https://digit.in/'\n",
    "\n",
    "driver.get(url)"
   ]
  },
  {
   "cell_type": "code",
   "execution_count": 34,
   "id": "18c9fb3b",
   "metadata": {},
   "outputs": [],
   "source": [
    "name = []\n",
    "\n",
    "for i in driver.find_elements(By.XPATH,'//div[@class=\"left_side\"]'):\n",
    "    name.append(i.text)"
   ]
  },
  {
   "cell_type": "code",
   "execution_count": 58,
   "id": "ec89a912",
   "metadata": {},
   "outputs": [],
   "source": [
    "name = [name[0][3:23],name[1][3:19],name[2][3:40],name[3][3:26],name[4][3:36],name[5][3:29],name[6][3:26],name[7][3:36],name[8][3:48],name[9][3:35]]"
   ]
  },
  {
   "cell_type": "code",
   "execution_count": 60,
   "id": "b36b9c2b",
   "metadata": {},
   "outputs": [],
   "source": [
    "win = []\n",
    "\n",
    "for i in driver.find_elements(By.XPATH,'//div[@class=\"Wrap-pop\"]'):\n",
    "    win.append(i.text)"
   ]
  },
  {
   "cell_type": "code",
   "execution_count": 71,
   "id": "7235b621",
   "metadata": {
    "scrolled": true
   },
   "outputs": [
    {
     "data": {
      "text/plain": [
       "40"
      ]
     },
     "execution_count": 71,
     "metadata": {},
     "output_type": "execute_result"
    }
   ],
   "source": [
    "len(win)"
   ]
  },
  {
   "cell_type": "code",
   "execution_count": 63,
   "id": "7df067f1",
   "metadata": {},
   "outputs": [],
   "source": [
    "window = [win[0],win[4],win[8],win[12],win[16],win[20],win[24],win[28],win[32],win[36]]"
   ]
  },
  {
   "cell_type": "code",
   "execution_count": 65,
   "id": "e87df9f5",
   "metadata": {},
   "outputs": [],
   "source": [
    "display = [win[1],win[5],win[9],win[13],win[17],win[21],win[25],win[29],win[33],win[37]]"
   ]
  },
  {
   "cell_type": "code",
   "execution_count": 67,
   "id": "2450b314",
   "metadata": {},
   "outputs": [],
   "source": [
    "processor = [win[2],win[6],win[10],win[14],win[18],win[22],win[26],win[30],win[34],win[38]]"
   ]
  },
  {
   "cell_type": "code",
   "execution_count": 69,
   "id": "a10f28b3",
   "metadata": {},
   "outputs": [],
   "source": [
    "mem = [win[3],win[7],win[11],win[15],win[19],win[23],win[27],win[31],win[35],win[39]]"
   ]
  },
  {
   "cell_type": "code",
   "execution_count": 72,
   "id": "05e95618",
   "metadata": {},
   "outputs": [],
   "source": [
    "spec = []\n",
    "\n",
    "for i in driver.find_elements(By.XPATH,'//div[@class=\"Section-center\"]'):\n",
    "    spec.append(i.text)"
   ]
  },
  {
   "cell_type": "code",
   "execution_count": 77,
   "id": "ac2d0405",
   "metadata": {},
   "outputs": [],
   "source": [
    "spec = [spec[0],spec[1],spec[2],spec[3],spec[4],spec[5],spec[6],spec[7],spec[8],spec[9]]"
   ]
  },
  {
   "cell_type": "code",
   "execution_count": 82,
   "id": "e991932d",
   "metadata": {},
   "outputs": [
    {
     "data": {
      "text/plain": [
       "40"
      ]
     },
     "execution_count": 82,
     "metadata": {},
     "output_type": "execute_result"
    }
   ],
   "source": [
    "len(win)"
   ]
  },
  {
   "cell_type": "code",
   "execution_count": 83,
   "id": "4478d214",
   "metadata": {},
   "outputs": [
    {
     "data": {
      "text/html": [
       "<div>\n",
       "<style scoped>\n",
       "    .dataframe tbody tr th:only-of-type {\n",
       "        vertical-align: middle;\n",
       "    }\n",
       "\n",
       "    .dataframe tbody tr th {\n",
       "        vertical-align: top;\n",
       "    }\n",
       "\n",
       "    .dataframe thead th {\n",
       "        text-align: right;\n",
       "    }\n",
       "</style>\n",
       "<table border=\"1\" class=\"dataframe\">\n",
       "  <thead>\n",
       "    <tr style=\"text-align: right;\">\n",
       "      <th></th>\n",
       "      <th>Name</th>\n",
       "      <th>Window</th>\n",
       "      <th>Display</th>\n",
       "      <th>Processor</th>\n",
       "      <th>Memory</th>\n",
       "      <th>Specification</th>\n",
       "    </tr>\n",
       "  </thead>\n",
       "  <tbody>\n",
       "    <tr>\n",
       "      <th>0</th>\n",
       "      <td>MSI Titan GT77-12UHS</td>\n",
       "      <td>Windows 11 Home OS</td>\n",
       "      <td>17.3\" (3840 x 2160) Display</td>\n",
       "      <td>12th Gen Intel Core i9-12900HX | NA Processor</td>\n",
       "      <td>2 TB SSD/64 GB DDR5 Memory</td>\n",
       "      <td>The very best MSI gaming laptop featuring an I...</td>\n",
       "    </tr>\n",
       "    <tr>\n",
       "      <th>1</th>\n",
       "      <td>Alienware X17 R2</td>\n",
       "      <td>Windows 11 Home OS</td>\n",
       "      <td>17.3\" (1920 x 1080) Display</td>\n",
       "      <td>12th Gen Intel Core i9-12900H | 5 GHz Processor</td>\n",
       "      <td>1 TB SSD/32 GB DDR5 Memory</td>\n",
       "      <td>Alienware, the premium gaming brand from Dell ...</td>\n",
       "    </tr>\n",
       "    <tr>\n",
       "      <th>2</th>\n",
       "      <td>Acer Predator Triton 500 SE PT516-52s</td>\n",
       "      <td>Windows 11 OS</td>\n",
       "      <td>16\" (2560 x 1600) Display</td>\n",
       "      <td>12th Gen Intel Core i7-12700H | 3.5 GHz Processor</td>\n",
       "      <td>2 TB SSD/32 GB DDR5 Memory</td>\n",
       "      <td>The Predator lineup from Acer has shown great ...</td>\n",
       "    </tr>\n",
       "    <tr>\n",
       "      <th>3</th>\n",
       "      <td>Omen By HP (16-B1371TX)</td>\n",
       "      <td>Windows 11 Home OS</td>\n",
       "      <td>16.1\" (2560 x 1440) Display</td>\n",
       "      <td>12th Gen Intel Core i7-12700H | 4.7 GHz Processor</td>\n",
       "      <td>1 TB SSD/8 GB DDR5 Memory</td>\n",
       "      <td>Omen by HP is a premium gaming lineup which is...</td>\n",
       "    </tr>\n",
       "    <tr>\n",
       "      <th>4</th>\n",
       "      <td>Acer Predator Helios 300 AN515-45</td>\n",
       "      <td>Windows 11 Home OS</td>\n",
       "      <td>15.6\" (2560 x 1440) Display</td>\n",
       "      <td>AMD Ryzen 9-5900HX | NA Processor</td>\n",
       "      <td>512 GB SSD/16 GB DDR4 Memory</td>\n",
       "      <td>Acer Predator Helios 300 AN515-45 is the best ...</td>\n",
       "    </tr>\n",
       "    <tr>\n",
       "      <th>5</th>\n",
       "      <td>MSI Delta 15 (A5EFK-083IN)</td>\n",
       "      <td>Windows 11 Home OS</td>\n",
       "      <td>15.6\" (1920 x 1080) Display</td>\n",
       "      <td>AMD 5th Gen Ryzen 9-5900HX | 3.3GHz Processor</td>\n",
       "      <td>1 TB SSD/16 GBGB DDR4 Memory</td>\n",
       "      <td>The best MSI gaming laptop with an AMD process...</td>\n",
       "    </tr>\n",
       "    <tr>\n",
       "      <th>6</th>\n",
       "      <td>Omen By HP (16-C0141AX)</td>\n",
       "      <td>Windows 11 Home OS</td>\n",
       "      <td>16.1\" (2560 x 1440) Display</td>\n",
       "      <td>AMD Ryzen™ 9 5900HX | 3.3 GHz Processor</td>\n",
       "      <td>1 TB NVMe/16 GB DDR4 Memory</td>\n",
       "      <td>Another worthy gaming laptop from the Omen lin...</td>\n",
       "    </tr>\n",
       "    <tr>\n",
       "      <th>7</th>\n",
       "      <td>Lenovo Legion 5i Pro (82RF00MGIN)</td>\n",
       "      <td>Windows 11 Home OS</td>\n",
       "      <td>16\" (2560 x 1600) Display</td>\n",
       "      <td>12th Gen Intel Core i7-12700H | 2.3 GHz Processor</td>\n",
       "      <td>1 TB SSD/16 GB DDR5 Memory</td>\n",
       "      <td>Lenovo has gone a little mainstream with their...</td>\n",
       "    </tr>\n",
       "    <tr>\n",
       "      <th>8</th>\n",
       "      <td>Alienware M15 R5 Ryzen Edition Icc-C780001win</td>\n",
       "      <td>Windows 11 Home OS</td>\n",
       "      <td>15.6\" (1920 x 1080) Display</td>\n",
       "      <td>AMD Ryzen R7-5800H | 4.40 GHz Processor</td>\n",
       "      <td>512 GB SSD/16 GB DDR4 Memory</td>\n",
       "      <td>Dell not only has gaming laptops under the Del...</td>\n",
       "    </tr>\n",
       "    <tr>\n",
       "      <th>9</th>\n",
       "      <td>\\nLenovo Slim 7 Gen 6 (82K8002JIN</td>\n",
       "      <td>Windows 11 Home OS</td>\n",
       "      <td>15.6 MP | NA Display</td>\n",
       "      <td>Lenovo Ryzen 7-5800H | 3.2 GHz Processor</td>\n",
       "      <td>1 TB SSD/16 GB DDR4 Memory</td>\n",
       "      <td>Lenovo has been pushing for thinner gaming lap...</td>\n",
       "    </tr>\n",
       "  </tbody>\n",
       "</table>\n",
       "</div>"
      ],
      "text/plain": [
       "                                            Name              Window  \\\n",
       "0                           MSI Titan GT77-12UHS  Windows 11 Home OS   \n",
       "1                               Alienware X17 R2  Windows 11 Home OS   \n",
       "2          Acer Predator Triton 500 SE PT516-52s       Windows 11 OS   \n",
       "3                        Omen By HP (16-B1371TX)  Windows 11 Home OS   \n",
       "4              Acer Predator Helios 300 AN515-45  Windows 11 Home OS   \n",
       "5                     MSI Delta 15 (A5EFK-083IN)  Windows 11 Home OS   \n",
       "6                        Omen By HP (16-C0141AX)  Windows 11 Home OS   \n",
       "7              Lenovo Legion 5i Pro (82RF00MGIN)  Windows 11 Home OS   \n",
       "8  Alienware M15 R5 Ryzen Edition Icc-C780001win  Windows 11 Home OS   \n",
       "9              \\nLenovo Slim 7 Gen 6 (82K8002JIN  Windows 11 Home OS   \n",
       "\n",
       "                       Display  \\\n",
       "0  17.3\" (3840 x 2160) Display   \n",
       "1  17.3\" (1920 x 1080) Display   \n",
       "2    16\" (2560 x 1600) Display   \n",
       "3  16.1\" (2560 x 1440) Display   \n",
       "4  15.6\" (2560 x 1440) Display   \n",
       "5  15.6\" (1920 x 1080) Display   \n",
       "6  16.1\" (2560 x 1440) Display   \n",
       "7    16\" (2560 x 1600) Display   \n",
       "8  15.6\" (1920 x 1080) Display   \n",
       "9         15.6 MP | NA Display   \n",
       "\n",
       "                                           Processor  \\\n",
       "0      12th Gen Intel Core i9-12900HX | NA Processor   \n",
       "1    12th Gen Intel Core i9-12900H | 5 GHz Processor   \n",
       "2  12th Gen Intel Core i7-12700H | 3.5 GHz Processor   \n",
       "3  12th Gen Intel Core i7-12700H | 4.7 GHz Processor   \n",
       "4                  AMD Ryzen 9-5900HX | NA Processor   \n",
       "5      AMD 5th Gen Ryzen 9-5900HX | 3.3GHz Processor   \n",
       "6            AMD Ryzen™ 9 5900HX | 3.3 GHz Processor   \n",
       "7  12th Gen Intel Core i7-12700H | 2.3 GHz Processor   \n",
       "8            AMD Ryzen R7-5800H | 4.40 GHz Processor   \n",
       "9           Lenovo Ryzen 7-5800H | 3.2 GHz Processor   \n",
       "\n",
       "                         Memory  \\\n",
       "0    2 TB SSD/64 GB DDR5 Memory   \n",
       "1    1 TB SSD/32 GB DDR5 Memory   \n",
       "2    2 TB SSD/32 GB DDR5 Memory   \n",
       "3     1 TB SSD/8 GB DDR5 Memory   \n",
       "4  512 GB SSD/16 GB DDR4 Memory   \n",
       "5  1 TB SSD/16 GBGB DDR4 Memory   \n",
       "6   1 TB NVMe/16 GB DDR4 Memory   \n",
       "7    1 TB SSD/16 GB DDR5 Memory   \n",
       "8  512 GB SSD/16 GB DDR4 Memory   \n",
       "9    1 TB SSD/16 GB DDR4 Memory   \n",
       "\n",
       "                                       Specification  \n",
       "0  The very best MSI gaming laptop featuring an I...  \n",
       "1  Alienware, the premium gaming brand from Dell ...  \n",
       "2  The Predator lineup from Acer has shown great ...  \n",
       "3  Omen by HP is a premium gaming lineup which is...  \n",
       "4  Acer Predator Helios 300 AN515-45 is the best ...  \n",
       "5  The best MSI gaming laptop with an AMD process...  \n",
       "6  Another worthy gaming laptop from the Omen lin...  \n",
       "7  Lenovo has gone a little mainstream with their...  \n",
       "8  Dell not only has gaming laptops under the Del...  \n",
       "9  Lenovo has been pushing for thinner gaming lap...  "
      ]
     },
     "execution_count": 83,
     "metadata": {},
     "output_type": "execute_result"
    }
   ],
   "source": [
    "df = pd.DataFrame({'Name':name,'Window':window,'Display':display,'Processor':processor,'Memory':mem,'Specification':spec})\n",
    "\n",
    "df"
   ]
  },
  {
   "cell_type": "code",
   "execution_count": 84,
   "id": "f74affd9",
   "metadata": {},
   "outputs": [],
   "source": [
    "driver.close()"
   ]
  },
  {
   "cell_type": "code",
   "execution_count": null,
   "id": "ae020f05",
   "metadata": {},
   "outputs": [],
   "source": []
  },
  {
   "cell_type": "code",
   "execution_count": null,
   "id": "4638edf0",
   "metadata": {},
   "outputs": [],
   "source": []
  },
  {
   "cell_type": "code",
   "execution_count": null,
   "id": "42b06c08",
   "metadata": {},
   "outputs": [],
   "source": [
    "# Q no -- 6"
   ]
  },
  {
   "cell_type": "code",
   "execution_count": 85,
   "id": "702e2839",
   "metadata": {},
   "outputs": [
    {
     "data": {
      "text/plain": [
       "<selenium.webdriver.chrome.webdriver.WebDriver (session=\"14ba9abf3afb94939e1ebf5d558e981c\")>"
      ]
     },
     "execution_count": 85,
     "metadata": {},
     "output_type": "execute_result"
    }
   ],
   "source": [
    "driver = webdriver.Chrome(r'C:\\Users\\user\\chromedriver.exe')\n",
    "\n",
    "driver"
   ]
  },
  {
   "cell_type": "code",
   "execution_count": 86,
   "id": "42f4842b",
   "metadata": {},
   "outputs": [],
   "source": [
    "url = 'https://trak.in/'\n",
    "\n",
    "driver.get(url)"
   ]
  },
  {
   "cell_type": "code",
   "execution_count": 87,
   "id": "225764a6",
   "metadata": {},
   "outputs": [],
   "source": [
    "sr = []\n",
    "\n",
    "for i in driver.find_elements(By.XPATH,'//td[@class=\"column-1\"]'):\n",
    "    sr.append(i.text)"
   ]
  },
  {
   "cell_type": "code",
   "execution_count": 92,
   "id": "b0772143",
   "metadata": {},
   "outputs": [],
   "source": [
    "sr = sr[5:29]"
   ]
  },
  {
   "cell_type": "code",
   "execution_count": 93,
   "id": "09bed0f0",
   "metadata": {},
   "outputs": [],
   "source": [
    "date = []\n",
    "\n",
    "for i in driver.find_elements(By.XPATH,'//td[@class=\"column-2\"]'):\n",
    "    date.append(i.text)"
   ]
  },
  {
   "cell_type": "code",
   "execution_count": 97,
   "id": "790f9c09",
   "metadata": {},
   "outputs": [],
   "source": [
    "date = date[5:29]"
   ]
  },
  {
   "cell_type": "code",
   "execution_count": 99,
   "id": "d45ecc63",
   "metadata": {},
   "outputs": [],
   "source": [
    "strt = []\n",
    "\n",
    "for i in driver.find_elements(By.XPATH,'//td[@class=\"column-3\"]'):\n",
    "    strt.append(i.text)"
   ]
  },
  {
   "cell_type": "code",
   "execution_count": 101,
   "id": "12b1ca98",
   "metadata": {},
   "outputs": [],
   "source": [
    "strt = strt[5:29]"
   ]
  },
  {
   "cell_type": "code",
   "execution_count": 102,
   "id": "89aab2dd",
   "metadata": {},
   "outputs": [],
   "source": [
    "ind = []\n",
    "\n",
    "for i in driver.find_elements(By.XPATH,'//td[@class=\"column-4\"]'):\n",
    "    ind.append(i.text)"
   ]
  },
  {
   "cell_type": "code",
   "execution_count": 105,
   "id": "779817ee",
   "metadata": {},
   "outputs": [],
   "source": [
    "ind = ind[5:29]"
   ]
  },
  {
   "cell_type": "code",
   "execution_count": 106,
   "id": "0d61011c",
   "metadata": {},
   "outputs": [],
   "source": [
    "sub = []\n",
    "\n",
    "for i in driver.find_elements(By.XPATH,'//td[@class=\"column-5\"]'):\n",
    "    sub.append(i.text)"
   ]
  },
  {
   "cell_type": "code",
   "execution_count": 108,
   "id": "5fa5fadb",
   "metadata": {},
   "outputs": [],
   "source": [
    "sub = sub[5:29]"
   ]
  },
  {
   "cell_type": "code",
   "execution_count": 109,
   "id": "28bed8a9",
   "metadata": {},
   "outputs": [],
   "source": [
    "city = []\n",
    "\n",
    "for i in driver.find_elements(By.XPATH,'//td[@class=\"column-6\"]'):\n",
    "    city.append(i.text)"
   ]
  },
  {
   "cell_type": "code",
   "execution_count": 112,
   "id": "dbefadbd",
   "metadata": {},
   "outputs": [],
   "source": [
    "city = city[5:29]"
   ]
  },
  {
   "cell_type": "code",
   "execution_count": 113,
   "id": "b5d19938",
   "metadata": {},
   "outputs": [],
   "source": [
    "inv_name = []\n",
    "\n",
    "for i in driver.find_elements(By.XPATH,'//td[@class=\"column-7\"]'):\n",
    "    inv_name.append(i.text)"
   ]
  },
  {
   "cell_type": "code",
   "execution_count": 115,
   "id": "e4699cb9",
   "metadata": {},
   "outputs": [],
   "source": [
    "inv_name = inv_name[5:29]"
   ]
  },
  {
   "cell_type": "code",
   "execution_count": 116,
   "id": "b94ded1c",
   "metadata": {},
   "outputs": [],
   "source": [
    "inv_type = []\n",
    "\n",
    "for i in driver.find_elements(By.XPATH,'//td[@class=\"column-8\"]'):\n",
    "    inv_type.append(i.text)"
   ]
  },
  {
   "cell_type": "code",
   "execution_count": 118,
   "id": "04630d2c",
   "metadata": {},
   "outputs": [],
   "source": [
    "inv_type = inv_type[5:29]"
   ]
  },
  {
   "cell_type": "code",
   "execution_count": 120,
   "id": "dc87fe26",
   "metadata": {},
   "outputs": [],
   "source": [
    "amount = []\n",
    "\n",
    "for i in driver.find_elements(By.XPATH,'//td[@class=\"column-9\"]'):\n",
    "    amount.append(i.text)"
   ]
  },
  {
   "cell_type": "code",
   "execution_count": 122,
   "id": "77d33831",
   "metadata": {},
   "outputs": [],
   "source": [
    "amount = amount[5:29]"
   ]
  },
  {
   "cell_type": "code",
   "execution_count": 123,
   "id": "1baff1f1",
   "metadata": {},
   "outputs": [
    {
     "data": {
      "text/html": [
       "<div>\n",
       "<style scoped>\n",
       "    .dataframe tbody tr th:only-of-type {\n",
       "        vertical-align: middle;\n",
       "    }\n",
       "\n",
       "    .dataframe tbody tr th {\n",
       "        vertical-align: top;\n",
       "    }\n",
       "\n",
       "    .dataframe thead th {\n",
       "        text-align: right;\n",
       "    }\n",
       "</style>\n",
       "<table border=\"1\" class=\"dataframe\">\n",
       "  <thead>\n",
       "    <tr style=\"text-align: right;\">\n",
       "      <th></th>\n",
       "      <th>Sr No.</th>\n",
       "      <th>Date</th>\n",
       "      <th>Startup Name</th>\n",
       "      <th>Industry Vertical</th>\n",
       "      <th>Sub Vertical</th>\n",
       "      <th>City/Location</th>\n",
       "      <th>Investor Name</th>\n",
       "      <th>Investment Type</th>\n",
       "      <th>Amount(in USD)</th>\n",
       "    </tr>\n",
       "  </thead>\n",
       "  <tbody>\n",
       "    <tr>\n",
       "      <th>0</th>\n",
       "      <td>1</td>\n",
       "      <td>04/03/2021</td>\n",
       "      <td>DealShare</td>\n",
       "      <td>E-commerce</td>\n",
       "      <td>Online shopping platform</td>\n",
       "      <td>Jaipur, Rajasthan</td>\n",
       "      <td>Innoven Capital</td>\n",
       "      <td>Debt Financing</td>\n",
       "      <td>250,000,000</td>\n",
       "    </tr>\n",
       "    <tr>\n",
       "      <th>1</th>\n",
       "      <td>2</td>\n",
       "      <td>31/03/2021</td>\n",
       "      <td>Uniphore</td>\n",
       "      <td>Technology</td>\n",
       "      <td>Conversational Service Automation (CSA)</td>\n",
       "      <td>Palo Alto</td>\n",
       "      <td>Sorenson Capital Partners</td>\n",
       "      <td>Series D</td>\n",
       "      <td>140,000,000</td>\n",
       "    </tr>\n",
       "    <tr>\n",
       "      <th>2</th>\n",
       "      <td>3</td>\n",
       "      <td>30/03/2021</td>\n",
       "      <td>Dunzo</td>\n",
       "      <td>E-commerce</td>\n",
       "      <td>Hyper-local delivery app</td>\n",
       "      <td>Bengaluru</td>\n",
       "      <td>Krishtal Advisors Pte Ltd</td>\n",
       "      <td>Series E</td>\n",
       "      <td>8,000,000</td>\n",
       "    </tr>\n",
       "    <tr>\n",
       "      <th>3</th>\n",
       "      <td>4</td>\n",
       "      <td>30/03/2021</td>\n",
       "      <td>BYJU’S</td>\n",
       "      <td>Edu-tech</td>\n",
       "      <td>Online tutoring</td>\n",
       "      <td>Bengaluru</td>\n",
       "      <td>MC Global Edtech, B Capital, Baron, others</td>\n",
       "      <td>Series F</td>\n",
       "      <td>460,000,000</td>\n",
       "    </tr>\n",
       "    <tr>\n",
       "      <th>4</th>\n",
       "      <td>5</td>\n",
       "      <td>23/03/2021</td>\n",
       "      <td>SkilloVilla</td>\n",
       "      <td>Edu-tech</td>\n",
       "      <td>Career and job-oriented upskilling.</td>\n",
       "      <td>Bengaluru</td>\n",
       "      <td>Titan Capital, others</td>\n",
       "      <td>Seed</td>\n",
       "      <td>300,000,000</td>\n",
       "    </tr>\n",
       "    <tr>\n",
       "      <th>5</th>\n",
       "      <td>6</td>\n",
       "      <td>25/03/2021</td>\n",
       "      <td>CityMall</td>\n",
       "      <td>E-commerce</td>\n",
       "      <td>Social ecommerce and online grocery platform</td>\n",
       "      <td>Gurgaon</td>\n",
       "      <td>Accel Partners</td>\n",
       "      <td>Series A</td>\n",
       "      <td>11,000,000</td>\n",
       "    </tr>\n",
       "    <tr>\n",
       "      <th>6</th>\n",
       "      <td>7</td>\n",
       "      <td>26/03/2021</td>\n",
       "      <td>DotPe</td>\n",
       "      <td>FinTech</td>\n",
       "      <td>Commerce and payments platform to offline ente...</td>\n",
       "      <td>Gurgaon</td>\n",
       "      <td>PayU</td>\n",
       "      <td>Series A</td>\n",
       "      <td>27,500,000</td>\n",
       "    </tr>\n",
       "    <tr>\n",
       "      <th>7</th>\n",
       "      <td>1</td>\n",
       "      <td>11/02/2021</td>\n",
       "      <td>Doubtnut</td>\n",
       "      <td>Edu Tech</td>\n",
       "      <td>E-Learning Platform</td>\n",
       "      <td>Gurgaon</td>\n",
       "      <td>SIG Global, Sequoia Capital, WaterBridge Ventu...</td>\n",
       "      <td>Series B</td>\n",
       "      <td>2,500,000</td>\n",
       "    </tr>\n",
       "    <tr>\n",
       "      <th>8</th>\n",
       "      <td>2</td>\n",
       "      <td>22/02/2021</td>\n",
       "      <td>Zomato</td>\n",
       "      <td>Hospitality</td>\n",
       "      <td>Online Food Delivery Platform</td>\n",
       "      <td>Gurgaon</td>\n",
       "      <td>Tiger Global, Kora</td>\n",
       "      <td>Venture</td>\n",
       "      <td>250,000,000</td>\n",
       "    </tr>\n",
       "    <tr>\n",
       "      <th>9</th>\n",
       "      <td>3</td>\n",
       "      <td>19/02/2021</td>\n",
       "      <td>Fingerlix</td>\n",
       "      <td>Hospitality</td>\n",
       "      <td>Semi-cooked food delivery app</td>\n",
       "      <td>Mumbai</td>\n",
       "      <td>Rhodium Trust, Accel Partners and Swiggy</td>\n",
       "      <td>Series C</td>\n",
       "      <td>2,747,045.20</td>\n",
       "    </tr>\n",
       "    <tr>\n",
       "      <th>10</th>\n",
       "      <td>4</td>\n",
       "      <td>17/02/2021</td>\n",
       "      <td>Zolve</td>\n",
       "      <td>FinTech</td>\n",
       "      <td>Global Neobank Venture</td>\n",
       "      <td>Mumbai</td>\n",
       "      <td>Accel Partners and Lightspeed Venture Partners</td>\n",
       "      <td>Seed</td>\n",
       "      <td>1,50,00,000</td>\n",
       "    </tr>\n",
       "    <tr>\n",
       "      <th>11</th>\n",
       "      <td>5</td>\n",
       "      <td>15/02/2021</td>\n",
       "      <td>KreditBee</td>\n",
       "      <td>Finance</td>\n",
       "      <td>Digital lending platform</td>\n",
       "      <td>Bengaluru</td>\n",
       "      <td>Azim Premji’s PremjiInvest and South Korea’s M...</td>\n",
       "      <td>Series C</td>\n",
       "      <td>75,000,000</td>\n",
       "    </tr>\n",
       "    <tr>\n",
       "      <th>12</th>\n",
       "      <td>6</td>\n",
       "      <td>12/02/2021</td>\n",
       "      <td>Pepperfry</td>\n",
       "      <td>E-commerce</td>\n",
       "      <td>Multi-brand furniture brand</td>\n",
       "      <td>Mumbai</td>\n",
       "      <td>InnoVen Capital</td>\n",
       "      <td>Debt Financing</td>\n",
       "      <td>4,773,958</td>\n",
       "    </tr>\n",
       "    <tr>\n",
       "      <th>13</th>\n",
       "      <td>7</td>\n",
       "      <td>12/02/2021</td>\n",
       "      <td>Grofers</td>\n",
       "      <td>E-Commerce</td>\n",
       "      <td>Online supermarket</td>\n",
       "      <td>Gurgaon</td>\n",
       "      <td>SoftBank Vision Fund (SVF)</td>\n",
       "      <td>Unspecified</td>\n",
       "      <td>55,000,000</td>\n",
       "    </tr>\n",
       "    <tr>\n",
       "      <th>14</th>\n",
       "      <td>8</td>\n",
       "      <td>09/02/2021</td>\n",
       "      <td>Nothing</td>\n",
       "      <td>Technology</td>\n",
       "      <td>Consumer Technology Venture</td>\n",
       "      <td>London</td>\n",
       "      <td>GV</td>\n",
       "      <td>Series A</td>\n",
       "      <td>15,000,000</td>\n",
       "    </tr>\n",
       "    <tr>\n",
       "      <th>15</th>\n",
       "      <td>9</td>\n",
       "      <td>09/02/2021</td>\n",
       "      <td>SplashLearn</td>\n",
       "      <td>EdTech</td>\n",
       "      <td>Game-based learning programme</td>\n",
       "      <td>Gurgaon</td>\n",
       "      <td>Owl Ventures</td>\n",
       "      <td>Series C</td>\n",
       "      <td>18,000,000</td>\n",
       "    </tr>\n",
       "    <tr>\n",
       "      <th>16</th>\n",
       "      <td>1</td>\n",
       "      <td>15/01/2021</td>\n",
       "      <td>Digit Insurance</td>\n",
       "      <td>Financial Services</td>\n",
       "      <td>Insurance Services</td>\n",
       "      <td>Bengaluru</td>\n",
       "      <td>A91 Partners, Faering Capital, TVS Capital Funds</td>\n",
       "      <td>Venture</td>\n",
       "      <td>1,80,00,000</td>\n",
       "    </tr>\n",
       "    <tr>\n",
       "      <th>17</th>\n",
       "      <td>2</td>\n",
       "      <td>28/01/2021</td>\n",
       "      <td>Bombay Shaving Company</td>\n",
       "      <td>Consumer Goods Company</td>\n",
       "      <td>Shave care, beard care, and skincare products</td>\n",
       "      <td>New Delhi</td>\n",
       "      <td>Reckitt Benckiser</td>\n",
       "      <td>Venture</td>\n",
       "      <td>6,172,258.50</td>\n",
       "    </tr>\n",
       "    <tr>\n",
       "      <th>18</th>\n",
       "      <td>3</td>\n",
       "      <td>19/01/2021</td>\n",
       "      <td>DeHaat</td>\n",
       "      <td>AgriTech Startup</td>\n",
       "      <td>online marketplace for farm products and services</td>\n",
       "      <td>Patna</td>\n",
       "      <td>Prosus Ventures</td>\n",
       "      <td>Series C</td>\n",
       "      <td>30,000,000</td>\n",
       "    </tr>\n",
       "    <tr>\n",
       "      <th>19</th>\n",
       "      <td>4</td>\n",
       "      <td>19/01/2021</td>\n",
       "      <td>Darwinbox</td>\n",
       "      <td>SaaS</td>\n",
       "      <td>HR Tech</td>\n",
       "      <td>Mumbai</td>\n",
       "      <td>Salesforce Ventures</td>\n",
       "      <td>Seed</td>\n",
       "      <td>15,000,000</td>\n",
       "    </tr>\n",
       "    <tr>\n",
       "      <th>20</th>\n",
       "      <td>5</td>\n",
       "      <td>18/01/2021</td>\n",
       "      <td>mfine</td>\n",
       "      <td>Health Tech Startup</td>\n",
       "      <td>AI-powered telemedicine mobile app</td>\n",
       "      <td>Bengaluru</td>\n",
       "      <td>Heritas Capital Management</td>\n",
       "      <td>Venture Round</td>\n",
       "      <td>16,000,000</td>\n",
       "    </tr>\n",
       "    <tr>\n",
       "      <th>21</th>\n",
       "      <td>6</td>\n",
       "      <td>18/01/2021</td>\n",
       "      <td>Udayy</td>\n",
       "      <td>EdTech</td>\n",
       "      <td>Online learning platform for kids in class 1-5</td>\n",
       "      <td>Gurgaon</td>\n",
       "      <td>Sequoia Capital</td>\n",
       "      <td>Seed Funding</td>\n",
       "      <td>15,000,000</td>\n",
       "    </tr>\n",
       "    <tr>\n",
       "      <th>22</th>\n",
       "      <td>7</td>\n",
       "      <td>11/01/2021</td>\n",
       "      <td>True Elements</td>\n",
       "      <td>Food Startup</td>\n",
       "      <td>Whole Food plant based Nashta</td>\n",
       "      <td>Pune</td>\n",
       "      <td>SIDBI Venture Capital</td>\n",
       "      <td>Series</td>\n",
       "      <td>100,000,000</td>\n",
       "    </tr>\n",
       "    <tr>\n",
       "      <th>23</th>\n",
       "      <td>8</td>\n",
       "      <td>13/01/2021</td>\n",
       "      <td>Saveo</td>\n",
       "      <td>B2B E-commerce</td>\n",
       "      <td>Pharmacies</td>\n",
       "      <td>Bengaluru</td>\n",
       "      <td>Matrix Partners India, RTP Global, others</td>\n",
       "      <td>Seed</td>\n",
       "      <td>4,000,000</td>\n",
       "    </tr>\n",
       "  </tbody>\n",
       "</table>\n",
       "</div>"
      ],
      "text/plain": [
       "   Sr No.        Date            Startup Name       Industry Vertical  \\\n",
       "0       1  04/03/2021               DealShare              E-commerce   \n",
       "1       2  31/03/2021                Uniphore              Technology   \n",
       "2       3  30/03/2021                   Dunzo              E-commerce   \n",
       "3       4  30/03/2021                  BYJU’S                Edu-tech   \n",
       "4       5  23/03/2021             SkilloVilla                Edu-tech   \n",
       "5       6  25/03/2021                CityMall              E-commerce   \n",
       "6       7  26/03/2021                   DotPe                 FinTech   \n",
       "7       1  11/02/2021                Doubtnut                Edu Tech   \n",
       "8       2  22/02/2021                  Zomato             Hospitality   \n",
       "9       3  19/02/2021               Fingerlix             Hospitality   \n",
       "10      4  17/02/2021                   Zolve                 FinTech   \n",
       "11      5  15/02/2021               KreditBee                 Finance   \n",
       "12      6  12/02/2021               Pepperfry              E-commerce   \n",
       "13      7  12/02/2021                 Grofers              E-Commerce   \n",
       "14      8  09/02/2021                 Nothing              Technology   \n",
       "15      9  09/02/2021             SplashLearn                  EdTech   \n",
       "16      1  15/01/2021         Digit Insurance      Financial Services   \n",
       "17      2  28/01/2021  Bombay Shaving Company  Consumer Goods Company   \n",
       "18      3  19/01/2021                  DeHaat        AgriTech Startup   \n",
       "19      4  19/01/2021               Darwinbox                    SaaS   \n",
       "20      5  18/01/2021                   mfine     Health Tech Startup   \n",
       "21      6  18/01/2021                   Udayy                  EdTech   \n",
       "22      7  11/01/2021           True Elements            Food Startup   \n",
       "23      8  13/01/2021                   Saveo          B2B E-commerce   \n",
       "\n",
       "                                         Sub Vertical      City/Location  \\\n",
       "0                            Online shopping platform  Jaipur, Rajasthan   \n",
       "1             Conversational Service Automation (CSA)          Palo Alto   \n",
       "2                            Hyper-local delivery app          Bengaluru   \n",
       "3                                     Online tutoring          Bengaluru   \n",
       "4                 Career and job-oriented upskilling.          Bengaluru   \n",
       "5        Social ecommerce and online grocery platform            Gurgaon   \n",
       "6   Commerce and payments platform to offline ente...            Gurgaon   \n",
       "7                                 E-Learning Platform            Gurgaon   \n",
       "8                       Online Food Delivery Platform            Gurgaon   \n",
       "9                       Semi-cooked food delivery app             Mumbai   \n",
       "10                             Global Neobank Venture             Mumbai   \n",
       "11                           Digital lending platform          Bengaluru   \n",
       "12                        Multi-brand furniture brand             Mumbai   \n",
       "13                                 Online supermarket            Gurgaon   \n",
       "14                        Consumer Technology Venture             London   \n",
       "15                      Game-based learning programme            Gurgaon   \n",
       "16                                 Insurance Services          Bengaluru   \n",
       "17      Shave care, beard care, and skincare products          New Delhi   \n",
       "18  online marketplace for farm products and services              Patna   \n",
       "19                                            HR Tech             Mumbai   \n",
       "20                 AI-powered telemedicine mobile app          Bengaluru   \n",
       "21     Online learning platform for kids in class 1-5            Gurgaon   \n",
       "22                      Whole Food plant based Nashta               Pune   \n",
       "23                                         Pharmacies          Bengaluru   \n",
       "\n",
       "                                        Investor Name Investment Type  \\\n",
       "0                                     Innoven Capital  Debt Financing   \n",
       "1                           Sorenson Capital Partners        Series D   \n",
       "2                           Krishtal Advisors Pte Ltd        Series E   \n",
       "3          MC Global Edtech, B Capital, Baron, others        Series F   \n",
       "4                               Titan Capital, others            Seed   \n",
       "5                                      Accel Partners        Series A   \n",
       "6                                                PayU        Series A   \n",
       "7   SIG Global, Sequoia Capital, WaterBridge Ventu...        Series B   \n",
       "8                                  Tiger Global, Kora         Venture   \n",
       "9            Rhodium Trust, Accel Partners and Swiggy        Series C   \n",
       "10     Accel Partners and Lightspeed Venture Partners            Seed   \n",
       "11  Azim Premji’s PremjiInvest and South Korea’s M...        Series C   \n",
       "12                                    InnoVen Capital  Debt Financing   \n",
       "13                         SoftBank Vision Fund (SVF)     Unspecified   \n",
       "14                                                 GV        Series A   \n",
       "15                                       Owl Ventures        Series C   \n",
       "16   A91 Partners, Faering Capital, TVS Capital Funds         Venture   \n",
       "17                                  Reckitt Benckiser         Venture   \n",
       "18                                    Prosus Ventures        Series C   \n",
       "19                                Salesforce Ventures            Seed   \n",
       "20                         Heritas Capital Management   Venture Round   \n",
       "21                                    Sequoia Capital    Seed Funding   \n",
       "22                              SIDBI Venture Capital          Series   \n",
       "23          Matrix Partners India, RTP Global, others            Seed   \n",
       "\n",
       "   Amount(in USD)  \n",
       "0     250,000,000  \n",
       "1     140,000,000  \n",
       "2       8,000,000  \n",
       "3     460,000,000  \n",
       "4     300,000,000  \n",
       "5      11,000,000  \n",
       "6      27,500,000  \n",
       "7       2,500,000  \n",
       "8     250,000,000  \n",
       "9    2,747,045.20  \n",
       "10    1,50,00,000  \n",
       "11     75,000,000  \n",
       "12      4,773,958  \n",
       "13     55,000,000  \n",
       "14     15,000,000  \n",
       "15     18,000,000  \n",
       "16    1,80,00,000  \n",
       "17   6,172,258.50  \n",
       "18     30,000,000  \n",
       "19     15,000,000  \n",
       "20     16,000,000  \n",
       "21     15,000,000  \n",
       "22    100,000,000  \n",
       "23      4,000,000  "
      ]
     },
     "execution_count": 123,
     "metadata": {},
     "output_type": "execute_result"
    }
   ],
   "source": [
    "df = pd.DataFrame({'Sr No.':sr,'Date':date,'Startup Name':strt,'Industry Vertical':ind,'Sub Vertical':sub,'City/Location':city,'Investor Name':inv_name,'Investment Type':inv_type,'Amount(in USD)':amount})\n",
    "\n",
    "df"
   ]
  },
  {
   "cell_type": "code",
   "execution_count": 124,
   "id": "5bff643b",
   "metadata": {},
   "outputs": [],
   "source": [
    "driver.close()"
   ]
  },
  {
   "cell_type": "code",
   "execution_count": null,
   "id": "7d72c55f",
   "metadata": {},
   "outputs": [],
   "source": []
  },
  {
   "cell_type": "code",
   "execution_count": null,
   "id": "b66a31bd",
   "metadata": {},
   "outputs": [],
   "source": []
  },
  {
   "cell_type": "code",
   "execution_count": null,
   "id": "4830b263",
   "metadata": {},
   "outputs": [],
   "source": []
  },
  {
   "cell_type": "code",
   "execution_count": null,
   "id": "4f95d278",
   "metadata": {},
   "outputs": [],
   "source": [
    "# Q no -- 5"
   ]
  },
  {
   "cell_type": "code",
   "execution_count": 4,
   "id": "4758190e",
   "metadata": {},
   "outputs": [
    {
     "data": {
      "text/plain": [
       "<selenium.webdriver.chrome.webdriver.WebDriver (session=\"0384842ada3a99ca3f2d1cea6211307e\")>"
      ]
     },
     "execution_count": 4,
     "metadata": {},
     "output_type": "execute_result"
    }
   ],
   "source": [
    "driver = webdriver.Chrome(r'C:\\Users\\user\\chromedriver.exe')\n",
    "\n",
    "driver"
   ]
  },
  {
   "cell_type": "code",
   "execution_count": 5,
   "id": "0b79a6af",
   "metadata": {},
   "outputs": [],
   "source": [
    "url = 'https://googlemaps.com/'\n",
    "\n",
    "driver.get(url)"
   ]
  },
  {
   "cell_type": "code",
   "execution_count": 16,
   "id": "a0f7cf46",
   "metadata": {},
   "outputs": [],
   "source": [
    "coor = driver.find_element(By.XPATH,'//div[@class=\"vasquette id-app-container y2iKwd cSgCkb xcUKcd pane-open-mode\"]')"
   ]
  },
  {
   "cell_type": "code",
   "execution_count": 18,
   "id": "817d2569",
   "metadata": {},
   "outputs": [
    {
     "data": {
      "text/plain": [
       "'Restaurants\\nHotels\\nThings to do\\nMuseums\\nTransit\\nPharmacies\\nATMs\\nMeerut\\nमेरठ\\nUttar Pradesh\\nSunny · 19°C\\n10:27 AM\\nDirections\\nSave\\nNearby\\nSend to phone\\nShare\\nQuick facts\\nMeerut is a city in Meerut district of the western part of the Indian state of Uttar Pradesh. The city lies 80 km northeast of the national capital New Delhi, within the National Capital Region and 480 km west of the state capital Lucknow.Wikipedia\\nHotels\\nAbout pricing\\n₹2,675\\nSign in\\nLayers\\nMap data ©2022 IndiaTermsPrivacySend feedback\\n2 km'"
      ]
     },
     "execution_count": 18,
     "metadata": {},
     "output_type": "execute_result"
    }
   ],
   "source": [
    "coor.text"
   ]
  },
  {
   "cell_type": "code",
   "execution_count": null,
   "id": "49ee7569",
   "metadata": {},
   "outputs": [],
   "source": [
    "# unable to find coordinates"
   ]
  },
  {
   "cell_type": "code",
   "execution_count": null,
   "id": "085c0ab4",
   "metadata": {},
   "outputs": [],
   "source": []
  },
  {
   "cell_type": "code",
   "execution_count": null,
   "id": "8f2484c7",
   "metadata": {},
   "outputs": [],
   "source": []
  },
  {
   "cell_type": "code",
   "execution_count": null,
   "id": "ab1f61fa",
   "metadata": {},
   "outputs": [],
   "source": []
  },
  {
   "cell_type": "code",
   "execution_count": null,
   "id": "b3414dd3",
   "metadata": {},
   "outputs": [],
   "source": []
  },
  {
   "cell_type": "code",
   "execution_count": null,
   "id": "68a5a064",
   "metadata": {},
   "outputs": [],
   "source": []
  }
 ],
 "metadata": {
  "kernelspec": {
   "display_name": "Python 3 (ipykernel)",
   "language": "python",
   "name": "python3"
  },
  "language_info": {
   "codemirror_mode": {
    "name": "ipython",
    "version": 3
   },
   "file_extension": ".py",
   "mimetype": "text/x-python",
   "name": "python",
   "nbconvert_exporter": "python",
   "pygments_lexer": "ipython3",
   "version": "3.9.12"
  }
 },
 "nbformat": 4,
 "nbformat_minor": 5
}
